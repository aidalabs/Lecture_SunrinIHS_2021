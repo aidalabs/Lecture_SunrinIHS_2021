{
  "nbformat": 4,
  "nbformat_minor": 0,
  "metadata": {
    "colab": {
      "provenance": [],
      "toc_visible": true
    },
    "kernelspec": {
      "name": "python3",
      "display_name": "Python 3"
    },
    "language_info": {
      "name": "python"
    }
  },
  "cells": [
    {
      "cell_type": "markdown",
      "source": [
        "# **API 문서화(API Documentation)**"
      ],
      "metadata": {
        "id": "Mt_A69xuNg3b"
      }
    },
    {
      "cell_type": "markdown",
      "source": [
        "## **1. API 문서화 개요**"
      ],
      "metadata": {
        "id": "z4LL3Wp4Nkpy"
      }
    },
    {
      "cell_type": "markdown",
      "source": [
        "### 1.1 API(Application Programming Interface, 응용 프로그램 인터페이스)"
      ],
      "metadata": {
        "id": "V6qb1zicBzh7"
      }
    },
    {
      "cell_type": "markdown",
      "source": [
        "- API는 서버와 클라이언트(사용자)의 중간에서 원활하게 데이터를 주고받을 수 있게끔 매개체의 역할을 수행\n",
        "    - 사용자가 무엇을 요청할 수 있는지 알려주고, 그 요청이 제대로 전달되었는지 확인하고, 응답까지 전달\n",
        "- API는 쉽게 비유하자면 식당의 메뉴판과 같음\n",
        "    - 클라이언트인 사용자는 주방에서 어떤 일이 일어나는지 자세히 알 필요 없이 메뉴판에 적힌 메뉴를 선택하고 서버에게 요청을 보내기만 하면 됨\n",
        "- 현대 소프트웨어 개발 환경에서 API는 필수적인 요소로 자리 매김\n",
        "    - API를 통해 더욱 빠르고 효율적인 개발이 가능\n",
        "    - 각 기능을 독립적으로 분리하여 개발의 복잡도를 줄이고 유지보수를 용이하게 함\n",
        "    - 이미 개발된 API를 다양한 애플리케이션에 재사용할 수 있어 시간과 비용을 절감할 수 있음"
      ],
      "metadata": {
        "id": "ndoW9NoOCRuE"
      }
    },
    {
      "cell_type": "markdown",
      "source": [
        "### 1.2 API 문서(API Documents)"
      ],
      "metadata": {
        "id": "UoqUncn_C6Mr"
      }
    },
    {
      "cell_type": "markdown",
      "source": [
        "- API 문서\n",
        "    - 특정 서비스의 API를 이용하는 개발자를 위한 사용 설명서\n",
        "    - 다양한 API들을 한 곳에 모아두고 사용 방법 및 환경 등 기본적인 정보를 제공gka\n",
        "    - 예시\n",
        "        - 클라우드 플랫폼에서는 클라우드 서비스를 원활하게 이용할 수 있도록 사용 가이드와 API 가이드를 함께 제공함\n",
        "        - 개발자들, 즉 고객들은 원하는 기능을 소프트웨어에 구현하기 위해 이를 참고하여 개발함"
      ],
      "metadata": {
        "id": "gV7XGwHeDEEo"
      }
    },
    {
      "cell_type": "markdown",
      "source": [
        "- API 문서의 필요성\n",
        "    - API가 제공하는 다양한 기능과 각 기능의 역할을 정확하게 파악하여 이를 응용할 수 있음\n",
        "    - API의 호출 방법, 데이터 형식, 요청(Request) 시 필요한 파라미터와 그 역할, 응답(Response) 결과 등을 상세하게 설명하고, 예시 코드를 통해 실제 사용 방법을 보여주어 개발자와 사용자의 이해를 도와줌\n",
        "    - 오류 코드 및 메시지 등을 통해 API 사용 중 발생 가능한 오류에 대한 정보를 제공하고, 문제를 빠르게 진단할 수 있도록 도와줌\n",
        "    - 해결 방법을 제공하는 경우도 있음\n",
        "    - 이 외에도 여러 개발자가 협업 시 동일한 API 문서를 참고함으로써 개발 과정과 결과의 일관성을 확보할 수 있어 개발 생산성을 향상시킬 수 있음"
      ],
      "metadata": {
        "id": "wUJYxNFEDfkS"
      }
    },
    {
      "cell_type": "markdown",
      "source": [
        "- 좋은 API 문서의 핵심 요소\n",
        "    - 좋은 API 문서는 단순한 사용 설명서를 넘어, 복잡한 개념을 명확하게 전달하고 다양한 사용 예시를 제공하여 개발자들이 API를 최대한 활용할 수 있도록 도와야 함\n",
        "    <br><br>\n",
        "\n",
        "    - **가독성**\n",
        "        - 기술적인 문서일수록 복잡하고 전문적인 용어가 많아지기 쉬워 자칫 어렵고 이해하기 힘듦\n",
        "        - 따라서 API 문서를 작성할 때에는 독자, 즉 개발자와 사용자가 쉽게 읽고 이해할 수 있도록 해야 함\n",
        "            - 문서 내의 제목, 부제목, 리스트 등을 활용해 시각적으로 쾌적하게 구성\n",
        "            - 도표나 플로우 차트 등을 활용\n",
        "        - 가독성이 좋은 문서는 API 문서의 접근성을 높이고, 사용자의 만족도를 향상시킬 수 있음\n",
        "            - Swagger, Postman, Document360 등 다양한 API 문서 작성 툴에는 기본적인 불렛팅(bulleting, 하위 문서 목록화) 세팅이 되어 있으니, 이를 활용하는 것도 좋음\n",
        "    <br><br>\n",
        "    - **목적성**\n",
        "        - 문서의 서두에서 API의 핵심을 명확하게 제시하여 목적성을 드러내야 함\n",
        "            - 사용자가 문서를 처음 접했을 때 해당 API의 역할 및 기능을 직관적으로 이해할 수 있어야 함\n",
        "            - API의 기능과 사용 목적을 도입문 등 서두에 두괄식으로 배치하는 방법이 가장 효과적\n",
        "        - API가 어떤 문제를 해결할 수 있는지, 어떤 상황에서 사용될 수 있는지 바로 파악할 수 있도록 돕는 것이 중요함\n",
        "            - 이는 사용자가 API의 적절한 사용 상황을 쉽게 떠올릴 수 있게 해줌\n",
        "            - 사용자가 해결하고자 하는 문제에 API를 활용할 수 있는지 판단하는 데 도움을 줌\n",
        "        - 목적성이 명확하지 않은 문서\n",
        "            - 사용자에게 혼란을 줄 수 있음\n",
        "            - API의 주요 기능과 용도를 달리 이해하는 상황을 초래할 수 있음\n",
        "        - 목적성이 명확한 문서\n",
        "            - API의 각 기능이 전체 시스템 내에서 어떻게 연결되고, 어떤 역할을 수행하는지 이해하는 데 큰 도움이 됨\n",
        "    <br><br>\n",
        "    - **간결성**\n",
        "        - API 문서는 복잡한 기술에 대한 세부 사항을 포함하고 있기 때문에, 간결하게 적는 것이 좋음\n",
        "            - 일반적으로 개발자 및 사용자는 API 문서에 장대한 설명을 기대하지 않음\n",
        "            - 여러 가지 기능, 메서드, 데이터 구조 등 필요한 부분만 골라서 읽으려는 경향이 강함\n",
        "        - 길고 복잡한 문서\n",
        "            - 원하는 정보를 찾는 데 많은 시간이 소요됨\n",
        "            - 전체 내용을 파악하는 데 어려움을 겪을 수 있음\n",
        "        - 간결한 문서\n",
        "            - 핵심적인 내용에 집중하여 불필요한 설명을 최소화\n",
        "            - 불필요한 세부 사항이나 중복된 설명을 배제하여 문서의 효율성을 높임\n",
        "            - 문서 탐색에 시간을 덜 소모함 → 실제 개발 작업에 더 많은 시간을 할애 → 효율성 향상\n",
        "        - 간결성은 단시간 내에 빠르게 API를 이해하고 적용해야 하는 개발자들이 협업하는 상황에서 매우 중요함\n",
        "    <br><br>\n",
        "    - **체계성**\n",
        "        - API 문서는 체계적으로 정리될수록 완성도가 높아짐\n",
        "        - 체계적 구성\n",
        "            - 문서의 구조가 명확하게 일관되게 정리되어 있어야 한다는 것을 의미\n",
        "            - 사용자가 필요로 하는 정보를 쉽게 찾을 수 있도록 목차를 설계하고, 엔드포인트, 요청 및 응답 형식, 오류 코드 등의 정보를 각 섹션을 논리적으로 배열해야 함\n",
        "            - 사용자가 필요한 정보를 빠르게 찾고, 효율적인 개발 환경을 조성하는 데 도움이 됨\n",
        "            - API의 변경 사항이나 업데이트 관리에도 유리\n",
        "            - 새로운 기능의 추가나 수정 시에도 문서의 일관성 유지가 용이\n",
        "                - 개발자와 사용자는 항상 최신 정보를 확인할 수 있음\n",
        "                - API를 효과적으로 활용하는 데 필요한 시간 절약\n",
        "        - API 문서의 체계성은 사용자 경험을 향상시키며, 개발자들이 더욱 생산적으로 작업할 수 있는 기반을 제공함\n",
        "    <br><br>\n",
        "    - **일관성**\n",
        "        - 좋은 API 문서의 핵심 요소의 하나\n",
        "        - 일관된 스타일과 용어의 사용\n",
        "            - 문서에 통일감을 줌\n",
        "            - 동시에 작성자의 전문성을 높임\n",
        "            - 더 빠르고 효율적인 활용이 가능하게 함\n",
        "            - 예시\n",
        "                - 파라미터의 명명 규칙이 일관되지 않거나 응답 데이터의 구조가 실제 예시와 다르게 제공된다면\n",
        "                    - API 문서를 사용하는 데 어려움을 겪을 수 있음\n",
        "                - 모든 파라미터에 대한 설명이 일관되게 작성되면\n",
        "                    - 개발자는 특정 기능을 찾기 위한 시간을 줄일 수 있으며\n",
        "                    - API의 전반적인 구조를 상대적으로 빠르게 파악할 수 있음\n",
        "                - 오류 메시지나 상태 코드의 설명 역시 일관성을 유지한다면\n",
        "                    - 오류 원인을 좀 더 수월하게 해결할 수 있음\n",
        "        - 일관된 문서\n",
        "            - 신뢰성을 높이며\n",
        "            - 개발자와 사용자의 API 사용성을 향상시킴\n",
        "    <br><br>\n",
        "    - **사용자 친화적(User-friendly) 관점**\n",
        "        - 문서 작성 시 사용자의 필요를 최우선을 고려해야 함\n",
        "            - 사용자 친화적인 관점을 고려해야 함\n",
        "            - 기술 용어에 대한 간단한 설명 추가 및 쉬운 용어로 대체하여 개발자와 사용자가 내용을 쉽게 이해하도록 해야 함\n",
        "                - API 문서를 읽는 사용자는 다양한 기술 수준을 가지고 있다는 사실\n",
        "            - 주니어 개발자와 시니어 개발자, 그리고 일반 사용자가 모두 이해할 수 있는 보편적인 언어와 설명 방식을 사용하며 접근성을 높일 수 있음\n",
        "            - 개발자와 사용자가 작업 중 해당 문서를 참고하게 되는 시점을 파악하여 문서를 작성하는 것도 좋음\n",
        "                - 사용자가 문서를 API 초기 설정 시 읽게 되는지, 혹은 오류가 발생했을 때 읽게 되는지 등 다양한 상황을 고려한다면 더욱 사용자가 읽기 쉬운 API 문서를 작성할 수 있음\n",
        "    <br><br>\n",
        "    - **다양한 예시**\n",
        "        - 다양한 사용 예시를 포함하는 것 역시 좋은 API 문서 작성을 위해서 필요함\n",
        "            - 요청/응답 파라미터, 헤더, 예시 코드 등을 통해 API의 동작 원리와 사용 방법을 더 잘 이해할 수 있도록 함\n",
        "            - API의 활용 가능성을 넓힐 수 있음\n",
        "        - JSON, XML 등 형식의 구체적인 예시 코드는 단순한 설명만으로는 이해하기 어려운 부분을 명확하게 전달할 수 있음\n",
        "        - 개발자 및 사용자는 예시를 통해 API가 실제로 적용되는 상황을 직접 확인할 수 있음\n",
        "        - Java, Python 등 프로그래밍 언어로 작성된 실행 가능한 코드 스니펫 형태의 예시 코드는 사용자가 몇 가지 간단한 값만 입력한다면 바로 테스트해 볼 수 있어 API의 활용도를 높이고, 사용자가 겪을 수 있는 혼란을 줄일 수 있음"
      ],
      "metadata": {
        "id": "sk05Az2qD5JQ"
      }
    },
    {
      "cell_type": "markdown",
      "source": [
        "### 1.1 API 문서화란?"
      ],
      "metadata": {
        "id": "vNMZ_jCZNqHI"
      }
    },
    {
      "cell_type": "markdown",
      "source": [
        "- 클라이언트가 REST API 애플리케이션에 요청을 전송하기 위해 필요한 정보를 정리하여 문서화하는 과정\n",
        "- API 문서화는 개발자가 API를 쉽게 이해하고 올바르게 사용할 수 있도록 돕는 중요한 과정\n",
        "- API 문서화를 통해 개발자 간의 소통을 원활하게 하고, API의 변경 사항을 쉽게 전달할 수 있음\n",
        "- 문서화 과정은 API의 품질을 결정짓는 중요한 요소이기 때문에 개발 프로젝트의 성공에 있어 필수적인 요소임\n",
        "<br><br>\n",
        "- 잘 작성된 API 문서\n",
        "    - 개발 생산성을 높이고\n",
        "    - API의 채택률을 증가시키며\n",
        "    - 신속한 문제 해결을 지원함"
      ],
      "metadata": {
        "id": "cku49Fs_N5La"
      }
    },
    {
      "cell_type": "markdown",
      "source": [
        "### 1.2 API 문서화의 주요 구성 요소"
      ],
      "metadata": {
        "id": "rl4KhVLnwQQb"
      }
    },
    {
      "cell_type": "markdown",
      "source": [
        "1. API 개요 및 소개\n",
        "   - API의 기능과 목적을 간단히 설명함\n",
        "   - 예시\n",
        "    - 고객 정보를 조회하는 API: 고객의 기본 정보, 연락처, 구매 내역 등을 확인할 수 있음\n",
        "\n",
        "<br>\n",
        "\n",
        "2. 인증 정보\n",
        "    - API 호출 시 필요한 인증 방법(API 키, OAuth, JWT 등)과 절차를 설명함\n",
        "    - 예시\n",
        "        - API 키\n",
        "            -회원 가입 후 마이페이지에서 발급받을 수 있음\n",
        "            - 헤더에 'X-API-Key' 항목으로 모든 요청에 포함되어야 함\n",
        "\n",
        "<br>\n",
        "\n",
        "3. 엔드포인트\n",
        "    - API의 각 기능에 접근하기 위한 URI와 엔드포인트의 HTTP 메서드(GET, POST, PUT, DELETE 등)를 명시함\n",
        "    - 예시\n",
        "        ```\n",
        "        GET /customers/{customerId}\n",
        "        ```\n",
        "\n",
        "<br>\n",
        "\n",
        "4. 요청 및 응답 형식\n",
        "    - 요청 시 필요한 파라미터(쿼리, 경로, 헤더, 바디)와 API 응답 구조를 설명함\n",
        "    - 예시\n",
        "        - 요청 파라미터의 종류, 필드명, 필수 여부, 기본값, 설명 등을 포함함\n",
        "\n",
        "|필드|타입|필수 여부|설명|\n",
        "|---|---|---|---|\n",
        "|name|String|Required|조회할 고객 이름|\n",
        "|email|String|Optional|조회할 고객의 메일 주소<br><br>이메일 형식으로 입력|\n",
        "\n",
        "<br>\n",
        "\n",
        "5. 예제 코드\n",
        "    - 요청과 예상되는 응답에 대한 샘플 코드를 제공함\n",
        "    - 예시\n",
        "        - 요청\n",
        "            ```\n",
        "            GET /customers\n",
        "            Host: api.example.com\n",
        "            Authorization: Bearer {access_tocken}\n",
        "\n",
        "            {\n",
        "                \"name\": \"김철수\"\n",
        "                \"email\": \"kim@example.com\"\n",
        "            }\n",
        "            ```\n",
        "        - 응답\n",
        "            ```json\n",
        "            {\n",
        "                \"customer_id\": \"12345\",\n",
        "                \"name\": \"김철수\",\n",
        "                \"email\": \"kim@example.com\",\n",
        "                \"phone\": \"010-1234-5678\",\n",
        "                \"created_at\": \"2024-09-13T00:00:00Z\"\n",
        "            }\n",
        "            ```\n",
        "<br>\n",
        "\n",
        "6. 에러 코드 및 처리 방법:\n",
        "    - API 사용 중 발생할 수 있는 에러 코드와 발생 원인 및 처리 방법을 설명함\n",
        "    - 예시\n",
        "        ```\n",
        "        404 Not Found - 요청한 리소스를 찾을 수 없습니다.\n",
        "        ```\n",
        "\n",
        "|HTTP 상태코드|에러코드|에러 메시지|설명|\n",
        "|---|---|---|---|\n",
        "|400|InvalidRequest|The name field is required|name이 누락됨<br><br>처리방법: Body에 name 값 입력|\n",
        "\n",
        "<br>\n",
        "\n",
        "7. 기타\n",
        "    - 이 외에도 사용자가 더 깊이 있는 정보를 얻을 수 있도록 API 버전 관리, FAQ, 관련 문서 링크, 커뮤니티 경로 등을 제공할 수 있음\n",
        "    - 이러한 구성 요소를 포함한 API 가이드를 작성할 때는 명확하고 간결한 언어 사용, 일관된 스타일 사용, 논리적 구조 사용, 정확한 정보 및 예제 사용과 같은 주의 사항 및 핵심 요소들을 잘 지켜서 작성해야 함"
      ],
      "metadata": {
        "id": "X7VsW_-swVYU"
      }
    },
    {
      "cell_type": "markdown",
      "source": [
        "### 1.3 API 문서화의 중요성"
      ],
      "metadata": {
        "id": "24vchbbVzG26"
      }
    },
    {
      "cell_type": "markdown",
      "source": [
        "- 생산성 향상\n",
        "    - 명확하고 체계적인 정보를 제공하여 개발자가 필요한 정보를 쉽게 찾아 활용할 수 있게 함\n",
        "    - 요청과 응답에 대해 검증된 샘플 코드를 제공하여 사용자가 흔히 저지를 수 있는 실수를 사전에 방지할 수 있도록 함\n",
        "    - 이러한 특징은 API의 올바른 구현과 개발 시간 단축으로 생산성을 향상하는 데 기여함\n",
        "- API 채택률 증가\n",
        "    - 잘 작성된 문서는 사용자가 API를 빠르고 쉽게 이해하고 사용할 수 있어 채택률을 높임\n",
        "    - 이러한 특징은 API의 품질과 신뢰성을 보장하고 마케팅 도구로 활용하는 데 기여함\n",
        "- 신속한 문제 해결\n",
        "    - API 사용 시 발생할 수 있는 에러와 처리 방법을 제공하여 문제를 빠르게 해결할 수 있게 함\n",
        "    - 이러한 특징은 개발 시간을 단축하는 데 기여함\n",
        "- 일관된 사용 경험 제공\n",
        "    - 여러 팀이나 프로젝트에서 동일한 API를 규칙과 지침에 따라 일관되게 사용할 수 있게 함\n",
        "    - 이러한 특징은 코드의 유지 보수 및 확장을 용이하게 하며, 여러 사용자가 협업하는 상황에서의 혼란을 방지하는 데 기여함\n",
        "- 다양한 지원\n",
        "    - 제공되는 SDK, 라이브러리, 테스트 환경 등을 활용하여 API 기능을 쉽게 테스트할 수 있도록 지원함\n",
        "- 보안 강화\n",
        "    - 인증 정보와 인증 절차를 제공하고 사용 권한을 제한하여 보안위협으로부터 사용자를 보호함\n",
        "    - 이러한 특징은 API의 사용성과 보안을 강화하는 데 기여함\n",
        "- API 품질 보장\n",
        "    - 제공되는 변경 사항, 버전 업데이트 등의 정보를 통해 사용자가 API의 변경 사항을 개발에 적용하고 대처하여 API의 최신 상태를 유지할 수 있도록 함\n",
        "    - 제한 사항에 따라 API를 효율적으로 사용할 수 있도록 함\n",
        "    - 이러한 특징은 API의 호환성 문제와 과도한 요청으로 인한 서비스 중단 문제를 방지하는 데 기여함\n",
        "- 지속적인 개선\n",
        "    - 잘 작성된 API 가이드로 인해 사용자가 증가하면, 사용자의 커뮤니티를 통해 API를 사용하면서 발생하는 추가적인 문제에 대한 해결 방법과 API의 활용에 대한 새로운 사례를 발견할 수 있음\n",
        "    - 이러한 특징은 API를 지속적으로 개선하여 사용자 만족도를 증가시키고, 더 많은 사용자가 유입되는 데 기여함\n",
        "<br><br>\n",
        "- API 문서화는 단순한 사용 설명서를 넘어, 복잡한 개념을 명확하게 전달하고 다양한 사용 예시를 제공하여 개발자들이 API를 최대한 활용할 수 있도록 돕는 중요한 도구임"
      ],
      "metadata": {
        "id": "Z-txJ32KzTTd"
      }
    },
    {
      "cell_type": "markdown",
      "source": [
        "## **2. API 문서화 도구**"
      ],
      "metadata": {
        "id": "sTQmM1p3OGK8"
      }
    },
    {
      "cell_type": "markdown",
      "source": [
        "### 2.1 Swagger"
      ],
      "metadata": {
        "id": "sF7xExHuOJeX"
      }
    },
    {
      "cell_type": "markdown",
      "source": [
        "#### 2.1.1 Swagger 개요"
      ],
      "metadata": {
        "id": "7Ah1du68ZW_Y"
      }
    },
    {
      "cell_type": "markdown",
      "source": [
        "- 스웨거(Swagger)란?\n",
        "    - Web API 문서화를 위한 도구\n",
        "    - 스웨거 홈페이지(https://swagger.io)에서는 스웨거를 OAS(Open API Specification)라고 소개\n",
        "        - API들이 가지는 명세(Spec)을 관리하기 위한 프로젝트\n",
        "    - Web API를 수동으로 문서화 하는 것은?\n",
        "        - 굉장히 힘든 작업의 하나\n",
        "        - Web API의 스펙이 변경되었을 때 문서 역시 변경이 되야 하는데 이를 유지하는 것이 쉽지 않음\n",
        "        - Swagger를 사용하면 문서가 자동으로 갱신이 되기 때문에 Web API가 수정되더라도 상관 없음\n",
        "<br><br>\n",
        "- 스웨거의 기능(스웨거 홈페이지에 의하면)\n",
        "    - API Design\n",
        "    - API Development\n",
        "    - API Documentation\n",
        "    - API Testing\n",
        "    - API Mocking and Virtualization\n",
        "    - API Governance\n",
        "    - API Monitoring\n",
        "    - OpenAPI & Swagger\n",
        "<br><br>\n",
        "- 스웨거의 존재의의\n",
        "    - Web API를 만드는 개발자와 Web API를 이용하는 개발자가 있다고 생각해 보자.\n",
        "    - Web API를 이용하는 개발자는 Web API가 만들어질 때까지 기다린다면 작업이 상당히 느려질 수 있다.\n",
        "    - Web API를 만드는 사람과 Web API를 사용하는 사람 간에 미리 명세를 정의하고 공유할 수 있다면 개발이 상당히 편리해 질 것이다.\n",
        "    - 이를 가능하게 도구 중 하나가 Swagger 이다."
      ],
      "metadata": {
        "id": "hAbEtpnymk9k"
      }
    },
    {
      "cell_type": "markdown",
      "source": [
        "- 장점\n",
        "    - 아름다운 UI\n",
        "    - API 테스트 기능 제공\n",
        "- 단점\n",
        "    - 문서의 신뢰도를 높게 유지하기 어려움"
      ],
      "metadata": {
        "id": "YAXI-R4APTE3"
      }
    },
    {
      "cell_type": "markdown",
      "source": [
        "#### 2.1.2 Django-Swagger 기본 설정"
      ],
      "metadata": {
        "id": "kgfYsQWCZaxl"
      }
    },
    {
      "cell_type": "markdown",
      "source": [
        "[참조출처]\n",
        "<br>\n",
        "- https://backstreet-programmer.tistory.com/174\n",
        "- https://backstreet-programmer.tistory.com/175"
      ],
      "metadata": {
        "id": "8Bb5d6Cjl-B4"
      }
    },
    {
      "cell_type": "markdown",
      "source": [
        "- Django 프로젝트 생성"
      ],
      "metadata": {
        "id": "AMv3PzPCZfnx"
      }
    },
    {
      "cell_type": "code",
      "source": [
        "# 가상환경 생성 및 활성화\n",
        "$ python -m venv swagger\n",
        "$ cd swagger\n",
        "$ source ./bin/activate"
      ],
      "metadata": {
        "id": "pyiiWB_2Zucy"
      },
      "execution_count": null,
      "outputs": []
    },
    {
      "cell_type": "code",
      "source": [
        "# django 설치 및 프로젝트 생성\n",
        "$ pip install django\n",
        "$ django-admin startproject django_swagger ."
      ],
      "metadata": {
        "id": "0UxgGWxxaFlE"
      },
      "execution_count": null,
      "outputs": []
    },
    {
      "cell_type": "code",
      "source": [
        "# django 프레임워크 설치\n",
        "pip install djangorestframework"
      ],
      "metadata": {
        "id": "o1ngS0-faWCS"
      },
      "execution_count": null,
      "outputs": []
    },
    {
      "cell_type": "code",
      "source": [
        "# Swagger 설치 (drf-yasg)\n",
        "pip install drf-yasg"
      ],
      "metadata": {
        "id": "K1vz_J1Uag83"
      },
      "execution_count": null,
      "outputs": []
    },
    {
      "cell_type": "code",
      "source": [
        "# django_swagger/settings.py\n",
        "\n",
        "INSTALLED_APPS = [\n",
        "\t\t...\n",
        "    'rest_framework',\n",
        "    'drf_yasg',\n",
        "\t\t...\n",
        "]"
      ],
      "metadata": {
        "id": "nMqFCu2LangS"
      },
      "execution_count": null,
      "outputs": []
    },
    {
      "cell_type": "markdown",
      "source": [
        "- API 작성\n",
        "    - Swagger의 사용목적\n",
        "        - Restful API를 작성한 후\n",
        "        - Frontend-Backend 개발자 간 협업 시 발생하는 커뮤니케이션 비용의 최소화\n",
        "        - API 문서화의 실천을 위함"
      ],
      "metadata": {
        "id": "02znFFyvZjOL"
      }
    },
    {
      "cell_type": "code",
      "source": [
        "# django - app 생성\n",
        "django-admin startapp sample_swagger"
      ],
      "metadata": {
        "id": "1MnNpSG8bNDQ"
      },
      "execution_count": null,
      "outputs": []
    },
    {
      "cell_type": "code",
      "source": [
        "# sample_swagger/views.py\n",
        "# API 코드 작성\n",
        "\n",
        "from rest_framework import permissions\n",
        "from rest_framework.views import APIView\n",
        "from rest_framework.response import Response\n",
        "\n",
        "# Create your views here.\n",
        "class TestView(APIView):\n",
        "    permission_classes = [permissions.AllowAny]\n",
        "\n",
        "    def get(self, request):\n",
        "        return Response(\"Swagger 연동 테스트\")"
      ],
      "metadata": {
        "id": "YHKzE5brbRRR"
      },
      "execution_count": null,
      "outputs": []
    },
    {
      "cell_type": "code",
      "source": [
        "# sample_swagger/urls.py\n",
        "# sample_swagger 내부 urls.py 생성\n",
        "\n",
        "from django.urls import path\n",
        "from sample_swagger.views import TestView\n",
        "\n",
        "urlpatterns = [\n",
        "    path('v1/test/', TestView.as_view(), name='test'),\n",
        "]"
      ],
      "metadata": {
        "id": "qGG9NOWRbaGn"
      },
      "execution_count": null,
      "outputs": []
    },
    {
      "cell_type": "code",
      "source": [
        "# django_swagger/urls.py\n",
        "\n",
        "from django.contrib import admin\n",
        "from django.urls import include, path, re_path\n",
        "\n",
        "urlpatterns = [\n",
        "    path('admin', admin.site.urls),\n",
        "    path('api/', include(('sample_swagger.urls', 'api'))),\n",
        "]"
      ],
      "metadata": {
        "id": "v_4eS0G8bspI"
      },
      "execution_count": null,
      "outputs": []
    },
    {
      "cell_type": "code",
      "source": [
        "# django_swagger/urls.py\n",
        "# Swagger 세팅: 라이센스와 descriptions 관련된 내용\n",
        "\n",
        "from django.contrib import admin\n",
        "from django.urls import include, path, re_path\n",
        "from django.conf import settings\n",
        "from rest_framework import routers\n",
        "from rest_framework import permissions\n",
        "from drf_yasg.views import get_schema_view\n",
        "from drf_yasg import openapi\n",
        "\n",
        "router = routers.DefaultRouter()\n",
        "\n",
        "schema_view = get_schema_view(\n",
        "    openapi.Info(\n",
        "        title=\"Statchung API\",\n",
        "        default_version='v1',\n",
        "        description=\"Test description\",\n",
        "        terms_of_service=\"https://www.google.com/policies/terms/\",\n",
        "        contact=openapi.Contact(email=\"contact@snippets.local\"),\n",
        "        license=openapi.License(name=\"BSD License\"),\n",
        "    ),\n",
        "    public=True,\n",
        "    permission_classes=[permissions.AllowAny],\n",
        ")\n",
        "\n",
        "# Wire up our API using automatic URL routing.\n",
        "# Additionally, we include login URLs for the browsable API.\n",
        "urlpatterns = [\n",
        "    path('admin', admin.site.urls),\n",
        "    path('api/', include(('sample_swagger.urls', 'api'))),\n",
        "]\n",
        "\n",
        "if settings.DEBUG:\n",
        "    urlpatterns += [\n",
        "        re_path(r'^swagger(?P<format>\\.json|\\.yaml)$', schema_view.without_ui(cache_timeout=0), name='schema-json'),\n",
        "        re_path(r'^swagger/$', schema_view.with_ui('swagger', cache_timeout=0), name='schema-swagger-ui'),\n",
        "        re_path(r'^redoc/$', schema_view.with_ui('redoc', cache_timeout=0), name='schema-redoc'),\n",
        "    ]"
      ],
      "metadata": {
        "id": "ZNDmblCWbw7U"
      },
      "execution_count": null,
      "outputs": []
    },
    {
      "cell_type": "markdown",
      "source": [
        "- Django - Swagger 연동\n",
        "    - Django 서버 실행 후\n",
        "    - 브라우저에서 http://127.0.0.1:8000/swagger/ 접속\n",
        "    - 위에서 생성하고 설정한 Test API가 정상적으로 나타나는지 확인\n",
        "        - TestView에서 작성하고 urls.py 설정한 GET 방식의 /api/v1/test/ API를 확인 할 수 있음\n",
        "        - Try out을 통해 API를 실행 할 수 있음"
      ],
      "metadata": {
        "id": "W79QUaeoZmOe"
      }
    },
    {
      "cell_type": "markdown",
      "source": [
        "- 여기까지가 Django, Django Rest Framework, drf-yasg를 활용한 Django-Swagger 기본 세팅 작업 완료"
      ],
      "metadata": {
        "id": "KuXf5v5WdVwg"
      }
    },
    {
      "cell_type": "markdown",
      "source": [
        "#### 2.1.3 Django-Swagger 연동"
      ],
      "metadata": {
        "id": "U1yRq-FOeE9T"
      }
    },
    {
      "cell_type": "markdown",
      "source": [
        "- swagger_auto_schema\n",
        "    - API 문서화의 커뮤니케이션 활용을 위하여 API의 schema를 표현 할 수 있어야함\n",
        "    - drf-yasg는 @swagger_auto_schema를 제공하고 몇 가지 테크닉을 통해 원하는 schema를 적용 할 수 있음"
      ],
      "metadata": {
        "id": "4gcR8REiZpai"
      }
    },
    {
      "cell_type": "code",
      "source": [
        "# sample_swagger/views.py\n",
        "# QueryString과 request body schema 적용을 위해 get, post 방식의 view 함수를 작성함\n",
        "# @swagger_auto_schema() 데코레이터를 활용하기위해 이를 import 하고 get, post 메소드 각각 데코레이터를 적용 시킴\n",
        "\n",
        "from rest_framework import permissions\n",
        "from rest_framework.views import APIView\n",
        "from rest_framework.response import Response # Create your views here.\n",
        "from drf_yasg.utils import swagger_auto_schema\n",
        "\n",
        "class TestView(APIView):\n",
        "    permission_classes = [permissions.AllowAny]\n",
        "\n",
        "    @swagger_auto_schema()\n",
        "    def get(self, request):\n",
        "        return Response(\"Swagger 연동 테스트\")\n",
        "\n",
        "    @swagger_auto_schema()\n",
        "    def post(self, request):\n",
        "        return Response(\"Swagger Schema\")"
      ],
      "metadata": {
        "id": "VAzvRgtUfOy3"
      },
      "execution_count": null,
      "outputs": []
    },
    {
      "cell_type": "markdown",
      "source": [
        "##### 2.1.3.1 OpenAPI 사용"
      ],
      "metadata": {
        "id": "oHFZF2fsg1nx"
      }
    },
    {
      "cell_type": "markdown",
      "source": [
        "- openapi 사용시 schema 작성을 위한 code가 길어지기 때문에 open_api_params.py를 별도로 생성하여 view.py에 import해 사용하는 방식을 적용\n",
        "- 개발 규모가 매우 작고 별도로 파일을 분리할 필요가 없다면 바로 작성하셔도 무방하지만 흔히 분리하는 것을 권장함"
      ],
      "metadata": {
        "id": "8O6ku7uGffNW"
      }
    },
    {
      "cell_type": "markdown",
      "source": [
        "- GET, QueryString\n",
        "    - sample_swagger/open_api_params.py\n",
        "        - openapi.Parameter의 첫번째 인자로 parameter 명칭을 넣고 description에 설명을 설정\n",
        "        - type에서 data type을 설정함(다양한 형식의 data type 지원)\n",
        "        - default 값이 있는 경우 설정\n",
        "    - sample_swagger/views.py\n",
        "        - paramter 세팅을 마치고 작성한 openapi schema를 view에 추가\n",
        "        - get 함수 위에 데코레이터를 추가\n",
        "        - manual_paramters 값으로 작성한 get_params 추가\n",
        "    - swagger 실행\n",
        "        - QueryString으로 전달할 인자를 입력하는 UI가 생성된 것을 확인"
      ],
      "metadata": {
        "id": "mmeaRn59g_r8"
      }
    },
    {
      "cell_type": "code",
      "source": [
        "# sample_swagger/open_api_params.py\n",
        "\n",
        "from drf_yasg import openapi\n",
        "\n",
        "get_params = [\n",
        "\topenapi.Parameter(\n",
        "        \"start_date\",\n",
        "        openapi.IN_QUERY,\n",
        "        description=\"yyyy-mm-dd\",\n",
        "        type=openapi.FORMAT_DATE,\n",
        "        default=\"\"\n",
        "    ),\n",
        "    openapi.Parameter(\n",
        "        \"end_date\",\n",
        "        openapi.IN_QUERY,\n",
        "        description=\"yyyy-mm-dd\",\n",
        "        type=openapi.FORMAT_DATE,\n",
        "        default=\"\"\n",
        "    )\n",
        "]"
      ],
      "metadata": {
        "id": "8aL97Qi-f7Rz"
      },
      "execution_count": null,
      "outputs": []
    },
    {
      "cell_type": "code",
      "source": [
        "# sample_swagger/views.py\n",
        "\n",
        "...\n",
        "from .open_api_params import get_params\n",
        "\n",
        "class TestView(APIView):\n",
        "    permission_classes = [permissions.AllowAny]\n",
        "    @swagger_auto_schema(manual_parameters=get_params)\n",
        "    def get(self, request):\n",
        "        return Response(\"Swagger 연동 테스트\")\n",
        "..."
      ],
      "metadata": {
        "id": "aVq1V102gf_k"
      },
      "execution_count": null,
      "outputs": []
    },
    {
      "cell_type": "markdown",
      "source": [
        "- POST, Request Body\n",
        "    - get 방식과 다르게 reqeust_body로 전달하고 Object 타입을 사용"
      ],
      "metadata": {
        "id": "hhIpxyFjZqkG"
      }
    },
    {
      "cell_type": "code",
      "source": [
        "# sample_swagger/open_api_params.py\n",
        "\n",
        "...\n",
        "post_params = openapi.Schema(\n",
        "    type=openapi.TYPE_OBJECT,\n",
        "    properties={\n",
        "        'x': openapi.Schema(type=openapi.TYPE_STRING, description='string'),\n",
        "        'y': openapi.Schema(type=openapi.TYPE_STRING, description='string'),\n",
        "    }\n",
        ")"
      ],
      "metadata": {
        "id": "UHyo4Qcbhz8F"
      },
      "execution_count": null,
      "outputs": []
    },
    {
      "cell_type": "code",
      "source": [
        "# sample_swagger/views.py\n",
        "\n",
        "from .open_api_params import get_params, post_params\n",
        "\n",
        "class TestView(APIView):\n",
        "    permission_classes = [permissions.AllowAny]\n",
        "    @swagger_auto_schema(manual_parameters=get_params)\n",
        "    def get(self, request):\n",
        "        return Response(\"Swagger 연동 테스트\")\n",
        "\n",
        "    @swagger_auto_schema(request_body=post_params)\n",
        "    def post(self, request):\n",
        "        return Response(\"Swagger Schema\")"
      ],
      "metadata": {
        "id": "jVWWyeryhzoT"
      },
      "execution_count": null,
      "outputs": []
    },
    {
      "cell_type": "markdown",
      "source": [
        "##### 2.1.3.2 Serializer 사용"
      ],
      "metadata": {
        "id": "XmI3gFUNh9J-"
      }
    },
    {
      "cell_type": "markdown",
      "source": [
        "- Serializer를 활용한 코드 작성\n",
        "    - 가독성이 좋아 직관적으로 의미를 이해할 수 있음\n",
        "    - openapi를 활용하는 것에 비해 코드 길이 자체도 줄어드는 장점이 있음\n",
        "- Serializer 를 적용할 view와 serializer를 생성 후 진행"
      ],
      "metadata": {
        "id": "v3cK8TJiiCM6"
      }
    },
    {
      "cell_type": "markdown",
      "source": [
        "- 환경설정\n",
        "    - views.py에 SerializerView 추가\n",
        "    - urls.py에 serializer 추가\n",
        "    - serializer 생성"
      ],
      "metadata": {
        "id": "EoRJPce7iTx7"
      }
    },
    {
      "cell_type": "code",
      "source": [
        "# sample_swagger/views.py\n",
        "\n",
        "...\n",
        "\n",
        "class SerializerView(APIView):\n",
        "    permission_classes = [permissions.AllowAny]\n",
        "    @swagger_auto_schema()\n",
        "    def get(self, request):\n",
        "        return Response(\"Swagger 연동 테스트\")\n",
        "\n",
        "    @swagger_auto_schema()\n",
        "    def post(self, request):\n",
        "        return Response(\"Swagger Schema\")"
      ],
      "metadata": {
        "id": "4RBjrnfyid1o"
      },
      "execution_count": null,
      "outputs": []
    },
    {
      "cell_type": "code",
      "source": [
        "# sample_swagger.py/urls.py\n",
        "\n",
        "from django.urls import path\n",
        "from sample_swagger.views import TestView, SerializerView\n",
        "urlpatterns = [\n",
        "            path('v1/test/', TestView.as_view(), name='test'),\n",
        "            path('v1/serializer/', SerializerView.as_view(), name='serializer'),\n",
        "        ]"
      ],
      "metadata": {
        "id": "pewnrjl_ieD5"
      },
      "execution_count": null,
      "outputs": []
    },
    {
      "cell_type": "code",
      "source": [
        "# sample_swagger/serializers.py\n",
        "\n",
        "from rest_framework import serializers"
      ],
      "metadata": {
        "id": "W7LXRvqsiiI7"
      },
      "execution_count": null,
      "outputs": []
    },
    {
      "cell_type": "markdown",
      "source": [
        "- GET, QueryString\n",
        "    - Serializer를 활용할 경우 @swagger_auto_schema에서 query_serializer를 사용\n",
        "    - 생성한 serializers.py에 request, response schema를 설정\n",
        "    - Schema\n",
        "        ```\n",
        "        // request\n",
        "        {\n",
        "            'param1': integer,\n",
        "            'param2': string,\n",
        "            'param3': date,\n",
        "        }\n",
        "\n",
        "        // response\n",
        "        {\n",
        "            'status': 200,\n",
        "            'message': 'SUCCESS'\n",
        "        }        \n",
        "        ```\n",
        "    - sample_swagger/serializers.py\n",
        "        - Request, Response 각각을 위한 serializer class를 2개 생성\n",
        "        - 사용하고 싶은 parameter 명칭과 동일한 변수를 선언\n",
        "        - serializers에 내장된 데이터 타입을 선언\n",
        "    - sample_swagger/views.py\n",
        "        - openapi에서 사용한 manual_parameter 대신 query_serializer 사용\n",
        "        - serializers에서 생성한 GetResponseSerializer 사용을 위해 responses도 @swagger_auto_schema 데코레이터에 추가\n",
        "    - 세팅 완료 후 다시 swagger를 확인\n",
        "        - Request / Response 모두 Schema를 확인할 수 있음"
      ],
      "metadata": {
        "id": "cWi9qgVninPi"
      }
    },
    {
      "cell_type": "code",
      "source": [
        "# sample_swagger/serializers.py\n",
        "\n",
        "from rest_framework import serializers\n",
        "\n",
        "class GetRequestSerializer(serializers.Serializer):\n",
        "    param1 = serializers.IntegerField()\n",
        "    param2 = serializers.CharField(max_length=20)\n",
        "    param3 = serializers.DateField()\n",
        "\n",
        "class GetResponseSerializer(serializers.Serializer):\n",
        "    status = serializers.CharField()\n",
        "    message = serializers.CharField()"
      ],
      "metadata": {
        "id": "5F_uWMdtjqFX"
      },
      "execution_count": null,
      "outputs": []
    },
    {
      "cell_type": "code",
      "source": [
        "# sample_swagger/views.py\n",
        "\n",
        "...\n",
        "from .serializers import GetRequestSerializer, GetResponseSerializer\n",
        "\n",
        "...\n",
        "\n",
        "class SerializerView(APIView):\n",
        "    permission_classes = [permissions.AllowAny]\n",
        "    @swagger_auto_schema(query_serializer=GetRequestSerializer, responses={\"200\":GetResponseSerializer})\n",
        "    def get(self, request):\n",
        "        return Response(\"Swagger 연동 테스트\")\n",
        "\n",
        "    @swagger_auto_schema()\n",
        "    def post(self, request):\n",
        "        return Response(\"Swagger Schema\")"
      ],
      "metadata": {
        "id": "aj4CMr3Wjp8e"
      },
      "execution_count": null,
      "outputs": []
    },
    {
      "cell_type": "markdown",
      "source": [
        "- Post, request body\n",
        "    - 복잡한 형태를 serializer로 작성하는 방법 적용해보기\n",
        "        - 튜토리얼 수준의 학습을 하는 경우에는 API의 request가 간단한 형태로 전달되지만\n",
        "        - 실무에서는 훨씬더 복잡한 경우가 많음\n",
        "        - 모든 값이 Integer, String 형태이거나 key-value가 언제나 1대 1로 매칭이 되면 좋겠지만 value가 배열로 전달되고 그 내부에 다시 객체가 존재하는 경우도 꽤 많음\n",
        "        - 이런 경우, openapi 적용은 코드 가독성이 나쁘고 설정에 의한 오류 발생 등의 상황이 발생하기도 함 → serializer 사용 추천\n",
        "    <br><br>\n",
        "    - Schema 작성\n",
        "        - 일반적인 Schema 작성법에 의해 문제가 되는 부분은 student_list 부분\n",
        "        - 배열 내부에 객체가 있는 형태로 조금 복잡함\n",
        "        ```\n",
        "        //request\n",
        "        {\n",
        "            \"school_name\": \"KNU\",\n",
        "            \"student_list\": [\n",
        "                {\n",
        "                    \"first_name\": \"Hanseul\",\n",
        "                    \"last_name\": \"Jo\"\n",
        "                },\n",
        "                {\n",
        "                    \"first_name\": \"Hanseul\",\n",
        "                    \"last_name\": \"Cho\"\n",
        "                }\n",
        "            ]\n",
        "        }\n",
        "\n",
        "        //response\n",
        "        {\n",
        "            \"status\": 201,\n",
        "            \"message\": \"SUCCESS\"\n",
        "        }\n",
        "        ```\n",
        "    <br><br>\n",
        "    - 일단 student_list 배열 내부의 객체를 신경 쓰지 않고 Serializer를 작성\n",
        "        - PostRequestSerializer와 PostResponseSerializer를 작성하고 views.py에 적용\n",
        "    <br><br>\n",
        "    - Swagger 확인\n",
        "        - Request와 Response가 정상적으로 잘 생성됨\n",
        "        - student_list를 살펴보면 단순 배열일 뿐, 배열 내부에 원래 구현하고자 했던 first_name, last_name을 포함하는 객체는 없음\n",
        "    <br><br>\n",
        "    - student_list 배열 내부에 객체 추가\n",
        "        - serializers.py\n",
        "            - 객체를 형상화 할 수 있는 Serializer를 생성\n",
        "            - PostRequestSerializer의 student_list 부분에 넣어줌\n",
        "            - 기존에 ListFiled로 선언된 것을 지우고 작성한 PostInnerDictSerializer를 추가\n",
        "            - many=True 옵션을 주어 객체를 List로 감싸줌\n",
        "    <br><br>\n",
        "    - Swagger 확인"
      ],
      "metadata": {
        "id": "mjDiCZCVjx1q"
      }
    },
    {
      "cell_type": "code",
      "source": [
        "# sample_swagger/serializers.py\n",
        "\n",
        "...\n",
        "\n",
        "class PostRequestSerializer(serializers.Serializer):\n",
        "    school_name = serializers.CharField()\n",
        "    student_list = serializers.ListField()\n",
        "\n",
        "class PostResponseSerializer(serializers.Serializer):\n",
        "    status = serializers.CharField()\n",
        "    message = serializers.CharField()"
      ],
      "metadata": {
        "id": "E25QKlMzk2oV"
      },
      "execution_count": null,
      "outputs": []
    },
    {
      "cell_type": "code",
      "source": [
        "# sample_swagger/views.py\n",
        "\n",
        "...\n",
        "from .serializers import GetRequestSerializer, GetResponseSerializer, PostRequestSerializer, PostResponseSerializer\n",
        "...\n",
        "\n",
        "class SerializerView(APIView):\n",
        "...\n",
        "    @swagger_auto_schema(request_body=PostRequestSerializer, responses={\"201\": PostResponseSerializer})\n",
        "    def post(self, request):\n",
        "        return Response(\"Swagger Schema\")"
      ],
      "metadata": {
        "id": "8T4nG6DAk2hM"
      },
      "execution_count": null,
      "outputs": []
    },
    {
      "cell_type": "code",
      "source": [
        "# sample_swagger/serializers.py\n",
        "\n",
        "...\n",
        "\n",
        "class PostInnerDictSerializer(serializers.Serializer):\n",
        "    first_name = serializers.CharField()\n",
        "    last_name = serializers.CharField()\n",
        "\n",
        "class PostRequestSerializer(serializers.Serializer):\n",
        "    school_name = serializers.CharField()\n",
        "    student_list = PostInnerDictSerializer(many=True)\n",
        "\n",
        "class PostResponseSerializer(serializers.Serializer):\n",
        "    status = serializers.CharField()\n",
        "    message = serializers.CharField()"
      ],
      "metadata": {
        "id": "JSAalLNFl3pv"
      },
      "execution_count": null,
      "outputs": []
    },
    {
      "cell_type": "markdown",
      "source": [
        "### 2.2 Spring REST Docs"
      ],
      "metadata": {
        "id": "KOX35fgWONVb"
      }
    },
    {
      "cell_type": "markdown",
      "source": [
        "#### 2.2.1 Spring REST Docs 개요"
      ],
      "metadata": {
        "id": "RxBQpczSoZWA"
      }
    },
    {
      "cell_type": "markdown",
      "source": [
        "- Spring REST Docs란?\n",
        "    - REST API에 대한 정보를 제공하는 Docs를 생성할 수 있는 Spring 진영에서 제공하는 툴\n",
        "    - Spring MVC Test 코드 작성시 추가적으로 Docs를 생성하는 코드를 첨가하여 생성할 수 있음\n",
        "    - REST Docs는 REST 아키텍처의 self-descriptive 규약을 지키기 위해 REST API의 리소스 및 API 명세 그리고 요청과 응답 데이터의 설명까지 포함된 문서를 만들 수 있게 해줌"
      ],
      "metadata": {
        "id": "_rdXl6L3oe9X"
      }
    },
    {
      "cell_type": "markdown",
      "source": [
        "- 장점\n",
        "    - 테스트를 통과해야만 문서가 작성되므로 신뢰도가 높음\n",
        "- 단점\n",
        "    - 문서가 Swagger에 비해 아름답지 않음\n",
        "    - API 테스트 기능을 지원하지 않음\n",
        "    - 주로 Java와 Spring Framework에서 사용됨(기본적으로 파이썬을 지원하지 않음)"
      ],
      "metadata": {
        "id": "NYsvI1AqPceE"
      }
    },
    {
      "cell_type": "markdown",
      "source": [
        "### 2.3 OpenAPI Specification (OAS)"
      ],
      "metadata": {
        "id": "gqbhCk3ZP0I0"
      }
    },
    {
      "cell_type": "markdown",
      "source": [
        "- RESTful API를 쉽게 관리하고 사용할 수 있도록 도와주는, RESTful API 스펙에 대한 사실상의 표준 명세 작성 방식\n",
        "- API의 구조와 작동 방식을 명확하게 문서화할 때 사용할 수 있음\n",
        "- 보통 JSON이나 YAML 형식으로 작성됨\n",
        "- API를 사용하기 위한 인증 방법, 엔드포인트와 요청 및 반환 데이터 등이 명세에 포함되어 있어서 코드나 문서 없이도 전체 구조를 이해하기 쉬움\n",
        "- 자동으로 문서가 생성되기 때문에 개발 과정 중 문서화에 소요되는 시간을 줄일 수 있으며, 명확한 커뮤니케이션을 도와줌\n",
        "- Swagger와 Spring REST Docs의 장점을 결합할 수 있음\n",
        "- 다양한 API 클라이언트에서 지원함\n",
        "- 여러 API 개발 도구와 호환되어 API 테스팅, 모니터링, 버전 관리 등에도 사용될 수 있음"
      ],
      "metadata": {
        "id": "NDwuyPZvP5Ze"
      }
    },
    {
      "cell_type": "markdown",
      "source": [
        "## **3. 파이썬 API 문서화**"
      ],
      "metadata": {
        "id": "3P51NkBAQZsO"
      }
    },
    {
      "cell_type": "markdown",
      "source": [
        "### 3.1 Doc String"
      ],
      "metadata": {
        "id": "3_wPSMfhQo-E"
      }
    },
    {
      "cell_type": "markdown",
      "source": [
        "#### 3.1.1 Doc String 개요"
      ],
      "metadata": {
        "id": "BnUs97Qcs1fq"
      }
    },
    {
      "cell_type": "markdown",
      "source": [
        "- 코드 문서화를 위한 강력한 도구\n",
        "- 코드에 핵심적인 설명을 작성하는 도구로, 코드 문서화와 유지보수 측면에서 큰 도움을 줌\n",
        "- Doc String이란 파이썬 코드에 첨부되는 메타데이터로, 함수, 클래스, 메소드와 같은 코드 개체의 기능과 사용법에 대한 설명을 작성하는 것을 의미함\n",
        "- 소스 코드 내에서 특정 부분을 주석처럼 작성하여 파이썬 인터프리터가 일반 주석과 구별할 수 있도록 함\n"
      ],
      "metadata": {
        "id": "RNmNhgW9RzBc"
      }
    },
    {
      "cell_type": "markdown",
      "source": [
        "#### 3.1.2 Doc String의 중요성"
      ],
      "metadata": {
        "id": "zB9qPF1js8eQ"
      }
    },
    {
      "cell_type": "markdown",
      "source": [
        "- 코드 문서화\n",
        "    - 코드를 작성할 때 Doc String을 활용하면 각 개체의 역할과 사용법을 명확하게 문서화할 수 있음\n",
        "    - 다른 개발자들이 코드를 이해하고 사용할 때 큰 도움이 됨\n",
        "- 자동 문서 생성\n",
        "    - Doc String을 작성하면 강력한 도구인 Sphinx를 통해 자동으로 문서를 생성할 수 있음\n",
        "    - 이를 활용하면 프로젝트의 API 문서, 개발자 가이드 등을 손쉽게 만들고 업데이트할 수 있음\n",
        "- IDE와의 통합\n",
        "    - Doc String을 작성하면 일부 통합 개발 환경(Integrated Development Environment, IDE)에서는 해당 코드의 설명과 자동완성 기능을 제공하며, 이를 통해 더욱 효율적인 개발을 할 수 있음"
      ],
      "metadata": {
        "id": "4TS3ccXzSfKN"
      }
    },
    {
      "cell_type": "markdown",
      "source": [
        "#### 3.1.3 Doc String 작성 방법"
      ],
      "metadata": {
        "id": "TiddAvJNtCaw"
      }
    },
    {
      "cell_type": "markdown",
      "source": [
        "- 파이썬에서 Doc String은 함수, 클래스, 메소드의 정의 바로 다음 줄에 작성됨\n",
        "- Doc String은 일반적으로 쌍따옴표(\"ㅇㅇㅇ\") 또는 홑따옴표('ㅇㅇㅇ')로 둘러싸여 있음\n",
        "- 다음과 같은 작성 규칙을 따름\n",
        "    - 개체의 역할과 목적을 간결하게 설명함\n",
        "    - 매개변수와 반환값에 대한 설명을 작성함\n",
        "    - 가능한 예제 코드나 사용 예시를 포함하여 설명함"
      ],
      "metadata": {
        "id": "yTlCStPuSxr6"
      }
    },
    {
      "cell_type": "code",
      "source": [
        ">>> def my_func():\n",
        "...    \"\"\"임의로 만든 함수\"\"\"\n",
        "...    return None\n",
        "...\n",
        ">>> my_func.__doc__\n",
        "'임의로 만든 함수'"
      ],
      "metadata": {
        "id": "NJn4me34rG-K"
      },
      "execution_count": null,
      "outputs": []
    },
    {
      "cell_type": "markdown",
      "source": [
        "#### 3.1.4 Doc String의 단점"
      ],
      "metadata": {
        "id": "sKCnBtZxtIoB"
      }
    },
    {
      "cell_type": "markdown",
      "source": [
        "- 모든 문서화가 그렇듯 지속적으로 수작업을 해야 함\n",
        "    - 즉 코드가 변경되면 업데이트를 해야함\n",
        "- Doc String이 유용하게 사용되려면 여러 줄에 걸쳐 상세하게 작성되어야 함"
      ],
      "metadata": {
        "id": "DrH77mIVrXnd"
      }
    },
    {
      "cell_type": "markdown",
      "source": [
        "#### 3.1.5 적절한 문서를 유지하는 것은..."
      ],
      "metadata": {
        "id": "sp0qPRgHtPFA"
      }
    },
    {
      "cell_type": "markdown",
      "source": [
        "- 소프트웨어 엔지니어로서 피할 수 없는 과제\n",
        "- 문서화에 수작업이 필요한 이유는 결국 다른 사람이 읽기 때문\n",
        "- 가치 있는 문서를 만들기 위해서 모든 팀원이 문서화에 노력해야 함\n",
        "- 핵심은 소프트웨어가 단순한 코드가 아니라는 것을 이해하는 것"
      ],
      "metadata": {
        "id": "k0O7O01zsOjX"
      }
    },
    {
      "cell_type": "markdown",
      "source": [
        "### 3.2 Sphinx"
      ],
      "metadata": {
        "id": "Po5ekCefQvDS"
      }
    },
    {
      "cell_type": "markdown",
      "source": [
        "#### 3.2.1 Sphinx 개요"
      ],
      "metadata": {
        "id": "Pj8_ZibJsp9v"
      }
    },
    {
      "cell_type": "markdown",
      "source": [
        "- 파이썬 생태계에서 널리 사용되는 문서 생성 도구\n",
        "- 코드의 문서화뿐만 아니라 프로젝트 관리와 협업에 큰 도움을 주는 강력한 도구\n",
        "- 코드에서 독스트링으로 작성한 내용을 바탕으로 HTML, PDF, EPUB 등 다양한 형식으로 문서를 생성할 수 있음\n",
        "- 개발자와 사용자들이 프로젝트를 이해하고 사용하는 데 필요한 자세한 정보를 제공함\n"
      ],
      "metadata": {
        "id": "w0DrpaRovHys"
      }
    },
    {
      "cell_type": "markdown",
      "source": [
        "#### 3.2.2 Sphinx의 중요성"
      ],
      "metadata": {
        "id": "s9X-2rEasu2Y"
      }
    },
    {
      "cell_type": "markdown",
      "source": [
        "- 포괄적인 문서화\n",
        "    - Sphinx를 사용하면 프로젝트의 모든 구성 요소를 포괄적으로 문서화할 수 있음\n",
        "    - 함수, 클래스, 모듈, 패키지 등 모든 코드 개체에 대한 문서를 자동으로 생성할 수 있으음\n",
        "    - 개발자들이 프로젝트를 더 쉽게 사용할 수 있음\n",
        "- 자동 업데이트\n",
        "    - Sphinx는 코드 및 독스트링의 변경 사항을 감지하여 자동으로 문서를 업데이트할 수 있음\n",
        "    - 이를 통해 문서와 코드의 일치를 유지하며, 문서를 최신 상태로 유지할 수 있음\n",
        "- 다양한 형식으로의 출력\n",
        "    - Sphinx는 다양한 출력 형식을 지원하여, HTML, PDF, EPUB 등으로 문서를 생성할 수 있음\n",
        "    - 이를 통해 다양한 형태의 문서를 제공하고, 프로젝트의 사용자들이 자신에게 편한 형식으로 문서를 사용할 수 있음\n",
        "- 협업과 공유\n",
        "    - Sphinx는 여러 사람이 함께 작업하고 문서를 공유하는 데에도 용이함\n",
        "    - Git과 같은 버전 관리 시스템과 통합하여 협업을 간편하게 할 수 있음\n",
        "    - Sphinx의 기능을 활용하여 다른 개발자들과 문서를 공유할 수 있음"
      ],
      "metadata": {
        "id": "UFM3XMpbvh45"
      }
    },
    {
      "cell_type": "markdown",
      "source": [
        "#### 3.2.3 Sphinx 사용하기"
      ],
      "metadata": {
        "id": "ebeXMJ8ttcVK"
      }
    },
    {
      "cell_type": "markdown",
      "source": [
        "- 패키지 설치"
      ],
      "metadata": {
        "id": "eKgus6GntgqM"
      }
    },
    {
      "cell_type": "code",
      "execution_count": null,
      "metadata": {
        "id": "F_PiSgDQKbVY"
      },
      "outputs": [],
      "source": [
        "$ sudo apt install tree\n",
        "$ pip install sphinx\n",
        "$ pip install sphinx_rtd_them"
      ]
    },
    {
      "cell_type": "markdown",
      "source": [
        "- 프로젝트 생성"
      ],
      "metadata": {
        "id": "sJdXJz_Mt0Vy"
      }
    },
    {
      "cell_type": "code",
      "source": [
        "$ mkdir sphinx-test2\n",
        "$ cd sphinx-test2"
      ],
      "metadata": {
        "id": "exzCn-CGt1sY"
      },
      "execution_count": null,
      "outputs": []
    },
    {
      "cell_type": "markdown",
      "source": [
        "- Sphinx Docs 생성"
      ],
      "metadata": {
        "id": "ga5sPqUMt4VU"
      }
    },
    {
      "cell_type": "code",
      "source": [
        "$ sphinx-quickstart docs"
      ],
      "metadata": {
        "id": "UrIvbDbMt7ch"
      },
      "execution_count": null,
      "outputs": []
    },
    {
      "cell_type": "code",
      "source": [
        "# 아래의 질문에 사용자에게 맞게 작성\n",
        "> Separate source and build directories (y/n) [n] y\n",
        "> Project name: sphnix test\n",
        "> Author name(s): srlee\n",
        "> Project release []:\n",
        "> Project language [en]:"
      ],
      "metadata": {
        "id": "Do5s3oFZuBcN"
      },
      "execution_count": null,
      "outputs": []
    },
    {
      "cell_type": "code",
      "source": [
        "$ tree ./sphinx-test2"
      ],
      "metadata": {
        "id": "PXUNtS9hwU_D"
      },
      "execution_count": null,
      "outputs": []
    },
    {
      "cell_type": "markdown",
      "source": [
        "- docs/source/conf.py 수정하기"
      ],
      "metadata": {
        "id": "JHoxgeI8uLb7"
      }
    },
    {
      "cell_type": "code",
      "source": [
        "# import os\n",
        "# import sys\n",
        "# sys.path.insert(0, os.path.abspath('.'))\n",
        "\n",
        "# 위의 내용을 우리가 사용하는 폴더로 수정\n",
        "# 현재 conf.py 의 경로가 ./sphinx-test2/docs/source.py 에 있고,\n",
        "# 내가 새롭게 만든 소스 코드는 ./sphinx-test2/src/my_package 인 경우\n",
        "\n",
        "import os\n",
        "import sys\n",
        "sys.path.insert(0, os.path.abspath('../../src/my_package'))"
      ],
      "metadata": {
        "id": "sWYwrKVquU1y"
      },
      "execution_count": null,
      "outputs": []
    },
    {
      "cell_type": "markdown",
      "source": [
        "- extensions와 html_theme 수정(꾸미기)"
      ],
      "metadata": {
        "id": "9SasZ112urU3"
      }
    },
    {
      "cell_type": "code",
      "source": [
        "extensions = []\n",
        "html_theme = 'alabaster'\n",
        "\n",
        "# 위의 내용을 수정해보기\n",
        "extensions = ['sphinx.ext.autodoc']\n",
        "html_theme = 'sphinx_rtd_theme'"
      ],
      "metadata": {
        "id": "cOyp8IVWus1n"
      },
      "execution_count": null,
      "outputs": []
    },
    {
      "cell_type": "markdown",
      "source": [
        "- sphinx-apidoc을 사용하여 소스 코드에서 reStructuredText 파일 생성하기\n",
        "    - sphinx-apidoc: 소스 코드(예: Python 모듈)에서 reStructuredText 파일을 자동으로 생성하는 도구\n",
        "    ```\n",
        "    sphinx-apidoc -f -o <path-to-output> <path-to-module>\n",
        "    ```"
      ],
      "metadata": {
        "id": "WLv2NXD-u-In"
      }
    },
    {
      "cell_type": "code",
      "source": [
        "# api-doc을 사용해서, rst 파일을 만들기\n",
        "sphinx-apidoc -f -o docs/source/ src/my_package"
      ],
      "metadata": {
        "id": "HHPI4mePu_qT"
      },
      "execution_count": null,
      "outputs": []
    },
    {
      "cell_type": "code",
      "source": [
        "# 생성된 파일들\n",
        "Creating file docs/source/base.rst.\n",
        "Creating file docs/source/utils.rst.\n",
        "Creating file docs/source/modules.rst."
      ],
      "metadata": {
        "id": "4ubhxCSXvUza"
      },
      "execution_count": null,
      "outputs": []
    },
    {
      "cell_type": "markdown",
      "source": [
        "- index.rst 및 생성된 reStructuredText 파일 편집"
      ],
      "metadata": {
        "id": "nLzu_jVMvcUH"
      }
    },
    {
      "cell_type": "code",
      "source": [
        "# index.rst\n",
        "\n",
        ".. sphnix test documentation master file, created by\n",
        "   sphinx-quickstart on Wed Jan 26 22:45:47 2022.\n",
        "   You can adapt this file completely to your liking, but it should at least\n",
        "   contain the root `toctree` directive.\n",
        "\n",
        "Welcome to sphnix test's documentation!\n",
        "=======================================\n",
        "\n",
        ".. toctree::\n",
        "   :maxdepth: 2\n",
        "   :caption: Contents:\n",
        "\n",
        "\n",
        "\n",
        "Indices and tables\n",
        "==================\n",
        "\n",
        "* :ref:`genindex`\n",
        "* :ref:`modindex`\n",
        "* :ref:`search`"
      ],
      "metadata": {
        "id": "mXss9QXkvdCr"
      },
      "execution_count": null,
      "outputs": []
    },
    {
      "cell_type": "code",
      "source": [
        "# 모든 모듈을 포함하기 위해서 index.rst에 moudels.rst를 추가\n",
        "\n",
        ".. sphnix test documentation master file, created by\n",
        "   sphinx-quickstart on Wed Jan 26 22:45:47 2022.\n",
        "   You can adapt this file completely to your liking, but it should at least\n",
        "   contain the root `toctree` directive.\n",
        "\n",
        "Welcome to sphnix test's documentation!\n",
        "=======================================\n",
        "\n",
        ".. toctree::\n",
        "   :maxdepth: 2\n",
        "   :caption: Contents:\n",
        "\n",
        "   modules\n",
        "\n",
        "\n",
        "\n",
        "Indices and tables\n",
        "==================\n",
        "\n",
        "* :ref:`genindex`\n",
        "* :ref:`modindex`\n",
        "* :ref:`search`"
      ],
      "metadata": {
        "id": "XQpARfbUvlV9"
      },
      "execution_count": null,
      "outputs": []
    },
    {
      "cell_type": "markdown",
      "source": [
        "- 문서 빌드"
      ],
      "metadata": {
        "id": "6DhpAAQNvvIH"
      }
    },
    {
      "cell_type": "code",
      "source": [
        "$ cd docs\n",
        "$ make html\n",
        "$ cd .."
      ],
      "metadata": {
        "id": "p7J-OWHOvwMp"
      },
      "execution_count": null,
      "outputs": []
    },
    {
      "cell_type": "code",
      "source": [
        "$ tree ./sphinx-test2"
      ],
      "metadata": {
        "id": "5fXd4MmSwIGF"
      },
      "execution_count": null,
      "outputs": []
    },
    {
      "cell_type": "markdown",
      "source": [
        "- HTML에서 보기"
      ],
      "metadata": {
        "id": "xmo0dTZCv_mr"
      }
    }
  ]
}