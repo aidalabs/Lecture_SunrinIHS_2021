{
  "nbformat": 4,
  "nbformat_minor": 0,
  "metadata": {
    "colab": {
      "provenance": []
    },
    "kernelspec": {
      "name": "python3",
      "display_name": "Python 3"
    },
    "language_info": {
      "name": "python"
    }
  },
  "cells": [
    {
      "cell_type": "markdown",
      "metadata": {
        "id": "qym_e_7Sj1YB"
      },
      "source": [
        "# **정보 이론**"
      ]
    },
    {
      "cell_type": "code",
      "execution_count": null,
      "metadata": {
        "id": "83b0JmQKj1YG",
        "outputId": "7f3e9f53-b40f-4aa0-d001-0205ffdce160"
      },
      "outputs": [
        {
          "data": {
            "text/plain": [
              "'v0.1.9'"
            ]
          },
          "execution_count": 2,
          "metadata": {},
          "output_type": "execute_result"
        }
      ],
      "source": [
        "import numpy as np\n",
        "from scipy.stats import entropy\n",
        "import matplotlib.pyplot as plt\n",
        "from pgmpy.factors.discrete import JointProbabilityDistribution as JPD\n",
        "import pgmpy\n",
        "\n",
        "pgmpy.__version__"
      ]
    },
    {
      "cell_type": "code",
      "execution_count": null,
      "metadata": {
        "id": "mnY6fewxj1YI",
        "outputId": "e3d9b91a-8043-4ca3-e5bf-aa401f521bc3"
      },
      "outputs": [
        {
          "data": {
            "text/plain": [
              "array([1.   , 0.693])"
            ]
          },
          "execution_count": 3,
          "metadata": {},
          "output_type": "execute_result"
        }
      ],
      "source": [
        "# 예제\n",
        "# 동전 던지기\n",
        "pk = [1/2, 1/2]\n",
        "np.round([entropy(pk, base=2), entropy(pk, base=np.e)], 3)"
      ]
    },
    {
      "cell_type": "code",
      "execution_count": null,
      "metadata": {
        "id": "g41OnLuZj1YK",
        "outputId": "5a037f6b-6f1e-42c0-ae0e-46378e8af139"
      },
      "outputs": [
        {
          "data": {
            "text/plain": [
              "array([2.585, 1.792])"
            ]
          },
          "execution_count": 4,
          "metadata": {},
          "output_type": "execute_result"
        }
      ],
      "source": [
        "# 주사위 던지기\n",
        "pk = 1/6*np.ones(6)\n",
        "np.round([entropy(pk, base=2), entropy(pk, base=np.e)], 3)"
      ]
    },
    {
      "cell_type": "code",
      "execution_count": null,
      "metadata": {
        "id": "811AE_Bjj1YK",
        "outputId": "f6bf549e-3f59-46f7-ae29-84829a0b763d"
      },
      "outputs": [
        {
          "data": {
            "text/plain": [
              "1.657"
            ]
          },
          "execution_count": 5,
          "metadata": {},
          "output_type": "execute_result"
        }
      ],
      "source": [
        "# 예제\n",
        "# 결합 엔트로피\n",
        "pk = 1/15 * np.array([2, 4, 3, 1, 1, 4])\n",
        "log_pk = -np.log(pk)\n",
        "H_XY = np.dot(pk, log_pk)\n",
        "H_XY.round(3)"
      ]
    },
    {
      "cell_type": "code",
      "execution_count": null,
      "metadata": {
        "id": "2wuD5OZij1YL",
        "outputId": "fbc2f32c-a850-47b0-cbae-56fc0dea73e7"
      },
      "outputs": [
        {
          "name": "stdout",
          "output_type": "stream",
          "text": [
            "+------+------+----------+\n",
            "| X    | Y    |   P(X,Y) |\n",
            "+======+======+==========+\n",
            "| X(0) | Y(0) |   0.1333 |\n",
            "+------+------+----------+\n",
            "| X(0) | Y(1) |   0.2667 |\n",
            "+------+------+----------+\n",
            "| X(0) | Y(2) |   0.2000 |\n",
            "+------+------+----------+\n",
            "| X(1) | Y(0) |   0.0667 |\n",
            "+------+------+----------+\n",
            "| X(1) | Y(1) |   0.0667 |\n",
            "+------+------+----------+\n",
            "| X(1) | Y(2) |   0.2667 |\n",
            "+------+------+----------+\n"
          ]
        }
      ],
      "source": [
        "# 예제\n",
        "# 조건부 엔트로피\n",
        "\n",
        "# 결합 확률 정의\n",
        "prob = 1/15 * np.array([2, 4, 3, 1, 1, 4])\n",
        "fxy = JPD(['X', 'Y'],[2, 3], prob)\n",
        "print(fxy)"
      ]
    },
    {
      "cell_type": "code",
      "execution_count": null,
      "metadata": {
        "scrolled": true,
        "id": "gfTbKB-cj1YM",
        "outputId": "a8d60255-0c5c-459a-d9ff-82893e93ad3f"
      },
      "outputs": [
        {
          "name": "stdout",
          "output_type": "stream",
          "text": [
            "+------+--------+\n",
            "| X    |   P(X) |\n",
            "+======+========+\n",
            "| X(0) | 0.6667 |\n",
            "+------+--------+\n",
            "| X(1) | 0.3333 |\n",
            "+------+--------+\n"
          ]
        }
      ],
      "source": [
        "# 조건부 확률 예시\n",
        "prob = fxy.conditional_distribution([('Y', 0)], inplace=False)\n",
        "print(prob)"
      ]
    },
    {
      "cell_type": "code",
      "execution_count": null,
      "metadata": {
        "scrolled": false,
        "id": "cs5LxRFgj1YM",
        "outputId": "3cd962cb-e448-4e3a-97a9-99c3ab2f77c9"
      },
      "outputs": [
        {
          "data": {
            "text/plain": [
              "0.613"
            ]
          },
          "execution_count": 8,
          "metadata": {},
          "output_type": "execute_result"
        }
      ],
      "source": [
        "# 조건부 엔트로피 계산\n",
        "res_sum = []\n",
        "\n",
        "# 모든 x에 대하여\n",
        "for i in fxy.state_names['X']:\n",
        "    # 모든 y에 대하여\n",
        "    for j in fxy.state_names['Y']:\n",
        "        cond_y = fxy.conditional_distribution([('Y', j)], inplace=False).values[i]\n",
        "        res = -fxy.values[i,j] * np.log(cond_y)\n",
        "        res_sum.append(res)\n",
        "# 결과\n",
        "np.sum(res_sum).round(3)"
      ]
    },
    {
      "cell_type": "code",
      "execution_count": null,
      "metadata": {
        "scrolled": true,
        "id": "A7NvhysKj1YN",
        "outputId": "2ad5e1db-bf45-4d4a-de02-03771a3e3520"
      },
      "outputs": [
        {
          "data": {
            "text/plain": [
              "0.613"
            ]
          },
          "execution_count": 9,
          "metadata": {},
          "output_type": "execute_result"
        }
      ],
      "source": [
        "# H(X, Y) - H(Y) 이용\n",
        "# H(X, Y) 계산\n",
        "H_XY = np.dot(fxy.values.reshape(-1) ,-np.log(fxy.values.reshape(-1)))\n",
        "\n",
        "# H_Y 계산\n",
        "prob_y = fxy.marginal_distribution(['Y'], inplace=False).values\n",
        "H_Y = np.dot(prob_y ,-np.log(prob_y))\n",
        "\n",
        "# 결과 계산\n",
        "np.round(H_XY-H_Y, 3)"
      ]
    },
    {
      "cell_type": "code",
      "execution_count": null,
      "metadata": {
        "id": "L0-_RihMj1YN",
        "outputId": "045ff7a5-c91f-4cc9-a637-f543e9758695"
      },
      "outputs": [
        {
          "data": {
            "text/plain": [
              "0.06"
            ]
          },
          "execution_count": 10,
          "metadata": {},
          "output_type": "execute_result"
        }
      ],
      "source": [
        "# 예제\n",
        "# 상호 정보 계산\n",
        "\n",
        "# 결합 확률 정의\n",
        "pxy = 1/15 * np.array([2, 4, 3, 1, 1, 4])\n",
        "fxy = JPD(['X', 'Y'],[2, 3], pxy)\n",
        "\n",
        "# 주변확률 계산\n",
        "px = fxy.marginal_distribution(['X'], inplace=False).values\n",
        "py = fxy.marginal_distribution(['Y'], inplace=False).values\n",
        "\n",
        "# 상호 정보 계산\n",
        "h_xy = np.dot(pxy, -np.log(pxy))\n",
        "h_x = np.dot(px, -np.log(px))\n",
        "h_y = np.dot(py, -np.log(py))\n",
        "\n",
        "# 결과\n",
        "i_xy = h_x + h_y - h_xy\n",
        "i_xy.round(3)"
      ]
    },
    {
      "cell_type": "code",
      "execution_count": null,
      "metadata": {
        "id": "JH6ZX-exj1YO",
        "outputId": "6edea019-0d4a-4ff8-de85-fee3d76c31bd"
      },
      "outputs": [
        {
          "data": {
            "text/plain": [
              "1.099"
            ]
          },
          "execution_count": 11,
          "metadata": {},
          "output_type": "execute_result"
        }
      ],
      "source": [
        "# 예제\n",
        "# 교차 엔트로피 계산\n",
        "px = [1/4, 1/2, 1/4]\n",
        "qx = [1/3, 1/3, 1/3]\n",
        "\n",
        "hpq = np.dot(px, -np.log(qx))\n",
        "hpq.round(3)"
      ]
    }
  ]
}