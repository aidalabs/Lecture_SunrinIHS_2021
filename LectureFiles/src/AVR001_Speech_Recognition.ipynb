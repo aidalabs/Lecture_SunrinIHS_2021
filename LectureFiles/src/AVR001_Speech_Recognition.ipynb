{
  "nbformat": 4,
  "nbformat_minor": 0,
  "metadata": {
    "colab": {
      "provenance": []
    },
    "kernelspec": {
      "name": "python3",
      "display_name": "Python 3"
    },
    "language_info": {
      "name": "python"
    }
  },
  "cells": [
    {
      "cell_type": "code",
      "source": [
        "!pip install speech_recognition"
      ],
      "metadata": {
        "id": "qin6Z3OI0Muz"
      },
      "execution_count": null,
      "outputs": []
    },
    {
      "cell_type": "code",
      "source": [
        "import speech_recognition as sr"
      ],
      "metadata": {
        "id": "yF5KVKx20HHa"
      },
      "execution_count": null,
      "outputs": []
    },
    {
      "cell_type": "code",
      "execution_count": null,
      "metadata": {
        "id": "uO_9PSe80Fgr"
      },
      "outputs": [],
      "source": [
        "def my_stt():\n",
        "\tr = sr.Recognizer()\n",
        "\twith sr.Microphone() as source:\n",
        "\t\tprint('Recognizing...')\n",
        "\t\taudio = r.listen(source)\n",
        "\n",
        "\tmySpeech = r.recognize_google(audio, language='ko', show_all=False)\n",
        "\n",
        "\ttry:\n",
        "\t\treturn mySpeech\n",
        "\texcept sr.UnknowValueError:\n",
        "\t\tprint('I cannot understand the voice.')\n",
        "\texcept sr.RequestError as e:\n",
        "\t\tprint('I cannot request to Speech Recognition Service. --> {}'.format(e))"
      ]
    },
    {
      "cell_type": "code",
      "source": [
        "while True:\n",
        "\tmy_speech = my_stt()\n",
        "\n",
        "\tif my_speech == 'end':\n",
        "\t\tprint('finish service.')\n",
        "\t\tbreak\n",
        "\telse:\n",
        "\t\tprint('Result :' + my_speech)"
      ],
      "metadata": {
        "id": "IyRWoKLd0IuK"
      },
      "execution_count": null,
      "outputs": []
    }
  ]
}