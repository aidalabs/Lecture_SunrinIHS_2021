{
  "nbformat": 4,
  "nbformat_minor": 0,
  "metadata": {
    "colab": {
      "provenance": [],
      "toc_visible": true
    },
    "kernelspec": {
      "name": "python3",
      "display_name": "Python 3"
    },
    "language_info": {
      "name": "python"
    }
  },
  "cells": [
    {
      "cell_type": "markdown",
      "source": [
        "# **확률 기초**"
      ],
      "metadata": {
        "id": "KPuCI2a0_8RH"
      }
    },
    {
      "cell_type": "markdown",
      "source": [
        "## **1. 확률과 확률변수**"
      ],
      "metadata": {
        "id": "sPjx4q5uBXEr"
      }
    },
    {
      "cell_type": "markdown",
      "source": [
        "### 1-1. 필요한 패키지"
      ],
      "metadata": {
        "id": "WYF0YuSCU91y"
      }
    },
    {
      "cell_type": "markdown",
      "source": [
        "- NumPy (Numerical Python):\n",
        "    - 파이썬의 과학 및 수학 계산을 위한 핵심 라이브러리 중 하나\n",
        "    - 다차원 배열과 행렬 연산을 위한 기본적인 기능을 제공하며, 고성능 연산을 지원함\n",
        "    - 수학적 계산, 선형 대수, 푸리에 변환 및 랜덤 넘버 생성과 같은 다양한 수치 계산 작업에 사용\n",
        "<br /><br />\n",
        "- SciPy (Scientific Python):\n",
        "    - 과학 및 공학 분야의 다양한 고급 수학, 과학 및 엔지니어링 문제를 해결하기 위한 라이브러리\n",
        "    - NumPy의 기능을 기반으로 하며, 최적화, 선형 대수, 적분, 미분방정식 해법, 신호 처리 등과 같은 다양한 모듈을 포함하고 있음\n",
        "    - 과학 연구 및 엔지니어링 응용 프로그램에서 많이 사용\n",
        "<br /><br />\n",
        "- Matplotlib:\n",
        "    - 데이터 시각화와 그래프 작성을 위한 파이썬 라이브러리\n",
        "    - 다양한 그래프 유형, 플롯 스타일 및 사용자 지정 옵션을 제공하여 데이터를 시각적으로 표현하는 데 사용\n",
        "    - 과학 연구, 데이터 분석 및 보고서 작성 등 다양한 분야에서 널리 활용됨\n",
        "<br /><br />\n",
        "- SymPy:\n",
        "    - 파이썬의 기호 대수 라이브러리\n",
        "    - 수학적인 식과 수식을 다루는 데 사용\n",
        "    - 심볼릭 계산을 지원하며, 대수적으로 연산하고, 미분, 적분, 대수 방정식 해법 등을 수행할 수 있음\n",
        "    - 수학 교육, 기호 연산을 필요로 하는 엔지니어링 및 물리학 연구 등에서 유용하게 활용됨\n",
        "<br /><br />\n",
        "- 이러한 라이브러리들은 각자의 특징과 강점을 가지고 있으며, 다양한 과학 및 엔지니어링 분야에서 파이썬을 사용하여 데이터 처리, 수학적 계산 및 시각화 작업을 수행하는 데 도움을 주고 있음"
      ],
      "metadata": {
        "id": "X9Gduau7VCkF"
      }
    },
    {
      "cell_type": "code",
      "execution_count": null,
      "metadata": {
        "id": "l7psbciB_5qm"
      },
      "outputs": [],
      "source": [
        "# 필요한 패키지 가져오기\n",
        "import numpy as np\n",
        "import scipy\n",
        "from scipy import linalg as la\n",
        "import matplotlib.pyplot as plt\n",
        "import scipy.stats as ss\n",
        "import sympy"
      ]
    },
    {
      "cell_type": "code",
      "source": [
        "# 한글출력을 위한 설정\n",
        "plt.rcParams['font.family'] = 'Malgun Gothic'\n",
        "plt.rcParams['axes.unicode_minus'] = False"
      ],
      "metadata": {
        "id": "6ZJPSinwWo-r"
      },
      "execution_count": null,
      "outputs": []
    },
    {
      "cell_type": "code",
      "source": [
        "# SciPy 버전 확인\n",
        "scipy.__version__"
      ],
      "metadata": {
        "colab": {
          "base_uri": "https://localhost:8080/",
          "height": 35
        },
        "id": "c0a0U7tUWo0e",
        "outputId": "09646470-80cd-466d-da21-e45650e55da4"
      },
      "execution_count": null,
      "outputs": [
        {
          "output_type": "execute_result",
          "data": {
            "text/plain": [
              "'1.10.1'"
            ],
            "application/vnd.google.colaboratory.intrinsic+json": {
              "type": "string"
            }
          },
          "metadata": {},
          "execution_count": 3
        }
      ]
    },
    {
      "cell_type": "markdown",
      "metadata": {
        "id": "Gq7FUXFB_5qn"
      },
      "source": [
        "## **2. 확률 밀도 함수**"
      ]
    },
    {
      "cell_type": "markdown",
      "source": [
        "- 예제: 이산형 확률 밀도 함수\n",
        "    - 이항 분포\n",
        "    - 성공확률이 1/2인 시행에서 총 4번을 시행했을 경우\n",
        "    - 𝐴 = {0, 1, 2}의 확률을 계산해보자"
      ],
      "metadata": {
        "id": "vRDpDpDjW3e5"
      }
    },
    {
      "cell_type": "code",
      "source": [
        "import scipy.special"
      ],
      "metadata": {
        "id": "g3nTt2YEXBSk"
      },
      "execution_count": null,
      "outputs": []
    },
    {
      "cell_type": "code",
      "execution_count": null,
      "metadata": {
        "id": "35UyO1Ux_5qo"
      },
      "outputs": [],
      "source": [
        "A = [0, 1, 2]\n",
        "trials = 4\n",
        "event_prob = 1/2"
      ]
    },
    {
      "cell_type": "code",
      "source": [
        "np.sum(scipy.special.comb(trials, A) * event_prob ** trials)"
      ],
      "metadata": {
        "colab": {
          "base_uri": "https://localhost:8080/"
        },
        "id": "JHFg7mhSXMAV",
        "outputId": "25fbb5a2-b714-40ef-b980-1c19effc8234"
      },
      "execution_count": null,
      "outputs": [
        {
          "output_type": "execute_result",
          "data": {
            "text/plain": [
              "0.6875"
            ]
          },
          "metadata": {},
          "execution_count": 6
        }
      ]
    },
    {
      "cell_type": "code",
      "execution_count": null,
      "metadata": {
        "id": "FFXUsDkA_5qo",
        "outputId": "37b3ba79-3c9d-4369-b32a-f777b049475d",
        "colab": {
          "base_uri": "https://localhost:8080/",
          "height": 37
        }
      },
      "outputs": [
        {
          "output_type": "execute_result",
          "data": {
            "text/plain": [
              "1"
            ],
            "text/latex": "$\\displaystyle 1$"
          },
          "metadata": {},
          "execution_count": 7
        }
      ],
      "source": [
        "x = sympy.Symbol('x')\n",
        "PA = sympy.integrate(sympy.exp(-x), (x, 0, sympy.oo))\n",
        "PA"
      ]
    },
    {
      "cell_type": "code",
      "execution_count": null,
      "metadata": {
        "id": "4i1G8wsN_5qp",
        "outputId": "7d20ec2e-6a49-4738-8703-0dd67e901d2b"
      },
      "outputs": [
        {
          "data": {
            "text/latex": [
              "$\\displaystyle 1 - e^{-1}$"
            ],
            "text/plain": [
              "1 - exp(-1)"
            ]
          },
          "execution_count": 6,
          "metadata": {},
          "output_type": "execute_result"
        }
      ],
      "source": [
        "# 특정 이벤트의 확률 구하기\n",
        "x = sympy.Symbol('x')\n",
        "PA = sympy.integrate(sympy.exp(-x), (x, 0, 1))\n",
        "PA"
      ]
    },
    {
      "cell_type": "markdown",
      "source": [
        "- 예제: 균등 분포의 분포함수\n",
        "    - 구간 [0, 1]에서 정의된 균등 분포의 분포 함수를 정의하세요\n",
        "    - 분포 함수를 x값에 따른 그래프를 그리세요"
      ],
      "metadata": {
        "id": "kYn01Ke4llOo"
      }
    },
    {
      "cell_type": "code",
      "execution_count": null,
      "metadata": {
        "id": "q_21Rdbd_5qp",
        "outputId": "c354bb0c-1aef-438d-f823-8f52280d900a"
      },
      "outputs": [
        {
          "data": {
            "text/latex": [
              "$\\displaystyle x$"
            ],
            "text/plain": [
              "x"
            ]
          },
          "execution_count": 8,
          "metadata": {},
          "output_type": "execute_result"
        }
      ],
      "source": [
        "# 해답\n",
        "#1)\n",
        "a, b, x = sympy.symbols('a, b, x')\n",
        "x = sympy.Symbol('x')\n",
        "F = sympy.Lambda((x, a, b), x/(b-a))\n",
        "F(x, 0, 1)"
      ]
    },
    {
      "cell_type": "code",
      "execution_count": null,
      "metadata": {
        "scrolled": false,
        "id": "Y2SyqjYW_5qq",
        "outputId": "fdba346e-f051-49e6-9d2a-94e42ff70384"
      },
      "outputs": [
        {
          "data": {
            "image/png": "[encoded data removed]",
            "text/plain": [
              "<Figure size 504x504 with 1 Axes>"
            ]
          },
          "metadata": {
            "needs_background": "light"
          },
          "output_type": "display_data"
        }
      ],
      "source": [
        "# 2)\n",
        "x = np.linspace(0,1, 100)\n",
        "cdf_x = x\n",
        "\n",
        "fig, ax = plt.subplots(figsize=(7,7))\n",
        "ax.plot(x, cdf_x)\n",
        "ax.set_xlabel(\"균등확률변수값\")\n",
        "ax.set_ylabel(\"F(x)=Pr(X<=x)\")\n",
        "\n",
        "plt.tight_layout()"
      ]
    },
    {
      "cell_type": "code",
      "execution_count": null,
      "metadata": {
        "id": "X1t_Pc6j_5qq",
        "outputId": "49ddf9db-f19a-4575-c21c-ee2bf7f9ed22"
      },
      "outputs": [
        {
          "data": {
            "text/latex": [
              "$\\displaystyle 0$"
            ],
            "text/plain": [
              "0"
            ]
          },
          "execution_count": 10,
          "metadata": {},
          "output_type": "execute_result"
        }
      ],
      "source": [
        "# 균등 분포의 기대값 구하기\n",
        "x = sympy.Symbol('x')\n",
        "mu = sympy.integrate(x*1/2, (x, -1, 1))\n",
        "mu"
      ]
    },
    {
      "cell_type": "code",
      "execution_count": null,
      "metadata": {
        "id": "eUv5Q06L_5qq",
        "outputId": "15a61999-f76a-4e11-f334-e4bd70f350e2"
      },
      "outputs": [
        {
          "data": {
            "text/latex": [
              "$\\displaystyle \\frac{1}{3}$"
            ],
            "text/plain": [
              "1/3"
            ]
          },
          "execution_count": 11,
          "metadata": {},
          "output_type": "execute_result"
        }
      ],
      "source": [
        "# 분산 구하기\n",
        "EX2 = sympy.integrate(x**2*1/2, (x, -1, 1))\n",
        "EX2"
      ]
    },
    {
      "cell_type": "code",
      "execution_count": null,
      "metadata": {
        "id": "Ats_s820_5qr",
        "outputId": "03b8caf9-4e82-43d4-c72d-bc22747ea529"
      },
      "outputs": [
        {
          "data": {
            "text/latex": [
              "$\\displaystyle \\frac{1}{3}$"
            ],
            "text/plain": [
              "1/3"
            ]
          },
          "execution_count": 12,
          "metadata": {},
          "output_type": "execute_result"
        }
      ],
      "source": [
        "sigma2 = EX2 - mu**2\n",
        "sigma2"
      ]
    },
    {
      "cell_type": "code",
      "execution_count": null,
      "metadata": {
        "id": "oyNg8Uay_5qr",
        "outputId": "dee65c9a-f56b-42b2-cab1-8d01a0051492"
      },
      "outputs": [
        {
          "data": {
            "text/latex": [
              "$\\displaystyle \\frac{\\sqrt{3}}{3}$"
            ],
            "text/plain": [
              "sqrt(3)/3"
            ]
          },
          "execution_count": 13,
          "metadata": {},
          "output_type": "execute_result"
        }
      ],
      "source": [
        "sigma = sympy.sqrt(sigma2)\n",
        "sigma"
      ]
    },
    {
      "cell_type": "code",
      "execution_count": null,
      "metadata": {
        "scrolled": false,
        "id": "1WoOPkIR_5qr",
        "outputId": "e92e076e-356f-48fb-8ed3-7733a8c78636"
      },
      "outputs": [
        {
          "data": {
            "text/latex": [
              "$\\displaystyle \\frac{a + b}{2}$"
            ],
            "text/plain": [
              "(a + b)/2"
            ]
          },
          "execution_count": 14,
          "metadata": {},
          "output_type": "execute_result"
        }
      ],
      "source": [
        "# 기대값\n",
        "import sympy\n",
        "\n",
        "a, b, x = sympy.symbols('a, b, x')\n",
        "mu = sympy.integrate(x/(b-a), (x, a, b))\n",
        "mu.simplify().together()"
      ]
    },
    {
      "cell_type": "code",
      "execution_count": null,
      "metadata": {
        "id": "0x7no5qZ_5qr",
        "outputId": "ff85ff20-af91-4a2f-e156-e413335cd471"
      },
      "outputs": [
        {
          "data": {
            "text/latex": [
              "$\\displaystyle \\frac{a^{2} + a b + b^{2}}{3}$"
            ],
            "text/plain": [
              "(a**2 + a*b + b**2)/3"
            ]
          },
          "execution_count": 15,
          "metadata": {},
          "output_type": "execute_result"
        }
      ],
      "source": [
        "# 제곱 기대값\n",
        "EX2 = sympy.integrate(x**2/(b-a), (x, a, b))\n",
        "EX2.simplify().factor()"
      ]
    },
    {
      "cell_type": "code",
      "execution_count": null,
      "metadata": {
        "id": "nV6Z_7aC_5qr",
        "outputId": "3005dadb-ca98-4a9b-cf5d-307acc2b526b"
      },
      "outputs": [
        {
          "data": {
            "text/latex": [
              "$\\displaystyle \\frac{\\left(a - b\\right)^{2}}{12}$"
            ],
            "text/plain": [
              "(a - b)**2/12"
            ]
          },
          "execution_count": 16,
          "metadata": {},
          "output_type": "execute_result"
        }
      ],
      "source": [
        "# 분산 계산\n",
        "sigma2 = EX2 - mu**2\n",
        "sigma2.simplify().factor()"
      ]
    },
    {
      "cell_type": "code",
      "execution_count": null,
      "metadata": {
        "id": "GAApfNrY_5qr",
        "outputId": "2f82f478-daec-401f-d27c-47896db8c1f4"
      },
      "outputs": [
        {
          "data": {
            "text/latex": [
              "$\\displaystyle \\left(\\mu + \\sigma^{2} t\\right) e^{\\mu t + \\frac{\\sigma^{2} t^{2}}{2}}$"
            ],
            "text/plain": [
              "(mu + sigma**2*t)*exp(mu*t + sigma**2*t**2/2)"
            ]
          },
          "execution_count": 17,
          "metadata": {},
          "output_type": "execute_result"
        }
      ],
      "source": [
        "# 적률 함수를 이용한 평균, 분산 구하기\n",
        "mu, sigma, t = sympy.symbols('mu, sigma, t')\n",
        "m_gen= sympy.exp(mu*t + (sigma**2 * t**2)/2)\n",
        "# 1차 적률 구하기\n",
        "m_gen.diff(t)"
      ]
    },
    {
      "cell_type": "code",
      "execution_count": null,
      "metadata": {
        "id": "IgPFr3Be_5qs",
        "outputId": "6eab4b26-2923-4617-e375-3852ea5b0058"
      },
      "outputs": [
        {
          "data": {
            "text/latex": [
              "$\\displaystyle \\mu$"
            ],
            "text/plain": [
              "mu"
            ]
          },
          "execution_count": 18,
          "metadata": {},
          "output_type": "execute_result"
        }
      ],
      "source": [
        "# 1차 적률: t=0\n",
        "m_gen_func = sympy.Lambda(t, m_gen.diff(t))\n",
        "EX = m_gen_func(0)\n",
        "EX"
      ]
    },
    {
      "cell_type": "code",
      "execution_count": null,
      "metadata": {
        "id": "AQ2Y9cU6_5qs",
        "outputId": "2d829f7f-e227-42ec-c8a3-aa5a6be5b54e"
      },
      "outputs": [
        {
          "data": {
            "text/latex": [
              "$\\displaystyle \\left(\\sigma^{2} + \\left(\\mu + \\sigma^{2} t\\right)^{2}\\right) e^{t \\left(\\mu + \\frac{\\sigma^{2} t}{2}\\right)}$"
            ],
            "text/plain": [
              "(sigma**2 + (mu + sigma**2*t)**2)*exp(t*(mu + sigma**2*t/2))"
            ]
          },
          "execution_count": 19,
          "metadata": {},
          "output_type": "execute_result"
        }
      ],
      "source": [
        "# 2차 적률 구하기\n",
        "m_gen.diff(t, 2)"
      ]
    },
    {
      "cell_type": "code",
      "execution_count": null,
      "metadata": {
        "id": "jrwvH8DF_5qs",
        "outputId": "03d6870a-1aee-4e26-db28-8a08294a0145"
      },
      "outputs": [
        {
          "data": {
            "text/latex": [
              "$\\displaystyle \\mu^{2} + \\sigma^{2}$"
            ],
            "text/plain": [
              "mu**2 + sigma**2"
            ]
          },
          "execution_count": 20,
          "metadata": {},
          "output_type": "execute_result"
        }
      ],
      "source": [
        "m_gen_func = sympy.Lambda(t, m_gen.diff(t, 2))\n",
        "# 2차 적률: t=0\n",
        "EX2 = m_gen_func(0)\n",
        "EX2"
      ]
    },
    {
      "cell_type": "code",
      "execution_count": null,
      "metadata": {
        "id": "J9uqtLas_5qs",
        "outputId": "c4f2b008-d882-4cff-8131-f1126cf72d30"
      },
      "outputs": [
        {
          "data": {
            "text/latex": [
              "$\\displaystyle \\sigma^{2}$"
            ],
            "text/plain": [
              "sigma**2"
            ]
          },
          "execution_count": 21,
          "metadata": {},
          "output_type": "execute_result"
        }
      ],
      "source": [
        "# 분산\n",
        "EX2 - EX**2"
      ]
    },
    {
      "cell_type": "markdown",
      "metadata": {
        "id": "AoU_pA9ijb64"
      },
      "source": [
        "## **3. 조건부 확률과 독립**"
      ]
    },
    {
      "cell_type": "code",
      "execution_count": null,
      "metadata": {
        "id": "tuorn_zDjb67",
        "outputId": "2e73d9c7-a986-4317-9ad2-753746202c22"
      },
      "outputs": [
        {
          "data": {
            "text/plain": [
              "'v0.1.9'"
            ]
          },
          "execution_count": 2,
          "metadata": {},
          "output_type": "execute_result"
        }
      ],
      "source": [
        "# 필요한 패키지\n",
        "import numpy as np\n",
        "import scipy\n",
        "from scipy import linalg as la\n",
        "import matplotlib.pyplot as plt\n",
        "\n",
        "import scipy.stats as ss\n",
        "import sympy\n",
        "\n",
        "# 한글출력\n",
        "plt.rcParams['font.family'] = 'Malgun Gothic'\n",
        "plt.rcParams['axes.unicode_minus'] = False\n",
        "\n",
        "# 필요한 패키지 2\n",
        "from pgmpy.factors.discrete import JointProbabilityDistribution as JPD\n",
        "import pgmpy\n",
        "pgmpy.__version__"
      ]
    },
    {
      "cell_type": "markdown",
      "metadata": {
        "id": "oWBgwt0tjb68"
      },
      "source": [
        "### 3-1. 주변 분포와 조건부 분포"
      ]
    },
    {
      "cell_type": "code",
      "execution_count": null,
      "metadata": {
        "scrolled": true,
        "id": "OUCxqyoTjb68",
        "outputId": "f0976c56-beea-47a9-b3e6-81b07f6449e0"
      },
      "outputs": [
        {
          "name": "stdout",
          "output_type": "stream",
          "text": [
            "+-------+-------+------------+\n",
            "| X1    | X2    |   P(X1,X2) |\n",
            "+=======+=======+============+\n",
            "| X1(0) | X2(0) |     0.0952 |\n",
            "+-------+-------+------------+\n",
            "| X1(0) | X2(1) |     0.1429 |\n",
            "+-------+-------+------------+\n",
            "| X1(1) | X2(0) |     0.1429 |\n",
            "+-------+-------+------------+\n",
            "| X1(1) | X2(1) |     0.1905 |\n",
            "+-------+-------+------------+\n",
            "| X1(2) | X2(0) |     0.1905 |\n",
            "+-------+-------+------------+\n",
            "| X1(2) | X2(1) |     0.2381 |\n",
            "+-------+-------+------------+\n"
          ]
        }
      ],
      "source": [
        "# 결합 확률 정의\n",
        "from pgmpy.factors.discrete import JointProbabilityDistribution as JPD\n",
        "\n",
        "prob = list()\n",
        "for i in np.arange(1, 4):\n",
        "    for j in np.arange(1,3):\n",
        "        prob.append((i+j)/21)\n",
        "\n",
        "fxy = JPD(['X1', 'X2'],[3, 2], prob)\n",
        "print(fxy)"
      ]
    },
    {
      "cell_type": "code",
      "execution_count": null,
      "metadata": {
        "id": "InLC_ZILjb68",
        "outputId": "8ec24869-7cc1-41dc-d549-1808f402509f"
      },
      "outputs": [
        {
          "data": {
            "text/plain": [
              "1.0"
            ]
          },
          "execution_count": 4,
          "metadata": {},
          "output_type": "execute_result"
        }
      ],
      "source": [
        "# 확률 밀도 함수 확인\n",
        "np.sum(fxy.values)"
      ]
    },
    {
      "cell_type": "code",
      "execution_count": null,
      "metadata": {
        "scrolled": true,
        "id": "gjtxIRCwjb69",
        "outputId": "35414b35-4cd3-4b65-98f2-d2fa4c766c31"
      },
      "outputs": [
        {
          "name": "stdout",
          "output_type": "stream",
          "text": [
            "+-------+---------+\n",
            "| X1    |   P(X1) |\n",
            "+=======+=========+\n",
            "| X1(0) |  0.2381 |\n",
            "+-------+---------+\n",
            "| X1(1) |  0.3333 |\n",
            "+-------+---------+\n",
            "| X1(2) |  0.4286 |\n",
            "+-------+---------+\n"
          ]
        }
      ],
      "source": [
        "# 주변 확률 구하기\n",
        "fx = fxy.marginal_distribution(['X1'], inplace=False)\n",
        "print(fx)"
      ]
    },
    {
      "cell_type": "markdown",
      "metadata": {
        "id": "NlPJ5UM0jb69"
      },
      "source": [
        "- [예제] $X_1=1$ 일 때 $X_2$ 의 조건부 확률"
      ]
    },
    {
      "cell_type": "code",
      "execution_count": null,
      "metadata": {
        "scrolled": true,
        "id": "zGO45Yjbjb69",
        "outputId": "24d542ee-89ac-480e-c72d-6b059eb02510"
      },
      "outputs": [
        {
          "name": "stdout",
          "output_type": "stream",
          "text": [
            "+-------+---------+\n",
            "| X2    |   P(X2) |\n",
            "+=======+=========+\n",
            "| X2(0) |  0.4000 |\n",
            "+-------+---------+\n",
            "| X2(1) |  0.6000 |\n",
            "+-------+---------+\n"
          ]
        }
      ],
      "source": [
        "prob = fxy.conditional_distribution([('X1', 0)], inplace=False)\n",
        "print(prob)"
      ]
    },
    {
      "cell_type": "markdown",
      "metadata": {
        "id": "pgntrYg8jb69"
      },
      "source": [
        "### 3-2. 상관계수"
      ]
    },
    {
      "cell_type": "code",
      "execution_count": null,
      "metadata": {
        "id": "iME7BoF-jb69",
        "outputId": "45909814-9ae6-4716-d738-685138915568"
      },
      "outputs": [
        {
          "name": "stdout",
          "output_type": "stream",
          "text": [
            "+------+------+----------+\n",
            "| X    | Y    |   P(X,Y) |\n",
            "+======+======+==========+\n",
            "| X(0) | Y(0) |   0.1333 |\n",
            "+------+------+----------+\n",
            "| X(0) | Y(1) |   0.2667 |\n",
            "+------+------+----------+\n",
            "| X(0) | Y(2) |   0.2000 |\n",
            "+------+------+----------+\n",
            "| X(1) | Y(0) |   0.0667 |\n",
            "+------+------+----------+\n",
            "| X(1) | Y(1) |   0.0667 |\n",
            "+------+------+----------+\n",
            "| X(1) | Y(2) |   0.2667 |\n",
            "+------+------+----------+\n"
          ]
        }
      ],
      "source": [
        "# 결합확률 정의\n",
        "prob = np.array([2, 4, 3, 1, 1, 4])/15\n",
        "fxy = JPD(['X', 'Y'],[2, 3], prob)\n",
        "print(fxy)"
      ]
    },
    {
      "cell_type": "code",
      "execution_count": null,
      "metadata": {
        "id": "M17g7mn6jb6-",
        "outputId": "84c6e6be-f6d2-4370-dffa-e8ea666cc2da"
      },
      "outputs": [
        {
          "data": {
            "text/plain": [
              "1.0"
            ]
          },
          "execution_count": 8,
          "metadata": {},
          "output_type": "execute_result"
        }
      ],
      "source": [
        "# 확률 분포 확인\n",
        "np.sum(fxy.values)"
      ]
    },
    {
      "cell_type": "code",
      "execution_count": null,
      "metadata": {
        "scrolled": true,
        "id": "F8WpDz6-jb6-",
        "outputId": "e3d67a7c-6959-4a16-f994-52642c0e3543"
      },
      "outputs": [
        {
          "name": "stdout",
          "output_type": "stream",
          "text": [
            "+------+--------+\n",
            "| X    |   P(X) |\n",
            "+======+========+\n",
            "| X(0) | 0.6000 |\n",
            "+------+--------+\n",
            "| X(1) | 0.4000 |\n",
            "+------+--------+\n"
          ]
        }
      ],
      "source": [
        "# X 주변 확률 구하기\n",
        "fx = fxy.marginal_distribution(['X'], inplace=False)\n",
        "print(fx)"
      ]
    },
    {
      "cell_type": "code",
      "execution_count": null,
      "metadata": {
        "id": "DltWKq4Ujb6-",
        "outputId": "13bb148f-b9fa-402b-9a0a-897a93e63d16"
      },
      "outputs": [
        {
          "data": {
            "text/plain": [
              "1.4"
            ]
          },
          "execution_count": 10,
          "metadata": {},
          "output_type": "execute_result"
        }
      ],
      "source": [
        "# X의 기대값 구하기\n",
        "x = np.array([1, 2])\n",
        "EX = np.dot(x,fx.values )\n",
        "EX.round(3)"
      ]
    },
    {
      "cell_type": "code",
      "execution_count": null,
      "metadata": {
        "id": "c1oBdcdxjb6-",
        "outputId": "d534b059-d3d1-41bf-fcd1-9e91d1e93e54"
      },
      "outputs": [
        {
          "data": {
            "text/plain": [
              "2.2"
            ]
          },
          "execution_count": 11,
          "metadata": {},
          "output_type": "execute_result"
        }
      ],
      "source": [
        "# X의 제곱 기대값 구하기\n",
        "EXX = np.dot(x*x, fx.values)\n",
        "EXX.round(3)"
      ]
    },
    {
      "cell_type": "code",
      "execution_count": null,
      "metadata": {
        "id": "DiLbtoQRjb6_",
        "outputId": "d8c92c3f-fba1-4c88-8553-fbdb480eab4c"
      },
      "outputs": [
        {
          "data": {
            "text/plain": [
              "0.49"
            ]
          },
          "execution_count": 12,
          "metadata": {},
          "output_type": "execute_result"
        }
      ],
      "source": [
        "# X의 표준편차 구하기\n",
        "SDX = np.sqrt(EXX-EX**2)\n",
        "SDX.round(3)"
      ]
    },
    {
      "cell_type": "code",
      "execution_count": null,
      "metadata": {
        "id": "AfduY7Q6jb6_"
      },
      "outputs": [],
      "source": [
        "# Y의 주변 분포, 기대값, 제곱합, 표준편차\n",
        "\n",
        "# Y의 주변 분포\n",
        "fy = fxy.marginal_distribution(['Y'], inplace=False)\n",
        "\n",
        "# Y의 기대값\n",
        "y = np.array([1, 2, 3])\n",
        "EY = np.dot(y,fy.values )\n",
        "\n",
        "# Y의 제곱 기대값\n",
        "EYY = np.dot(y*y, fy.values)\n",
        "\n",
        "# Y의 표준편차\n",
        "SDY = np.sqrt(EYY-EY**2)"
      ]
    },
    {
      "cell_type": "code",
      "execution_count": null,
      "metadata": {
        "id": "gp_Wifhrjb6_",
        "outputId": "fc46501e-f1c3-4a72-fc7a-7b0e01e22c4f"
      },
      "outputs": [
        {
          "data": {
            "text/plain": [
              "array([1, 2, 3, 2, 4, 6])"
            ]
          },
          "execution_count": 14,
          "metadata": {},
          "output_type": "execute_result"
        }
      ],
      "source": [
        "# 공분산 구하기\n",
        "# xy 값 구성\n",
        "xy = np.outer(x, y).reshape(-1,)\n",
        "xy"
      ]
    },
    {
      "cell_type": "code",
      "execution_count": null,
      "metadata": {
        "id": "74eO-rHmjb6_",
        "outputId": "c3cbd8d7-bba2-4b72-b8ba-ca9d6ee6cc6c"
      },
      "outputs": [
        {
          "data": {
            "text/plain": [
              "3.267"
            ]
          },
          "execution_count": 15,
          "metadata": {},
          "output_type": "execute_result"
        }
      ],
      "source": [
        "# XY 기대값\n",
        "EXY = np.dot(xy, fxy.values.reshape(-1, ))\n",
        "EXY.round(3)"
      ]
    },
    {
      "cell_type": "code",
      "execution_count": null,
      "metadata": {
        "id": "uk2IxYDGjb6_",
        "outputId": "0846a388-dcb3-450f-df99-2f4356f99af6"
      },
      "outputs": [
        {
          "data": {
            "text/plain": [
              "0.093"
            ]
          },
          "execution_count": 16,
          "metadata": {},
          "output_type": "execute_result"
        }
      ],
      "source": [
        "# 공분산 계산\n",
        "CovXY = EXY - EX*EY\n",
        "CovXY.round(3)"
      ]
    },
    {
      "cell_type": "code",
      "execution_count": null,
      "metadata": {
        "id": "nGT5-k88jb6_",
        "outputId": "559e9cb0-6223-4f35-9866-b9e62a7bc39d"
      },
      "outputs": [
        {
          "data": {
            "text/plain": [
              "0.247"
            ]
          },
          "execution_count": 17,
          "metadata": {},
          "output_type": "execute_result"
        }
      ],
      "source": [
        "# 상관계수 값\n",
        "rho = CovXY / (SDX * SDY)\n",
        "rho.round(3)"
      ]
    },
    {
      "cell_type": "code",
      "execution_count": null,
      "metadata": {
        "id": "1pLNq1VNjb7A",
        "outputId": "e3740dcb-90d1-4813-afae-6b19865edb53"
      },
      "outputs": [
        {
          "data": {
            "text/plain": [
              "False"
            ]
          },
          "execution_count": 18,
          "metadata": {},
          "output_type": "execute_result"
        }
      ],
      "source": [
        "# 두 변수 간의 독립성 여부 확인\n",
        "fxy.check_independence(['X'], ['Y'])"
      ]
    },
    {
      "cell_type": "markdown",
      "metadata": {
        "id": "dW7DnHkFjuwS"
      },
      "source": [
        "## **4. 표본 분포**"
      ]
    },
    {
      "cell_type": "code",
      "execution_count": null,
      "metadata": {
        "id": "YRSQejznjuwX",
        "outputId": "2a7feb2e-9fd6-4daf-b46a-b6b6ec38bef3"
      },
      "outputs": [
        {
          "data": {
            "text/plain": [
              "'1.3.2'"
            ]
          },
          "execution_count": 2,
          "metadata": {},
          "output_type": "execute_result"
        }
      ],
      "source": [
        "# 필요한 패키지\n",
        "import numpy as np\n",
        "import matplotlib.pyplot as plt\n",
        "import pandas as pd\n",
        "\n",
        "import scipy\n",
        "from scipy import linalg as la\n",
        "import scipy.stats as ss\n",
        "import scipy.special\n",
        "\n",
        "# 한글출력\n",
        "plt.rcParams['font.family'] = 'Malgun Gothic'\n",
        "plt.rcParams['axes.unicode_minus'] = False\n",
        "\n",
        "# 필요한 패키지 2\n",
        "from pgmpy.factors.discrete import JointProbabilityDistribution as JPD\n",
        "import sympy\n",
        "\n",
        "scipy.__version__"
      ]
    },
    {
      "cell_type": "code",
      "execution_count": null,
      "metadata": {
        "id": "oNhD4n13juwZ",
        "outputId": "7603c1f2-b84f-4ad9-fdc0-a50ad908921a"
      },
      "outputs": [
        {
          "data": {
            "text/html": [
              "<div>\n",
              "<style scoped>\n",
              "    .dataframe tbody tr th:only-of-type {\n",
              "        vertical-align: middle;\n",
              "    }\n",
              "\n",
              "    .dataframe tbody tr th {\n",
              "        vertical-align: top;\n",
              "    }\n",
              "\n",
              "    .dataframe thead th {\n",
              "        text-align: right;\n",
              "    }\n",
              "</style>\n",
              "<table border=\"1\" class=\"dataframe\">\n",
              "  <thead>\n",
              "    <tr style=\"text-align: right;\">\n",
              "      <th></th>\n",
              "      <th>0</th>\n",
              "      <th>1</th>\n",
              "      <th>2</th>\n",
              "      <th>3</th>\n",
              "      <th>4</th>\n",
              "      <th>5</th>\n",
              "      <th>6</th>\n",
              "      <th>7</th>\n",
              "      <th>8</th>\n",
              "      <th>9</th>\n",
              "      <th>...</th>\n",
              "      <th>151</th>\n",
              "      <th>152</th>\n",
              "      <th>153</th>\n",
              "      <th>154</th>\n",
              "      <th>155</th>\n",
              "      <th>156</th>\n",
              "      <th>157</th>\n",
              "      <th>158</th>\n",
              "      <th>159</th>\n",
              "      <th>160</th>\n",
              "    </tr>\n",
              "  </thead>\n",
              "  <tbody>\n",
              "    <tr>\n",
              "      <th>0</th>\n",
              "      <td>2018</td>\n",
              "      <td>10200261</td>\n",
              "      <td>P</td>\n",
              "      <td>1127.905175</td>\n",
              "      <td>NaN</td>\n",
              "      <td>2255.0</td>\n",
              "      <td>G2</td>\n",
              "      <td>1</td>\n",
              "      <td>2</td>\n",
              "      <td>G1</td>\n",
              "      <td>...</td>\n",
              "      <td>NaN</td>\n",
              "      <td>NaN</td>\n",
              "      <td>1.0</td>\n",
              "      <td>80.0</td>\n",
              "      <td>60</td>\n",
              "      <td>150</td>\n",
              "      <td>4.0</td>\n",
              "      <td>NaN</td>\n",
              "      <td>NaN</td>\n",
              "      <td>NaN</td>\n",
              "    </tr>\n",
              "    <tr>\n",
              "      <th>1</th>\n",
              "      <td>2018</td>\n",
              "      <td>10200371</td>\n",
              "      <td>P</td>\n",
              "      <td>2223.797699</td>\n",
              "      <td>NaN</td>\n",
              "      <td>4515.0</td>\n",
              "      <td>G1</td>\n",
              "      <td>1</td>\n",
              "      <td>4</td>\n",
              "      <td>G2</td>\n",
              "      <td>...</td>\n",
              "      <td>NaN</td>\n",
              "      <td>NaN</td>\n",
              "      <td>1.0</td>\n",
              "      <td>70.0</td>\n",
              "      <td>150</td>\n",
              "      <td>200</td>\n",
              "      <td>4.0</td>\n",
              "      <td>NaN</td>\n",
              "      <td>NaN</td>\n",
              "      <td>NaN</td>\n",
              "    </tr>\n",
              "  </tbody>\n",
              "</table>\n",
              "<p>2 rows × 161 columns</p>\n",
              "</div>"
            ],
            "text/plain": [
              "    0         1   2            3    4       5   6    7    8   9    ... 151  \\\n",
              "0  2018  10200261   P  1127.905175  NaN  2255.0  G2    1    2  G1  ... NaN   \n",
              "1  2018  10200371   P  2223.797699  NaN  4515.0  G1    1    4  G2  ... NaN   \n",
              "\n",
              "  152  153   154  155  156  157  158 159 160  \n",
              "0 NaN  1.0  80.0   60  150  4.0  NaN NaN NaN  \n",
              "1 NaN  1.0  70.0  150  200  4.0  NaN NaN NaN  \n",
              "\n",
              "[2 rows x 161 columns]"
            ]
          },
          "execution_count": 3,
          "metadata": {},
          "output_type": "execute_result"
        }
      ],
      "source": [
        "# 데이터 구성\n",
        "# [HFWS] 데이터: “가계금융복지조사( 2017년 이후) > 가구마스터(제공)[2018가구금융복지조사]”\n",
        "df = pd.read_csv('https://github.com/bong-ju-kang/kmu-mba-statistics/raw/master/Data/MDIS_2018_HFWS.txt',\n",
        "                 header=None)\n",
        "df.head(2)"
      ]
    },
    {
      "cell_type": "code",
      "execution_count": null,
      "metadata": {
        "id": "fhEJX806juwZ",
        "outputId": "49e1ce65-58db-4b3c-d3d4-022969638928"
      },
      "outputs": [
        {
          "data": {
            "text/plain": [
              "5364.0"
            ]
          },
          "execution_count": 4,
          "metadata": {},
          "output_type": "execute_result"
        }
      ],
      "source": [
        "# 가구당 연간 소득액: 110번째\n",
        "income = df[109]\n",
        "np.round(np.mean(income), 1)"
      ]
    },
    {
      "cell_type": "code",
      "execution_count": null,
      "metadata": {
        "id": "TwEXvlbVjuwa",
        "outputId": "20c1e2c3-b636-43a9-b070-764010fa3e93"
      },
      "outputs": [
        {
          "data": {
            "text/plain": [
              "array([5364. , 5818.4])"
            ]
          },
          "execution_count": 5,
          "metadata": {},
          "output_type": "execute_result"
        }
      ],
      "source": [
        "# 모집단으로 가정\n",
        "# 모 평균, 모 표준편차\n",
        "np.round([np.mean(income),np.std(income, ddof=0)], 1 )"
      ]
    },
    {
      "cell_type": "code",
      "execution_count": null,
      "metadata": {
        "id": "-yA7fdOyjuwa",
        "outputId": "e81cb100-b983-48dc-d582-5d9fa76060c8"
      },
      "outputs": [
        {
          "data": {
            "text/plain": [
              "5323.1"
            ]
          },
          "execution_count": 6,
          "metadata": {},
          "output_type": "execute_result"
        }
      ],
      "source": [
        "# 크기가 100인 임의 표본 1개의 표본 평균\n",
        "size = 100\n",
        "np.random.seed(1)\n",
        "\n",
        "# 비복원 추출\n",
        "index = np.random.choice(len(income), size, replace=False)\n",
        "\n",
        "sample_mean = np.mean(income[index])\n",
        "np.round(sample_mean, 1)"
      ]
    },
    {
      "cell_type": "code",
      "execution_count": null,
      "metadata": {
        "id": "Guhe10Fojuwb",
        "outputId": "52bc55e0-542c-4ff5-9b19-995e167ea5f0"
      },
      "outputs": [
        {
          "data": {
            "text/plain": [
              "0.0054"
            ]
          },
          "execution_count": 7,
          "metadata": {},
          "output_type": "execute_result"
        }
      ],
      "source": [
        "# 표본 비율\n",
        "np.round(size / len(income), 4)"
      ]
    },
    {
      "cell_type": "code",
      "execution_count": null,
      "metadata": {
        "id": "sRZj0BC1juwb",
        "outputId": "d600e0e1-be19-4f5e-f5cc-b31f7312a2c4"
      },
      "outputs": [
        {
          "data": {
            "text/plain": [
              "5343.76"
            ]
          },
          "execution_count": 8,
          "metadata": {},
          "output_type": "execute_result"
        }
      ],
      "source": [
        "# 표본평균의 평균\n",
        "num_samples = 1000\n",
        "size = 100\n",
        "result = []\n",
        "\n",
        "np.random.seed(123)\n",
        "for i in np.arange(num_samples):\n",
        "    index = np.random.choice(len(income), size, replace=False)\n",
        "    result.append(np.mean(income[index]))\n",
        "np.round(np.mean(result), 2)"
      ]
    },
    {
      "cell_type": "code",
      "execution_count": null,
      "metadata": {
        "id": "4Y2rQJ3Djuwc",
        "outputId": "7b0e555b-0b32-4b63-ad4e-0f8aa9f5de35"
      },
      "outputs": [
        {
          "data": {
            "text/plain": [
              "166.67"
            ]
          },
          "execution_count": 9,
          "metadata": {},
          "output_type": "execute_result"
        }
      ],
      "source": [
        "# 이항분포의 평균의 분포\n",
        "\n",
        "# 이항 분포 모수 정의\n",
        "num_samples = 100\n",
        "trials = 1000\n",
        "event_prob = 1/6\n",
        "size = 5\n",
        "\n",
        "# 기대값\n",
        "expected_count = trials * event_prob\n",
        "np.round(expected_count, 2)"
      ]
    },
    {
      "cell_type": "code",
      "execution_count": null,
      "metadata": {
        "id": "xZCeOBXNjuwc",
        "outputId": "2146f83d-3dc6-40c6-f2cf-a40f03a4b7e2"
      },
      "outputs": [
        {
          "data": {
            "text/plain": [
              "166.23"
            ]
          },
          "execution_count": 10,
          "metadata": {},
          "output_type": "execute_result"
        }
      ],
      "source": [
        "# 표본 성공건수의 평균\n",
        "result = []\n",
        "\n",
        "np.random.seed(1234)\n",
        "for i in np.arange(num_samples):\n",
        "    value = np.random.binomial(n=trials, p=event_prob, size=size)\n",
        "    result.append(np.mean(value))\n",
        "\n",
        "np.round(np.mean(result), 2)"
      ]
    },
    {
      "cell_type": "code",
      "execution_count": null,
      "metadata": {
        "id": "thB86nAQjuwd",
        "outputId": "e06638f4-41a0-478c-eb46-c24294544c7e"
      },
      "outputs": [
        {
          "data": {
            "text/plain": [
              "0.0062"
            ]
          },
          "execution_count": 11,
          "metadata": {},
          "output_type": "execute_result"
        }
      ],
      "source": [
        "# CLT를 이용한 확률 계산\n",
        "z = (30-100*1/5)/np.sqrt(100*1/5*4/5)\n",
        "prob = 1 - ss.norm.cdf(z)\n",
        "prob.round(4)"
      ]
    },
    {
      "cell_type": "markdown",
      "metadata": {
        "id": "11acd48b"
      },
      "source": [
        "## **5. 평균**"
      ]
    },
    {
      "cell_type": "markdown",
      "source": [
        "- 파이썬"
      ],
      "metadata": {
        "id": "tEYRXhP8nA2_"
      }
    },
    {
      "cell_type": "code",
      "execution_count": null,
      "metadata": {
        "id": "8f82095b",
        "outputId": "c452f0bd-2578-4b2c-8093-46f95923c001"
      },
      "outputs": [
        {
          "name": "stdout",
          "output_type": "stream",
          "text": [
            "5.0\n"
          ]
        }
      ],
      "source": [
        "x_list = [2, 4, 6, 1, 5, 7, 9, 8, 3]\n",
        "\n",
        "n = len(x_list)\n",
        "sum_x = 0\n",
        "for x in x_list:\n",
        "    sum_x += x\n",
        "mean_x = sum_x/n\n",
        "print(mean_x)"
      ]
    },
    {
      "cell_type": "code",
      "execution_count": null,
      "metadata": {
        "id": "b8cecac0"
      },
      "outputs": [],
      "source": [
        "def mean(x_list):\n",
        "    \"\"\"\n",
        "    리스트 x_list 원소의 평균 구하기\n",
        "    입력값: 리스트 x_list\n",
        "    출력값: 평균 res\n",
        "    \"\"\"\n",
        "    n = len(x_list)\n",
        "    sum_x = 0\n",
        "    for x in x_list:\n",
        "        sum_x += x\n",
        "    res = sum_x/n\n",
        "    return res"
      ]
    },
    {
      "cell_type": "code",
      "execution_count": null,
      "metadata": {
        "id": "28109c30",
        "outputId": "06bb4ae5-3b7e-4378-efd9-fe7c2a65e97e"
      },
      "outputs": [
        {
          "name": "stdout",
          "output_type": "stream",
          "text": [
            "5.0\n"
          ]
        }
      ],
      "source": [
        "x_list = [2, 4, 6, 1, 5, 7, 9, 8, 3]\n",
        "\n",
        "res = mean(x_list)\n",
        "print(res)"
      ]
    },
    {
      "cell_type": "markdown",
      "source": [
        "- Numpy"
      ],
      "metadata": {
        "id": "ID3bQWPWnDrI"
      }
    },
    {
      "cell_type": "code",
      "execution_count": null,
      "metadata": {
        "id": "7e3fc9c4",
        "outputId": "fbb158fa-ba59-40d9-877c-099358ba5e4d"
      },
      "outputs": [
        {
          "name": "stdout",
          "output_type": "stream",
          "text": [
            "5.0\n"
          ]
        }
      ],
      "source": [
        "import numpy as np\n",
        "\n",
        "x_list = [2, 4, 6, 1, 5, 7, 9, 8, 3]\n",
        "mean_x = np.mean(x_list)\n",
        "print(mean_x)"
      ]
    },
    {
      "cell_type": "markdown",
      "metadata": {
        "id": "7509c119"
      },
      "source": [
        "## **6. 분산과 표준편차**"
      ]
    },
    {
      "cell_type": "markdown",
      "source": [
        "- 파이썬"
      ],
      "metadata": {
        "id": "K3pulRgJnLBR"
      }
    },
    {
      "cell_type": "code",
      "execution_count": null,
      "metadata": {
        "id": "969e6fca"
      },
      "outputs": [],
      "source": [
        "def mean(x_list):\n",
        "    \"\"\"\n",
        "    리스트 x_list 원소의 평균 구하기\n",
        "    입력값: 리스트 x_list\n",
        "    출력값: 평균 res\n",
        "    \"\"\"\n",
        "    n = len(x_list)\n",
        "    sum_x = 0\n",
        "    for x in x_list:\n",
        "        sum_x += x\n",
        "    res = sum_x/n\n",
        "    return res"
      ]
    },
    {
      "cell_type": "code",
      "execution_count": null,
      "metadata": {
        "id": "57fc1bf2",
        "outputId": "979440a1-9a42-4e81-f2aa-9f600e42f1c9"
      },
      "outputs": [
        {
          "name": "stdout",
          "output_type": "stream",
          "text": [
            "7.5\n"
          ]
        }
      ],
      "source": [
        "x_list = [2, 4, 6, 1, 5, 7, 9, 8, 3]\n",
        "\n",
        "n = len(x_list)\n",
        "mean_x = mean(x_list)\n",
        "ss_x = 0\n",
        "\n",
        "for x in x_list:\n",
        "    ss_x += (x-mean_x)**2\n",
        "\n",
        "var_x = ss_x/(n-1)\n",
        "print(var_x)"
      ]
    },
    {
      "cell_type": "code",
      "execution_count": null,
      "metadata": {
        "id": "52009707",
        "outputId": "1054f576-1cea-44c1-80e9-7de59d83bd75"
      },
      "outputs": [
        {
          "name": "stdout",
          "output_type": "stream",
          "text": [
            "2.7386127875258306\n"
          ]
        }
      ],
      "source": [
        "std_x = var_x**0.5\n",
        "print(std_x)"
      ]
    },
    {
      "cell_type": "code",
      "execution_count": null,
      "metadata": {
        "id": "8b8c6e8b"
      },
      "outputs": [],
      "source": [
        "def var(x_list):\n",
        "    \"\"\"\n",
        "    리스트 x_list 원소의 분산 구하기\n",
        "    입력값: 리스트 x_list\n",
        "    출력값: 분산 res\n",
        "    \"\"\"\n",
        "    n = len(x_list)\n",
        "    mean_x = mean(x_list)\n",
        "    ss_x = 0\n",
        "\n",
        "    for x in x_list:\n",
        "        ss_x += (x-mean_x)**2\n",
        "\n",
        "    res = ss_x/(n-1)\n",
        "    return res\n",
        "\n",
        "def std(x_list):\n",
        "    \"\"\"\n",
        "    리스트 x_list 원소의 표준 편차 구하기\n",
        "    입력값: 리스트 x_list\n",
        "    출력값: 표준 편차 res\n",
        "    \"\"\"\n",
        "    var_x = var(x_list)\n",
        "    res = var_x**0.5\n",
        "    return res"
      ]
    },
    {
      "cell_type": "code",
      "execution_count": null,
      "metadata": {
        "id": "867993f6",
        "outputId": "284b8b24-bb85-4559-f770-e777c363888f"
      },
      "outputs": [
        {
          "name": "stdout",
          "output_type": "stream",
          "text": [
            "7.5\n",
            "2.7386127875258306\n"
          ]
        }
      ],
      "source": [
        "x_list = [2, 4, 6, 1, 5, 7, 9, 8, 3]\n",
        "\n",
        "var_x = var(x_list)\n",
        "std_x = std(x_list)\n",
        "print(var_x)\n",
        "print(std_x)"
      ]
    },
    {
      "cell_type": "markdown",
      "metadata": {
        "id": "eb675c90"
      },
      "source": [
        "- Numpy"
      ]
    },
    {
      "cell_type": "code",
      "execution_count": null,
      "metadata": {
        "id": "63d5df6d",
        "outputId": "0525a976-d79a-43cd-c82c-d76414bdef3c"
      },
      "outputs": [
        {
          "name": "stdout",
          "output_type": "stream",
          "text": [
            "7.5\n",
            "2.7386127875258306\n"
          ]
        }
      ],
      "source": [
        "import numpy as np\n",
        "\n",
        "x_list = [2, 4, 6, 1, 5, 7, 9, 8, 3]\n",
        "\n",
        "var_x = np.var(x_list, ddof=1)\n",
        "std_x = np.std(x_list, ddof=1)\n",
        "print(var_x)\n",
        "print(std_x)"
      ]
    },
    {
      "cell_type": "code",
      "execution_count": null,
      "metadata": {
        "id": "8d9e4e48",
        "outputId": "14b2f8dd-1794-41e7-d613-7c1d4363a78d"
      },
      "outputs": [
        {
          "name": "stdout",
          "output_type": "stream",
          "text": [
            "6.666666666666667\n",
            "2.581988897471611\n"
          ]
        }
      ],
      "source": [
        "var_x = np.var(x_list)\n",
        "std_x = np.std(x_list)\n",
        "print(var_x)\n",
        "print(std_x)"
      ]
    },
    {
      "cell_type": "markdown",
      "metadata": {
        "id": "c9ad5927"
      },
      "source": [
        "## **7. 공분산**"
      ]
    },
    {
      "cell_type": "markdown",
      "source": [
        "- 파이썬"
      ],
      "metadata": {
        "id": "JDN3WzAEnY2A"
      }
    },
    {
      "cell_type": "code",
      "execution_count": null,
      "metadata": {
        "id": "dc5a0386"
      },
      "outputs": [],
      "source": [
        "def mean(x_list):\n",
        "    \"\"\"\n",
        "    리스트 x_list 원소의 평균 구하기\n",
        "    입력값: 리스트 x_list\n",
        "    출력값: 평균 res\n",
        "    \"\"\"\n",
        "    n = len(x_list)\n",
        "    sum_x = 0\n",
        "    for x in x_list:\n",
        "        sum_x += x\n",
        "    res = sum_x/n\n",
        "    return res\n",
        "\n",
        "def var(x_list):\n",
        "    \"\"\"\n",
        "    리스트 x_list 원소의 분산 구하기\n",
        "    입력값: 리스트 x_list\n",
        "    출력값: 분산 res\n",
        "    \"\"\"\n",
        "    n = len(x_list)\n",
        "    mean_x = mean(x_list)\n",
        "    ss_x = 0\n",
        "\n",
        "    for x in x_list:\n",
        "        ss_x += (x-mean_x)**2\n",
        "\n",
        "    res = ss_x/(n-1)\n",
        "    return res\n",
        "\n",
        "def std(x_list):\n",
        "    \"\"\"\n",
        "    리스트 x_list 원소의 표준 편차 구하기\n",
        "    입력값: 리스트 x_list\n",
        "    출력값: 표준 편차 res\n",
        "    \"\"\"\n",
        "    var_x = var(x_list)\n",
        "    res = var_x**0.5\n",
        "    return res"
      ]
    },
    {
      "cell_type": "code",
      "execution_count": null,
      "metadata": {
        "id": "2a8c0812",
        "outputId": "961e47e5-9179-4a6d-ed21-a10f0545bf9b"
      },
      "outputs": [
        {
          "name": "stdout",
          "output_type": "stream",
          "text": [
            "-0.75\n"
          ]
        }
      ],
      "source": [
        "x1_list = [2, 4, 6, 1, 5, 7, 9, 8, 3]\n",
        "x2_list = [3, 1, 2, 7, 3, 8, 3, 4, 5]\n",
        "\n",
        "n = len(x1_list)\n",
        "\n",
        "m1 = mean(x1_list)\n",
        "m2 = mean(x2_list)\n",
        "\n",
        "sm = 0\n",
        "\n",
        "for i in range(0, n):\n",
        "    sm += (x1_list[i]-m1)*(x2_list[i]-m2)\n",
        "\n",
        "covariance = sm/(n-1)\n",
        "print(covariance)"
      ]
    },
    {
      "cell_type": "code",
      "execution_count": null,
      "metadata": {
        "id": "e4a62d18",
        "outputId": "5f10b2f0-7c1c-4187-bceb-9ec8075d34f4"
      },
      "outputs": [
        {
          "name": "stdout",
          "output_type": "stream",
          "text": [
            "-0.11952286093343938\n"
          ]
        }
      ],
      "source": [
        "std1 = std(x1_list)\n",
        "std2 = std(x2_list)\n",
        "corr = covariance/(std1*std2)\n",
        "print(corr)"
      ]
    },
    {
      "cell_type": "code",
      "execution_count": null,
      "metadata": {
        "id": "f3038f9e"
      },
      "outputs": [],
      "source": [
        "def cov(x1_list, x2_list):\n",
        "    \"\"\"\n",
        "    리스트 x_list 원소의 공분산 구하기\n",
        "    입력값: 리스트 x_list\n",
        "    출력값: 공분산 res\n",
        "    \"\"\"\n",
        "    n = len(x1_list)\n",
        "\n",
        "    m1 = mean(x1_list)\n",
        "    m2 = mean(x2_list)\n",
        "\n",
        "    sm = 0\n",
        "    for i in range(0, n):\n",
        "        sm += (x1_list[i]-m1)*(x2_list[i]-m2)\n",
        "\n",
        "    res = sm/(n-1)\n",
        "    return res\n",
        "\n",
        "def corrcoef(x1_list, x2_list):\n",
        "    \"\"\"\n",
        "    리스트 x_list 원소의 상관 계수 구하기\n",
        "    입력값: 리스트 x_list\n",
        "    출력값: 상관 계수 res\n",
        "    \"\"\"\n",
        "    covariance = cov(x1_list, x2_list)\n",
        "    std1 = std(x1_list)\n",
        "    std2 = std(x2_list)\n",
        "    res = covariance/(std1*std2)\n",
        "    return res"
      ]
    },
    {
      "cell_type": "code",
      "execution_count": null,
      "metadata": {
        "id": "36298e4d",
        "outputId": "f4a604a8-a163-46f5-a010-94582873507e"
      },
      "outputs": [
        {
          "name": "stdout",
          "output_type": "stream",
          "text": [
            "-0.75\n",
            "-0.11952286093343938\n"
          ]
        }
      ],
      "source": [
        "x1_list = [2, 4, 6, 1, 5, 7, 9, 8, 3]\n",
        "x2_list = [3, 1, 2, 7, 3, 8, 3, 4, 5]\n",
        "\n",
        "covariance = cov(x1_list, x2_list)\n",
        "corr = corrcoef(x1_list, x2_list)\n",
        "\n",
        "print(covariance)\n",
        "print(corr)"
      ]
    },
    {
      "cell_type": "markdown",
      "metadata": {
        "id": "744b247d"
      },
      "source": [
        "- Numpy"
      ]
    },
    {
      "cell_type": "code",
      "execution_count": null,
      "metadata": {
        "id": "c7d23bb9",
        "outputId": "599fbdd5-c9d2-4175-b524-4730473f5581"
      },
      "outputs": [
        {
          "name": "stdout",
          "output_type": "stream",
          "text": [
            "[[ 7.5  -0.75]\n",
            " [-0.75  5.25]]\n"
          ]
        }
      ],
      "source": [
        "import numpy as np\n",
        "\n",
        "x1_list = [2, 4, 6, 1, 5, 7, 9, 8, 3]\n",
        "x2_list = [3, 1, 2, 7, 3, 8, 3, 4, 5]\n",
        "\n",
        "covariance = np.cov(x1_list, x2_list)\n",
        "print(covariance)"
      ]
    },
    {
      "cell_type": "code",
      "execution_count": null,
      "metadata": {
        "id": "42b4722d",
        "outputId": "e217f027-4c48-4bc6-a1a8-5cbca384a379"
      },
      "outputs": [
        {
          "name": "stdout",
          "output_type": "stream",
          "text": [
            "[[ 1.         -0.11952286]\n",
            " [-0.11952286  1.        ]]\n"
          ]
        }
      ],
      "source": [
        "corr = np.corrcoef(x1_list, x2_list)\n",
        "print(corr)"
      ]
    },
    {
      "cell_type": "code",
      "execution_count": null,
      "metadata": {
        "id": "85c4f5ce"
      },
      "outputs": [],
      "source": []
    }
  ]
}