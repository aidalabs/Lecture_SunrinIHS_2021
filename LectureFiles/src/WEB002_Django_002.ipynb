{
  "nbformat": 4,
  "nbformat_minor": 0,
  "metadata": {
    "colab": {
      "provenance": []
    },
    "kernelspec": {
      "name": "python3",
      "display_name": "Python 3"
    },
    "language_info": {
      "name": "python"
    }
  },
  "cells": [
    {
      "cell_type": "markdown",
      "source": [
        "# **Django 기본 컨셉 익히기**"
      ],
      "metadata": {
        "id": "KRGcyOTa0Gaj"
      }
    },
    {
      "cell_type": "markdown",
      "source": [
        "## **1. Django 시작하기**"
      ],
      "metadata": {
        "id": "MUG7qWHW0RRF"
      }
    },
    {
      "cell_type": "markdown",
      "source": [
        "- 가상환경 설정"
      ],
      "metadata": {
        "id": "uGmN6rldm2Ad"
      }
    },
    {
      "cell_type": "code",
      "source": [
        "!python -m venv django_photolist"
      ],
      "metadata": {
        "id": "lqqBzMGumfod"
      },
      "execution_count": null,
      "outputs": []
    },
    {
      "cell_type": "code",
      "source": [
        "%cd django_photolist"
      ],
      "metadata": {
        "id": "ep8JB_Simwcu"
      },
      "execution_count": null,
      "outputs": []
    },
    {
      "cell_type": "code",
      "source": [
        "!source ./bin/activate\n",
        "# Windows의 경우: ./Scripts/activate"
      ],
      "metadata": {
        "id": "7HslyBRhm1OX"
      },
      "execution_count": null,
      "outputs": []
    },
    {
      "cell_type": "markdown",
      "source": [
        "- Django 설치 및 확인"
      ],
      "metadata": {
        "id": "nUP3vNpsnG3C"
      }
    },
    {
      "cell_type": "code",
      "source": [
        "!pip install django"
      ],
      "metadata": {
        "id": "Nz2KaX_Ixqg9"
      },
      "execution_count": null,
      "outputs": []
    },
    {
      "cell_type": "code",
      "source": [
        "!python -m django --version"
      ],
      "metadata": {
        "id": "w54QjcqT2QJN"
      },
      "execution_count": null,
      "outputs": []
    },
    {
      "cell_type": "code",
      "source": [
        "!python --version"
      ],
      "metadata": {
        "id": "P25SrwF0napB"
      },
      "execution_count": null,
      "outputs": []
    },
    {
      "cell_type": "markdown",
      "source": [
        "- Project 시작"
      ],
      "metadata": {
        "id": "r2t1Lw-2pRfX"
      }
    },
    {
      "cell_type": "code",
      "source": [
        "!django-admin startproject photoweb ."
      ],
      "metadata": {
        "id": "gbc7Yi5_pKXH"
      },
      "execution_count": null,
      "outputs": []
    },
    {
      "cell_type": "markdown",
      "source": [
        "- 앱 추가\n",
        "    - Django에서 앱은 프로젝트 내에서 특정 기능을 수행하는 독립적인 모듈을 가리킴\n",
        "    - 앱은 프로젝트의 기능을 더 작은 구성 요소로 나누어 코드베이스를 구성하는 데 도움을 줌\n",
        "        - 예: 블로그 프로젝트\n",
        "            - 인증 및 권한 부여 전용 앱\n",
        "            - 블로그 게시물 전용 앱 등\n",
        "    - 앱의 특징\n",
        "        - 모듈화: 앱은 특정 기능을 수행하는 독립적인 코드와 리소스의 모음\n",
        "        - 재사용성: 앱은 다른 프로젝트에서도 쉽게 재사용할 수 있음\n",
        "        - 구성 요소: 앱은 템플릿, URL, 모델, 뷰 등을 포함하는 모듈"
      ],
      "metadata": {
        "id": "xDSdYIxCpkTG"
      }
    },
    {
      "cell_type": "code",
      "source": [
        "!python manage.py startapp photolist"
      ],
      "metadata": {
        "id": "A941Y9UIpmch"
      },
      "execution_count": null,
      "outputs": []
    },
    {
      "cell_type": "markdown",
      "source": [
        "- 웹서버 실행"
      ],
      "metadata": {
        "id": "16DcdtcOp3oV"
      }
    },
    {
      "cell_type": "code",
      "source": [
        "!python manage.py runserver"
      ],
      "metadata": {
        "id": "Ib_LxnBEp5-p"
      },
      "execution_count": null,
      "outputs": []
    },
    {
      "cell_type": "markdown",
      "source": [
        "- 웹 브라우저에서 웹서버 시작 확인\n",
        "    - https://127.0.0.1:8000\n",
        "    - 8000은 Django가 사용하는 포트 번호"
      ],
      "metadata": {
        "id": "p-sZ7T5TqHM3"
      }
    },
    {
      "cell_type": "markdown",
      "source": [
        "- 생성된 폴더-파일 구조"
      ],
      "metadata": {
        "id": "1fjhC3855rpn"
      }
    },
    {
      "cell_type": "markdown",
      "source": [
        "<img src=\"https://github.com/aidalabs/Lectures/blob/main/LectureFiles/images/Web_003_Django-Project_Folder-File.png?raw=true\" align=\"center\">"
      ],
      "metadata": {
        "id": "UfB4l4-L5vYm"
      }
    },
    {
      "cell_type": "markdown",
      "source": [
        "- 웹서버 설정 수정\n",
        "    - ./photoweb/settings.py"
      ],
      "metadata": {
        "id": "zSTAn2_wv_Aa"
      }
    },
    {
      "cell_type": "code",
      "source": [
        "# Application definition\n",
        "\n",
        "INSTALLED_APPS = [\n",
        "    'django.contrib.admin',\n",
        "    'django.contrib.auth',\n",
        "    'django.contrib.contenttypes',\n",
        "    'django.contrib.sessions',\n",
        "    'django.contrib.messages',\n",
        "    'django.contrib.staticfiles',\n",
        "    'photolist',    # 추가할 것\n",
        "]"
      ],
      "metadata": {
        "id": "PlOwQXyBv-A9"
      },
      "execution_count": null,
      "outputs": []
    },
    {
      "cell_type": "code",
      "source": [
        "#TIME_ZONE = 'UTC'            # 시간대를 한국으로 바꿀 것\n",
        "TIME_ZONE = 'Asia/Seoul'"
      ],
      "metadata": {
        "id": "BEB8SEO7zow7"
      },
      "execution_count": null,
      "outputs": []
    },
    {
      "cell_type": "markdown",
      "source": [
        "- 웹서버 설정 URL 확인\n",
        "    - ./photoweb/urls.py"
      ],
      "metadata": {
        "id": "KsQfiCbRUHBN"
      }
    },
    {
      "cell_type": "markdown",
      "source": [
        "## **2. Django 프로젝트 구조 살펴보기**"
      ],
      "metadata": {
        "id": "vZ7cHMhK0h-g"
      }
    },
    {
      "cell_type": "markdown",
      "source": [
        "- MTV (Model-Template-View) 패턴\n",
        "    - Django에서는 MTV 패턴으로 전반적인 개발을 진행함\n",
        "    - 어떤 패턴으로 개발을 진행 → 작업 시, 규칙처럼 정해진 방식이 있고, 그 방식을 따라가며 요구하는 내용을 순서대로 채워나가는 것으로 개발을 진행한다는 의미\n",
        "    <br><br>\n",
        "    - Model: 앱의 데이터와 관련된 부분을 다룸\n",
        "    - Template: 사용자에게 보이는 부분을 다룸\n",
        "    - View: Model과 Template의 사이에서 Model의 메시지를 Template으로 전달, Template에서 발생하는 이벤트를 처리하는 부분"
      ],
      "metadata": {
        "id": "PHnNKm1w-lao"
      }
    },
    {
      "cell_type": "markdown",
      "source": [
        "<img src=\"https://velog.velcdn.com/images%2Fkylehan91%2Fpost%2F7e6acd8e-594d-4b7c-aa7e-1c67870b949e%2Fimage.png\">\n",
        "<br><br>\n",
        "<img src=\"https://velog.velcdn.com/images/sossont/post/5e9c5550-a86f-4189-af5f-3303a7cda90e/image.png\">"
      ],
      "metadata": {
        "id": "cfcYOrn4D79I"
      }
    },
    {
      "cell_type": "markdown",
      "source": [
        "- https://127.0.0.1:8000/admin/ 접속해보기"
      ],
      "metadata": {
        "id": "71V8KNMAUVc5"
      }
    },
    {
      "cell_type": "code",
      "source": [
        "# 계정 만들기\n",
        "!python manage.py createsuperuser"
      ],
      "metadata": {
        "id": "aQrtOhzbUxYg"
      },
      "execution_count": null,
      "outputs": []
    },
    {
      "cell_type": "markdown",
      "source": [
        "- 오류 발생"
      ],
      "metadata": {
        "id": "2Hpl-BVmVLQd"
      }
    },
    {
      "cell_type": "code",
      "source": [
        "# Migration 오류 수정\n",
        "!python manage.py migrate"
      ],
      "metadata": {
        "id": "wLDIz9PNVN4d"
      },
      "execution_count": null,
      "outputs": []
    },
    {
      "cell_type": "markdown",
      "source": [
        "- 계정 만들기 재시도\n",
        "    - ID : seokhwan\n",
        "    - email : seokhwan@1.1.1\n",
        "    - password : 1234"
      ],
      "metadata": {
        "id": "JTg8AUCXVeIT"
      }
    },
    {
      "cell_type": "code",
      "source": [
        "!python manage.py createsuperuser"
      ],
      "metadata": {
        "id": "ZxjQATJ7VsPA"
      },
      "execution_count": null,
      "outputs": []
    },
    {
      "cell_type": "markdown",
      "source": [
        "## **3. Django Model 알아보기**"
      ],
      "metadata": {
        "id": "aTYDQige0h6n"
      }
    },
    {
      "cell_type": "markdown",
      "source": [
        "- Model\n",
        "    - 앱의 데이터와 관련된 부분을 다루는 영역\n",
        "    - 데이터베이스에 저장될 데이터의 모양을 정의하고 관련된 일부 기능들을 설정해주는 영역\n",
        "    - 현실 세상을 코드로 옮기는 과정이라고 생각할 수 있음"
      ],
      "metadata": {
        "id": "DmFCe9S2KFfg"
      }
    },
    {
      "cell_type": "markdown",
      "source": [
        "- Model 만들기"
      ],
      "metadata": {
        "id": "10hm92w1NoG4"
      }
    },
    {
      "cell_type": "code",
      "source": [
        "from django.db import models"
      ],
      "metadata": {
        "id": "zZmrARm8TMhE"
      },
      "execution_count": null,
      "outputs": []
    },
    {
      "cell_type": "code",
      "source": [
        "class Photo(models.Model):\n",
        "    title = models.CharField(max_length=50)\n",
        "    author = models.CharField(max_length=50)\n",
        "    image = models.CharField(max_length=200)\n",
        "    description = models.TextField()\n",
        "    price = models.IntegerField()"
      ],
      "metadata": {
        "id": "voSyrhgBTLBx"
      },
      "execution_count": null,
      "outputs": []
    },
    {
      "cell_type": "markdown",
      "source": [
        "- Model 적용시키기"
      ],
      "metadata": {
        "id": "4bwjO5kWNuwv"
      }
    },
    {
      "cell_type": "code",
      "source": [
        "!python manage.py makemigrations"
      ],
      "metadata": {
        "id": "EmBr9tJKWdVB"
      },
      "execution_count": null,
      "outputs": []
    },
    {
      "cell_type": "code",
      "source": [
        "!python manage.py migrate"
      ],
      "metadata": {
        "id": "zlRMVBMUYIoc"
      },
      "execution_count": null,
      "outputs": []
    },
    {
      "cell_type": "markdown",
      "source": [
        "- Model을 Admin 페이지에 적용시키기\n",
        "    - ./photolist/admin.py"
      ],
      "metadata": {
        "id": "NcdvUCqpNy5-"
      }
    },
    {
      "cell_type": "code",
      "source": [
        "from django.contrib import admin\n",
        "from .models import Photo"
      ],
      "metadata": {
        "id": "evTHxKjVY2FE"
      },
      "execution_count": null,
      "outputs": []
    },
    {
      "cell_type": "code",
      "source": [
        "# Register your models here.\n",
        "admin.site.register(Photo)"
      ],
      "metadata": {
        "id": "pF5bOAC8Y0xh"
      },
      "execution_count": null,
      "outputs": []
    },
    {
      "cell_type": "markdown",
      "source": [
        "## **4. Django Template 알아보기**"
      ],
      "metadata": {
        "id": "XXHumPoI0h2q"
      }
    },
    {
      "cell_type": "markdown",
      "source": [
        "- Template\n",
        "    - 사용자에게 보이는 부분 → 웹페이지의 골격이라고 할 수 있는 HTML로 작성된 부분\n",
        "    - 일반 HTML 작성 방법과 거의 동일하나 Template Tag를 사용한다는 점이 다름\n",
        "    - Template Tag: HTML이 파이썬 코드로부터 데이터를 바로 넘겨받아서 처리할 수 있는 도구"
      ],
      "metadata": {
        "id": "RNgsUwVaKjVV"
      }
    },
    {
      "cell_type": "markdown",
      "source": [
        "## **5. Django View, URL 알아보기**"
      ],
      "metadata": {
        "id": "c2s0NkAo0hwH"
      }
    },
    {
      "cell_type": "markdown",
      "source": [
        "- View\n",
        "    - Model과 Template을 이어주는 다리와 같은 역할\n",
        "    - Model을 통해 데이터에 접근하여 Template으로부터 요청받은 데이터를 뽑아와 Template에게 답변으로 보내줌\n",
        "    - Model이 Django 프로젝트의 핵심이라면 View는 코드 중에서 가장 많은 비중을 차지하는 요소\n",
        "<br><br>\n",
        "- URL\n",
        "    - 라우팅의 역할과 동시에 서버로 해당 주소에 할당된 리소스를 요청하는 역할을 담당\n",
        "    - 여기서의 리소스는 HTML 페이지뿐만 아니라 내부를 채우는 데이터 등을 포함하는 개념임"
      ],
      "metadata": {
        "id": "eJtWCJsqLOct"
      }
    },
    {
      "cell_type": "markdown",
      "source": [
        "## **6. 서비스 기능 하나씩 구현하기**"
      ],
      "metadata": {
        "id": "EUzSD8aJ0hl7"
      }
    },
    {
      "cell_type": "markdown",
      "source": [
        "### 6.1 사진 목록 화면 만들기"
      ],
      "metadata": {
        "id": "qkAdDvrBMXhs"
      }
    },
    {
      "cell_type": "markdown",
      "source": [
        "- Template"
      ],
      "metadata": {
        "id": "2Djgr5sdMykH"
      }
    },
    {
      "cell_type": "code",
      "source": [
        "# photolist/templates/photo_list.html\n",
        "\n",
        "<html>\n",
        "  <head>\n",
        "    <title>Photo App</title>\n",
        "  </head>\n",
        "  <body>\n",
        "    <h1><a href=\"\">사진 목록 페이지</a></h1>\n",
        "    <section>\n",
        "\n",
        "      <div>\n",
        "        <h2>\n",
        "          <a href=\"\">title</a>\n",
        "        </h2>\n",
        "        <img src=\"\" alt=\"\" width=\"300\" />\n",
        "        <p>photo.author, photo.price원</p>\n",
        "      </div>\n",
        "\n",
        "      <div>\n",
        "        <h2>\n",
        "          <a href=\"\">title</a>\n",
        "        </h2>\n",
        "        <img src=\"\" alt=\"\" width=\"300\" />\n",
        "        <p>photo.author, photo.price원</p>\n",
        "      </div>\n",
        "\n",
        "      <div>\n",
        "        <h2>\n",
        "          <a href=\"\">title</a>\n",
        "        </h2>\n",
        "        <img src=\"\" alt=\"\" width=\"300\" />\n",
        "        <p>photo.author, photo.price원</p>\n",
        "      </div>\n",
        "\n",
        "    </section>\n",
        "  </body>\n",
        "</html>"
      ],
      "metadata": {
        "id": "vE849UtH_hqh"
      },
      "execution_count": null,
      "outputs": []
    },
    {
      "cell_type": "markdown",
      "source": [
        "- View"
      ],
      "metadata": {
        "id": "qRPd0kRwMydF"
      }
    },
    {
      "cell_type": "code",
      "source": [
        "# photolist/views.py\n",
        "from django.shortcuts import render\n",
        "\n",
        "\n",
        "def photo_list(request):\n",
        "    photos = Photo.objects.all()\n",
        "    return render(request, 'photo/photo_list.html', {})"
      ],
      "metadata": {
        "id": "MAVEI7Qr_pin"
      },
      "execution_count": null,
      "outputs": []
    },
    {
      "cell_type": "markdown",
      "source": [
        "- URL"
      ],
      "metadata": {
        "id": "56_yz8GRMyQp"
      }
    },
    {
      "cell_type": "code",
      "source": [
        "# photolist/urls.py\n",
        "\n",
        "from django.urls import path\n",
        "from . import views\n",
        "\n",
        "urlpatterns = [\n",
        "    path('', views.photo_list, name='photo_list')\n",
        "]"
      ],
      "metadata": {
        "id": "_5n4bZ5d_63v"
      },
      "execution_count": null,
      "outputs": []
    },
    {
      "cell_type": "code",
      "source": [
        "# photoweb/urls.py\n",
        "\n",
        "from django.contrib import admin\n",
        "from django.urls import path, include\n",
        "\n",
        "urlpatterns = [\n",
        "    path('admin/', admin.site.urls),\n",
        "    path('', include('photo.urls')),\n",
        "]"
      ],
      "metadata": {
        "id": "jT08zOD4AVnz"
      },
      "execution_count": null,
      "outputs": []
    },
    {
      "cell_type": "markdown",
      "source": [
        "- View"
      ],
      "metadata": {
        "id": "A8T8KnmdNEBX"
      }
    },
    {
      "cell_type": "code",
      "source": [
        "# photolist/views.py\n",
        "from django.shortcuts import render, get_object_or_404, redirect\n",
        "from .models import Photo\n",
        "from .forms import PhotoForm\n",
        "\n",
        "\n",
        "def photo_list(request):\n",
        "    photos = Photo.objects.all()\n",
        "    return render(request, 'photo/photo_list.html', {'photos': photos})"
      ],
      "metadata": {
        "id": "yKOf1yaG_8WL"
      },
      "execution_count": null,
      "outputs": []
    },
    {
      "cell_type": "markdown",
      "source": [
        "- Template 수정"
      ],
      "metadata": {
        "id": "o37yBBVYNEBW"
      }
    },
    {
      "cell_type": "code",
      "source": [
        "# photolist/templates/photo_list.html\n",
        "\n",
        "<html>\n",
        "  <head>\n",
        "    <title>Photo App</title>\n",
        "  </head>\n",
        "  <body>\n",
        "    <h1><a href=\"\">사진 목록 페이지</a></h1>\n",
        "    <section>\n",
        "      {% for photo in photos %}\n",
        "      <div>\n",
        "        <h2>\n",
        "          <a href=\"\">{{ photo.title }}</a>\n",
        "        </h2>\n",
        "        <img src=\"{{ photo.image }}\" alt=\"{{ photo.title }}\" width=\"300\" />\n",
        "        <p>{{ photo.author }}, {{ photo.price }}원</p>\n",
        "      </div>\n",
        "      {% endfor %}\n",
        "    </section>\n",
        "  </body>\n",
        "</html>"
      ],
      "metadata": {
        "id": "41gf1DG5_7pH"
      },
      "execution_count": null,
      "outputs": []
    },
    {
      "cell_type": "markdown",
      "source": [
        "### 6.2 사진 게시물 보기 화면 만들기"
      ],
      "metadata": {
        "id": "gyhneMjKMXeU"
      }
    },
    {
      "cell_type": "markdown",
      "source": [
        "- Template"
      ],
      "metadata": {
        "id": "8vp5yHy8NKjQ"
      }
    },
    {
      "cell_type": "code",
      "source": [
        "# photolist/templates/photo_detail.html\n",
        "\n",
        "<html>\n",
        "  <head>\n",
        "    <title>Photo App</title>\n",
        "  </head>\n",
        "  <body>\n",
        "    <h1>{{ photo.title }}</h1>\n",
        "    <section>\n",
        "      <div>\n",
        "        <img src=\"{{ photo.image }}\" alt=\"{{ photo.title }}\" width=\"300\" />\n",
        "        <p>{{ photo.description }}</p>\n",
        "        <p>{{ photo.author }}, {{ photo.price }}원</p>\n",
        "      </div>\n",
        "    </section>\n",
        "  </body>\n",
        "</html>"
      ],
      "metadata": {
        "id": "Dhhnbi7XAB5X"
      },
      "execution_count": null,
      "outputs": []
    },
    {
      "cell_type": "markdown",
      "source": [
        "- View"
      ],
      "metadata": {
        "id": "fw7R4wC-NKjQ"
      }
    },
    {
      "cell_type": "code",
      "source": [
        "# photolist/views.py\n",
        "from django.shortcuts import render, get_object_or_404\n",
        "\n",
        "def photo_list(request):\n",
        "    photos = Photo.objects.all()\n",
        "    return render(request, 'photo/photo_list.html', {'photos': photos})\n",
        "\n",
        "\n",
        "def photo_detail(request, pk):\n",
        "    photo = get_object_or_404(Photo, pk=pk)\n",
        "    return render(request, 'photo/photo_detail.html', {'photo': photo})\n"
      ],
      "metadata": {
        "id": "m5O1ag3IABEn"
      },
      "execution_count": null,
      "outputs": []
    },
    {
      "cell_type": "markdown",
      "source": [
        "- URL"
      ],
      "metadata": {
        "id": "4cVUCHFtNKjQ"
      }
    },
    {
      "cell_type": "code",
      "source": [
        "# photolist/urls.py\n",
        "from django.urls import path\n",
        "from . import views\n",
        "\n",
        "urlpatterns = [\n",
        "    path('', views.photo_list, name='photo_list'),\n",
        "    path('photo/<int:pk>/', views.photo_detail, name='photo_detail'),\n",
        "]"
      ],
      "metadata": {
        "id": "l6_fAyETAAzc"
      },
      "execution_count": null,
      "outputs": []
    },
    {
      "cell_type": "markdown",
      "source": [
        "- Template"
      ],
      "metadata": {
        "id": "ZLBexLgFB_Xk"
      }
    },
    {
      "cell_type": "code",
      "source": [
        "# photolist/templates/photo_list.html\n",
        "\n",
        "<html>\n",
        "  <head>\n",
        "    <title>Photo App</title>\n",
        "  </head>\n",
        "  <body>\n",
        "    <h1><a href=\"\">사진 목록 페이지</a></h1>\n",
        "    <section>\n",
        "      {% for photo in photos %}\n",
        "      <div>\n",
        "        <h2>\n",
        "          <a href=\"{% url 'photo_detail' pk=photo.pk %}\">{{ photo.title }}</a>\n",
        "        </h2>\n",
        "        <img src=\"{{ photo.image }}\" alt=\"{{ photo.title }}\" width=\"300\" />\n",
        "        <p>{{ photo.author }}, {{ photo.price }}원</p>\n",
        "      </div>\n",
        "      {% endfor %}\n",
        "    </section>\n",
        "  </body>\n",
        "</html>"
      ],
      "metadata": {
        "id": "mkafaW0nCCdf"
      },
      "execution_count": null,
      "outputs": []
    },
    {
      "cell_type": "markdown",
      "source": [
        "- 이미지 및 사용자 업로드 파일 등의 경로 문제\n",
        "    - Django 프레임워크의 경우 타 프레임워크와 달리 이미지 및 사용자 업로드 파일의 경로 지정이 Settings.py의 설정에 고정되어 있음\n",
        "    - Django 프레임워크에서는 이러한 파일들을 정적 파일(Static File)로 분류, 처리하고 있음\n",
        "        - 정적 파일은 동적파일과 달리 웹 서비스 시에 데이터를 가공할 필요없이 서버에 저장된 그대로를 사용하는 것\n",
        "    - Django 프레임워크에서 사용하는 정적 파일은 Static 파일과 Media 파일의 2종류로 분류함\n",
        "        - Static\n",
        "            - 개발자가 준비해 두는 파일\n",
        "            - 개발을 위한 Resource로서 취급됨\n",
        "            - 응답할 때 별도의 처리없이 파일의 내용을 그대로 보여줌\n",
        "            - 파일 자체가 고정되어 있으며 서비스 중에도 추가되거아 변경되지 않음\n",
        "        - Media\n",
        "            - 사용자가 업로드하는 파일\n",
        "            - 동적으로 변하지 않고 사용자가 업로드한 그대로 변화없이 보여주거나 사용하는 파일"
      ],
      "metadata": {
        "id": "wW0-SP8KIzXN"
      }
    },
    {
      "cell_type": "markdown",
      "source": [
        "- Static 파일의 사용\n",
        "    - settings.py\n",
        "        - INSTALLED_APPS에 django.contrib.staticfiles가 포함되어 있는지 확인\n",
        "        - STATIC_URL 정의하기\n",
        "            - 예: STATIC_URL = '/static/'\n",
        "            - STATIC_URL은 프로젝트 시작 시 만든 startapp의 경로를 ROOT로 사용하고 있음\n",
        "        - 필요 시 STATIC_ROOT 정의하기\n",
        "            - Django 프로젝트에서 사용하는 모든 정적 파일을 한 곳에 모아 넣기 위한 경로\n",
        "            - 실제 서비스를 위한 배포환경에서는 Django를 직접 실행하는 것이 아니라 다른 서버에 의해 실행되는 경우가 많으며, 이런 경우에는 실행하는 다른 서버가 Django 프로젝트 내부의 정적 파일을 인식하지 못함\n",
        "            - 따라서 프로젝트의 바깥으로 정적 파일들을 꺼낼 필요가 있음\n",
        "            -이런 경우에 STATIC_ROOT가 사용됨\n",
        "    - 설정된 static 폴더에 정적파일 보관"
      ],
      "metadata": {
        "id": "uB5zsbOdKqS_"
      }
    },
    {
      "cell_type": "code",
      "source": [
        "# photoweb/settings.py\n",
        "STATIC_URL = '/static/'"
      ],
      "metadata": {
        "id": "TSYHoOwOPpon"
      },
      "execution_count": null,
      "outputs": []
    },
    {
      "cell_type": "markdown",
      "source": [
        "- Media 파일의 사용\n",
        "    - settings.py\n",
        "        - MEDIA_ROOT, MEDIA_URL 정의하기\n",
        "        - MEDIA_ROOT\n",
        "            - 사용자가 업로드한 파일들을 보관할 디렉토리의 절대경로\n",
        "            - STATIC_ROOT와 반드시 다른 경로로 지정해야 함\n",
        "        - MEDIA_URL\n",
        "            - MEDIA_ROOT에서 제공되는 미디어 파일을 처리하는 URL\n",
        "            - 업로드된 파일의 주소(URL)를 만들어주는 역할\n",
        "    - urls.py\n",
        "        - settings와 static을 import\n",
        "        - urlpatterns에 static 함수 추가\n",
        "            - 이때, 리스트에 추가하는 것이 아니라 리스트의 밖에 '+' 연산자를 통해 추가해야 함\n"
      ],
      "metadata": {
        "id": "Ic6OVv-SL7ze"
      }
    },
    {
      "cell_type": "code",
      "source": [
        "# photoweb/settings.py\n",
        "MEDIA_URL = '/media/'\n",
        "MEDIA_ROOT = os.path.join(BASE_DIR, 'media')"
      ],
      "metadata": {
        "id": "G2TRuzWZO38r"
      },
      "execution_count": null,
      "outputs": []
    },
    {
      "cell_type": "code",
      "source": [
        "# photoweb/urls.py\n",
        "from django.conf import settings\n",
        "from django.conf.urls.static import static\n",
        "\n",
        "urlpatterns = [\n",
        "    path('admin/', admin.site.urls),\n",
        "    path('', include('photolist.urls'))\n",
        "] + static(settings.MEDIA_URL, document_root=settings.MEDIA_ROOT)"
      ],
      "metadata": {
        "id": "HiLzNvHbPSOM"
      },
      "execution_count": null,
      "outputs": []
    },
    {
      "cell_type": "markdown",
      "source": [
        "### 6.3 사진 게시물 작성 기능 만들기"
      ],
      "metadata": {
        "id": "UcmrPIMfMXbK"
      }
    },
    {
      "cell_type": "markdown",
      "source": [
        "- Template"
      ],
      "metadata": {
        "id": "mEcSzl32NOJD"
      }
    },
    {
      "cell_type": "code",
      "source": [
        "# photolist/templates/photo_post.html\n",
        "<html>\n",
        "  <head>\n",
        "    <title>Photo App</title>\n",
        "  </head>\n",
        "  <body>\n",
        "    <h1><a href=\"/\">홈으로 돌아가기</a></h1>\n",
        "    <section>\n",
        "      <div>\n",
        "        <h2>New Photo</h2>\n",
        "        <form method=\"POST\">\n",
        "          {% csrf_token %} {{ form.as_p }}\n",
        "          <button type=\"submit\">완료!</button>\n",
        "        </form>\n",
        "      </div>\n",
        "    </section>\n",
        "  </body>\n",
        "</html>"
      ],
      "metadata": {
        "id": "nQk1eYWdAAYv"
      },
      "execution_count": null,
      "outputs": []
    },
    {
      "cell_type": "markdown",
      "source": [
        "- Form"
      ],
      "metadata": {
        "id": "iraUt7iVNQLg"
      }
    },
    {
      "cell_type": "code",
      "source": [
        "# photolist/forms.py\n",
        "from django import forms\n",
        "from .models import Photo\n",
        "\n",
        "\n",
        "class PhotoForm(forms.ModelForm):\n",
        "    class Meta:\n",
        "        model = Photo\n",
        "        fields = (\n",
        "            'title',\n",
        "            'author',\n",
        "            'image',\n",
        "            'description',\n",
        "            'price',\n",
        "        )"
      ],
      "metadata": {
        "id": "tGrbkG2fAAH3"
      },
      "execution_count": null,
      "outputs": []
    },
    {
      "cell_type": "markdown",
      "source": [
        "- View"
      ],
      "metadata": {
        "id": "9mCDstr5NTBY"
      }
    },
    {
      "cell_type": "code",
      "source": [
        "# photolist/views.py\n",
        "from django.shortcuts import render, get_object_or_404, redirect\n",
        "from .models import Photo\n",
        "from .forms import PhotoForm\n",
        "\n",
        "\n",
        "def photo_list(request):\n",
        "    photos = Photo.objects.all()\n",
        "    return render(request, 'photo/photo_list.html', {'photos': photos})\n",
        "\n",
        "\n",
        "def photo_detail(request, pk):\n",
        "    photo = get_object_or_404(Photo, pk=pk)\n",
        "    return render(request, 'photo/photo_detail.html', {'photo': photo})\n",
        "\n",
        "\n",
        "def photo_post(request):\n",
        "    if request.method == \"POST\":\n",
        "        form = PhotoForm(request.POST)\n",
        "        if form.is_valid():\n",
        "            photo = form.save(commit=False)\n",
        "            photo.save()\n",
        "            return redirect('photo_detail', pk=photo.pk)\n",
        "    else:\n",
        "        form = PhotoForm()\n",
        "    return render(request, 'photo/photo_post.html', {'form': form})\n"
      ],
      "metadata": {
        "id": "McjYWW2r__tP"
      },
      "execution_count": null,
      "outputs": []
    },
    {
      "cell_type": "markdown",
      "source": [
        "- URL"
      ],
      "metadata": {
        "id": "ODrao0SKNUKh"
      }
    },
    {
      "cell_type": "code",
      "source": [
        "# photolist/urls.py\n",
        "from django.urls import path\n",
        "from . import views\n",
        "\n",
        "urlpatterns = [\n",
        "    path('', views.photo_list, name='photo_list'),\n",
        "    path('photo/<int:pk>/', views.photo_detail, name='photo_detail'),\n",
        "    path('photo/new/', views.photo_post, name='photo_post'),\n",
        "]"
      ],
      "metadata": {
        "id": "fdlgpEjF__XP"
      },
      "execution_count": null,
      "outputs": []
    },
    {
      "cell_type": "markdown",
      "source": [
        "- Templates"
      ],
      "metadata": {
        "id": "z_oaYWM_DgAH"
      }
    },
    {
      "cell_type": "code",
      "source": [
        "# photolist/templates/photo_list.html\n",
        "<html>\n",
        "  <head>\n",
        "    <title>Photo App</title>\n",
        "  </head>\n",
        "  <body>\n",
        "    <h1><a href=\"\">사진 목록 페이지</a></h1>\n",
        "    <h3><a href=\"{% url 'photo_post' %}\">New Photo</a></h3>\n",
        "    <section>\n",
        "      {% for photo in photos %}\n",
        "      <div>\n",
        "        <h2>\n",
        "          <a href=\"{% url 'photo_detail' pk=photo.pk %}\">{{ photo.title }}</a>\n",
        "        </h2>\n",
        "        <img src=\"{{ photo.image }}\" alt=\"{{ photo.title }}\" width=\"300\" />\n",
        "        <p>{{ photo.author }}, {{ photo.price }}원</p>\n",
        "      </div>\n",
        "      {% endfor %}\n",
        "    </section>\n",
        "  </body>\n",
        "</html>"
      ],
      "metadata": {
        "id": "m4wAZ84wDikF"
      },
      "execution_count": null,
      "outputs": []
    },
    {
      "cell_type": "markdown",
      "source": [
        "### 6.4 사진 게시물 수정 기능 만들기"
      ],
      "metadata": {
        "id": "IA6dzEIqMXXw"
      }
    },
    {
      "cell_type": "markdown",
      "source": [
        "- Template\n",
        "    - 기존과 동일"
      ],
      "metadata": {
        "id": "3wG1EoXtNY1A"
      }
    },
    {
      "cell_type": "markdown",
      "source": [
        "- View"
      ],
      "metadata": {
        "id": "Dn26KbeWNY1B"
      }
    },
    {
      "cell_type": "code",
      "source": [
        "# photolist/퍋ㅈㄴ.ㅔㅛ\n",
        "from django.shortcuts import render, get_object_or_404, redirect\n",
        "from .models import Photo\n",
        "from .forms import PhotoForm\n",
        "\n",
        "\n",
        "def photo_list(request):\n",
        "    photos = Photo.objects.all()\n",
        "    return render(request, 'photo/photo_list.html', {'photos': photos})\n",
        "\n",
        "\n",
        "def photo_detail(request, pk):\n",
        "    photo = get_object_or_404(Photo, pk=pk)\n",
        "    return render(request, 'photo/photo_detail.html', {'photo': photo})\n",
        "\n",
        "\n",
        "def photo_post(request):\n",
        "    if request.method == \"POST\":\n",
        "        form = PhotoForm(request.POST)\n",
        "        if form.is_valid():\n",
        "            photo = form.save(commit=False)\n",
        "            photo.save()\n",
        "            return redirect('photo_detail', pk=photo.pk)\n",
        "    else:\n",
        "        form = PhotoForm()\n",
        "    return render(request, 'photo/photo_post.html', {'form': form})\n",
        "\n",
        "\n",
        "def photo_edit(request, pk):\n",
        "    photo = get_object_or_404(Photo, pk=pk)\n",
        "    if request.method == \"POST\":\n",
        "        form = PhotoForm(request.POST, instance=photo)\n",
        "        if form.is_valid():\n",
        "            photo = form.save(commit=False)\n",
        "            photo.save()\n",
        "            return redirect('photo_detail', pk=photo.pk)\n",
        "    else:\n",
        "        form = PhotoForm(instance=photo)\n",
        "    return render(request, 'photo/photo_post.html', {'form': form})"
      ],
      "metadata": {
        "id": "iZ8K3l_0_-VL"
      },
      "execution_count": null,
      "outputs": []
    },
    {
      "cell_type": "markdown",
      "source": [
        "- URL"
      ],
      "metadata": {
        "id": "wjaFCNTQNY1B"
      }
    },
    {
      "cell_type": "code",
      "source": [
        "# photolist/urls.py\n",
        "from django.urls import path\n",
        "from . import views\n",
        "\n",
        "urlpatterns = [\n",
        "    path('', views.photo_list, name='photo_list'),\n",
        "    path('photo/<int:pk>/', views.photo_detail, name='photo_detail'),\n",
        "    path('photo/new/', views.photo_post, name='photo_post'),\n",
        "    path('photo/<int:pk>/edit/', views.photo_edit, name='photo_edit'),\n",
        "]"
      ],
      "metadata": {
        "id": "0E3Mx14d_9pr"
      },
      "execution_count": null,
      "outputs": []
    },
    {
      "cell_type": "markdown",
      "source": [
        "- Templates"
      ],
      "metadata": {
        "id": "kY1F1uUXMXUI"
      }
    },
    {
      "cell_type": "code",
      "execution_count": null,
      "metadata": {
        "id": "0VAas7rZ0C0v"
      },
      "outputs": [],
      "source": [
        "# photolist/templates/photo_detail.html\n",
        "<html>\n",
        "  <head>\n",
        "    <title>Photo App</title>\n",
        "  </head>\n",
        "  <body>\n",
        "    <h1>{{ photo.title }}</h1>\n",
        "    <h3><a href=\"{% url 'photo_edit' pk=photo.pk %}\">Edit Photo</a></h3>\n",
        "    <section>\n",
        "      <div>\n",
        "        <img src=\"{{ photo.image }}\" alt=\"{{ photo.title }}\" width=\"300\" />\n",
        "        <p>{{ photo.description }}</p>\n",
        "        <p>{{ photo.author }}, {{ photo.price }}원</p>\n",
        "      </div>\n",
        "    </section>\n",
        "  </body>\n",
        "</html>"
      ]
    }
  ]
}