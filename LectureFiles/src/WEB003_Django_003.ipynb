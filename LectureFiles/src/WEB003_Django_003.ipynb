{
  "nbformat": 4,
  "nbformat_minor": 0,
  "metadata": {
    "colab": {
      "provenance": []
    },
    "kernelspec": {
      "name": "python3",
      "display_name": "Python 3"
    },
    "language_info": {
      "name": "python"
    }
  },
  "cells": [
    {
      "cell_type": "markdown",
      "source": [
        "# **Todo List 웹서비스 만들기**"
      ],
      "metadata": {
        "id": "JltJ3ygRUnR0"
      }
    },
    {
      "cell_type": "markdown",
      "source": [
        "## **1. Todo List 웹서비스 시작하기**"
      ],
      "metadata": {
        "id": "JAv1B3x9UzC7"
      }
    },
    {
      "cell_type": "markdown",
      "source": [
        "### 1.1 프로젝트 기능 정리"
      ],
      "metadata": {
        "id": "_oIV_VWJVVFT"
      }
    },
    {
      "cell_type": "markdown",
      "source": [
        "- Todo List 전체 조회하기\n",
        "- Todo List 상세 조회하기\n",
        "- Todo 생성하기\n",
        "    - 데이터 입력을 위한 Form 필요\n",
        "- Todo 수정하기\n",
        "    - 데이터 수정을 위한 Form 필요\n",
        "    - Todo 생성용 Form 활용 가능\n",
        "- Todo 완료 처리하기"
      ],
      "metadata": {
        "id": "-3-ptODOmjTW"
      }
    },
    {
      "cell_type": "markdown",
      "source": [
        "### 1.2 프로젝트 생성"
      ],
      "metadata": {
        "id": "r_p-h0JAVegr"
      }
    },
    {
      "cell_type": "markdown",
      "source": [
        "- 가상환경 설정"
      ],
      "metadata": {
        "id": "uGmN6rldm2Ad"
      }
    },
    {
      "cell_type": "code",
      "source": [
        "!python -m venv django_todolist"
      ],
      "metadata": {
        "id": "lqqBzMGumfod"
      },
      "execution_count": null,
      "outputs": []
    },
    {
      "cell_type": "code",
      "source": [
        "%cd todolist"
      ],
      "metadata": {
        "id": "ep8JB_Simwcu"
      },
      "execution_count": null,
      "outputs": []
    },
    {
      "cell_type": "code",
      "source": [
        "!source ./bin/activate\n",
        "# Windows의 경우: ./Scripts/activate"
      ],
      "metadata": {
        "id": "7HslyBRhm1OX"
      },
      "execution_count": null,
      "outputs": []
    },
    {
      "cell_type": "markdown",
      "source": [
        "- Django 설치 및 확인"
      ],
      "metadata": {
        "id": "nUP3vNpsnG3C"
      }
    },
    {
      "cell_type": "code",
      "source": [
        "!pip install django"
      ],
      "metadata": {
        "id": "Nz2KaX_Ixqg9"
      },
      "execution_count": null,
      "outputs": []
    },
    {
      "cell_type": "code",
      "source": [
        "!python -m django --version"
      ],
      "metadata": {
        "id": "w54QjcqT2QJN"
      },
      "execution_count": null,
      "outputs": []
    },
    {
      "cell_type": "code",
      "source": [
        "!python --version"
      ],
      "metadata": {
        "id": "P25SrwF0napB"
      },
      "execution_count": null,
      "outputs": []
    },
    {
      "cell_type": "markdown",
      "source": [
        "- Project 시작"
      ],
      "metadata": {
        "id": "r2t1Lw-2pRfX"
      }
    },
    {
      "cell_type": "code",
      "source": [
        "!django-admin startproject todoweb ."
      ],
      "metadata": {
        "id": "gbc7Yi5_pKXH"
      },
      "execution_count": null,
      "outputs": []
    },
    {
      "cell_type": "markdown",
      "source": [
        "- 앱 추가"
      ],
      "metadata": {
        "id": "xDSdYIxCpkTG"
      }
    },
    {
      "cell_type": "code",
      "source": [
        "!python manage.py startapp todolist"
      ],
      "metadata": {
        "id": "A941Y9UIpmch"
      },
      "execution_count": null,
      "outputs": []
    },
    {
      "cell_type": "markdown",
      "source": [
        "- 웹서버 실행"
      ],
      "metadata": {
        "id": "16DcdtcOp3oV"
      }
    },
    {
      "cell_type": "code",
      "source": [
        "!python manage.py runserver"
      ],
      "metadata": {
        "id": "Ib_LxnBEp5-p"
      },
      "execution_count": null,
      "outputs": []
    },
    {
      "cell_type": "markdown",
      "source": [
        "- 웹 브라우저에서 웹서버 시작 확인\n",
        "    - https://127.0.0.1:8000"
      ],
      "metadata": {
        "id": "p-sZ7T5TqHM3"
      }
    },
    {
      "cell_type": "markdown",
      "source": [
        "### 1.3 프로젝트 설정"
      ],
      "metadata": {
        "id": "drV8fuFLVjmP"
      }
    },
    {
      "cell_type": "markdown",
      "source": [
        "- 웹서버 설정 수정\n",
        "    - ./todoweb/settings.py"
      ],
      "metadata": {
        "id": "zSTAn2_wv_Aa"
      }
    },
    {
      "cell_type": "code",
      "source": [
        "# ./photoweb/settings.py\n",
        "\n",
        "INSTALLED_APPS = [\n",
        "    'django.contrib.admin',\n",
        "    'django.contrib.auth',\n",
        "    'django.contrib.contenttypes',\n",
        "    'django.contrib.sessions',\n",
        "    'django.contrib.messages',\n",
        "    'django.contrib.staticfiles',\n",
        "    'todolist',    # 추가할 것\n",
        "]\n",
        "\n",
        "TIME_ZONE = 'Asia/Seoul'    # 시간대를 한국으로 바꿀 것"
      ],
      "metadata": {
        "id": "PlOwQXyBv-A9"
      },
      "execution_count": null,
      "outputs": []
    },
    {
      "cell_type": "markdown",
      "source": [
        "- 웹서버 설정 URL 확인\n",
        "    - ./todoweb/urls.py"
      ],
      "metadata": {
        "id": "KsQfiCbRUHBN"
      }
    },
    {
      "cell_type": "code",
      "source": [
        "# ./photoweb/urls.py\n",
        "\n",
        "from django.contrib import admin\n",
        "from django.urls import path\n",
        "\n",
        "urlpatterns = [\n",
        "    path('admin/', admin.site.urls),\n",
        "]"
      ],
      "metadata": {
        "id": "ZPt02D29blJs"
      },
      "execution_count": null,
      "outputs": []
    },
    {
      "cell_type": "markdown",
      "source": [
        "- Migration 수행"
      ],
      "metadata": {
        "id": "bb8GVurGZ0_M"
      }
    },
    {
      "cell_type": "code",
      "source": [
        "!python manage.py migrate"
      ],
      "metadata": {
        "id": "7fqDAEOtZ6eX"
      },
      "execution_count": null,
      "outputs": []
    },
    {
      "cell_type": "markdown",
      "source": [
        "- 계정 만들기"
      ],
      "metadata": {
        "id": "WSPVwn-TZ84M"
      }
    },
    {
      "cell_type": "code",
      "source": [
        "!python manage.py createsuperuser"
      ],
      "metadata": {
        "id": "Lpmr_6kZZ_FY"
      },
      "execution_count": null,
      "outputs": []
    },
    {
      "cell_type": "markdown",
      "source": [
        "### 1.4 Todo 모델 생성"
      ],
      "metadata": {
        "id": "JnAZeiK1VorH"
      }
    },
    {
      "cell_type": "markdown",
      "source": [
        "- Model 만들기"
      ],
      "metadata": {
        "id": "10hm92w1NoG4"
      }
    },
    {
      "cell_type": "code",
      "source": [
        "# ./todolist/models.py\n",
        "\n",
        "from django.db import models\n",
        "\n",
        "# Create your models here.\n",
        "class Todo(models.Model):\n",
        "    title = models.CharField(max_length=100)\n",
        "    description = models.TextField(blank=True)\n",
        "    created = models.DateTimeField(auto_now_add=True)\n",
        "    complete = models.BooleanField(default=False)\n",
        "    important = models.BooleanField(default=False)\n",
        "\n",
        "    def __str__(self):\n",
        "        return self.title"
      ],
      "metadata": {
        "id": "Gzp1zaYwaaLD"
      },
      "execution_count": null,
      "outputs": []
    },
    {
      "cell_type": "markdown",
      "source": [
        "- Model 적용시키기"
      ],
      "metadata": {
        "id": "4bwjO5kWNuwv"
      }
    },
    {
      "cell_type": "code",
      "source": [
        "!python manage.py makemigrations"
      ],
      "metadata": {
        "id": "EmBr9tJKWdVB"
      },
      "execution_count": null,
      "outputs": []
    },
    {
      "cell_type": "code",
      "source": [
        "!python manage.py migrate"
      ],
      "metadata": {
        "id": "zlRMVBMUYIoc"
      },
      "execution_count": null,
      "outputs": []
    },
    {
      "cell_type": "markdown",
      "source": [
        "- Model을 Admin 페이지에 적용시키기\n",
        "    - ./photolist/admin.py"
      ],
      "metadata": {
        "id": "NcdvUCqpNy5-"
      }
    },
    {
      "cell_type": "code",
      "source": [
        "# ./todolist/admin.py\n",
        "\n",
        "from django.contrib import admin\n",
        "from todolist.models import Todo\n",
        "\n",
        "# Register your models here.\n",
        "admin.site.register(Todo)"
      ],
      "metadata": {
        "id": "evTHxKjVY2FE"
      },
      "execution_count": null,
      "outputs": []
    },
    {
      "cell_type": "markdown",
      "source": [
        "## **2. Todo 전체 조회 기능 만들기**"
      ],
      "metadata": {
        "id": "Xq0nJMPOUy-z"
      }
    },
    {
      "cell_type": "markdown",
      "source": [
        "### 2.1 Todo 전체 조회 기능 컨셉"
      ],
      "metadata": {
        "id": "_Rckw7BaVutD"
      }
    },
    {
      "cell_type": "markdown",
      "source": [
        "- 첫 페이지에서 Todo List를 보여줌\n",
        "- 완료되지 않은 항목만 보여줌"
      ],
      "metadata": {
        "id": "oWguEoS2nX4o"
      }
    },
    {
      "cell_type": "markdown",
      "source": [
        "### 2.2 Bootstrap으로 좀 더 멋진 템플릿 만들기"
      ],
      "metadata": {
        "id": "Sbg_-JJNV5Xy"
      }
    },
    {
      "cell_type": "markdown",
      "source": [
        "- Bootstrap\n",
        "    - 웹 개발을 쉽게 할 수 있도록 도와주는 HTML, CSS, JavaScript 프레임워크\n",
        "    - Twitter의 개발자들이 처음 만들었으며, 현재는 오픈 소스로 제공 중\n",
        "    - 특징\n",
        "        - 반응형 디자인: 다양한 기기(모바일, 태블릿, 데스크탑)에서 잘 작동하도록 설계됨\n",
        "        - 미리 정의된 스타일: 버튼, 폼, 네비게이션 바 등 다양한 UI 요소에 대한 스타일 제공\n",
        "        - 확장성: 필요에 따라 커스터마이징이 가능하며, 다양한 플러그인과 함께 사용할 수 있음\n",
        "        - CDN 지원: 별도의 설치 없이 CDN 링크를 통해 쉽게 사용할 수 있음"
      ],
      "metadata": {
        "id": "3FCVKNTJnl8n"
      }
    },
    {
      "cell_type": "markdown",
      "source": [
        "### 2.3 Todo 전체 조회 템플릿 만들기"
      ],
      "metadata": {
        "id": "GAcSyZk3WAvI"
      }
    },
    {
      "cell_type": "code",
      "source": [
        "# ./todolist/templates/todo_list.html\n",
        "\n",
        "<html>\n",
        "  <head>\n",
        "    <title>TODO 목록 앱</title>\n",
        "    <link\n",
        "      rel=\"stylesheet\"\n",
        "      href=\"https://maxcdn.bootstrapcdn.com/bootstrap/4.0.0/css/bootstrap.min.css\"\n",
        "    />\n",
        "    <link rel=\"stylesheet\" href=\"https://cdn.jsdelivr.net/npm/bootstrap-icons@1.7.1/font/bootstrap-icons.css\">\n",
        "  </head>\n",
        "  <body>\n",
        "  <div class=\"container\">\n",
        "    <h1>TODO 목록 앱</h1>\n",
        "    <p>\n",
        "      <a href=\"\"><i class=\"bi-plus\"></i>Add Todo</a>\n",
        "      <a href=\"\" class=\"btn btn-primary\" style=\"float:right\">완료한 TODO 목록</a>\n",
        "    </p>\n",
        "    <ul class=\"list-group\">\n",
        "\n",
        "      <li class=\"list-group-item\">\n",
        "        <a href=\"\">{{ todo.title }}</a>\n",
        "        <div style=\"float:right\">\n",
        "          <a href=\"\" class=\"btn btn-danger\">완료</a>\n",
        "          <a href=\"\" class=\"btn btn-outline-primary\">수정하기</a>\n",
        "        </div>\n",
        "      </li>\n",
        "\n",
        "      <li class=\"list-group-item\">\n",
        "        <a href=\"\">{{ todo.title }}</a>\n",
        "          <span class=\"badge badge-danger\">!</span>\n",
        "        <div style=\"float:right\">\n",
        "          <a href=\"\" class=\"btn btn-danger\">완료</a>\n",
        "          <a href=\"\" class=\"btn btn-outline-primary\">수정하기</a>\n",
        "        </div>\n",
        "      </li>\n",
        "\n",
        "      <li class=\"list-group-item\">\n",
        "        <a href=\"\">{{ todo.title }}</a>\n",
        "        <div style=\"float:right\">\n",
        "          <a href=\"\" class=\"btn btn-danger\">완료</a>\n",
        "          <a href=\"\" class=\"btn btn-outline-primary\">수정하기</a>\n",
        "        </div>\n",
        "      </li>\n",
        "\n",
        "    </ul>\n",
        "  </body>\n",
        "  </div>\n",
        "</html>"
      ],
      "metadata": {
        "id": "ub2W-wXBcD9E"
      },
      "execution_count": null,
      "outputs": []
    },
    {
      "cell_type": "markdown",
      "source": [
        "### 2.4 Todo 전체 조회 뷰 만들기"
      ],
      "metadata": {
        "id": "wc1ESrAcWGH_"
      }
    },
    {
      "cell_type": "code",
      "source": [
        "# ./todolist/views.py\n",
        "\n",
        "from django.shortcuts import render, redirect\n",
        "from todolist.models import Todo\n",
        "\n",
        "def todo_list(request):\n",
        "    todos = Todo.objects.filter(complete=False)\n",
        "    return render(request, 'todolist/todo_list.html', {'todos': todos})"
      ],
      "metadata": {
        "id": "6HrSIVxGdJoc"
      },
      "execution_count": null,
      "outputs": []
    },
    {
      "cell_type": "markdown",
      "source": [
        "### 2.5 Todo 전체 조회 템플릿 수정하기"
      ],
      "metadata": {
        "id": "v_rBB4yxem1P"
      }
    },
    {
      "cell_type": "code",
      "source": [
        "# ./todolist/templates/todo_list.html\n",
        "\n",
        "<html>\n",
        "  <head>\n",
        "    <title>TODO 목록 앱</title>\n",
        "    <link\n",
        "      rel=\"stylesheet\"\n",
        "      href=\"https://maxcdn.bootstrapcdn.com/bootstrap/4.0.0/css/bootstrap.min.css\"\n",
        "    />\n",
        "    <link rel=\"stylesheet\" href=\"https://cdn.jsdelivr.net/npm/bootstrap-icons@1.7.1/font/bootstrap-icons.css\">\n",
        "  </head>\n",
        "  <body>\n",
        "  <div class=\"container\">\n",
        "    <h1>TODO 목록 앱</h1>\n",
        "    <p>\n",
        "      <a href=\"\"><i class=\"bi-plus\"></i>Add Todo</a>\n",
        "      <a href=\"\" class=\"btn btn-primary\" style=\"float:right\">완료한 TODO 목록</a>\n",
        "    </p>\n",
        "    <ul class=\"list-group\">\n",
        "      {% for todo in todos %}\n",
        "      <li class=\"list-group-item\">\n",
        "        <a href=\"\">{{ todo.title }}</a>\n",
        "        {% if todo.important %}\n",
        "          <span class=\"badge badge-danger\">!</span>\n",
        "        {% endif %}\n",
        "        <div style=\"float:right\">\n",
        "          <a href=\"\" class=\"btn btn-danger\">완료</a>\n",
        "          <a href=\"\" class=\"btn btn-outline-primary\">수정하기</a>\n",
        "        </div>\n",
        "      </li>\n",
        "      {% endfor %}\n",
        "    </ul>\n",
        "  </body>\n",
        "  </div>\n",
        "</html>"
      ],
      "metadata": {
        "id": "xpuwyHCiexW4"
      },
      "execution_count": null,
      "outputs": []
    },
    {
      "cell_type": "markdown",
      "source": [
        "### 2.6 Todo 전체 조회 URL 연결하기"
      ],
      "metadata": {
        "id": "5BnFDzOxWL8_"
      }
    },
    {
      "cell_type": "code",
      "source": [
        "# ./todolist/urls.py\n",
        "\n",
        "from django.urls import path\n",
        "from . import views\n",
        "\n",
        "urlpatterns = [\n",
        "    path('', views.todo_list, name='todo_list'),\n",
        "]"
      ],
      "metadata": {
        "id": "Jsox-JvYdpAu"
      },
      "execution_count": null,
      "outputs": []
    },
    {
      "cell_type": "code",
      "source": [
        "# ./todoweb/urls.py\n",
        "\n",
        "from django.contrib import admin\n",
        "from django.urls import path, include\n",
        "\n",
        "urlpatterns = [\n",
        "    path('admin/', admin.site.urls),\n",
        "    path('todolist/', include('todolist.urls')),\n",
        "]"
      ],
      "metadata": {
        "id": "W5vA_4Y7d673"
      },
      "execution_count": null,
      "outputs": []
    },
    {
      "cell_type": "markdown",
      "source": [
        "## **3. Todo 상세 조회 기능 만들기**"
      ],
      "metadata": {
        "id": "xjhW7EpWUy6a"
      }
    },
    {
      "cell_type": "markdown",
      "source": [
        "### 3.1 Todo 상세 조회 기능 컨셉"
      ],
      "metadata": {
        "id": "Bs1EwC8xWS3X"
      }
    },
    {
      "cell_type": "markdown",
      "source": [
        "- Todo List에서 Todo를 선택했을 때 조회\n",
        "- Todo의 제목과 설명을 보여줌"
      ],
      "metadata": {
        "id": "VQ8PeF6xodN4"
      }
    },
    {
      "cell_type": "markdown",
      "source": [
        "### 3.2 Todo 상세 조회 템플릿 만들기"
      ],
      "metadata": {
        "id": "ZnYw30o4WS3Y"
      }
    },
    {
      "cell_type": "code",
      "source": [
        "# ./todolist/templates/todo_detail.html\n",
        "\n",
        "<html>\n",
        "  <head>\n",
        "    <title>TODO 목록 앱</title>\n",
        "    <link\n",
        "      rel=\"stylesheet\"\n",
        "      href=\"https://maxcdn.bootstrapcdn.com/bootstrap/4.0.0/css/bootstrap.min.css\"\n",
        "    />\n",
        "    <link rel=\"stylesheet\" href=\"https://cdn.jsdelivr.net/npm/bootstrap-icons@1.7.1/font/bootstrap-icons.css\">\n",
        "  </head>\n",
        "  <body>\n",
        "  <div class=\"container\">\n",
        "    <h1>TODO 상세보기</h1>\n",
        "    <div class=\"container\">\n",
        "      <div class=\"row\">\n",
        "        <div class=\"col-md-12\">\n",
        "          <div class=\"card\">\n",
        "            <div class=\"card-body\">\n",
        "              <h5 class=\"card-title\">{{ todo.title }}</h5>\n",
        "              </h5>\n",
        "              <p class=\"card-text\">{{ todo.description }}</p>\n",
        "              <a href=\"{% url 'todo_list' %}\" class=\"btn btn-primary\">목록으로</a>\n",
        "            </div>\n",
        "          </div>\n",
        "        </div>\n",
        "      </div>\n",
        "    </div>\n",
        "  </body>\n",
        "  </div>\n",
        "</html>"
      ],
      "metadata": {
        "id": "7NjBwskteRDo"
      },
      "execution_count": null,
      "outputs": []
    },
    {
      "cell_type": "markdown",
      "source": [
        "### 3.3 Todo 상세 조회 뷰 만들기"
      ],
      "metadata": {
        "id": "dsCyZgqJWS3Y"
      }
    },
    {
      "cell_type": "code",
      "source": [
        "# ./todolist/views.py\n",
        "\n",
        "from django.shortcuts import render, redirect\n",
        "from .models import Todo\n",
        "\n",
        "def todo_list(request):\n",
        "    todos = Todo.objects.filter(complete=False)\n",
        "    return render(request, 'todolist/todo_list.html', {'todos': todos})\n",
        "\n",
        "\n",
        "def todo_detail(request, pk):\n",
        "    todo = Todo.objects.get(id=pk)\n",
        "    return render(request, 'todolist/todo_detail.html', {'todo': todo})"
      ],
      "metadata": {
        "id": "33vLHg_Af8-H"
      },
      "execution_count": null,
      "outputs": []
    },
    {
      "cell_type": "markdown",
      "source": [
        "### 3.4 Todo 전체 조회 템플릿 수정하기"
      ],
      "metadata": {
        "id": "q8EOupdLgrCl"
      }
    },
    {
      "cell_type": "markdown",
      "source": [
        "- 상세 조회 페이지로 들어오기 위한 링크 걸기"
      ],
      "metadata": {
        "id": "XsMBWiKBg6rU"
      }
    },
    {
      "cell_type": "code",
      "source": [
        "# ./todolist/templates/todo_list.html\n",
        "\n",
        "<html>\n",
        "  <head>\n",
        "    <title>TODO 목록 앱</title>\n",
        "    <link\n",
        "      rel=\"stylesheet\"\n",
        "      href=\"https://maxcdn.bootstrapcdn.com/bootstrap/4.0.0/css/bootstrap.min.css\"\n",
        "    />\n",
        "    <link rel=\"stylesheet\" href=\"https://cdn.jsdelivr.net/npm/bootstrap-icons@1.7.1/font/bootstrap-icons.css\">\n",
        "  </head>\n",
        "  <body>\n",
        "  <div class=\"container\">\n",
        "    <h1>TODO 목록 앱</h1>\n",
        "    <p>\n",
        "      <a href=\"\"><i class=\"bi-plus\"></i>Add Todo</a>\n",
        "      <a href=\"\" class=\"btn btn-primary\" style=\"float:right\">완료한 TODO 목록</a>\n",
        "    </p>\n",
        "    <ul class=\"list-group\">\n",
        "      {% for todo in todos %}\n",
        "      <li class=\"list-group-item\">\n",
        "        <a href=\"{% url 'todo_detail' pk=todo.pk %}\">{{ todo.title }}</a>\n",
        "        {% if todo.important %}\n",
        "          <span class=\"badge badge-danger\">!</span>\n",
        "        {% endif %}\n",
        "        <div style=\"float:right\">\n",
        "          <a href=\"\" class=\"btn btn-danger\">완료</a>\n",
        "          <a href=\"\" class=\"btn btn-outline-primary\">수정하기</a>\n",
        "        </div>\n",
        "      </li>\n",
        "      {% endfor %}\n",
        "    </ul>\n",
        "  </body>\n",
        "  </div>\n",
        "</html>"
      ],
      "metadata": {
        "id": "2tZWJ8PLgrCm"
      },
      "execution_count": null,
      "outputs": []
    },
    {
      "cell_type": "markdown",
      "source": [
        "### 3.5 Todo 상세 조회 URL 연결하기"
      ],
      "metadata": {
        "id": "MW0I2dPEWS3Z"
      }
    },
    {
      "cell_type": "code",
      "source": [
        "# ./todolist/urls.py\n",
        "\n",
        "from django.urls import path\n",
        "from . import views\n",
        "\n",
        "urlpatterns = [\n",
        "    path('', views.todo_list, name='todo_list'),\n",
        "    path('<int:pk>/', views.todo_detail, name='todo_detail'),\n",
        "]"
      ],
      "metadata": {
        "id": "T4i7JkI9f9sz"
      },
      "execution_count": null,
      "outputs": []
    },
    {
      "cell_type": "markdown",
      "source": [
        "## **4. Todo 생성 기능 만들기**"
      ],
      "metadata": {
        "id": "6CuCpuA-Uy1_"
      }
    },
    {
      "cell_type": "markdown",
      "source": [
        "### 4.1 Todo 생성 기능 컨셉"
      ],
      "metadata": {
        "id": "jUbtzdVjWxUY"
      }
    },
    {
      "cell_type": "markdown",
      "source": [
        "- 제목, 설명, 중요도 입력\n",
        "- Form 필요 → ./todolist/forms.py"
      ],
      "metadata": {
        "id": "z8Wf_o1BorN9"
      }
    },
    {
      "cell_type": "markdown",
      "source": [
        "### 4.2 Todo 생성 템플릿 만들기"
      ],
      "metadata": {
        "id": "DH1e1Uh-WxUY"
      }
    },
    {
      "cell_type": "markdown",
      "source": [
        "#### 4.2.1 Todo 내용 입력을 위한 Form 만들기"
      ],
      "metadata": {
        "id": "mkUHPuSVh8oE"
      }
    },
    {
      "cell_type": "code",
      "source": [
        "# ./todolist/forms.py\n",
        "\n",
        "from django import forms\n",
        "from .models import Todo\n",
        "\n",
        "class TodoForm(forms.ModelForm):\n",
        "    class Meta:\n",
        "        model = Todo\n",
        "        fields = ('title', 'description', 'important')"
      ],
      "metadata": {
        "id": "vZHCYxWshamW"
      },
      "execution_count": null,
      "outputs": []
    },
    {
      "cell_type": "markdown",
      "source": [
        "#### 4.2.2 템플릿 만들기"
      ],
      "metadata": {
        "id": "I8aU58WmiJH_"
      }
    },
    {
      "cell_type": "code",
      "source": [
        "# ./todolist/templates/todo_post.html\n",
        "\n",
        "<html>\n",
        "  <head>\n",
        "    <title>TODO 목록 앱</title>\n",
        "    <link\n",
        "      rel=\"stylesheet\"\n",
        "      href=\"https://maxcdn.bootstrapcdn.com/bootstrap/4.0.0/css/bootstrap.min.css\"\n",
        "    />\n",
        "    <link rel=\"stylesheet\" href=\"https://cdn.jsdelivr.net/npm/bootstrap-icons@1.7.1/font/bootstrap-icons.css\">\n",
        "  </head>\n",
        "  <body>\n",
        "  <div class=\"container\">\n",
        "    <h1>TODO 추가하기</h1>\n",
        "    <div class=\"container\">\n",
        "      <div class=\"row\">\n",
        "        <div class=\"col-md-12\">\n",
        "          <div class=\"card\">\n",
        "            <div class=\"card-body\">\n",
        "              <form method=\"POST\">\n",
        "                {% csrf_token %} {{ form.as_p }}\n",
        "                <button type=\"submit\" class=\"btn btn-primary\">등록</button>\n",
        "              </form>\n",
        "            </div>\n",
        "          </div>\n",
        "        </div>\n",
        "      </div>\n",
        "    </div>\n",
        "  </body>\n",
        "  </div>\n",
        "</html>"
      ],
      "metadata": {
        "id": "AA-dJD76iVRk"
      },
      "execution_count": null,
      "outputs": []
    },
    {
      "cell_type": "markdown",
      "source": [
        "### 4.3 Todo 생성 뷰 만들기"
      ],
      "metadata": {
        "id": "FuLrAuMsWxUY"
      }
    },
    {
      "cell_type": "code",
      "source": [
        "# ./todolist/views.py\n",
        "\n",
        "from django.shortcuts import render, redirect\n",
        "from .models import Todo\n",
        "from .forms import TodoForm\n",
        "\n",
        "\n",
        "def todo_list(request):\n",
        "    todos = Todo.objects.filter(complete=False)\n",
        "    return render(request, 'todolist/todo_list.html', {'todos': todos})\n",
        "\n",
        "\n",
        "def todo_detail(request, pk):\n",
        "    todo = Todo.objects.get(id=pk)\n",
        "    return render(request, 'todolist/todo_detail.html', {'todo': todo})\n",
        "\n",
        "\n",
        "def todo_post(request):\n",
        "    if request.method == \"POST\":\n",
        "        form = TodoForm(request.POST)\n",
        "        if form.is_valid():\n",
        "            todo = form.save(commit=False)\n",
        "            todo.save()\n",
        "            return redirect('todo_list')\n",
        "    else:\n",
        "        form = TodoForm()\n",
        "    return render(request, 'todolist/todo_post.html', {'form': form})\n",
        "\n"
      ],
      "metadata": {
        "id": "oJZUyT4ghbha"
      },
      "execution_count": null,
      "outputs": []
    },
    {
      "cell_type": "markdown",
      "source": [
        "### 4.4 Todo 전체 조회 템플릿 수정하기"
      ],
      "metadata": {
        "id": "wYdvcvbHhjoM"
      }
    },
    {
      "cell_type": "markdown",
      "source": [
        "- Todo 생성을 위한 링크 걸기"
      ],
      "metadata": {
        "id": "UuJLChgbhjoN"
      }
    },
    {
      "cell_type": "code",
      "source": [
        "# ./todolist/templates/todo_list.html\n",
        "\n",
        "<html>\n",
        "  <head>\n",
        "    <title>TODO 목록 앱</title>\n",
        "    <link\n",
        "      rel=\"stylesheet\"\n",
        "      href=\"https://maxcdn.bootstrapcdn.com/bootstrap/4.0.0/css/bootstrap.min.css\"\n",
        "    />\n",
        "    <link rel=\"stylesheet\" href=\"https://cdn.jsdelivr.net/npm/bootstrap-icons@1.7.1/font/bootstrap-icons.css\">\n",
        "  </head>\n",
        "  <body>\n",
        "  <div class=\"container\">\n",
        "    <h1>TODO 목록 앱</h1>\n",
        "    <p>\n",
        "      <a href=\"{% url 'todo_post' %}\"><i class=\"bi-plus\"></i>Add Todo</a>\n",
        "      <a href=\"\" class=\"btn btn-primary\" style=\"float:right\">완료한 TODO 목록</a>\n",
        "    </p>\n",
        "    <ul class=\"list-group\">\n",
        "      {% for todo in todos %}\n",
        "      <li class=\"list-group-item\">\n",
        "        <a href=\"{% url 'todo_detail' pk=todo.pk %}\">{{ todo.title }}</a>\n",
        "        {% if todo.important %}\n",
        "          <span class=\"badge badge-danger\">!</span>\n",
        "        {% endif %}\n",
        "        <div style=\"float:right\">\n",
        "          <a href=\"\" class=\"btn btn-danger\">완료</a>\n",
        "          <a href=\"\" class=\"btn btn-outline-primary\">수정하기</a>\n",
        "        </div>\n",
        "      </li>\n",
        "      {% endfor %}\n",
        "    </ul>\n",
        "  </body>\n",
        "  </div>\n",
        "</html>"
      ],
      "metadata": {
        "id": "fhNVWahWhjoN"
      },
      "execution_count": null,
      "outputs": []
    },
    {
      "cell_type": "markdown",
      "source": [
        "### 4.5 Todo 생성 URL 연결하기"
      ],
      "metadata": {
        "id": "C_wDoU3_WxUZ"
      }
    },
    {
      "cell_type": "code",
      "source": [
        "# ./todolist/urls.py\n",
        "\n",
        "from django.urls import path\n",
        "from . import views\n",
        "\n",
        "urlpatterns = [\n",
        "    path('', views.todo_list, name='todo_list'),\n",
        "    path('<int:pk>/', views.todo_detail, name='todo_detail'),\n",
        "    path('post/', views.todo_post, name='todo_post'),\n",
        "]"
      ],
      "metadata": {
        "id": "LN4hId4bhcJi"
      },
      "execution_count": null,
      "outputs": []
    },
    {
      "cell_type": "markdown",
      "source": [
        "## **5. Todo 수정 기능 만들기**"
      ],
      "metadata": {
        "id": "98sAFZ2aUyxz"
      }
    },
    {
      "cell_type": "markdown",
      "source": [
        "### 5.1 Todo 수정 기능 컨셉"
      ],
      "metadata": {
        "id": "6aiEn-iUXEon"
      }
    },
    {
      "cell_type": "markdown",
      "source": [
        "- Todo 생성 기능과 거의 동일\n",
        "- 선택된 Todo의 내용이 Form에 미리 입력되어 있음"
      ],
      "metadata": {
        "id": "yTlcKOTvo6zZ"
      }
    },
    {
      "cell_type": "markdown",
      "source": [
        "### 5.2 Todo 수정 뷰 만들기"
      ],
      "metadata": {
        "id": "Mv6MjIR-XEoo"
      }
    },
    {
      "cell_type": "code",
      "source": [
        "# ./todolist/views.py\n",
        "\n",
        "from django.shortcuts import render, redirect\n",
        "from .models import Todo\n",
        "from .forms import TodoForm\n",
        "\n",
        "\n",
        "def todo_list(request):\n",
        "    todos = Todo.objects.filter(complete=False)\n",
        "    return render(request, 'todolist/todo_list.html', {'todos': todos})\n",
        "\n",
        "def todo_detail(request, pk):\n",
        "    todo = Todo.objects.get(id=pk)\n",
        "    return render(request, 'todolist/todo_detail.html', {'todo': todo})\n",
        "\n",
        "def todo_post(request):\n",
        "    if request.method == \"POST\":\n",
        "        form = TodoForm(request.POST)\n",
        "        if form.is_valid():\n",
        "            todo = form.save(commit=False)\n",
        "            todo.save()\n",
        "            return redirect('todo_list')\n",
        "    else:\n",
        "        form = TodoForm()\n",
        "    return render(request, 'todolist/todo_post.html', {'form': form})\n",
        "\n",
        "def todo_edit(request, pk):\n",
        "    todo = Todo.objects.get(id=pk)\n",
        "    if request.method == \"POST\":\n",
        "        form = TodoForm(request.POST, instance=todo)\n",
        "        if form.is_valid():\n",
        "            todo = form.save(commit=False)\n",
        "            todo.save()\n",
        "            return redirect('todo_list')\n",
        "    else:\n",
        "        form = TodoForm(instance=todo)\n",
        "    return render(request, 'todolist/todo_post.html', {'form': form})"
      ],
      "metadata": {
        "id": "aXHpPDxjjmbQ"
      },
      "execution_count": null,
      "outputs": []
    },
    {
      "cell_type": "markdown",
      "source": [
        "### 5.4 Todo 전체 조회 템플릿 수정하기"
      ],
      "metadata": {
        "id": "t8XFHllLjuBc"
      }
    },
    {
      "cell_type": "markdown",
      "source": [
        "- Todo 수정을 위한 링크 걸기"
      ],
      "metadata": {
        "id": "srEJRkrmjuBj"
      }
    },
    {
      "cell_type": "code",
      "source": [
        "# ./todolist/templates/todo_list.html\n",
        "\n",
        "<html>\n",
        "  <head>\n",
        "    <title>TODO 목록 앱</title>\n",
        "    <link\n",
        "      rel=\"stylesheet\"\n",
        "      href=\"https://maxcdn.bootstrapcdn.com/bootstrap/4.0.0/css/bootstrap.min.css\"\n",
        "    />\n",
        "    <link rel=\"stylesheet\" href=\"https://cdn.jsdelivr.net/npm/bootstrap-icons@1.7.1/font/bootstrap-icons.css\">\n",
        "  </head>\n",
        "  <body>\n",
        "  <div class=\"container\">\n",
        "    <h1>TODO 목록 앱</h1>\n",
        "    <p>\n",
        "      <a href=\"{% url 'todo_post' %}\"><i class=\"bi-plus\"></i>Add Todo</a>\n",
        "      <a href=\"\" class=\"btn btn-primary\" style=\"float:right\">완료한 TODO 목록</a>\n",
        "    </p>\n",
        "    <ul class=\"list-group\">\n",
        "      {% for todo in todos %}\n",
        "      <li class=\"list-group-item\">\n",
        "        <a href=\"{% url 'todo_detail' pk=todo.pk %}\">{{ todo.title }}</a>\n",
        "        {% if todo.important %}\n",
        "          <span class=\"badge badge-danger\">!</span>\n",
        "        {% endif %}\n",
        "        <div style=\"float:right\">\n",
        "          <a href=\"\" class=\"btn btn-danger\">완료</a>\n",
        "          <a href=\"{% url 'todo_edit' pk=todo.pk %\" class=\"btn btn-outline-primary\">수정하기</a>\n",
        "        </div>\n",
        "      </li>\n",
        "      {% endfor %}\n",
        "    </ul>\n",
        "  </body>\n",
        "  </div>\n",
        "</html>"
      ],
      "metadata": {
        "id": "yD_iLMa7juBj"
      },
      "execution_count": null,
      "outputs": []
    },
    {
      "cell_type": "markdown",
      "source": [
        "### 5.4 Todo 수정 URL 연결하기"
      ],
      "metadata": {
        "id": "1IkWtWpqXEoo"
      }
    },
    {
      "cell_type": "code",
      "source": [
        "# ./todolist/urls.py\n",
        "\n",
        "from django.urls import path\n",
        "from . import views\n",
        "\n",
        "urlpatterns = [\n",
        "    path('', views.todo_list, name='todo_list'),\n",
        "    path('<int:pk>/', views.todo_detail, name='todo_detail'),\n",
        "    path('post/', views.todo_post, name='todo_post'),\n",
        "    path('<int:pk>/edit/', views.todo_edit, name='todo_edit'),\n",
        "]"
      ],
      "metadata": {
        "id": "gqCSYcd3kWoo"
      },
      "execution_count": null,
      "outputs": []
    },
    {
      "cell_type": "markdown",
      "source": [
        "## **6. Todo 완료 기능 만들기**"
      ],
      "metadata": {
        "id": "94B3zhW8UytT"
      }
    },
    {
      "cell_type": "markdown",
      "source": [
        "### 6.1 Todo 완료 기능 컨셉"
      ],
      "metadata": {
        "id": "EQmzZaXrXaew"
      }
    },
    {
      "cell_type": "markdown",
      "source": [
        "- 완료 버튼을 눌렀을 때 Todo의 complete 값을 True로 설정\n",
        "- 완료 Todo 조회 기능: 완료된 Todo List만 보여줌"
      ],
      "metadata": {
        "id": "OGrTo-ESpQeY"
      }
    },
    {
      "cell_type": "markdown",
      "source": [
        "### 6.2 Todo 완료 템플릿 만들기"
      ],
      "metadata": {
        "id": "q75aOCEfXae8"
      }
    },
    {
      "cell_type": "code",
      "source": [
        "<html>\n",
        "  <head>\n",
        "    <title>TODO 목록 앱</title>\n",
        "    <link\n",
        "      rel=\"stylesheet\"\n",
        "      href=\"https://maxcdn.bootstrapcdn.com/bootstrap/4.0.0/css/bootstrap.min.css\"\n",
        "    />\n",
        "    <link rel=\"stylesheet\" href=\"https://cdn.jsdelivr.net/npm/bootstrap-icons@1.7.1/font/bootstrap-icons.css\">\n",
        "  </head>\n",
        "  <body>\n",
        "  <div class=\"container\">\n",
        "    <h1>DONE 목록</h1>\n",
        "    <p>\n",
        "      <a href=\"{% url 'todo_list' %}\" class=\"btn btn-primary\">홈으로</a>\n",
        "    </p>\n",
        "    <ul class=\"list-group\">\n",
        "      {% for done in dones %}\n",
        "      <li class=\"list-group-item\">\n",
        "        <a href=\"{% url 'todo_detail' pk=done.pk %}\">{{ done.title }}</a>\n",
        "        {% if done.important %}\n",
        "          <span class=\"badge badge-danger\">!</span>\n",
        "        {% endif %}\n",
        "      </li>\n",
        "      {% endfor %}\n",
        "    </ul>\n",
        "  </body>\n",
        "  </div>\n",
        "</html>"
      ],
      "metadata": {
        "id": "0MVv4ayMkjp9"
      },
      "execution_count": null,
      "outputs": []
    },
    {
      "cell_type": "markdown",
      "source": [
        "### 6.3 Todo 전체 조회 템플릿 수정하기"
      ],
      "metadata": {
        "id": "VU-nwjcdlAYO"
      }
    },
    {
      "cell_type": "markdown",
      "source": [
        "- Todo 완료를 위한 링크 걸기"
      ],
      "metadata": {
        "id": "HjZa5JDclAYd"
      }
    },
    {
      "cell_type": "code",
      "source": [
        "# ./todolist/templates/todo_list.html\n",
        "\n",
        "<html>\n",
        "  <head>\n",
        "    <title>TODO 목록 앱</title>\n",
        "    <link\n",
        "      rel=\"stylesheet\"\n",
        "      href=\"https://maxcdn.bootstrapcdn.com/bootstrap/4.0.0/css/bootstrap.min.css\"\n",
        "    />\n",
        "    <link rel=\"stylesheet\" href=\"https://cdn.jsdelivr.net/npm/bootstrap-icons@1.7.1/font/bootstrap-icons.css\">\n",
        "  </head>\n",
        "  <body>\n",
        "  <div class=\"container\">\n",
        "    <h1>TODO 목록 앱</h1>\n",
        "    <p>\n",
        "      <a href=\"{% url 'todo_post' %}\"><i class=\"bi-plus\"></i>Add Todo</a>\n",
        "      <a href=\"{% url 'done_list' %}\" class=\"btn btn-primary\" style=\"float:right\">완료한 TODO 목록</a>\n",
        "    </p>\n",
        "    <ul class=\"list-group\">\n",
        "      {% for todo in todos %}\n",
        "      <li class=\"list-group-item\">\n",
        "        <a href=\"{% url 'todo_detail' pk=todo.pk %}\">{{ todo.title }}</a>\n",
        "        {% if todo.important %}\n",
        "          <span class=\"badge badge-danger\">!</span>\n",
        "        {% endif %}\n",
        "        <div style=\"float:right\">\n",
        "          <a href=\"{% url 'todo_done' pk=todo.pk %}\" class=\"btn btn-danger\">완료</a>\n",
        "          <a href=\"{% url 'todo_edit' pk=todo.pk %}\" class=\"btn btn-outline-primary\">수정하기</a>\n",
        "        </div>\n",
        "      </li>\n",
        "      {% endfor %}\n",
        "    </ul>\n",
        "  </body>\n",
        "  </div>\n",
        "</html>"
      ],
      "metadata": {
        "id": "ZF2J4plMlAYd"
      },
      "execution_count": null,
      "outputs": []
    },
    {
      "cell_type": "markdown",
      "source": [
        "### 6.4 Todo 완료 뷰 만들기"
      ],
      "metadata": {
        "id": "-yS-rBONXae8"
      }
    },
    {
      "cell_type": "code",
      "source": [
        "# ./todolist/views.py\n",
        "\n",
        "from django.shortcuts import render, redirect\n",
        "from .models import Todo\n",
        "from .forms import TodoForm\n",
        "\n",
        "\n",
        "def todo_list(request):\n",
        "    todos = Todo.objects.filter(complete=False)\n",
        "    return render(request, 'todolist/todo_list.html', {'todos': todos})\n",
        "\n",
        "def todo_detail(request, pk):\n",
        "    todo = Todo.objects.get(id=pk)\n",
        "    return render(request, 'todolist/todo_detail.html', {'todo': todo})\n",
        "\n",
        "def todo_post(request):\n",
        "    if request.method == \"POST\":\n",
        "        form = TodoForm(request.POST)\n",
        "        if form.is_valid():\n",
        "            todo = form.save(commit=False)\n",
        "            todo.save()\n",
        "            return redirect('todo_list')\n",
        "    else:\n",
        "        form = TodoForm()\n",
        "    return render(request, 'todolist/todo_post.html', {'form': form})\n",
        "\n",
        "def todo_edit(request, pk):\n",
        "    todo = Todo.objects.get(id=pk)\n",
        "    if request.method == \"POST\":\n",
        "        form = TodoForm(request.POST, instance=todo)\n",
        "        if form.is_valid():\n",
        "            todo = form.save(commit=False)\n",
        "            todo.save()\n",
        "            return redirect('todo_list')\n",
        "    else:\n",
        "        form = TodoForm(instance=todo)\n",
        "    return render(request, 'todolist/todo_post.html', {'form': form})\n",
        "\n",
        "def done_list(request):\n",
        "    dones = Todo.objects.filter(complete=True)\n",
        "    return render(request, 'todo/done_list.html', {'dones': dones})\n",
        "\n",
        "def todo_done(request, pk):\n",
        "    todo = Todo.objects.get(id=pk)\n",
        "    todo.complete = True\n",
        "    todo.save()\n",
        "    return redirect('todo_list')"
      ],
      "metadata": {
        "id": "L_JQTjV1lUH-"
      },
      "execution_count": null,
      "outputs": []
    },
    {
      "cell_type": "markdown",
      "source": [
        "### 6.5 Todo 완료 URL 연결하기"
      ],
      "metadata": {
        "id": "duGkS5RaXae9"
      }
    },
    {
      "cell_type": "code",
      "source": [
        "# ./todolist/urls.py\n",
        "\n",
        "from django.urls import path\n",
        "from . import views\n",
        "\n",
        "urlpatterns = [\n",
        "    path('', views.todo_list, name='todo_list'),\n",
        "    path('<int:pk>/', views.todo_detail, name='todo_detail'),\n",
        "    path('post/', views.todo_post, name='todo_post'),\n",
        "    path('<int:pk>/edit/', views.todo_edit, name='todo_edit'),\n",
        "    path('done/', views.done_list, name='done_list'),\n",
        "    path('done/<int:pk>/', views.todo_done, name='todo_done'),\n",
        "]"
      ],
      "metadata": {
        "id": "grcvxKMylRH0"
      },
      "execution_count": null,
      "outputs": []
    }
  ]
}