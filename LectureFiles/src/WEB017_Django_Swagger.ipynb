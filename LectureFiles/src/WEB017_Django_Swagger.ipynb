{
  "nbformat": 4,
  "nbformat_minor": 0,
  "metadata": {
    "colab": {
      "provenance": [],
      "toc_visible": true
    },
    "kernelspec": {
      "name": "python3",
      "display_name": "Python 3"
    },
    "language_info": {
      "name": "python"
    }
  },
  "cells": [
    {
      "cell_type": "markdown",
      "source": [
        "# **Swagger를 이용한 Django 기반 API의 문서화**"
      ],
      "metadata": {
        "id": "hJLXwBMM-o0b"
      }
    },
    {
      "cell_type": "markdown",
      "source": [
        "## **1. Swagger 개요**"
      ],
      "metadata": {
        "id": "-7PijUDWz7f6"
      }
    },
    {
      "cell_type": "markdown",
      "source": [
        "- Swagger\n",
        "    - RESTful API를 설계, 구축 및 문서화하는 데 사용되는 도구\n",
        "    - 개발자들이 API를 명확하게 정의하고, 쉽게 이해하여 사용할 수 있도록 도와줌\n",
        "    - API 설계와 문서화를 단순화하여, 개발자들이 더 효율적으로 작업할 수 있도록 도와줌\n",
        "\n",
        "- 주요 기능\n",
        "    - API 문서화\n",
        "        - Swagger는 API의 엔드포인트, 메서드, 매개변수, 응답 형식 등을 자동으로 문서화함\n",
        "        - 이를 통해 API의 사용법을 명확하게 보여줄 수 있음\n",
        "\n",
        "    - API 테스트\n",
        "        - Swagger UI를 통해 브라우저에서 직접 API를 테스트할 수 있음\n",
        "        - 이를 통해 개발자는 API의 동작을 쉽게 확인하고 디버깅할 수 있음\n",
        "\n",
        "    - API 설계\n",
        "        - Swagger Editor를 사용하여 API 스펙을 정의하고 설계할 수 있음\n",
        "        - JSON이나 YAML 형식으로 API를 작성할 수 있음\n",
        "\n",
        "    - 자동 코드 생성\n",
        "        - Swagger Codegen을 사용하여 클라이언트 SDK와 서버 스텁 코드를 자동으로 생성할 수 있음\n",
        "        - 이를 통해 개발 시간을 절약하고 일관성을 유지할 수 있음\n",
        "\n",
        "- 사용 예시\n",
        "    - Yaml 설정파일의 예시\n",
        "\n",
        "    ```\n",
        "    openapi: 3.0.0\n",
        "    info:\n",
        "    title: Sample API\n",
        "    version: 1.0.0\n",
        "    paths:\n",
        "    /items:\n",
        "        get:\n",
        "        summary: Get a list of items\n",
        "        responses:\n",
        "            '200':\n",
        "            description: Successful response\n",
        "            content:\n",
        "                application/json:\n",
        "                schema:\n",
        "                    type: array\n",
        "                    items:\n",
        "                    type: string\n",
        "    ```"
      ],
      "metadata": {
        "id": "TJKeRR-WpmY8"
      }
    },
    {
      "cell_type": "markdown",
      "source": [
        "## **2. Swagger의 이용**"
      ],
      "metadata": {
        "id": "3_Qnq_c22qp7"
      }
    },
    {
      "cell_type": "markdown",
      "source": [
        "- Swagger의 이용 배경\n",
        "    - 백엔드에서 API를 만들게되면\n",
        "    - 프론트엔드 개발자와 소통하면서\n",
        "        - 어떤 API가 추가되었는지\n",
        "        - request url, method, response_body, request_query_params 등은 어떻게 구성되었는지\n",
        "        - 등에 대해서 공유해주어야\n",
        "    - 프론트엔드 개발자는\n",
        "        - 그것을 통해 API를 연동하고\n",
        "        - 실제 서버에서 데이터를 불러 올 수 있음\n",
        "    - 이 과정에서 소통간에 잘못 전달되는 경우가 있을 수 있음\n",
        "        - 이런 문제를 예방하고자 Swagger 등을 통해 API 문서 자동화를 적용할 수 있음\n",
        "    - Swagger의 적용을 통해\n",
        "        - 우리가 개발하는 내용 그대로 모든 내용들이 자동으로 문서화가 되어\n",
        "        - 우리가 굳이 설명하거나 문서로 전달하지 않더라도 프론트엔드 개발자 혹은 다른 개발자들이 API 명세를 확인할 수 있게 됨\n",
        "        - API 명세 뿐 아니라, API에 대한 목업(Mock-up) 테스트도 지원\n",
        "            - 프론트엔드와 연동을 하지 않을 상태에서도 Response를 확인해볼 수 있는 테스트를 진행해 볼 수도 있음"
      ],
      "metadata": {
        "id": "XqgMIuSgqkJu"
      }
    },
    {
      "cell_type": "markdown",
      "source": [
        "## **3. Swagger 기반 문서화 프로세스**"
      ],
      "metadata": {
        "id": "q8p4lJaizzTa"
      }
    },
    {
      "cell_type": "markdown",
      "source": [
        "<br><img src=\"https://github.com/aidalabs/Lectures/blob/main/LectureFiles/images/WEB017_Django_Swagger_01.png?raw=true\"><br>"
      ],
      "metadata": {
        "id": "c8p0pVmVq0JZ"
      }
    },
    {
      "cell_type": "markdown",
      "source": [
        "- Swagger를 이용한 API 문서화 작업의 기본 프로세스\n",
        "\n",
        "    1. Swagger 설치\n",
        "        - Swagger Editor, Swagger UI, Swagger Codegen 등 필요한 도구 설치\n",
        "\n",
        "    2. API 정의 작성\n",
        "        - Swagger는 OpenAPI(Swagger) 스펙을 사용하여 API를 정의함\n",
        "        - OpenAPI 스펙을 이용해 API 엔드포인트, 메소드, 매개변수, 응답 형식 등 정의\n",
        "\n",
        "    3. Swagger Editor 사용\n",
        "        - Swagger Editor를 사용하여 API 정의 작성\n",
        "        - 문법 오류의 실시간 검사\n",
        "\n",
        "    4. Swagger UI 테스트:\n",
        "        - Swagger UI를 사용하여 작성한 API 정의를 시각적으로 테스트\n",
        "        - API를 실제로 호출하여 응답 확인\n",
        "\n",
        "    5. API 문서 생성:\n",
        "        - Swagger Codegen을 사용하여 API 클라이언트 라이브러리, 서버 스튜브, 문서 등을 자동으로 생성\n",
        "\n",
        "    6. 문서 배포:\n",
        "        - 생성된 API 문서를 웹사이트나 개발자 포털에 배포하여 개발자들이 쉽게 접근할 수 있도록 함"
      ],
      "metadata": {
        "id": "Zi8Sxcvs-7dn"
      }
    },
    {
      "cell_type": "markdown",
      "source": [
        "- **가장 중요한 것**\n",
        "    - API 정의의 정확성\n",
        "        - 가장 중요한 작업\n",
        "        - 정확한 API 정의는 API를 사용하는 개발자들이 API를 올바르게 이해하고 활용할 수 있도록 함\n",
        "    - 정기적인 업데이트와 문서의 일관성 유지\n",
        "        - API가 변경될 때마다 문서도 업데이트하여 개발자들이 최신 정보를 얻을 수 있도록 해야 함"
      ],
      "metadata": {
        "id": "fAbw3erh3Vrh"
      }
    },
    {
      "cell_type": "markdown",
      "source": [
        "## **4. Swagger 적용하기**"
      ],
      "metadata": {
        "id": "AMx5dSoW3fTC"
      }
    },
    {
      "cell_type": "markdown",
      "source": [
        "### 4.1 Swagger 관련 패키지 설치"
      ],
      "metadata": {
        "id": "owJ5F-AI3kaz"
      }
    },
    {
      "cell_type": "markdown",
      "source": [
        "- 일반적인 설치 방향\n",
        "    - 서버에 직접 설치\n",
        "        - drf-yasg 모듈이 대표적임\n",
        "    - SwaggerHub 클라우드 서비스의 이용"
      ],
      "metadata": {
        "id": "zXylEkdS5lOO"
      }
    },
    {
      "cell_type": "markdown",
      "source": [
        "#### 4.1.1 drf-yasg 설치"
      ],
      "metadata": {
        "id": "kGX6eZvu59E3"
      }
    },
    {
      "cell_type": "markdown",
      "source": [
        "- drf-yasg(django rest framework- Yet another Swagger generator)\n",
        "    - Django로 정의된 API를 문서화할 수 있는 패키지\n",
        "    - Django에서 지원하는 여러가지 Swagger 모듈 중 가장 대표적인 모듈\n",
        "    - drf 위에서 작동하는 모듈이므로 설치를 하기전에 django-rest-framework도 설치되어 있어야함\n",
        "\n",
        "    ```\n",
        "    pip install djangorestframework\n",
        "    pip install drf-yasg\n",
        "    ```"
      ],
      "metadata": {
        "id": "aVLT2xzB54Je"
      }
    },
    {
      "cell_type": "markdown",
      "source": [
        "#### 4.1.2 Swagger 환경 설정"
      ],
      "metadata": {
        "id": "OTnN93Dm6yVE"
      }
    },
    {
      "cell_type": "markdown",
      "source": [
        "1. settings.py 파일\n",
        "    - INSTALLED_APPS 항목 안에 추가\n",
        "\n",
        "    ```\n",
        "    INSTALLED_APPS = [\n",
        "        ... # another apps\n",
        "        \n",
        "        'drf_yasg', #drf_yasg\n",
        "        'rest_framework',   #djangorestframework\n",
        "        \n",
        "        ... # another apps\n",
        "    ]\n",
        "    ```\n",
        "\n",
        "2. urls.py 파일\n",
        "    - 일반적인 API처럼 특정 URL을 통해 Swagger 문서에 접속할 수 있도록 설정하는 과정\n",
        "\n",
        "    ```\n",
        "    from drf-yasg.views import get_schema_view\n",
        "    from drf-yasg import openapi\n",
        "\n",
        "    ...\n",
        "\n",
        "    schema_view = get_schema_view(\n",
        "        openapi.Info(\n",
        "            title=\"Your Server Name or Swagger Docs name\",\n",
        "            default_version=\"Your API version(Custom)\",\n",
        "            description=\"Your Swagger Docs descriptions\",\n",
        "            # terms_of_service=\"https://www.google.com/policies/terms/\",\n",
        "            # contact=openapi.Contact(name=\"test\", email=\"test@test.com\"),\n",
        "            # license=openapi.License(name=\"Test License\"),\n",
        "        ),\n",
        "        public=True,\n",
        "        permission_classes=(permissions.AllowAny,),\n",
        "    )\n",
        "    ]\n",
        "    ```\n",
        "\n",
        "    - drf-yasg를 임포트하여 get_schema_views라는 메서드를 가져와 설정\n",
        "    - openapi\n",
        "        - api에 대한 명세를 작성하는것을 도와주는 역할\n",
        "        - 앞으로 Swagger에서 자주쓰게 될 내용임\n",
        "\n",
        "3. Swagger를 보기위한 URL설정 추가\n",
        "\n",
        "    ```\n",
        "    urlpatterns = [\n",
        "        # other user API end-point URL\n",
        "        ...\n",
        "\n",
        "        url(r'^swagger(?P<format>\\.json|\\.yaml)$', schema_view_v1.without_ui(cache_timeout=0), name='schema-json'),\n",
        "        url(r'^swagger/$', schema_view_v1.with_ui('swagger', cache_timeout=0), name='schema-swagger-ui'),\n",
        "        url(r'^redoc/$', schema_view_v1.with_ui('redoc', cache_timeout=0), name='schema-redoc'),\n",
        "    ]\n",
        "    ```\n",
        "\n",
        "    - 위처럼 설정하면 모든 환경에서 Swagger에 접속할수 있게 됨\n",
        "    - urlpatterns에 있는 url은 변경 가능\n",
        "        - 각각의 개발환경마다 접속되는 스웨거를 다르게 설정 할 수도 있음\n",
        "\n",
        "- 서버 실행환경이 dev인 경우\n",
        "    - 개발서버 Swagger 접속시 운영 서버의 Swagger가 아닌 개발서버 기준의 Swagger를 노출시키도록 설정\n",
        "    - 다음 설정은 디버그일때만 swagger 문서가 보이도록 해주는 설정\n",
        "        - urlpath도 이 안에 설정 가능하므로 debug일때만 작동시킬 api도 설정할 수 있음\n",
        "\n",
        "    ```\n",
        "    if settings.DEPLOY_SERVER_TYPE == 'dev':\n",
        "        urlpatterns += [\n",
        "            re_path(r'^v1/dev/swagger(?P<format>\\.json|\\.yaml)$', schema_view.without_ui(cache_timeout=0),\n",
        "                    name=\"schema-json\"),\n",
        "            re_path(r'^v1/dev/swagger/$', schema_view.with_ui('swagger', cache_timeout=0), name='schema-swagger-ui'),\n",
        "            re_path(r'^v1/dev/redoc/$', schema_view.with_ui('redoc', cache_timeout=0), name='schema-redoc'),\n",
        "        ]\n",
        "    ```\n",
        "\n",
        "\n"
      ],
      "metadata": {
        "id": "5WvGZ8p35i0g"
      }
    },
    {
      "cell_type": "markdown",
      "source": [
        "### 4.2 개발한 API에 대해 Swagger 연동 설정"
      ],
      "metadata": {
        "id": "27S48Do-8944"
      }
    },
    {
      "cell_type": "markdown",
      "source": [
        "- Swagger를 보기 위한 설정이 끝났다면 개발한 API를 스웨거가 인식하고 볼 수 있도록 추가함"
      ],
      "metadata": {
        "id": "erHPgOkr9NDT"
      }
    },
    {
      "cell_type": "markdown",
      "source": [
        "#### 4.2.1 API URL 설정"
      ],
      "metadata": {
        "id": "1WBenpgR9XFw"
      }
    },
    {
      "cell_type": "markdown",
      "source": [
        "- API를 호출하기위해 설정한 end-point를 urls.py 안에 지정\n",
        "- CBV(Class-Based-View)로 개발한 경우와 FBV(Funtion-Based_View) 방식으로 개발한 경우에 URL 설정 방법이 다름\n",
        "\n",
        "- CBV(Class-Based-View)의 경우\n",
        "\n",
        "    ```\n",
        "    urlpatterns = [\n",
        "        path('/users/<user_guid>', VwUserControlClass.as_view({\"get\": \"get_user_info\"})),\n",
        "        path('/users/<user_guid>/modify', VwUserControlClass.as_view({\"put\": \"update_user_info\"})),\n",
        "    ]\n",
        "    ```\n",
        "\n",
        "- FBV(Funtion-Based_View)의 경우\n",
        "\n",
        "    ```\n",
        "    urlpatterns = [\n",
        "        path('/users/<user_guid>', get_user_info),\n",
        "        path('/user/<user_guid>/modify', update_user_info)\n",
        "    ]\n",
        "    ```"
      ],
      "metadata": {
        "id": "TzVZ7s8S9ljf"
      }
    },
    {
      "cell_type": "markdown",
      "source": [
        "#### 4.2.2 API에 @Swagger auto Schema추가"
      ],
      "metadata": {
        "id": "o6FiCKLtCcqu"
      }
    },
    {
      "cell_type": "markdown",
      "source": [
        "- @Swagger Auto Schema : 스웨거가 API에 대한 내용을 문서화 시켜주는 기능\n",
        "    - DRF를 사용하는경우에 Serializer를 통해 파라미터등을 지정하여 scheme를 추가하는 방법\n",
        "        - DRF에서 모델, 함수에 대하여 Serializer를 활용하고 있는 개발자에게 좋은 방법\n",
        "        - drf-yasg자체가 DRF를 기반으로 동작하기 때문에 공식적으로도 Serializer를 통해 자동 포맷 시키는걸 권장하고 있음\n",
        "    - 장점: 비즈니스로직만 분포한 곳에 깔끔하게 스웨거 오토 스키마의 작성이 가능함\n",
        "    - 단점: 어떠한 파라미터가 있는지는 시리얼라이저를 통해서 확인해야함\n",
        "\n",
        "- @swagger_auto_schema를 사용해서 개발자가 직접 해당 API에 대해 docs를 작성하는 방법\n",
        "    - 앞의 방법과 비슷하지만\n",
        "    - manual_parameter부분과 request_body, query_parameter 모두를 auto_schema 안에 작성\n",
        "    - 장점: 전체적인 모든 내용을 한번에 볼 수 있음\n",
        "    - 단점: 스웨거 오토 스키마로 인해 비즈니스 로직이 남긴 파일들이 과도하게 길어지고 헷갈릴 수 있음"
      ],
      "metadata": {
        "id": "HDBnaS3y-NsM"
      }
    },
    {
      "cell_type": "markdown",
      "source": [
        "#### 4.2.3 @swagger_auto_schema 작성(상세)"
      ],
      "metadata": {
        "id": "HXxnfKpaClaI"
      }
    },
    {
      "cell_type": "markdown",
      "source": [
        "- API 맨 위에 작성\n",
        "- 오토 스키마 사용을 위해서는항상 @swagger_auto_schema 데코레이터를 붙이고 시작\n",
        "\n",
        "```\n",
        "@swagger_auto_schema(\n",
        "    operation_description=\"회원관리_유저 정보 조회\",\n",
        "    operation_summary=\"회원관리_유저 정보 조회\",\n",
        "    operation_id='메인_회원관리_01',\n",
        "    tags=['메인_회원관리'],\n",
        "    manual_parameters=[Authorization],\n",
        "    query_serializer=ManagementUserSerializer,\n",
        "    responses={\n",
        "    ... 중략\n",
        "```\n",
        "- 항목별 설명\n",
        "    - operation_description\n",
        "        - API 설명 부분\n",
        "\n",
        "    - operation_summary\n",
        "        - API 간단한 타이틀 또는 통합하는 주제를 적는 부분\n",
        "\n",
        "    - operation_id\n",
        "        - API를 스웨거에서 구분하는 고윳값이라고 생각하면 됨\n",
        "        - 이 부분에서 operation_id가 겹칠 경우\n",
        "            - swagger 상에서 가장 먼저 나온 API만 출력하여 겹쳐 보이거나\n",
        "            - 서로 다른 API가 동일한 operation_id를 가지고 나타날 수 있음\n",
        "\n",
        "    - tags\n",
        "        - 하나의 그룹핑화를 할 수 있는 곳\n",
        "        - 예를들어\n",
        "            - 회원관리와 관련된 API들을 메인_회원관리로 묶었을 때\n",
        "            - swagger 상에서는 회원관리 탭이 생겨\n",
        "            - 그 탭을 눌러서 확장시키면 해당 태그들을 가진 API들을 모아서 볼 수 있음\n",
        "\n",
        "    - manual_parameters\n",
        "        - query_params , request_header (token 등 헤더에 포함되는 정보들) 등의 내용 작성\n",
        "        - @Swagger auto Schema추가 방법에 따라 작성 방식이 다름\n",
        "            - @Swagger Auto Schema 사용하는 경우\n",
        "                - 헤더는 이곳에 작성\n",
        "                - 시리얼라이저는 query_serializer에 지정\n",
        "            - @swagger_auto_schema를 사용해서 개발자가 직접 해당 API에 대해 docs를 작성하는 경우\n",
        "                - @swagger 시작 전에 query_params, request_header 등 사용할 파라미터와 헤더들을 선언\n",
        "                - manual_parameters 부분에 작성\n",
        "\n",
        "    - query_serializer / request_body\n",
        "        - query_params, request_body와 같은 내용들을 작성하는 곳이다.\n",
        "        - serializer를 사용하는 경우에는 작성한 serializer로 기입\n",
        "        - serializer를 사용하지 않는 경우에는\n",
        "            - query_serializer는 manual_parameters에 작성\n",
        "            - request_body는 response와 동일하게 작성\n",
        "\n",
        "    - response\n",
        "        - API의 응답값의 Mock-up 형태를 작성\n",
        "        - response_body나 request_body의 작성방법은 swagger 공식문서를 기반으로 작성할 것"
      ],
      "metadata": {
        "id": "KDj88dC6-NcR"
      }
    },
    {
      "cell_type": "markdown",
      "source": [
        "### 4.3 Swagger 접속 확인\n"
      ],
      "metadata": {
        "id": "KRoLTCYc8-td"
      }
    },
    {
      "cell_type": "markdown",
      "source": [
        "- 설정이 모두 완료되었다면 http://127.0.0.1:8000에 접속하여 확인 할 수 있음\n",
        "- 로컬 주소의 경우에는 각자 사용하는 포트 번호가 다를 수 있으므로 확인 후 접속\n",
        "<br><img src=\"https://github.com/aidalabs/Lectures/blob/main/LectureFiles/images/WEB017_Django_Swagger_02.png?raw=true\"><br>"
      ],
      "metadata": {
        "id": "KUMe-jS78-oW"
      }
    },
    {
      "cell_type": "markdown",
      "source": [
        "### 4.4 참고"
      ],
      "metadata": {
        "id": "GeOPHtR0DAp2"
      }
    },
    {
      "cell_type": "markdown",
      "source": [
        "- Swagger 사용 예제를 보면 언제나 CBV만 사용하고 있는데 FBV는 사용할 수 없는가?"
      ],
      "metadata": {
        "id": "7I9uY-6x-l_K"
      }
    },
    {
      "cell_type": "markdown",
      "source": [
        "- Swagger는 Django와 DRF에서 CBV(Class-Based Views)와 FBV(Function-Based Views) 모두 지원함\n",
        "    - 따라서, 어떤 방식을 사용하든 API 문서를 생성할 수 있음\n",
        "    - 프로젝트의 필요와 코드 구조에 맞게 선택할 것\n",
        "\n",
        "- CBV에서의 Swagger 사용 예시\n",
        "\n",
        "        ```\n",
        "        from rest_framework import viewsets\n",
        "        from drf_yasg.utils import swagger_auto_schema\n",
        "        from drf_yasg import openapi\n",
        "\n",
        "        class ItemViewSet(viewsets.ModelViewSet):\n",
        "            @swagger_auto_schema(\n",
        "                operation_summary='Get a list of items',\n",
        "                operation_description='Returns a list of items',\n",
        "                responses={200: 'Success', 400: 'Bad Request'}\n",
        "            )\n",
        "            def list(self, request, *args, **kwargs):\n",
        "                return super().list(request, *args, **kwargs)\n",
        "        ```\n",
        "\n",
        "\n",
        "- FBV에서의 Swagger 사용 예시\n",
        "\n",
        "        ```\n",
        "        from rest_framework.decorators import api_view\n",
        "        from drf_yasg.utils import swagger_auto_schema\n",
        "        from drf_yasg import openapi\n",
        "\n",
        "        @swagger_auto_schema(\n",
        "            method='get',\n",
        "            operation_summary='Get a list of items',\n",
        "            operation_description='Returns a list of items',\n",
        "            responses={200: 'Success', 400: 'Bad Request'}\n",
        "        )\n",
        "        @api_view(['GET'])\n",
        "        def list_items(request):\n",
        "            # Your logic here\n",
        "            return Response(data)\n",
        "        ```\n",
        "\n",
        "CBV와 FBV 모두 Swagger와 함께 사용할 수 있으니, 프로젝트의 필요와 코드 구조에 맞게 선택할 수 있음"
      ],
      "metadata": {
        "id": "vJtX86wz-hxp"
      }
    },
    {
      "cell_type": "code",
      "source": [],
      "metadata": {
        "id": "_NC1e5RtDFF5"
      },
      "execution_count": null,
      "outputs": []
    }
  ]
}