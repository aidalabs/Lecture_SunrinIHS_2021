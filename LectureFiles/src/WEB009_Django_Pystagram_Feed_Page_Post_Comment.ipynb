{
  "nbformat": 4,
  "nbformat_minor": 0,
  "metadata": {
    "colab": {
      "provenance": []
    },
    "kernelspec": {
      "name": "python3",
      "display_name": "Python 3"
    },
    "language_info": {
      "name": "python"
    }
  },
  "cells": [
    {
      "cell_type": "markdown",
      "source": [
        "# **Pystagram Project (2)**"
      ],
      "metadata": {
        "id": "zrx2SjLIwy9g"
      }
    },
    {
      "cell_type": "markdown",
      "source": [
        "## **1. 피드 페이지**"
      ],
      "metadata": {
        "id": "rrLcAb-KxmMp"
      }
    },
    {
      "cell_type": "markdown",
      "source": [
        "### 1.1 글/이미지/댓글 모델링"
      ],
      "metadata": {
        "id": "o8Xv_GrAxufR"
      }
    },
    {
      "cell_type": "markdown",
      "source": [
        "#### 1.1.1 Model 구성"
      ],
      "metadata": {
        "id": "r1-0i4hluBNy"
      }
    },
    {
      "cell_type": "markdown",
      "source": [
        "- posts/models.py"
      ],
      "metadata": {
        "id": "SovR_IhuyEhZ"
      }
    },
    {
      "cell_type": "code",
      "execution_count": null,
      "metadata": {
        "id": "H2NJqLpwv36V"
      },
      "outputs": [],
      "source": [
        "from django.db import models\n",
        "\n",
        "\n",
        "class Post(models.Model):\n",
        "    user = models.ForeignKey(\"users.User\", verbose_name=\"작성자\", on_delete=models.CASCADE)\n",
        "    content = models.TextField(\"내용\")\n",
        "    created = models.DateTimeField(\"생성일시\", auto_now_add=True)\n",
        "\n",
        "\n",
        "class PostImage(models.Model):\n",
        "    post = models.ForeignKey(Post, verbose_name=\"포스트\", on_delete=models.CASCADE)\n",
        "    photo = models.ImageField(\"사진\", upload_to=\"post\")\n",
        "\n",
        "\n",
        "class Comment(models.Model):\n",
        "    user = models.ForeignKey(\"users.User\", verbose_name=\"작성자\", on_delete=models.CASCADE)\n",
        "    post = models.ForeignKey(Post, verbose_name=\"포스트\", on_delete=models.CASCADE)\n",
        "    content = models.TextField(\"내용\")\n",
        "    created = models.DateTimeField(\"생성일시\", auto_now_add=True)"
      ]
    },
    {
      "cell_type": "markdown",
      "source": [
        "- Terminal"
      ],
      "metadata": {
        "id": "ye-PlN8ntaU7"
      }
    },
    {
      "cell_type": "code",
      "source": [
        "python manage.py makemigrations\n",
        "python manage.py migrate"
      ],
      "metadata": {
        "id": "tAL4xbDBtbgJ"
      },
      "execution_count": null,
      "outputs": []
    },
    {
      "cell_type": "markdown",
      "source": [
        "#### 1.1.2 admin 구현"
      ],
      "metadata": {
        "id": "SqWi_bnotmkU"
      }
    },
    {
      "cell_type": "markdown",
      "source": [
        "- posts/admin.py"
      ],
      "metadata": {
        "id": "4nnbQXG1uO9G"
      }
    },
    {
      "cell_type": "code",
      "source": [
        "from django.contrib import admin\n",
        "from posts.models import Post, PostImage, Comment\n",
        "\n",
        "\n",
        "@admin.register(Post)\n",
        "class PostAdmin(admin.ModelAdmin):\n",
        "    list_display = [\n",
        "        \"id\",\n",
        "        \"content\",\n",
        "    ]\n",
        "\n",
        "\n",
        "@admin.register(PostImage)\n",
        "class PostImageAdmin(admin.ModelAdmin):\n",
        "    list_display = [\n",
        "        \"id\",\n",
        "        \"post\",\n",
        "        \"photo\",\n",
        "    ]\n",
        "\n",
        "\n",
        "@admin.register(Comment)\n",
        "class CommentAdmin(admin.ModelAdmin):\n",
        "    list_display = [\n",
        "        \"id\",\n",
        "        \"post\",\n",
        "        \"content\",\n",
        "    ]"
      ],
      "metadata": {
        "id": "6JbWu_FZuJ1t"
      },
      "execution_count": null,
      "outputs": []
    },
    {
      "cell_type": "markdown",
      "source": [
        "### 1.2 admin에 연관 객체 표시"
      ],
      "metadata": {
        "id": "uGyLoCqCu7r6"
      }
    },
    {
      "cell_type": "markdown",
      "source": [
        "#### 1.2.1 ForeignKey로 연결된 객체 확인"
      ],
      "metadata": {
        "id": "ayFf-U6EvBHZ"
      }
    },
    {
      "cell_type": "markdown",
      "source": [
        "- posts/admin.py"
      ],
      "metadata": {
        "id": "_G2RnXgNvNaU"
      }
    },
    {
      "cell_type": "code",
      "source": [
        "class CommentInline(admin.TabularInline):\n",
        "    model = Comment\n",
        "    extra = 1\n",
        "\n",
        "@admin.register(Post)\n",
        "class PostAdmin(admin.ModelAdmin):\n",
        "    ...\n",
        "    inlines = [\n",
        "        CommentInline,\n",
        "    ]"
      ],
      "metadata": {
        "id": "X9F0GmnyvAge"
      },
      "execution_count": null,
      "outputs": []
    },
    {
      "cell_type": "markdown",
      "source": [
        "- posts/admin.py"
      ],
      "metadata": {
        "id": "AtuEfR9Avx0k"
      }
    },
    {
      "cell_type": "code",
      "source": [
        "class CommentInline(admin.TabularInline):\n",
        "    ...\n",
        "\n",
        "class PostImageInline(admin.TabularInline):\n",
        "    model = PostImage\n",
        "    extra = 1\n",
        "\n",
        "@admin.register(Post)\n",
        "class PostAdmin(admin.ModelAdmin):\n",
        "    ...\n",
        "    inlines = [\n",
        "        CommentInline,\n",
        "        PostImageInline,\n",
        "    ]"
      ],
      "metadata": {
        "id": "QMzVxqbmv04g"
      },
      "execution_count": null,
      "outputs": []
    },
    {
      "cell_type": "markdown",
      "source": [
        "#### 1.2.2 썸네일 이미지 표시"
      ],
      "metadata": {
        "id": "Pxw2XqbxwLwb"
      }
    },
    {
      "cell_type": "markdown",
      "source": [
        "- posts/admin.py\n",
        "    - 직접 admin을 조작해서 썸네일 표시 코드 추가"
      ],
      "metadata": {
        "id": "TJIFdk2LwPLc"
      }
    },
    {
      "cell_type": "code",
      "source": [
        "from django.contrib.admin.widgets import AdminFileWidget\n",
        "from django.db import models\n",
        "from django.utils.safestring import mark_safe\n",
        "...\n",
        "\n",
        "class CommentInline(admin.TabularInline):\n",
        "    ...\n",
        "\n",
        "# AdminFileWidget은 관리자 페이지에서 '파일 선택' 버튼을 보여주는 부분\n",
        "# 이 widget을 커스텀하여 <img> 태그를 추가함\n",
        "class InlineImageWidget(AdminFileWidget):\n",
        "    def render(self, name, value, attrs=None, renderer=None):\n",
        "        html = super().render(name, value, attrs, renderer)\n",
        "        if value and getattr(value, \"url\", None):\n",
        "            html = mark_safe(f'<img src=\"{value.url}\" width=\"150\" height=\"150\">') + html\n",
        "        return html\n",
        "\n",
        "# ImageField를 표시할 때, AdminFileWidget을 커스텀한 InlineImageWidget을 사용함\n",
        "class PostImageInline(admin.TabularInline):\n",
        "    model = PostImage\n",
        "    extra = 1\n",
        "    formfield_overrides = {\n",
        "        models.ImageField: {\n",
        "            \"widget\": InlineImageWidget,\n",
        "        }\n",
        "    }"
      ],
      "metadata": {
        "id": "UwfnLsy9wOcn"
      },
      "execution_count": null,
      "outputs": []
    },
    {
      "cell_type": "markdown",
      "source": [
        "- Terminal\n",
        "    - 오픈소스 라이브러리를 사용한 썸네일 표시"
      ],
      "metadata": {
        "id": "R5IjXp8vwpMB"
      }
    },
    {
      "cell_type": "code",
      "source": [
        "pip install django-admin-thumbnails"
      ],
      "metadata": {
        "id": "o3UgcnANx97t"
      },
      "execution_count": null,
      "outputs": []
    },
    {
      "cell_type": "markdown",
      "source": [
        "- posts/admin.py"
      ],
      "metadata": {
        "id": "2lTjbkZwyLPR"
      }
    },
    {
      "cell_type": "code",
      "source": [
        "# 위에서 추가한 코드들은 모두 삭제하고 썸네일 라이브러리를 사용함\n",
        "import admin_thumbnails\n",
        "\n",
        "@admin_thumbnails.thumbnail(\"photo\")\n",
        "class PostImageInline(admin.TabularInline):\n",
        "    model = PostImage\n",
        "    extra = 1"
      ],
      "metadata": {
        "id": "KD_QpdoYyNzk"
      },
      "execution_count": null,
      "outputs": []
    },
    {
      "cell_type": "markdown",
      "source": [
        "### 1.3 피드 페이지"
      ],
      "metadata": {
        "id": "P_KSdDvxyzVz"
      }
    },
    {
      "cell_type": "markdown",
      "source": [
        "#### 1.3.1 View 작성"
      ],
      "metadata": {
        "id": "-X8ijRw8y52I"
      }
    },
    {
      "cell_type": "markdown",
      "source": [
        "- posts/views.py"
      ],
      "metadata": {
        "id": "vj1N-vUNy9pM"
      }
    },
    {
      "cell_type": "code",
      "source": [
        "from posts.models import Post\n",
        "\n",
        "def feeds(request):\n",
        "    user = request.user\n",
        "    if not user.is_authenticated:\n",
        "        return redirect(\"/users/login/\")\n",
        "\n",
        "    posts = Post.objects.all()\n",
        "    context = { \"posts\": posts }\n",
        "    return render(request, \"posts/feeds.html\", context)"
      ],
      "metadata": {
        "id": "ODV7OGtHy4S5"
      },
      "execution_count": null,
      "outputs": []
    },
    {
      "cell_type": "markdown",
      "source": [
        "#### 1.3.2 작성자 정보 표시"
      ],
      "metadata": {
        "id": "Aa97Gyemze-B"
      }
    },
    {
      "cell_type": "markdown",
      "source": [
        "- templates/posts/feeds.html"
      ],
      "metadata": {
        "id": "9sQ0jxs5zjWu"
      }
    },
    {
      "cell_type": "code",
      "source": [
        "{% extends 'base_slider.html' %}\n",
        "{% block content %}\n",
        "    <nav>\n",
        "        <h1>Pystagram</h1>\n",
        "    </nav>\n",
        "    <div id=\"feeds\" class=\"post-container\">\n",
        "        {% for post in posts %}\n",
        "            <article class=\"post\">\n",
        "                <header class=\"post-header\">\n",
        "                    {% if post.user.profile_image %}\n",
        "                        <img src=\"{{ post.user.profile_image.url }}\">\n",
        "                    {% endif %}\n",
        "                    <span>{{ post.user.username }}</span>\n",
        "                </header>\n",
        "            </article>\n",
        "        {% endfor %}\n",
        "    </div>\n",
        "{% endblock %}"
      ],
      "metadata": {
        "id": "h6o_UOUkzikB"
      },
      "execution_count": null,
      "outputs": []
    },
    {
      "cell_type": "markdown",
      "source": [
        "#### 1.3.3 이미지 슬라이더 구현"
      ],
      "metadata": {
        "id": "LauzpAld0rR5"
      }
    },
    {
      "cell_type": "markdown",
      "source": [
        "- templates/base.html\n",
        "    - 이미지 슬라이드 자바스크립트, CSS 파일 불러오기"
      ],
      "metadata": {
        "id": "xO5AWvD81NiQ"
      }
    },
    {
      "cell_type": "code",
      "source": [
        "{% load static %}\n",
        "<!doctype html>\n",
        "<html lang=\"ko\">\n",
        "<head>\n",
        "    <link rel=\"stylesheet\" href=\"{% static 'css/style.css' %}\">\n",
        "    <link rel=\"stylesheet\" href=\"{% static 'splide/splide.css' %}\">\n",
        "    <script src=\"{% static 'splide/splide.js' %}\"></script>\n",
        "</head>\n",
        "<body>\n",
        "..."
      ],
      "metadata": {
        "id": "-nA3DcLH0ujF"
      },
      "execution_count": null,
      "outputs": []
    },
    {
      "cell_type": "markdown",
      "source": [
        "- templates/posts/feeds.html\n",
        "    - Splide 라이브러리 사용"
      ],
      "metadata": {
        "id": "MjOcsbp-2Kgd"
      }
    },
    {
      "cell_type": "code",
      "source": [
        "{% extends 'base.html' %}\n",
        "{% block content %}\n",
        "...\n",
        "    <div id=\"feeds\" class=\"post-container\">\n",
        "        {% for post in posts %}\n",
        "            <article class=\"post\">\n",
        "                <header class=\"post-header\">\n",
        "                    ...\n",
        "                </header>\n",
        "\n",
        "                <!-- 이미지 슬라이드 영역 시작 -->\n",
        "                <div class=\"post-images splide\">\n",
        "                    <div class=\"splide__track\">\n",
        "                        <ul class=\"splide__list\">\n",
        "                            {% for image in post.postimage_set.all %}\n",
        "                                {% if image.photo %}\n",
        "                                    <li class=\"splide__slide\">\n",
        "                                        <img src=\"{{ image.photo.url }}\">\n",
        "                                    </li>\n",
        "                                {% endif %}\n",
        "                            {% endfor %}\n",
        "                        </ul>\n",
        "                    </div>\n",
        "                </div>\n",
        "                <!-- 이미지 슬라이드 영역 종료 -->\n",
        "            </article>\n",
        "        {% endfor %}\n",
        "    </div>\n",
        "{% endblock %}"
      ],
      "metadata": {
        "id": "JK_pH6cR2Ql8"
      },
      "execution_count": null,
      "outputs": []
    },
    {
      "cell_type": "markdown",
      "source": [
        "- templates/posts/feeds.html\n",
        "    - 템플릿 하단에 자바스크립트 코드 작성"
      ],
      "metadata": {
        "id": "9F68UG6z4Za9"
      }
    },
    {
      "cell_type": "code",
      "source": [
        "{% block content %}\n",
        "    <div id=\"feeds\" class=\"post-container\">\n",
        "        ...\n",
        "    </div>\n",
        "    <!-- content 블록의 최하단에 작성함 -->\n",
        "    <script>\n",
        "        const elms = document.getElementsByClassName('splide')\n",
        "        for (let i = 0; i < elms.length; i++){\n",
        "            new Splide(elms[i]).mount();\n",
        "        }\n",
        "    </script>\n",
        "{% endblock %}"
      ],
      "metadata": {
        "id": "mh26_yFO4eFF"
      },
      "execution_count": null,
      "outputs": []
    },
    {
      "cell_type": "markdown",
      "source": [
        "#### 1.3.4 글 속성 출력"
      ],
      "metadata": {
        "id": "ws41e7b95jdV"
      }
    },
    {
      "cell_type": "markdown",
      "source": [
        "- templates/posts/feeds.html\n",
        "    - 글 내용 출력"
      ],
      "metadata": {
        "id": "BdssrAUd5y_q"
      }
    },
    {
      "cell_type": "code",
      "source": [
        "<article class=\"post\">\n",
        "    <header class=\"post-header\">...</header>\n",
        "    <div class=\"post-images\">...</div>\n",
        "    <div class=\"post-content\">\n",
        "        {{ post.content|linebreaksbr }}\n",
        "    </div>"
      ],
      "metadata": {
        "id": "-8uyvA0j5mzy"
      },
      "execution_count": null,
      "outputs": []
    },
    {
      "cell_type": "markdown",
      "source": [
        "- templates/posts/feeds.html\n",
        "    - 좋아요/댓글 버튼 표시"
      ],
      "metadata": {
        "id": "EE2GdI3N5zHa"
      }
    },
    {
      "cell_type": "code",
      "source": [
        "<div class=\"post-content\">...</div>\n",
        "<div class=\"post-buttons\">\n",
        "    <button>Likes(0)</button>\n",
        "    <span>Comments(0)</span>\n",
        "</div>"
      ],
      "metadata": {
        "id": "_erhEzbd55_6"
      },
      "execution_count": null,
      "outputs": []
    },
    {
      "cell_type": "markdown",
      "source": [
        "- templates/posts/feeds.html\n",
        "    - 댓글 목록 표시"
      ],
      "metadata": {
        "id": "LhAdVarQ99PX"
      }
    },
    {
      "cell_type": "code",
      "source": [
        "<div class=\"post-buttons\">...</div>\n",
        "<div class=\"post-comments\">\n",
        "    <ul>\n",
        "        <1-- 각 Post에 연결된 PostComment들을 순회 -->\n",
        "        {% for comment in post.comment_set.all %}\n",
        "            <li>\n",
        "                <span>{{ comment.user.username }}</span>\n",
        "                <span>{{ comment.content }}</span>\n",
        "            </li>\n",
        "        {% endfor %}\n",
        "    </ul>\n",
        "    <button>Likes(0)</button>\n",
        "    <span>Comments(0)</span>\n",
        "</div>"
      ],
      "metadata": {
        "id": "b1msDwWY-BbW"
      },
      "execution_count": null,
      "outputs": []
    },
    {
      "cell_type": "markdown",
      "source": [
        "- templates/posts/feeds.html\n",
        "    - 작성일자, 댓글 입력창 표시"
      ],
      "metadata": {
        "id": "mMFXXgorFcha"
      }
    },
    {
      "cell_type": "code",
      "source": [
        "<div class=\"post-comments\">...</div>\n",
        "<small>{{ post.created }}</small>\n",
        "<div class=\"post-comments-create\">\n",
        "    <input type=\"text\" placeholder=\"댓글 달기...\">\n",
        "    <button type=\"submit\">게시</button>\n",
        "</div>"
      ],
      "metadata": {
        "id": "sh6021PFFgon"
      },
      "execution_count": null,
      "outputs": []
    },
    {
      "cell_type": "markdown",
      "source": [
        "#### 1.3.5 Template에 링크 추가"
      ],
      "metadata": {
        "id": "adfmeZVOGJiW"
      }
    },
    {
      "cell_type": "markdown",
      "source": [
        "- templates/posts/feeds.html\n",
        "    - 메인 링크 추가"
      ],
      "metadata": {
        "id": "7wSjJcf0GDrQ"
      }
    },
    {
      "cell_type": "code",
      "source": [
        "<nav>\n",
        "    <h1>\n",
        "        <a href=\"/posts/feeds/\">Pystagram</a>\n",
        "    </h1>\n",
        "</nav>"
      ],
      "metadata": {
        "id": "3-DEiuz9GPJO"
      },
      "execution_count": null,
      "outputs": []
    },
    {
      "cell_type": "markdown",
      "source": [
        "- templates/posts/feeds.html\n",
        "    - 로그아웃 버튼 추가"
      ],
      "metadata": {
        "id": "YeLzrx1NGeDO"
      }
    },
    {
      "cell_type": "code",
      "source": [
        "<nav>\n",
        "    <h1>\n",
        "        <a href=\"/posts/feeds/\">Pystagram</a>\n",
        "    </h1>\n",
        "    <a href=\"/users/logout/\">Logout</a>\n",
        "</nav>"
      ],
      "metadata": {
        "id": "YFvvdgghGgzV"
      },
      "execution_count": null,
      "outputs": []
    },
    {
      "cell_type": "markdown",
      "source": [
        "## **2. 글과 댓글**"
      ],
      "metadata": {
        "id": "Jt6keaC2GxA5"
      }
    },
    {
      "cell_type": "markdown",
      "source": [
        "### 2.1 댓글 작성"
      ],
      "metadata": {
        "id": "j5YA9SA8G_51"
      }
    },
    {
      "cell_type": "markdown",
      "source": [
        "#### 2.1.1 CommentForm 구현"
      ],
      "metadata": {
        "id": "vDopCwUjHDEj"
      }
    },
    {
      "cell_type": "markdown",
      "source": [
        "- posts/forms.py\n",
        "    - ModelForm"
      ],
      "metadata": {
        "id": "7POGMpHFHH8h"
      }
    },
    {
      "cell_type": "code",
      "source": [
        "from django import forms\n",
        "from posts.models import Comment\n",
        "\n",
        "class CommentForm(forms.ModelForm):\n",
        "    class Meta:\n",
        "        model = Comment\n",
        "        fields = [\n",
        "            \"content\",\n",
        "        ]"
      ],
      "metadata": {
        "id": "WHNKbd0WG1dh"
      },
      "execution_count": null,
      "outputs": []
    },
    {
      "cell_type": "markdown",
      "source": [
        "- Terminal\n",
        "    - 오류 발생\n",
        "        - posts_comment 테이블의 post_id 필드는 NULL을 허용하지 않는다는 메시지"
      ],
      "metadata": {
        "id": "yF1gNxjKHmGr"
      }
    },
    {
      "cell_type": "code",
      "source": [
        "python manage.py shell\n",
        "\n",
        "from post.forms import CommentForm\n",
        "\n",
        "data = {\"content\": \"SampleContent\"}\n",
        "form = CommentForm(data=data)\n",
        "form.is_valid()\n",
        "form.save()"
      ],
      "metadata": {
        "id": "_S_sHzNvHoNC"
      },
      "execution_count": null,
      "outputs": []
    },
    {
      "cell_type": "markdown",
      "source": [
        "- Terminal\n",
        "    - 오류 해결 방법\n",
        "        - CommentForm으로 Comment 객체를 일단 만들되, 메모리 상에 객체를 만들고 필요한 데이터를 나중에 채우기\n",
        "        - CommentForm에 NULL을 허용하지 않는 모든 필드를 선언하고 인스턴스 생성 시 유효한 데이터를 전달\n",
        "    - 첫 번째 방법으로 해결해보기"
      ],
      "metadata": {
        "id": "PHNtGn4WIIR1"
      }
    },
    {
      "cell_type": "code",
      "source": [
        "python manage.py shell\n",
        "\n",
        "from post.forms import CommentForm\n",
        "\n",
        "data = {\"content\": \"SampleContent\"}\n",
        "form = CommentForm(data=data)\n",
        "form.is_valid()\n",
        "comment = form.save(commit=False)\n",
        "print(comment.id)\n",
        "\n",
        "from users.models import User\n",
        "from posts.models import Post\n",
        "\n",
        "user = User.objects.all()[0]\n",
        "post = Post.objects.all()[0]\n",
        "print(user)\n",
        "print(post)\n",
        "\n",
        "comment.user = user\n",
        "comment.post = post\n",
        "comment.save()\n",
        "\n",
        "comment.id"
      ],
      "metadata": {
        "id": "EQqckCSoIwKc"
      },
      "execution_count": null,
      "outputs": []
    },
    {
      "cell_type": "markdown",
      "source": [
        "- posts/forms.py\n",
        "    - 두 번째 방법으로 해결해보기"
      ],
      "metadata": {
        "id": "nak7RpTFJV3q"
      }
    },
    {
      "cell_type": "code",
      "source": [
        "class CommentForm(forms.ModelForm):\n",
        "    class Meta:\n",
        "        model = Comment\n",
        "        fields = [\n",
        "            \"user\",\n",
        "            \"post\",\n",
        "            \"content\",\n",
        "        ]"
      ],
      "metadata": {
        "id": "nhK2fNkFJcNi"
      },
      "execution_count": null,
      "outputs": []
    },
    {
      "cell_type": "markdown",
      "source": [
        "- Terminal\n",
        "    - 두 번째 방법으로 해결해보기"
      ],
      "metadata": {
        "id": "kOhAMGnDJkoK"
      }
    },
    {
      "cell_type": "code",
      "source": [
        "python manage.py shell\n",
        "\n",
        "from post.forms import CommentForm\n",
        "\n",
        "data = {\"content\": \"SampleContent\"}\n",
        "form = CommentForm(data=data)\n",
        "form.is_valid()\n",
        "form.errors\n",
        "\n",
        "from users.models import User\n",
        "from posts.models import Post\n",
        "\n",
        "user = User.objects.all()[0]\n",
        "post = Post.objects.all()[0]\n",
        "data = {\"content\": \"SampleContent\", \"user\": user, \"post\": post}\n",
        "form = CommentForm(data=data)\n",
        "form.is_valid()\n",
        "\n",
        "comment = form.save()\n",
        "comment.id"
      ],
      "metadata": {
        "id": "TTC3oGdFJwI1"
      },
      "execution_count": null,
      "outputs": []
    },
    {
      "cell_type": "markdown",
      "source": [
        "- Comment를 생성하기 위해 필요한 데이터\n",
        "    - 어떤 글(Post)의 댓글인지\n",
        "    - 어떤 사용자(User)의 댓글인지\n",
        "    - 어떤 내용(Comment)을 가지고 있는지"
      ],
      "metadata": {
        "id": "tZNZANGyKZQ2"
      }
    },
    {
      "cell_type": "markdown",
      "source": [
        "#### 2.1.2 View에서 Template으로 Form 전달"
      ],
      "metadata": {
        "id": "4Y-IlIc0Kqbw"
      }
    },
    {
      "cell_type": "markdown",
      "source": [
        "- posts/views.py"
      ],
      "metadata": {
        "id": "2LfDxTonKyu6"
      }
    },
    {
      "cell_type": "code",
      "source": [
        "from posts.forms import CommentForm\n",
        "\n",
        "def feeds(request):\n",
        "    ...\n",
        "\n",
        "    posts = Post.objects.all()\n",
        "    comment_form = CommentForm()\n",
        "    context = {\n",
        "        \"posts\": posts,\n",
        "        \"comment_form\": comment_form,\n",
        "    }\n",
        "    return render(request, \"posts/feeds.html\", context)"
      ],
      "metadata": {
        "id": "UoXlCAClKx8C"
      },
      "execution_count": null,
      "outputs": []
    },
    {
      "cell_type": "markdown",
      "source": [
        "- templates/posts/feeds.html\n",
        "    - 직접 작성했던 input 요소를 삭제하고 comment_form.as_p 변수 사용"
      ],
      "metadata": {
        "id": "8-Yh4WKOLB45"
      }
    },
    {
      "cell_type": "code",
      "source": [
        "<div class=\"post-comments-create\">\n",
        "    <form method=\"POST\">\n",
        "        {% csrf_token %}\n",
        "        {{ comment_form.as_p }}\n",
        "        <button type=\"submit\">게시</button>\n",
        "    </form>\n",
        "</div>"
      ],
      "metadata": {
        "id": "EPc2DAgZLTCd"
      },
      "execution_count": null,
      "outputs": []
    },
    {
      "cell_type": "markdown",
      "source": [
        "- templates/posts/feeds.html\n",
        "    - CommentForm에는 post, content 필드가 있고 이 둘을 as_p로 렌더링한 경우\n",
        "        - 포스트의 드롭다운 요소를 클릭하면 Post 객체를 선택할 수 있음. 사용자가 어떤 글에 댓글을 다는지는 직접 입력할 필요 없이 템플릿에서 알아서 처리해 주어야 함\n",
        "        - 자동으로 < label>요소와 < input>요소가 만들어짐. 여기서는 \"내용:\"으로 나타나는 < label>요소가 필요하지 않음. content 값을 입력받을 < input> 요소만 있으면 됨"
      ],
      "metadata": {
        "id": "Vf_GM7jCL2pr"
      }
    },
    {
      "cell_type": "code",
      "source": [
        "<div class=\"post-comments-create\">\n",
        "    <form method=\"POST\">\n",
        "        {% csrf_token %}\n",
        "        {{ comment_form.content }}\n",
        "        <button type=\"submit\">게시</button>\n",
        "    </form>\n",
        "</div>"
      ],
      "metadata": {
        "id": "SKy_3eM7MfQg"
      },
      "execution_count": null,
      "outputs": []
    },
    {
      "cell_type": "markdown",
      "source": [
        "- posts/forms.py"
      ],
      "metadata": {
        "id": "i59oOLqyMsKu"
      }
    },
    {
      "cell_type": "code",
      "source": [
        "class CommentForm(forms.ModelForm):\n",
        "    class Meta:\n",
        "        model = Comment\n",
        "        fields = [ ... ]\n",
        "        widgets = {\n",
        "            \"content\": forms.Textarea(\n",
        "                attrs={\n",
        "                    \"placeholder\": \"댓글 달기...\",\n",
        "                }\n",
        "            )\n",
        "        }"
      ],
      "metadata": {
        "id": "0s55DDd_Muia"
      },
      "execution_count": null,
      "outputs": []
    },
    {
      "cell_type": "markdown",
      "source": [
        "#### 2.1.3 댓글 작성 처리를 위한 View 구현"
      ],
      "metadata": {
        "id": "dy8ELXHHNHEa"
      }
    },
    {
      "cell_type": "markdown",
      "source": [
        "- posts/views.py"
      ],
      "metadata": {
        "id": "w60bpHn6NMef"
      }
    },
    {
      "cell_type": "code",
      "source": [
        "from django.views.decorators.http import require_POST\n",
        "\n",
        "def feeds(request):\n",
        "    ...\n",
        "\n",
        "@require_POST\n",
        "def comment_add(request):\n",
        "    print(request.POST)"
      ],
      "metadata": {
        "id": "Neez6h42NK8z"
      },
      "execution_count": null,
      "outputs": []
    },
    {
      "cell_type": "markdown",
      "source": [
        "- posts/urls.py"
      ],
      "metadata": {
        "id": "ZC7AXhMLNsU5"
      }
    },
    {
      "cell_type": "code",
      "source": [
        "from django.urls import path\n",
        "from posts.views import feeds, comment_add\n",
        "...\n",
        "\n",
        "urlpatterns = [\n",
        "    path(\"feeds/\", feeds),\n",
        "    path(\"comment_add/\", comment_add),\n",
        "]"
      ],
      "metadata": {
        "id": "miFPaToKNuQj"
      },
      "execution_count": null,
      "outputs": []
    },
    {
      "cell_type": "markdown",
      "source": [
        "#### 2.1.4 form에서 comment_add View로 데이터 전달 및 처리"
      ],
      "metadata": {
        "id": "rzO7PV5jOCK2"
      }
    },
    {
      "cell_type": "markdown",
      "source": [
        "- templates/posts/feeds.html\n",
        "    - form의 action 속성\n",
        "        - method: GET과 POST 중 어떤 방식으로 데이터를 전달할지\n",
        "        - enctype: 기본값(application/x-www-form-urlencoded)과 파일 전송을 위한 값(multipart/form-data) 중 선택"
      ],
      "metadata": {
        "id": "seY5TYdYOM2x"
      }
    },
    {
      "cell_type": "code",
      "source": [
        "<div class=\"post-comments-create\">\n",
        "    <form method=\"POST\" action=\"/posts/comment_add/\">\n",
        "        {% csrf_token %}\n",
        "        {{ comment_form.content }}\n",
        "        <button type=\"submit\">게시</button>\n",
        "    </form>\n",
        "</div>"
      ],
      "metadata": {
        "id": "6aCrhdmiOI37"
      },
      "execution_count": null,
      "outputs": []
    },
    {
      "cell_type": "markdown",
      "source": [
        "- templates/posts/feeds.html\n",
        "    - 사용자가 직접 입력하지 않는 고정된 데이터를 form 내부에 위치"
      ],
      "metadata": {
        "id": "J5BWfa_dO97i"
      }
    },
    {
      "cell_type": "code",
      "source": [
        "<div class=\"post-comments-create\">\n",
        "    <form method=\"POST\" action=\"/posts/comment_add/\">\n",
        "        {% csrf_token %}\n",
        "        <input type=\"hidden\" name=\"post\" value=\"{{ post.id }}\">\n",
        "        {{ comment_form.content }}\n",
        "        <button type=\"submit\">게시</button>\n",
        "    </form>\n",
        "</div>"
      ],
      "metadata": {
        "id": "KvW6eD8rPEoF"
      },
      "execution_count": null,
      "outputs": []
    },
    {
      "cell_type": "markdown",
      "source": [
        "- posts/views.py\n",
        "    - 사용자 정보를 View에서 직접 할당"
      ],
      "metadata": {
        "id": "28vrGWYvPXvM"
      }
    },
    {
      "cell_type": "code",
      "source": [
        "@require_POST\n",
        "def comment_add(request):\n",
        "    form = CommentForm(data=request.POST)\n",
        "    if form.is_valid():\n",
        "        comment = form.save(commit=False)\n",
        "        comment.user = request.user\n",
        "        comment.save()\n",
        "\n",
        "        print(comment.id)\n",
        "        print(comment.content)\n",
        "        print(comment.user)\n",
        "\n",
        "        return redirect{\"/posts/feeds/\"}"
      ],
      "metadata": {
        "id": "6itslOd5Pdnh"
      },
      "execution_count": null,
      "outputs": []
    },
    {
      "cell_type": "markdown",
      "source": [
        "- templates/posts/feeds.html\n",
        "    - 작성 완료 후 원하는 Post 위치로 이동"
      ],
      "metadata": {
        "id": "ywKDMbabQCDw"
      }
    },
    {
      "cell_type": "code",
      "source": [
        "<div id=\"feeds\" class=\"post-container\">\n",
        "    {% for post in posts %}\n",
        "        <article id=\"post-{{ post.id }}\" class=\"post\">"
      ],
      "metadata": {
        "id": "BsW-z1dYQIe9"
      },
      "execution_count": null,
      "outputs": []
    },
    {
      "cell_type": "markdown",
      "source": [
        "- posts/views.py"
      ],
      "metadata": {
        "id": "0Y7tu1DtQeP8"
      }
    },
    {
      "cell_type": "code",
      "source": [
        "from django.http import HttpResponseRedirect\n",
        "\n",
        "@require_POST\n",
        "def comment_add(request):\n",
        "    form = CommentForm(data=request.POST)\n",
        "    if form.is_valid():\n",
        "        comment = form.save(commit=False)\n",
        "        ...\n",
        "\n",
        "        return HttpResponseRedirect{f\"/posts/feeds/#post-{comment.post.id}\"}"
      ],
      "metadata": {
        "id": "eriYwEz-QhD5"
      },
      "execution_count": null,
      "outputs": []
    },
    {
      "cell_type": "markdown",
      "source": [
        "#### 2.1.5 글의 댓글 수 표시"
      ],
      "metadata": {
        "id": "kN4t1m3cQ2hj"
      }
    },
    {
      "cell_type": "markdown",
      "source": [
        "- Terminal"
      ],
      "metadata": {
        "id": "18ohb5nnQ8HS"
      }
    },
    {
      "cell_type": "code",
      "source": [
        "python manage.py shell\n",
        "\n",
        "from posts.models import Post\n",
        "\n",
        "for post in Post.objects.all():\n",
        "    print(f\"id: {post.id}, comment_count: {post.comment_set.count()}\")"
      ],
      "metadata": {
        "id": "n4iqXtWrQ46n"
      },
      "execution_count": null,
      "outputs": []
    },
    {
      "cell_type": "markdown",
      "source": [
        "- templates/posts/feeds.html"
      ],
      "metadata": {
        "id": "02lFvoXPRUKC"
      }
    },
    {
      "cell_type": "code",
      "source": [
        "<div class=\"post-buttons\">\n",
        "    <button type=\"submit\">Likes(0)</button>\n",
        "    <span>Comments({{ post.comment_set.count }})</span>\n",
        "</div>"
      ],
      "metadata": {
        "id": "Cu8o0l8fRXeu"
      },
      "execution_count": null,
      "outputs": []
    },
    {
      "cell_type": "markdown",
      "source": [
        "#### 2.1.6 댓글 삭제"
      ],
      "metadata": {
        "id": "q_EII4GeRp7m"
      }
    },
    {
      "cell_type": "markdown",
      "source": [
        "- posts/views.py"
      ],
      "metadata": {
        "id": "lSuNGVWbRxYa"
      }
    },
    {
      "cell_type": "code",
      "source": [
        "from posts.models import Post, Comment\n",
        "\n",
        "@require_POST\n",
        "def comment_add(request):\n",
        "    ...\n",
        "\n",
        "@require_POST\n",
        "def comment_delete(request, comment_id):\n",
        "    if request.method == \"POST\":\n",
        "        comment = Comment.objects.get(id=comment_id)\n",
        "        comment.delete()\n",
        "        return HttpResponseRedirect(f\"/posts/feeds/#post-{comment.post.id}\")"
      ],
      "metadata": {
        "id": "F9heksuNRs2y"
      },
      "execution_count": null,
      "outputs": []
    },
    {
      "cell_type": "markdown",
      "source": [
        "- posts/urls.py"
      ],
      "metadata": {
        "id": "QO3hge8LSYWS"
      }
    },
    {
      "cell_type": "code",
      "source": [
        "from django.urls import path\n",
        "from posts.views import feeds, comment_add, comment_delete\n",
        "...\n",
        "\n",
        "urlpatterns = [\n",
        "    path(\"feeds/\", feeds),\n",
        "    path(\"comment_add/\", comment_add),\n",
        "    path(\"comment_delete/<int:comment_id>/\", comment_delete)\n",
        "]"
      ],
      "metadata": {
        "id": "Kk6YDL4RSeOv"
      },
      "execution_count": null,
      "outputs": []
    },
    {
      "cell_type": "markdown",
      "source": [
        "- posts/views.py\n",
        "    - 삭제할 Comment가 요청한 사용자가 작성한 것인지 확인"
      ],
      "metadata": {
        "id": "Vcqxq50XSxuJ"
      }
    },
    {
      "cell_type": "code",
      "source": [
        "from django.http import HttpResponseRedirect, HttpResponseForbidden\n",
        "\n",
        "@require_POST\n",
        "def comment_delete(request, comment_id):\n",
        "    comment = Comment.objects.get(id=comment_id)\n",
        "    if comment.user == request.user:\n",
        "        comment.delete()\n",
        "        return HttpResponseRedirect(f\"/posts/feeds/#post-{comment.post.id}\")\n",
        "    else:\n",
        "        return HttpResponseForbidden(\"이 댓글을 삭제할 권한이 없습니다.\")"
      ],
      "metadata": {
        "id": "6J61GMO0S38w"
      },
      "execution_count": null,
      "outputs": []
    },
    {
      "cell_type": "markdown",
      "source": [
        "- templates/posts/feeds.html\n",
        "    - 템플릿에 삭제 버튼 추가"
      ],
      "metadata": {
        "id": "2KAz3lwlThJR"
      }
    },
    {
      "cell_type": "code",
      "source": [
        "<div class=\"post-comments\">\n",
        "    <ul>\n",
        "        {% for comment in post.comment_set.all %}\n",
        "            <li>\n",
        "                <span>{{ comment.user.username }}</span>\n",
        "                <span>{{ comment.content }}</span>\n",
        "\n",
        "                <!-- 댓글 삭제 form 추가 -->\n",
        "                {% if user == comment.user %}\n",
        "                    <form method=\"POST\" action=\"/posts/comment_delete/{{ comment.id }}/\">\n",
        "                        {% csrf_token %}\n",
        "                        <button type=\"submit\">삭제</button>\n",
        "                    </form>\n",
        "                {% endif %}\n",
        "            </li>\n",
        "        {% endfor %}\n",
        "    </ul>\n",
        "</div>"
      ],
      "metadata": {
        "id": "Ygb5hb0cTmrC"
      },
      "execution_count": null,
      "outputs": []
    },
    {
      "cell_type": "markdown",
      "source": [
        "### 2.2 글 작성하기"
      ],
      "metadata": {
        "id": "TA83lQNPUmt4"
      }
    },
    {
      "cell_type": "markdown",
      "source": [
        "#### 2.2.1 글 작성 기본구조 구현"
      ],
      "metadata": {
        "id": "mwmIV_gTUryX"
      }
    },
    {
      "cell_type": "markdown",
      "source": [
        "- View: /posts/post_add/\n",
        "- URL: post_add\n",
        "- Template: templates/posts/post_add.html"
      ],
      "metadata": {
        "id": "4CM4iYsdUwCS"
      }
    },
    {
      "cell_type": "markdown",
      "source": [
        "- posts/views.py"
      ],
      "metadata": {
        "id": "43sXwSWwU7qJ"
      }
    },
    {
      "cell_type": "code",
      "source": [
        "...\n",
        "def post_add(request):\n",
        "    return render(request, \"posts/post_add.html\")"
      ],
      "metadata": {
        "id": "kUhwXj-NUqqQ"
      },
      "execution_count": null,
      "outputs": []
    },
    {
      "cell_type": "markdown",
      "source": [
        "- posts/urls.py"
      ],
      "metadata": {
        "id": "XdWhnywuVGhD"
      }
    },
    {
      "cell_type": "code",
      "source": [
        "...\n",
        "from posts.views import feeds, comment_add, comment_delete, post_add\n",
        "...\n",
        "\n",
        "urlpatterns = [\n",
        "    ...\n",
        "    path(\"post_add/\", post_add),\n",
        "]"
      ],
      "metadata": {
        "id": "w3lQ5HdbVI3W"
      },
      "execution_count": null,
      "outputs": []
    },
    {
      "cell_type": "markdown",
      "source": [
        "- templates/posts/post_add.html"
      ],
      "metadata": {
        "id": "U0zq7XuzVZ0O"
      }
    },
    {
      "cell_type": "code",
      "source": [
        "{% externds 'base.html' %}\n",
        "\n",
        "{% block content %}\n",
        "    <div id=\"post-add\">\n",
        "        <h1>Post Add</h1>\n",
        "    </div>\n",
        "{% endblock %}"
      ],
      "metadata": {
        "id": "SvcZQqJIVcsP"
      },
      "execution_count": null,
      "outputs": []
    },
    {
      "cell_type": "markdown",
      "source": [
        "#### 2.2.2 PostForm 클래스 구현"
      ],
      "metadata": {
        "id": "ZDy0A1_mV0qe"
      }
    },
    {
      "cell_type": "markdown",
      "source": [
        "- posts/forms.py"
      ],
      "metadata": {
        "id": "eGkK5UDJWUMF"
      }
    },
    {
      "cell_type": "code",
      "source": [
        "from posts.models import Comment, Post\n",
        "\n",
        "...\n",
        "\n",
        "class PostForm(forms.ModelForm):\n",
        "    class Meta:\n",
        "        model = Post\n",
        "        fields = [\n",
        "            \"content\",\n",
        "        ]"
      ],
      "metadata": {
        "id": "P5dkq9qWV_O2"
      },
      "execution_count": null,
      "outputs": []
    },
    {
      "cell_type": "markdown",
      "source": [
        "#### 2.2.3 View 로직, Template 구현"
      ],
      "metadata": {
        "id": "oKxfNK68V4Z-"
      }
    },
    {
      "cell_type": "markdown",
      "source": [
        "- posts/views.py"
      ],
      "metadata": {
        "id": "ioaIFzU9WYRm"
      }
    },
    {
      "cell_type": "code",
      "source": [
        "from posts.forms import CommentForm, PostForm\n",
        "...\n",
        "\n",
        "def post_add(request):\n",
        "    form = PostForm()\n",
        "    context = {\"form\": form}\n",
        "    return render(request, \"posts/post_add.html\", context)"
      ],
      "metadata": {
        "id": "C35K3vFAV3yw"
      },
      "execution_count": null,
      "outputs": []
    },
    {
      "cell_type": "markdown",
      "source": [
        "- templates/posts/post_add.html"
      ],
      "metadata": {
        "id": "WvO59YG1Way6"
      }
    },
    {
      "cell_type": "code",
      "source": [
        "{% externds 'base.html' %}\n",
        "\n",
        "{% block content %}\n",
        "    <nav>\n",
        "        <h1>Pystagram</h1>\n",
        "    </nav>\n",
        "    <div id=\"post-add\">\n",
        "        <h1>Post Add</h1>\n",
        "        <form method=\"POST\">\n",
        "            {% csrf_token %}\n",
        "            {{ form.as_p }}\n",
        "            <button type=\"submit\">게시</button>\n",
        "        </form>\n",
        "    </div>\n",
        "{% endblock %}"
      ],
      "metadata": {
        "id": "R0wsVNjAWemZ"
      },
      "execution_count": null,
      "outputs": []
    },
    {
      "cell_type": "markdown",
      "source": [
        "#### 2.2.4 여러 장의 이미지 업로드"
      ],
      "metadata": {
        "id": "vEBAxfZUV_nx"
      }
    },
    {
      "cell_type": "markdown",
      "source": [
        "- templates/posts/post_add.html\n",
        "    - Template에 직접 < input type=\"file\"> 구성"
      ],
      "metadata": {
        "id": "fkvAWyfsX2FB"
      }
    },
    {
      "cell_type": "code",
      "source": [
        "...\n",
        "<form method=\"POST\" enctype=\"multipart/form-data\">\n",
        "    {% csrf_token %}\n",
        "    <div>\n",
        "        <labl for=\"id_images\">이미지</label>\n",
        "        <input id=\"id_images\" name=\"images\" type=\"file\" multiple>\n",
        "    </div>\n",
        "    {{ form.as_p }}\n",
        "    <button type=\"submit\">게시</button>\n",
        "</form>\n",
        "..."
      ],
      "metadata": {
        "id": "Km4Y2L81WC2S"
      },
      "execution_count": null,
      "outputs": []
    },
    {
      "cell_type": "markdown",
      "source": [
        "- posts/views.py\n",
        "    - View에서 multiple 속성을 가진 file input의 데이터 받기"
      ],
      "metadata": {
        "id": "7edTdNFmYnIR"
      }
    },
    {
      "cell_type": "code",
      "source": [
        "from posts.models import Post, Comment, PostImage\n",
        "\n",
        "...\n",
        "\n",
        "def post_add(request):\n",
        "    if request.method == \"POST\":\n",
        "        # request.POST로 온 데이터 (\"content\")는 PostForm으로 처리\n",
        "        form = PostForm(request.POST)\n",
        "\n",
        "        if form.is_valid():\n",
        "            # Post의 \"user\"값은 request에서 가져와 자동할당한다\n",
        "            post = form.save(commit=False)\n",
        "            post.user = request.user\n",
        "            post.save()\n",
        "\n",
        "            # Post를 생성 한 후\n",
        "            # request.FILES.getlist(\"images\")로 전송된 이미지들을 순회하며 PostImage객체를 생성한다\n",
        "            for image_file in request.FILES.getlist(\"images\"):\n",
        "                # request.FILES또는 request.FILES.getlist()로 가져온 파일은\n",
        "                # Model의 ImageField부분에 곧바로 할당한다\n",
        "                PostImage.objects.create(\n",
        "                    post=post,\n",
        "                    photo=image_file,\n",
        "                )\n",
        "\n",
        "            # 모든 PostImage와 Post의 생성이 완료되면\n",
        "            # 피드페이지로 이동하여 생성된 Post의 위치로 스크롤되도록 한다\n",
        "            url = reverse(\"posts:feeds\") + f\"#post-{post.id}\"\n",
        "            return HttpResponseRedirect(url)\n",
        "\n",
        "    # GET요청일 때는 빈 form을 보여주도록한다\n",
        "    else:\n",
        "        form = PostForm()\n",
        "\n",
        "    context = {\"form\": form}\n",
        "    return render(request, \"posts/post_add.html\", context)"
      ],
      "metadata": {
        "id": "CbQoF-J4YuRm"
      },
      "execution_count": null,
      "outputs": []
    },
    {
      "cell_type": "markdown",
      "source": [
        "#### 2.2.5 내비게이션 바에 링크 추가"
      ],
      "metadata": {
        "id": "U1j_pxn8WEMb"
      }
    },
    {
      "cell_type": "markdown",
      "source": [
        "- templates/posts/feeds.html\n",
        "    - 피드 페이지에서 글 작성 페이지로의 작성 추가"
      ],
      "metadata": {
        "id": "qYy4TYMyZJzP"
      }
    },
    {
      "cell_type": "code",
      "source": [
        "<nav>\n",
        "    <h1>\n",
        "        <a href=\"/posts/feeds/\">Pystagram</a>\n",
        "    </h1>\n",
        "    <a href=\"/posts/post_add/\">Add post</a>\n",
        "    <a href=\"/users/logout/\">Logout</a>\n",
        "</nav>"
      ],
      "metadata": {
        "id": "9pk1pvaTWGwS"
      },
      "execution_count": null,
      "outputs": []
    },
    {
      "cell_type": "markdown",
      "source": [
        "- templates/posts/post_add.html\n",
        "    - 글 작성 페이지에서 피드 페이지로 돌아오는 링크 추가"
      ],
      "metadata": {
        "id": "JH1f8znGZRcd"
      }
    },
    {
      "cell_type": "code",
      "source": [
        "<nav>\n",
        "    <h1>\n",
        "        <a href=\"/posts/feeds/\">Pystagram</a>\n",
        "    </h1>\n",
        "    <a href=\"/users/logout/\">Logout</a>\n",
        "</nav>"
      ],
      "metadata": {
        "id": "YbGB4rm1ZcgP"
      },
      "execution_count": null,
      "outputs": []
    }
  ]
}