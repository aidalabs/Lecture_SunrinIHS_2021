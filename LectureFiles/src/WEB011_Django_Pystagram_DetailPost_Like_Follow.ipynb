{
  "nbformat": 4,
  "nbformat_minor": 0,
  "metadata": {
    "colab": {
      "provenance": []
    },
    "kernelspec": {
      "name": "python3",
      "display_name": "Python 3"
    },
    "language_info": {
      "name": "python"
    }
  },
  "cells": [
    {
      "cell_type": "markdown",
      "source": [
        "# **Pystagram Project (4)**"
      ],
      "metadata": {
        "id": "cx1AZQQzwxj4"
      }
    },
    {
      "cell_type": "markdown",
      "source": [
        "## **1. 글 상세 페이지**"
      ],
      "metadata": {
        "id": "-_KxCp5TrLkK"
      }
    },
    {
      "cell_type": "markdown",
      "source": [
        "- Post에 대한 상세 페이지 구현\n",
        "- Template의 중복된 내용을 제거하는 리팩토링 실행"
      ],
      "metadata": {
        "id": "R21FP8gnOrK0"
      }
    },
    {
      "cell_type": "markdown",
      "source": [
        "### 1.1 글 상세 페이지"
      ],
      "metadata": {
        "id": "Qwji_-XPsPGB"
      }
    },
    {
      "cell_type": "markdown",
      "source": [
        "#### 1.1.1 기본구조 구현"
      ],
      "metadata": {
        "id": "pm3yGa3zOavd"
      }
    },
    {
      "cell_type": "markdown",
      "source": [
        "- View: posts/views.py → post_detail\n",
        "- URL: /posts/<int:post_id>/\n",
        "- Template: templates/posts/post_detail.html"
      ],
      "metadata": {
        "id": "cGNaQSntXq5P"
      }
    },
    {
      "cell_type": "markdown",
      "source": [
        "- posts/views.py"
      ],
      "metadata": {
        "id": "MaMRxVb9YFyl"
      }
    },
    {
      "cell_type": "code",
      "source": [
        "def post_detail(request, post_id):\n",
        "    post = Post.objects.get(id=post_id)\n",
        "    context = { \"post\": post }\n",
        "    return render(request, \"posts/post_detail.html\", context)"
      ],
      "metadata": {
        "id": "G8TZUw6KsPkt"
      },
      "execution_count": null,
      "outputs": []
    },
    {
      "cell_type": "markdown",
      "source": [
        "- posts/urls.py"
      ],
      "metadata": {
        "id": "ysGLjy41Yadz"
      }
    },
    {
      "cell_type": "code",
      "source": [
        "from posts.views import ..., post_detail\n",
        "\n",
        "app_name = \"posts\"\n",
        "urlpatterns = [\n",
        "    ...\n",
        "    path(\"<int:post_id>/\", post_detail, name=\"post_detail\"),\n",
        "]"
      ],
      "metadata": {
        "id": "p57zuLBOYdCY"
      },
      "execution_count": null,
      "outputs": []
    },
    {
      "cell_type": "markdown",
      "source": [
        "- templates/posts/post_detail.html"
      ],
      "metadata": {
        "id": "cNvYvUS4YuAY"
      }
    },
    {
      "cell_type": "code",
      "source": [
        "{% extends 'base.html' %}\n",
        "\n",
        "{% block content %}\n",
        "<div id=\"post_detail\">\n",
        "    <h1>Post Detail</h1>\n",
        "</div>\n",
        "{% endblock %}"
      ],
      "metadata": {
        "id": "84xtScL1YyAX"
      },
      "execution_count": null,
      "outputs": []
    },
    {
      "cell_type": "markdown",
      "source": [
        "#### 1.1.2 Template 내용 구현"
      ],
      "metadata": {
        "id": "Ww9k0kBDOfla"
      }
    },
    {
      "cell_type": "markdown",
      "source": [
        "- templates/posts/feeds.html"
      ],
      "metadata": {
        "id": "-4IpjkOIZDU4"
      }
    },
    {
      "cell_type": "code",
      "source": [
        "{% extends 'base.html' %}\n",
        "{% block content %}\n",
        "<nav>...</nav>\n",
        "<div id=\"feeds\" class=\"post-container\">\n",
        "    {% for post in posts %}\n",
        "        <article id=\"post-{{ post.id }}\" class=\"post\">\n",
        "        ...\n",
        "        </article>\n",
        "    {% endfor %}\n",
        "</div>\n",
        "...\n",
        "{% endblock %}"
      ],
      "metadata": {
        "id": "a1r5zIJmOjZF"
      },
      "execution_count": null,
      "outputs": []
    },
    {
      "cell_type": "markdown",
      "source": [
        "- templates/posts/post_detail.html\n",
        "    - 피드페이지에서는 for 반복문 안의 < article> 요소가 각각 하나의 Post를 나타냄\n",
        "    - Post 상세화면에서는 Post Queryset 대신 단일 Post 객체가 전달되며 나머지 모습은 피드페이지와 동일함"
      ],
      "metadata": {
        "id": "F8mKSHoUZp3l"
      }
    },
    {
      "cell_type": "code",
      "source": [
        "{% extends 'base.html' %}\n",
        "\n",
        "{% block content %}\n",
        "<div id=\"feeds\" class=\"post-container\">\n",
        "    <article id=\"post-{{ post.id }}\" class=\"post\">\n",
        "    ...\n",
        "    </article>\n",
        "</div>\n",
        "{% endblock %}"
      ],
      "metadata": {
        "id": "UnFgSiY2Zumr"
      },
      "execution_count": null,
      "outputs": []
    },
    {
      "cell_type": "markdown",
      "source": [
        "#### 1.1.3 PostForm 전달"
      ],
      "metadata": {
        "id": "XIhmAoVoOjqf"
      }
    },
    {
      "cell_type": "markdown",
      "source": [
        "- posts/views.py"
      ],
      "metadata": {
        "id": "Gj6hS_-vaobm"
      }
    },
    {
      "cell_type": "code",
      "source": [
        "def post_detail(request, post_id):\n",
        "    post = Post.objects.get(id=post_id)\n",
        "    comment_form = CommentForm()\n",
        "    context = {\n",
        "        \"post\": post,\n",
        "        \"comment_form\": comment_form,\n",
        "    }\n",
        "    return render(request, \"posts/post_detail.html\", context)"
      ],
      "metadata": {
        "id": "gh5RMVOPPU6V"
      },
      "execution_count": null,
      "outputs": []
    },
    {
      "cell_type": "markdown",
      "source": [
        "#### 1.1.4 {% include %} 태그로 Template 재사용"
      ],
      "metadata": {
        "id": "Bf7CzazcPUL_"
      }
    },
    {
      "cell_type": "markdown",
      "source": [
        "- templates/posts/post.html\n",
        "    - < article> 태그를 post.html로 재사용"
      ],
      "metadata": {
        "id": "StQqj9libiVo"
      }
    },
    {
      "cell_type": "code",
      "source": [
        "<article id=\"post-{{ post.id }}\" class=\"post\">\n",
        "...\n",
        "</article>"
      ],
      "metadata": {
        "id": "EYHSe98RPT7m"
      },
      "execution_count": null,
      "outputs": []
    },
    {
      "cell_type": "markdown",
      "source": [
        "- templates/posts/feed.html"
      ],
      "metadata": {
        "id": "nL5P3ExhbrKY"
      }
    },
    {
      "cell_type": "code",
      "source": [
        "{% extends 'base.html' %}\n",
        "{% block content %}\n",
        "<nav>...</nav>\n",
        "<div id=\"feeds\" class=\"post-container\">\n",
        "    {% for post in posts %}\n",
        "        {% include 'posts/post.html' %}\n",
        "    {% endfor %}\n",
        "</div>\n",
        "...\n",
        "{% endblock %}"
      ],
      "metadata": {
        "id": "_0IayevtbrKe"
      },
      "execution_count": null,
      "outputs": []
    },
    {
      "cell_type": "markdown",
      "source": [
        "- templates/posts/post_detail.html"
      ],
      "metadata": {
        "id": "2O55s20-brQt"
      }
    },
    {
      "cell_type": "code",
      "source": [
        "{% extends 'base.html' %}\n",
        "{% block content %}\n",
        "<nav>...</nav>\n",
        "<div id=\"feeds\" class=\"post-container\">\n",
        "    {% include 'posts/post.html' %}\n",
        "</div>\n",
        "...\n",
        "{% endblock %}"
      ],
      "metadata": {
        "id": "wcmHbvk4brQt"
      },
      "execution_count": null,
      "outputs": []
    },
    {
      "cell_type": "markdown",
      "source": [
        "- templates/nav.html\n",
        "    - < nav> 태그의 내용을 별도의 nav.html로 이동"
      ],
      "metadata": {
        "id": "Uh1Q482dbrXz"
      }
    },
    {
      "cell_type": "code",
      "source": [
        "<nav>\n",
        "    <h1>\n",
        "        <a href=\"{% url 'posts:feeds' %}\">Pystagram</a>\n",
        "    </h1>\n",
        "    <a href=\"{% url 'posts:post_add' %}\">Add post</a>\n",
        "    <a href=\"{% url 'users:logout' %}\">Logout</a>\n",
        "</nav>"
      ],
      "metadata": {
        "id": "eu2BaUr8brX0"
      },
      "execution_count": null,
      "outputs": []
    },
    {
      "cell_type": "markdown",
      "source": [
        "- templates/posts/feeds.html, templates/posts/post_detail.html 공통"
      ],
      "metadata": {
        "id": "wbZNGyAXbtbS"
      }
    },
    {
      "cell_type": "code",
      "source": [
        "{% extends 'base.html' %}\n",
        "{% block content %}\n",
        "{% include 'nav.html' %}\n",
        "<div id=\"feeds\" class=\"post-container\">\n",
        "    {% include 'posts/post.html' %}\n",
        "</div>\n",
        "...\n",
        "{% endblock %}"
      ],
      "metadata": {
        "id": "HWVikQR2btbl"
      },
      "execution_count": null,
      "outputs": []
    },
    {
      "cell_type": "markdown",
      "source": [
        "#### 1.1.5 해시태그 검색결과에 링크 추가"
      ],
      "metadata": {
        "id": "HE-Nk7fmPcsa"
      }
    },
    {
      "cell_type": "markdown",
      "source": [
        "- templates/posts/tags.html"
      ],
      "metadata": {
        "id": "HlzArNXcdbBf"
      }
    },
    {
      "cell_type": "code",
      "source": [
        "<div class=\"post-grid\">\n",
        "    <a href=\"{% url 'posts:post_detail' post_id=post.id %}\">\n",
        "        <img src=\"{{ post.postimage_set.first.photo.url }}\" alt=\"\">\n",
        "    </a>\n",
        "</div>"
      ],
      "metadata": {
        "id": "S2_1gAO2PhcB"
      },
      "execution_count": null,
      "outputs": []
    },
    {
      "cell_type": "markdown",
      "source": [
        "### 1.2 글 작성 후 이동할 위치"
      ],
      "metadata": {
        "id": "k5RYHWkisVly"
      }
    },
    {
      "cell_type": "markdown",
      "source": [
        "#### 1.2.1 Post 상세 화면에서 댓글 작성 시 상세화면으로 이동"
      ],
      "metadata": {
        "id": "pG1bQXQcPjY7"
      }
    },
    {
      "cell_type": "markdown",
      "source": [
        "- posts/views.py\n",
        "    - 기존의 댓글 작성 후 redirect"
      ],
      "metadata": {
        "id": "h-2ew62kdqZv"
      }
    },
    {
      "cell_type": "code",
      "source": [
        "def comment_add(request):\n",
        "    ...\n",
        "    if form.is_valid():\n",
        "        ...\n",
        "        url_next = reverse(\"posts:feeds\") + f\"#post-{comment.post.id}\"\n",
        "        return HttpResponseRedirect(url_next)"
      ],
      "metadata": {
        "id": "7V3AfaxasVlz"
      },
      "execution_count": null,
      "outputs": []
    },
    {
      "cell_type": "markdown",
      "source": [
        "- templates/posts/post_detail.html\n",
        "    - 댓글은 피드 페이지와 글 상세 페이지 양쪽에서 작성할 수 있음\n",
        "    - 댓글 작성 완료 후 사용자를 이동시킬 페이지를 각각의 경우에 따라 다르게 지정할 필요가 있음"
      ],
      "metadata": {
        "id": "bb18NKTteT78"
      }
    },
    {
      "cell_type": "code",
      "source": [
        "...\n",
        "<div id=\"feeds\" class=\"post-container\">\n",
        "    {% url 'posts:post_detail' post.id as action_redirect_to %}\n",
        "    {% include 'posts/post.html' with action_redirect_url=action_redirect_to %}\n",
        "</div>\n",
        "..."
      ],
      "metadata": {
        "id": "vtPD8YJLeX6c"
      },
      "execution_count": null,
      "outputs": []
    },
    {
      "cell_type": "markdown",
      "source": [
        "- templates/posts/post.html"
      ],
      "metadata": {
        "id": "qtShD_47exJh"
      }
    },
    {
      "cell_type": "code",
      "source": [
        "...\n",
        "<div class=\"post-comment-create\">\n",
        "    <form method=\"POST\" action=\"{% url 'posts:comment_add' %}?next={{ action_redirect_url }}\">\n",
        "        {% csrf_token %}\n",
        "        <input type=\"hidden\" name=\"post\" value=\"{{ post.id }}\">\n",
        "        {{ comment_form.content }}\n",
        "        <button type=\"submit\">게시</button>\n",
        "    </form>\n",
        "</div>\n",
        "..."
      ],
      "metadata": {
        "id": "2zmLAa0Ne0WN"
      },
      "execution_count": null,
      "outputs": []
    },
    {
      "cell_type": "markdown",
      "source": [
        "- posts/views.py"
      ],
      "metadata": {
        "id": "rQi6HlU9fKsV"
      }
    },
    {
      "cell_type": "code",
      "source": [
        "def comment_add(request):\n",
        "    ...\n",
        "    if form.is_valid():\n",
        "        ...\n",
        "        comment.save()\n",
        "\n",
        "        # URL로 \"next\"값을 전달받았다면 댓글 작성 완료 후 전달받은 값으로 이동한다\n",
        "        if request.GET.get(\"next\"):\n",
        "            url_next = request.GET.get(\"next\")\n",
        "\n",
        "        # \"next\"값을 전달받지 않았다면 피드페이지의 글 위치로 이동한다\n",
        "        else:\n",
        "            url_next = reverse(\"posts:feeds\") + f\"#post-{comment.post.id}\"\n",
        "\n",
        "        return HttpResponseRedirect(url_next)"
      ],
      "metadata": {
        "id": "R-KLSlTHfNKk"
      },
      "execution_count": null,
      "outputs": []
    },
    {
      "cell_type": "markdown",
      "source": [
        "- templates/posts/feeds.html"
      ],
      "metadata": {
        "id": "jt7yeHMhfcMG"
      }
    },
    {
      "cell_type": "code",
      "source": [
        "...\n",
        "<div id=\"feeds\" class=\"post-container\">\n",
        "    {% for post in posts %}\n",
        "        {% with post.id|stringformat:\"s\" as post_id %}\n",
        "            {% url 'posts:feeds' as action_redirect_to %}\n",
        "            {% include 'posts/post.html' with action_redirect_url=action_redirect_to|add:'#post-'|add:post.id %}\n",
        "        {% endwith %}\n",
        "    {% endfor %}\n",
        "</div>\n",
        "..."
      ],
      "metadata": {
        "id": "1Kf2LljpffZz"
      },
      "execution_count": null,
      "outputs": []
    },
    {
      "cell_type": "markdown",
      "source": [
        "#### 1.2.2 Custom Template Filter"
      ],
      "metadata": {
        "id": "PMMAyUaBPqIa"
      }
    },
    {
      "cell_type": "markdown",
      "source": [
        "- posts/templatetags/custom_tags.py"
      ],
      "metadata": {
        "id": "KRBL28eBgPc9"
      }
    },
    {
      "cell_type": "code",
      "source": [
        "from django import template\n",
        "\n",
        "register = template.Library()\n",
        "\n",
        "@register.filter\n",
        "def concat(value, arg):\n",
        "    return f\"{value}{arg}\""
      ],
      "metadata": {
        "id": "H0sKFlZjPv9m"
      },
      "execution_count": null,
      "outputs": []
    },
    {
      "cell_type": "markdown",
      "source": [
        "- templates/posts/feeds.html"
      ],
      "metadata": {
        "id": "5tmWYpHSgRjP"
      }
    },
    {
      "cell_type": "code",
      "source": [
        "{% extends 'base.html' %}\n",
        "{% load custom_tags %}\n",
        "\n",
        "{% block content %}\n",
        "{% include 'nav.html' %}\n",
        "<div id=\"feeds\" class=\"post-container\">\n",
        "    {% for post in posts %}\n",
        "        {% url 'posts:feeds' as action_redirect_to %}\n",
        "        {% include 'posts/post.html' with action_redirect_url=action_redirect_to|concat:'#post-'|concat:post.id %}\n",
        "    {% endfor %}\n",
        "</div>\n",
        "...\n",
        "{% endblock %}"
      ],
      "metadata": {
        "id": "y2sTSIOdgQyj"
      },
      "execution_count": null,
      "outputs": []
    },
    {
      "cell_type": "markdown",
      "source": [
        "### 1.3 Template 중복코드 제거"
      ],
      "metadata": {
        "id": "ENmDB2vRsV9j"
      }
    },
    {
      "cell_type": "markdown",
      "source": [
        "#### 1.3.1 화면 단위 기능 정리"
      ],
      "metadata": {
        "id": "q1aNVAIVPxIa"
      }
    },
    {
      "cell_type": "markdown",
      "source": [
        "- 지금까지 만든 화면 단위 기능\n",
        "    - 로그인\n",
        "    - 회원가입\n",
        "    - 피드 페이지\n",
        "    - 태그 페이지\n",
        "    - 글 상세 페이지\n",
        "    - 글 작성 페이지\n",
        "\n",
        "- 비슷한 레이아웃을 가진 기능 묶음\n",
        "    - 상단 내비게이션 바가 없는 레이아웃\n",
        "        - 로그인\n",
        "        - 회원가입\n",
        "    - 내비게이션 바가 있는 레이아웃\n",
        "        - 이미지 슬라이더 기능이 필요한 레이아웃\n",
        "            - 피드 페이지\n",
        "            - 글 상세 페이지\n",
        "            - 태그 페이지\n",
        "        - 이미지 슬라이더가 없어도 되는 레이아웃\n",
        "            - 글 작성 페이지\n",
        "\n",
        "- 레이아웃에 따라 base 정리\n",
        "    - 상단 내비게이션 바가 없는 레이아웃: base.html\n",
        "    - 내비게이션 바가 있는 레이아웃: base_nav.html\n",
        "    - 내비게이션 바가 있으며 이미지 슬라이더 기능이 포함된 레이아웃: base_slider.html"
      ],
      "metadata": {
        "id": "mhK6CsgeP1-U"
      }
    },
    {
      "cell_type": "markdown",
      "source": [
        "#### 1.3.2 base.html 분할"
      ],
      "metadata": {
        "id": "uY7yqRH5Q4gj"
      }
    },
    {
      "cell_type": "markdown",
      "source": [
        "- templates/_base.html\n",
        "    - 모든 기반 레이아웃의 최상단 Template"
      ],
      "metadata": {
        "id": "Uno7QrHJhDZX"
      }
    },
    {
      "cell_type": "code",
      "source": [
        "{% load static %}\n",
        "<!doctype html>\n",
        "<html lang=\"ko\">\n",
        "<head>\n",
        "    <link rel=\"stylesheet\" href=\"{% static 'css/style.css' %}\">\n",
        "    <title>Pystagram</title>\n",
        "    {% block head %}{% endblock %}\n",
        "</head>\n",
        "<body>\n",
        "    {% block base_content %}{% endblock %}\n",
        "</body>\n",
        "</html>"
      ],
      "metadata": {
        "id": "M134wV22sV9k"
      },
      "execution_count": null,
      "outputs": []
    },
    {
      "cell_type": "markdown",
      "source": [
        "- templates/base.html\n",
        "    - 로그인, 회원가입에서 사용"
      ],
      "metadata": {
        "id": "Y56RYfQkhT56"
      }
    },
    {
      "cell_type": "code",
      "source": [
        "{% extends '_base.html' %}\n",
        "\n",
        "{% block base_content %}\n",
        "    {% block content %}{% endblock %}\n",
        "{% endblock %}"
      ],
      "metadata": {
        "id": "3flZclCxhbDf"
      },
      "execution_count": null,
      "outputs": []
    },
    {
      "cell_type": "markdown",
      "source": [
        "- templates/base_nav.html\n",
        "    - 글 작성에서 사용"
      ],
      "metadata": {
        "id": "wcBuxWUVhcYu"
      }
    },
    {
      "cell_type": "code",
      "source": [
        "{% extends '_base.html' %}\n",
        "\n",
        "{% block base_content %}\n",
        "    {% include 'nav.html' %}\n",
        "    {% block content %}{% endblock %}\n",
        "{% endblock %}"
      ],
      "metadata": {
        "id": "GHdYFP8ShcY6"
      },
      "execution_count": null,
      "outputs": []
    },
    {
      "cell_type": "markdown",
      "source": [
        "- templates/base_slider.html\n",
        "    - 피드, 글 상세에서 사용"
      ],
      "metadata": {
        "id": "Rmxob_lqhcme"
      }
    },
    {
      "cell_type": "code",
      "source": [
        "{% extends '_base.html' %}\n",
        "{% load static %}\n",
        "\n",
        "{% block head %}\n",
        "    <link href=\"{% static 'splide/splide.css' %}\" rel=\"stylesheet\">\n",
        "    <script src=\"{% static 'splide/splide.js' %}\"></script>\n",
        "{% endblock %}\n",
        "\n",
        "{% block base_content %}\n",
        "    {% include 'nav.html' %}\n",
        "    {% block content %}{% endblock %}\n",
        "    <script>\n",
        "        const elms = document.getElementsByClassName('splide');\n",
        "        for (let i = 0; i < elms.length; i++) {\n",
        "            new Splide(elms[i]).mount();\n",
        "        }\n",
        "    </script>\n",
        "{% endblock %}"
      ],
      "metadata": {
        "id": "C5YTkZLYhcmf"
      },
      "execution_count": null,
      "outputs": []
    },
    {
      "cell_type": "markdown",
      "source": [
        "#### 1.3.3 분할한 Template을 사용하도록 코드 수정"
      ],
      "metadata": {
        "id": "Q-zqgvzCQ-Ly"
      }
    },
    {
      "cell_type": "markdown",
      "source": [
        "- templates/posts/feeds.html"
      ],
      "metadata": {
        "id": "f64VNncDh941"
      }
    },
    {
      "cell_type": "code",
      "source": [
        "{% extends 'base_slider.html' %}\n",
        "{% load custom_tags %}\n",
        "\n",
        "{% block content %}\n",
        "    <div id=\"feeds\" class=\"post-container\">\n",
        "        {% for post in posts %}\n",
        "            {% url 'posts:feeds' as action_redirect_to %}\n",
        "            {% include 'posts/post.html' with action_redirect_url=action_redirect_to|concat:'#post-'|concat:post.id %}\n",
        "        {% endfor %}\n",
        "    </div>\n",
        "{% endblock %}"
      ],
      "metadata": {
        "id": "tFwKYhdxRD1W"
      },
      "execution_count": null,
      "outputs": []
    },
    {
      "cell_type": "markdown",
      "source": [
        "- templates/posts/post_detail.html"
      ],
      "metadata": {
        "id": "kI4DdWI1iFt7"
      }
    },
    {
      "cell_type": "code",
      "source": [
        "{% extends 'base_slider.html' %}\n",
        "\n",
        "{% block content %}\n",
        "    <div id=\"feeds\" class=\"post-container\">\n",
        "        {% url 'posts:post_detail' post.id as action_redirect_to %}\n",
        "        {% include 'posts/post.html' with action_redirect_url=action_redirect_to %}\n",
        "    </div>\n",
        "{% endblock %}"
      ],
      "metadata": {
        "id": "0N3pAeYeiFuG"
      },
      "execution_count": null,
      "outputs": []
    },
    {
      "cell_type": "markdown",
      "source": [
        "- templates/posts/tags.html"
      ],
      "metadata": {
        "id": "YOyv-SMaiF05"
      }
    },
    {
      "cell_type": "code",
      "source": [
        "{% extends 'base_nav.html' %}\n",
        "\n",
        "{% block content %}\n",
        "    <div id=\"tags\">\n",
        "        ...\n",
        "    </div>\n",
        "{% endblock %}"
      ],
      "metadata": {
        "id": "q4rigl8QiF06"
      },
      "execution_count": null,
      "outputs": []
    },
    {
      "cell_type": "markdown",
      "source": [
        "- templates/posts/post_add.html"
      ],
      "metadata": {
        "id": "IoYi816-iGJm"
      }
    },
    {
      "cell_type": "code",
      "source": [
        "{% extends 'base_nav.html' %}\n",
        "\n",
        "{% block content %}\n",
        "    <div id=\"post-add\">\n",
        "        ...\n",
        "    </div>\n",
        "{% endblock %}"
      ],
      "metadata": {
        "id": "4iKmUD7giGJn"
      },
      "execution_count": null,
      "outputs": []
    },
    {
      "cell_type": "markdown",
      "source": [
        "## **2. 좋아요 기능**"
      ],
      "metadata": {
        "id": "R7VKrNZtrPjG"
      }
    },
    {
      "cell_type": "markdown",
      "source": [
        "### 2.1 좋아요 모델, 관리자 구성"
      ],
      "metadata": {
        "id": "L6f3ncscsYQp"
      }
    },
    {
      "cell_type": "markdown",
      "source": [
        "#### 2.1.1 ManyToManyField 추가"
      ],
      "metadata": {
        "id": "ak_WcWMaRF8m"
      }
    },
    {
      "cell_type": "markdown",
      "source": [
        "- users/models.py"
      ],
      "metadata": {
        "id": "6wm_90GDiuMF"
      }
    },
    {
      "cell_type": "code",
      "source": [
        "class User(AbstractUser):\n",
        "    ...\n",
        "    like_posts = models.ManyToManyField(\n",
        "        \"posts.Post\",\n",
        "        verbose_name=\"좋아요 누른 Post목록\",\n",
        "        related_name=\"like_users\",\n",
        "        blank=True,\n",
        "    )"
      ],
      "metadata": {
        "id": "cAwE8mHVsYQq"
      },
      "execution_count": null,
      "outputs": []
    },
    {
      "cell_type": "markdown",
      "source": [
        "- Terminal"
      ],
      "metadata": {
        "id": "gNu4Rhx_jDyf"
      }
    },
    {
      "cell_type": "code",
      "source": [
        "python manage.py makemigrations\n",
        "python manage.py migrate"
      ],
      "metadata": {
        "id": "azUfqpDXjFbf"
      },
      "execution_count": null,
      "outputs": []
    },
    {
      "cell_type": "markdown",
      "source": [
        "#### 2.1.2 admin 구성"
      ],
      "metadata": {
        "id": "gT4Gomw-RLs5"
      }
    },
    {
      "cell_type": "markdown",
      "source": [
        "- users/admin.py"
      ],
      "metadata": {
        "id": "iMQVi_tkjM7L"
      }
    },
    {
      "cell_type": "code",
      "source": [
        "...\n",
        "@admin.register(User)\n",
        "class CustomUserAdmin(UserAdmin):\n",
        "    fieldsets = [\n",
        "        ...\n",
        "        (\n",
        "            \"추가필드\",\n",
        "            {\n",
        "                \"fields\": (\"profile_image\", \"short_description\"),\n",
        "            },\n",
        "        ),\n",
        "        (\n",
        "            \"연관객체\",\n",
        "            {\n",
        "                \"fields\": (\"like_posts\",),\n",
        "            },\n",
        "        ),\n",
        "        ..."
      ],
      "metadata": {
        "id": "gJXqXMwcRPLn"
      },
      "execution_count": null,
      "outputs": []
    },
    {
      "cell_type": "markdown",
      "source": [
        "- posts/models.py"
      ],
      "metadata": {
        "id": "Kk3vKvSijSJf"
      }
    },
    {
      "cell_type": "code",
      "source": [
        "...\n",
        "class Post(models.Model):\n",
        "    ...\n",
        "    def __str__(self):\n",
        "        return f\"{self.user.username}의 Post(id: {self.id})\"\n",
        "..."
      ],
      "metadata": {
        "id": "sAgTUfUQjSJr"
      },
      "execution_count": null,
      "outputs": []
    },
    {
      "cell_type": "markdown",
      "source": [
        "- users/models.py"
      ],
      "metadata": {
        "id": "yyqeqdeNjSSR"
      }
    },
    {
      "cell_type": "code",
      "source": [
        "...\n",
        "class User(AbstractUser):\n",
        "    ...\n",
        "    def __str__(self):\n",
        "        return self.username\n",
        "..."
      ],
      "metadata": {
        "id": "q0Rk-qgTjSSR"
      },
      "execution_count": null,
      "outputs": []
    },
    {
      "cell_type": "markdown",
      "source": [
        "- posts/admin.py"
      ],
      "metadata": {
        "id": "MHitO0rDjSaD"
      }
    },
    {
      "cell_type": "code",
      "source": [
        "...\n",
        "class PostImageInline(admin.TabularInline):\n",
        "    ...\n",
        "\n",
        "class LikeUserInline(admin.TabularInline):\n",
        "    model = Post.like_users.through\n",
        "    verbose_name = \"좋아요 한 User\"\n",
        "    verbose_name_plural = f\"{verbose_name} 목록\"\n",
        "    extra = 1\n",
        "\n",
        "    def has_change_permission(self, request, obj=None):\n",
        "        return False\n",
        "\n",
        "@admin.register(Post)\n",
        "class PostAdmin(admin.ModelAdmin):\n",
        "    ...\n",
        "    inlines = [\n",
        "        CommentInline,\n",
        "        PostImageInline,\n",
        "        LikeUserInline,\n",
        "    ]\n",
        "    ...\n"
      ],
      "metadata": {
        "id": "U8Yyw-ZijSaD"
      },
      "execution_count": null,
      "outputs": []
    },
    {
      "cell_type": "markdown",
      "source": [
        "### 2.2 좋아요 토그 액션"
      ],
      "metadata": {
        "id": "VObu9Pq1sY2f"
      }
    },
    {
      "cell_type": "markdown",
      "source": [
        "#### 2.2.1 View 구현"
      ],
      "metadata": {
        "id": "eaC4F8JSRRXq"
      }
    },
    {
      "cell_type": "markdown",
      "source": [
        "- posts/views.py"
      ],
      "metadata": {
        "id": "yxKqm2UVkZk3"
      }
    },
    {
      "cell_type": "code",
      "source": [
        "# URL에서 좋아요 처리할 Post의 id를 전달받는다.\n",
        "def post_like(request, post_id):\n",
        "    post = Post.objects.get(id=post_id)\n",
        "    user = request.user\n",
        "\n",
        "    # 사용자가 \"좋아요를 누른 Post목록\"에 \"좋아요 버튼을 누른 Post\"가 존재한다면\n",
        "    if user.like_posts.filter(id=post.id).exists():\n",
        "        # 좋아요 목록에서 삭제한다\n",
        "        user.like_posts.remove(post)\n",
        "\n",
        "    # 존재하지 않는다면 좋아요 목록에 추가한다.\n",
        "    else:\n",
        "        user.like_posts.add(post)\n",
        "\n",
        "    # next로 값이 전달되었다면 해당 위치로, 전달되지 않았다면 피드페이지에서 해당 Post위치로 이동한다\n",
        "    url_next = request.GET.get(\"next\") or reverse(\"posts:feeds\") + f\"#post-{post.id}\"\n",
        "    return HttpResponseRedirect(url_next)"
      ],
      "metadata": {
        "id": "pBpEPeXmsY2g"
      },
      "execution_count": null,
      "outputs": []
    },
    {
      "cell_type": "markdown",
      "source": [
        "#### 2.2.2 URLconf"
      ],
      "metadata": {
        "id": "498OZQT9RV-5"
      }
    },
    {
      "cell_type": "markdown",
      "source": [
        "- posts/urls.py"
      ],
      "metadata": {
        "id": "47FOy-JakoDo"
      }
    },
    {
      "cell_type": "code",
      "source": [
        "from posts.views import ..., post_like\n",
        "...\n",
        "\n",
        "app_name = \"posts\"\n",
        "urlpatterns = [\n",
        "    ...\n",
        "    path(\"<int:post_id>/like/\", post_like, name=\"post_like\"),\n",
        "]"
      ],
      "metadata": {
        "id": "KmcUBoZxrS81"
      },
      "execution_count": null,
      "outputs": []
    },
    {
      "cell_type": "markdown",
      "source": [
        "#### 2.2.3 Template의 좋아요 버튼에 form 추가"
      ],
      "metadata": {
        "id": "y6WhsnyYRZXk"
      }
    },
    {
      "cell_type": "markdown",
      "source": [
        "- templates/posts/post.html"
      ],
      "metadata": {
        "id": "cJ6tcPW-k3Mf"
      }
    },
    {
      "cell_type": "code",
      "source": [
        "...\n",
        "<div class=\"post-buttons\">\n",
        "    <form action=\"{% url 'posts:post_like' post_id=post.id %}?next={{ action_redirect_url }}\" method=\"POST\">\n",
        "        {% csrf_token %}\n",
        "        <button type=\"submit\"\n",
        "            {% if user in post.like_users.all %}\n",
        "                style=\"color: red;\"\n",
        "            {% endif %}>\n",
        "            Likes({{ post.like_users.count }})\n",
        "        </button>\n",
        "    </form>\n",
        "    <span>Comments({{ post.comment_set.count }})</span>\n",
        "</div>\n",
        "..."
      ],
      "metadata": {
        "id": "b8JufVzBReSL"
      },
      "execution_count": null,
      "outputs": []
    },
    {
      "cell_type": "markdown",
      "source": [
        "## **3. 팔로우/팔로잉 기능**"
      ],
      "metadata": {
        "id": "UAKLxS-erTXN"
      }
    },
    {
      "cell_type": "markdown",
      "source": [
        "### 3.1 팔로우/팔로잉 모델, 관리자 구성"
      ],
      "metadata": {
        "id": "HvxShhxEsZrT"
      }
    },
    {
      "cell_type": "markdown",
      "source": [
        "#### 3.1.1 팔로우/팔로잉 관계"
      ],
      "metadata": {
        "id": "aEdax3NmRf8b"
      }
    },
    {
      "cell_type": "markdown",
      "source": [
        "- '해시태그', '좋아요'와 마찬가지로 ManyToManyField를 사용한 다대다관계로 구성\n",
        "- '해시태그', '좋아요'와 다른 점\n",
        "    - '해시태그', '좋아요': 한쪽에서의 연결은 반대쪽에서의 연결도 나타내는 대칭적 관계\n",
        "    - 팔로우/팔로잉 관계: 한 쪽에서의 연결과 반대쪽에서의 연결이 별도로 구분되는 비대칭적 관계\n",
        "        - 같은 테이블(User)에서의 관계를 나타내야 함\n",
        "        - 예시\n",
        "            - User.username = [녹턴, 럭스, 람머스]\n",
        "            - 이 User의 팔로워들(Followers)\n",
        "                - 녹턴의 팔로워들: 람머스\n",
        "                - 럭스의 팔로워들: 녹턴, 람머스\n",
        "                - 람머스의 팔로워들: 없음\n",
        "            - 이 User가 팔로잉하는 대상들(Folowing)\n",
        "                - 녹턴이 팔로잉하는 사용자들: 럭스\n",
        "                - 럭스가 팔로잉하는 사용자들: 없음\n",
        "                - 람머스가 팔로잉하는 사용자들: 녹턴, 럭스\n",
        "        - 팔로우/팔로잉 관계를 구성하는 중개 테이블\n",
        "            - 이 중개 테이블의 데이터는 방향에 따라 나타내는 관계가 다른 비대칭적 관계를 나타냄\n",
        "            - From User의 사용자는 To User의 사용자를 팔로우\n",
        "            - To User의 사용자에게 From User의 사용자는 자신을 팔로잉하는 사용자로 취급\n",
        "\n",
        "|From User|To User|\n",
        "|---------|-------|\n",
        "|람머스|녹턴|\n",
        "|람머스|럭스|\n",
        "|녹턴|럭스|\n",
        "\n"
      ],
      "metadata": {
        "id": "hJ4utCxGRkUq"
      }
    },
    {
      "cell_type": "markdown",
      "source": [
        "#### 3.1.2 팔로우 관계 모델"
      ],
      "metadata": {
        "id": "KIDpwHfLV0PD"
      }
    },
    {
      "cell_type": "markdown",
      "source": [
        "- users/models.py"
      ],
      "metadata": {
        "id": "OlENmySYniGS"
      }
    },
    {
      "cell_type": "code",
      "source": [
        "class Relationship(models.Model):\n",
        "    from_user = models.ForeignKey(\n",
        "        \"users.User\",\n",
        "        verbose_name=\"팔로우를 요청한 사용자\",\n",
        "        related_name=\"following_relationships\",\n",
        "        on_delete=models.CASCADE,\n",
        "    )\n",
        "    to_user = models.ForeignKey(\n",
        "        \"users.User\",\n",
        "        verbose_name=\"팔로우 요청의 대상\",\n",
        "        related_name=\"follower_relationships\",\n",
        "        on_delete=models.CASCADE,\n",
        "    )\n",
        "    created = models.DateTimeField(auto_now_add=True)\n",
        "\n",
        "    def __str__(self):\n",
        "        return f\"관계 ({self.from_user} -> {self.to_user})\""
      ],
      "metadata": {
        "id": "M44zI2o9sZrU"
      },
      "execution_count": null,
      "outputs": []
    },
    {
      "cell_type": "code",
      "source": [
        "...\n",
        "class User(AbstractUser):\n",
        "    ...\n",
        "    following = models.ManyToManyField(\n",
        "        \"self\",\n",
        "        verbose_name=\"팔로우 중인 사용자들\",\n",
        "        related_name=\"followers\",\n",
        "        symmetrical=False,\n",
        "        through=\"users.Relationship\",\n",
        "    )\n",
        "..."
      ],
      "metadata": {
        "id": "rId6K5k7n9an"
      },
      "execution_count": null,
      "outputs": []
    },
    {
      "cell_type": "markdown",
      "source": [
        "- Terminal"
      ],
      "metadata": {
        "id": "I3E9wVSsntsE"
      }
    },
    {
      "cell_type": "code",
      "source": [
        "python manage.py makemigrations\n",
        "python manage.py migrate"
      ],
      "metadata": {
        "id": "U5r7amx_nv2f"
      },
      "execution_count": null,
      "outputs": []
    },
    {
      "cell_type": "markdown",
      "source": [
        "#### 3.1.3 팔로우 관계 admin"
      ],
      "metadata": {
        "id": "5j3BFK0qV4de"
      }
    },
    {
      "cell_type": "markdown",
      "source": [
        "- users/admin.py"
      ],
      "metadata": {
        "id": "ZrOrugbpoHRu"
      }
    },
    {
      "cell_type": "code",
      "source": [
        "...\n",
        "class FollowersInline(admin.TabularInline):\n",
        "    model = User.following.through\n",
        "    fk_name = \"from_user\"\n",
        "    verbose_name = \"내가 팔로우 하고 있는 사용자\"\n",
        "    verbose_name_plural = f\"{verbose_name} 목록\"\n",
        "\n",
        "\n",
        "class FollowingInline(admin.TabularInline):\n",
        "    model = User.following.through\n",
        "    fk_name = \"to_user\"\n",
        "    verbose_name = \"나를 팔로우 하고 있는 사용자\"\n",
        "    verbose_name_plural = f\"{verbose_name} 목록\"\n",
        "\n",
        "\n",
        "@admin.register(User)\n",
        "class CustomUserAdmin(UserAdmin):\n",
        "    fieldsets = [\n",
        "        ...\n",
        "    ]\n",
        "    inlines = [\n",
        "        FollowersInline,\n",
        "        FollowingInline,\n",
        "    ]"
      ],
      "metadata": {
        "id": "wwDiKqw-V8MR"
      },
      "execution_count": null,
      "outputs": []
    },
    {
      "cell_type": "markdown",
      "source": [
        "### 3.2 프로필 페이지"
      ],
      "metadata": {
        "id": "gZ2N96MBsaNI"
      }
    },
    {
      "cell_type": "markdown",
      "source": [
        "#### 3.2.1 프로필 페이지 기본구조 구성 및 연결"
      ],
      "metadata": {
        "id": "V8gsdH8aV-gV"
      }
    },
    {
      "cell_type": "markdown",
      "source": [
        "- View: users/views.py → profile\n",
        "- URL: /users/<int:user_id>/profile/\n",
        "- Template: templates/users/profile.html"
      ],
      "metadata": {
        "id": "aXHAiEhwohS_"
      }
    },
    {
      "cell_type": "markdown",
      "source": [
        "- users/views.py"
      ],
      "metadata": {
        "id": "UDwxyBV7owU9"
      }
    },
    {
      "cell_type": "code",
      "source": [
        "def profile(request, user_id):\n",
        "    return render(request, \"users/profile.html\")"
      ],
      "metadata": {
        "id": "QWRX75k4saNI"
      },
      "execution_count": null,
      "outputs": []
    },
    {
      "cell_type": "markdown",
      "source": [
        "- users/urls.py"
      ],
      "metadata": {
        "id": "CytLyeKPpCKz"
      }
    },
    {
      "cell_type": "code",
      "source": [
        "from users.views import ..., profile\n",
        "...\n",
        "\n",
        "app_name = \"users\"\n",
        "urlpatterns = [\n",
        "    ...\n",
        "    path(\"<int:user_id>/profile/\", profile, name=\"profile\"),\n",
        "    ...\n",
        "]"
      ],
      "metadata": {
        "id": "sa_3R5AlpEsn"
      },
      "execution_count": null,
      "outputs": []
    },
    {
      "cell_type": "markdown",
      "source": [
        "- templates/users/profile.html"
      ],
      "metadata": {
        "id": "h5xiVUbvpGKa"
      }
    },
    {
      "cell_type": "code",
      "source": [
        "{% extends 'base_nav.html' %}\n",
        "\n",
        "{% block content %}\n",
        "<div id=\"profile\">\n",
        "    <h1>Profile</h1>\n",
        "</div>\n",
        "{% endblock %}"
      ],
      "metadata": {
        "id": "4eCuiNqTpGKf"
      },
      "execution_count": null,
      "outputs": []
    },
    {
      "cell_type": "markdown",
      "source": [
        "- templates/posts/post.html"
      ],
      "metadata": {
        "id": "AK5eXqfppHVO"
      }
    },
    {
      "cell_type": "code",
      "source": [
        "<article id=\"post-{{ post.id }}\" class=\"post\">\n",
        "    <header class=\"post-header\">\n",
        "        <a href=\"{% url 'users:profile' user_id=post.user.id %}\">\n",
        "            {% if post.user.profile_image %}\n",
        "                <img src=\"{{ post.user.profile_image.url }}\" alt=\"\">\n",
        "            {% endif %}\n",
        "            <span>{{ post.user.username }}</span>\n",
        "        </a>\n",
        "    </header>\n",
        "    ..."
      ],
      "metadata": {
        "id": "NaU9-ezvpHVj"
      },
      "execution_count": null,
      "outputs": []
    },
    {
      "cell_type": "markdown",
      "source": [
        "#### 3.2.2 프로필 Template에 정보 전달"
      ],
      "metadata": {
        "id": "xzcKGvFvWEL9"
      }
    },
    {
      "cell_type": "markdown",
      "source": [
        "- users/views.py"
      ],
      "metadata": {
        "id": "cZ8kOXwSqlsu"
      }
    },
    {
      "cell_type": "code",
      "source": [
        "from django.shortcuts import render, redirect, get_object_or_404\n",
        "...\n",
        "from users.models import User\n",
        "\n",
        "def profile(request, user_id):\n",
        "    user = get_object_or_404(User, id=user_id)\n",
        "    context = {\n",
        "        \"user\": user,\n",
        "    }\n",
        "    return render(request, \"users/profile.html\", context)"
      ],
      "metadata": {
        "id": "cguHtYWCWIfe"
      },
      "execution_count": null,
      "outputs": []
    },
    {
      "cell_type": "markdown",
      "source": [
        "#### 3.2.3 프로필 Template 구성"
      ],
      "metadata": {
        "id": "slcnfLVTWJQC"
      }
    },
    {
      "cell_type": "markdown",
      "source": [
        "- templates/users/profile.html"
      ],
      "metadata": {
        "id": "SvGlXGm1q6vg"
      }
    },
    {
      "cell_type": "code",
      "source": [
        "{% extends 'base_nav.html' %}\n",
        "\n",
        "{% block content %}\n",
        "<div id=\"profile\">\n",
        "    <div class=\"info\">\n",
        "        <!-- 프로필 이미지 영역 -->\n",
        "        {% if user.profile_image %}\n",
        "            <img src=\"{{ user.profile_image.url }}\">\n",
        "        {% endif %}\n",
        "\n",
        "        <!-- 사용자 정보 영역 -->\n",
        "        <div class=\"info-texts\">\n",
        "            <h1>{{ user.username }}</h1>\n",
        "            <div class=\"counts\">\n",
        "                <dl>\n",
        "                    <dt>Posts</dt>\n",
        "                    <dd>{{ user.post_set.count }}</dd>\n",
        "                    <dt>Followers</dt>\n",
        "                    <dd>{{ user.followers.count }}</dd>\n",
        "                    <dt>Following</dt>\n",
        "                    <dd>{{ user.following.count }}</dd>\n",
        "                </dl>\n",
        "            </div>\n",
        "            <p>{{ user.short_description }}</p>\n",
        "        </div>\n",
        "    </div>\n",
        "    <!-- 사용자가 작성한 Post목록 -->\n",
        "    <div class=\"post-grid-container\">\n",
        "        {% for post in user.post_set.all %}\n",
        "            {% if post.postimage_set.first %}\n",
        "                {% if post.postimage_set.first.photo %}\n",
        "                    <div class=\"post-grid\">\n",
        "                        <a href=\"{% url 'posts:post_detail' post_id=post.id %}\">\n",
        "                            <img src=\"{{ post.postimage_set.first.photo.url }}\" alt=\"\">\n",
        "                        </a>\n",
        "                    </div>\n",
        "                {% endif %}\n",
        "            {% endif %}\n",
        "        {% endfor %}\n",
        "    </div>\n",
        "</div>\n",
        "{% endblock %}"
      ],
      "metadata": {
        "id": "tEjYzH_eWOiS"
      },
      "execution_count": null,
      "outputs": []
    },
    {
      "cell_type": "markdown",
      "source": [
        "### 3.3 팔로우/팔로잉 목록"
      ],
      "metadata": {
        "id": "l0zlTTF2saUA"
      }
    },
    {
      "cell_type": "markdown",
      "source": [
        "#### 3.3.1 중개 테이블의 데이터 가져오기"
      ],
      "metadata": {
        "id": "tVpu8wNIWPTa"
      }
    },
    {
      "cell_type": "markdown",
      "source": [
        "- Terminal"
      ],
      "metadata": {
        "id": "lys-aw3Krs0I"
      }
    },
    {
      "cell_type": "code",
      "source": [
        "python manage.py shell\n",
        "\n",
        "from user.models import User, Relationship\n",
        "\n",
        "user = User.objects.get(id=1)\n",
        "user.followers.all()\n",
        "user.follower_relationships.all()\n",
        "\n",
        "for relationship in user.follower_relationships.all():\n",
        "    print(relationship, relationship.created)"
      ],
      "metadata": {
        "id": "qQmV_hhDsaUA"
      },
      "execution_count": null,
      "outputs": []
    },
    {
      "cell_type": "markdown",
      "source": [
        "#### 3.3.2 base_profile.html 구성"
      ],
      "metadata": {
        "id": "vJl54R9jWTeO"
      }
    },
    {
      "cell_type": "markdown",
      "source": [
        "- templates/base_profile.html"
      ],
      "metadata": {
        "id": "5fNAmgIzsTxL"
      }
    },
    {
      "cell_type": "code",
      "source": [
        "{% extends 'base_nav.html' %}\n",
        "\n",
        "{% block content %}\n",
        "<div id=\"profile\">\n",
        "    <div class=\"info\">\n",
        "        <!-- 프로필 이미지 영역 -->\n",
        "        {% if user.profile_image %}\n",
        "            <img src=\"{{ user.profile_image.url }}\">\n",
        "        {% endif %}\n",
        "\n",
        "        <!-- 사용자 정보 영역 -->\n",
        "        <div class=\"info-texts\">\n",
        "            <h1>{{ user.username }}</h1>\n",
        "            <div class=\"counts\">\n",
        "                <dl>\n",
        "                    <dt>Posts</dt>\n",
        "                    <dd>{{ user.post_set.count }}</dd>\n",
        "                    <dt>Followers</dt>\n",
        "                    <dd>{{ user.followers.count }}</dd>\n",
        "                    <dt>Following</dt>\n",
        "                    <dd>{{ user.following.count }}</dd>\n",
        "                </dl>\n",
        "            </div>\n",
        "            <p>{{ user.short_description }}</p>\n",
        "        </div>\n",
        "    </div>\n",
        "    {% block bottom_data %}{% endblock %}\n",
        "</div>\n",
        "{% endblock %}"
      ],
      "metadata": {
        "id": "NYCgkERFWYW2"
      },
      "execution_count": null,
      "outputs": []
    },
    {
      "cell_type": "markdown",
      "source": [
        "- templates/users/profile.html"
      ],
      "metadata": {
        "id": "53GLgRoVsggb"
      }
    },
    {
      "cell_type": "code",
      "source": [
        "{% extends 'base_profile.html' %}\n",
        "\n",
        "{% block bottom_data %}\n",
        "<!-- 사용자가 작성한 Post목록 -->\n",
        "<div class=\"post-grid-container\">\n",
        "    {% for post in user.post_set.all %}\n",
        "        {% if post.postimage_set.first %}\n",
        "            {% if post.postimage_set.first.photo %}\n",
        "                <div class=\"post-grid\">\n",
        "                    <a href=\"{% url 'posts:post_detail' post_id=post.id %}\">\n",
        "                        <img src=\"{{ post.postimage_set.first.photo.url }}\" alt=\"\">\n",
        "                    </a>\n",
        "                </div>\n",
        "            {% endif %}\n",
        "        {% endif %}\n",
        "    {% endfor %}\n",
        "</div>\n",
        "{% endblock %}"
      ],
      "metadata": {
        "id": "fPxstOQKsj92"
      },
      "execution_count": null,
      "outputs": []
    },
    {
      "cell_type": "markdown",
      "source": [
        "#### 3.3.3 팔로우/팔로잉 목록"
      ],
      "metadata": {
        "id": "UUpJYC_CWZWU"
      }
    },
    {
      "cell_type": "markdown",
      "source": [
        "- 자신을 팔로우하는 사용자 목록(Followers)\n",
        "    - View: users/views.py → followers\n",
        "    - URL: /users/<int:user_id>/followers/\n",
        "    - Template: templates/users/followers.html\n",
        "<br><br>\n",
        "- 자신이 팔로우하는 사용자 목록(Following)\n",
        "    - View: users/views.py → following\n",
        "    - URL: /users/<int:user_id>/following/\n",
        "    - Template: templates/users/following.html"
      ],
      "metadata": {
        "id": "1DFqMOGwWeHq"
      }
    },
    {
      "cell_type": "markdown",
      "source": [
        "- users/views.py"
      ],
      "metadata": {
        "id": "NYy5PjsHsq5t"
      }
    },
    {
      "cell_type": "code",
      "source": [
        "...\n",
        "def followers(request, user_id):\n",
        "    user = get_object_or_404(User, id=user_id)\n",
        "    relationships = user.follower_relationships.all()\n",
        "    context = {\n",
        "        \"user\": user,\n",
        "        \"relationships\": relationships,\n",
        "    }\n",
        "    return render(request, \"users/followers.html\", context)\n",
        "\n",
        "\n",
        "def following(request, user_id):\n",
        "    user = get_object_or_404(User, id=user_id)\n",
        "    relationships = user.following_relationships.all()\n",
        "    context = {\n",
        "        \"user\": user,\n",
        "        \"relationships\": relationships,\n",
        "    }\n",
        "    return render(request, \"users/following.html\", context)\n",
        "..."
      ],
      "metadata": {
        "id": "ziopp5ZEXMCR"
      },
      "execution_count": null,
      "outputs": []
    },
    {
      "cell_type": "markdown",
      "source": [
        "- users/urls.py"
      ],
      "metadata": {
        "id": "edKg7SXrtSSj"
      }
    },
    {
      "cell_type": "code",
      "source": [
        "from users.views import ..., followers, following\n",
        "...\n",
        "\n",
        "app_name = \"users\"\n",
        "urlpatterns = [\n",
        "    ...\n",
        "    path(\"<int:user_id>/followers/\", followers, name=\"followers\"),\n",
        "    path(\"<int:user_id>/following/\", following, name=\"following\"),\n",
        "]"
      ],
      "metadata": {
        "id": "Azx2ZkpgtWIE"
      },
      "execution_count": null,
      "outputs": []
    },
    {
      "cell_type": "markdown",
      "source": [
        "- templates/users/followers.html"
      ],
      "metadata": {
        "id": "kRG_Rdo5tjB9"
      }
    },
    {
      "cell_type": "code",
      "source": [
        "{% extends 'base_profile.html' %}\n",
        "\n",
        "{% block bottom_data %}\n",
        "<div class=\"relationships\">\n",
        "    <h3>Followers</h3>\n",
        "    {% for relationship in relationships %}\n",
        "        <div class=\"relationship\">\n",
        "            <a href=\"{% url 'users:profile' user_id=relationship.from_user.id %}\">\n",
        "                {% if relationship.from_user.profile_image %}\n",
        "                    <img src=\"{{ relationship.from_user.profile_image.url }}\">\n",
        "                {% endif %}\n",
        "                <div class=\"relationship-info\">\n",
        "                    <span>{{ relationship.from_user.username }}</span>\n",
        "                    <span>{{ relationship.created|date:\"y.m.d\" }}</span>\n",
        "                </div>\n",
        "            </a>\n",
        "        </div>\n",
        "    {% endfor %}\n",
        "</div>\n",
        "{% endblock %}"
      ],
      "metadata": {
        "id": "sCc3NJYKtn2_"
      },
      "execution_count": null,
      "outputs": []
    },
    {
      "cell_type": "markdown",
      "source": [
        "- templates/users/following.html"
      ],
      "metadata": {
        "id": "QAFiXAc2tx6q"
      }
    },
    {
      "cell_type": "code",
      "source": [
        "{% extends 'base_profile.html' %}\n",
        "\n",
        "{% block bottom_data %}\n",
        "<div class=\"relationships\">\n",
        "    <h3>Following</h3>\n",
        "    {% for relationship in relationships %}\n",
        "        <div class=\"relationship\">\n",
        "            <a href=\"{% url 'users:profile' user_id=relationship.to_user.id %}\">\n",
        "                {% if relationship.to_user.profile_image %}\n",
        "                    <img src=\"{{ relationship.to_user.profile_image.url }}\">\n",
        "                {% endif %}\n",
        "                <div class=\"relationship-info\">\n",
        "                    <span>{{ relationship.to_user.username }}</span>\n",
        "                    <span>{{ relationship.created|date:\"y.m.d\" }}</span>\n",
        "                </div>\n",
        "            </a>\n",
        "        </div>\n",
        "    {% endfor %}\n",
        "</div>\n",
        "{% endblock %}"
      ],
      "metadata": {
        "id": "Zk5wX7ietx61"
      },
      "execution_count": null,
      "outputs": []
    },
    {
      "cell_type": "markdown",
      "source": [
        "#### 3.3.4 프로필 페이지 링크 구성"
      ],
      "metadata": {
        "id": "Tml1TwesXMW2"
      }
    },
    {
      "cell_type": "markdown",
      "source": [
        "- templates/base_profile.html"
      ],
      "metadata": {
        "id": "T5e59Rzmt3z9"
      }
    },
    {
      "cell_type": "code",
      "source": [
        "...\n",
        "<!-- 사용자 정보 영역 -->\n",
        "<div class=\"info-texts\">\n",
        "    <h1>{{ user.username }}</h1>\n",
        "    <div class=\"counts\">\n",
        "        <dl>\n",
        "            <dt>Posts</dt>\n",
        "            <dd>\n",
        "                <a href=\"{% url 'users:profile' user_id=user.id %}\">{{ user.post_set.count }}</a>\n",
        "            </dd>\n",
        "            <dt>Followers</dt>\n",
        "            <dd>\n",
        "                <a href=\"{% url 'users:followers' user_id=user.id %}\">{{ user.followers.count }}</a>\n",
        "            </dd>\n",
        "            <dt>Following</dt>\n",
        "            <dd>\n",
        "                <a href=\"{% url 'users:following' user_id=user.id %}\">{{ user.following.count }}</a>\n",
        "            </dd>\n",
        "        </dl>\n",
        "    </div>\n",
        "..."
      ],
      "metadata": {
        "id": "7Z4UWOnNXQ7B"
      },
      "execution_count": null,
      "outputs": []
    },
    {
      "cell_type": "markdown",
      "source": [
        "### 3.4 팔로우 버튼"
      ],
      "metadata": {
        "id": "2RUxHAAlsaZ_"
      }
    },
    {
      "cell_type": "markdown",
      "source": [
        "#### 3.4.1 팔로우 토글 View"
      ],
      "metadata": {
        "id": "GKICLH8HXSGH"
      }
    },
    {
      "cell_type": "markdown",
      "source": [
        "- View: users/views.py → follow\n",
        "- URL: /users/<int:user_id>/follow/\n",
        "- Template: 없음"
      ],
      "metadata": {
        "id": "Q4ZULRPMXYOy"
      }
    },
    {
      "cell_type": "markdown",
      "source": [
        "- users/views.py"
      ],
      "metadata": {
        "id": "mQ0Kn5aOuNnB"
      }
    },
    {
      "cell_type": "code",
      "source": [
        "from django.http import HttpResponseRedirect\n",
        "from django.urls import reverse\n",
        "...\n",
        "\n",
        "def follow(request, user_id):\n",
        "    # 로그인 한 유저\n",
        "    user = request.user\n",
        "    # 팔로우 하려는 유저\n",
        "    target_user = get_object_or_404(User, id=user_id)\n",
        "\n",
        "    # 팔로우 하려는 유저가 이미 자신의 팔로잉 목록에 있는 경우\n",
        "    if target_user in user.following.all():\n",
        "        # 팔로잉 목록에서 제거\n",
        "        user.following.remove(target_user)\n",
        "\n",
        "    # 팔로우 하려는 유저가 자신의 팔로잉 목록에 없는 경우\n",
        "    else:\n",
        "        # 팔로잉 목록에 추가\n",
        "        user.following.add(target_user)\n",
        "\n",
        "    # 팔로우 토글 후 이동할 URL이 전달되었다면 해당 주소로,\n",
        "    # 전달되지 않았다면 로그인 한 유저의 프로필 페이지로 이동\n",
        "    url_next = request.GET.get(\"next\") or reverse(\"users:profile\", args=[user.id])\n",
        "    return HttpResponseRedirect(url_next)"
      ],
      "metadata": {
        "id": "EzXgbbJlsaaA"
      },
      "execution_count": null,
      "outputs": []
    },
    {
      "cell_type": "markdown",
      "source": [
        "- users/urls.py"
      ],
      "metadata": {
        "id": "2nqcukQ0uek4"
      }
    },
    {
      "cell_type": "code",
      "source": [
        "from users.views import ..., follow\n",
        "...\n",
        "\n",
        "app_name = \"users\"\n",
        "urlpatterns = [\n",
        "    ...\n",
        "    path(\"<int:user_id>/follow/\", follow, name=\"follow\"),\n",
        "]"
      ],
      "metadata": {
        "id": "5YrE7zUQuhBH"
      },
      "execution_count": null,
      "outputs": []
    },
    {
      "cell_type": "markdown",
      "source": [
        "#### 3.4.2 팔로우 버튼 추가"
      ],
      "metadata": {
        "id": "snVVwWL-XiRK"
      }
    },
    {
      "cell_type": "markdown",
      "source": [
        "- templates/posts/post.html"
      ],
      "metadata": {
        "id": "iqXAM4wjurPX"
      }
    },
    {
      "cell_type": "code",
      "source": [
        "<article id=\"post-{{ post.id }}\" class=\"post\">\n",
        "    <header class=\"post-header\">\n",
        "        <a href=\"{% url 'users:profile' user_id=post.user.id %}\">\n",
        "            ...\n",
        "        </a>\n",
        "\n",
        "        <!-- 글의 작성자가 로그인 한 사용자라면 팔로우 버튼을 표시하지 않는다 -->\n",
        "        <!-- (자기 자신을 팔로우 하는것을 방지) -->\n",
        "        {% if user != post.user %}\n",
        "            <form action=\"{% url 'users:follow' user_id=post.user.id %}?next={{ action_redirect_url }}\" method=\"POST\">\n",
        "                {% csrf_token %}\n",
        "                <button type=\"submit\" class=\"btn btn-primary\">\n",
        "                    <!-- 이 Post의 작성자가 이미 자신의 팔로잉 목록에 포함된 경우 -->\n",
        "                    {% if post.user in user.following.all %}\n",
        "                        Unfollow\n",
        "                    <!-- 이 Post의 작성자를 아직 팔로잉 하지 않은 경우 -->\n",
        "                    {% else %}\n",
        "                        Follow\n",
        "                    {% endif %}\n",
        "                </button>\n",
        "            </form>\n",
        "        {% endif %}\n",
        "    </header>\n",
        "..."
      ],
      "metadata": {
        "id": "g8MSU4UurZ4E"
      },
      "execution_count": null,
      "outputs": []
    }
  ]
}