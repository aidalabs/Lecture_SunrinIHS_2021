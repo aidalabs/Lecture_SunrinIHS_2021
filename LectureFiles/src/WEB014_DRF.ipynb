{
  "nbformat": 4,
  "nbformat_minor": 0,
  "metadata": {
    "colab": {
      "provenance": [],
      "toc_visible": true
    },
    "kernelspec": {
      "name": "python3",
      "display_name": "Python 3"
    },
    "language_info": {
      "name": "python"
    }
  },
  "cells": [
    {
      "cell_type": "markdown",
      "source": [
        "# **1. DRF의 기본적인 흐름**"
      ],
      "metadata": {
        "id": "_PAQpT0eA8O2"
      }
    },
    {
      "cell_type": "markdown",
      "source": [
        "## **1.1 REST와 RESTful API**"
      ],
      "metadata": {
        "id": "SFSVfLYZuSey"
      }
    },
    {
      "cell_type": "markdown",
      "source": [
        "### 1.1.1 REST"
      ],
      "metadata": {
        "id": "DM0nrL_615yU"
      }
    },
    {
      "cell_type": "markdown",
      "source": [
        "- 인터넷에서 컴퓨터 또는 시스템 간에 정보를 주고받는 방식의 하나\n",
        "    - 웹 페이지 주소(URL)를 이용하여\n",
        "    - 웹 페이지를 보거나 변경하는 행위(GET, POST 등의 HTTP 메소드)를 통해\n",
        "    - 정보(리소스라고 함)를 쉽게 찾고 사용할 수 있도록 함\n",
        "- 간단히 말해, 인터넷 상에서 정보를 교환하는 규칙의 집합"
      ],
      "metadata": {
        "id": "0HEV2oal1-V2"
      }
    },
    {
      "cell_type": "markdown",
      "source": [
        "### 1.1.2 RESTful API"
      ],
      "metadata": {
        "id": "ufV2ATAe2CIr"
      }
    },
    {
      "cell_type": "markdown",
      "source": [
        "- REST 원칙을 따르는 특정한 웹 서비스 인터페이스\n",
        "- 웹 사이트나 앱이 다른 프로그램과 \"**대화**\"할 수 있는 방법을 제공함\n",
        "    - 사용자는 URL을 통해 특정 정보에 접근하고\n",
        "    - HTTP 메소드를 통해 그 정보를 읽거나 변경할 수 있음\n",
        "        - 예: 소셜 미디어 플랫폼에서 사용자의 프로필 정보를 가져오거나 업데이트하기 위해 RESTful API를 사용"
      ],
      "metadata": {
        "id": "SJwFcQV02HHy"
      }
    },
    {
      "cell_type": "markdown",
      "source": [
        "### 1.1.3 REST / RESTful API의 프로세스 흐름"
      ],
      "metadata": {
        "id": "8UzYGmLO2Q6g"
      }
    },
    {
      "cell_type": "markdown",
      "source": [
        "<br><img src=\"https://github.com/aidalabs/Lectures/blob/main/LectureFiles/images/WEB014_DRF_001.png?raw=true\"><br>"
      ],
      "metadata": {
        "id": "9c60tks8ujDX"
      }
    },
    {
      "cell_type": "markdown",
      "source": [
        "---"
      ],
      "metadata": {
        "id": "cMC3YXUdRv6s"
      }
    },
    {
      "cell_type": "markdown",
      "source": [
        "## **1.2 Django 와 Django REST Framework**\n"
      ],
      "metadata": {
        "id": "KILVbIfeA8K-"
      }
    },
    {
      "cell_type": "markdown",
      "source": [
        "### 1.2.1 Django"
      ],
      "metadata": {
        "id": "euDztcgs2lKe"
      }
    },
    {
      "cell_type": "markdown",
      "source": [
        "- 파이썬을 기반으로 한 웹 애플리케이션의 개발을 위한 프레임워크\n",
        "- 웹 애플리케이션 전반을 개발하기 위해 필요한 도구와 기능을 제공\n",
        "<br><br>\n",
        "- 사용 영역\n",
        "    - 웹 애플리케이션의 전체 백엔드를 구축하는 데 중점을 두고 있음\n",
        "    - 웹 사이트나 웹 애플리케이션 전체를 만들고 싶다면 Django를 사용\n",
        "    - 즉, **종합적인 웹 개발 솔루션을 제공**하는 프레임워크\n",
        "- 기능\n",
        "    - ORM(Object-Relational Mapping): 데이터베이스와 상호작용을 쉽게 만들어줌\n",
        "    - 템플릿 엔진: HTML 파일을 동적으로 생성하는 데 사용\n",
        "    - 폼 처리: 사용자 입력을 처리하고 검증하는 데 도움\n",
        "    - 보안 기능: XSS, CSRF 등의 보안 취약점을 기본적으로 방지\n",
        "    - URL 라우팅: URL과 뷰를 매핑하여 사용자의 요청을 처리\n",
        "    - 인증 및 권한 부여: 사용자 관리와 권한 설정\n",
        "    - 기타 관리 인터페이스 제공 등"
      ],
      "metadata": {
        "id": "UJ7MbWbN2k6j"
      }
    },
    {
      "cell_type": "markdown",
      "source": [
        "### 1.2.2 Django REST Framework(DRF)"
      ],
      "metadata": {
        "id": "VTDnUUPq2kw5"
      }
    },
    {
      "cell_type": "markdown",
      "source": [
        "- DRF는 Django 위에서 동작하는 라이브러리임\n",
        "- 주로 RESTful API를 만들기 위해 사용됨\n",
        "<br><br>\n",
        "- 사용 영역\n",
        "    - DRF는 Django로 만들어진 백엔드 위에서 추가적으로 RESTful API를 쉽게 만들 수 있도록 도와주는 라이브러리라고 볼 수 있음\n",
        "    - 다른 시스템, 애플리케이션 또는 서비스와 통신할 수 있는 API가 필요하다면 DRF를 활용\n",
        "    - 즉 **종합적인 웹 개발 솔루션에 API 기능을 추가**해주는 라이브러리\n",
        "- 기능\n",
        "    - Django로 개발된 사용자 인증, 관리 인터페이스, 폼 처리 등의 기능 위에서\n",
        "    - API 생성, 요청 처리, 권한 관리, 데이터 직렬화 등 API 개발에 필요한 추가 기능을 제공함\n",
        "    <br><br>\n",
        "    - Serializers: Django 모델을 JSON, XML 등으로 변환하고, 역변환할 수 있음\n",
        "\t- ViewSets: 표준화된 CRUD 작업을 쉽게 수행할 수 있게 도와줌\n",
        "\t- Routers: ViewSets와 URL을 자동으로 매핑\n",
        "\t- Auth: 다양한 인증 방법을 지원 (Token, OAuth 등)\n",
        "\t- Pagination: API 응답을 페이지 단위로 나눌 수 있음\n",
        "\t- Filtering: API 결과를 필터링하고 검색할 수 있는 기능을 제공\n"
      ],
      "metadata": {
        "id": "G3wKZfAjA8Hm"
      }
    },
    {
      "cell_type": "markdown",
      "source": [
        "---"
      ],
      "metadata": {
        "id": "VPdM4FrdRyQ1"
      }
    },
    {
      "cell_type": "markdown",
      "source": [
        "## **1.3 MVT(Model-View-Template) 패턴의 비교**"
      ],
      "metadata": {
        "id": "2wor02u6A8EM"
      }
    },
    {
      "cell_type": "markdown",
      "source": [
        "### 1.3.1 Django와 DRF의 구조적 차이"
      ],
      "metadata": {
        "id": "b66K79eM246k"
      }
    },
    {
      "cell_type": "markdown",
      "source": [
        "- Model\n",
        "    - Django와 DRF가 동일함\n",
        "- View\n",
        "    - DRF에서는 ViewSet으로 확장됨\n",
        "- Template\n",
        "    - DRF에서는 Serializer로 대체됨\n",
        "    "
      ],
      "metadata": {
        "id": "XRzrJW-73AYP"
      }
    },
    {
      "cell_type": "markdown",
      "source": [
        "### 1.3.2 Model"
      ],
      "metadata": {
        "id": "NAeN9a8a3bIU"
      }
    },
    {
      "cell_type": "markdown",
      "source": [
        "- Django와 DRF에서의 역할이 동일함\n",
        "    - 데이터베이스의 구조(스키마)를 정의\n",
        "    - 데이터의 형태와 관계를 설정\n",
        "    - 데이터베이스와의 상호작용을 담당"
      ],
      "metadata": {
        "id": "LP14UMh23dl2"
      }
    },
    {
      "cell_type": "markdown",
      "source": [
        "### 1.3.3 View와 ViewSet"
      ],
      "metadata": {
        "id": "RTIBEdwf3lv4"
      }
    },
    {
      "cell_type": "markdown",
      "source": [
        "- View의 역할\n",
        "    - 사용자에게 데이터를 어떻게 보여줄지 결정\n",
        "    - API 엔드포인트를 정의하고 HTTP 요청을 처리하는 역할\n",
        "    - 컨트롤러 역할도 겸하므로, 모델에서 데이터를 가져오고, 그 데이터를 템플릿에 전달함\n",
        "    <br><br>\n",
        "- View의 구현 방식\n",
        "    - **일반적인 View 클래스(APIView)**\n",
        "        - 기본적인 뷰 클래스\n",
        "            - DRF에서 가장 기본적인 뷰 클래스\n",
        "        - 하나의 URL에 하나의 뷰\n",
        "            - 각 APIView는 특정 URL에 매핑되어 하나의 작업만 수행함\n",
        "        - HTTP 메서드별로 함수 정의\n",
        "            - get(), post(), put(), delete() 등의 HTTP 메서드에 해당하는 함수를 직접 정의하여 요청을 처리함\n",
        "        - 유연성\n",
        "            - 다양한 커스터마이징이 가능하지만, 반복적인 코드가 많아질 수 있음\n",
        "            <br><br>\n",
        "    - **ViewSet**\n",
        "        - 관련된 뷰들을 하나의 클래스로 묶음\n",
        "            - 여러 개의 관련된 뷰(list, retrieve, create, update, partial_update, destroy)를 하나의 ViewSet 클래스로 묶어 관리함\n",
        "        - Router를 통한 URL 자동 생성\n",
        "            - Router를 사용하여 ViewSet의 메서드와 URL을 자동으로 매핑함\n",
        "        - DRY 원칙\n",
        "            - 반복되는 코드를 줄이고 코드를 더욱 간결하게 만들 수 있음\n",
        "        - RESTful API 설계에 적합\n",
        "            - RESTful API의 표준적인 CRUD(Create, Read, Update, Delete) 작업을 쉽게 구현할 수 있음\n",
        "    <br><br>\n",
        "\n",
        "- View와 ViewSet 비교\n",
        "\n",
        "| 특징      | APIView                        | ViewSet                                             |\n",
        "|-----------|--------------------------------|-----------------------------------------------------|\n",
        "| 목적      | 단일 엔드포인트 처리           | 관련된 여러 엔드포인트 처리                         |\n",
        "| URL 매핑  | 직접 URL 패턴 작성             | Router를 통한 자동 매핑                             |\n",
        "| 코드 구성 | HTTP 메서드별 함수 정의        | CRUD 작업에 대한 메서드 정의                        |\n",
        "| 장점      | 유연성, 커스터마이징           | 코드 간결화, DRY 원칙 준수, RESTful API 설계에 적합 |\n",
        "| 단점      | 반복적인 코드, URL 관리 어려움 | 복잡한 로직 구현 시 어려울 수 있음                  |\n",
        "\n",
        "<br><br>\n",
        "- 어떤 것을 사용해야 할까?\n",
        "    - 간단한 API, 커스터마이징이 필요한 경우: APIView 사용\n",
        "    - 복잡한 API, 많은 엔드포인트, RESTful API 설계를 원하는 경우: ViewSet 사용\n",
        "    <br><br>\n",
        "    - 일반적으로 ViewSet을 사용하는 것이 더 효율적이고 권장됨\n",
        "    <br><br>\n",
        "    - ViewSet\n",
        "        - Router를 사용하여 URL을 자동으로 생성\n",
        "        - CRUD 작업을 위한 메서드를 제공하여 개발 생산성을 높여줌\n",
        "    - APIView\n",
        "        - 매우 복잡한 로직이나 특수한 경우에는 APIView를 사용하여 더욱 세밀하게 제어할 수 있음\n",
        "    <br><br>\n",
        "    - 결론적으로\n",
        "        - ViewSet\n",
        "            - DRF에서 API를 개발할 때 가장 많이 사용되는 방법\n",
        "            - RESTful API를 효율적으로 구축하는 데 큰 도움이 됨\n",
        "        - 그러나\n",
        "            - 프로젝트의 특성과 개발자의 선호도에 따라 APIView를 사용할 수도 있음\n",
        "<br><br>\n",
        "- Django와 DRF 비교\n",
        "    - Django\n",
        "        - HTTP 요청을 받아 처리하고\n",
        "        - 템플릿에 데이터를 전달하여 HTML 응답을 생성함\n",
        "    - DRF (→ ViewSet)\n",
        "        - HTTP 요청을 받아 처리하고\n",
        "        - Serializer를 사용하여 데이터를 변환한 후, HTTP 응답을 생성"
      ],
      "metadata": {
        "id": "vfSXLA-X_iPS"
      }
    },
    {
      "cell_type": "markdown",
      "source": [
        "### 1.3.4 Templates와 Serializers"
      ],
      "metadata": {
        "id": "-3-1ikjO_xNg"
      }
    },
    {
      "cell_type": "markdown",
      "source": [
        "- Tempalte의 역할\n",
        "    - 실제로 사용자에게 보여지는 부분\n",
        "    <br><br>\n",
        "    - Django\n",
        "        - 실제로 사용자에게 보여지는 부분\n",
        "        - 클라이언트에게 HTML 형태로 응답을 전달하기 위해 템플릿을 사용함\n",
        "    - DRF (→ Serializer)\n",
        "        - API는 주로 JSON, XML과 같은 데이터 형식으로 응답하기 때문에\n",
        "        - 템플릿 대신 Serializer를 사용하여 모델 인스턴스를 JSON 또는 다른 형식으로 변환함\n",
        "\n",
        "    <br><br>\n",
        "\n",
        "- Templates와 Serializers 비교\n",
        "    - 공통점\n",
        "        - 데이터를 특정 형식으로 변환하는 역할을 수행\n",
        "        - 기능에 대한 사용자 정의가 가능하므로 원하는 형식으로 데이터를 변환하고 표현할 수 있음\n",
        "    <br><br>\n",
        "    - 차이점\n",
        "        - 목적\n",
        "            - Templates\n",
        "                - 웹 페이지를 렌더링하기 위한 데이터 변환을 담당\n",
        "                - 주로 HTML 포맷으로 데이터를 변환\n",
        "            - Serializers\n",
        "                - API 응답과 요청을 처리하기 위한 데이터 변환을 담당\n",
        "                - 주로 JSON, XML 등의 포맷으로 데이터를 변환\n",
        "        - 사용 방식\n",
        "            - Templates\n",
        "                - 데이터와 템플릿 언어를 사용하여 HTML 문서를 생성\n",
        "                - 주로 웹 페이지의 프론트엔드를 구성함\n",
        "            - Serializers\n",
        "                - 데이터 검증, 변환, 저장을 포함한 작업을 담당\n",
        "                - 입력 데이터를 검증하고, 유효한 경우 Django 모델 인스턴스로 변환하여 저장\n",
        "        - 위치\n",
        "            - Templates: 주로 templates 디렉토리에 HTML 파일로 정의됨\n",
        "            - Serializers: 주로 serializers.py 파일에 정의됨\n",
        "\n",
        "    <br><br>\n",
        "\n",
        "- Templates와 Serializers의 사용 시 특징\n",
        "    - Templates\n",
        "        - 템플릿 태그: Django 템플릿 언어를 사용하여 동적 컨텐츠를 생성할 수 있음\n",
        "        - 확장 가능성: 템플릿 상속을 통해 코드 재사용이 가능함\n",
        "        - 커스터마이징: 템플릿 필터와 태그를 정의하여 유연한 데이터 표현이 가능함\n",
        "\n",
        "    - Serializers\n",
        "        - 검증 기능: 입력 데이터의 유효성을 검증할 수 있음\n",
        "        - 다양한 필드 타입: 문자열, 숫자, 날짜 등 다양한 필드 타입을 제공\n",
        "        - 중첩 Serializer: 다른 Serializer를 포함하여 복잡한 데이터 구조를 처리할 수 있음\n",
        "\n",
        "    <br><br>\n",
        "\n",
        "- Templates와 Serializers의 사용 시 주의할 점\n",
        "    - Templates\n",
        "        - 보안: 사용자 입력을 직접 출력할 때, XSS 공격을 방지하기 위한 보안 필터를 사용해야 함\n",
        "        - 성능: 복잡한 템플릿 로직은 렌더링 성능에 영향을 미칠 수 있음\n",
        "\n",
        "    - Serializers\n",
        "        - 정확한 필드 정의: 모델과 일치하는 필드 정의가 필요함\n",
        "        - 검증 로직: 복잡한 검증 로직이 필요한 경우, 추가 코드 작성이 필요할 수 있음\n",
        "\n"
      ],
      "metadata": {
        "id": "_TgtKsQhzItT"
      }
    },
    {
      "cell_type": "markdown",
      "source": [
        "---"
      ],
      "metadata": {
        "id": "5Enx5XbVR4Ac"
      }
    },
    {
      "cell_type": "markdown",
      "source": [
        "## **1.4 Django와 DRF의 프로세스 비교**"
      ],
      "metadata": {
        "id": "RJAKP3zqALN9"
      }
    },
    {
      "cell_type": "markdown",
      "source": [
        "### 1.4.1 Django의 프로세스 흐름 (MVT 패턴)"
      ],
      "metadata": {
        "id": "E87dGSGKAaIP"
      }
    },
    {
      "cell_type": "markdown",
      "source": [
        "1. 요청 (Request): 사용자가 브라우저를 통해 특정 URL을 요청함\n",
        "2. URL 분해: 들어온 URL을 분석하여 어떤 뷰 함수를 호출해야 할지 결정\n",
        "3. 뷰 함수 실행: 해당 뷰 함수가 실행되면서 모델에서 필요한 데이터를 가져옴\n",
        "4. 템플릿 렌더링: 뷰 함수에서 얻은 데이터를 템플릿에 전달하여 HTML 코드를 생성\n",
        "5. 응답 (Response): 생성된 HTML 코드를 클라이언트에게 전달\n",
        "<br><br>\n",
        "- 핵심\n",
        "    - Django는 주로 웹 페이지를 렌더링하여 사용자에게 보여주는 데 초점을 맞추고 있음"
      ],
      "metadata": {
        "id": "T3PRJCxTASiA"
      }
    },
    {
      "cell_type": "markdown",
      "source": [
        "### 1.4.2 DRF의 프로세스 흐름"
      ],
      "metadata": {
        "id": "WhBDFLK2AdxJ"
      }
    },
    {
      "cell_type": "markdown",
      "source": [
        "1. 요청 (Request): 클라이언트(보통 다른 프로그램이나 API를 호출하는 코드)에서 HTTP 요청을 보냄\n",
        "2. URL 분해: 들어온 URL을 분석하여 어떤 ViewSet을 호출해야 할지 결정\n",
        "3. ViewSet 실행: 해당 ViewSet이 실행되면서 Serializer를 통해 데이터를 직렬화하거나 역직렬화\n",
        "4. 응답 (Response): 직렬화된 데이터를 HTTP 응답으로 클라이언트에게 전달\n",
        "<br><br>\n",
        "- 핵심\n",
        "    - DRF는 데이터를 JSON, XML 등의 형태로 주고받는 API 개발에 특화되어 있음\n",
        "    - 템플릿 렌더링 대신 Serializer를 사용하여 데이터를 변환함"
      ],
      "metadata": {
        "id": "LNaPMdS7A9rq"
      }
    },
    {
      "cell_type": "markdown",
      "source": [
        "---"
      ],
      "metadata": {
        "id": "rk4byR0RZSUg"
      }
    },
    {
      "cell_type": "markdown",
      "source": [
        "## **1.5 DRF의 개발 프로세스(상세)**"
      ],
      "metadata": {
        "id": "pbm4XT6WZHaN"
      }
    },
    {
      "cell_type": "markdown",
      "source": [
        "1. 프로젝트 설정\n",
        "    - 가상환경 생성 및 활성화\n",
        "        - 프로젝트 격리를 위한 가상환경의 생성 및 활성화\n",
        "\n",
        "        ```\n",
        "        python -m venv myenv\n",
        "        source myenv/bin/activate\n",
        "        # Windows에서는 myenv\\Scripts\\activate\n",
        "        ```\n",
        "\n",
        "    - Django 및 DRF 설치\n",
        "        - Django와 Django REST Framework 설치\n",
        "\n",
        "        ```\n",
        "        pip install django djangorestframework\n",
        "        ```\n",
        "\n",
        "    - Django 프로젝트 생성\n",
        "        - 새로운 Django 프로젝트를 생성\n",
        "\n",
        "        ```\n",
        "        django-admin startproject myproject\n",
        "        ```\n",
        "<br>\n",
        "\n",
        "2. 앱 생성\n",
        "    - Django 앱 생성\n",
        "        - 프로젝트 내에 새로운 앱 생성\n",
        "\n",
        "        ```\n",
        "        python manage.py startapp myapp\n",
        "        ```\n",
        "    - 앱 등록\n",
        "        - settings.py 파일에 앱 등록\n",
        "\n",
        "        ```\n",
        "        INSTALLED_APPS = [\n",
        "            ...\n",
        "            'myapp',\n",
        "            'rest_framework',\n",
        "        ]\n",
        "        ```\n",
        "<br>\n",
        "\n",
        "3. 모델 정의\n",
        "    - 모델 작성\n",
        "        - models.py 파일에 필요한 데이터 모델 정의\n",
        "\n",
        "        ```\n",
        "        from django.db import models\n",
        "\n",
        "        class Item(models.Model):\n",
        "            name = models.CharField(max_length=100)\n",
        "            description = models.TextField()\n",
        "            created_at = models.DateTimeField(auto_now_add=True)\n",
        "        ```\n",
        "<br>\n",
        "\n",
        "4. 데이터베이스 마이그레이션\n",
        "    - 마이그레이션 생성 및 적용\n",
        "        - 데이터베이스에 모델을 반영\n",
        "\n",
        "        ```\n",
        "        python manage.py makemigrations\n",
        "        python manage.py migrate\n",
        "        ```\n",
        "<br>\n",
        "\n",
        "5. Serializer 작성\n",
        "    - Serializer 정의\n",
        "        - serializers.py 파일을 생성\n",
        "        - 모델을 변환할 Serializer 정의\n",
        "\n",
        "        ```\n",
        "        from rest_framework import serializers\n",
        "        from .models import Item\n",
        "\n",
        "        class ItemSerializer(serializers.ModelSerializer):\n",
        "            class Meta:\n",
        "                model = Item\n",
        "                fields = '__all__'\n",
        "        ```\n",
        "<br>\n",
        "\n",
        "6. ViewSet 및 URL 작성\n",
        "    - ViewSet 정의\n",
        "        - views.py 파일에 API 동작 정의\n",
        "\n",
        "        ```\n",
        "        from rest_framework import viewsets\n",
        "        from .models import Item\n",
        "        from .serializers import ItemSerializer\n",
        "\n",
        "        class ItemViewSet(viewsets.ModelViewSet):\n",
        "            queryset = Item.objects.all()\n",
        "            serializer_class = ItemSerializer\n",
        "        ```\n",
        "    - URL 라우팅\n",
        "        - urls.py 파일에 API 엔드포인트 설정\n",
        "\n",
        "        ```\n",
        "        from django.urls import path, include\n",
        "        from rest_framework.routers import DefaultRouter\n",
        "        from .views import ItemViewSet\n",
        "\n",
        "        router = DefaultRouter()\n",
        "        router.register(r'items', ItemViewSet)\n",
        "\n",
        "        urlpatterns = [\n",
        "            path('', include(router.urls)),\n",
        "        ]\n",
        "        ```\n",
        "<br>\n",
        "\n",
        "7. 인증 및 권한 설정\n",
        "    - 권한 설정\n",
        "        - settings.py 파일에서 기본 권한 설정\n",
        "\n",
        "        ```\n",
        "        REST_FRAMEWORK = {\n",
        "            'DEFAULT_PERMISSION_CLASSES': [\n",
        "                'rest_framework.permissions.IsAuthenticated',\n",
        "            ]\n",
        "        }\n",
        "        ```\n",
        "<br>\n",
        "\n",
        "8. 테스트 작성\n",
        "    - 테스트 작성\n",
        "        - tests.py 파일에 API 테스트 작성\n",
        "\n",
        "        ```\n",
        "        from rest_framework.test import APITestCase\n",
        "        from .models import Item\n",
        "\n",
        "        class ItemTests(APITestCase):\n",
        "            def test_create_item(self):\n",
        "                url = '/items/'\n",
        "                data = {'name': 'Test Item', 'description': 'This is a test item'}\n",
        "                response = self.client.post(url, data, format='json')\n",
        "                self.assertEqual(response.status_code, 201)\n",
        "        ```\n",
        "<br>\n",
        "\n",
        "9. API 문서화\n",
        "    - Swagger 설정\n",
        "        - drf-yasg 패키지를 사용하여 Swagger 문서화 설정\n",
        "\n",
        "        ```\n",
        "        pip install drf-yasg\n",
        "        ```\n",
        "    - Swagger 설정 추가\n",
        "        - urls.py 파일에 Swagger 설정 추가\n",
        "\n",
        "        ```\n",
        "        from rest_framework import permissions\n",
        "        from drf_yasg.views import get_schema_view\n",
        "        from drf_yasg import openapi\n",
        "\n",
        "        schema_view = get_schema_view(\n",
        "            openapi.Info(\n",
        "                title=\"API\",\n",
        "                default_version='v1',\n",
        "                description=\"API 문서화\",\n",
        "            ),\n",
        "            public=True,\n",
        "            permission_classes=(permissions.AllowAny,),\n",
        "        )\n",
        "\n",
        "        urlpatterns = [\n",
        "            path('swagger/', schema_view.with_ui('swagger', cache_timeout=0), name='schema-swagger-ui'),\n",
        "            ...\n",
        "        ]\n",
        "        ```\n",
        "<br>\n",
        "\n",
        "10. 배포\n",
        "    - 서버 설정\n",
        "        - 프로덕션 환경에서는 gunicorn과 Nginx를 사용해 서버를 설정함\n",
        "\n",
        "        ```\n",
        "        pip install gunicorn\n",
        "        ```\n",
        "    - Gunicorn 실행\n",
        "\n",
        "        ```\n",
        "        gunicorn myproject.wsgi\n",
        "        ```\n"
      ],
      "metadata": {
        "id": "7na78hpcZWC4"
      }
    },
    {
      "cell_type": "markdown",
      "source": [
        "---"
      ],
      "metadata": {
        "id": "CmsKt6iyZUyW"
      }
    },
    {
      "cell_type": "markdown",
      "source": [
        "## **1.6 언제 어떤 프레임워크를 사용해야 할까?**"
      ],
      "metadata": {
        "id": "6QhZ6kb5BusZ"
      }
    },
    {
      "cell_type": "markdown",
      "source": [
        "- Django\n",
        "    - 웹 사이트, 웹 애플리케이션 개발 시 사용\n",
        "    - 사용자에게 직접 보여줄 웹 페이지를 만들 때 적합함\n",
        "    - 예: 블로그, 온라인 쇼핑몰, CMS 등\n",
        "- DRF\n",
        "    - API 개발 시 사용\n",
        "    - 다른 프로그램이나 모바일 앱에서 사용할 데이터를 제공하는 API를 만들 때 적합함\n",
        "    - 예: 모바일 앱 백엔드, IoT 데이터 수집 시스템, 다른 서비스와의 연동 API 등"
      ],
      "metadata": {
        "id": "3r8X_Nj9BxC2"
      }
    },
    {
      "cell_type": "markdown",
      "source": [
        "# **2. 자주 하게되는 Q & A**"
      ],
      "metadata": {
        "id": "bnyxfmk7A8Aa"
      }
    },
    {
      "cell_type": "markdown",
      "source": [
        "## 2.1 CBV(Class based View)와 FBV(Function based View)는 어떻게 다르며 어떨때 사용하는가?"
      ],
      "metadata": {
        "id": "Jt7eDK5xA76r"
      }
    },
    {
      "cell_type": "markdown",
      "source": [
        "### 2.1.1 CBV와 FBV의 차이"
      ],
      "metadata": {
        "id": "y4LkzjRxA7gb"
      }
    },
    {
      "cell_type": "markdown",
      "source": [
        "- CBV (Class-Based View)\n",
        "    - CBV는 클래스로 정의됨\n",
        "    - 뷰를 계층적으로 구성하고 상속을 통해 재사용성을 높일 수 있음\n",
        "    - 복잡한 로직이나 다양한 기능이 필요할 때 유용함\n",
        "\n",
        "- FBV (Function-Based View)\n",
        "    - FBV는 함수로 정의됨\n",
        "    - 직관적이고 간단하게 사용할 수 있음\n",
        "    - 단일 기능을 수행할 때 유용함\n",
        "\n"
      ],
      "metadata": {
        "id": "B2ux0ZzYCA1h"
      }
    },
    {
      "cell_type": "markdown",
      "source": [
        "### 2.1.2 CBV와 FBV 선택 기준"
      ],
      "metadata": {
        "id": "QLODQOWDBnL5"
      }
    },
    {
      "cell_type": "markdown",
      "source": [
        "#### 2.1.2.1 대표적/일반적인 선택 기준"
      ],
      "metadata": {
        "id": "aSVJFPmxB6Sm"
      }
    },
    {
      "cell_type": "markdown",
      "source": [
        "- 프로젝트의 특성\n",
        "- 개발자의 선호도"
      ],
      "metadata": {
        "id": "hId3CfS_Bpdb"
      }
    },
    {
      "cell_type": "markdown",
      "source": [
        "#### 2.1.2.2 프로젝트의 특성"
      ],
      "metadata": {
        "id": "VEDqfZHNE32y"
      }
    },
    {
      "cell_type": "markdown",
      "source": [
        "- **CBV(Class Based View)를 선택하는 경우**\n",
        "    - 복잡한 로직 구현\n",
        "        - 여러 개의 HTTP 메서드를 처리하거나, 복잡한 비즈니스 로직을 구현해야 할 때\n",
        "            - CBV는 클래스의 메서드를 활용하여 코드를 모듈화하고 재사용성을 높일 수 있음\n",
        "            - Mixin을 활용하여 기능을 재사용하고, 코드의 가독성을 높일 수 있음\n",
        "    - 객체 지향적인 개발\n",
        "        - Django 모델과의 상호 작용, 데이터 유효성 검사 등 객체 지향적인 특성을 활용하고 싶을 때\n",
        "    - DRF의 고급 기능 활용\n",
        "        - DRF에서 제공하는 GenericAPIView, ViewSet 등 고급 기능들을 활용하여 REST API를 빠르게 개발하고 싶을 때 CBV를 사용하면 조금 더 편리함\n",
        "    - 팀 협업 시 팀원들이 객체 지향 프로그래밍에 익숙할때\n",
        "        - 객체 지향 프로그래밍에 익숙하다면 CBV를 사용하여 코드 스타일을 통일하고 유지보수성을 높일 수 있음\n",
        "<br><br>\n",
        "- **FBV(Function Based View)를 선택하는 경우**\n",
        "    - 간단한 로직 구현\n",
        "        - 단순한 CRUD 작업이나, 간단한 로직을 구현해야 할 때 FBV는 더 직관적이고 간결하게 코드를 작성할 수 있음\n",
        "    - 기존 Django 프로젝트와의 호환성\n",
        "        - 기존 Django 프로젝트에서 FBV를 사용하고 있다면, 일관성을 위해 계속 FBV를 사용하는 것이 좋음\n",
        "    - 학습 부담 감소\n",
        "        - 객체 지향 프로그래밍에 익숙하지 않은 개발자라면 FBV를 사용하여 더 빠르게 학습하고 개발을 시작할 수 있음\n",
        "<br><br>\n",
        "- **선택 시 고려해야 할 요소**\n",
        "    - 프로젝트 규모:\n",
        "        - 대규모 프로젝트에서는 CBV를 사용하여 코드의 복잡성을 관리하고 유지보수성을 높이는 것이 좋음\n",
        "    - 팀원들의 역량:\n",
        "        - 팀원들의 객체 지향 프로그래밍 숙련도에 따라 CBV 또는 FBV를 선택\n",
        "    - 미래 확장성:\n",
        "        프로젝트의 미래 확장성을 고려하여 CBV를 선택하면 더 유연하게 기능을 추가하고 변경할 수 있음"
      ],
      "metadata": {
        "id": "E_yOqUdfCGXc"
      }
    },
    {
      "cell_type": "markdown",
      "source": [
        "- **정리**\n",
        "    - CBV와 FBV는 각각 장단점이 있으며,\n",
        "    - 어떤 방식을 선택하는지는 프로젝트의 특성과 개발팀의 상황에 따라 달라짐\n",
        "    - 일반적으로 복잡한 로직을 구현하거나, 객체 지향적인 개발을 선호한다면 CBV를 선택하는 것이 좋고\n",
        "    - 간단한 로직을 구현하거나, 기존 Django 프로젝트와의 호환성을 유지해야 한다면 FBV를 선택하는 것이 좋음\n",
        "<br><br>\n",
        "- 핵심은 **프로젝트에 가장 적합한 방식을 선택**하여 **개발 생산성을 높이고**, **코드의 품질을 향상**시키는 것"
      ],
      "metadata": {
        "id": "NiyfNoThDfXP"
      }
    },
    {
      "cell_type": "markdown",
      "source": [
        "#### 2.1.2.3 추가적으로 고려할 사항"
      ],
      "metadata": {
        "id": "Y77UCmWtEN3i"
      }
    },
    {
      "cell_type": "markdown",
      "source": [
        "- DRF 버전: DRF 버전에 따라 CBV와 FBV의 사용법이나 제공되는 기능이 다를 수 있음\n",
        "- 개인의 선호도: 개발자 개인의 코드 스타일이나 선호도에 따라 CBV 또는 FBV를 선택할 수 있음\n",
        "- 팀 규약: 팀에서 특정 방식을 정해 사용하고 있다면, 팀 규약에 따라야 함"
      ],
      "metadata": {
        "id": "ouci2kMOENRz"
      }
    },
    {
      "cell_type": "markdown",
      "source": [
        "#### 2.1.2.4 선택의 예시"
      ],
      "metadata": {
        "id": "KFAoolNPEew8"
      }
    },
    {
      "cell_type": "markdown",
      "source": [
        "- CBV 예시\n",
        "    - GenericAPIView를 상속받아 간단한 목록 조회 API를 구현\n",
        "- FBV 예시\n",
        "    - @api_view 데코레이터를 사용하여 간단한 게시글 생성 API를 구현"
      ],
      "metadata": {
        "id": "kP1bLa9wEd6i"
      }
    },
    {
      "cell_type": "markdown",
      "source": [
        "### 2.2 Django의 내장 ORM을 사용할 것인가, 아니면 SQLAlchemy를 통합할 것인가?"
      ],
      "metadata": {
        "id": "GafWw1P5hy6l"
      }
    },
    {
      "cell_type": "markdown",
      "source": [
        "#### 2.2.1 ORM(Object Relational Mapping, 객체-관계 매핑)"
      ],
      "metadata": {
        "id": "mcB_55KXFRBG"
      }
    },
    {
      "cell_type": "markdown",
      "source": [
        "- ORM (Object Relational Mapping)\n",
        "    - 객체 지향 프로그래밍 언어에서 객체와 관계형 데이터베이스 간의 데이터를 변환하는 기술\n",
        "    - 코드에서 사용하는 객체를 데이터베이스의 테이블과 매핑시켜 데이터베이스 연산을 더 쉽게 할 수 있게 해줌\n",
        "\n",
        "- 장점\n",
        "    - 데이터베이스와 상호작용하는 코드를 줄여줌\n",
        "    - 데이터베이스 쿼리를 직접 작성하지 않아도 됨\n",
        "    - 객체 지향 패러다임을 유지하면서 데이터베이스 작업을 할 수 있음\n",
        "\n",
        "- 단점\n",
        "    - 복잡한 쿼리 작성 시 오버헤드가 발생할 수 있음\n",
        "    - 데이터베이스 최적화를 고려하지 않을 경우 성능 저하가 발생할 수 있음\n",
        "\n",
        "- 대표적인 ORM 도구\n",
        "    - Django의 ORM\n",
        "    - SQLAlchemy\n",
        "    - Hibernate 등"
      ],
      "metadata": {
        "id": "5EdlulaKFcvp"
      }
    },
    {
      "cell_type": "markdown",
      "source": [
        "#### 2.2.2 SQLAlchemy"
      ],
      "metadata": {
        "id": "55gLX0wZJXrs"
      }
    },
    {
      "cell_type": "markdown",
      "source": [
        "- SQLAlchemy\n",
        "    - 파이썬 언어를 위한 SQL 도구\n",
        "    - 복잡한 데이터베이스 작업을 더 쉽게 할 수 있도록 도와주는 ORM(Object Relational Mapper)과 SQL 도구 세트를 제공함\n",
        "\n",
        "- 주요 기능\n",
        "    - ORM\n",
        "        - 객체를 사용하여 데이터베이스 작업을 수행할 수 있음\n",
        "        - 코드가 더 직관적이고 읽기 쉬워짐\n",
        "    - SQL 표현식 언어\n",
        "        - SQL 쿼리를 파이썬 객체를 사용해 작성할 수 있음\n",
        "        - 고급 쿼리를 더 쉽게 만들 수 있음\n",
        "    - 데이터베이스 독립성\n",
        "        - 다양한 데이터베이스와 호환됨\n",
        "        - 코드 변경 없이 데이터베이스를 전환할 수 있음\n",
        "\n",
        "- 예: SQLAlchemy를 사용하면 다음과 같은 코드로 데이터베이스에 접근할 수 있음\n",
        "\n",
        "    ```\n",
        "    from sqlalchemy import create_engine, Column, Integer, String\n",
        "    from sqlalchemy.ext.declarative import declarative_base\n",
        "    from sqlalchemy.orm import sessionmaker\n",
        "\n",
        "    engine = create_engine('sqlite:///example.db')\n",
        "    Base = declarative_base()\n",
        "\n",
        "    class User(Base):\n",
        "        __tablename__ = 'users'\n",
        "        id = Column(Integer, primary_key=True)\n",
        "        name = Column(String)\n",
        "\n",
        "    Base.metadata.create_all(engine)\n",
        "    Session = sessionmaker(bind=engine)\n",
        "    session = Session()\n",
        "\n",
        "    new_user = User(name='Alice')\n",
        "    session.add(new_user)\n",
        "    session.commit()\n",
        "    ```"
      ],
      "metadata": {
        "id": "quqDFDivJbjd"
      }
    },
    {
      "cell_type": "markdown",
      "source": [
        "#### 2.2.3 선택을 요구받는 원인과 그 대응"
      ],
      "metadata": {
        "id": "QeArz2N4D-bW"
      }
    },
    {
      "cell_type": "markdown",
      "source": [
        "- 선택의 원인\n",
        "    - Django ORM은 Django와 완벽하게 통합되어 있어 사용하기 쉽지만, 특정 고급 기능에서는 SQLAlchemy가 더 강력한 경우가 있음\n",
        "    - 복잡한 데이터베이스 작업을 처리할 때 이러한 선택을 요구하게 됨\n",
        "- 대응\n",
        "    - 대부분의 경우 Django ORM이 충분히 강력하고 사용하기 쉬움\n",
        "    - 그러나 고급 데이터베이스 작업이 필요하다면 SQLAlchemy를 고려해 볼 수 있음\n",
        "    - 두 ORM 모두 사용 가능한 경우가 있으므로, 장단점을 비교해보고 결정할 필요가 있음"
      ],
      "metadata": {
        "id": "aUREqA1OjAF-"
      }
    },
    {
      "cell_type": "markdown",
      "source": [
        "### 2.3 Django의 Forms를 사용할 것인가, 아니면 DRF의 Serializers를 사용할 것인가?"
      ],
      "metadata": {
        "id": "uxQ2rIeWiTCY"
      }
    },
    {
      "cell_type": "markdown",
      "source": [
        "#### 2.3.1 선택을 요구받는 원인과 그 대응"
      ],
      "metadata": {
        "id": "L9s4egC0D9HZ"
      }
    },
    {
      "cell_type": "markdown",
      "source": [
        "- 선택의 원인\n",
        "    - Form은 주로 사용자 입력을 다루고, Serializers는 API 데이터를 처리함\n",
        "    - 프로젝트에 따라 어떤 것을 사용할지 고민할 수 있음\n",
        "- 대응\n",
        "    - 사용자 입력이 주요 기능이라면 Form을, API 통신이 주요 기능이라면 Serializers를 사용함\n",
        "    - 두 가지 기능이 모두 필요한 경우, 각각의 강점을 활용하여 배치할 수 있음"
      ],
      "metadata": {
        "id": "P-zl5Q6-jmW2"
      }
    },
    {
      "cell_type": "markdown",
      "source": [
        "### 2.4 Django의 템플릿 엔진을 사용할 것인가, 아니면 프론트엔드 프레임워크를 통합할 것인가?"
      ],
      "metadata": {
        "id": "D2D8KPoWiS_S"
      }
    },
    {
      "cell_type": "markdown",
      "source": [
        "- 주로 Django Templates vs. JavaScript Framework (React, Vue.js)의 경우가 많음"
      ],
      "metadata": {
        "id": "LxjJlhX1KU3I"
      }
    },
    {
      "cell_type": "markdown",
      "source": [
        "#### 2.4.1 선택을 요구받는 원인과 그 대응"
      ],
      "metadata": {
        "id": "eUZ-gplvD7ed"
      }
    },
    {
      "cell_type": "markdown",
      "source": [
        "- 선택의 원인\n",
        "    - 템플릿은 서버 측 렌더링을, JS 프레임워크는 클라이언트 측 렌더링을 제공함\n",
        "    - 성능과 사용자 경험에 따라 선택이 필요함\n",
        "- 대응\n",
        "    - 대부분의 서버 측 렌더링 작업에는 Django Templates를 선택\n",
        "    - 복잡한 사용자 인터페이스와 동적 데이터 처리가 필요할 때는 React나 Vue.js 같은 프레임워크를 선택\n",
        "    - 필요에 따라 혼합형 접근도 가능"
      ],
      "metadata": {
        "id": "1hUFO4EJkIRz"
      }
    },
    {
      "cell_type": "markdown",
      "source": [
        "### 2.5 DRF의 기본 제공 권한 클래스를 사용할 것인가, 아니면 커스텀 권한 클래스를 정의할 것인가?"
      ],
      "metadata": {
        "id": "2uwTtnl7iS8J"
      }
    },
    {
      "cell_type": "markdown",
      "source": [
        "#### 2.5.1 선택을 요구받는 원인과 그 대응"
      ],
      "metadata": {
        "id": "nyzkuLn8D6Bv"
      }
    },
    {
      "cell_type": "markdown",
      "source": [
        "- 선택의 원인\n",
        "    - 기본 제공 권한 클래스가 모든 요구 사항을 충족하지 못할 수 있음\n",
        "    - 복잡한 권한 처리가 필요할 때 커스텀 권한 클래스를 고려해야 할 수 있음\n",
        "- 대응\n",
        "    - 기본 권한 클래스로 시작하고 필요할 때 커스텀 권한 클래스를 정의함\n",
        "    - DRF의 권한 시스템을 잘 이해하고, 요구 사항에 맞게 확장해 나가도록 함"
      ],
      "metadata": {
        "id": "1jH3LI0TkfWM"
      }
    },
    {
      "cell_type": "markdown",
      "source": [
        "### 2.6 DRF에서 토큰 기반 인증을 사용할 것인가, 아니면 세션 기반 인증을 사용할 것인가?"
      ],
      "metadata": {
        "id": "l9Eo59R-iS5B"
      }
    },
    {
      "cell_type": "markdown",
      "source": [
        "#### 2.6.1 선택을 요구받는 원인과 그 대응"
      ],
      "metadata": {
        "id": "fMMSUWdoD4nq"
      }
    },
    {
      "cell_type": "markdown",
      "source": [
        "- 선택의 원인\n",
        "    - 토큰 인증은 모바일과 싱글 페이지 애플리케이션에 유리함\n",
        "    - 세션 인증은 전통적인 웹 애플리케이션에 유리함\n",
        "    - 진행 중인 프로젝트에 어떤 방식이 더 적합한지 고민할 수 있음\n",
        "\n",
        "- 대응\n",
        "    - 모바일 앱이나 SPA에서는 토큰 인증을 선택\n",
        "    - 전통적인 웹 앱에서는 세션 인증을 선택\n",
        "    - 프로젝트 특성과 보안 요구 사항에 따라 선택할 수 있음"
      ],
      "metadata": {
        "id": "1uDlBKa9kyq6"
      }
    },
    {
      "cell_type": "markdown",
      "source": [
        "### 2.7 비동기 작업을 위해 Django의 Signals를 사용할 것인가, 아니면 Celery를 사용할 것인가?"
      ],
      "metadata": {
        "id": "JXg-FBymiS2I"
      }
    },
    {
      "cell_type": "markdown",
      "source": [
        "#### 2.7.1 Django Signals"
      ],
      "metadata": {
        "id": "-4XIDwj0b6KB"
      }
    },
    {
      "cell_type": "markdown",
      "source": [
        "- Django Signals\n",
        "    - Django 프레임워크 내에서 특정 이벤트가 발생할 때 자동으로 실행되는 콜백 시스템\n",
        "    - 예: 모델 인스턴스가 저장될 때 자동으로 수행할 작업을 정의할 수 있음\n",
        "\n",
        "- 용도\n",
        "    - 데이터베이스 변경, 로그인/로그아웃, 모델 생성/삭제 등 다양한 이벤트에 대해 트리거를 설정할 수 있음\n",
        "\n",
        "- 구현 예시:\n",
        "\n",
        "    ```\n",
        "    from django.db.models.signals import post_save\n",
        "    from django.dispatch import receiver\n",
        "    from .models import MyModel\n",
        "\n",
        "    @receiver(post_save, sender=MyModel)\n",
        "    def my_handler(sender, instance, created, **kwargs):\n",
        "        if created:\n",
        "            # 작업 내용\n",
        "            print(f'{instance}이(가) 생성되었습니다.')\n",
        "    ```"
      ],
      "metadata": {
        "id": "4zV1VloecCWj"
      }
    },
    {
      "cell_type": "markdown",
      "source": [
        "#### 2.7.2 Celery Task"
      ],
      "metadata": {
        "id": "KPsn-vLOcguz"
      }
    },
    {
      "cell_type": "markdown",
      "source": [
        "- Celery\n",
        "    - 비동기 태스크 큐 프레임워크\n",
        "    - Django와 같은 웹 애플리케이션에서 장시간 걸리는 작업을 백그라운드로 처리할 수 있게 함\n",
        "\n",
        "- 용도\n",
        "    - 이메일 전송, 데이터 처리, 정기 작업 등\n",
        "\n",
        "- 구현 예시\n",
        "\n",
        "    ```\n",
        "    from celery import shared_task\n",
        "\n",
        "    @shared_task\n",
        "    def add(x, y):\n",
        "        return x + y\n",
        "\n",
        "    # Django 뷰에서 호출\n",
        "    add.delay(4, 6)\n",
        "    ```"
      ],
      "metadata": {
        "id": "QsAwdAWZcn22"
      }
    },
    {
      "cell_type": "markdown",
      "source": [
        "#### 2.7.3 선택을 요구받는 원인과 그 대응"
      ],
      "metadata": {
        "id": "el70kPe-D3E8"
      }
    },
    {
      "cell_type": "markdown",
      "source": [
        "- 선택의 원인\n",
        "    - 비동기 작업을 처리할 때 Signals는 간단한 이벤트 처리를, Celery는 복잡한 비동기 작업을 처리함\n",
        "    - 프로젝트가 다루는 작업에 따라 어떤 도구를 사용할지 고민할 수 있음\n",
        "- 대응\n",
        "    - 간단한 이벤트 처리에는 Signals를 선택\n",
        "    - 복잡한 비동기 작업과 스케줄링이 필요할 때는 Celery를 선택\n",
        "    - Celery는 분산 작업 처리를 지원하므로 큰 프로젝트에 유리함\n",
        "<br><br>\n",
        "- Signals와 Celery를 함께 사용하면 더욱 강력한 비동기 처리를 구현할 수 있음"
      ],
      "metadata": {
        "id": "8SvzMMJkkzTk"
      }
    },
    {
      "cell_type": "markdown",
      "source": [
        "### 2.8 정적 파일 관리를 위해 WhiteNoise를 사용할 것인가, 아니면 AWS S3를 사용할 것인가?"
      ],
      "metadata": {
        "id": "pyiuUrsRiSzE"
      }
    },
    {
      "cell_type": "markdown",
      "source": [
        "#### 2.8.1 WhiteNoise"
      ],
      "metadata": {
        "id": "olmnSRu6lRxM"
      }
    },
    {
      "cell_type": "markdown",
      "source": [
        "- WhiteNoise\n",
        "    - Python 웹 애플리케이션에서 정적 파일을 관리하는 데 사용되는 라이브러리\n",
        "    - 이를 통해 웹 애플리케이션은 자신의 정적 파일을 직접 제공할 수 있으며\n",
        "    - 외부 서비스(예: nginx, Amazon S3)에 의존하지 않고 어디든 배포할 수 있음\n",
        "\n",
        "- 주요 기능\n",
        "    - 정적 파일 서빙: 정적 파일을 gzip 및 Brotli 형식으로 압축하여 퍼포먼스를 최적화함\n",
        "    - 캐싱 헤더 설정: 변경되지 않을 정적 파일에 대해 먼 향후 캐싱 헤더를 설정하여 브라우저 캐싱을 최적화함\n",
        "    - CDN 호환성: 높은 트래픽 사이트에서도 성능을 유지하면서 사용할 수 있도록 설계\n",
        "\n",
        "<br>\n",
        "- WhiteNoise는 WSGI 호환 애플리케이션과, 특히 Django 애플리케이션과 잘 작동하며 최소한의 설정으로 정적 파일을 쉽게 관리할 수 있음"
      ],
      "metadata": {
        "id": "ONwFv-gtlU17"
      }
    },
    {
      "cell_type": "markdown",
      "source": [
        "#### 2.8.2 AWS S3"
      ],
      "metadata": {
        "id": "Y3Qk8n8KlthV"
      }
    },
    {
      "cell_type": "markdown",
      "source": [
        "- AWS S3 (Amazon Simple Storage Service)\n",
        "    - Amazon Web Services에서 제공하는 객체 스토리지 서비스\n",
        "    - 높은 확장성, 데이터 가용성, 보안 및 성능을 제공\n",
        "    - 데이터를 저장하고 관리하는 데 사용됨\n",
        "    - 다양한 스토리지 클래스를 제공하여 데이터 액세스 패턴에 따라 비용을 최적화할 수 있음\n",
        "\n",
        "- 주요 기능\n",
        "    - 객체 스토리지: 데이터를 객체로 저장하며 각각의 객체는 고유한 키를 가짐\n",
        "    - 내구성: 여러 데이터 센터에 중복 저장하여 데이터 손실 방지\n",
        "    - 보안: 강력한 보안 정책과 암호화 옵션 제공\n",
        "    - 버전 관리: 데이터 변경 시 각 버전을 저장하여 필요 시 이전 버전으로 복원할 수 있음\n",
        "    - 비용 효율성\n",
        "        - 사용한 만큼만 비용을 지불하는 구조\n",
        "        - 다양한 스토리지 클래스를 통해 비용을 최적화할 수 있음\n",
        "\n",
        "- 사용 사례\n",
        "    - 백업 및 복구: 중요한 데이터를 안전하게 백업하고 복구할 수 있음\n",
        "    - 애플리케이션 호스팅: 정적 웹 사이트나 애플리케이션을 호스팅할 수 있음\n",
        "    - 빅 데이터 분석: 데이터 레이크를 구축하여 대규모 데이터 분석에 활용할 수 있음\n",
        "\n",
        "<br>\n",
        "\n",
        "- AWS S3는 다양한 용도로 활용될 수 있으며, 확장성과 보안성을 갖추고 있어 많은 기업과 개발자들이 선호하는 서비스임"
      ],
      "metadata": {
        "id": "v9z6JsHLlxcO"
      }
    },
    {
      "cell_type": "markdown",
      "source": [
        "#### 2.8.3 선택을 요구받는 원인과 그 대응"
      ],
      "metadata": {
        "id": "rsQ_cSkxD1gY"
      }
    },
    {
      "cell_type": "markdown",
      "source": [
        "- 선택의 원인\n",
        "    - 정적 파일을 관리할 때 WhiteNoise는 간단하고 빠르지만\n",
        "    - 대규모 프로젝트에서는 AWS S3가 더 적합할 수 있음\n",
        "- 대응\n",
        "    - 작은 프로젝트에서는 WhiteNoise를 사용\n",
        "    - 대규모 프로젝트에서는 AWS S3를 사용\n",
        "    - S3는 확장성과 비용 효율성이 뛰어남\n"
      ],
      "metadata": {
        "id": "Jl-ZsJgDkz2e"
      }
    },
    {
      "cell_type": "markdown",
      "source": [
        "### 2.9 데이터베이스로 PostgreSQL을 사용할 것인가, 아니면 MySQL을 사용할 것인가?"
      ],
      "metadata": {
        "id": "9HP4kLcoiSv5"
      }
    },
    {
      "cell_type": "markdown",
      "source": [
        "#### 2.9.1 PostgreSQL"
      ],
      "metadata": {
        "id": "U7iaHIlinzsM"
      }
    },
    {
      "cell_type": "markdown",
      "source": [
        "- PostgreSQL\n",
        "    - 오픈 소스 객체-관계형 데이터베이스 관리 시스템(ORDBMS)\n",
        "    - 강력한 기능과 확장성을 제공하는 것으로 유명함\n",
        "    - 신뢰성과 성능, 유연성을 제공하여 다양한 애플리케이션에 사용되고 있음\n",
        "\n",
        "- 주요 특징\n",
        "    - 고급 쿼리: 복잡한 쿼리와 서브쿼리를 효율적으로 처리\n",
        "    - 트랜잭션: ACID(Atomicity, Consistency, Isolation, Durability)를 완벽히 지원하여 데이터 일관성을 보장\n",
        "    - 확장성: 사용자 정의 함수, 데이터 타입, 연산자 등을 통해 데이터베이스를 확장할 수 있음\n",
        "    - 표준 준수: ANSI SQL 표준을 엄격히 준수하여 다른 시스템과의 호환성이 뛰어남\n",
        "    - 비정형 데이터: JSON, JSONB, XML 등의 비정형 데이터를 효과적으로 저장하고 검색할 수 있음\n",
        "    - 복제: 마스터-슬레이브 복제, 스트리밍 복제 등 다양한 복제 방식을 지원\n",
        "\n",
        "- 사용 사례\n",
        "    - 데이터 분석: 고급 데이터 분석과 리포팅에 강력한 도구 제공\n",
        "    - 웹 애플리케이션: Django, Rails 같은 웹 프레임워크와 함께 사용하여 웹 애플리케이션의 백엔드를 구성\n",
        "    - GIS 데이터: 공간 데이터 처리를 위한 PostGIS 확장을 통해 지리정보시스템(GIS) 데이터베이스로도 활용"
      ],
      "metadata": {
        "id": "dTAfFpNDn3vC"
      }
    },
    {
      "cell_type": "markdown",
      "source": [
        "#### 2.9.2 MySQL"
      ],
      "metadata": {
        "id": "kYmW32Wnoa7S"
      }
    },
    {
      "cell_type": "markdown",
      "source": [
        "- MySQL\n",
        "    - 오픈 소스 관계형 데이터베이스 관리 시스템(RDBMS)\n",
        "    - 유연성과 성능을 바탕으로 다양한 애플리케이션에서 널리 사용되고 있으며 주로 웹 애플리케이션에서 많이 사용됨\n",
        "\n",
        "- 주요 특징\n",
        "    - 빠른 성능: 경량화된 구조로 인해 빠른 읽기 및 쓰기 속도를 제공함\n",
        "    - 다양한 스토리지 엔진: InnoDB, MyISAM 등 다양한 스토리지 엔진을 지원하여 필요에 따라 선택할 수 있음\n",
        "    - 확장성: 대규모 데이터베이스와 높은 트래픽을 처리할 수 있는 확장성을 가짐\n",
        "    - 보안: 사용자 권한 설정 및 데이터 암호화를 통해 보안을 강화할 수 있음\n",
        "    - 활발한 커뮤니티: 많은 사용자와 개발자가 사용하여 풍부한 자료와 지원을 받을 수 있음\n",
        "\n",
        "- 사용 사례\n",
        "    - 웹 애플리케이션: 주로 블로그, 전자 상거래 사이트, 콘텐츠 관리 시스템(CMS) 등에서 사용됨\n",
        "    - 데이터 웨어하우징: 대용량 데이터를 효율적으로 저장하고 분석하는데 적합함\n",
        "    - IoT 애플리케이션: 빠른 데이터 처리와 확장성을 요구하는 사물 인터넷(IoT) 애플리케이션에서도 자주 사용됨"
      ],
      "metadata": {
        "id": "6hibVqhyoem9"
      }
    },
    {
      "cell_type": "markdown",
      "source": [
        "#### 2.9.3 선택을 요구받는 원인과 그 대응"
      ],
      "metadata": {
        "id": "dq5FlySBDyZ6"
      }
    },
    {
      "cell_type": "markdown",
      "source": [
        "- 선택의 원인\n",
        "    - PostgreSQL은 고급 기능과 성능이 뛰어남\n",
        "    - MySQL은 널리 사용되고 안정적임\n",
        "    - 프로젝트에 사용할 데이터베이스의 선택은 자주 고민의 대상이 됨\n",
        "- 대응\n",
        "    - 복잡한 쿼리와 트랜잭션이 많은 프로젝트에서는 PostgreSQL을 선택\n",
        "    - 단순하고 빠른 읽기/쓰기가 필요한 경우에는 MySQL을 선택\n",
        "    - 프로젝트 요구 사항에 맞게 선택할 수 있음"
      ],
      "metadata": {
        "id": "1lA3oMFzk0oz"
      }
    },
    {
      "cell_type": "markdown",
      "source": [
        "### 2.10 배포 환경으로 Heroku를 사용할 것인가, 아니면 AWS EC2를 사용할 것인가?"
      ],
      "metadata": {
        "id": "aRC5Wh6WiSs1"
      }
    },
    {
      "cell_type": "markdown",
      "source": [
        "#### 2.10.1 Heroku"
      ],
      "metadata": {
        "id": "hkdpSuUYtKzf"
      }
    },
    {
      "cell_type": "markdown",
      "source": [
        "- Heroku\n",
        "    - 클라우드 기반의 플랫폼\n",
        "    - 웹 애플리케이션을 빠르게 배포하고 관리할 수 있게 도와줌\n",
        "    - 다양한 프로그래밍 언어와 프레임워크를 지원\n",
        "    - Git을 통한 배포 가능\n",
        "\n",
        "- Heroku의 주요 특징\n",
        "    - 서버 관리 없이 애플리케이션 배포: Heroku에서 애플리케이션을 배포하면 서버 관리를 걱정할 필요가 없음\n",
        "    - 확장성: 애플리케이션의 트래픽이 증가하면 자동으로 더 많은 서버를 추가하여 처리할 수 있음\n",
        "    - 다양한 통합: GitHub, AWS, Salesforce 등 다양한 서비스와 통합이 가능함\n",
        "- Heroku를 사용하면 개발자들이 애플리케이션을 빠르게 배포하고 관리할 수 있어, 효율적인 개발 프로세스를 도모할 수 있음"
      ],
      "metadata": {
        "id": "tes0FzfvtOWo"
      }
    },
    {
      "cell_type": "markdown",
      "source": [
        "#### 2.10.2 AWS EC2"
      ],
      "metadata": {
        "id": "s8z-TBLGDB1m"
      }
    },
    {
      "cell_type": "markdown",
      "source": [
        "- AWS EC2 (Elastic Compute Cloud)\n",
        "    - 클라우드 컴퓨팅 서비스\n",
        "    - 사용자가 가상 서버를 생성, 관리, 운영할 수 있게 해줌\n",
        "    - 다양한 인스턴스 유형을 제공하여 필요에 따라 컴퓨팅 파워를 조정할 수 있음\n",
        "\n",
        "- AWS EC2의 주요 특징\n",
        "    - 스케일링: 필요에 따라 인스턴스의 수를 늘리거나 줄일 수 있음\n",
        "    - 고 가용성: 다양한 지역과 가상 네트워크를 통해 고 가용성을 제공함\n",
        "    - 보안: AWS의 다양한 보안 기능을 활용하여 인스턴스를 보호할 수 있음\n",
        "    - 유연성: 다양한 운영 체제, 인스턴스 유형, 스토리지 옵션을 제공함\n",
        "\n",
        "- AWS EC2를 사용하면 웹 애플리케이션, 데이터베이스, 배치 작업 등 다양한 용도로 활용할 수 있음"
      ],
      "metadata": {
        "id": "KWShzA1bDGlI"
      }
    },
    {
      "cell_type": "markdown",
      "source": [
        "#### 2.10.3 선택을 요구받는 원인과 그 대응"
      ],
      "metadata": {
        "id": "z65TsQnltbC2"
      }
    },
    {
      "cell_type": "markdown",
      "source": [
        "- 선택의 원인\n",
        "    - Heroku는 설정이 간편하지만 비용이 높을 수 있음\n",
        "    - AWS EC2는 유연하지만 설정이 복잡함\n",
        "- 대응\n",
        "    - 작은 프로젝트나 빠른 프로토타입에는 Heroku를 선택\n",
        "    - 유연성과 확장성이 필요한 대규모 프로젝트에는 AWS EC2를 선택\n",
        "    - 비용과 관리 편의성을 고려해서 선택할 수 있음\n"
      ],
      "metadata": {
        "id": "kb4tjDe6k1Ej"
      }
    },
    {
      "cell_type": "code",
      "source": [],
      "metadata": {
        "id": "j3e6G9m8thtx"
      },
      "execution_count": null,
      "outputs": []
    }
  ]
}