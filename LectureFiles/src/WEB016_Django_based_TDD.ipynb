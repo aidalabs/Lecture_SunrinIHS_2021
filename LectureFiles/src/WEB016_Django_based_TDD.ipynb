{
  "nbformat": 4,
  "nbformat_minor": 0,
  "metadata": {
    "colab": {
      "provenance": [],
      "toc_visible": true
    },
    "kernelspec": {
      "name": "python3",
      "display_name": "Python 3"
    },
    "language_info": {
      "name": "python"
    }
  },
  "cells": [
    {
      "cell_type": "markdown",
      "source": [
        "# **테스트 주도 개발 방법론**"
      ],
      "metadata": {
        "id": "qFt1uei4xx9G"
      }
    },
    {
      "cell_type": "markdown",
      "source": [
        "## **1. 테스트 주도 개발(TDD) 개요**"
      ],
      "metadata": {
        "id": "P_puYrx1yaKE"
      }
    },
    {
      "cell_type": "markdown",
      "source": [
        "### 1.1 테스트 주도 개발이란?"
      ],
      "metadata": {
        "id": "4iOtO8ByyaF3"
      }
    },
    {
      "cell_type": "markdown",
      "source": [
        "- 테스트 주도 개발(Test-Driven Development, TDD)\n",
        "<br><br>\n",
        "- 코드를 작성하기 전에 테스트 케이스를 먼저 작성하는 방식을 따르는 소프트웨어 개발 방법론 중 하나\n",
        "    - 개발 과정을 짧은 반복 주기로 나누고\n",
        "    - 각 주기마다 사용자의 요구 사항을 테스트 케이스로 변환하여\n",
        "    - 코드를 개선해 나가는 방식\n",
        "<br><br>\n",
        "- 애자일 방법론 중 하나인 eXtream Programming(XP)의 'Test-First' 개념에 기반을 둔 단순한 설계를 중요시 함\n",
        "    - 애자일 방법론\n",
        "        - 신속한 반복 작업을 통해 실제 작동 가능한 소프트웨어를 개발하여 지속적으로 제공하기 위한 소프트웨어 개발 방식\n",
        "        - 작동하는 소프트웨어의 작은 구성 요소를 신속하게 제공하여 고객의 만족도를 개선하는 것이 핵심\n",
        "        - 적응형 접근 방식과 팀워크를 활용한 지속적인 개발에 중점\n",
        "        - 소프트웨어 개발에 필요한 작업을 알려주는 일련의 규정이 아니라, 협업과 워크플로우를 바라보는 하나의 관점이며, 우리가 무엇을 어떻게 만들지에 관한 선택을 안내하는 가치 체계를 가리킴\n",
        "\n",
        "    - eXtream Programming(XP)\n",
        "        - 미래에 대한 예측을 최대한 하지 않고, 지속적으로 프로토타입을 완성하는 애자일 방법론 중 하나\n",
        "        - 이 방법론은 추가 요구사항이 생기더라도, 실시간으로 반영할 수 있음\n",
        "<br><br>\n",
        "- 목적\n",
        "    - 코드의 품질을 높이고\n",
        "    - 유지보수를 용이하게 하며\n",
        "    - 개발자의 생산성을 높이는 데 도움을 줌\n",
        "    - 설계 오류를 초기에 발견, 수정할 수 있게 지원\n",
        "    - 개발 과정에서의 오류와 리스크를 줄이기 위해 고안됨\n",
        "<br><br>\n",
        "- TDD의 핵심\n",
        "    - 실패하는 테스트 케이스를 먼저 작성하고\n",
        "    - 테스트를 통과하기 위한 최소한의 코드만을 작성하는 것"
      ],
      "metadata": {
        "id": "KGfqFhQ5yaBh"
      }
    },
    {
      "cell_type": "markdown",
      "source": [
        "### 1.2 TDD의 적용 단계"
      ],
      "metadata": {
        "id": "to9DUkv2yZ7u"
      }
    },
    {
      "cell_type": "markdown",
      "source": [
        "#### 1.2.1 실패하는 테스트 작성"
      ],
      "metadata": {
        "id": "tijmUFoouWeq"
      }
    },
    {
      "cell_type": "markdown",
      "source": [
        "- 구현할 기능에 대한 작은 단위의 테스트 케이스를 먼저 작성\n",
        "- 요구사항을 충족시키지 못하는 테스트 케이스를 작성함\n",
        "- 이 단계에서는 기능이 어떻게 동작해야 하는지 명확히 정의함 ⇒ 개발해야 할 기능의 명세서 역할 수행"
      ],
      "metadata": {
        "id": "UK14szgpuWRs"
      }
    },
    {
      "cell_type": "markdown",
      "source": [
        "#### 1.2.2 테스트를 통과하는 코드 작성"
      ],
      "metadata": {
        "id": "v-3k8cWLuWNe"
      }
    },
    {
      "cell_type": "markdown",
      "source": [
        "- 테스트를 통과하기 위한 최소한의 코드를 작성\n",
        "- 이 단계에서는 코드의 품질이 아니라 테스트를 통과하는 것에만 집중함"
      ],
      "metadata": {
        "id": "7dyUFiE-uWJZ"
      }
    },
    {
      "cell_type": "markdown",
      "source": [
        "#### 1.2.3 리팩토링"
      ],
      "metadata": {
        "id": "qmffABDeuWFH"
      }
    },
    {
      "cell_type": "markdown",
      "source": [
        "- 테스트를 통과한 코드를 개선\n",
        "- 이 단계에서는 코드의 품질 향상에 집중함\n",
        "    - 코드의 가독성 향상\n",
        "    - 중복된 코드 제거\n",
        "    - 필요 시 설계 개선\n",
        "    - 유지보수성 개선"
      ],
      "metadata": {
        "id": "nKpDVKxZuWAB"
      }
    },
    {
      "cell_type": "markdown",
      "source": [
        "#### 1.2.4 점진적 코드 개선"
      ],
      "metadata": {
        "id": "oNe6oeEduV05"
      }
    },
    {
      "cell_type": "markdown",
      "source": [
        "- 1~3단계를 반복하여 점진적 코드 개선 추구"
      ],
      "metadata": {
        "id": "gHvn7hIXyZz8"
      }
    },
    {
      "cell_type": "markdown",
      "source": [
        "### 1.3 TDD의 장단점"
      ],
      "metadata": {
        "id": "y_Bh8Zpqzdct"
      }
    },
    {
      "cell_type": "markdown",
      "source": [
        "#### 1.3.1 장점"
      ],
      "metadata": {
        "id": "5Y_II_wFuNxV"
      }
    },
    {
      "cell_type": "markdown",
      "source": [
        "- 빠른 피드백\n",
        "    - 코드가 작성되기 전에 테스트가 준비되므로, 코드 작성 후 바로 피드백을 받을 수 있음\n",
        "    - 개발 과정에서의 버그를 사전에 예방할 수 있음\n",
        "    - 개발 과정에서의 리스크를 줄일 수 있음\n",
        "    - 개발자의 생산성 향상에 기여\n",
        "- 높은 코드 품질\n",
        "    - 테스트를 먼저 작성함으로써 코드의 품질을 높일 수 있음\n",
        "- 유지보수 용이\n",
        "    - 테스트 케이스가 존재하므로, 코드 변경 시에도 기존 기능이 정상적으로 동작하는지 쉽게 확인할 수 있음"
      ],
      "metadata": {
        "id": "uQc6jMPhzhDN"
      }
    },
    {
      "cell_type": "markdown",
      "source": [
        "#### 1.3.2 단점"
      ],
      "metadata": {
        "id": "x8s_SleauRSR"
      }
    },
    {
      "cell_type": "markdown",
      "source": [
        "- 초기투자 필요\n",
        "    - TDD를 적용하는 데에는 시간과 노력이 필요함\n",
        "    - 초기 학습 곡선이 가파를 수 있음\n",
        "- 생산성의 저하\n",
        "    - 개발 속도가 느려진다고 생각하는 사람이 많기 때문에 TDD에 대해 반신반의함\n",
        "        - 처음부터 2개의 코드를 짜야함\n",
        "        - 중간중간 테스트를 하면서 고쳐나가야 함\n",
        "    - TDD 방식의 개발 시간은 일반적인 개발 방식에 비해 대략 10~30% 정도로 늘어남\n",
        "    - SI 프로젝트에서는 소프트웨어의 품질보다 납기일 준수가 훨씬 중요하기 때문에 TDD 방식을 잘 사용하지 않음\n",
        "- 사전 경험(충분한 연습과 경험)이 중요함\n",
        "    - 모든 상황에 TDD를 적용하기 어려울 수도 있음\n",
        "    - 테스트 케이스 작성에 대한 경험이 부족한 개발자에게는 도전적인 작업일 수 있음\n",
        "- 기존 개발방식의 변경이 요구됨\n",
        "    - 이제까지 자신이 개발하던 방식을 많이 바꿔야 함\n",
        "    - 몸에 체득한 것이 많을 수록 바꾸기가 어려움\n",
        "    - 오히려 개발을 별로 해보지 않은 사람들에겐 적용하기가 쉬움\n",
        "- 구조에 얽매임\n",
        "    - TDD로 프로젝트를 진행하면서 어려운 예외가 생길 수 있는데 그것 때문에 고민하는 순간이 찾아옴\n",
        "    - 원칙을 깰 수는 없고 꼼수가 있기는 한데 그 꼼수를 위해서 구조를 바꾸자니 이건 아무래도 아닌 것 같고, 테스트는 말 그대로 테스트일 뿐 실제 코드가 더 중요한 상황인데도 불구하고 테스트 원칙 때문에 쉽게 넘어가지 못하는 경우 등\n",
        "- 개발자는 TDD에 대한 지속적인 학습과 실습을 통해 이 방법론을 자신의 개발 과정에 효과적으로 통합해야 함"
      ],
      "metadata": {
        "id": "j0sXQ71OpGH1"
      }
    },
    {
      "cell_type": "markdown",
      "source": [
        "### 1.4 TDD의 효과"
      ],
      "metadata": {
        "id": "1xJ-waqkqaBp"
      }
    },
    {
      "cell_type": "markdown",
      "source": [
        "#### 1.4.1 디버깅 시간의 단축"
      ],
      "metadata": {
        "id": "xGbxjUa57ZuJ"
      }
    },
    {
      "cell_type": "markdown",
      "source": [
        "- 유닛 테스팅을 하는 이점\n",
        "    - 사용자의 데이터가 잘못 나온다면 DB의 문제인지, 비즈니스 레이어의 문제인지, UI의 문제인지 바로 알 수 없기때문에 실제 모든 레이어들을 전부 디버깅 해야함\n",
        "    - TDD의 경우 자동화 된 유닛테스팅을 전재하므로 특정 버그를 손 쉽게 찾아낼 수 있음"
      ],
      "metadata": {
        "id": "WyL4kBRF7dRP"
      }
    },
    {
      "cell_type": "markdown",
      "source": [
        "#### 1.4.2 가장 빠른 피드백"
      ],
      "metadata": {
        "id": "zRQRkFGdtQhA"
      }
    },
    {
      "cell_type": "markdown",
      "source": [
        "- 개발 프로세스에서는 보통 '인수 테스트'를 수행함\n",
        "    - 인수 테스트: 이미 배치된 시스템을 대상으로 클라이언트가 의뢰한 소프트웨어가 사용자 관점에서 사용할 수 있는 수준인지 체크하는 과정\n",
        "- 이미 90% 이상 완성된 코드를 가지고 테스트하기 때문에 문제를 발견할 수는 있지만 정확하게 원인이 무엇인지 진단하기는 어려움\n",
        "- TDD를 사용하면 기능 단위로 테스트를 진행하기 때문에 코드가 모두 완성되어 프로그래머의 손을 떠나기 전에 빠르게 피드백을 받는 것이 가능함"
      ],
      "metadata": {
        "id": "ve3yeE9btQSl"
      }
    },
    {
      "cell_type": "markdown",
      "source": [
        "#### 1.4.3 코드의 불안정성 개선 및 생산성 향상"
      ],
      "metadata": {
        "id": "uPNXAZ2QtQKD"
      }
    },
    {
      "cell_type": "markdown",
      "source": [
        "- 코드가 내 손을 떠나 사용자에게 도달하기 전에 문제가 없는지 먼저 진단 받을 수 있으므로 코드가 지닌 불안정성과 불확실성을 지속적으로 해소해줌\n",
        "- 켄트 백은 TDD는 불안함을 지루함으로 바꾸는 마법의 돌이라고 표현"
      ],
      "metadata": {
        "id": "pNd-IKAbtQDl"
      }
    },
    {
      "cell_type": "markdown",
      "source": [
        "#### 1.4.4 프로그래머의 오버 엔지니어링 방지"
      ],
      "metadata": {
        "id": "W8inDO5TtP4H"
      }
    },
    {
      "cell_type": "markdown",
      "source": [
        "- 프로그래머들은 간혹 계획하지 않았던 코드를 추가하여 오버 엔지니어링하는 경우가 있음\n",
        "    - TDD의 원칙: 테스트를 통과하기 위한 최소한의 코드만 작성 및 개선해야 함\n",
        "- 기능 단위로 테스트를 진행하기 때문에, 문제가 발견되지 않은 코드에 영향을 줄 수 있는 오버 코딩은 하지 않을 수 있음"
      ],
      "metadata": {
        "id": "TKwvdeT6tpn7"
      }
    },
    {
      "cell_type": "markdown",
      "source": [
        "#### 1.4.5 개발 이력의 활용"
      ],
      "metadata": {
        "id": "uz7viISRtpaN"
      }
    },
    {
      "cell_type": "markdown",
      "source": [
        "- TDD를 사용하면 개발 과정이 테스트 코드로 남기 때문에, 과거 의사결정을 쉽게 상기할 수 있다.\n",
        "    - TDD를 사용하면, 테스트 코드를 작성하는 과정에서 히스토리가 남음 ⇒ 어떻게 보면 과거의 나 자신과 프로그래머가 협업하는 것을 용이하게 만들어준다고 할 수 있음\n",
        "    - TDD를 통해 작성한 테스트 코드를 트래킹하면서 과거에 어떤 인과관계로 의사결정을 했는지 확인하기 쉬움"
      ],
      "metadata": {
        "id": "lbW5K39wpFXO"
      }
    },
    {
      "cell_type": "markdown",
      "source": [
        "#### 1.4.6 재설계 시간의 단축"
      ],
      "metadata": {
        "id": "wBXypEiC8K_b"
      }
    },
    {
      "cell_type": "markdown",
      "source": [
        "- 테스트 코드를 먼저 작성하기 때문에 개발자가 지금 무엇을 해야하는지 분명히 정의하고 개발을 시작하게 됨\n",
        "- 또한 테스트 시나리오를 작성하면서 다양한 예외사항에 대해 생각해볼 수 있음\n",
        "- 이는 개발 진행 중 소프트웨어의 전반적인 설계가 변경되는 일을 방지할 수 있음"
      ],
      "metadata": {
        "id": "IgnEsdWT8Ozy"
      }
    },
    {
      "cell_type": "markdown",
      "source": [
        "#### 1.4.7 추가 구현이 용이함"
      ],
      "metadata": {
        "id": "neeU-Z7V8Z7z"
      }
    },
    {
      "cell_type": "markdown",
      "source": [
        "- 개발이 완료된 소프트웨어에 어떤 기능을 추가할 때 가장 우려되는 점은 해당 기능이 기존 코드에 어떤 영향을 미칠지 알지 못한다는 것임\n",
        "- TDD의 경우 자동화된 유닛 테스팅을 전제하므로 테스트 기간을 획기적으로 단축시킬 수 있음"
      ],
      "metadata": {
        "id": "XvCv045q8dQp"
      }
    },
    {
      "cell_type": "markdown",
      "source": [
        "### 1.5 TDD에 대한 편견과 실상"
      ],
      "metadata": {
        "id": "MMSxyvO0qV3H"
      }
    },
    {
      "cell_type": "markdown",
      "source": [
        "#### 1.5.1 TDD는 무조건 해야 한다?"
      ],
      "metadata": {
        "id": "kbqv8ZJVroiS"
      }
    },
    {
      "cell_type": "markdown",
      "source": [
        "- **그렇지 않다.**\n",
        "<br><br>\n",
        "- TDD가 프로그래머에게 주는 이점에 대해 나열하면, TDD가 모두에게 필요한 것처럼 느껴질 수 있음\n",
        "- 그러나 프로그래머가 코드를 작성해 기능 하나를 추가할 때마다, 시간이 늘어난다고 본다면 TDD는 오히려 비효율적인 것처럼 보이기도 함\n",
        "    - TDD를 사용했을 때의 초기 비용이 TDD를 사용하지 않았을 때보다 크기 때문\n",
        "    - 일단 운영 코드를 테스트하기 위한 코드를 프로그래머가 따로 작성해야 한다는 점만 보아도 알 수 있음\n",
        "<br><br>\n",
        "- 프로그래머는 **하나의 프로젝트를 완성하는데 걸리는 예상 일정과 자원을 고려**해야 함\n",
        "    - 이에 따라 TDD를 사용할 수도, 사용하지 않기로 결정할 수도 있음\n",
        "<br><br>\n",
        "- TDD 사용 시, 일정 시점을 지나면 TDD를 사용하지 않을 때와 비교하여 시간 대비 비용이 더 커지지 않고 일정하게 유지됨\n",
        "    - 즉, TDD를 사용하기 시작하면 초기 비용은 더 많이 들 수 있으나 전체적으로 봤을 때 비용이 점진적으로 늘어나지 않음\n",
        "    - 따라서, TDD를 위한 환경세팅이 이미 잘 되어 있는 업무 환경이라면 TDD를 사용하는 편이 장기적으로는 효과적이라 할 수 있음"
      ],
      "metadata": {
        "id": "jvRZn7dtqj3V"
      }
    },
    {
      "cell_type": "markdown",
      "source": [
        "#### 1.5.2 TDD는 버그를 박멸한다?"
      ],
      "metadata": {
        "id": "WwofjtIFsBQz"
      }
    },
    {
      "cell_type": "markdown",
      "source": [
        "- **그렇지 않다.**\n",
        "<br><br>\n",
        "- TDD는 버그를 없애주는 도구가 아님\n",
        "    - 오히려 TDD를 사용하면 더 많은 버그를 사전에 발견할 수 있음\n",
        "- 프로그래머가 작성한 코드가 사용자에게 도달하기 전에, 혹은 전체 코드를 완성하기 전에, 기능 단위로 문제를 개선할 수 있게끔 빠른 피드백을 전달하는 것이 TDD의 목적임\n",
        "    - 그래서 버그를 보다 빠르고 효과적으로 개선할 수 있도록 프로그래머를 도와줄 수는 있음"
      ],
      "metadata": {
        "id": "xu-ePSWgsCpB"
      }
    },
    {
      "cell_type": "markdown",
      "source": [
        "#### 1.5.3 TDD는 항상 느리다?"
      ],
      "metadata": {
        "id": "ZDfwylZasCgA"
      }
    },
    {
      "cell_type": "markdown",
      "source": [
        "- **그렇지 않다.**\n",
        "<br><br>\n",
        "- TDD를 업무에 사용할 때 업무 속도가 느려진다고 느끼는 이유\n",
        "    - TDD를 처음 도입하면 TDD를 사용하기 위해 필요한 초기 자원이 미진해서 속도가 나지 않는다고 생각할 수 있음\n",
        "        - 회사에서 여러 프로그래머가 협업해야 하는 경우, TDD를 사용하기 위한 업무 프로세스가 익숙하지 않아 개발 속도가 느려진다고 느끼기도 함\n",
        "\n",
        "    - 테스트 코드 작성에 대한 업무 부담감\n",
        "        - 테스트 자동화를 위해 필요한 코드까지 프로그래머가 작성하고 관리해야 하므로 업무가 오히려 더 늘어나 비효율적이라 여길 수 있음\n",
        "<br><br>\n",
        "- TDD 자체가 목적이 되어서는 안됨\n",
        "    - TDD는 공동의 목표를 효율적으로 달성하기 위한 도구임"
      ],
      "metadata": {
        "id": "lH-EFhXcsCT6"
      }
    },
    {
      "cell_type": "markdown",
      "source": [
        "### 1.6 TDD에 대한 프로그래머들의 의견"
      ],
      "metadata": {
        "id": "fD-YPnkmAtUe"
      }
    },
    {
      "cell_type": "markdown",
      "source": [
        "- TDD에 대한 프로그래머들의 의견은 언제나 엇갈림\n",
        "- TDD의 실효성을 업무로 경험한 사람들은 TDD를 더 효과적으로 실무에 적용하기 위해 고민함\n",
        "- 반면, 회사마다 일하는 방식이나 처한 업무 환경에 편차가 있다보니 일각에서는 실무에서 TDD를 사용하는 건 사실상 현실과 괴리감이 크다는 의견도 있음"
      ],
      "metadata": {
        "id": "9R5vGG3LA0J9"
      }
    },
    {
      "cell_type": "markdown",
      "source": [
        "### 1.7 일반 개발 방식 vs. TDD 개발 방식"
      ],
      "metadata": {
        "id": "bUZfRcU15Yhz"
      }
    },
    {
      "cell_type": "markdown",
      "source": [
        "#### 1.7.1 일반 개발 방식"
      ],
      "metadata": {
        "id": "PJmq7V9j5lY7"
      }
    },
    {
      "cell_type": "markdown",
      "source": [
        "- 개발 주기\n",
        "    - 요구사항 분석 → 설계 → 개발 → 테스트 → 배포"
      ],
      "metadata": {
        "id": "uDMX3QPsCWc2"
      }
    },
    {
      "cell_type": "markdown",
      "source": [
        "<img src=\"https://github.com/aidalabs/Lectures/blob/main/LectureFiles/images/Web_016_TDD_001.png?raw=true\">"
      ],
      "metadata": {
        "id": "alyWY0QpCbei"
      }
    },
    {
      "cell_type": "markdown",
      "source": [
        "- 소프트웨어의 개발을 느리게 하는 잠재적인 위험 존재\n",
        "    - 소비자의 요구사항이 처음부터 명확하지 않을 수 있음 → **처음부터 완벽한 설계는 어려움**\n",
        "    - 자체 버그 검출 능력 저하 또는 소스코드의 품질 저하 위험 존재\n",
        "    - 자체 테스트 비용 증가 가능성\n",
        "<br><br>\n",
        "- 완전하지 않은 초기 설계에 대한 대응\n",
        "    - 고객의 요구사항 또는 디자인의 오류 등 많은 외부 또는 내부 조건에 의해, 재설계하여 점진적으로 완벽한 설계로 진행\n",
        "    - 재설계로 인해 개발자는 코드를 삽입, 수정, 삭제 하는 과정에서 불필요한 코드가 남거나 중복처리 될 가능성이 큼\n",
        "    - 이러한 코드들은 재사용이 어렵고 관리가 어려워져 유지보수를 어렵게 만듦\n",
        "<br><br>\n",
        "- 작은 부분의 기능 수정에도 모든 부분을 테스트해야 하므로 전체적인 버그를 검출하기 어려워짐\n",
        "    - 자체 버그 검출 능력 저하\n",
        "    - 결과적으로 어디서 버그가 발생할지 모르기 때문에 잘못된 코드도 고치지 않으려 하는 현상이 나타남\n",
        "    - 이 현상은 소스코드의 품질 저하과 직결됨\n",
        "    - 작은 수정에도 모든 기능을 다시 테스트해야 하는 문제로 인해 자체 테스트 비용 증가"
      ],
      "metadata": {
        "id": "k9OmWozs7L9W"
      }
    },
    {
      "cell_type": "markdown",
      "source": [
        "#### 1.7.2 TDD 개발 방식"
      ],
      "metadata": {
        "id": "RTQVDicx_qOc"
      }
    },
    {
      "cell_type": "markdown",
      "source": [
        "- 개발 주기\n",
        "    - 디자인(설계) → 테스트 코드 작성 → 코드 개발 → 리팩토링 → 반복"
      ],
      "metadata": {
        "id": "VqnutoAvZAYq"
      }
    },
    {
      "cell_type": "markdown",
      "source": [
        "- 단계별 작업 및 주의사항\n",
        "    - 디자인(설계) 단계\n",
        "        - 프로그래밍의 목적을 반드시 미리 정의해야 함\n",
        "        - 무엇을 테스트해야 할지 미리 정의(테스트 케이스 작성)해야 함\n",
        "    - 테스트 코드 작성 단계\n",
        "        - 작성 도중에 발생하는 예외 사항(버그, 수정사항)들은 테스트 케이스에 추가하고 설계를 개선함\n",
        "        - 테스트 케이스의 작성으로 인해 자연스럽게 설계가 개선됨 → 재설계 시간 절감\n",
        "    - 코드 개발 단계\n",
        "        - 테스트를 통과한 코드만을 코드 개발 단계에서 실제 코드로 작성함\n",
        "    - 리팩토링 단계\n",
        "        - 좋지 않은 코드를 정리 및 개선\n",
        "    - 각 단계 반복\n",
        "        - 이러한 단계가 반복되면서 자연스럽게 코드의 버그가 줄어들고 소스코드는 간결해짐"
      ],
      "metadata": {
        "id": "zStPcJiiZhn1"
      }
    },
    {
      "cell_type": "markdown",
      "source": [
        "<img src=\"https://github.com/aidalabs/Lectures/blob/main/LectureFiles/images/Web_016_TDD_002.png?raw=true\">"
      ],
      "metadata": {
        "id": "lyO5ANoCCRaz"
      }
    },
    {
      "cell_type": "markdown",
      "source": [
        "- Bad Smell\n",
        "    - 코드에서 발견되는 잠재적인 문제를 나타내는 용어\n",
        "    - 코드의 품질이 떨어지거나 유지보수가 어려워질 수 있는 징후를 의미\n",
        "    - 버그는 아니지만, 코드의 설계나 구현이 좋지 않다는 신호로 받아들여짐\n",
        "    - Bad Smell의 예\n",
        "        - 중복 코드: 동일한 코드 구조가 여러 곳에 반복되는 경우\n",
        "        - 긴 메서드: 너무 길고 많은 일을 하는 메서드\n",
        "        - 큰 클래스: 너무 많은 책임을 가진 클래스\n",
        "        - 기능 질투: 다른 클래스에 더 관심이 많은 메서드\n",
        "        - 데이터 덩어리: 함께 전달되는 경향이 있는 데이터 그룹\n",
        "    - Bad Smell을 해결하기 위해서는 리팩토링이 필요함\n",
        "        - 리팩토링: 코드의 외부 동작을 변경하지 않으면서 내부 구조를 개선하여 가독성을 높이고 복잡성을 줄이며 유지보수를 쉽게 만드는 과정"
      ],
      "metadata": {
        "id": "7CaxAW8EYFM2"
      }
    },
    {
      "cell_type": "markdown",
      "source": [
        "#### 1.7.3 TDD의 메인 프로세스"
      ],
      "metadata": {
        "id": "_VjlUbU_A9Pl"
      }
    },
    {
      "cell_type": "markdown",
      "source": [
        "- 3가지 단계\n",
        "    - RED : 테스트 실패\n",
        "    - GREEN : 테스트 성공\n",
        "    - REFACTOR : 리팩토링"
      ],
      "metadata": {
        "id": "xmC22mTzBKfz"
      }
    },
    {
      "cell_type": "markdown",
      "source": [
        "<img src=\"https://github.com/aidalabs/Lectures/blob/main/LectureFiles/images/Web_016_TDD_003.png?raw=true\" width=\"400\">"
      ],
      "metadata": {
        "id": "x3NL1P16BdXS"
      }
    },
    {
      "cell_type": "markdown",
      "source": [
        "1. RED: 테스트 실패"
      ],
      "metadata": {
        "id": "jTE4ZIyEBZ32"
      }
    },
    {
      "cell_type": "markdown",
      "source": [
        "- 구체적인 하나의 요구사항을 검증하는 하나의 테스트를 추가\n",
        "- 추가된 테스트가 실패하는지 확인\n",
        "    - 실패하는 것이 확인 되어야 테스트가 검증력을 가진다고 신뢰할 수 있음\n",
        "    - 실패의 이유는 운영 코드가 아직 변경되지 않았기 때문이어야 함\n",
        "    - 테스트 코드의 문제이면 안됨"
      ],
      "metadata": {
        "id": "iZprdZgaCLre"
      }
    },
    {
      "cell_type": "markdown",
      "source": [
        "2. GREEN: 테스트 성공"
      ],
      "metadata": {
        "id": "X9s3gFISB9cW"
      }
    },
    {
      "cell_type": "markdown",
      "source": [
        "- 추가된 테스트를 포함하여, 모든 테스트가 성공하게끔 운영 코드를 변경\n",
        "- 테스트의 성공은 모든 요구사항을 만족했음을 의미함\n",
        "- 테스트 성공을 위한 최소한의 코드 변경만 진행\n",
        "    - TDD에서는 테스트 성공을 위한 최소한의 코드 그 이상을 변경하거나 추가하면 안됨\n",
        "    - 테스트 되지 않은 코드가 중간에 추가되면, 이후 리팩토링 등의 다른 프로세스에서 어떤 부작용을 가져올지 알 수 없기 때문"
      ],
      "metadata": {
        "id": "ifWvb39aCnLP"
      }
    },
    {
      "cell_type": "markdown",
      "source": [
        "3. REFACTOR: 리팩토링"
      ],
      "metadata": {
        "id": "ilrF_EffCFeI"
      }
    },
    {
      "cell_type": "markdown",
      "source": [
        "- 코드베이스 정리\n",
        "- 인터페이스 뒤에 숨어 있는 구현 설계를 개선\n",
        "- 가독성, 적용성, 성능을 고려"
      ],
      "metadata": {
        "id": "v_kLlxgBC3nu"
      }
    },
    {
      "cell_type": "markdown",
      "source": [
        "- 테스트 주도 개발 세부 흐름\n",
        "    - 단위 테스트 작성 → 단위 테스트 실행 → 운영 코드 작성 → 단위 테스트 실행 → 설계 개선(리팩토링) → 단위 테스트 → … 실행 반복"
      ],
      "metadata": {
        "id": "jWi2jm1wFa4C"
      }
    },
    {
      "cell_type": "markdown",
      "source": [
        "<img src=\"https://github.com/aidalabs/Lectures/blob/main/LectureFiles/images/Web_016_TDD_004.png?raw=true\">"
      ],
      "metadata": {
        "id": "WfNNaNIUFarR"
      }
    },
    {
      "cell_type": "markdown",
      "source": [
        "- TDD의 대표적인 도구: JUnit\n",
        "    - 전 세계적으로 가장 널리 사용되는 'Java 단위 테스트 프레임워크'\n",
        "    - JUnit을 기반으로 다양한 파생 프레임워크(xUnit) 개발\n",
        "        - CUnit (C)\n",
        "        - CppUnit (C++)\n",
        "        - PyUnit (Python) 등\n"
      ],
      "metadata": {
        "id": "OTyJIPoiay96"
      }
    },
    {
      "cell_type": "markdown",
      "source": [
        "### 1.8 테스트 기법의 종류와 장단점"
      ],
      "metadata": {
        "id": "oNij1ywY9-VG"
      }
    },
    {
      "cell_type": "markdown",
      "source": [
        "#### 1.8.1 수동 테스트"
      ],
      "metadata": {
        "id": "5p98xhUh-E6n"
      }
    },
    {
      "cell_type": "markdown",
      "source": [
        "- 품질 담당자(QA)가 UI를 사용해서 기능 검증\n",
        "- 사람이 검증하기 때문에, 사용자와 가장 가까운 관점에서 테스트가 가능\n",
        "- 소프트웨어의 모든 코드가 현장에 배치된 후에 테스트 가능\n",
        "    -  어떤 기능이 정상 작동하기 위해 필요한 모든 코드가 준비되어야 함\n",
        "- 가장 온전한 전체 코드를 검증하는 테스트 방식\n",
        "<br><br>\n",
        "- 단점\n",
        "    - 실행 비용이 높고, 결과의 변동이 큼\n",
        "        - 전문성을 지닌 담당자가 비용을 줄이기 위해 노력하지만, 휴먼 에러의 가능성을 완전히 없애기는 어려움\n",
        "    - 시간이 흐르면서 추가되는 기능은 자연스럽게 증가\n",
        "        - 문제는 어떤 기능을 추가하거나 개선하기 위해 작성한 코드는 다른 코드에 영향을 미친다는 점\n",
        "    - 테스트를 진행하더라도, 새로 추가된 코드로 인해 영향을 받을 기존 코드에 대한 테스트는 건너뛰거나 충실히 진행하지 못하는 경우가 많음"
      ],
      "metadata": {
        "id": "f_i1aGn7-Z-Y"
      }
    },
    {
      "cell_type": "markdown",
      "source": [
        "#### 1.8.2 테스트 자동화"
      ],
      "metadata": {
        "id": "nXYCxB24-H_g"
      }
    },
    {
      "cell_type": "markdown",
      "source": [
        "- 수동 테스트가 지닌 한계를 보완하기 위해 등장한 도구\n",
        "- 사람이 직접 테스트하지 않고, 어떤 기능을 검증하는 또 다른 코드를 작성하는 방식\n",
        "<br><br>\n",
        "- 단점\n",
        "    - 수동 테스트에 비해 프로그래머가 더 많은 코드를 작성해야 함\n",
        "        - 운영 코드를 테스트하기 위한 별도의 코드를 추가 작성해야 하기 때문\n",
        "    - 테스트 코드의 작성과 관리가 프로그래머 개인의 역량에 달려 있음\n",
        "        - 업무 자체가 허들이 될 수도 있음\n",
        "<br><br>\n",
        "- 장점\n",
        "    - 테스트에 드는 비용이 매우 낮아짐\n",
        "    - 휴먼 에러의 가능성도 줄어들기 때문에, 수동 테스트에 비해 테스트 자체에 대한 신뢰도는 매우 높아짐"
      ],
      "metadata": {
        "id": "9osufY8Q_ZKO"
      }
    },
    {
      "cell_type": "markdown",
      "source": [
        "#### 1.8.3 인수 테스트"
      ],
      "metadata": {
        "id": "D-Dsfpc6-LZV"
      }
    },
    {
      "cell_type": "markdown",
      "source": [
        "- 배치된 시스템을 대상으로 검증하는 방식\n",
        "- 주로 클라이언트가 의뢰한 소프트웨어를 최종적으로 사용할 수 있는 수준인지 점검하는 테스트\n",
        "- 전체 시스템의 이상 여부가 없는지 확인하며, 사용자 관점으로 체크하기 때문에 신뢰도가 높은 테스트 방법\n",
        "<br><br>\n",
        "- 단점\n",
        "    - 비용이 매우 높음\n",
        "        - 코드 작성부터 관리, 테스트 실행까지 자원이 많이 소요됨\n",
        "    - 프로그래머 입장에서 받을 수 있는 피드백의 질이 떨어짐\n",
        "        - 문제는 파악할 수 있으나, 그 원인까지 단번에 알려주지는 못하기 때문"
      ],
      "metadata": {
        "id": "gNgWHSjx_4w3"
      }
    },
    {
      "cell_type": "markdown",
      "source": [
        "#### 1.8.4 단위 테스트"
      ],
      "metadata": {
        "id": "qTPj6oud-Opn"
      }
    },
    {
      "cell_type": "markdown",
      "source": [
        "- 인수 테스트의 단점을 보완하는 검증 방식\n",
        "- 시스템의 일부(하위 시스템)를 대상으로 기능을 검증하는 테스트\n",
        "- 전체 시스템을 배치해놓고 진행하지 않으므로, 비용이 상대적으로 낮은 편\n",
        "- 인수 테스트와 비교해서, 단위 안에서 버그가 있다는 걸 상대적으로 자세히 알 수 있음\n",
        "    - 프로그래머 입장에서는 문제 해결을 위해 필요한 피드백을 적절하게 받을 수 있음\n",
        "- 전체 시스템의 이상 여부를 판단하는 신뢰도는 낮아짐\n",
        "    - 단위 테스트에서 문제가 없다고 판단되어도, 전체 시스템이 유기적으로 연결될 때 오류가 날 수도 있기 때문"
      ],
      "metadata": {
        "id": "Hg7BZm1OAYuR"
      }
    },
    {
      "cell_type": "markdown",
      "source": [
        "### 1.9 실습"
      ],
      "metadata": {
        "id": "1DULpPGyzwmP"
      }
    },
    {
      "cell_type": "markdown",
      "source": [
        "#### 1.9.1 기능 테스트를 이용한 Django 설치"
      ],
      "metadata": {
        "id": "PNiXaiYyTrU6"
      }
    },
    {
      "cell_type": "markdown",
      "source": [
        "[ 코드 및 내용출처: https://tech.sungbinlee.dev/django/tdd-with-python-ch1/ ]"
      ],
      "metadata": {
        "id": "wA0l4cHRT4pF"
      }
    },
    {
      "cell_type": "markdown",
      "source": [
        "- 테스트가 없으면 아무것도 하지마라!\n",
        "    - 소프트웨어 개발에서 일반적으로 코드를 작성한 후에 테스트 케이스를 작성하는 방법이 흔히 사용되며, 코드를 작성한 후에 테스트를 통해 코드의 동작을 확인하고 문제를 해결한다."
      ],
      "metadata": {
        "id": "wPr7XkawUBxt"
      }
    },
    {
      "cell_type": "markdown",
      "source": [
        "- Testing Goat: 테스트하는 염소\n",
        "    - 염소는 한 번에 한 가지만 한다.\n",
        "    - 테스트를 먼저해, 테스트를 먼저 하라고!\n",
        "        - TDD에서 가장 먼저 해야 하는 것은 \"테스트를 작성해라\"\n",
        "        - 그리고 예상대로 실패하는지 확인한다.\n",
        "        - 그 후 코드를 작성하고, 이 과정을 무한히 반복한다."
      ],
      "metadata": {
        "id": "eR1G1-R4UOjz"
      }
    },
    {
      "cell_type": "markdown",
      "source": [
        "- 첫 번째 기능 테스트(Functional Test, FT)\n",
        "    - 크롬 브라우저 창을 실행하기 위해 셀레늄의 webdriver를 가동한다.\n",
        "    - 브라우저를 통해 로컬 PC상의 웹 페이지를 연다.\n",
        "    - 웹 페이지 타이틀에 'successfully' 라는 단어가 있는지 확인한다."
      ],
      "metadata": {
        "id": "x-SE__bPUcRj"
      }
    },
    {
      "cell_type": "markdown",
      "source": [
        "- 요구사항 설치\n",
        "    - selenium\n",
        "        - 웹 애플리케이션을 간단히 테스트할 수 있게 도와주는 프레임워크"
      ],
      "metadata": {
        "id": "cXUmAaSwUnE2"
      }
    },
    {
      "cell_type": "code",
      "source": [
        "pip install selenium"
      ],
      "metadata": {
        "id": "8GPN6QIGUpVC"
      },
      "execution_count": null,
      "outputs": []
    },
    {
      "cell_type": "markdown",
      "source": [
        "- 기능 테스트 작성(functional_test.py)"
      ],
      "metadata": {
        "id": "A-e9hAKvUq_W"
      }
    },
    {
      "cell_type": "code",
      "source": [
        "from selenium import webdriver\n",
        "\n",
        "browser = webdriver.Chrome()\n",
        "browser.get(\"http://localhost:8000/\")\n",
        "\n",
        "assert 'successfully' in browser.title"
      ],
      "metadata": {
        "id": "KAy5wlkJUvGV"
      },
      "execution_count": null,
      "outputs": []
    },
    {
      "cell_type": "markdown",
      "source": [
        "- 실행해 보기"
      ],
      "metadata": {
        "id": "svkNj5w2Uxhv"
      }
    },
    {
      "cell_type": "code",
      "source": [
        "python functional_test.py"
      ],
      "metadata": {
        "id": "pLvpFzY7UzTT"
      },
      "execution_count": null,
      "outputs": []
    },
    {
      "cell_type": "markdown",
      "source": [
        "- 예상대로 실패한다.\n",
        "    - 오류 내용\n",
        "        - selenium.common.exceptions.WebDriverException: Message: unknown error: net::ERR_CONNECTION_REFUSED\n",
        "        - 해당 에러는 브라우저가 http://localhost:8000/ 에 접근을 못할때 발생하는 에러이다."
      ],
      "metadata": {
        "id": "fCxrU5oYU1TD"
      }
    },
    {
      "cell_type": "markdown",
      "source": [
        "- Django 설치, 가동 및 실행"
      ],
      "metadata": {
        "id": "v4eKyjFUVC9s"
      }
    },
    {
      "cell_type": "code",
      "source": [
        "# 장고 4.2 버전 설치\n",
        "pip install Django\n",
        "\n",
        "# 프로젝트 시작\n",
        "django-admin startproject superlists .\n",
        "\n",
        "# 장고 구동(manage.py 로 이동후)\n",
        "python manage.py runserver"
      ],
      "metadata": {
        "id": "6uuU8g_EVG3l"
      },
      "execution_count": null,
      "outputs": []
    },
    {
      "cell_type": "markdown",
      "source": [
        "- 테스트 다시 실행해보기"
      ],
      "metadata": {
        "id": "DPP7sEbRVO55"
      }
    },
    {
      "cell_type": "code",
      "source": [
        "python functional_test.py"
      ],
      "metadata": {
        "id": "55Q3RwGKVUp-"
      },
      "execution_count": null,
      "outputs": []
    },
    {
      "cell_type": "markdown",
      "source": [
        "- 커맨드 라인상 변화가 없다 ⇒ 이 말은 AssertionError가 발생하지 않는다는 뜻으로 테스트를 통과 한 것이다!"
      ],
      "metadata": {
        "id": "bDNqfxyAVVwS"
      }
    },
    {
      "cell_type": "markdown",
      "source": [
        "- 구동 페이지 확인\n",
        "    - http://127.0.0.1:8000"
      ],
      "metadata": {
        "id": "thO-pNP2Ve89"
      }
    },
    {
      "cell_type": "markdown",
      "source": [
        "#### 1.9.2 Unittest 모듈을 이용한 기능 테스트 확장"
      ],
      "metadata": {
        "id": "5L6cBxLKVt3T"
      }
    },
    {
      "cell_type": "markdown",
      "source": [
        "[ 코드 및 내용출처: https://tech.sungbinlee.dev/django/tdd-with-python-ch2/ ]"
      ],
      "metadata": {
        "id": "AMbHUleHV4gh"
      }
    },
    {
      "cell_type": "markdown",
      "source": [
        "- To-Do Application 구축하기\n",
        "    - 매우 기본적이면서도 간단한 예제(최소 기능 구현으로 적합)\n",
        "    - 추가 기능(알림, 공유, 마감일, etc.)을 붙일 수 있다."
      ],
      "metadata": {
        "id": "UBIorZTKWA1P"
      }
    },
    {
      "cell_type": "markdown",
      "source": [
        "- 기능 테스트를 이용한 최소 기능의 어플리케이션 설계\n",
        "    - 기능 테스트(Funtional Test, FT)란?\n",
        "        - 사용자 관점의 테스트\n",
        "        - 특정 사용자가 어떻게 사용을 하며 이에 대한 어플리케이션의 반응을 확인하는 방식\n",
        "        - FT는 사람이 이해할 수 있는 스토리를 가져야 함\n",
        "        - 스토리를 먼저 주석으로 작성 가능"
      ],
      "metadata": {
        "id": "N0By7KssdbUd"
      }
    },
    {
      "cell_type": "markdown",
      "source": [
        "- functional_test2.py"
      ],
      "metadata": {
        "id": "eHjCl9dGd-hf"
      }
    },
    {
      "cell_type": "code",
      "source": [
        "from selenium import webdriver\n",
        "\n",
        "browser = webdriver.Chrome()\n",
        "\n",
        "# 에디스(Edith)는 멋진 작업 목록 온라인 앱이 나왔다는 소식을 들고\n",
        "# 해당 웹 사이트를 확인하러 간다\n",
        "browser.get ('http://localhost:8000')\n",
        "# 웹 페이지 타이틀과 헤더가 ' To-Do'를 표시하고 있다\n",
        "assert 'To-Do' in browser.title\n",
        "# 그녀는 바로 작업을 추가하기로 한다\n",
        "# \"공작깃털 사기\" 라고 텍스트 상자에 입력한다\n",
        "# (에디스의 취미는 날치 잡이용 그물을 만드는 것이다)\n",
        "# 엔터키를 치면 페이지가 갱신되고 작업 목록에 # \"1: 공작깃털 사기\" 아이템이 추가된다\n",
        "# 추가 아이템을 입력할 수 있는 여분의 텍스트 상자가 존재한다\n",
        "# 다시 \" 공작깃털을 이용해서 그물 만들기\"라고 입력한다 (에디스는 매우 체계적인 사람이다)\n",
        "# 페이지는 다시 갱신되고, 두 개 아이템이 목록에 보인다\n",
        "# 에디스는 사이트가 입력한 목록을 저장하고 있는지 궁금하다\n",
        "# 사이트는 그녀를 위한 특정 URL을 생성해준다\n",
        "# 이때 URL에 대한 설명도 함께 제공된다\n",
        "# 해당 URL에 접속하면 그녀가 만든 작업 목록이 그대로 있는 것을 확인할 수 있다\n",
        "# 만족하고 잠자리에 든다\n",
        "browser.quit()"
      ],
      "metadata": {
        "id": "vxifv-_gd6SN"
      },
      "execution_count": null,
      "outputs": []
    },
    {
      "cell_type": "markdown",
      "source": [
        "- 실행해보기"
      ],
      "metadata": {
        "id": "GptveE-keH4I"
      }
    },
    {
      "cell_type": "code",
      "source": [
        "python functional_test2.py"
      ],
      "metadata": {
        "id": "m7NV8ZRxeLiu"
      },
      "execution_count": null,
      "outputs": []
    },
    {
      "cell_type": "markdown",
      "source": [
        "- 에러\n",
        "    ```\n",
        "    /Users/iseungbin/Desktop/2024/tdd-python/venv/bin/python functional_tests.py\n",
        "    Traceback (most recent call last):\n",
        "    File \"/Users/iseungbin/Desktop/2024/tdd-python/ch2/functional_tests.py\", line 9, in <module>\n",
        "    assert 'To-Do' in browser.title\n",
        "                                                               \n",
        "    AssertionError\n",
        "    ```"
      ],
      "metadata": {
        "id": "GJ1TOBhpeMjU"
      }
    },
    {
      "cell_type": "markdown",
      "source": [
        "- 우선 테스트 서버가 실행되고 있어야 하며, title을 변경한 적이 없기 때문에 기대한 대로 실패한다."
      ],
      "metadata": {
        "id": "ce6EhLjceY5a"
      }
    },
    {
      "cell_type": "markdown",
      "source": [
        "- 기본 파이썬 테스트 코드의 문제\n",
        "    - AssertionError라는 메시지가 도움이 안됨(단순 Exception)\n",
        "    - 파이썬에서는 테스트를 위한 별도 솔루션이 이미 존재한다. 기본 라이브러리의 unittest 모듈이 그것이다. 바로 적용해 보자"
      ],
      "metadata": {
        "id": "FeCPWSDjecZ0"
      }
    },
    {
      "cell_type": "markdown",
      "source": [
        "- functional_tests_with_unittest.py"
      ],
      "metadata": {
        "id": "V3x79OmZevOt"
      }
    },
    {
      "cell_type": "code",
      "source": [
        "from selenium import webdriver\n",
        "import unittest\n",
        "\n",
        "\n",
        "class NewVisitorTest(unittest.TestCase):\n",
        "\n",
        "    def setUp(self):\n",
        "        self.browser = webdriver.Chrome()\n",
        "        self.browser.implicitly_wait(3)\n",
        "\n",
        "    def test_can_start_a_list_and_retrieve_it_later(self):\n",
        "        # 에디스(Edith)는 멋진 작업 목록 온라인 앱이 나왔다는 소식을 들고\n",
        "        # 해당 웹 사이트를 확인하러 간다\n",
        "        self.browser.get('http://localhost:8000')\n",
        "        # 웹 페이지 타이틀과 헤더가 ' To-Do'를 표시하고 있다\n",
        "        self.assertIn('To-Do', self.browser.title)\n",
        "        self.fail('Finish the test!')\n",
        "        # 그녀는 바로 작업을 추가하기로 한다\n",
        "        # \"공작깃털 사기\" 라고 텍스트 상자에 입력한다\n",
        "        # (에디스의 취미는 날치 잡이용 그물을 만드는 것이다)\n",
        "        # 엔터키를 치면 페이지가 갱신되고 작업 목록에 # \"1: 공작깃털 사기\" 아이템이 추가된다\n",
        "        # 추가 아이템을 입력할 수 있는 여분의 텍스트 상자가 존재한다\n",
        "        # 다시 \"공작깃털을 이용해서 그물 만들기\"라고 입력한다 (에디스는 매우 체계적인 사람이다)\n",
        "        # 페이지는 다시 갱신되고, 두 개 아이템이 목록에 보인다 # 에디스는 사이트가 입력한 목록을 저장하고 있는지 궁금하다\n",
        "        # 사이트는 그녀를 위한 특정 URL을 생성해준다\n",
        "        # 이때 URL에 대한 설명도 함께 제공된다\n",
        "        # 해당 URL에 접속하면 그녀가 만든 작업 목록이 그대로 있는 것을 확인할 수 있다\n",
        "        # 만족하고 잠자리에 든다\n",
        "\n",
        "    if __name__ == '__main__':\n",
        "        unittest.main(warnings='ignore')"
      ],
      "metadata": {
        "id": "60TrRz1_ezF_"
      },
      "execution_count": null,
      "outputs": []
    },
    {
      "cell_type": "markdown",
      "source": [
        "- unittest 적용\n",
        "    - unittest.TestCase를 상속해서 테스트를 클래스 형태로 만든다.\n",
        "    - 모든 테스트는 test_ 라는 명칭으로 시작하는 메소드만 실행된다.\n",
        "    - setUp과 tearDown은 테스트 시작 전과 후에 실행된다.\n",
        "    - assert 대신 self.assertIn을 사용하여 결과를 검증한다.\n",
        "    - unittest는 assertEqual, assertTrue, assertFalse 과 같은 유용한 함수를 다수 제공한다\n",
        "    - 공식문서: https://docs.python.org/3/library/unittest.html\n",
        "    - self.fail은 강제적으로 테스트를 실패시킨다."
      ],
      "metadata": {
        "id": "vp3LWG55mKuC"
      }
    },
    {
      "cell_type": "markdown",
      "source": [
        "- 실행해보기"
      ],
      "metadata": {
        "id": "Ge8fMSrqmYmk"
      }
    },
    {
      "cell_type": "code",
      "source": [
        "python -m unittest functional_tests_with_unittest.py"
      ],
      "metadata": {
        "id": "MC21lA-jmWd8"
      },
      "execution_count": null,
      "outputs": []
    },
    {
      "cell_type": "markdown",
      "source": [
        "- 예상대로 실패\n",
        "    - aseertIn 을 통해 보다 자세한 정보를 확인할 수 있다."
      ],
      "metadata": {
        "id": "rMkqKjGemkSB"
      }
    },
    {
      "cell_type": "markdown",
      "source": [
        "#### 1.9.3 단위 테스트를 이용한 간단한 홈페이지 테스트"
      ],
      "metadata": {
        "id": "htuxIQA1m1mh"
      }
    },
    {
      "cell_type": "markdown",
      "source": [
        "[ 코드 및 내용출처: https://tech.sungbinlee.dev/django/tdd-with-python-ch3/ ]"
      ],
      "metadata": {
        "id": "LP5xGQUEqsxZ"
      }
    },
    {
      "cell_type": "markdown",
      "source": [
        "- 첫 Django App과 첫 단위 테스트\n",
        "    - Django는 코드를 앱(App) 형태로 구조화 하도록 도와준다.\n",
        "    - 다른 프로젝트에서 앱을 재사용할 수 있다."
      ],
      "metadata": {
        "id": "21hDe5Vkm4t3"
      }
    },
    {
      "cell_type": "markdown",
      "source": [
        "- 작업 목록 앱 생성"
      ],
      "metadata": {
        "id": "0_TNDtjLnXDV"
      }
    },
    {
      "cell_type": "code",
      "source": [
        "python manage.py startapp lists"
      ],
      "metadata": {
        "id": "-FLkVZeMnaYr"
      },
      "execution_count": null,
      "outputs": []
    },
    {
      "cell_type": "code",
      "source": [
        "tree"
      ],
      "metadata": {
        "id": "bkwvF087nlGS"
      },
      "execution_count": null,
      "outputs": []
    },
    {
      "cell_type": "markdown",
      "source": [
        "- 기능 테스트(Functional Test)\n",
        "    - 사용자 관점에서 애플리케이션 외부를 테스트를 하는 것\n",
        "- 단위 테스트(Unit Test)\n",
        "    - 프로그래머 관점에서 그 내부를 테스트 하는 것\n",
        "    - TDD 에서는 양쪽 테스트를 모두 적용함"
      ],
      "metadata": {
        "id": "1nJxHUF9p-lN"
      }
    },
    {
      "cell_type": "markdown",
      "source": [
        "- TDD 작업 순서\n",
        "    1. 기능 테스트 작성: 사용자 관점에서의 새로운 기능성을 정의\n",
        "    2. 기능 테스트 실패: 어떻게 하면 테스트를 통과 할지 고민\n",
        "        1. 단위 테스트 작성: 고민을 단위 테스트로 작성\n",
        "        2. 단위 테스트 실패: 최소한의 코드 작성\n",
        "    3. 기능 테스트 재실행: 성공할 때까지 2번 단계를 반복\n",
        "    <br><br>\n",
        "    - 즉, 상위 레벨의 기능을 테스트하고 이를 통과하기 위해 하위 레벨의 단위 테스트를 작성하고 실패시키며 점진적으로 코드를 구현해가는 방식으로 개발하는것이 핵심"
      ],
      "metadata": {
        "id": "E5klbYDMqNHO"
      }
    },
    {
      "cell_type": "markdown",
      "source": [
        "- Django에서의 단위 테스트\n",
        "    - 고의적인 실패 테스트를 만들어서 확인해 보자."
      ],
      "metadata": {
        "id": "qWXy7MF6qmD-"
      }
    },
    {
      "cell_type": "markdown",
      "source": [
        "- lists/tests.py"
      ],
      "metadata": {
        "id": "UfODrUX2rUr1"
      }
    },
    {
      "cell_type": "code",
      "source": [
        "from django.test import TestCase\n",
        "\n",
        "class SmokeTest(TestCase):\n",
        "\n",
        "    def test_bad_maths(self):\n",
        "        self.assertEqual(1 + 1, 3)"
      ],
      "metadata": {
        "id": "SwmDQ74B0J_S"
      },
      "execution_count": null,
      "outputs": []
    },
    {
      "cell_type": "markdown",
      "source": [
        "- 실행해보자."
      ],
      "metadata": {
        "id": "buQ3r7vLrcHX"
      }
    },
    {
      "cell_type": "code",
      "source": [
        "python manage.py test"
      ],
      "metadata": {
        "id": "K-Pnf2hDreiW"
      },
      "execution_count": null,
      "outputs": []
    },
    {
      "cell_type": "markdown",
      "source": [
        "- Django의 MVC, URL, View 함수\n",
        "    - Django 는 대체로 MVC 패턴을 따른다. Django 에서는 MTV(Model-Template-View)로 표현한다.\n",
        "\n",
        "- 장고의 처리 흐름\n",
        "    - 특정 URL에 대한 HTTP 요청을 받는다.\n",
        "    - 요청을 URLconf 을 통해 해석 하고 적절한 뷰를 매핑한다.\n",
        "    - 해당 뷰 기능이 요청을 처리해서 HTTP 응답을 반환한다.\n",
        "\n",
        "- 우리가 테스트 해야할 것은?\n",
        "    - URL의 루트(“/”)를 해석해서 특정 뷰 기능에 매칭시킬 수 있는가?\n",
        "    - 이 뷰 기능이 특정 HTML을 반환하게 해서 기능 테스트를 통과할 수 있는가?"
      ],
      "metadata": {
        "id": "3S0OOGlnrhR0"
      }
    },
    {
      "cell_type": "markdown",
      "source": [
        "- lists/tests.py : 첫 번째 단위 테스트 작성"
      ],
      "metadata": {
        "id": "Zt3BYvH8r7lz"
      }
    },
    {
      "cell_type": "code",
      "source": [
        "from django.urls import resolve\n",
        "from django.test import TestCase\n",
        "from lists.views import home_page\n",
        "\n",
        "\n",
        "class HomePageTest(TestCase):\n",
        "    def test_root_url_resolves_to_home_page_view(self):\n",
        "        found = resolve('/')\n",
        "        self.assertEqual(found.func, home_page)"
      ],
      "metadata": {
        "id": "EsqbN9ogsBrH"
      },
      "execution_count": null,
      "outputs": []
    },
    {
      "cell_type": "markdown",
      "source": [
        "- 실행해보자"
      ],
      "metadata": {
        "id": "hpOe1189sJO5"
      }
    },
    {
      "cell_type": "code",
      "source": [
        "python manage.py test"
      ],
      "metadata": {
        "id": "3DXGtzUGsBEd"
      },
      "execution_count": null,
      "outputs": []
    },
    {
      "cell_type": "markdown",
      "source": [
        "- 예상한대로 에러가 발생\n",
        "    - 아직 존재하지도 않는 것을 임포트 하려고 했기 때문\n",
        "    - TDD 관점에서는 좋은 소식이다.\n",
        "    - 우리는 이제 실패한 기능 테스트와 실패한 단위 테스트를 가지고 있다."
      ],
      "metadata": {
        "id": "cjhdLeipsNB0"
      }
    },
    {
      "cell_type": "markdown",
      "source": [
        "- 마침내 실질적인 애플리케이션 코드를 작성한다.\n",
        "    - 실패 테스트를 해결하기 위한 최소한의 수정만 한다.\n",
        "\n",
        "- 우리가 가지고 있는 실패 테스트는?\n",
        "    - list.views 에서 home_page를 임포트 할수 없다"
      ],
      "metadata": {
        "id": "BtpgVB5zsgv5"
      }
    },
    {
      "cell_type": "markdown",
      "source": [
        "- lists/views.py"
      ],
      "metadata": {
        "id": "cn1f6m4Ssvbz"
      }
    },
    {
      "cell_type": "code",
      "source": [
        "from django.shortcuts import render\n",
        "\n",
        "# Create your views here.\n",
        "home_page = None"
      ],
      "metadata": {
        "id": "iAfZ9fi1sbrc"
      },
      "execution_count": null,
      "outputs": []
    },
    {
      "cell_type": "markdown",
      "source": [
        "- …??? 아무리 최소한의 수정이라고는 하지만 너무 한게 아닌가? 라는 생각이 든다.\n",
        "- 저자에 따르면 TDD 실습의 시발점이자 모든것이라고 하니 계속 따라해보자."
      ],
      "metadata": {
        "id": "DwsggnZos8YR"
      }
    },
    {
      "cell_type": "markdown",
      "source": [
        "- 실행해보자"
      ],
      "metadata": {
        "id": "up0IN_TCtDMo"
      }
    },
    {
      "cell_type": "code",
      "source": [
        "python manage.py test"
      ],
      "metadata": {
        "id": "SO5dD4Sfs_Ce"
      },
      "execution_count": null,
      "outputs": []
    },
    {
      "cell_type": "markdown",
      "source": [
        "    ERROR: test_root_url_resolves_to_home_page_view (lists.tests.HomePageTest.test_root_url_resolves_to_home_page_view)"
      ],
      "metadata": {
        "id": "hFEI7ZZotPYJ"
      }
    },
    {
      "cell_type": "markdown",
      "source": [
        "- superlists/urls.py"
      ],
      "metadata": {
        "id": "ZyYb0q6Nty9W"
      }
    },
    {
      "cell_type": "code",
      "source": [
        "from django.contrib import admin\n",
        "from django.urls import path, include\n",
        "from lists import views as home_views\n",
        "\n",
        "urlpatterns = [\n",
        "    # path(\"admin/\", admin.site.urls),\n",
        "    path('', home_views.home_page, name='home'),\n",
        "]"
      ],
      "metadata": {
        "id": "wrckA63htRFX"
      },
      "execution_count": null,
      "outputs": []
    },
    {
      "cell_type": "markdown",
      "source": [
        "- 실행해보자"
      ],
      "metadata": {
        "id": "Ia5RnQjxuHaH"
      }
    },
    {
      "cell_type": "code",
      "source": [
        "python manage.py test"
      ],
      "metadata": {
        "id": "Q4tI--jquRyt"
      },
      "execution_count": null,
      "outputs": []
    },
    {
      "cell_type": "markdown",
      "source": [
        "    TypeError: view must be a callable or a list/tuple in the case of include()."
      ],
      "metadata": {
        "id": "sxQBkQ7cuNs0"
      }
    },
    {
      "cell_type": "markdown",
      "source": [
        "- 에러가 발생한다.\n",
        "    - url과 view를 성공적으로 매핑을 하였으나 view가 호출할수 없다 라는 에러메세지가 발생하고 있다.\n",
        "    - 실제로 최소한의 작동가능한 코드만 구현해놨기 때문이다.(home_page가 아직 함수가 아님)"
      ],
      "metadata": {
        "id": "efNDcerVuVCC"
      }
    },
    {
      "cell_type": "markdown",
      "source": [
        "- lists/views.py\n",
        "    - 코드를 실제 함수로 구현해 보자."
      ],
      "metadata": {
        "id": "GQxwWO6iuex1"
      }
    },
    {
      "cell_type": "code",
      "source": [
        "from django.shortcuts import render\n",
        "\n",
        "# Create your views here.\n",
        "def home_page():\n",
        "    pass"
      ],
      "metadata": {
        "id": "r4WH2e5tuPQw"
      },
      "execution_count": null,
      "outputs": []
    },
    {
      "cell_type": "markdown",
      "source": [
        "- 다시 실행해보자."
      ],
      "metadata": {
        "id": "E9Ove5ZYuy-h"
      }
    },
    {
      "cell_type": "code",
      "source": [
        "python manage.py test"
      ],
      "metadata": {
        "id": "u6Yrwarmu0-m"
      },
      "execution_count": null,
      "outputs": []
    },
    {
      "cell_type": "markdown",
      "source": [
        "    Found 1 test(s).\n",
        "    Creating test database for alias 'default'...\n",
        "    System check identified no issues (0 silenced).\n",
        "    .\n",
        "    ----------------------------------------------------------------------\n",
        "    Ran 1 test in 0.000s\n",
        "\n",
        "    OK\n",
        "    Destroying test database for alias 'default'..."
      ],
      "metadata": {
        "id": "8d1DG-X-u5pQ"
      }
    },
    {
      "cell_type": "markdown",
      "source": [
        "- View를 위한 단위 테스트\n",
        "    - 이제 빈 함수에서 HTML 형식의 실제 응답을 반환하는 함수를 작성해야 한다.\n",
        "- 이제 우리가 해야할 일은..?\n",
        "    - 테스트를 먼저 작성하자."
      ],
      "metadata": {
        "id": "sqrft7DlvXDh"
      }
    },
    {
      "cell_type": "markdown",
      "source": [
        "- lists/views.py"
      ],
      "metadata": {
        "id": "mv-gmsHIvjAS"
      }
    },
    {
      "cell_type": "code",
      "source": [
        "# from django.core.urlresolvers import resolve # Django 2.0 에서 삭제\n",
        "from django.urls import resolve\n",
        "from django.test import TestCase\n",
        "from django.http import HttpRequest\n",
        "\n",
        "from lists.views import home_page\n",
        "\n",
        "\n",
        "class HomePageTest(TestCase):\n",
        "\n",
        "    def test_root_url_resolves_to_home_page_view(self):\n",
        "        found = resolve('/')\n",
        "        self.assertEqual(found.func, home_page)\n",
        "\n",
        "    # 추가된 테스트\n",
        "    def test_home_page_returns_correct_html(self):\n",
        "        request = HttpRequest()\n",
        "        response = home_page(request) # home_page 뷰에 요청해서 응답을 받는다\n",
        "        self.assertTrue(response.content.startswith(b'<html>')) # 응답 내용이 <html>로 시작하는가?\n",
        "        self.assertIn(b'<title>To-Do lists</title>', response.content) # 타이틀이 To-Do lists 를 포함하는가?\n",
        "        self.assertTrue(response.content.endswith(b'</html>')) # 응답 내용이 </html> 끝나는가?"
      ],
      "metadata": {
        "id": "_yecvSFivich"
      },
      "execution_count": null,
      "outputs": []
    },
    {
      "cell_type": "markdown",
      "source": [
        "- 기대하는 결과\n",
        "    ```\n",
        "    <html>\n",
        "        <title>To-Do lists</title>\n",
        "    </html>\n",
        "    ```"
      ],
      "metadata": {
        "id": "TdbG2hO1vpio"
      }
    },
    {
      "cell_type": "markdown",
      "source": [
        "- 테스트 결과: 실패\n",
        "\n",
        "    ```\n",
        "    TypeError: home_page() takes 0 positional arguments but 1 was given\n",
        "    ```\n",
        "\n",
        "- 이제 점진적으로 코드를 구현해 나갈것"
      ],
      "metadata": {
        "id": "FuufJhW_v8v3"
      }
    },
    {
      "cell_type": "markdown",
      "source": [
        "- 단위 테스트-코드 주기\n",
        "    - 터미널에서 단위 테스트를 실행해서 어떻게 실패하는지 확인한다.\n",
        "    - 편집기상에서 현재 실패 테스트를 수정하기 위한 최소한의 코드를 변경한다."
      ],
      "metadata": {
        "id": "2z77nN5ywQ1E"
      }
    },
    {
      "cell_type": "markdown",
      "source": [
        "- TDD 단위 테스트-코드 주기에 대해 생각해보자.\n",
        "    - 코드 품질을 높이려면? 코드 변경을 최소화\n",
        "    - 최소화한 코드 구현은 하나하나 테스트에 의해 검증\n",
        "    - 즉, 작은 단위로 나누어 코드 변경을 해라. 이 주기를 따라가보자"
      ],
      "metadata": {
        "id": "1z0Afj8ywZJF"
      }
    },
    {
      "cell_type": "markdown",
      "source": [
        "- 최소한의 코드 변경\n",
        "    - 어떤 에러가 발생 했었지?\n",
        "\n",
        "        ```\n",
        "        TypeError: home_page() takes 0 positional arguments but 1 was given\n",
        "        ```\n",
        "\n",
        "    - 해당 에러는 home_page 함수에 argument가 없어서 발생하는 문제이다. 따라서 이를 추가해주자."
      ],
      "metadata": {
        "id": "RmTPQR9BwiFN"
      }
    },
    {
      "cell_type": "code",
      "source": [
        "# lists/views.py\n",
        "\n",
        "def home_page(request):\n",
        "    pass"
      ],
      "metadata": {
        "id": "-ktJ75JSwNmL"
      },
      "execution_count": null,
      "outputs": []
    },
    {
      "cell_type": "markdown",
      "source": [
        "- 테스트\n",
        "\n",
        "    ```\n",
        "    self.assertTrue(response.content.startswith(b'<html>'))\n",
        "    AttributeError: 'NoneType' object has no attribute 'content'\n",
        "    ```"
      ],
      "metadata": {
        "id": "tAadU4lCwwGU"
      }
    },
    {
      "cell_type": "markdown",
      "source": [
        "- 코드\n",
        "    - 아 리턴값이 없다! 그러면 HttpResponse로 응답해주자."
      ],
      "metadata": {
        "id": "HTkQizuLw3ve"
      }
    },
    {
      "cell_type": "code",
      "source": [
        "# lists/views.py\n",
        "from django.http import HttpResponse\n",
        "\n",
        "def home_page(request):\n",
        "    return HttpResponse()"
      ],
      "metadata": {
        "id": "jLttoXc0ww9l"
      },
      "execution_count": null,
      "outputs": []
    },
    {
      "cell_type": "markdown",
      "source": [
        "- 다시 테스트\n",
        "\n",
        "    ```\n",
        "    self.assertTrue(response.content.startswith(b'<html>'))\n",
        "    AssertionError: False is not true\n",
        "    ```"
      ],
      "metadata": {
        "id": "AnCaM3r-xHaO"
      }
    },
    {
      "cell_type": "markdown",
      "source": [
        "- 다시 코드\n",
        "    - 리턴 값 객체는 맞게 왔는데 content가 없다.\n",
        "    - 내용을 채워서 보내자."
      ],
      "metadata": {
        "id": "5teBgPSKxOuy"
      }
    },
    {
      "cell_type": "code",
      "source": [
        "# lists/views.py\n",
        "from django.http import HttpResponse\n",
        "\n",
        "def home_page(request):\n",
        "    return HttpResponse('<html><title>To-Do lists</title></html>')"
      ],
      "metadata": {
        "id": "0l8yroUUxILL"
      },
      "execution_count": null,
      "outputs": []
    },
    {
      "cell_type": "markdown",
      "source": [
        "- 테스트"
      ],
      "metadata": {
        "id": "o8k7xUvpxVxF"
      }
    },
    {
      "cell_type": "code",
      "source": [
        "python manage.py test"
      ],
      "metadata": {
        "id": "w3xWm7PUxWZL"
      },
      "execution_count": null,
      "outputs": []
    },
    {
      "cell_type": "markdown",
      "source": [
        "```\n",
        "Creating test database for alias 'default'...\n",
        "System check identified no issues (0 silenced).\n",
        "..\n",
        "----------------------------------------------------------------------\n",
        "Ran 2 tests in 0.002s\n",
        "\n",
        "OK\n",
        "Destroying test database for alias 'default'...\n",
        "```"
      ],
      "metadata": {
        "id": "2mN29BOtxZqk"
      }
    },
    {
      "cell_type": "markdown",
      "source": [
        "- 기능 테스트\n",
        "    - 단위 테스트가 끝났으니 이제 사용자 관점에서의 기능 테스트를 실행 시켜보자!"
      ],
      "metadata": {
        "id": "kyFwXJ2exb-3"
      }
    },
    {
      "cell_type": "code",
      "source": [
        "# 장고 서버가 실행 중이어야 한다.\n",
        "python -m unittest functional_tests_with_unittest.py"
      ],
      "metadata": {
        "id": "UNQr7yX2xhCj"
      },
      "execution_count": null,
      "outputs": []
    },
    {
      "cell_type": "markdown",
      "source": [
        "```\n",
        "F\n",
        "======================================================================\n",
        "FAIL: test_can_start_a_list_and_retrieve_it_later (functional_tests_with_unittest.NewVisitorTest.test_can_start_a_list_and_retrieve_it_later)\n",
        "----------------------------------------------------------------------\n",
        "Traceback (most recent call last):\n",
        "  File \"/Users/iseungbin/Desktop/2024/tdd-python/ch3/functional_tests_with_unittest.py\", line 20, in test_can_start_a_list_and_retrieve_it_later\n",
        "    self.fail('Finish the test!')\n",
        "AssertionError: Finish the test!\n",
        "\n",
        "----------------------------------------------------------------------\n",
        "Ran 1 test in 1.508s\n",
        "\n",
        "FAILED (failures=1)\n",
        "```"
      ],
      "metadata": {
        "id": "vF50G4i3xpQj"
      }
    },
    {
      "cell_type": "markdown",
      "source": [
        "- 의도적으로 심어준 self.fail() 때문에 unittest는 실패했다고 나오지만 사실상 성공한 것이다."
      ],
      "metadata": {
        "id": "FpIkcwB4xtw1"
      }
    },
    {
      "cell_type": "markdown",
      "source": [
        "- 정리\n",
        "    - 단위 테스트-코드 주기 와 최소한의 코드 변경\n",
        "        - 터미널에서 단위 테스트 실행\n",
        "        - 최소한의 코드 수정\n",
        "        - 반복\n",
        "    - 실제로 구현한 코드의 양은 얼마 되지도 않는다.\n",
        "        - 하지만 TDD는 이 작업을 매우 고되게 만들어 준다.\n",
        "        - 반대로 익숙해지면은 빠르게 고품질의 코드를 생산할수가 있겠구나!"
      ],
      "metadata": {
        "id": "IxYRuQOEx1Ol"
      }
    },
    {
      "cell_type": "code",
      "source": [],
      "metadata": {
        "id": "Atd0S5pNxqwC"
      },
      "execution_count": null,
      "outputs": []
    }
  ]
}