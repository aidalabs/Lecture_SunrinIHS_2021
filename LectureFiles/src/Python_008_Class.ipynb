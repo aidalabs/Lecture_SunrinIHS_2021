{
  "nbformat": 4,
  "nbformat_minor": 0,
  "metadata": {
    "colab": {
      "provenance": [],
      "toc_visible": true
    },
    "kernelspec": {
      "name": "python3",
      "display_name": "Python 3"
    },
    "language_info": {
      "name": "python"
    }
  },
  "cells": [
    {
      "cell_type": "markdown",
      "source": [
        "# **클래스(Class)**"
      ],
      "metadata": {
        "id": "NGXkpB2hIEIe"
      }
    },
    {
      "cell_type": "markdown",
      "source": [
        "## **1. 클래스(Class) 정의**"
      ],
      "metadata": {
        "id": "QZQL9fIVI22D"
      }
    },
    {
      "cell_type": "markdown",
      "source": [
        "- 클래스(Class)\n",
        "    - 객체 지향 프로그래밍(Object Oriented Programming, OOP)에서 특정 객체를 생성하기 위해 변수와 메서드를 정의하는 일종의 틀\n",
        "    - 내부적으로 객체를 정의하기 위한 상태 값을 의미하는 멤버 변수와 클래스의 동작인 메서드(함수)로 구성됨"
      ],
      "metadata": {
        "id": "8hpSCRmOI8hZ"
      }
    },
    {
      "cell_type": "markdown",
      "source": [
        "- 기본 용어\n",
        "    - 클래스 객체(Class Object)\n",
        "        - class 정의문에 의해 지정된 문장들\n",
        "        - 인스턴스 객체를 만드는 틀을 역할을 함\n",
        "        - 메서드에 대한 모든 것을 보관함\n",
        "        - 인스턴스에서 메서드를 호출할 때 클래스의 메서드와 바인딩이 발생해서 처리되는 구조\n",
        "    - 인스턴스 객체(Instance Object)\n",
        "        - 클래스 객체에 의해 만들어진 객체\n",
        "        - __ init __ 메서드 내부에 지정된 속성을 가지는 네임스페이스만 있고 메서드는 클래스에 있는 것을 사용함\n",
        "    - 클래스 객체 멤버(Class Object Member)\n",
        "        - 클래스 속성, 클래스 메서드, 정적 메서드 등은 클래스가 직접 호출해서 처리할 수 있는 멤버\n",
        "        - 인스턴스는 자기 네임스페이스에 지정된 것을 빼면 모든 클래스 멤버에 인스턴스에서 직접 접근 가능\n",
        "        - 프로퍼티 속성: 메서드를 기반으로 이름으로 접근해서 처리되는 속성\n",
        "    - 인스턴스 객체 멤버(Instance Object Member)\n",
        "        - 인스턴스 속성만 인스턴스에서 관리하는 멤버\n",
        "        - 일반적인 인스턴스 메서드는 클래스 내에서 관리함"
      ],
      "metadata": {
        "id": "pAtUpINpJIay"
      }
    },
    {
      "cell_type": "markdown",
      "source": [
        "### 1.1 객체의 분류"
      ],
      "metadata": {
        "id": "9pcxwaYYAl3u"
      }
    },
    {
      "cell_type": "markdown",
      "metadata": {
        "id": "oU7LFDh4QuMX"
      },
      "source": [
        "- 사물에는 기본 정보를 관리하는 클래스가 필요"
      ]
    },
    {
      "cell_type": "code",
      "execution_count": null,
      "metadata": {
        "collapsed": true,
        "id": "gbDUpHL0QuMc"
      },
      "outputs": [],
      "source": [
        "class BookInfo :\n",
        "    def __init__(self,title,author,date,publisher,page) :\n",
        "        self.title = title\n",
        "        self.author = author\n",
        "        self.date = date\n",
        "        self.publisher = publisher\n",
        "        self.page = page\n",
        "\n",
        "book1 = BookInfo(\"서시\",\"윤동주\",\"1939\",\"출판사\",100)\n",
        "book2 = BookInfo(\"파이썬\",\"달문\",\"2017\",\"출판사\",900)\n"
      ]
    },
    {
      "cell_type": "code",
      "execution_count": null,
      "metadata": {
        "id": "Pj6NqMXKQuMe",
        "outputId": "28c6ae69-59f4-4959-a60f-013e49315eb6"
      },
      "outputs": [
        {
          "name": "stdout",
          "output_type": "stream",
          "text": [
            "{'author': '윤동주',\n",
            " 'date': '1939',\n",
            " 'page': 100,\n",
            " 'publisher': '출판사',\n",
            " 'title': '서시'}\n",
            "{'author': '달문',\n",
            " 'date': '2017',\n",
            " 'page': 900,\n",
            " 'publisher': '출판사',\n",
            " 'title': '파이썬'}\n"
          ]
        }
      ],
      "source": [
        "import pprint\n",
        "pprint.pprint(book1.__dict__)\n",
        "pprint.pprint(book2.__dict__)"
      ]
    },
    {
      "cell_type": "markdown",
      "metadata": {
        "id": "nH4n6s8QQuMf"
      },
      "source": [
        "- 책에 대한 메타 정보인 범주 관리"
      ]
    },
    {
      "cell_type": "code",
      "execution_count": null,
      "metadata": {
        "collapsed": true,
        "id": "00-qsaLzQuMg"
      },
      "outputs": [],
      "source": [
        "class BookClass(BookInfo) :\n",
        "    def __init__(self,title,author,date,publisher,page,isdn=None) :\n",
        "        super().__init__(title,author,date,publisher,page)\n",
        "        self.isdn = isdn\n",
        "\n",
        "bookclass1 = BookClass(**book1.__dict__,isdn=\"1111111111111\")\n",
        "bookclass2 = BookClass(**book2.__dict__,isdn=\"2222222222222\")"
      ]
    },
    {
      "cell_type": "code",
      "execution_count": null,
      "metadata": {
        "id": "1I-zcgwfQuMg",
        "outputId": "a6705fec-c7c1-40d0-d3ed-f3d01f3111b2"
      },
      "outputs": [
        {
          "name": "stdout",
          "output_type": "stream",
          "text": [
            "{'author': '윤동주',\n",
            " 'date': '1939',\n",
            " 'isdn': '1111111111111',\n",
            " 'page': 100,\n",
            " 'publisher': '출판사',\n",
            " 'title': '서시'}\n",
            "{'author': '달문',\n",
            " 'date': '2017',\n",
            " 'isdn': '2222222222222',\n",
            " 'page': 900,\n",
            " 'publisher': '출판사',\n",
            " 'title': '파이썬'}\n"
          ]
        }
      ],
      "source": [
        "import pprint\n",
        "pprint.pprint(bookclass1.__dict__)\n",
        "pprint.pprint(bookclass2.__dict__)"
      ]
    },
    {
      "cell_type": "markdown",
      "metadata": {
        "id": "M5e7xKuHQuMg"
      },
      "source": [
        "- 실제 만들어져 있는 객체로써 책을 관리"
      ]
    },
    {
      "cell_type": "code",
      "execution_count": null,
      "metadata": {
        "id": "1DgWLz2oQuMh"
      },
      "outputs": [],
      "source": [
        "class BookInv(BookClass) :\n",
        "    def __init__(self,title,author,date,publisher,page,isdn,inventno=None) :\n",
        "        super().__init__(title,author,date,publisher,page,isdn)\n",
        "        self.inventno = inventno\n",
        "\n",
        "bookinv1 = BookInv(**bookclass1.__dict__,inventno=3000)\n",
        "bookinv2 = BookInv(**bookclass2.__dict__,inventno=3000)\n"
      ]
    },
    {
      "cell_type": "code",
      "execution_count": null,
      "metadata": {
        "id": "feEdzwepQuMh",
        "outputId": "b9902687-e30b-4d86-b8b2-b5c7c9f2f479"
      },
      "outputs": [
        {
          "name": "stdout",
          "output_type": "stream",
          "text": [
            "{'author': '윤동주',\n",
            " 'date': '1939',\n",
            " 'inventno': 3000,\n",
            " 'isdn': '1111111111111',\n",
            " 'page': 100,\n",
            " 'publisher': '출판사',\n",
            " 'title': '서시'}\n",
            "{'author': '달문',\n",
            " 'date': '2017',\n",
            " 'inventno': 3000,\n",
            " 'isdn': '2222222222222',\n",
            " 'page': 900,\n",
            " 'publisher': '출판사',\n",
            " 'title': '파이썬'}\n"
          ]
        }
      ],
      "source": [
        "import pprint\n",
        "pprint.pprint(bookinv1.__dict__)\n",
        "pprint.pprint(bookinv2.__dict__)"
      ]
    },
    {
      "cell_type": "markdown",
      "source": [
        "### 1.2 객체의 특징"
      ],
      "metadata": {
        "id": "IZ17tPyIArMA"
      }
    },
    {
      "cell_type": "markdown",
      "metadata": {
        "id": "vmhGth4TQuMi"
      },
      "source": [
        "- object 클래스로 객체의 레퍼런스 확인하기"
      ]
    },
    {
      "cell_type": "code",
      "execution_count": null,
      "metadata": {
        "id": "UAJPLpmRQuMi",
        "outputId": "e855025c-f1e6-418c-b7f0-9ebaa18f2e7f"
      },
      "outputs": [
        {
          "name": "stdout",
          "output_type": "stream",
          "text": [
            "False\n",
            "34053264 34053280\n"
          ]
        }
      ],
      "source": [
        "a = object()\n",
        "\n",
        "b = object()\n",
        "\n",
        "print(a is b)\n",
        "print(id(a), id(b))"
      ]
    },
    {
      "cell_type": "code",
      "execution_count": null,
      "metadata": {
        "id": "RMdOOyuBQuMi",
        "outputId": "01f8c916-69c6-4d02-89f0-feaa6858e7c9"
      },
      "outputs": [
        {
          "name": "stdout",
          "output_type": "stream",
          "text": [
            "True\n",
            "79067824 79067824\n"
          ]
        }
      ],
      "source": [
        "t = (1,2,3)\n",
        "\n",
        "ts = tuple(t)\n",
        "\n",
        "print(t is ts)\n",
        "print(id(t), id(ts))"
      ]
    },
    {
      "cell_type": "markdown",
      "metadata": {
        "id": "CzY0qg-TQuMj"
      },
      "source": [
        "- int 클래스에 대한  책임성 확인하기"
      ]
    },
    {
      "cell_type": "code",
      "execution_count": null,
      "metadata": {
        "id": "OcicmQd9QuMj",
        "outputId": "f9965294-ea46-4b4a-ea0b-e7a867712518"
      },
      "outputs": [
        {
          "name": "stdout",
          "output_type": "stream",
          "text": [
            "15\n",
            "15\n",
            "5\n",
            "5\n"
          ]
        }
      ],
      "source": [
        "a = int(10)\n",
        "\n",
        "b = int(5)\n",
        "\n",
        "print(a+b)\n",
        "print(a.__add__(b))\n",
        "print(a-b)\n",
        "print(a.__sub__(b))"
      ]
    },
    {
      "cell_type": "markdown",
      "metadata": {
        "collapsed": true,
        "id": "W9Jt_ohvQuMj"
      },
      "source": [
        "- int 클래스 내에서 관리하는 속성과 메소드 확인하기"
      ]
    },
    {
      "cell_type": "code",
      "execution_count": null,
      "metadata": {
        "id": "0NQw7TUiQuMj",
        "outputId": "0e5642e9-17f6-4936-d15d-cd1e0121633d"
      },
      "outputs": [
        {
          "name": "stdout",
          "output_type": "stream",
          "text": [
            "__abs__ __add__ __and__ __bool__ __ceil__ \n",
            "__class__ __delattr__ __dir__ __divmod__ __doc__ \n",
            "__eq__ __float__ __floor__ __floordiv__ __format__ \n",
            "__ge__ __getattribute__ __getnewargs__ __gt__ __hash__ \n",
            "__index__ __init__ __init_subclass__ __int__ __invert__ \n",
            "__le__ __lshift__ __lt__ __mod__ __mul__ \n",
            "__ne__ __neg__ __new__ __or__ __pos__ \n",
            "__pow__ __radd__ __rand__ __rdivmod__ __reduce__ \n",
            "__reduce_ex__ __repr__ __rfloordiv__ __rlshift__ __rmod__ \n",
            "__rmul__ __ror__ __round__ __rpow__ __rrshift__ \n",
            "__rshift__ __rsub__ __rtruediv__ __rxor__ __setattr__ \n",
            "__sizeof__ __str__ __sub__ __subclasshook__ __truediv__ \n",
            "__trunc__ __xor__ bit_length conjugate denominator \n",
            "from_bytes imag numerator real to_bytes \n"
          ]
        }
      ],
      "source": [
        "for i,v in enumerate(dir(int),1) :\n",
        "    print(v,end=\" \")\n",
        "    if i % 5 == 0 :\n",
        "        print()"
      ]
    },
    {
      "cell_type": "markdown",
      "source": [
        "### 1.3 최상위 클래스 object 이해하기"
      ],
      "metadata": {
        "id": "DCvUF6VtBKCY"
      }
    },
    {
      "cell_type": "markdown",
      "metadata": {
        "id": "ccjMKRJPQuMj"
      },
      "source": [
        "- object 클래스 내부의 속성과 메소드 보기"
      ]
    },
    {
      "cell_type": "code",
      "execution_count": null,
      "metadata": {
        "id": "TIEO56X1QuMk",
        "outputId": "1291cfec-a419-4728-aaba-3538a541f9a8"
      },
      "outputs": [
        {
          "name": "stdout",
          "output_type": "stream",
          "text": [
            "__class__ __delattr__ __dir__ __doc__ __eq__ \n",
            "__format__ __ge__ __getattribute__ __gt__ __hash__ \n",
            "__init__ __init_subclass__ __le__ __lt__ __ne__ \n",
            "__new__ __reduce__ __reduce_ex__ __repr__ __setattr__ \n",
            "__sizeof__ __str__ __subclasshook__ "
          ]
        }
      ],
      "source": [
        "for i,v in enumerate(dir(object),1) :\n",
        "    print(v,end=\" \")\n",
        "    if i % 5 == 0 :\n",
        "        print()\n"
      ]
    },
    {
      "cell_type": "code",
      "execution_count": null,
      "metadata": {
        "id": "e_qWbCJVQuMk",
        "outputId": "a4c7615f-6a96-4586-eeee-f1f56a272a60"
      },
      "outputs": [
        {
          "name": "stdout",
          "output_type": "stream",
          "text": [
            "The most base type\n",
            "object\n",
            "<class 'object'>\n",
            "<type object at 0x000000005DE687A0>\n"
          ]
        }
      ],
      "source": [
        "print(object.__doc__)\n",
        "print(object.__name__)\n",
        "print(object.__str__(object))\n",
        "print(object.__repr__(object))"
      ]
    },
    {
      "cell_type": "code",
      "execution_count": null,
      "metadata": {
        "id": "sI_XOmHHQuMk",
        "outputId": "7281664b-795c-4a02-9b17-39e8a981e65f"
      },
      "outputs": [
        {
          "name": "stdout",
          "output_type": "stream",
          "text": [
            "True\n",
            "True\n"
          ]
        }
      ],
      "source": [
        "print(object.__eq__(object, object))\n",
        "print(object is object)"
      ]
    },
    {
      "cell_type": "code",
      "execution_count": null,
      "metadata": {
        "id": "n4NGwxEFQuMk",
        "outputId": "7c6b7103-d836-4bed-ca86-0b26214e18fa"
      },
      "outputs": [
        {
          "name": "stdout",
          "output_type": "stream",
          "text": [
            "<object object at 0x0000000002079CF0>\n"
          ]
        },
        {
          "ename": "AttributeError",
          "evalue": "'object' object has no attribute '__dict__'",
          "output_type": "error",
          "traceback": [
            "\u001b[0;31m---------------------------------------------------------------------------\u001b[0m",
            "\u001b[0;31mAttributeError\u001b[0m                            Traceback (most recent call last)",
            "\u001b[0;32m<ipython-input-14-b56a300d7645>\u001b[0m in \u001b[0;36m<module>\u001b[0;34m()\u001b[0m\n\u001b[1;32m      2\u001b[0m \u001b[1;33m\u001b[0m\u001b[0m\n\u001b[1;32m      3\u001b[0m \u001b[0mprint\u001b[0m\u001b[1;33m(\u001b[0m\u001b[0mo\u001b[0m\u001b[1;33m)\u001b[0m\u001b[1;33m\u001b[0m\u001b[0m\n\u001b[0;32m----> 4\u001b[0;31m \u001b[0mprint\u001b[0m\u001b[1;33m(\u001b[0m\u001b[0mo\u001b[0m\u001b[1;33m.\u001b[0m\u001b[0m__dict__\u001b[0m\u001b[1;33m)\u001b[0m\u001b[1;33m\u001b[0m\u001b[0m\n\u001b[0m",
            "\u001b[0;31mAttributeError\u001b[0m: 'object' object has no attribute '__dict__'"
          ]
        }
      ],
      "source": [
        "o = object()\n",
        "\n",
        "print(o)\n",
        "print(o.__dict__)"
      ]
    },
    {
      "cell_type": "markdown",
      "source": [
        "### 1.4 파이썬 클래스 생성 및 기본 상속 구조"
      ],
      "metadata": {
        "id": "CZ3fuIBPBRBW"
      }
    },
    {
      "cell_type": "markdown",
      "metadata": {
        "id": "SPQ_hjSPQuMk"
      },
      "source": [
        "- Type 클래스의 insetance 여부 확인"
      ]
    },
    {
      "cell_type": "code",
      "execution_count": null,
      "metadata": {
        "id": "Wk-y5P-PQuMk",
        "outputId": "7862ebcf-fafa-4073-e1b5-86045b2cfe56"
      },
      "outputs": [
        {
          "name": "stdout",
          "output_type": "stream",
          "text": [
            "True\n",
            "True\n",
            "True\n",
            "True\n",
            "True\n",
            "True\n",
            "True\n",
            "True\n",
            "True\n"
          ]
        }
      ],
      "source": [
        "l = [type, object, int, float, str, tuple, list, dict,set]\n",
        "\n",
        "for i in l :\n",
        "    print(isinstance(i,type))"
      ]
    },
    {
      "cell_type": "code",
      "execution_count": null,
      "metadata": {
        "id": "L1Pkv57vQuMl",
        "outputId": "a4b8fd11-47d7-4c26-a318-998938c1b626"
      },
      "outputs": [
        {
          "name": "stdout",
          "output_type": "stream",
          "text": [
            "True\n",
            "True\n",
            "True\n",
            "True\n",
            "True\n",
            "True\n",
            "True\n",
            "True\n",
            "True\n"
          ]
        }
      ],
      "source": [
        "l = [type, object, int, float, str, tuple, list, dict,set]\n",
        "\n",
        "for i in l :\n",
        "    print(issubclass(i,object))"
      ]
    },
    {
      "cell_type": "markdown",
      "metadata": {
        "id": "v0WFQCBOQuMl"
      },
      "source": [
        "- Class 내부 속성 __ class __, __ bases __ 확인"
      ]
    },
    {
      "cell_type": "code",
      "execution_count": null,
      "metadata": {
        "id": "2YZapObEQuMl",
        "outputId": "10514353-d7c3-4fde-fdb7-e0a789b0f9de"
      },
      "outputs": [
        {
          "name": "stdout",
          "output_type": "stream",
          "text": [
            "<class 'type'>\n",
            "<class 'type'>\n",
            "<class 'type'>\n",
            "<class 'type'>\n",
            "<class 'type'>\n",
            "<class 'type'>\n",
            "<class 'type'>\n",
            "<class 'type'>\n",
            "<class 'type'>\n"
          ]
        }
      ],
      "source": [
        "l = ['type', 'object', 'int', 'float', 'str', 'tuple', 'list', 'dict','set']\n",
        "\n",
        "for i in l :\n",
        "    print(eval(i+\".__class__\"))"
      ]
    },
    {
      "cell_type": "code",
      "execution_count": null,
      "metadata": {
        "id": "iuh0I6SpQuMl",
        "outputId": "e9c0addd-d435-4a79-a0c5-1503b0abe0de"
      },
      "outputs": [
        {
          "name": "stdout",
          "output_type": "stream",
          "text": [
            "(<class 'object'>,)\n",
            "()\n",
            "(<class 'object'>,)\n",
            "(<class 'object'>,)\n",
            "(<class 'object'>,)\n",
            "(<class 'object'>,)\n",
            "(<class 'object'>,)\n",
            "(<class 'object'>,)\n",
            "(<class 'object'>,)\n"
          ]
        }
      ],
      "source": [
        "l = ['type', 'object', 'int', 'float', 'str', 'tuple', 'list', 'dict','set']\n",
        "\n",
        "for i in l :\n",
        "    print(eval(i+\".__bases__\"))"
      ]
    },
    {
      "cell_type": "markdown",
      "metadata": {
        "id": "CvtDe1RfQuMl"
      },
      "source": [
        "- 내장 클래스와 인스턴스의 관계 확인"
      ]
    },
    {
      "cell_type": "code",
      "execution_count": null,
      "metadata": {
        "id": "ILPQC3JTQuMl",
        "outputId": "9a303edd-2dba-4d20-a7df-257592bd2a94"
      },
      "outputs": [
        {
          "name": "stdout",
          "output_type": "stream",
          "text": [
            "True\n",
            "True\n",
            "True\n",
            "True\n",
            "True\n",
            "True\n",
            "True\n",
            "True\n"
          ]
        }
      ],
      "source": [
        "l = ['object', 'int', 'float', 'str', 'tuple', 'list', 'dict','set']\n",
        "\n",
        "for i in l :\n",
        "    print(eval(\"isinstance(\"+i+\"(),\"+i+\")\"))"
      ]
    },
    {
      "cell_type": "code",
      "execution_count": null,
      "metadata": {
        "id": "K8rk1rmwQuMl",
        "outputId": "d0e577bf-86cd-4691-9705-22d5e2558604"
      },
      "outputs": [
        {
          "name": "stdout",
          "output_type": "stream",
          "text": [
            "<class 'object'>\n",
            "<class 'int'>\n",
            "<class 'float'>\n",
            "<class 'str'>\n",
            "<class 'tuple'>\n",
            "<class 'list'>\n",
            "<class 'dict'>\n",
            "<class 'set'>\n"
          ]
        }
      ],
      "source": [
        "l = ['object', 'int', 'float', 'str', 'tuple', 'list', 'dict','set']\n",
        "\n",
        "for i in l :\n",
        "    print(eval(i+\"().__class__\"))"
      ]
    },
    {
      "cell_type": "markdown",
      "source": [
        "### 1.5 사용자 정의 클래스"
      ],
      "metadata": {
        "id": "Gc34Lza6BYLp"
      }
    },
    {
      "cell_type": "markdown",
      "metadata": {
        "id": "xWO9p9KfQuMm"
      },
      "source": [
        "- 사용자 정의 클래스 기본 확인"
      ]
    },
    {
      "cell_type": "code",
      "execution_count": null,
      "metadata": {
        "id": "hecoOvW5QuMm",
        "outputId": "fe27872e-2684-4fbe-df56-989aabe07795"
      },
      "outputs": [
        {
          "name": "stdout",
          "output_type": "stream",
          "text": [
            "<class 'type'>\n",
            "(<class 'object'>,)\n",
            "True\n",
            "True\n"
          ]
        }
      ],
      "source": [
        "class Klass :\n",
        "    pass\n",
        "\n",
        "print(Klass.__class__)\n",
        "print(Klass.__bases__)\n",
        "\n",
        "print(isinstance(Klass, type))\n",
        "print(issubclass(Klass, object))"
      ]
    },
    {
      "cell_type": "code",
      "execution_count": null,
      "metadata": {
        "id": "WYjrO69vQuMm",
        "outputId": "19aad07c-d50e-4799-cd5a-d0fdf421aa98"
      },
      "outputs": [
        {
          "name": "stdout",
          "output_type": "stream",
          "text": [
            "<class '__main__.Int'> 10\n",
            "mappingproxy({'__dict__': <attribute '__dict__' of 'Int' objects>,\n",
            "              '__doc__': None,\n",
            "              '__module__': '__main__'})\n"
          ]
        }
      ],
      "source": [
        "import pprint\n",
        "\n",
        "class Int(int) :\n",
        "    pass\n",
        "\n",
        "a = Int(10)\n",
        "print(type(a),a)\n",
        "\n",
        "pprint.pprint(Int.__dict__)"
      ]
    },
    {
      "cell_type": "code",
      "execution_count": null,
      "metadata": {
        "id": "HDpsHgvVQuMm",
        "outputId": "67a68bb8-2334-4370-be05-9b9ed3027857"
      },
      "outputs": [
        {
          "name": "stdout",
          "output_type": "stream",
          "text": [
            "<class 'type'>\n",
            "(<class 'int'>,)\n",
            "True\n",
            "True\n",
            "True\n"
          ]
        }
      ],
      "source": [
        "print(Int.__class__)\n",
        "print(Int.__bases__)\n",
        "\n",
        "print(isinstance(Int, type))\n",
        "print(issubclass(Int, object))\n",
        "print(issubclass(Int, int))"
      ]
    },
    {
      "cell_type": "markdown",
      "metadata": {
        "id": "mwlkwSioQuMm"
      },
      "source": [
        "- Person 사용자 클래스를 정의 및 속성 확인"
      ]
    },
    {
      "cell_type": "code",
      "execution_count": null,
      "metadata": {
        "id": "PPpYKtTmQuMm",
        "outputId": "fd796864-e8b9-417a-c8ac-b782cf8445ad"
      },
      "outputs": [
        {
          "name": "stdout",
          "output_type": "stream",
          "text": [
            "<__main__.Person object at 0x0000000004B7BF60>\n",
            "{'name': '줄리아', 'age': 15}\n",
            "줄리아\n",
            "15\n"
          ]
        }
      ],
      "source": [
        "class Person :\n",
        "    def __init__(self, name, age) :\n",
        "        self.name = name\n",
        "        self.age  = age\n",
        "\n",
        "p = Person(\"줄리아\",15)\n",
        "\n",
        "print(p)\n",
        "print(p.__dict__)\n",
        "print(p.name)\n",
        "print(p.age)"
      ]
    },
    {
      "cell_type": "code",
      "execution_count": null,
      "metadata": {
        "id": "Xrc07q8tQuMn",
        "outputId": "b852ba0f-351c-4daf-c272-af5c1e944b1f"
      },
      "outputs": [
        {
          "name": "stdout",
          "output_type": "stream",
          "text": [
            "{'__weakref__', '__dict__', '__module__'}\n"
          ]
        }
      ],
      "source": [
        "o = set(dir(object))\n",
        "pc = set(dir(Person))\n",
        "\n",
        "print(pc-o)"
      ]
    },
    {
      "cell_type": "code",
      "execution_count": null,
      "metadata": {
        "id": "FWb3fGubQuMn",
        "outputId": "82f79b01-18ac-4751-8031-61d6a5b361de"
      },
      "outputs": [
        {
          "name": "stdout",
          "output_type": "stream",
          "text": [
            "__main__\n",
            "(<class 'object'>,)\n",
            "<class 'type'>\n"
          ]
        }
      ],
      "source": [
        "print(Person.__module__)\n",
        "print(Person.__bases__)\n",
        "print(Person.__class__)"
      ]
    },
    {
      "cell_type": "markdown",
      "source": [
        "### 1.6 객체 네임스페이스 및 스코프"
      ],
      "metadata": {
        "id": "L8cx3eGZBfVq"
      }
    },
    {
      "cell_type": "markdown",
      "metadata": {
        "id": "TtOpldGZQuMn"
      },
      "source": [
        "- 클래스와 인스턴스 객체간의 네임스페이스 접근"
      ]
    },
    {
      "cell_type": "code",
      "execution_count": null,
      "metadata": {
        "collapsed": true,
        "id": "SZAUoFHTQuMr"
      },
      "outputs": [],
      "source": [
        "class Klass :\n",
        "    name = \"Klass attr\"\n",
        "    def __init__(self, name) :\n",
        "        self.name = name\n",
        "\n",
        "    def getname(self) :\n",
        "        return self.name\n",
        "\n"
      ]
    },
    {
      "cell_type": "code",
      "execution_count": null,
      "metadata": {
        "id": "VsUtwS5hQuMr",
        "outputId": "c2d7d972-9bb0-4f05-dba2-1cef9eb97210"
      },
      "outputs": [
        {
          "name": "stdout",
          "output_type": "stream",
          "text": [
            "instance attr\n",
            "Klass attr\n"
          ]
        }
      ],
      "source": [
        "k = Klass(\"instance attr\")\n",
        "\n",
        "print(k.name)\n",
        "print(Klass.name)"
      ]
    },
    {
      "cell_type": "code",
      "execution_count": null,
      "metadata": {
        "id": "OyOfPh-ZQuMr",
        "outputId": "17bcc4b7-6673-4460-d6de-6ec1bfacca95"
      },
      "outputs": [
        {
          "name": "stdout",
          "output_type": "stream",
          "text": [
            "{'name': 'instance attr', 'getclassname': 'Klass attr'}\n",
            "Klass attr\n"
          ]
        }
      ],
      "source": [
        "k.getclassname = Klass.name\n",
        "print(k.__dict__)\n",
        "print(k.getclassname)"
      ]
    },
    {
      "cell_type": "code",
      "execution_count": null,
      "metadata": {
        "id": "5AzW4SqKQuMr",
        "outputId": "0cf3630d-89bf-42e2-8a1f-7f21e84cce56"
      },
      "outputs": [
        {
          "name": "stdout",
          "output_type": "stream",
          "text": [
            "instance attr\n",
            "instance attr\n"
          ]
        }
      ],
      "source": [
        "print(k.getname())\n",
        "\n",
        "print(Klass.getname(k))"
      ]
    },
    {
      "cell_type": "code",
      "execution_count": null,
      "metadata": {
        "id": "DID3-EmwQuMr",
        "outputId": "6b732111-c0a2-419d-f9d9-b13313b8ca6c"
      },
      "outputs": [
        {
          "name": "stdout",
          "output_type": "stream",
          "text": [
            "mappingproxy({'__dict__': <attribute '__dict__' of 'Klass' objects>,\n",
            "              '__doc__': None,\n",
            "              '__init__': <function Klass.__init__ at 0x0000000004BF3378>,\n",
            "              '__module__': '__main__',\n",
            "              '__weakref__': <attribute '__weakref__' of 'Klass' objects>,\n",
            "              'getname': <function Klass.getname at 0x0000000004BF30D0>,\n",
            "              'name': 'Klass attr'})\n"
          ]
        }
      ],
      "source": [
        "import pprint\n",
        "\n",
        "pprint.pprint(Klass.__dict__)"
      ]
    },
    {
      "cell_type": "code",
      "execution_count": null,
      "metadata": {
        "id": "whDtPr3KQuMr",
        "outputId": "fd7350ec-78f9-4020-8e64-adec6d1ef629"
      },
      "outputs": [
        {
          "name": "stdout",
          "output_type": "stream",
          "text": [
            "<bound method Klass.getname of <__main__.Klass object at 0x0000000004B6C208>>\n",
            "<function Klass.getname at 0x0000000004BF30D0>\n"
          ]
        }
      ],
      "source": [
        "print(k.getname)\n",
        "print(Klass.getname)"
      ]
    },
    {
      "cell_type": "markdown",
      "source": [
        "## **2. 생성자(Constructor)와 소멸자(Destructor)**"
      ],
      "metadata": {
        "id": "bYTV-KGSImpe"
      }
    },
    {
      "cell_type": "markdown",
      "source": [
        "### 2.1 생성자 이해하기: __ new __"
      ],
      "metadata": {
        "id": "Qlw3EzqcBkqy"
      }
    },
    {
      "cell_type": "markdown",
      "metadata": {
        "id": "2NCvcYWcQuMs"
      },
      "source": [
        "- 클래스 생성자로  인스턴스 생성하기"
      ]
    },
    {
      "cell_type": "code",
      "execution_count": null,
      "metadata": {
        "id": "ZkJNY-vcQuMs",
        "outputId": "a88363cc-55d9-418d-a211-7ec421e07eaf"
      },
      "outputs": [
        {
          "name": "stdout",
          "output_type": "stream",
          "text": [
            "<__main__.AAA object at 0x0000000004B6C3C8>\n"
          ]
        }
      ],
      "source": [
        "import pprint\n",
        "\n",
        "class AAA :\n",
        "    def __new__(cls) :\n",
        "        return object.__new__(cls)\n",
        "\n",
        "aaa = AAA()\n",
        "\n",
        "print(aaa)"
      ]
    },
    {
      "cell_type": "code",
      "execution_count": null,
      "metadata": {
        "id": "4eTo0xohQuMs",
        "outputId": "8134a545-6d37-4bd5-c782-b47633cad47a"
      },
      "outputs": [
        {
          "name": "stdout",
          "output_type": "stream",
          "text": [
            "mappingproxy({'__dict__': <attribute '__dict__' of 'AAA' objects>,\n",
            "              '__doc__': None,\n",
            "              '__module__': '__main__',\n",
            "              '__new__': <staticmethod object at 0x0000000004B6C048>,\n",
            "              '__weakref__': <attribute '__weakref__' of 'AAA' objects>})\n"
          ]
        }
      ],
      "source": [
        "pprint.pprint(AAA.__dict__)"
      ]
    },
    {
      "cell_type": "code",
      "execution_count": null,
      "metadata": {
        "id": "5bTOMfXJQuMs",
        "outputId": "08ceff91-35f4-4ab6-fd35-dd38232e7750"
      },
      "outputs": [
        {
          "name": "stdout",
          "output_type": "stream",
          "text": [
            "True\n"
          ]
        }
      ],
      "source": [
        "print(isinstance(aaa,AAA))"
      ]
    },
    {
      "cell_type": "markdown",
      "metadata": {
        "id": "WqoQRqUEQuMs"
      },
      "source": [
        "- 자기 자신의 클래스만 처리"
      ]
    },
    {
      "cell_type": "code",
      "execution_count": null,
      "metadata": {
        "id": "p0CJeuPPQuMs",
        "outputId": "e1441112-b545-440c-cbb1-d63cc4c97da3"
      },
      "outputs": [
        {
          "name": "stdout",
          "output_type": "stream",
          "text": [
            "<class '__main__.OnlyKlass'>\n"
          ]
        }
      ],
      "source": [
        "class OnlyKlass :\n",
        "    def __new__(cls) :\n",
        "        return cls\n",
        "\n",
        "ok = OnlyKlass()\n",
        "\n",
        "print(ok)"
      ]
    },
    {
      "cell_type": "code",
      "execution_count": null,
      "metadata": {
        "id": "yrAJIhVgQuMs",
        "outputId": "a269e9cf-7779-4cac-8efd-3595ff23d2a0"
      },
      "outputs": [
        {
          "name": "stdout",
          "output_type": "stream",
          "text": [
            "<class 'type'>\n",
            "True\n"
          ]
        }
      ],
      "source": [
        "print(type(ok))\n",
        "print(ok is OnlyKlass)"
      ]
    },
    {
      "cell_type": "code",
      "execution_count": null,
      "metadata": {
        "collapsed": true,
        "id": "h5h17T4wQuMt"
      },
      "outputs": [],
      "source": [
        "class OnlyKlass :\n",
        "    def __new__(cls) :\n",
        "        return cls\n",
        "\n",
        "    @classmethod\n",
        "    def getname(cls) :\n",
        "        return cls.name\n",
        "\n",
        "    @classmethod\n",
        "    def setname(cls, name) :\n",
        "        cls.name = name\n"
      ]
    },
    {
      "cell_type": "code",
      "execution_count": null,
      "metadata": {
        "id": "XCuv3_7cQuMt",
        "outputId": "f472ef6b-1a4b-4b68-9f9e-2fba55188de7"
      },
      "outputs": [
        {
          "name": "stdout",
          "output_type": "stream",
          "text": [
            "mappingproxy({'__dict__': <attribute '__dict__' of 'OnlyKlass' objects>,\n",
            "              '__doc__': None,\n",
            "              '__module__': '__main__',\n",
            "              '__new__': <staticmethod object at 0x0000000004B50588>,\n",
            "              '__weakref__': <attribute '__weakref__' of 'OnlyKlass' objects>,\n",
            "              'getname': <classmethod object at 0x0000000004B509B0>,\n",
            "              'setname': <classmethod object at 0x0000000004B509E8>})\n"
          ]
        }
      ],
      "source": [
        "import pprint\n",
        "\n",
        "pprint.pprint(OnlyKlass.__dict__)"
      ]
    },
    {
      "cell_type": "code",
      "execution_count": null,
      "metadata": {
        "id": "WJpwacJjQuMt",
        "outputId": "be0db54d-532b-48cf-e9ab-337b117d8238"
      },
      "outputs": [
        {
          "name": "stdout",
          "output_type": "stream",
          "text": [
            " class method \n"
          ]
        }
      ],
      "source": [
        "ok = OnlyKlass()\n",
        "\n",
        "ok.setname(\" class method \")\n",
        "print(ok.getname())"
      ]
    },
    {
      "cell_type": "markdown",
      "source": [
        "### 2.2 초기화 메서드 사용하기: __ init __"
      ],
      "metadata": {
        "id": "7z7XV2rJBsxL"
      }
    },
    {
      "cell_type": "markdown",
      "metadata": {
        "id": "YevW_hZIQuMt"
      },
      "source": [
        "- 인스턴스 속성을 초기화"
      ]
    },
    {
      "cell_type": "code",
      "execution_count": null,
      "metadata": {
        "id": "xB5yrV_yQuMt",
        "outputId": "3b9072cf-4cb5-43b3-d46c-99883767b0d0"
      },
      "outputs": [
        {
          "name": "stdout",
          "output_type": "stream",
          "text": [
            "{}\n",
            "{'name': '양영초', 'age': 10}\n"
          ]
        }
      ],
      "source": [
        "class Pass :\n",
        "    pass\n",
        "\n",
        "p = Pass()\n",
        "\n",
        "print(p.__dict__)\n",
        "\n",
        "p.name = \"양영초\"\n",
        "p.age = 10\n",
        "\n",
        "print(p.__dict__)"
      ]
    },
    {
      "cell_type": "code",
      "execution_count": null,
      "metadata": {
        "id": "at8mJzMYQuMu",
        "outputId": "bd6a9384-8422-4579-85b2-d8c5bf912179"
      },
      "outputs": [
        {
          "ename": "TypeError",
          "evalue": "__init__() missing 2 required positional arguments: 'name' and 'age'",
          "output_type": "error",
          "traceback": [
            "\u001b[0;31m---------------------------------------------------------------------------\u001b[0m",
            "\u001b[0;31mTypeError\u001b[0m                                 Traceback (most recent call last)",
            "\u001b[0;32m<ipython-input-42-90dbd25d649e>\u001b[0m in \u001b[0;36m<module>\u001b[0;34m()\u001b[0m\n\u001b[1;32m      6\u001b[0m         \u001b[0mself\u001b[0m\u001b[1;33m.\u001b[0m\u001b[0mcount\u001b[0m \u001b[1;33m+=\u001b[0m \u001b[1;36m1\u001b[0m\u001b[1;33m\u001b[0m\u001b[0m\n\u001b[1;32m      7\u001b[0m \u001b[1;33m\u001b[0m\u001b[0m\n\u001b[0;32m----> 8\u001b[0;31m \u001b[0mi\u001b[0m \u001b[1;33m=\u001b[0m \u001b[0mINIT\u001b[0m\u001b[1;33m(\u001b[0m\u001b[1;33m)\u001b[0m\u001b[1;33m\u001b[0m\u001b[0m\n\u001b[0m",
            "\u001b[0;31mTypeError\u001b[0m: __init__() missing 2 required positional arguments: 'name' and 'age'"
          ]
        }
      ],
      "source": [
        "class INIT :\n",
        "    count = 0\n",
        "    def __init__(self,name,age) :\n",
        "        self.name = name\n",
        "        self.age = age\n",
        "        self.count += 1\n",
        "\n",
        "i = INIT()\n"
      ]
    },
    {
      "cell_type": "code",
      "execution_count": null,
      "metadata": {
        "id": "Iju7qb3SQuMu",
        "outputId": "771537f1-2d40-4cb5-bc23-b5c0056e1cde"
      },
      "outputs": [
        {
          "name": "stdout",
          "output_type": "stream",
          "text": [
            "{'name': '양영중', 'age': 15, 'count': 1}\n"
          ]
        }
      ],
      "source": [
        "class INIT :\n",
        "    count = 0\n",
        "    def __init__(self,name,age) :\n",
        "        self.name = name\n",
        "        self.age = age\n",
        "        self.count += 1\n",
        "\n",
        "i = INIT(\"양영중\",15)\n",
        "print(i.__dict__)"
      ]
    },
    {
      "cell_type": "code",
      "execution_count": null,
      "metadata": {
        "id": "yxABiM6sQuMu",
        "outputId": "0dd1abfb-8b21-4e61-8bd9-aa53cf0897a6"
      },
      "outputs": [
        {
          "name": "stdout",
          "output_type": "stream",
          "text": [
            "양영중\n",
            "15\n",
            "1\n"
          ]
        }
      ],
      "source": [
        "print(i.name)\n",
        "print(i.age)\n",
        "print(i.count)"
      ]
    },
    {
      "cell_type": "markdown",
      "source": [
        "### 2.3 소멸자 메서드 사용하기: __ del __"
      ],
      "metadata": {
        "id": "0nSXlDzYB0tF"
      }
    },
    {
      "cell_type": "markdown",
      "metadata": {
        "id": "bw-k8Q3UQuMu"
      },
      "source": [
        "- 소멸자 정의된 클래스 생성하기"
      ]
    },
    {
      "cell_type": "code",
      "execution_count": null,
      "metadata": {
        "collapsed": true,
        "id": "sV94Ht-EQuMu"
      },
      "outputs": [],
      "source": [
        "class Counter :\n",
        "    count = 0\n",
        "\n",
        "    def __init__(self,name) :\n",
        "        self.name = name\n",
        "        Counter.count = Counter.count +1\n",
        "\n",
        "    def __del__(self) :\n",
        "        Counter.count = Counter.count -1"
      ]
    },
    {
      "cell_type": "code",
      "execution_count": null,
      "metadata": {
        "id": "7Hje49ZGQuMu",
        "outputId": "fbcfd15f-bbdf-44a7-ec43-2e0f64041cd3"
      },
      "outputs": [
        {
          "name": "stdout",
          "output_type": "stream",
          "text": [
            "<__main__.Counter object at 0x0000000004BFB748>\n",
            "{'name': ' First '}\n",
            "1\n",
            "<__main__.Counter object at 0x0000000004BFB9E8>\n",
            "{'name': ' Second '}\n",
            "2\n",
            "1\n"
          ]
        }
      ],
      "source": [
        "x = Counter(\" First \")\n",
        "print(x)\n",
        "print(x.__dict__)\n",
        "print(Counter.count)\n",
        "y = Counter(\" Second \")\n",
        "print(y)\n",
        "print(y.__dict__)\n",
        "print(Counter.count)\n",
        "\n",
        "del y\n",
        "print(Counter.count)"
      ]
    },
    {
      "cell_type": "markdown",
      "metadata": {
        "id": "qOCvbuAbQuMv"
      },
      "source": [
        "- 약한 참조 이용하기"
      ]
    },
    {
      "cell_type": "code",
      "execution_count": null,
      "metadata": {
        "id": "5BZB_CnpQuMv",
        "outputId": "cf285fe6-e116-4b3f-faa3-97f2be28d57d"
      },
      "outputs": [
        {
          "name": "stdout",
          "output_type": "stream",
          "text": [
            "1575533008\n",
            "1575533008\n",
            "1\n"
          ]
        }
      ],
      "source": [
        "a = 1\n",
        "print(id(a))\n",
        "b = a\n",
        "print(id(b))\n",
        "\n",
        "del a\n",
        "print(b)\n",
        "\n"
      ]
    },
    {
      "cell_type": "code",
      "execution_count": null,
      "metadata": {
        "collapsed": true,
        "id": "lqnTeWHsQuMv"
      },
      "outputs": [],
      "source": [
        "import weakref\n",
        "import gc\n",
        "\n",
        "class MyObject(object):\n",
        "    def my_method(self):\n",
        "        print('my_method was called!')\n",
        "\n",
        "obj = MyObject()\n"
      ]
    },
    {
      "cell_type": "code",
      "execution_count": null,
      "metadata": {
        "id": "ftvmKufKQuMv",
        "outputId": "af541b92-ca4a-4f6b-885c-4d63047c311b"
      },
      "outputs": [
        {
          "name": "stdout",
          "output_type": "stream",
          "text": [
            "<class 'weakref'> <weakref at 0x0000000004C05B88; to 'MyObject' at 0x0000000004BFB320>\n",
            "my_method was called!\n"
          ]
        }
      ],
      "source": [
        "r = weakref.ref(obj)\n",
        "print(type(r), r)\n",
        "s = r()\n",
        "assert isinstance(obj, MyObject)\n",
        "assert s is obj\n",
        "\n",
        "s.my_method()"
      ]
    },
    {
      "cell_type": "code",
      "execution_count": null,
      "metadata": {
        "id": "cbddZ-UGQuMv",
        "outputId": "86e5c964-3aba-42e2-9e9b-1040b127018f"
      },
      "outputs": [
        {
          "name": "stdout",
          "output_type": "stream",
          "text": [
            "<weakref at 0x0000000004C05B88; to 'MyObject' at 0x0000000004BFB320>\n",
            "<__main__.MyObject object at 0x0000000004BFB320>\n"
          ]
        }
      ],
      "source": [
        "obj = 1\n",
        "gc.collect()\n",
        "print(r)\n",
        "print(s)\n",
        "assert r() is not  None\n"
      ]
    },
    {
      "cell_type": "code",
      "execution_count": null,
      "metadata": {
        "id": "B_9FP22HQuMv",
        "outputId": "aa1652ae-3d08-4eba-8c7e-973691f4db9a"
      },
      "outputs": [
        {
          "ename": "AssertionError",
          "evalue": "",
          "output_type": "error",
          "traceback": [
            "\u001b[0;31m---------------------------------------------------------------------------\u001b[0m",
            "\u001b[0;31mAssertionError\u001b[0m                            Traceback (most recent call last)",
            "\u001b[0;32m<ipython-input-51-fc1e42b8bbcd>\u001b[0m in \u001b[0;36m<module>\u001b[0;34m()\u001b[0m\n\u001b[1;32m      1\u001b[0m \u001b[1;32mdel\u001b[0m \u001b[0ms\u001b[0m\u001b[1;33m\u001b[0m\u001b[0m\n\u001b[0;32m----> 2\u001b[0;31m \u001b[1;32massert\u001b[0m \u001b[0mr\u001b[0m\u001b[1;33m(\u001b[0m\u001b[1;33m)\u001b[0m \u001b[1;32mis\u001b[0m \u001b[1;32mnot\u001b[0m  \u001b[1;32mNone\u001b[0m\u001b[1;33m\u001b[0m\u001b[0m\n\u001b[0m",
            "\u001b[0;31mAssertionError\u001b[0m: "
          ]
        }
      ],
      "source": [
        "del s\n",
        "assert r() is not  None"
      ]
    },
    {
      "cell_type": "markdown",
      "source": [
        "### 2.4 생성자 작동 원리 이해하기"
      ],
      "metadata": {
        "id": "SL2pCGXqB99G"
      }
    },
    {
      "cell_type": "markdown",
      "metadata": {
        "id": "z-BKGTChQuMv"
      },
      "source": [
        "- 생성자, 초기화, 호출연산자를 정의한 클래스"
      ]
    },
    {
      "cell_type": "code",
      "execution_count": null,
      "metadata": {
        "collapsed": true,
        "id": "I06mLStSQuMw"
      },
      "outputs": [],
      "source": [
        "class MDPerson(object) :\n",
        "    def __new__(cls,name,major) :\n",
        "        return object.__new__(cls)\n",
        "\n",
        "    def __init__(self,name, major) :\n",
        "        self.name = name\n",
        "        self.major = major\n",
        "\n",
        "    def __call__(cls, name, major) :\n",
        "        print(\" __new__ \")\n",
        "        self = cls.__new__(cls,name,major)\n",
        "        print(\" __init__ \")\n",
        "        self.__init__(name,major)\n",
        "        return self\n"
      ]
    },
    {
      "cell_type": "code",
      "execution_count": null,
      "metadata": {
        "id": "ekjS0fPMQuMw",
        "outputId": "2e0776ae-5b63-49c2-f41d-281901deec14"
      },
      "outputs": [
        {
          "name": "stdout",
          "output_type": "stream",
          "text": [
            " __new__ \n",
            " __init__ \n",
            "<__main__.MDPerson object at 0x0000000004BFD588>\n",
            "이주원\n",
            "quant\n"
          ]
        }
      ],
      "source": [
        "mdp = MDPerson.__call__(MDPerson,\"이주원\",\"quant\")\n",
        "\n",
        "print(mdp)\n",
        "print(mdp.name)\n",
        "print(mdp.major)\n"
      ]
    },
    {
      "cell_type": "code",
      "execution_count": null,
      "metadata": {
        "id": "Nx9nYqASQuMw",
        "outputId": "43da294f-67c0-4f9b-ee2d-b36764c7121b"
      },
      "outputs": [
        {
          "name": "stdout",
          "output_type": "stream",
          "text": [
            "<__main__.MDPerson object at 0x0000000004BFD320>\n",
            "이주튜\n",
            "quant\n"
          ]
        }
      ],
      "source": [
        "mdp2 = type.__call__(MDPerson,\"이주튜\",\"quant\")\n",
        "\n",
        "print(mdp2)\n",
        "print(mdp2.name)\n",
        "print(mdp2.major)"
      ]
    },
    {
      "cell_type": "code",
      "execution_count": null,
      "metadata": {
        "id": "LQ9A-fVXQuMw",
        "outputId": "cca1015d-4846-4797-a60e-f3d0a1d89297"
      },
      "outputs": [
        {
          "name": "stdout",
          "output_type": "stream",
          "text": [
            "<__main__.MDPerson object at 0x0000000004BFD4A8>\n",
            "이주하\n",
            "quant\n"
          ]
        }
      ],
      "source": [
        "mdp3 = MDPerson(\"이주하\",\"quant\")\n",
        "\n",
        "print(mdp3)\n",
        "print(mdp3.name)\n",
        "print(mdp3.major)"
      ]
    },
    {
      "cell_type": "markdown",
      "source": [
        "### 2.5 함수를 이용한 생성자 패턴"
      ],
      "metadata": {
        "id": "q7SK4AOeCEO8"
      }
    },
    {
      "cell_type": "markdown",
      "metadata": {
        "collapsed": true,
        "id": "7LJ4MFzRQuMw"
      },
      "source": [
        "- 함수의 결과로 인스턴스 생성하기"
      ]
    },
    {
      "cell_type": "code",
      "execution_count": null,
      "metadata": {
        "collapsed": true,
        "id": "wCF59WtSQuMw"
      },
      "outputs": [],
      "source": [
        "class Person :\n",
        "    def __init__(self,name,age) :\n",
        "        self.name = name\n",
        "        self.age = age\n"
      ]
    },
    {
      "cell_type": "code",
      "execution_count": null,
      "metadata": {
        "collapsed": true,
        "id": "H1ehOHqkQuMw"
      },
      "outputs": [],
      "source": [
        "class Employee(Person):\n",
        "    def __init__(self, name, age, depart,salary) :\n",
        "        super().__init__(name,age)\n",
        "        self.depart = depart\n",
        "        self.salary = salary"
      ]
    },
    {
      "cell_type": "code",
      "execution_count": null,
      "metadata": {
        "collapsed": true,
        "id": "8fgOJQvFQuMx"
      },
      "outputs": [],
      "source": [
        "class Employer(Person) :\n",
        "    def __init__(self, name, age, salary) :\n",
        "        super().__init__(name,age)\n",
        "        self.salary = salary\n"
      ]
    },
    {
      "cell_type": "code",
      "execution_count": null,
      "metadata": {
        "collapsed": true,
        "id": "OuB_Av1GQuMx"
      },
      "outputs": [],
      "source": [
        "def employ(name,age, *,depart=None,salary=None) :\n",
        "    if depart is None :\n",
        "        return Employer(name,age,salary=salary)\n",
        "    else :\n",
        "\n",
        "        if salary == None :\n",
        "            salary = 0\n",
        "\n",
        "        return Employee(name,age,depart=depart,salary=salary)"
      ]
    },
    {
      "cell_type": "code",
      "execution_count": null,
      "metadata": {
        "id": "cluM7aWdQuMx",
        "outputId": "32cea5f6-6541-4da3-dbfd-a65bc79bfa97"
      },
      "outputs": [
        {
          "name": "stdout",
          "output_type": "stream",
          "text": [
            "<__main__.Employee object at 0x0000000004B7B780>\n",
            "<class '__main__.Employee'>\n"
          ]
        }
      ],
      "source": [
        "e = employ(\"정찬혁\",31,depart=\"빅데이터부\",salary=30000)\n",
        "\n",
        "print(e)\n",
        "print(type(e))"
      ]
    },
    {
      "cell_type": "code",
      "execution_count": null,
      "metadata": {
        "id": "H_wWjRLdQuMx",
        "outputId": "41348dcd-5a21-41d8-fd19-c8dde7b7b22c"
      },
      "outputs": [
        {
          "name": "stdout",
          "output_type": "stream",
          "text": [
            "<__main__.Employer object at 0x0000000004B7BEF0>\n",
            "<class '__main__.Employer'>\n"
          ]
        }
      ],
      "source": [
        "e = employ(\"달문\",52,salary=300000)\n",
        "\n",
        "print(e)\n",
        "print(type(e))"
      ]
    },
    {
      "cell_type": "markdown",
      "source": [
        "### 2.6 인스턴스 네임스페이스 변경하기: __ slots __"
      ],
      "metadata": {
        "id": "LPTNQO4-CJyu"
      }
    },
    {
      "cell_type": "markdown",
      "metadata": {
        "id": "agmpl9PjQuMx"
      },
      "source": [
        "- __ slots __ 사용하기"
      ]
    },
    {
      "cell_type": "code",
      "execution_count": null,
      "metadata": {
        "id": "xa1oCFb6QuMx",
        "outputId": "76d43656-3c78-4826-8fcc-7815fa6ea44d"
      },
      "outputs": [
        {
          "ename": "AttributeError",
          "evalue": "'Klass' object has no attribute 'age'",
          "output_type": "error",
          "traceback": [
            "\u001b[0;31m---------------------------------------------------------------------------\u001b[0m",
            "\u001b[0;31mAttributeError\u001b[0m                            Traceback (most recent call last)",
            "\u001b[0;32m<ipython-input-62-01cb73e086cb>\u001b[0m in \u001b[0;36m<module>\u001b[0;34m()\u001b[0m\n\u001b[1;32m      5\u001b[0m         \u001b[0mself\u001b[0m\u001b[1;33m.\u001b[0m\u001b[0mage\u001b[0m  \u001b[1;33m=\u001b[0m \u001b[0mage\u001b[0m\u001b[1;33m\u001b[0m\u001b[0m\n\u001b[1;32m      6\u001b[0m \u001b[1;33m\u001b[0m\u001b[0m\n\u001b[0;32m----> 7\u001b[0;31m \u001b[0mk\u001b[0m \u001b[1;33m=\u001b[0m \u001b[0mKlass\u001b[0m\u001b[1;33m(\u001b[0m\u001b[1;34m\"name\"\u001b[0m\u001b[1;33m,\u001b[0m\u001b[1;34m\"age\"\u001b[0m\u001b[1;33m)\u001b[0m\u001b[1;33m\u001b[0m\u001b[0m\n\u001b[0m",
            "\u001b[0;32m<ipython-input-62-01cb73e086cb>\u001b[0m in \u001b[0;36m__init__\u001b[0;34m(self, name, age)\u001b[0m\n\u001b[1;32m      3\u001b[0m     \u001b[1;32mdef\u001b[0m \u001b[0m__init__\u001b[0m\u001b[1;33m(\u001b[0m\u001b[0mself\u001b[0m\u001b[1;33m,\u001b[0m \u001b[0mname\u001b[0m\u001b[1;33m,\u001b[0m\u001b[0mage\u001b[0m\u001b[1;33m)\u001b[0m \u001b[1;33m:\u001b[0m\u001b[1;33m\u001b[0m\u001b[0m\n\u001b[1;32m      4\u001b[0m         \u001b[0mself\u001b[0m\u001b[1;33m.\u001b[0m\u001b[0mname\u001b[0m \u001b[1;33m=\u001b[0m \u001b[0mname\u001b[0m\u001b[1;33m\u001b[0m\u001b[0m\n\u001b[0;32m----> 5\u001b[0;31m         \u001b[0mself\u001b[0m\u001b[1;33m.\u001b[0m\u001b[0mage\u001b[0m  \u001b[1;33m=\u001b[0m \u001b[0mage\u001b[0m\u001b[1;33m\u001b[0m\u001b[0m\n\u001b[0m\u001b[1;32m      6\u001b[0m \u001b[1;33m\u001b[0m\u001b[0m\n\u001b[1;32m      7\u001b[0m \u001b[0mk\u001b[0m \u001b[1;33m=\u001b[0m \u001b[0mKlass\u001b[0m\u001b[1;33m(\u001b[0m\u001b[1;34m\"name\"\u001b[0m\u001b[1;33m,\u001b[0m\u001b[1;34m\"age\"\u001b[0m\u001b[1;33m)\u001b[0m\u001b[1;33m\u001b[0m\u001b[0m\n",
            "\u001b[0;31mAttributeError\u001b[0m: 'Klass' object has no attribute 'age'"
          ]
        }
      ],
      "source": [
        "class Klass :\n",
        "    __slots__ = (\"name\",)\n",
        "    def __init__(self, name,age) :\n",
        "        self.name = name\n",
        "        self.age  = age\n",
        "\n",
        "k = Klass(\"name\",\"age\")"
      ]
    },
    {
      "cell_type": "code",
      "execution_count": null,
      "metadata": {
        "id": "ZG50i_V1QuMx",
        "outputId": "bde1b383-cd3d-442b-92e1-29f91acb3827"
      },
      "outputs": [
        {
          "name": "stdout",
          "output_type": "stream",
          "text": [
            "<__main__.Klass object at 0x0000000004B8D7C8>\n"
          ]
        }
      ],
      "source": [
        "class Klass :\n",
        "    __slots__ = (\"name\",)\n",
        "    def __init__(self, name) :\n",
        "        self.name = name\n",
        "\n",
        "k = Klass(\"name\")\n",
        "print(k)"
      ]
    },
    {
      "cell_type": "code",
      "execution_count": null,
      "metadata": {
        "id": "EYaSDdFIQuMx",
        "outputId": "ac0c6f24-9ccb-4abe-ad68-463198586477"
      },
      "outputs": [
        {
          "name": "stdout",
          "output_type": "stream",
          "text": [
            "name\n"
          ]
        },
        {
          "ename": "AttributeError",
          "evalue": "'Klass' object has no attribute '__dict__'",
          "output_type": "error",
          "traceback": [
            "\u001b[0;31m---------------------------------------------------------------------------\u001b[0m",
            "\u001b[0;31mAttributeError\u001b[0m                            Traceback (most recent call last)",
            "\u001b[0;32m<ipython-input-65-4736842b6265>\u001b[0m in \u001b[0;36m<module>\u001b[0;34m()\u001b[0m\n\u001b[1;32m      1\u001b[0m \u001b[0mprint\u001b[0m\u001b[1;33m(\u001b[0m\u001b[0mk\u001b[0m\u001b[1;33m.\u001b[0m\u001b[0mname\u001b[0m\u001b[1;33m)\u001b[0m\u001b[1;33m\u001b[0m\u001b[0m\n\u001b[0;32m----> 2\u001b[0;31m \u001b[0mprint\u001b[0m\u001b[1;33m(\u001b[0m\u001b[0mk\u001b[0m\u001b[1;33m.\u001b[0m\u001b[0m__dict__\u001b[0m\u001b[1;33m)\u001b[0m\u001b[1;33m\u001b[0m\u001b[0m\n\u001b[0m",
            "\u001b[0;31mAttributeError\u001b[0m: 'Klass' object has no attribute '__dict__'"
          ]
        }
      ],
      "source": [
        "print(k.name)\n",
        "print(k.__dict__)"
      ]
    },
    {
      "cell_type": "code",
      "execution_count": null,
      "metadata": {
        "id": "ca0wXFZ4QuMy",
        "outputId": "ae9d2b7d-35f2-4fa7-f5e9-1143374f0112"
      },
      "outputs": [
        {
          "name": "stdout",
          "output_type": "stream",
          "text": [
            "['__class__',\n",
            " '__delattr__',\n",
            " '__dir__',\n",
            " '__doc__',\n",
            " '__eq__',\n",
            " '__format__',\n",
            " '__ge__',\n",
            " '__getattribute__',\n",
            " '__gt__',\n",
            " '__hash__',\n",
            " '__init__',\n",
            " '__init_subclass__',\n",
            " '__le__',\n",
            " '__lt__',\n",
            " '__module__',\n",
            " '__ne__',\n",
            " '__new__',\n",
            " '__reduce__',\n",
            " '__reduce_ex__',\n",
            " '__repr__',\n",
            " '__setattr__',\n",
            " '__sizeof__',\n",
            " '__slots__',\n",
            " '__str__',\n",
            " '__subclasshook__',\n",
            " 'name']\n"
          ]
        }
      ],
      "source": [
        "import pprint\n",
        "\n",
        "pprint.pprint(dir(Klass))"
      ]
    },
    {
      "cell_type": "code",
      "execution_count": null,
      "metadata": {
        "id": "LsYrSUzuQuMy",
        "outputId": "a28a05fc-53a2-4852-bfa6-991be9f7adee"
      },
      "outputs": [
        {
          "name": "stdout",
          "output_type": "stream",
          "text": [
            "('name',)\n",
            "<member 'name' of 'Klass' objects>\n"
          ]
        }
      ],
      "source": [
        "print(Klass.__slots__)\n",
        "print(Klass.__dict__[Klass.__slots__[0]])"
      ]
    },
    {
      "cell_type": "code",
      "execution_count": null,
      "metadata": {
        "id": "kIx9R6PtQuMy",
        "outputId": "05d4f7a4-fe11-434b-8a3c-2982f543be2f"
      },
      "outputs": [
        {
          "name": "stdout",
          "output_type": "stream",
          "text": [
            "<class 'member_descriptor'>\n"
          ]
        }
      ],
      "source": [
        "print(type(Klass.name))"
      ]
    },
    {
      "cell_type": "code",
      "execution_count": null,
      "metadata": {
        "id": "FYXlEnKUQuMy",
        "outputId": "ed9f02d6-7601-4e0b-9416-1b904c9190dd"
      },
      "outputs": [
        {
          "name": "stdout",
          "output_type": "stream",
          "text": [
            "가을이\n"
          ]
        }
      ],
      "source": [
        "k.name = \"가을이\"\n",
        "print(k.name)"
      ]
    },
    {
      "cell_type": "code",
      "execution_count": null,
      "metadata": {
        "id": "fD6R_83JQuMy"
      },
      "outputs": [],
      "source": [
        "Klass.age = 100"
      ]
    },
    {
      "cell_type": "code",
      "execution_count": null,
      "metadata": {
        "id": "6OHfTieBQuMy",
        "outputId": "398ec128-0154-4a00-dbb7-b9f6b1c69a08"
      },
      "outputs": [
        {
          "data": {
            "text/plain": [
              "100"
            ]
          },
          "execution_count": 71,
          "metadata": {},
          "output_type": "execute_result"
        }
      ],
      "source": [
        "k.age"
      ]
    },
    {
      "cell_type": "code",
      "execution_count": null,
      "metadata": {
        "id": "0Tl8g-eZQuMz",
        "outputId": "fd960e8c-2ec3-4bac-adc9-371366627bfc"
      },
      "outputs": [
        {
          "ename": "AttributeError",
          "evalue": "'Klass' object has no attribute 'job'",
          "output_type": "error",
          "traceback": [
            "\u001b[0;31m---------------------------------------------------------------------------\u001b[0m",
            "\u001b[0;31mAttributeError\u001b[0m                            Traceback (most recent call last)",
            "\u001b[0;32m<ipython-input-72-5940b4a858f2>\u001b[0m in \u001b[0;36m<module>\u001b[0;34m()\u001b[0m\n\u001b[0;32m----> 1\u001b[0;31m \u001b[0mk\u001b[0m\u001b[1;33m.\u001b[0m\u001b[0mjob\u001b[0m \u001b[1;33m=\u001b[0m \u001b[1;34m\"Data Engineer\"\u001b[0m\u001b[1;33m\u001b[0m\u001b[0m\n\u001b[0m",
            "\u001b[0;31mAttributeError\u001b[0m: 'Klass' object has no attribute 'job'"
          ]
        }
      ],
      "source": [
        "k.job = \"Data Engineer\""
      ]
    },
    {
      "cell_type": "markdown",
      "metadata": {
        "id": "otUS_CINQuMz"
      },
      "source": [
        "- 관행적으로 __ dict __ 속성 조회 로직이 있을 경우"
      ]
    },
    {
      "cell_type": "code",
      "execution_count": null,
      "metadata": {
        "id": "BRKBehuiQuMz"
      },
      "outputs": [],
      "source": [
        "class MyClass :\n",
        "    __slots__ = ['x','y','__dict__']\n",
        "\n",
        "    def __init__(self,x,y) :\n",
        "        self.x = x\n",
        "        self.y = y\n",
        "        self.__dict__ = {}\n"
      ]
    },
    {
      "cell_type": "code",
      "execution_count": null,
      "metadata": {
        "id": "fn0KMFGfQuMz",
        "outputId": "cdb18465-7e6f-4da2-f56a-c40f7ed6b512"
      },
      "outputs": [
        {
          "name": "stdout",
          "output_type": "stream",
          "text": [
            "5 5\n",
            "{}\n"
          ]
        }
      ],
      "source": [
        "m = MyClass(5,5)\n",
        "print(m.x, m.y)\n",
        "print(m.__dict__)"
      ]
    },
    {
      "cell_type": "code",
      "execution_count": null,
      "metadata": {
        "id": "l79L5so1QuMz",
        "outputId": "6f7ab6d3-0ecc-4129-a7a6-b661c5d4945c"
      },
      "outputs": [
        {
          "name": "stdout",
          "output_type": "stream",
          "text": [
            "100\n"
          ]
        }
      ],
      "source": [
        "m.__dict__['a'] = 100\n",
        "\n",
        "print(m.a)"
      ]
    },
    {
      "cell_type": "code",
      "execution_count": null,
      "metadata": {
        "id": "MOv9IUqMQuMz",
        "outputId": "97293d15-be2c-4cae-a0db-840286a56098"
      },
      "outputs": [
        {
          "name": "stdout",
          "output_type": "stream",
          "text": [
            "{'a': 100, 'b': 100}\n"
          ]
        }
      ],
      "source": [
        "m.b = 100\n",
        "\n",
        "print(m.__dict__)"
      ]
    },
    {
      "cell_type": "code",
      "execution_count": null,
      "metadata": {
        "id": "9FKLwdEwQuMz",
        "outputId": "b2986200-ef91-4890-a1b9-af32e4c00462"
      },
      "outputs": [
        {
          "name": "stdout",
          "output_type": "stream",
          "text": [
            "<class '__main__.MyClass'> ['x', 'y', '__dict__']\n"
          ]
        }
      ],
      "source": [
        "print(type(m), m.__slots__)"
      ]
    },
    {
      "cell_type": "markdown",
      "source": [
        "## **3. 객체 접근 연산(.)**"
      ],
      "metadata": {
        "id": "GqYX5o53I_eN"
      }
    },
    {
      "cell_type": "markdown",
      "source": [
        "### 3.1 점(dot) 연산"
      ],
      "metadata": {
        "id": "UXJhhZIrCTY1"
      }
    },
    {
      "cell_type": "markdown",
      "metadata": {
        "id": "kzSD7JBLQuMz"
      },
      "source": [
        "- 초기화 처리할 때 속성을 접근"
      ]
    },
    {
      "cell_type": "code",
      "execution_count": null,
      "metadata": {
        "collapsed": true,
        "id": "_R9mOALeQuMz"
      },
      "outputs": [],
      "source": [
        "class Person :\n",
        "\n",
        "    def __init__(self, name, age) :\n",
        "        self.name = name\n",
        "        self.age  = age\n",
        "\n",
        "    def __setattr__(self, name, value) :\n",
        "        print(\" __setattr__ \", name)\n",
        "        self.__dict__[name] = value\n"
      ]
    },
    {
      "cell_type": "code",
      "execution_count": null,
      "metadata": {
        "id": "aN5Y_APfQuM0",
        "outputId": "08d93b0e-6398-4169-f6eb-50c255668e89"
      },
      "outputs": [
        {
          "name": "stdout",
          "output_type": "stream",
          "text": [
            " __setattr__  name\n",
            " __setattr__  age\n"
          ]
        }
      ],
      "source": [
        "p = Person(\"사람\", 50)\n"
      ]
    },
    {
      "cell_type": "markdown",
      "source": [
        "### 3.2 점 연산자 스페셜 메서드(Special Method) 기본 이해하기"
      ],
      "metadata": {
        "id": "wohzdDisCX7Q"
      }
    },
    {
      "cell_type": "markdown",
      "metadata": {
        "id": "ho0K-nCKQuM0"
      },
      "source": [
        "- __ getattribute __를 이용해서 클래스 내부 검색"
      ]
    },
    {
      "cell_type": "code",
      "execution_count": null,
      "metadata": {
        "id": "HYtPiOywQuM0"
      },
      "outputs": [],
      "source": [
        "class Person :\n",
        "\n",
        "    job = \"즐기기\"\n",
        "\n",
        "    def __init__(self, name, age) :\n",
        "        self.name = name\n",
        "        self.age  = age\n",
        "\n",
        "    def __getattribute__(self, name) :\n",
        "        print(\" attribute name \", name)\n",
        "        return super().__getattribute__(name)\n",
        "\n",
        "    def __getattr__(self, name) :\n",
        "        print(\" attr name \", name)\n",
        "        return Person.__dict__[name]\n"
      ]
    },
    {
      "cell_type": "code",
      "execution_count": null,
      "metadata": {
        "id": "oXEP3ChJQuM0",
        "outputId": "fc017075-3ec1-4834-fb68-89518b56f4d3"
      },
      "outputs": [
        {
          "name": "stdout",
          "output_type": "stream",
          "text": [
            " attribute name  name\n",
            "긍정\n"
          ]
        }
      ],
      "source": [
        "p = Person(\"긍정\",55)\n",
        "print(p.name)"
      ]
    },
    {
      "cell_type": "code",
      "execution_count": null,
      "metadata": {
        "id": "dVPOVTNKQuM0",
        "outputId": "a591d0ad-342e-424b-c9fb-10f74c640285"
      },
      "outputs": [
        {
          "name": "stdout",
          "output_type": "stream",
          "text": [
            " attribute name  job\n"
          ]
        },
        {
          "data": {
            "text/plain": [
              "'즐기기'"
            ]
          },
          "execution_count": 20,
          "metadata": {},
          "output_type": "execute_result"
        }
      ],
      "source": [
        "p.job"
      ]
    },
    {
      "cell_type": "code",
      "execution_count": null,
      "metadata": {
        "id": "YJ6q3yVBQuM0",
        "outputId": "c21317be-0115-4c69-c68d-36826cd4dc99"
      },
      "outputs": [
        {
          "name": "stdout",
          "output_type": "stream",
          "text": [
            " attribute name  __getattr__\n",
            " attr name  job\n"
          ]
        },
        {
          "data": {
            "text/plain": [
              "'즐기기'"
            ]
          },
          "execution_count": 21,
          "metadata": {},
          "output_type": "execute_result"
        }
      ],
      "source": [
        "p.__getattr__('job')"
      ]
    },
    {
      "cell_type": "markdown",
      "metadata": {
        "id": "ilcWvGG0QuM0"
      },
      "source": [
        "- attrgetter를 이용해서 속성 접근"
      ]
    },
    {
      "cell_type": "code",
      "execution_count": null,
      "metadata": {
        "collapsed": true,
        "id": "fr8qIhmRQuM1"
      },
      "outputs": [],
      "source": [
        "class Person :\n",
        "\n",
        "    job = \"즐기기\"\n",
        "\n",
        "    def __init__(self, name, age) :\n",
        "        self.name = name\n",
        "        self.age  = age\n"
      ]
    },
    {
      "cell_type": "code",
      "execution_count": null,
      "metadata": {
        "id": "tkpqnUyeQuM1",
        "outputId": "64211631-f517-428d-c9a5-d0e20c77c474"
      },
      "outputs": [
        {
          "name": "stdout",
          "output_type": "stream",
          "text": [
            "operator.attrgetter('name', 'age', 'job')\n",
            "('가을이', 10, '즐기기')\n"
          ]
        }
      ],
      "source": [
        "import operator\n",
        "\n",
        "getname = operator.attrgetter(\"name\",\"age\",\"job\")\n",
        "\n",
        "p = Person(\"가을이\",10)\n",
        "\n",
        "print(getname)\n",
        "\n",
        "print(getname(p))"
      ]
    },
    {
      "cell_type": "markdown",
      "source": [
        "## **4. 메서드 확인하기**"
      ],
      "metadata": {
        "id": "ox-g7SMIJIE1"
      }
    },
    {
      "cell_type": "markdown",
      "source": [
        "### 4.1 메소드(Method) 이해하기"
      ],
      "metadata": {
        "id": "L0bgQSgDCegI"
      }
    },
    {
      "cell_type": "markdown",
      "metadata": {
        "id": "vt-iIZIoQuM1"
      },
      "source": [
        "- 인스턴스 메소드 정의하기"
      ]
    },
    {
      "cell_type": "code",
      "execution_count": null,
      "metadata": {
        "collapsed": true,
        "id": "rlAyOaEOQuM1"
      },
      "outputs": [],
      "source": [
        "class Klass_ins :\n",
        "    def set(self,name,value) :\n",
        "        setattr(self,name,value)"
      ]
    },
    {
      "cell_type": "code",
      "execution_count": null,
      "metadata": {
        "id": "GqY3fXzPQuM1",
        "outputId": "97fe7e3a-3685-488e-ca5c-2334e327f428"
      },
      "outputs": [
        {
          "name": "stdout",
          "output_type": "stream",
          "text": [
            "<__main__.Klass_ins object at 0x0000000004FFAC88>\n",
            "True\n"
          ]
        }
      ],
      "source": [
        "ki = Klass_ins()\n",
        "print(ki)\n",
        "print(isinstance(ki, Klass_ins))"
      ]
    },
    {
      "cell_type": "code",
      "execution_count": null,
      "metadata": {
        "id": "0Lgjjz3dQuM1",
        "outputId": "db0bf7a3-a5cf-4e87-d390-0fa2de5d5de9"
      },
      "outputs": [
        {
          "name": "stdout",
          "output_type": "stream",
          "text": [
            "{'name': '강감찬', 'age': 45}\n"
          ]
        }
      ],
      "source": [
        "ki.set(\"name\",\"강감찬\")\n",
        "ki.set(\"age\",45)\n",
        "\n",
        "print(ki.__dict__)"
      ]
    },
    {
      "cell_type": "code",
      "execution_count": null,
      "metadata": {
        "id": "B0zeA1psQuM2",
        "outputId": "67ed87ae-951c-4337-cf76-a598bfdc507b"
      },
      "outputs": [
        {
          "name": "stdout",
          "output_type": "stream",
          "text": [
            "{'name': '서희', 'age': 35}\n"
          ]
        }
      ],
      "source": [
        "class Person :\n",
        "    def __init__(self,name,age) :\n",
        "        self.name = name\n",
        "        self.age = age\n",
        "\n",
        "p = Person(\"서희\",35)\n",
        "print(p.__dict__)"
      ]
    },
    {
      "cell_type": "markdown",
      "metadata": {
        "id": "Nq6ZCaSiQuM2"
      },
      "source": [
        "- 클래스 메소드 정의하기"
      ]
    },
    {
      "cell_type": "code",
      "execution_count": null,
      "metadata": {
        "collapsed": true,
        "id": "Ga3wFLCjQuM2"
      },
      "outputs": [],
      "source": [
        "class Klass_cls :\n",
        "    @classmethod\n",
        "    def set(cls,name,value) :\n",
        "        setattr(cls,name,value)"
      ]
    },
    {
      "cell_type": "code",
      "execution_count": null,
      "metadata": {
        "collapsed": true,
        "id": "xdVP92QZQuM2"
      },
      "outputs": [],
      "source": [
        "Klass_cls.set(\"name\",\"클래스\")\n",
        "Klass_cls.set(\"age\",50)"
      ]
    },
    {
      "cell_type": "code",
      "execution_count": null,
      "metadata": {
        "id": "ojwWMsO7QuM2",
        "outputId": "950d3cde-ad69-4121-8925-b45876b4a37c"
      },
      "outputs": [
        {
          "name": "stdout",
          "output_type": "stream",
          "text": [
            "mappingproxy({'__dict__': <attribute '__dict__' of 'Klass_cls' objects>,\n",
            "              '__doc__': None,\n",
            "              '__module__': '__main__',\n",
            "              '__weakref__': <attribute '__weakref__' of 'Klass_cls' objects>,\n",
            "              'age': 50,\n",
            "              'name': '클래스',\n",
            "              'set': <classmethod object at 0x0000000004F88B00>})\n"
          ]
        }
      ],
      "source": [
        "import pprint\n",
        "\n",
        "pprint.pprint(Klass_cls.__dict__)"
      ]
    },
    {
      "cell_type": "code",
      "execution_count": null,
      "metadata": {
        "collapsed": true,
        "id": "ypaVxSsMQuM2"
      },
      "outputs": [],
      "source": [
        "class Person :\n",
        "    name = \"\"\n",
        "    age = 0\n",
        "\n",
        "    @classmethod\n",
        "    def set(cls,name,value) :\n",
        "        setattr(cls,name,value)\n",
        "\n",
        "    @classmethod\n",
        "    def get(cls) :\n",
        "        return cls.name, cls.age\n"
      ]
    },
    {
      "cell_type": "code",
      "execution_count": null,
      "metadata": {
        "id": "efa363UqQuM2",
        "outputId": "010c88d9-003c-4840-e591-7ebc6732fc5c"
      },
      "outputs": [
        {
          "name": "stdout",
          "output_type": "stream",
          "text": [
            "('클래스', 50)\n"
          ]
        }
      ],
      "source": [
        "Person.set(\"name\",\"클래스\")\n",
        "Person.set(\"age\",50)\n",
        "\n",
        "print(Person.get())"
      ]
    },
    {
      "cell_type": "code",
      "execution_count": null,
      "metadata": {
        "id": "GGG9egeKQuM2",
        "outputId": "01cb46fd-a218-4716-8326-087044b54c45"
      },
      "outputs": [
        {
          "name": "stdout",
          "output_type": "stream",
          "text": [
            "('클래스', 50)\n",
            "클래스\n"
          ]
        }
      ],
      "source": [
        "p = Person()\n",
        "print(p.get())\n",
        "print(p.name)"
      ]
    },
    {
      "cell_type": "code",
      "execution_count": null,
      "metadata": {
        "id": "POLlZ3fGQuM3",
        "outputId": "26a18734-9931-4f28-8bbd-2a3598ecb43c"
      },
      "outputs": [
        {
          "name": "stdout",
          "output_type": "stream",
          "text": [
            "('클래스', 50)\n",
            "가을이\n",
            "{'name': '가을이', 'age': 55}\n"
          ]
        }
      ],
      "source": [
        "c = Person()\n",
        "c.name = \"가을이\"\n",
        "c.age = 55\n",
        "print(c.get())\n",
        "print(c.name)\n",
        "print(c.__dict__)"
      ]
    },
    {
      "cell_type": "markdown",
      "metadata": {
        "id": "XOI8xuHeQuM3"
      },
      "source": [
        "- 정적 메소드 정의하기"
      ]
    },
    {
      "cell_type": "code",
      "execution_count": null,
      "metadata": {
        "id": "vJVeMmjyQuM3"
      },
      "outputs": [],
      "source": [
        "class Klass_st :\n",
        "    name = \"\"\n",
        "    age = 0\n",
        "    def __init__(self,name,age) :\n",
        "        self.name = name\n",
        "        self.age = age\n",
        "\n",
        "    @classmethod\n",
        "    def set(cls,name,value) :\n",
        "        setattr(cls,name,value)\n",
        "\n",
        "    @staticmethod\n",
        "    def get(obj) :\n",
        "        return obj.name, obj.age"
      ]
    },
    {
      "cell_type": "code",
      "execution_count": null,
      "metadata": {
        "id": "j7bZeNO8QuM3",
        "outputId": "e5c7cf5d-7e32-44e3-93af-2797ccad8822"
      },
      "outputs": [
        {
          "name": "stdout",
          "output_type": "stream",
          "text": [
            "mappingproxy({'__dict__': <attribute '__dict__' of 'Klass_st' objects>,\n",
            "              '__doc__': None,\n",
            "              '__init__': <function Klass_st.__init__ at 0x0000000005027048>,\n",
            "              '__module__': '__main__',\n",
            "              '__weakref__': <attribute '__weakref__' of 'Klass_st' objects>,\n",
            "              'age': 55,\n",
            "              'get': <staticmethod object at 0x0000000005006518>,\n",
            "              'name': '클래스',\n",
            "              'set': <classmethod object at 0x00000000050064A8>})\n"
          ]
        }
      ],
      "source": [
        "import pprint\n",
        "\n",
        "pprint.pprint(Klass_st.__dict__)"
      ]
    },
    {
      "cell_type": "code",
      "execution_count": null,
      "metadata": {
        "id": "gxQFJLqoQuM3"
      },
      "outputs": [],
      "source": [
        "c = Klass_st(\"인스턴스\",50)\n",
        "\n",
        "Klass_st.set(\"name\",\"클래스\")\n",
        "Klass_st.set(\"age\",55)"
      ]
    },
    {
      "cell_type": "code",
      "execution_count": null,
      "metadata": {
        "id": "42QXfO7TQuM3",
        "outputId": "3d0a40b9-c967-45b5-9494-d2a43565d0ac"
      },
      "outputs": [
        {
          "name": "stdout",
          "output_type": "stream",
          "text": [
            "('인스턴스', 50)\n",
            "('클래스', 55)\n"
          ]
        }
      ],
      "source": [
        "print(c.get(c))\n",
        "print(Klass_st.get(Klass_st))"
      ]
    },
    {
      "cell_type": "markdown",
      "metadata": {
        "id": "n1aSbyizQuM3"
      },
      "source": [
        "- 인스턴스 메소드 self 알아보기"
      ]
    },
    {
      "cell_type": "code",
      "execution_count": null,
      "metadata": {
        "collapsed": true,
        "id": "BC8anWp9QuM4"
      },
      "outputs": [],
      "source": [
        "class InsKlass :\n",
        "    def __init__(self,name) :\n",
        "        self.name = name\n",
        "\n",
        "    def getname(self) :\n",
        "        return self.name"
      ]
    },
    {
      "cell_type": "code",
      "execution_count": null,
      "metadata": {
        "id": "jDKGDlaLQuM4",
        "outputId": "1e96e56c-cc0b-49bb-ba59-2a060804c56c"
      },
      "outputs": [
        {
          "name": "stdout",
          "output_type": "stream",
          "text": [
            "<function InsKlass.getname at 0x000000000501E840>\n",
            "<bound method InsKlass.getname of <__main__.InsKlass object at 0x0000000005006240>>\n"
          ]
        }
      ],
      "source": [
        "print(InsKlass.getname)\n",
        "\n",
        "ins = InsKlass(\"인스턴스\")\n",
        "print(ins.getname)"
      ]
    },
    {
      "cell_type": "code",
      "execution_count": null,
      "metadata": {
        "id": "I9k55KfqQuM4",
        "outputId": "8b0c2c96-6169-4fa9-9cbe-8e1668bf159f"
      },
      "outputs": [
        {
          "name": "stdout",
          "output_type": "stream",
          "text": [
            "{'__self__', '__func__'}\n",
            "<__main__.InsKlass object at 0x0000000005006240>\n",
            "<__main__.InsKlass object at 0x0000000005006240>\n",
            "<function InsKlass.getname at 0x000000000501E840>\n",
            "<function InsKlass.getname at 0x000000000501E840>\n"
          ]
        }
      ],
      "source": [
        "s = set(dir(InsKlass.getname))\n",
        "\n",
        "i = set(dir(ins.getname))\n",
        "\n",
        "print(i - s)\n",
        "print(ins)\n",
        "print(ins.getname.__self__)\n",
        "print(InsKlass.getname)\n",
        "print(ins.getname.__func__)"
      ]
    },
    {
      "cell_type": "markdown",
      "metadata": {
        "id": "87rSxSUfQuM4"
      },
      "source": [
        "- 클래스 메소드 cls 알아보기"
      ]
    },
    {
      "cell_type": "code",
      "execution_count": null,
      "metadata": {
        "collapsed": true,
        "id": "UMINrjNnQuM4"
      },
      "outputs": [],
      "source": [
        "class ClsKlass :\n",
        "    name = \"클래스\"\n",
        "    def __init__(self,name) :\n",
        "        self.name = name\n",
        "    @classmethod\n",
        "    def getname(cls) :\n",
        "        return cls.name"
      ]
    },
    {
      "cell_type": "code",
      "execution_count": null,
      "metadata": {
        "id": "F6IvBK-sQuM4",
        "outputId": "91c9d90a-7b4c-4c49-e15e-fdfef063ac53"
      },
      "outputs": [
        {
          "name": "stdout",
          "output_type": "stream",
          "text": [
            "<bound method ClsKlass.getname of <class '__main__.ClsKlass'>>\n"
          ]
        }
      ],
      "source": [
        "a = ClsKlass(\"인스턴스\")\n",
        "\n",
        "print(ClsKlass.getname)"
      ]
    },
    {
      "cell_type": "code",
      "execution_count": null,
      "metadata": {
        "id": "pI-rWYiiQuM_",
        "outputId": "ab69f9ba-3925-4a3b-fa64-bcb596fc8741"
      },
      "outputs": [
        {
          "name": "stdout",
          "output_type": "stream",
          "text": [
            "{'__self__', '__func__'}\n",
            "<class '__main__.ClsKlass'>\n",
            "<class '__main__.ClsKlass'>\n",
            "<function ClsKlass.getname at 0x0000000004FF1840>\n"
          ]
        }
      ],
      "source": [
        "s = set(dir(ClsKlass.__init__))\n",
        "\n",
        "c = set(dir(ClsKlass.getname))\n",
        "\n",
        "print(c-s)\n",
        "\n",
        "print(ClsKlass)\n",
        "print(ClsKlass.getname.__self__)\n",
        "print(ClsKlass.getname.__func__)"
      ]
    },
    {
      "cell_type": "markdown",
      "metadata": {
        "id": "EbcDp8iPQuNB"
      },
      "source": [
        "- self 변수를 미지정해서 인스턴스 메소드 알아보기"
      ]
    },
    {
      "cell_type": "code",
      "execution_count": null,
      "metadata": {
        "collapsed": true,
        "id": "DrTQBeWAQuND"
      },
      "outputs": [],
      "source": [
        "class Self :\n",
        "    attr = (\"name\",\"age\")\n",
        "    def __init__(*args) :\n",
        "        print(\"__self__ argument \",args[0])\n",
        "        print(\"__self__ attribute \",args[0].__init__.__self__)\n",
        "\n",
        "        for i in range(1,len(args)) :\n",
        "            args[0].__dict__[Self.attr[i-1]] = args[i]\n",
        "\n",
        "    def get(*args) :\n",
        "        print(\"__self__ attribute \",args[0].get.__self__)\n",
        "        return args[0].name, args[0].age\n"
      ]
    },
    {
      "cell_type": "code",
      "execution_count": null,
      "metadata": {
        "id": "blM5RSgWQuNE",
        "outputId": "60ff8c93-175c-45e6-b1b0-bcd4aebcc9bb"
      },
      "outputs": [
        {
          "name": "stdout",
          "output_type": "stream",
          "text": [
            "__self__ argument  <__main__.Self object at 0x00000000050500F0>\n",
            "__self__ attribute  <__main__.Self object at 0x00000000050500F0>\n",
            "{'name': 'Dahl', 'age': 22}\n",
            "<__main__.Self object at 0x00000000050500F0>\n"
          ]
        }
      ],
      "source": [
        "s = Self(\"Dahl\",22)\n",
        "print(s.__dict__)\n",
        "print(s)"
      ]
    },
    {
      "cell_type": "code",
      "execution_count": null,
      "metadata": {
        "id": "8m1-EJNVQuNF",
        "outputId": "cb90bd3b-c569-4e62-ef8b-624498ac6ccb"
      },
      "outputs": [
        {
          "name": "stdout",
          "output_type": "stream",
          "text": [
            "__self__ attribute  <__main__.Self object at 0x00000000050500F0>\n",
            "('Dahl', 22)\n"
          ]
        }
      ],
      "source": [
        "print(s.get())"
      ]
    },
    {
      "cell_type": "code",
      "execution_count": null,
      "metadata": {
        "collapsed": true,
        "id": "cfODJ-S3QuNG"
      },
      "outputs": [],
      "source": [
        "class Self_ :\n",
        "\n",
        "    def __init__(self,name,age) :\n",
        "        self.name = name\n",
        "        self.age =  age\n",
        "\n",
        "    def get(self) :\n",
        "\n",
        "        return self.name, self.age"
      ]
    },
    {
      "cell_type": "code",
      "execution_count": null,
      "metadata": {
        "id": "nJvsp94cQuNG",
        "outputId": "3ec97f08-d80a-4e53-b1d5-2a8cce4ef93a"
      },
      "outputs": [
        {
          "name": "stdout",
          "output_type": "stream",
          "text": [
            "{'name': 'Dahl', 'age': 22}\n",
            "<__main__.Self_ object at 0x0000000004F88940>\n",
            "('Dahl', 22)\n"
          ]
        }
      ],
      "source": [
        "s = Self_(\"Dahl\",22)\n",
        "print(s.__dict__)\n",
        "print(s)\n",
        "print(s.get())"
      ]
    },
    {
      "cell_type": "markdown",
      "metadata": {
        "id": "PJzpv5BcQuNH"
      },
      "source": [
        "- 외부 함수를 정의하고 클래스 내부에 할당하기"
      ]
    },
    {
      "cell_type": "code",
      "execution_count": null,
      "metadata": {
        "collapsed": true,
        "id": "RIIHfyEdQuNI"
      },
      "outputs": [],
      "source": [
        "def getname(self) :\n",
        "    return self.name\n",
        "\n",
        "def getage(self) :\n",
        "    return self.age\n",
        "\n",
        "class Person :\n",
        "    def __init__(self,name,age) :\n",
        "        self.name = name\n",
        "        self.age  = age\n",
        "\n",
        "    getname = getname\n",
        "    getage  = getage\n"
      ]
    },
    {
      "cell_type": "code",
      "execution_count": null,
      "metadata": {
        "id": "6h0uDEHpQuNI",
        "outputId": "abdf9014-045e-432c-b927-64ccd5aa7f4f"
      },
      "outputs": [
        {
          "name": "stdout",
          "output_type": "stream",
          "text": [
            "함수\n",
            "함수\n",
            "44\n",
            "44\n"
          ]
        }
      ],
      "source": [
        "p = Person(\"함수\",44)\n",
        "\n",
        "print(p.getname())\n",
        "print(getname(p))\n",
        "print(p.getage())\n",
        "print(getage(p))"
      ]
    },
    {
      "cell_type": "code",
      "execution_count": null,
      "metadata": {
        "id": "gXDIFwAaQuNJ",
        "outputId": "3a971d55-6c2e-4fcc-ad52-486994132cde"
      },
      "outputs": [
        {
          "name": "stdout",
          "output_type": "stream",
          "text": [
            "<bound method getname of <__main__.Person object at 0x0000000005042860>>\n",
            "<function getname at 0x000000000501EBF8>\n",
            "True\n",
            "<bound method getage of <__main__.Person object at 0x0000000005042860>>\n",
            "<function getage at 0x000000000501E9D8>\n",
            "True\n"
          ]
        }
      ],
      "source": [
        "print(p.getname)\n",
        "print(getname)\n",
        "print(p.getname.__func__ is getname)\n",
        "print(p.getage)\n",
        "print(getage)\n",
        "print(p.getage.__func__ is getage)"
      ]
    },
    {
      "cell_type": "markdown",
      "metadata": {
        "id": "paO372BDQuNJ"
      },
      "source": [
        "- __ init __ 를 함수로 정의하고 클래스 내에 할당할 경우"
      ]
    },
    {
      "cell_type": "code",
      "execution_count": null,
      "metadata": {
        "collapsed": true,
        "id": "woSHOwQDQuNJ"
      },
      "outputs": [],
      "source": [
        "def __init__(self,name,age) :\n",
        "    self.name = name\n",
        "    self.age  = age\n",
        "\n",
        "class Person :\n",
        "    __init__ = __init__"
      ]
    },
    {
      "cell_type": "code",
      "execution_count": null,
      "metadata": {
        "id": "XMofNTDkQuNK",
        "outputId": "52b2bbe0-4710-47c3-dff6-6560133ccc2d"
      },
      "outputs": [
        {
          "name": "stdout",
          "output_type": "stream",
          "text": [
            "{'name': 'DahlMoon', 'age': 22}\n"
          ]
        }
      ],
      "source": [
        "p = Person(\"DahlMoon\",22)\n",
        "print(p.__dict__)"
      ]
    },
    {
      "cell_type": "code",
      "execution_count": null,
      "metadata": {
        "id": "zPQCfukFQuNK",
        "outputId": "9f086b48-d69a-4b9c-8f65-40a45099a5bf"
      },
      "outputs": [
        {
          "name": "stdout",
          "output_type": "stream",
          "text": [
            "<function __init__ at 0x000000000500F598>\n",
            "<function __init__ at 0x000000000500F598>\n"
          ]
        }
      ],
      "source": [
        "print(p.__init__.__func__)\n",
        "print(__init__)"
      ]
    },
    {
      "cell_type": "markdown",
      "metadata": {
        "id": "Nv08OUkqQuNL"
      },
      "source": [
        "- Method Chain 처리"
      ]
    },
    {
      "cell_type": "code",
      "execution_count": null,
      "metadata": {
        "collapsed": true,
        "id": "17t3gXYCQuNL"
      },
      "outputs": [],
      "source": [
        "class MethodChain :\n",
        "    def __init__(self, content) :\n",
        "        self.content = content\n",
        "\n",
        "    def intent(self,space) :\n",
        "        self.content = \" \"*space + self.content\n",
        "        return self\n",
        "\n",
        "    def suffix(self,content) :\n",
        "        self.content = self.content + \"-\" + content\n",
        "        return self\n"
      ]
    },
    {
      "cell_type": "code",
      "execution_count": null,
      "metadata": {
        "id": "0ZDCaN8eQuNM",
        "outputId": "275e4f78-34b9-4c64-8c79-029a61aa0b8b"
      },
      "outputs": [
        {
          "name": "stdout",
          "output_type": "stream",
          "text": [
            "     하늘과별과 시-윤동주\n"
          ]
        }
      ],
      "source": [
        "m = MethodChain(\"하늘과별과 시\").intent(5).suffix(\"윤동주\").content\n",
        "\n",
        "print(m)"
      ]
    },
    {
      "cell_type": "markdown",
      "source": [
        "## **5. 캡슐화(Encapsulation)**"
      ],
      "metadata": {
        "id": "KNaalFhrJQnv"
      }
    },
    {
      "cell_type": "markdown",
      "metadata": {
        "id": "UKSFFmEKQuNM"
      },
      "source": [
        "- 보호된 이름 사용"
      ]
    },
    {
      "cell_type": "code",
      "execution_count": null,
      "metadata": {
        "id": "QGHfh8ZcQuNM"
      },
      "outputs": [],
      "source": [
        "class Protected :\n",
        "    def __init__(self,name,age) :\n",
        "        self._set(name,age)\n",
        "\n",
        "    def _set(self,name,age) :\n",
        "        self._name = name\n",
        "        self._age = age\n",
        "\n",
        "    def getname(self) :\n",
        "        return self._name\n",
        "    def getage(self) :\n",
        "        return self._age\n"
      ]
    },
    {
      "cell_type": "code",
      "execution_count": null,
      "metadata": {
        "id": "a6dkNhz7QuNN",
        "outputId": "7e2eb87c-7ac7-462d-b089-d4c5ac118daa"
      },
      "outputs": [
        {
          "name": "stdout",
          "output_type": "stream",
          "text": [
            "{'_name': '정찬혁', '_age': 31}\n"
          ]
        }
      ],
      "source": [
        "p = Protected(\"정찬혁\", 31)\n",
        "\n",
        "print(p.__dict__)"
      ]
    },
    {
      "cell_type": "code",
      "execution_count": null,
      "metadata": {
        "id": "WfNBl4G0QuNN",
        "outputId": "8c9c07fb-a58e-488b-f34b-90ee36222f97"
      },
      "outputs": [
        {
          "name": "stdout",
          "output_type": "stream",
          "text": [
            "정찬혁\n",
            "31\n"
          ]
        }
      ],
      "source": [
        "print(p.getname())\n",
        "print(p.getage())"
      ]
    },
    {
      "cell_type": "code",
      "execution_count": null,
      "metadata": {
        "id": "Ba3StiucQuNN",
        "outputId": "26eb6ad3-4e1a-4c1d-b58e-55dddbf57f4d"
      },
      "outputs": [
        {
          "name": "stdout",
          "output_type": "stream",
          "text": [
            "정찬혁\n",
            "31\n"
          ]
        }
      ],
      "source": [
        "print(p._name)\n",
        "print(p._age)"
      ]
    },
    {
      "cell_type": "markdown",
      "metadata": {
        "id": "cOdwyr5AQuNO"
      },
      "source": [
        "- 속성이나 메소드에 대한 맹글링 처리"
      ]
    },
    {
      "cell_type": "code",
      "execution_count": null,
      "metadata": {
        "id": "izco9UuDQuNO"
      },
      "outputs": [],
      "source": [
        "class Mangling :\n",
        "    def __init__(self,name,age) :\n",
        "        self.__set(name,age)\n",
        "\n",
        "    def __set(self,name,age) :\n",
        "        self.__name = name\n",
        "        self.__age = age\n",
        "\n",
        "    def getname(self) :\n",
        "        return self.__name\n",
        "    def getage(self) :\n",
        "        return self.__age"
      ]
    },
    {
      "cell_type": "code",
      "execution_count": null,
      "metadata": {
        "id": "FyXfLJpcQuNO",
        "outputId": "76248c30-f12a-445d-8a8e-c5be24788380"
      },
      "outputs": [
        {
          "name": "stdout",
          "output_type": "stream",
          "text": [
            "{'_Mangling__name': '정찬혁', '_Mangling__age': 31}\n"
          ]
        }
      ],
      "source": [
        "p = Mangling(\"정찬혁\", 31)\n",
        "\n",
        "print(p.__dict__)"
      ]
    },
    {
      "cell_type": "code",
      "execution_count": null,
      "metadata": {
        "id": "YPzPAK22QuNO",
        "outputId": "c7b157fd-84c5-4f9a-c277-13fe45afdb3f"
      },
      "outputs": [
        {
          "name": "stdout",
          "output_type": "stream",
          "text": [
            "정찬혁\n",
            "31\n"
          ]
        }
      ],
      "source": [
        "print(p.getname())\n",
        "print(p.getage())"
      ]
    },
    {
      "cell_type": "code",
      "execution_count": null,
      "metadata": {
        "id": "BH9XPDWRQuNP",
        "outputId": "8b04aa0c-3a4e-44c4-a432-e28f278e2a25"
      },
      "outputs": [
        {
          "ename": "AttributeError",
          "evalue": "'Mangling' object has no attribute '__name'",
          "output_type": "error",
          "traceback": [
            "\u001b[0;31m---------------------------------------------------------------------------\u001b[0m",
            "\u001b[0;31mAttributeError\u001b[0m                            Traceback (most recent call last)",
            "\u001b[0;32m<ipython-input-126-39890ff3efd6>\u001b[0m in \u001b[0;36m<module>\u001b[0;34m()\u001b[0m\n\u001b[0;32m----> 1\u001b[0;31m \u001b[0mprint\u001b[0m\u001b[1;33m(\u001b[0m\u001b[0mp\u001b[0m\u001b[1;33m.\u001b[0m\u001b[0m__name\u001b[0m\u001b[1;33m)\u001b[0m\u001b[1;33m\u001b[0m\u001b[0m\n\u001b[0m\u001b[1;32m      2\u001b[0m \u001b[0mprint\u001b[0m\u001b[1;33m(\u001b[0m\u001b[0mp\u001b[0m\u001b[1;33m.\u001b[0m\u001b[0m__age\u001b[0m\u001b[1;33m)\u001b[0m\u001b[1;33m\u001b[0m\u001b[0m\n",
            "\u001b[0;31mAttributeError\u001b[0m: 'Mangling' object has no attribute '__name'"
          ]
        }
      ],
      "source": [
        "print(p.__name)\n",
        "print(p.__age)"
      ]
    },
    {
      "cell_type": "code",
      "execution_count": null,
      "metadata": {
        "id": "EwitdyyFQuNP",
        "outputId": "16ed1d2e-98e9-46e8-ac28-43659c714af7"
      },
      "outputs": [
        {
          "name": "stdout",
          "output_type": "stream",
          "text": [
            "정찬혁\n",
            "31\n"
          ]
        }
      ],
      "source": [
        "print(p._Mangling__name)\n",
        "print(p._Mangling__age)"
      ]
    },
    {
      "cell_type": "code",
      "execution_count": null,
      "metadata": {
        "id": "go3scu3UQuNP",
        "outputId": "4b3f2bb1-5878-44e4-8762-88a256b33cd6"
      },
      "outputs": [
        {
          "name": "stdout",
          "output_type": "stream",
          "text": [
            "mappingproxy({'_Mangling__set': <function Mangling.__set at 0x000000000501E1E0>,\n",
            "              '__dict__': <attribute '__dict__' of 'Mangling' objects>,\n",
            "              '__doc__': None,\n",
            "              '__init__': <function Mangling.__init__ at 0x000000000501E2F0>,\n",
            "              '__module__': '__main__',\n",
            "              '__weakref__': <attribute '__weakref__' of 'Mangling' objects>,\n",
            "              'getage': <function Mangling.getage at 0x000000000501E730>,\n",
            "              'getname': <function Mangling.getname at 0x000000000501E268>})\n"
          ]
        }
      ],
      "source": [
        "import pprint\n",
        "\n",
        "pprint.pprint(Mangling.__dict__)"
      ]
    },
    {
      "cell_type": "code",
      "execution_count": null,
      "metadata": {
        "id": "XIY7QDk5QuNQ",
        "outputId": "d31012cc-0b63-49f3-9b11-68211a444dbe"
      },
      "outputs": [
        {
          "ename": "AttributeError",
          "evalue": "'Mangling' object has no attribute '__set'",
          "output_type": "error",
          "traceback": [
            "\u001b[0;31m---------------------------------------------------------------------------\u001b[0m",
            "\u001b[0;31mAttributeError\u001b[0m                            Traceback (most recent call last)",
            "\u001b[0;32m<ipython-input-129-184d8e5290bb>\u001b[0m in \u001b[0;36m<module>\u001b[0;34m()\u001b[0m\n\u001b[0;32m----> 1\u001b[0;31m \u001b[0mp\u001b[0m\u001b[1;33m.\u001b[0m\u001b[0m__set\u001b[0m\u001b[1;33m(\u001b[0m\u001b[1;34m\"맹글링\"\u001b[0m\u001b[1;33m,\u001b[0m\u001b[1;36m55\u001b[0m\u001b[1;33m)\u001b[0m\u001b[1;33m\u001b[0m\u001b[0m\n\u001b[0m",
            "\u001b[0;31mAttributeError\u001b[0m: 'Mangling' object has no attribute '__set'"
          ]
        }
      ],
      "source": [
        "p.__set(\"맹글링\",55)"
      ]
    },
    {
      "cell_type": "code",
      "execution_count": null,
      "metadata": {
        "id": "a7abmzW0QuNQ",
        "outputId": "20c45776-7d47-40a8-fc27-acf7167caf36"
      },
      "outputs": [
        {
          "name": "stdout",
          "output_type": "stream",
          "text": [
            "맹글링\n",
            "55\n"
          ]
        }
      ],
      "source": [
        "p._Mangling__set(\"맹글링\",55)\n",
        "\n",
        "print(p._Mangling__name)\n",
        "print(p._Mangling__age)"
      ]
    },
    {
      "cell_type": "markdown",
      "metadata": {
        "id": "CA_n3r-lQuNQ"
      },
      "source": [
        "- 프로퍼티로 속성을 숨기기"
      ]
    },
    {
      "cell_type": "code",
      "execution_count": null,
      "metadata": {
        "id": "0uxoq6nUQuNR"
      },
      "outputs": [],
      "source": [
        "class PropertyClass :\n",
        "    def __init__(self,name) :\n",
        "        self._name = name\n",
        "    @property\n",
        "    def name(self) :\n",
        "        return self._name\n",
        "    @name.setter\n",
        "    def name(self,value) :\n",
        "        self._name = value"
      ]
    },
    {
      "cell_type": "code",
      "execution_count": null,
      "metadata": {
        "id": "94wzcFCmQuNR",
        "outputId": "5ba53798-4cbe-459d-fa5b-43f4584d49c9"
      },
      "outputs": [
        {
          "name": "stdout",
          "output_type": "stream",
          "text": [
            "mappingproxy({'__dict__': <attribute '__dict__' of 'PropertyClass' objects>,\n",
            "              '__doc__': None,\n",
            "              '__init__': <function PropertyClass.__init__ at 0x0000000004B30D08>,\n",
            "              '__module__': '__main__',\n",
            "              '__weakref__': <attribute '__weakref__' of 'PropertyClass' objects>,\n",
            "              'name': <property object at 0x0000000004B43548>})\n"
          ]
        }
      ],
      "source": [
        "import pprint\n",
        "\n",
        "pprint.pprint(PropertyClass.__dict__)"
      ]
    },
    {
      "cell_type": "code",
      "execution_count": null,
      "metadata": {
        "id": "F7KhTN8WQuNR",
        "outputId": "6eb3777b-3cbe-4e96-de8f-b06e7cb96272"
      },
      "outputs": [
        {
          "name": "stdout",
          "output_type": "stream",
          "text": [
            "은옥주\n"
          ]
        }
      ],
      "source": [
        "p = PropertyClass(\"은옥주\")\n",
        "\n",
        "print(p.name)"
      ]
    },
    {
      "cell_type": "code",
      "execution_count": null,
      "metadata": {
        "id": "TZgFSoI0QuNR",
        "outputId": "4c46c94f-e372-4efb-c44d-c8ae91d7b64c"
      },
      "outputs": [
        {
          "name": "stdout",
          "output_type": "stream",
          "text": [
            "금옥주\n"
          ]
        }
      ],
      "source": [
        "p.name = \"금옥주\"\n",
        "print(p.name)"
      ]
    },
    {
      "cell_type": "code",
      "execution_count": null,
      "metadata": {
        "id": "LWBYGPRVQuNS",
        "outputId": "1504582a-e8b2-4315-ed7a-64603183992f"
      },
      "outputs": [
        {
          "name": "stdout",
          "output_type": "stream",
          "text": [
            "{'_name': '금옥주'}\n",
            "금옥주\n",
            "동옥주\n"
          ]
        }
      ],
      "source": [
        "print(p.__dict__)\n",
        "print(p._name)\n",
        "p._name = \"동옥주\"\n",
        "print(p.name)"
      ]
    },
    {
      "cell_type": "markdown",
      "source": [
        "## **6. 상속(Inheritance)**"
      ],
      "metadata": {
        "id": "lc7-V_xMJasc"
      }
    },
    {
      "cell_type": "markdown",
      "metadata": {
        "id": "SQHmsC1LREYr"
      },
      "source": [
        "- 부모 클래스의 초기화 모듈을 이용"
      ]
    },
    {
      "cell_type": "code",
      "execution_count": null,
      "metadata": {
        "collapsed": true,
        "id": "7484NuGDREYu"
      },
      "outputs": [],
      "source": [
        "class Parent :\n",
        "    def __init__(self,name,age) :\n",
        "        self.name = name\n",
        "        self.age  = age\n",
        "\n",
        "class Child(Parent) :\n",
        "    pass"
      ]
    },
    {
      "cell_type": "code",
      "execution_count": null,
      "metadata": {
        "id": "qfUSzJXGREYv",
        "outputId": "9ede9c19-51fb-4ce0-a0f0-373c4c0cce13"
      },
      "outputs": [
        {
          "name": "stdout",
          "output_type": "stream",
          "text": [
            "mappingproxy({'__dict__': <attribute '__dict__' of 'Parent' objects>,\n",
            "              '__doc__': None,\n",
            "              '__init__': <function Parent.__init__ at 0x0000000004ADC2F0>,\n",
            "              '__module__': '__main__',\n",
            "              '__weakref__': <attribute '__weakref__' of 'Parent' objects>})\n"
          ]
        }
      ],
      "source": [
        "import pprint\n",
        "\n",
        "pprint.pprint(Parent.__dict__)"
      ]
    },
    {
      "cell_type": "code",
      "execution_count": null,
      "metadata": {
        "id": "5eDcTgdwREYw",
        "outputId": "8ec9c025-6d35-4e15-f3d7-8f5c601f4038"
      },
      "outputs": [
        {
          "name": "stdout",
          "output_type": "stream",
          "text": [
            "mappingproxy({'__module__': '__main__', '__doc__': None})\n"
          ]
        }
      ],
      "source": [
        "import pprint\n",
        "\n",
        "pprint.pprint(Child.__dict__)"
      ]
    },
    {
      "cell_type": "code",
      "execution_count": null,
      "metadata": {
        "id": "uy8xyrKEREYw",
        "outputId": "1ad5abbf-b535-478c-e46f-fec25f7f0e95"
      },
      "outputs": [
        {
          "name": "stdout",
          "output_type": "stream",
          "text": [
            "<__main__.Child object at 0x0000000004AE4438>\n",
            "{'name': '자식', 'age': 33}\n"
          ]
        }
      ],
      "source": [
        "c = Child(\"자식\",33)\n",
        "print(c)\n",
        "print(c.__dict__)"
      ]
    },
    {
      "cell_type": "markdown",
      "metadata": {
        "id": "lyORNTxtREYw"
      },
      "source": [
        "- 상속관계 확인하기"
      ]
    },
    {
      "cell_type": "code",
      "execution_count": null,
      "metadata": {
        "collapsed": true,
        "id": "RNxrW88xREYx"
      },
      "outputs": [],
      "source": [
        "class GrandParent :\n",
        "    def __init__(self,name,age) :\n",
        "        self.name = name\n",
        "        self.age  = age\n",
        "\n",
        "class Parent(GrandParent) :\n",
        "    pass\n",
        "\n",
        "class Child(Parent) :\n",
        "    pass"
      ]
    },
    {
      "cell_type": "code",
      "execution_count": null,
      "metadata": {
        "id": "oONUjr7fREYx",
        "outputId": "d1ee220c-0924-4616-c04d-e18656db9429"
      },
      "outputs": [
        {
          "name": "stdout",
          "output_type": "stream",
          "text": [
            "(<class 'object'>,)\n",
            "(<class '__main__.GrandParent'>,)\n",
            "(<class '__main__.Parent'>,)\n"
          ]
        }
      ],
      "source": [
        "print(GrandParent.__bases__)\n",
        "print(Parent.__bases__)\n",
        "print(Child.__bases__)"
      ]
    },
    {
      "cell_type": "code",
      "execution_count": null,
      "metadata": {
        "id": "07hKJlQyREYx",
        "outputId": "3d8bd85e-ae38-48a4-d5eb-17ce45f259de"
      },
      "outputs": [
        {
          "name": "stdout",
          "output_type": "stream",
          "text": [
            "True\n",
            "True\n",
            "True\n"
          ]
        }
      ],
      "source": [
        "print(issubclass(Parent, GrandParent))\n",
        "print(issubclass(Child, Parent))\n",
        "print(issubclass(Child, GrandParent))"
      ]
    },
    {
      "cell_type": "markdown",
      "metadata": {
        "collapsed": true,
        "id": "6B79oqvkREYy"
      },
      "source": [
        "- 상속에 따른 네임스페이스 검색"
      ]
    },
    {
      "cell_type": "code",
      "execution_count": null,
      "metadata": {
        "collapsed": true,
        "id": "3UBzLSGvREYy"
      },
      "outputs": [],
      "source": [
        "class A :\n",
        "    A_cls = \"A 클래스 속성\"\n",
        "\n",
        "class B(A) :\n",
        "    pass\n",
        "\n",
        "class C(A) :\n",
        "    pass\n"
      ]
    },
    {
      "cell_type": "code",
      "execution_count": null,
      "metadata": {
        "id": "OnIRE0NnREYy",
        "outputId": "08fdbd01-20ac-491b-f655-58a3e2d5ecc9"
      },
      "outputs": [
        {
          "name": "stdout",
          "output_type": "stream",
          "text": [
            "A 클래스 속성\n",
            "A 클래스 속성\n"
          ]
        }
      ],
      "source": [
        "print(B.A_cls)\n",
        "print(C.A_cls)"
      ]
    },
    {
      "cell_type": "code",
      "execution_count": null,
      "metadata": {
        "id": "oiG6DsB7REYy",
        "outputId": "5e752a7f-ed43-448c-fc40-b60365e874bc"
      },
      "outputs": [
        {
          "name": "stdout",
          "output_type": "stream",
          "text": [
            "B 클래스 속성\n",
            "A 클래스 속성\n"
          ]
        }
      ],
      "source": [
        "B.A_cls = \"B 클래스 속성\"\n",
        "\n",
        "print(B.A_cls)\n",
        "print(C.A_cls)"
      ]
    },
    {
      "cell_type": "code",
      "execution_count": null,
      "metadata": {
        "id": "fHQFjk9QREYz",
        "outputId": "9e69b971-8d18-452f-eb3e-7b8a7432d289"
      },
      "outputs": [
        {
          "name": "stdout",
          "output_type": "stream",
          "text": [
            "mappingproxy({'A_cls': 'A 클래스 속성',\n",
            "              '__dict__': <attribute '__dict__' of 'A' objects>,\n",
            "              '__doc__': None,\n",
            "              '__module__': '__main__',\n",
            "              '__weakref__': <attribute '__weakref__' of 'A' objects>})\n"
          ]
        }
      ],
      "source": [
        "import pprint\n",
        "\n",
        "pprint.pprint(A.__dict__)"
      ]
    },
    {
      "cell_type": "code",
      "execution_count": null,
      "metadata": {
        "id": "MWK2u-drREYz",
        "outputId": "80f409a0-101a-4ee7-e51f-c1fccc093e60"
      },
      "outputs": [
        {
          "name": "stdout",
          "output_type": "stream",
          "text": [
            "mappingproxy({'__module__': '__main__', '__doc__': None, 'A_cls': 'B 클래스 속성'})\n"
          ]
        }
      ],
      "source": [
        "import pprint\n",
        "\n",
        "pprint.pprint(B.__dict__)"
      ]
    },
    {
      "cell_type": "markdown",
      "metadata": {
        "id": "uLpOw5SIREYz"
      },
      "source": [
        "- __ init_subclass __ 클래스 메소드"
      ]
    },
    {
      "cell_type": "code",
      "execution_count": null,
      "metadata": {
        "id": "UbU-R7DOREY0",
        "outputId": "ec906740-9e53-40c8-9d13-45c0b30604c4"
      },
      "outputs": [
        {
          "name": "stdout",
          "output_type": "stream",
          "text": [
            "Help on built-in function __init_subclass__:\n",
            "\n",
            "__init_subclass__(...) method of builtins.type instance\n",
            "    This method is called when a class is subclassed.\n",
            "    \n",
            "    The default implementation does nothing. It may be\n",
            "    overridden to extend subclasses.\n",
            "\n"
          ]
        }
      ],
      "source": [
        "help(object.__init_subclass__)"
      ]
    },
    {
      "cell_type": "code",
      "execution_count": null,
      "metadata": {
        "id": "foA41fxxREY0",
        "outputId": "7e610e23-2811-4cfb-b48b-0c4949e5c3c3"
      },
      "outputs": [
        {
          "name": "stdout",
          "output_type": "stream",
          "text": [
            "<class 'type'> <class '__main__.Sub'>\n",
            "sub\n"
          ]
        }
      ],
      "source": [
        "class Super :\n",
        "    def __init_subclass__(cls,name) :\n",
        "        print(type(cls),cls)\n",
        "        cls.name = name\n",
        "\n",
        "\n",
        "class Sub(Super, name=\"sub\") :\n",
        "    pass\n",
        "\n",
        "print(Sub.name)\n"
      ]
    },
    {
      "cell_type": "code",
      "execution_count": null,
      "metadata": {
        "id": "9MSaiNQUREY0",
        "outputId": "292b7f3e-6322-45c3-a879-e34b8666c24c"
      },
      "outputs": [
        {
          "name": "stdout",
          "output_type": "stream",
          "text": [
            "mappingproxy({'__dict__': <attribute '__dict__' of 'Super' objects>,\n",
            "              '__doc__': None,\n",
            "              '__init_subclass__': <classmethod object at 0x10eb204e0>,\n",
            "              '__module__': '__main__',\n",
            "              '__weakref__': <attribute '__weakref__' of 'Super' objects>})\n"
          ]
        }
      ],
      "source": [
        "import pprint\n",
        "\n",
        "pprint.pprint(Super.__dict__)"
      ]
    },
    {
      "cell_type": "code",
      "execution_count": null,
      "metadata": {
        "id": "hlZpwXviREY0",
        "outputId": "0d67780c-84ee-4ea6-88ca-67dff04fc408"
      },
      "outputs": [
        {
          "name": "stdout",
          "output_type": "stream",
          "text": [
            "mappingproxy({'__module__': '__main__', '__doc__': None, 'name': 'sub'})\n"
          ]
        }
      ],
      "source": [
        "import pprint\n",
        "\n",
        "pprint.pprint(Sub.__dict__)"
      ]
    },
    {
      "cell_type": "markdown",
      "metadata": {
        "id": "RRlRurzfREY0"
      },
      "source": [
        "- 다중 상속 Class 정의 및 읽는 순서 확인하기"
      ]
    },
    {
      "cell_type": "code",
      "execution_count": null,
      "metadata": {
        "collapsed": true,
        "id": "yNagCiWSREY1"
      },
      "outputs": [],
      "source": [
        "class Parent1 :\n",
        "    def __init__(self,name) :\n",
        "        print(\" Parent1 \")\n",
        "        self.name = name\n",
        "\n",
        "class Parent2 :\n",
        "     def __init__(self,name) :\n",
        "        print(\" Parent2 \")\n",
        "        self.name = name\n",
        "\n",
        "class Child(Parent1, Parent2) :\n",
        "    pass"
      ]
    },
    {
      "cell_type": "code",
      "execution_count": null,
      "metadata": {
        "id": "reSCzjCmREY1",
        "outputId": "5a7be814-7e7e-4bf9-f805-172391777eaf"
      },
      "outputs": [
        {
          "name": "stdout",
          "output_type": "stream",
          "text": [
            "[<class '__main__.Child'>,\n",
            " <class '__main__.Parent1'>,\n",
            " <class '__main__.Parent2'>,\n",
            " <class 'object'>]\n"
          ]
        }
      ],
      "source": [
        "import pprint\n",
        "\n",
        "pprint.pprint(Child.mro())"
      ]
    },
    {
      "cell_type": "code",
      "execution_count": null,
      "metadata": {
        "id": "OrDXI33jREY1",
        "outputId": "c6ce106e-7520-48e2-f41a-2e1dfdf67dfe"
      },
      "outputs": [
        {
          "name": "stdout",
          "output_type": "stream",
          "text": [
            " Parent1 \n"
          ]
        }
      ],
      "source": [
        "c = Child(\"다중상속\")\n"
      ]
    },
    {
      "cell_type": "markdown",
      "metadata": {
        "id": "IdJOV80qREY1"
      },
      "source": [
        "- 다른 부모 클래스의 __ init __ 메소드를 사용하고 싶을 경우"
      ]
    },
    {
      "cell_type": "code",
      "execution_count": null,
      "metadata": {
        "collapsed": true,
        "id": "WKo8h_AbREY1"
      },
      "outputs": [],
      "source": [
        "class Parent1 :\n",
        "    def __init__(self,name) :\n",
        "        print(\" Parent1 \")\n",
        "        self.name = name\n",
        "\n",
        "class Parent2 :\n",
        "     def __init__(self,name,age) :\n",
        "        print(\" Parent2 \")\n",
        "        self.name = name\n",
        "        self.age = age\n",
        "\n",
        "class Child2(Parent1, Parent2) :\n",
        "\n",
        "    def __init__(self,name, age=None) :\n",
        "        if age is None :\n",
        "            super().__init__(name)\n",
        "        else :\n",
        "            Parent2.__init__(self,name,age)\n"
      ]
    },
    {
      "cell_type": "code",
      "execution_count": null,
      "metadata": {
        "id": "qilzBF8vREY1",
        "outputId": "542f5886-fe76-4992-fb50-a9cc4b3df3be"
      },
      "outputs": [
        {
          "name": "stdout",
          "output_type": "stream",
          "text": [
            " Parent1 \n",
            "{'name': '다중상속'}\n"
          ]
        }
      ],
      "source": [
        "c1 = Child2(\"다중상속\")\n",
        "print(c1.__dict__)"
      ]
    },
    {
      "cell_type": "code",
      "execution_count": null,
      "metadata": {
        "id": "I6A1nqLoREY2",
        "outputId": "49a509d9-9573-4e27-ab7f-cad235669c70"
      },
      "outputs": [
        {
          "name": "stdout",
          "output_type": "stream",
          "text": [
            " Parent2 \n",
            "{'name': '다중상속', 'age': 33}\n"
          ]
        }
      ],
      "source": [
        "c2 = Child2(\"다중상속\", 33)\n",
        "print(c2.__dict__)"
      ]
    },
    {
      "cell_type": "markdown",
      "metadata": {
        "id": "OWNHGAWnREY2"
      },
      "source": [
        "- super 클래스 이해하기"
      ]
    },
    {
      "cell_type": "code",
      "execution_count": null,
      "metadata": {
        "id": "FBwL9HANREY2",
        "outputId": "4634b1a1-4aaa-4e8a-8470-a2f1a49aedef"
      },
      "outputs": [
        {
          "name": "stdout",
          "output_type": "stream",
          "text": [
            " AAA \n"
          ]
        }
      ],
      "source": [
        "class A :\n",
        "    A_cls = \" AAA \"\n",
        "\n",
        "class B(A) :\n",
        "    A_cls = \" BBB \"\n",
        "\n",
        "print(super(B,B()).A_cls)\n"
      ]
    },
    {
      "cell_type": "code",
      "execution_count": null,
      "metadata": {
        "id": "c_rn4CC7REY2",
        "outputId": "14eaddf5-4132-4a22-b4dc-8ceda8667cdc"
      },
      "outputs": [
        {
          "name": "stdout",
          "output_type": "stream",
          "text": [
            "{'name': '슈퍼우먼', 'age': 33}\n"
          ]
        }
      ],
      "source": [
        "class A :\n",
        "    def __init__(self,name) :\n",
        "        self.name = name\n",
        "\n",
        "class B(A) :\n",
        "     def __init__(self,name,age) :\n",
        "        super().__init__(name)\n",
        "        self.age = age\n",
        "\n",
        "b = B(\"슈퍼우먼\", 33)\n",
        "print(b.__dict__)"
      ]
    },
    {
      "cell_type": "code",
      "execution_count": null,
      "metadata": {
        "id": "_95hjiNgREY2",
        "outputId": "4ba5467f-9932-4c84-ccbd-00c80d0010ca"
      },
      "outputs": [
        {
          "name": "stdout",
          "output_type": "stream",
          "text": [
            "{'name': '슈퍼우먼', 'age': 33}\n",
            "{'name': '수퍼맨'}\n"
          ]
        }
      ],
      "source": [
        "class A :\n",
        "    def __init__(self,name) :\n",
        "        self.name = name\n",
        "\n",
        "class B :\n",
        "    def __init__(self,name,age) :\n",
        "        self.name = name\n",
        "        self.age = age\n",
        "\n",
        "class C(A,B) :\n",
        "     def __init__(self,name,age=None) :\n",
        "        super().__init__(name)\n",
        "        if age :\n",
        "            C.mro()[2].__init__(self,name,age)\n",
        "\n",
        "\n",
        "c = C(\"슈퍼우먼\", 33)\n",
        "print(c.__dict__)\n",
        "\n",
        "c2 = C(\"수퍼맨\")\n",
        "print(c2.__dict__)"
      ]
    },
    {
      "cell_type": "markdown",
      "metadata": {
        "collapsed": true,
        "id": "MrmYbBBrREY3"
      },
      "source": [
        "- Mixin 클래스 하나를 상속처리"
      ]
    },
    {
      "cell_type": "code",
      "execution_count": null,
      "metadata": {
        "collapsed": true,
        "id": "q0bOrqfSREY3"
      },
      "outputs": [],
      "source": [
        "import operator as op\n",
        "\n",
        "class OpMixin :\n",
        "\n",
        "    def aroper(self,op_code) :\n",
        "        return {'+':op.add,\n",
        "                '*':op.mul}[op_code]  \\\n",
        "               (self.x, self.y if type(self.y) not in [str,list, tuple]  \\\n",
        "                               else  self.y if op_code != \"*\"\n",
        "                                            else len(self.y))\n"
      ]
    },
    {
      "cell_type": "code",
      "execution_count": null,
      "metadata": {
        "collapsed": true,
        "id": "DtFyACdfREY3"
      },
      "outputs": [],
      "source": [
        "class Num(OpMixin) :\n",
        "    def __init__(self, x,y) :\n",
        "        self.x = x\n",
        "        self.y = y\n"
      ]
    },
    {
      "cell_type": "code",
      "execution_count": null,
      "metadata": {
        "collapsed": true,
        "id": "YCW98FdEREY3"
      },
      "outputs": [],
      "source": [
        "class STR(OpMixin) :\n",
        "    def __init__(self, x,y) :\n",
        "        self.x = x\n",
        "        self.y = y"
      ]
    },
    {
      "cell_type": "code",
      "execution_count": null,
      "metadata": {
        "collapsed": true,
        "id": "zA-TyylqREY4"
      },
      "outputs": [],
      "source": [
        "class LIST(OpMixin) :\n",
        "    def __init__(self, x,y) :\n",
        "        self.x = x\n",
        "        self.y = y"
      ]
    },
    {
      "cell_type": "code",
      "execution_count": null,
      "metadata": {
        "id": "6jgkaCI6REY4",
        "outputId": "190e1069-a93a-48a5-ffeb-ea4731bdf298"
      },
      "outputs": [
        {
          "name": "stdout",
          "output_type": "stream",
          "text": [
            "11\n",
            "30\n"
          ]
        }
      ],
      "source": [
        "n = Num(5,6)\n",
        "\n",
        "print(n.aroper(\"+\"))\n",
        "print(n.aroper(\"*\"))"
      ]
    },
    {
      "cell_type": "code",
      "execution_count": null,
      "metadata": {
        "id": "-Jtx3C-eREY4",
        "outputId": "98616241-750c-4eff-db5c-8e987188460a"
      },
      "outputs": [
        {
          "name": "stdout",
          "output_type": "stream",
          "text": [
            "HelloWorld\n",
            "HelloHelloHelloHelloHello\n"
          ]
        }
      ],
      "source": [
        "s = STR(\"Hello\",\"World\")\n",
        "\n",
        "print(s.aroper(\"+\"))\n",
        "print(s.aroper(\"*\"))"
      ]
    },
    {
      "cell_type": "code",
      "execution_count": null,
      "metadata": {
        "id": "d3ZVjas5REY4",
        "outputId": "3e62dd10-9025-42ad-f8ba-b3e7091b164b"
      },
      "outputs": [
        {
          "name": "stdout",
          "output_type": "stream",
          "text": [
            "[1, 2, 3, 4, 6, 7]\n",
            "[1, 2, 3, 4, 1, 2, 3, 4]\n"
          ]
        }
      ],
      "source": [
        "l = LIST([1,2,3,4],[6,7])\n",
        "\n",
        "print(l.aroper(\"+\"))\n",
        "print(l.aroper(\"*\"))"
      ]
    },
    {
      "cell_type": "markdown",
      "metadata": {
        "id": "_GyXuqd7REY5"
      },
      "source": [
        "- 여러 Mixin 클래스에 동일한 메소드"
      ]
    },
    {
      "cell_type": "code",
      "execution_count": null,
      "metadata": {
        "collapsed": true,
        "id": "8LBvcvZzREY5"
      },
      "outputs": [],
      "source": [
        "class AMixin :\n",
        "    def method(self) :\n",
        "        return \"A Mixin\"\n",
        "\n",
        "class BMixin :\n",
        "    def method(self) :\n",
        "        return \"B Mixin\""
      ]
    },
    {
      "cell_type": "code",
      "execution_count": null,
      "metadata": {
        "collapsed": true,
        "id": "1KAPMeYpREY5"
      },
      "outputs": [],
      "source": [
        "class A(AMixin, BMixin) :\n",
        "    pass"
      ]
    },
    {
      "cell_type": "code",
      "execution_count": null,
      "metadata": {
        "id": "Zi44LtfxREY5",
        "outputId": "0862165b-95dc-428e-aca7-e141eb1bfd22"
      },
      "outputs": [
        {
          "name": "stdout",
          "output_type": "stream",
          "text": [
            "A Mixin\n"
          ]
        }
      ],
      "source": [
        "a = A()\n",
        "print(a.method())"
      ]
    },
    {
      "cell_type": "code",
      "execution_count": null,
      "metadata": {
        "collapsed": true,
        "id": "OTjbyokbREY5"
      },
      "outputs": [],
      "source": [
        "class AB(AMixin, BMixin) :\n",
        "    def __init__(self,code) :\n",
        "        self.code = code\n",
        "\n",
        "    def method(self) :\n",
        "        if self.code == \"B\" :\n",
        "            return BMixin.method(self)\n",
        "        else :\n",
        "            return AMixin.method(self)"
      ]
    },
    {
      "cell_type": "code",
      "execution_count": null,
      "metadata": {
        "id": "T7PghBXcREY5",
        "outputId": "88a03583-04b3-4be4-ed51-78ef41a6c5c4"
      },
      "outputs": [
        {
          "name": "stdout",
          "output_type": "stream",
          "text": [
            "B Mixin\n"
          ]
        }
      ],
      "source": [
        "ab = AB(\"B\")\n",
        "print(ab.method())"
      ]
    },
    {
      "cell_type": "markdown",
      "metadata": {
        "id": "eNuU41GtREY6"
      },
      "source": [
        "- Mixin 클래스  다중상속 처리: 다른 메소드 이름"
      ]
    },
    {
      "cell_type": "code",
      "execution_count": null,
      "metadata": {
        "collapsed": true,
        "id": "ZbRWadJYREY6"
      },
      "outputs": [],
      "source": [
        "class AMixin :\n",
        "    def getname(self) :\n",
        "        return self.name\n",
        "\n",
        "class BMixin :\n",
        "    def getage(self) :\n",
        "        return self.age"
      ]
    },
    {
      "cell_type": "code",
      "execution_count": null,
      "metadata": {
        "collapsed": true,
        "id": "GHaNM5bYREY6"
      },
      "outputs": [],
      "source": [
        "class AB(AMixin, BMixin) :\n",
        "    def __init__(self,name,age) :\n",
        "        self.name = name\n",
        "        self.age = age"
      ]
    },
    {
      "cell_type": "code",
      "execution_count": null,
      "metadata": {
        "id": "NE3IoIE1REY6",
        "outputId": "0a262fb8-e624-4020-d259-d16d78f86740"
      },
      "outputs": [
        {
          "name": "stdout",
          "output_type": "stream",
          "text": [
            "다중상속\n",
            "33\n"
          ]
        }
      ],
      "source": [
        "ab = AB(\"다중상속\",33)\n",
        "print(ab.getname())\n",
        "print(ab.getage())"
      ]
    },
    {
      "cell_type": "markdown",
      "source": [
        "## **7. 다형성(Polymorphism)**"
      ],
      "metadata": {
        "id": "6axYmFhZJny2"
      }
    },
    {
      "cell_type": "markdown",
      "metadata": {
        "id": "G0TpcGiRREY6"
      },
      "source": [
        "- 부모 클래스의 메소드를 오버라이딩"
      ]
    },
    {
      "cell_type": "code",
      "execution_count": null,
      "metadata": {
        "collapsed": true,
        "id": "xmnShWJBREY6"
      },
      "outputs": [],
      "source": [
        "class Parent1 :\n",
        "    def __init__(self,name) :\n",
        "        print(\" Parent1 \")\n",
        "        self.name = name\n",
        "    def getname(self) :\n",
        "        return self.name\n",
        "\n",
        "class Parent2 :\n",
        "    def __init__(self,age) :\n",
        "        print(\" Parent2 \")\n",
        "        self.age = age\n",
        "    def getage(self) :\n",
        "        return self.age\n"
      ]
    },
    {
      "cell_type": "code",
      "execution_count": null,
      "metadata": {
        "id": "-dAx0L4-REY7"
      },
      "outputs": [],
      "source": [
        "class Child2(Parent1, Parent2) :\n",
        "\n",
        "    def __init__(self,name, age=None) :\n",
        "        super().__init__(name)\n",
        "        if age is not None :\n",
        "            Parent2.__init__(self,age)\n",
        "\n",
        "    def getname(self) :\n",
        "        return \"child \" + self.name\n",
        "    def getage(self) :\n",
        "        return \"child \" + str(self.age)\n"
      ]
    },
    {
      "cell_type": "code",
      "execution_count": null,
      "metadata": {
        "id": "qPhn_hATREY7",
        "outputId": "e8b24103-92c1-4768-a3aa-09481147de9b"
      },
      "outputs": [
        {
          "name": "stdout",
          "output_type": "stream",
          "text": [
            " Parent1 \n",
            " Parent2 \n",
            "child 오버라이딩\n",
            "child 33\n",
            "오버라이딩\n",
            "33\n"
          ]
        }
      ],
      "source": [
        "c = Child2(\"오버라이딩\", 33)\n",
        "\n",
        "print(c.getname())\n",
        "print(c.getage())\n",
        "\n",
        "print(Parent1.getname(c))\n",
        "print(Parent2.getage(c))"
      ]
    },
    {
      "cell_type": "markdown",
      "metadata": {
        "id": "KM9y2gD4REY7"
      },
      "source": [
        "- overload 모듈을 이용"
      ]
    },
    {
      "cell_type": "code",
      "execution_count": null,
      "metadata": {
        "id": "8Em3Ph8_REY7",
        "outputId": "09d065cf-7d23-4e99-b51b-174cec3b8b0e"
      },
      "outputs": [
        {
          "name": "stdout",
          "output_type": "stream",
          "text": [
            "Collecting overload\n",
            "  Using cached overload-1.1.tar.gz\n",
            "Building wheels for collected packages: overload\n",
            "  Running setup.py bdist_wheel for overload: started\n",
            "  Running setup.py bdist_wheel for overload: finished with status 'done'\n",
            "  Stored in directory: C:\\Users\\06411\\AppData\\Local\\pip\\Cache\\wheels\\84\\11\\4f\\398b5a199ac6da983db67bbf794d8fd793f3c53da1254f74f4\n",
            "Successfully built overload\n",
            "Installing collected packages: overload\n",
            "Successfully installed overload-1.1\n"
          ]
        }
      ],
      "source": [
        "!pip install --upgrade overload"
      ]
    },
    {
      "cell_type": "code",
      "execution_count": null,
      "metadata": {
        "id": "4WjSDt7zREY7"
      },
      "outputs": [],
      "source": [
        "from overload import overload\n",
        "\n",
        "class A :\n",
        "    @overload\n",
        "    def method(self) :\n",
        "        print(\" no args method \")\n",
        "\n",
        "    @method.add\n",
        "    def method(self, x) :\n",
        "        print(\" one args method \"+ x)\n",
        "\n",
        "    @method.add\n",
        "    def method(self, x,y) :\n",
        "        print(\" two args method \"+ x,y)\n",
        "\n"
      ]
    },
    {
      "cell_type": "code",
      "execution_count": null,
      "metadata": {
        "id": "WCHOmz1QREY8",
        "outputId": "6381c46b-8384-4f09-a983-38a84a9ef1e4"
      },
      "outputs": [
        {
          "name": "stdout",
          "output_type": "stream",
          "text": [
            " no args method \n",
            " one args method hello\n",
            " two args method hello world\n"
          ]
        }
      ],
      "source": [
        "a = A()\n",
        "\n",
        "a.method()\n",
        "a.method(\"hello\")\n",
        "a.method(\"hello\",\"world\")"
      ]
    },
    {
      "cell_type": "code",
      "execution_count": null,
      "metadata": {
        "id": "K3mnKuuXREY8",
        "outputId": "e6fa7fd8-a846-496d-e769-db01d8e936b3"
      },
      "outputs": [
        {
          "name": "stdout",
          "output_type": "stream",
          "text": [
            "mappingproxy({'__dict__': <attribute '__dict__' of 'A' objects>,\n",
            "              '__doc__': None,\n",
            "              '__module__': '__main__',\n",
            "              '__weakref__': <attribute '__weakref__' of 'A' objects>,\n",
            "              'method': <function A.method at 0x0000000004E7EC80>})\n"
          ]
        }
      ],
      "source": [
        "import pprint\n",
        "\n",
        "pprint.pprint(A.__dict__)"
      ]
    },
    {
      "cell_type": "code",
      "execution_count": null,
      "metadata": {
        "id": "0dLmY0wdREY8",
        "outputId": "47c247ea-9c78-438c-bdf2-acdb0648b71a"
      },
      "outputs": [
        {
          "name": "stdout",
          "output_type": "stream",
          "text": [
            "<class 'function'>\n",
            "{'__wrapped__': <function A.method at 0x0000000004E7AE18>,\n",
            " 'add': <function overload.<locals>.add at 0x0000000004E7ED08>}\n"
          ]
        }
      ],
      "source": [
        "print(type(A.method))\n",
        "pprint.pprint(A.method.__dict__)"
      ]
    },
    {
      "cell_type": "markdown",
      "metadata": {
        "id": "1m7gIfonREY8"
      },
      "source": [
        "- 연산자 오버로딩 이해하기"
      ]
    },
    {
      "cell_type": "code",
      "execution_count": null,
      "metadata": {
        "collapsed": true,
        "id": "ia9BiwIIREY8"
      },
      "outputs": [],
      "source": [
        "class Person :\n",
        "    def __init__(self,name,age) :\n",
        "        self.name = name\n",
        "        self.age = age\n",
        "\n",
        "class Parent(Person) :\n",
        "    def __init__(self,name,age) :\n",
        "        print(\" Parent class \")\n",
        "        self.name = name\n",
        "        self.age  = age\n",
        "\n",
        "class Child(Person) :\n",
        "     def __init__(self,name,age) :\n",
        "        print(\" Child class \")\n",
        "        self.name = name\n",
        "        self.age  = age"
      ]
    },
    {
      "cell_type": "code",
      "execution_count": null,
      "metadata": {
        "id": "v-YL2SbSREY8",
        "outputId": "bcf3dcde-0253-4857-a925-c05b175f97ca"
      },
      "outputs": [
        {
          "name": "stdout",
          "output_type": "stream",
          "text": [
            " Parent class \n",
            " Child class \n"
          ]
        }
      ],
      "source": [
        "p = Parent(\"서희\",55)\n",
        "c = Child(\"서준\",17)"
      ]
    },
    {
      "cell_type": "code",
      "execution_count": null,
      "metadata": {
        "collapsed": true,
        "id": "KsmPXqGVREY9"
      },
      "outputs": [],
      "source": [
        "class Person :\n",
        "    def __init__(self,name,age) :\n",
        "        print(\" Person class \")\n",
        "        self.name = name\n",
        "        self.age = age\n",
        "\n",
        "class Parent(Person) :\n",
        "    def __init__(self,name,age,pa_code) :\n",
        "        super().__init__(name,age)\n",
        "        self.pa_code = pa_code\n",
        "\n",
        "    def ischild(self,child) :\n",
        "        return True if self is child.pa_id else False\n",
        "\n",
        "class Child(Person) :\n",
        "    def __init__(self,name,age,pa_code,pa_id) :\n",
        "        super().__init__(name,age)\n",
        "        self.pa_code = pa_code\n",
        "        self.pa_id = pa_id\n",
        "\n",
        "    def isparent(self, parent) :\n",
        "        return True if parent is self.pa_id else False"
      ]
    },
    {
      "cell_type": "code",
      "execution_count": null,
      "metadata": {
        "id": "JVyxHkCNREY9",
        "outputId": "79906508-fbe3-4c6d-ea0e-5ab2b7e63c89"
      },
      "outputs": [
        {
          "name": "stdout",
          "output_type": "stream",
          "text": [
            " Person class \n",
            " Person class \n",
            "True\n",
            "True\n"
          ]
        }
      ],
      "source": [
        "p = Parent(\"서아빠\",56,\"p\")\n",
        "c = Child('서준',19,\"c\",p)\n",
        "\n",
        "print(p.ischild(c))\n",
        "print(c.isparent(p))"
      ]
    },
    {
      "cell_type": "markdown",
      "metadata": {
        "collapsed": true,
        "id": "XMOl5A1aREY9"
      },
      "source": [
        "- 함수 내에서 인터페이스 처리"
      ]
    },
    {
      "cell_type": "code",
      "execution_count": null,
      "metadata": {
        "collapsed": true,
        "id": "BTDVMNDZREY9"
      },
      "outputs": [],
      "source": [
        "class Duck :\n",
        "    def say(self) :\n",
        "        return \"quack quack\"\n",
        "\n",
        "class Person :\n",
        "    def say(self) :\n",
        "        return \"Hello !\"\n"
      ]
    },
    {
      "cell_type": "code",
      "execution_count": null,
      "metadata": {
        "collapsed": true,
        "id": "1sg6KxxrREY9"
      },
      "outputs": [],
      "source": [
        "def say(obj) :\n",
        "    return obj.say()\n"
      ]
    },
    {
      "cell_type": "code",
      "execution_count": null,
      "metadata": {
        "id": "eT8RGf5wREY9",
        "outputId": "0a4441fa-497a-44b7-9db2-eaca51ca03d0"
      },
      "outputs": [
        {
          "name": "stdout",
          "output_type": "stream",
          "text": [
            "quack quack\n",
            "Hello !\n"
          ]
        }
      ],
      "source": [
        "d = Duck()\n",
        "p = Person()\n",
        "\n",
        "print(say(d))\n",
        "print(say(p))"
      ]
    },
    {
      "cell_type": "markdown",
      "metadata": {
        "id": "9Sp5V3n-REY-"
      },
      "source": [
        "- class내에서  인터페이스 제공"
      ]
    },
    {
      "cell_type": "code",
      "execution_count": null,
      "metadata": {
        "collapsed": true,
        "id": "57ma4aPoREY-"
      },
      "outputs": [],
      "source": [
        "class Duck :\n",
        "    def say(self) :\n",
        "        return \"quack quack\"\n",
        "\n",
        "class Person :\n",
        "    def say(self) :\n",
        "        return \"Hello !\""
      ]
    },
    {
      "cell_type": "code",
      "execution_count": null,
      "metadata": {
        "collapsed": true,
        "id": "GOqR9gbsREY-"
      },
      "outputs": [],
      "source": [
        "class Say :\n",
        "    @staticmethod\n",
        "    def say(obj) :\n",
        "        return obj.say()"
      ]
    },
    {
      "cell_type": "code",
      "execution_count": null,
      "metadata": {
        "id": "LuxUnqUDREY-",
        "outputId": "c4456a46-d601-41bf-9133-b9572861caf9"
      },
      "outputs": [
        {
          "name": "stdout",
          "output_type": "stream",
          "text": [
            "quack quack\n",
            "Hello !\n"
          ]
        }
      ],
      "source": [
        "d = Duck()\n",
        "p = Person()\n",
        "\n",
        "print(Say.say(d))\n",
        "print(Say.say(p))"
      ]
    },
    {
      "cell_type": "markdown",
      "source": [
        "## **8. 메타 클래스(Meta Class)**"
      ],
      "metadata": {
        "id": "tUgVxJhrJwHJ"
      }
    },
    {
      "cell_type": "markdown",
      "metadata": {
        "id": "VdnrC3O0REY-"
      },
      "source": [
        "- 메타클래스로 클래스 생성하기"
      ]
    },
    {
      "cell_type": "code",
      "execution_count": null,
      "metadata": {
        "collapsed": true,
        "id": "iBfSzUZwREY-"
      },
      "outputs": [],
      "source": [
        "import pprint\n",
        "\n",
        "namespace = { 'name' : \"메타클래스로 클래스 생성\"}\n",
        "bases = (object,)\n",
        "classname = \"Klass\"\n",
        "\n",
        "Klass = type(classname, bases, namespace)\n"
      ]
    },
    {
      "cell_type": "code",
      "execution_count": null,
      "metadata": {
        "id": "BWka43-5REY-",
        "outputId": "1d491cac-7b1f-4693-98f6-3db2c0edf3a4"
      },
      "outputs": [
        {
          "name": "stdout",
          "output_type": "stream",
          "text": [
            "<class 'type'>\n",
            "<class '__main__.Klass'>\n",
            "mappingproxy({'__dict__': <attribute '__dict__' of 'Klass' objects>,\n",
            "              '__doc__': None,\n",
            "              '__module__': '__main__',\n",
            "              '__weakref__': <attribute '__weakref__' of 'Klass' objects>,\n",
            "              'name': '메타클래스로 클래스 생성'})\n"
          ]
        }
      ],
      "source": [
        "print(type(Klass))\n",
        "print(Klass)\n",
        "pprint.pprint(Klass.__dict__)"
      ]
    },
    {
      "cell_type": "code",
      "execution_count": null,
      "metadata": {
        "id": "DFvfzbRFREY_",
        "outputId": "560d6e51-1145-4f56-8de0-3c3237071638"
      },
      "outputs": [
        {
          "name": "stdout",
          "output_type": "stream",
          "text": [
            "<class 'type'>\n",
            "<class '__main__.Klass'>\n",
            "mappingproxy({'__dict__': <attribute '__dict__' of 'Klass' objects>,\n",
            "              '__doc__': None,\n",
            "              '__module__': '__main__',\n",
            "              '__weakref__': <attribute '__weakref__' of 'Klass' objects>,\n",
            "              'name': ' 클래스 정의문으로 클래스 생성'})\n"
          ]
        }
      ],
      "source": [
        "class Klass :\n",
        "    name = \" 클래스 정의문으로 클래스 생성\"\n",
        "\n",
        "print(type(Klass))\n",
        "print(Klass)\n",
        "pprint.pprint(Klass.__dict__)"
      ]
    },
    {
      "cell_type": "markdown",
      "metadata": {
        "id": "dbbiSzWSREY_"
      },
      "source": [
        "- 사용자 메타클래스로 변경하기"
      ]
    },
    {
      "cell_type": "code",
      "execution_count": null,
      "metadata": {
        "collapsed": true,
        "id": "9bFQDek1REY_"
      },
      "outputs": [],
      "source": [
        "class MyMeta(type) :\n",
        "    pass\n",
        "\n",
        "class Klass(metaclass=MyMeta) :\n",
        "    pass\n"
      ]
    },
    {
      "cell_type": "code",
      "execution_count": null,
      "metadata": {
        "id": "-_AY9Kt2REY_",
        "outputId": "fe01ca60-3fde-49ad-ba3e-3da9b4e10c6e"
      },
      "outputs": [
        {
          "name": "stdout",
          "output_type": "stream",
          "text": [
            "<class '__main__.Klass'>\n",
            "<class '__main__.MyMeta'>\n"
          ]
        }
      ],
      "source": [
        "print(Klass)\n",
        "print(Klass.__class__)"
      ]
    },
    {
      "cell_type": "code",
      "execution_count": null,
      "metadata": {
        "collapsed": true,
        "id": "zvZkxz7WREY_"
      },
      "outputs": [],
      "source": [
        "class A :\n",
        "    def __init__(self) :\n",
        "        self.b = b()\n",
        "\n"
      ]
    },
    {
      "cell_type": "markdown",
      "metadata": {
        "id": "flaR6mk3REY_"
      },
      "source": [
        "- 구성관계 (composition)"
      ]
    },
    {
      "cell_type": "code",
      "execution_count": null,
      "metadata": {
        "collapsed": true,
        "id": "jmdXPG06REY_"
      },
      "outputs": [],
      "source": [
        "class Salary:\n",
        "    def __init__(self,pay):\n",
        "        self.pay=pay\n",
        "\n",
        "    def get_total(self):\n",
        "        return (self.pay*12)\n"
      ]
    },
    {
      "cell_type": "code",
      "execution_count": null,
      "metadata": {
        "collapsed": true,
        "id": "oPNOluwaREZA"
      },
      "outputs": [],
      "source": [
        "class Employee:\n",
        "    def __init__(self,pay,bonus):\n",
        "        self.pay=pay\n",
        "        self.bonus=bonus\n",
        "        self.obj_salary=Salary(self.pay)\n",
        "\n",
        "    def annual_salary(self):\n",
        "        return \"Total: \"  +  str(self.obj_salary.get_total()+self.bonus)"
      ]
    },
    {
      "cell_type": "code",
      "execution_count": null,
      "metadata": {
        "id": "_rgxPb9tREZA",
        "outputId": "8793a759-e8aa-44ea-c860-6ff2065c9feb"
      },
      "outputs": [
        {
          "name": "stdout",
          "output_type": "stream",
          "text": [
            "Total: 1210\n"
          ]
        }
      ],
      "source": [
        "obj_emp=Employee(100,10)\n",
        "print (obj_emp.annual_salary())"
      ]
    },
    {
      "cell_type": "markdown",
      "metadata": {
        "id": "eM_d5KrhREZA"
      },
      "source": [
        "- 집합 관계(Aggregation)"
      ]
    },
    {
      "cell_type": "code",
      "execution_count": null,
      "metadata": {
        "collapsed": true,
        "id": "TXAefaXtREZA"
      },
      "outputs": [],
      "source": [
        "class Salary:\n",
        "    def __init__(self,pay):\n",
        "        self.pay=pay\n",
        "\n",
        "    def get_total(self):\n",
        "        return (self.pay*12)\n"
      ]
    },
    {
      "cell_type": "code",
      "execution_count": null,
      "metadata": {
        "collapsed": true,
        "id": "HEsf0el7REZA"
      },
      "outputs": [],
      "source": [
        "class Employee:\n",
        "    def __init__(self,pay,bonus):\n",
        "        self.pay=pay\n",
        "        self.bonus=bonus\n",
        "\n",
        "    def annual_salary(self):\n",
        "        return \"Total: \"  +  str(self.pay.get_total()+self.bonus)"
      ]
    },
    {
      "cell_type": "code",
      "execution_count": null,
      "metadata": {
        "id": "-Wy48lNRREZA",
        "outputId": "131c3e8c-4f94-4f8c-d0e9-53080a0b7934"
      },
      "outputs": [
        {
          "name": "stdout",
          "output_type": "stream",
          "text": [
            "Total: 1210\n"
          ]
        }
      ],
      "source": [
        "obj_sal=Salary(100)\n",
        "obj_emp=Employee(obj_sal,10)\n",
        "print (obj_emp.annual_salary())"
      ]
    },
    {
      "cell_type": "code",
      "execution_count": null,
      "metadata": {
        "id": "IhsX7qoVREZA",
        "outputId": "af2e68fd-f96b-4df5-feff-6c90924c004a"
      },
      "outputs": [
        {
          "name": "stdout",
          "output_type": "stream",
          "text": [
            "<__main__.Salary object at 0x0000000004E8FB00>\n"
          ]
        }
      ],
      "source": [
        "del obj_emp\n",
        "print(obj_sal)"
      ]
    },
    {
      "cell_type": "markdown",
      "metadata": {
        "id": "F81QqGQ9REZB"
      },
      "source": [
        "- 위임 메소드를 사용하기"
      ]
    },
    {
      "cell_type": "code",
      "execution_count": null,
      "metadata": {
        "collapsed": true,
        "id": "PkVx_iwEREZB"
      },
      "outputs": [],
      "source": [
        "class Person :\n",
        "    def __init__(self,name,age) :\n",
        "        self.name = name\n",
        "        self.age  = age\n"
      ]
    },
    {
      "cell_type": "code",
      "execution_count": null,
      "metadata": {
        "collapsed": true,
        "id": "AXMaqXNlREZB"
      },
      "outputs": [],
      "source": [
        "class Student :\n",
        "    def __init__(self, name,age,college) :\n",
        "        self.person = Person(name,age)\n",
        "        self.college = college\n"
      ]
    },
    {
      "cell_type": "code",
      "execution_count": null,
      "metadata": {
        "id": "1IZpJSVZREZB",
        "outputId": "de64b1a9-bd4a-4e98-b9f1-c985b999e056"
      },
      "outputs": [
        {
          "name": "stdout",
          "output_type": "stream",
          "text": [
            "{'person': <__main__.Person object at 0x0000000004E8FA90>, 'college': '숭실대'}\n"
          ]
        }
      ],
      "source": [
        "s = Student(\"연관\",22,\"숭실대\")\n",
        "print(s.__dict__)"
      ]
    },
    {
      "cell_type": "code",
      "execution_count": null,
      "metadata": {
        "collapsed": true,
        "id": "XyF6HmtnREZB"
      },
      "outputs": [],
      "source": [
        "class Person :\n",
        "    def __init__(self,name,age) :\n",
        "        self.name = name\n",
        "        self.age  = age\n",
        "\n",
        "    def getname(self) :\n",
        "        return self.name\n",
        "    def getage(self) :\n",
        "        return self.age"
      ]
    },
    {
      "cell_type": "code",
      "execution_count": null,
      "metadata": {
        "id": "Zs0K3f4wREZB"
      },
      "outputs": [],
      "source": [
        "class Student :\n",
        "    def __init__(self, name,age,college) :\n",
        "        self.person = Person(name,age)\n",
        "        self.college = college\n",
        "\n",
        "    def getname(self) :\n",
        "        return self.person.getname()\n",
        "\n",
        "    def getage(self) :\n",
        "        return self.person.getage()"
      ]
    },
    {
      "cell_type": "code",
      "execution_count": null,
      "metadata": {
        "id": "JgSlpPxnREZB",
        "outputId": "1278c2db-638a-4fd0-8950-dcc7d317e30b"
      },
      "outputs": [
        {
          "name": "stdout",
          "output_type": "stream",
          "text": [
            "위임\n",
            "22\n"
          ]
        }
      ],
      "source": [
        "s = Student(\"위임\",22,\"숭실대\")\n",
        "print(s.getname())\n",
        "print(s.getage())"
      ]
    },
    {
      "cell_type": "code",
      "execution_count": null,
      "metadata": {
        "collapsed": true,
        "id": "p5K7GC61REZB"
      },
      "outputs": [],
      "source": []
    }
  ]
}