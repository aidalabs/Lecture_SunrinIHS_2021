{
  "nbformat": 4,
  "nbformat_minor": 0,
  "metadata": {
    "colab": {
      "provenance": []
    },
    "kernelspec": {
      "name": "python3",
      "display_name": "Python 3"
    },
    "language_info": {
      "name": "python"
    }
  },
  "cells": [
    {
      "cell_type": "code",
      "execution_count": null,
      "metadata": {
        "id": "0pMUvcwjLRRP"
      },
      "outputs": [],
      "source": []
    },
    {
      "cell_type": "code",
      "execution_count": null,
      "metadata": {
        "id": "mKsyL_Fvtszi"
      },
      "outputs": [],
      "source": [
        "int_data = 10\n",
        "bin_data = 0b10\n",
        "oct_data = 0o10\n",
        "hex_data = 0x10\n",
        "long_data = 1234567890123456789"
      ]
    },
    {
      "cell_type": "code",
      "source": [
        "print(int_data)\n",
        "print(bin_data)\n",
        "print(oct_data)\n",
        "print(hex_data)\n",
        "print(long_data)"
      ],
      "metadata": {
        "colab": {
          "base_uri": "https://localhost:8080/"
        },
        "id": "FiOf6aG6im4F",
        "outputId": "142701c7-8ead-40cd-9324-023a5de00c39"
      },
      "execution_count": null,
      "outputs": [
        {
          "output_type": "stream",
          "name": "stdout",
          "text": [
            "10\n",
            "2\n",
            "8\n",
            "16\n",
            "1234567890123456789\n"
          ]
        }
      ]
    },
    {
      "cell_type": "code",
      "source": [
        "print(type(int_data))\n",
        "print(type(bin_data))\n",
        "print(type(oct_data))\n",
        "print(type(hex_data))\n",
        "print(type(long_data))"
      ],
      "metadata": {
        "colab": {
          "base_uri": "https://localhost:8080/"
        },
        "id": "vr5D0XdVjXAx",
        "outputId": "7caa6051-f29d-4886-fa50-b2fe64a8e9f2"
      },
      "execution_count": null,
      "outputs": [
        {
          "output_type": "stream",
          "name": "stdout",
          "text": [
            "<class 'int'>\n",
            "<class 'int'>\n",
            "<class 'int'>\n",
            "<class 'int'>\n",
            "<class 'int'>\n"
          ]
        }
      ]
    },
    {
      "cell_type": "code",
      "source": [
        "f1 = 1.0\n",
        "f2 = 3.14\n",
        "f3 = 1.56e3\n",
        "f4 = -0.7e-4"
      ],
      "metadata": {
        "id": "2WbwY2tdipyk"
      },
      "execution_count": null,
      "outputs": []
    },
    {
      "cell_type": "code",
      "source": [
        "print(f1)\n",
        "print(f2)\n",
        "print(f3)\n",
        "print(f4)"
      ],
      "metadata": {
        "colab": {
          "base_uri": "https://localhost:8080/"
        },
        "id": "2l5wLYxrirKQ",
        "outputId": "489b8503-6056-4602-babd-05b8ee83ac3d"
      },
      "execution_count": null,
      "outputs": [
        {
          "output_type": "stream",
          "name": "stdout",
          "text": [
            "1.0\n",
            "3.14\n",
            "1560.0\n",
            "-7e-05\n"
          ]
        }
      ]
    },
    {
      "cell_type": "code",
      "source": [
        "print(type(f1))\n",
        "print(type(f2))\n",
        "print(type(f3))\n",
        "print(type(f4))"
      ],
      "metadata": {
        "colab": {
          "base_uri": "https://localhost:8080/"
        },
        "id": "u7pWzoXij7NR",
        "outputId": "b02cbb90-8c85-4c91-a39e-d853bdd22cfd"
      },
      "execution_count": null,
      "outputs": [
        {
          "output_type": "stream",
          "name": "stdout",
          "text": [
            "<class 'float'>\n",
            "<class 'float'>\n",
            "<class 'float'>\n",
            "<class 'float'>\n"
          ]
        }
      ]
    },
    {
      "cell_type": "code",
      "source": [
        "c1 = 1+7j\n",
        "print(c1.real); print(c1.imag)"
      ],
      "metadata": {
        "colab": {
          "base_uri": "https://localhost:8080/"
        },
        "id": "z9KtfsY9is-E",
        "outputId": "17a6f8fa-d7f6-45eb-b2d4-65513891c25c"
      },
      "execution_count": null,
      "outputs": [
        {
          "output_type": "stream",
          "name": "stdout",
          "text": [
            "1.0\n",
            "7.0\n"
          ]
        }
      ]
    },
    {
      "cell_type": "code",
      "source": [
        "c2 = complex(2, 3)\n",
        "print(c2)"
      ],
      "metadata": {
        "colab": {
          "base_uri": "https://localhost:8080/"
        },
        "id": "RVUuUwDAiuTt",
        "outputId": "94236687-f42d-471d-8adb-3204d2e0a75d"
      },
      "execution_count": null,
      "outputs": [
        {
          "output_type": "stream",
          "name": "stdout",
          "text": [
            "(2+3j)\n"
          ]
        }
      ]
    },
    {
      "cell_type": "code",
      "source": [
        "a = 1\n",
        "b = 2\n",
        "ret = a + b\n",
        "print('a와 b를 더한 값은 ', end='')\n",
        "print(ret, end='')\n",
        "print(' 입니다')"
      ],
      "metadata": {
        "colab": {
          "base_uri": "https://localhost:8080/"
        },
        "id": "S3T0hPFJiwyY",
        "outputId": "42777d72-8a06-4590-a727-45722286a836"
      },
      "execution_count": null,
      "outputs": [
        {
          "output_type": "stream",
          "name": "stdout",
          "text": [
            "a와 b를 더한 값은 3 입니다\n"
          ]
        }
      ]
    },
    {
      "cell_type": "code",
      "source": [
        "a = 2\n",
        "b = 4\n",
        "ret1 = a+b\n",
        "ret2 = a - b\n",
        "ret3 = a*b\n",
        "ret4 = a/b\n",
        "ret5 = a**b\n",
        "ret6 = a+a*b/a\n",
        "ret7 = (a+b)*(a-b)\n",
        "ret8 = a*b**a"
      ],
      "metadata": {
        "id": "7zUCcj6riz5Z"
      },
      "execution_count": null,
      "outputs": []
    },
    {
      "cell_type": "code",
      "source": [
        "a = True\n",
        "b = False\n",
        "\n",
        "print(a == 1)       # True가 출력됨\n",
        "print(b != 0)        # False가 출력됨"
      ],
      "metadata": {
        "colab": {
          "base_uri": "https://localhost:8080/"
        },
        "id": "3Aheijrei1-3",
        "outputId": "73e335c0-7631-41fd-fff3-1c3dc268fb1f"
      },
      "execution_count": null,
      "outputs": [
        {
          "output_type": "stream",
          "name": "stdout",
          "text": [
            "True\n",
            "False\n"
          ]
        }
      ]
    },
    {
      "cell_type": "code",
      "source": [
        "x = 1; y = 2\n",
        "str1 = 'abc'; str2 = 'python'\n",
        "\n",
        "print(x == y)  # False가 출력됨\n",
        "print(x != y)   # True가 출력됨\n",
        "print(str1 == str2)   # False가 출력됨\n",
        "print(str2 == 'python')   # True가 출력됨\n",
        "print(str1 < str2)        # True가 출력됨"
      ],
      "metadata": {
        "colab": {
          "base_uri": "https://localhost:8080/"
        },
        "id": "hkNCox51i3w5",
        "outputId": "15bed3d7-4797-418b-c0ff-b17e65f80b88"
      },
      "execution_count": null,
      "outputs": [
        {
          "output_type": "stream",
          "name": "stdout",
          "text": [
            "False\n",
            "True\n",
            "False\n",
            "True\n",
            "True\n"
          ]
        }
      ]
    },
    {
      "cell_type": "code",
      "source": [
        "bool1 = True; bool2 = False; bool3 = True; bool4 = False\n",
        "\n",
        "print(bool1 and bool2)    # False가 출력됨\n",
        "print(bool1 and bool3)    # True가 출력됨\n",
        "print(bool2 or bool3)     # True가 출력됨\n",
        "print(bool2 or bool4)     # False가 출력됨\n",
        "print(not bool1)          # False가 출력됨\n",
        "print(not bool2)          # True가 출력됨"
      ],
      "metadata": {
        "colab": {
          "base_uri": "https://localhost:8080/"
        },
        "id": "1lasGFtAi8Fq",
        "outputId": "c2e4d798-ee15-4844-fe09-d86f63003c52"
      },
      "execution_count": null,
      "outputs": [
        {
          "output_type": "stream",
          "name": "stdout",
          "text": [
            "False\n",
            "True\n",
            "True\n",
            "False\n",
            "False\n",
            "True\n"
          ]
        }
      ]
    },
    {
      "cell_type": "code",
      "source": [
        "bit1 = 0x61\n",
        "bit2 = 0x62\n",
        "\n",
        "print(hex(bit1 & bit2))    # 0x60이 출력됨\n",
        "print(hex(bit1 | bit2))     # 0x63이 출력됨\n",
        "print(hex(bit1 ^ bit2))     # 0x3 이 출력됨\n",
        "print(hex(bit1 >> 1))      # 0x30이 출력됨\n",
        "print(hex(bit1 << 2))      # 0x184가 출력됨"
      ],
      "metadata": {
        "colab": {
          "base_uri": "https://localhost:8080/"
        },
        "id": "rW9RXjhNi-ed",
        "outputId": "c8db6069-dc19-433a-bfbe-362d7474e220"
      },
      "execution_count": null,
      "outputs": [
        {
          "output_type": "stream",
          "name": "stdout",
          "text": [
            "0x60\n",
            "0x63\n",
            "0x3\n",
            "0x30\n",
            "0x184\n"
          ]
        }
      ]
    }
  ]
}