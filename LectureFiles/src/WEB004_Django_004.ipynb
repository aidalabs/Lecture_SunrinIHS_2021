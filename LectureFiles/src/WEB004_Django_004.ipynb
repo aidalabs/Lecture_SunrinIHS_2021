{
  "nbformat": 4,
  "nbformat_minor": 0,
  "metadata": {
    "colab": {
      "provenance": []
    },
    "kernelspec": {
      "name": "python3",
      "display_name": "Python 3"
    },
    "language_info": {
      "name": "python"
    }
  },
  "cells": [
    {
      "cell_type": "code",
      "execution_count": null,
      "metadata": {
        "id": "oUHsglBPSW8k"
      },
      "outputs": [],
      "source": []
    },
    {
      "cell_type": "markdown",
      "source": [
        "# **Django REST Framework 컨셉 익히기**"
      ],
      "metadata": {
        "id": "JltJ3ygRUnR0"
      }
    },
    {
      "cell_type": "markdown",
      "source": [
        "## **1. Django REST Framework**"
      ],
      "metadata": {
        "id": "JAv1B3x9UzC7"
      }
    },
    {
      "cell_type": "markdown",
      "source": [
        "### 1.1 REST(Representational State Transfer)"
      ],
      "metadata": {
        "id": "_oIV_VWJVVFT"
      }
    },
    {
      "cell_type": "markdown",
      "source": [
        "- REST API 탄생 배경\n",
        "    - 2000년도에 HTTP의 주요 저자 중 한 사람인 로이 필딩이 그 당시 웹 설계의 우수성에 비해 제대로 사용되지 못하는 모습에 안타까워하며 웹의 장점을 최대한 활용할 수 있는 Architecture로써 REST를 발표"
      ],
      "metadata": {
        "id": "OsBszaWlLtO7"
      }
    },
    {
      "cell_type": "markdown",
      "source": [
        "- REST API 등장의 필요성\n",
        "    - 최근의 서비스 / 애플리케이션의 개발 흐름은 멀티 플랫폼, 멀티 디바이스 시대로 넘어옴\n",
        "    - 단순히 하나의 브라우저만 지원하면 되었던 이전과는 달리, 최근의 서버 프로그램은 여러 웹 브라우저는 물론, 아이폰, 안드로이드 애플리케이션 등 모바일 디바이스와의 통신에도 대응할 수 있어야 함\n",
        "    - 따라서 플랫폼에 맞추어 새로운 서버를 만드는 수고를 들이지 않기 위해 범용적으로 사용성을 보장하는 서버 디자인이 필요해짐"
      ],
      "metadata": {
        "id": "OsGScvE7MN22"
      }
    },
    {
      "cell_type": "markdown",
      "source": [
        "- RESTful API를 만드는 이유\n",
        "    - RESTful APIs 개발하는 가장 큰 이유는 Client Side를 정형화된 플랫폼이 아닌 모바일, PC, 어플리케이션 등 플랫폼에 제약을 두지 않는 것을 목표로 했기 때문\n",
        "    - 2010년 이전만 해도 Server Side에서 데이터를 전달해주는 Client 프로그램의 대상은 PC 브라우저로 그 대상이 명확했음. 그래서 그냥 JSP ASP PHP 등을 이용한 웹페이지를 구성하고 작업을 진행하면 충분했음\n",
        "    - 그러나 스마트 기기들이 등장하면서 TV, 스마트 폰, 테블릿 등 Client 프로그램이 다양화 되고 그에 맞춰 Server를 일일이 만다는 것이 꽤 비효율적인 일이 되어 버렸음\n",
        "    - 이런 과정에서 개발자들은 Client Side를 전혀 고려하지 않고 메시지 기반, XML, JSON과 같은 Client에서 바로 객체로 치환 가능한 형태의 데이터 통신을 지향하게 되면서 Server와 Client의 역할을 분리하게 됨\n",
        "    - 그리고 이런 변화를 겪으면서 필요해진 것이 HTTP 표준 규약을 지키면서 API를 만드는 것임"
      ],
      "metadata": {
        "id": "eBdN5fuiMvAn"
      }
    },
    {
      "cell_type": "markdown",
      "source": [
        "- REST란?\n",
        "    - 웹 서비스 간의 데이터 교환을 위한 아키텍처의 하나\n",
        "    - 자원을 이름(자원의 표현)으로 구분하여 해당 자원의 상태 (정보)를 주고 받는 모든 것을 의미함\n",
        "    - 자원(Resource)을 중심으로 설계됨\n",
        "    - HTTP 프로토콜을 기반으로 하며, 클라이언트와 서버 간의 상호 작용을 단순하고 효율적으로 만듦\n",
        "    - REST는 기본적으로 웹의 기존 기술과 HTTP 프로토콜을 그대로 활용하기 때문에 웹의 장점을 최대한 활용할 수 있는 아키텍처 스타일\n"
      ],
      "metadata": {
        "id": "-3-ptODOmjTW"
      }
    },
    {
      "cell_type": "markdown",
      "source": [
        "- RESTful WEB Service Architecture\n",
        "<img src=\"https://velog.velcdn.com/images%2Fsomday%2Fpost%2Fbce4a64a-c097-4e1d-8a4e-974df7d11634%2F%EC%8A%A4%ED%81%AC%EB%A6%B0%EC%83%B7%202021-03-13%20%EC%98%A4%EC%A0%84%2012.25.04.png\">\n",
        "\n",
        "    - 이미지 출처 및 참고: https://meetup.nhncloud.com/posts/92"
      ],
      "metadata": {
        "id": "5VqyQixrL69a"
      }
    },
    {
      "cell_type": "markdown",
      "source": [
        "- REST의 구체적인 개념\n",
        "    - HTTP URI를 통해 자원을 명시하고, HTTP Method (POST, GET, PUT, DELETE)를 통해 해당 자원에 대한 CRUD OPERATION을 적용하는 것\n",
        "    - 즉, REST는 자원 기반의 구조 (ROA: Resource Oriented Architecture) 설계의 중심에 Resoure가 있고 HTTP Method를 통해 Resource를 처리하도록 설계된 아키텍쳐를 의미\n",
        "    - 웹의 모든 자원에 고유한 ID인 HTTP URI를 부여"
      ],
      "metadata": {
        "id": "j6xBm8ZjLXuU"
      }
    },
    {
      "cell_type": "markdown",
      "source": [
        "- REST의 주요 구성요소\n",
        "    - 자원(Resource)\n",
        "        - 자원은 URI(Uniform Resource Identifier)를 통해 고유하게 식별됨\n",
        "            - 예: `/api/users`는 사용자 자원을 나타냄\n",
        "        - 자원은 다양한 형태로 표현될 수 있음\n",
        "            - 주로 JSON, XML, HTML 등이 사용됨\n",
        "<br><br>\n",
        "    - 표현(Representation)\n",
        "        - 자원의 상태를 표현하는 방법으로 클라이언트와 서버 간에 주고받는 데이터 형식을 의미함\n",
        "            - 예: JSON 형식으로 사용자 정보를 표현할 수 있음\n",
        "<br><br>\n",
        "    - 메서드(Method)\n",
        "        - HTTP 메서드를 통해 자원에 대한 다양한 동작을 수행함\n",
        "        - 주요 메서드\n",
        "            - GET: 자원 조회\n",
        "            - POST: 새로운 자원 생성\n",
        "            - PUT: 자원의 전체 수정\n",
        "            - PATCH: 자원의 일부 수정\n",
        "            - DELETE: 자원 삭제\n",
        "<br><br>\n",
        "    - 상태 전이(State Transfer)\n",
        "        - 클라이언트와 서버 간의 통신에서 상태 전이를 통해 자원을 조작함\n",
        "        - 각 요청은 독립적으로 처리됨\n",
        "        - 서버는 요청 간의 상태를 저장하지 않음\n",
        "<br><br>\n",
        "    - REST의 구성요소는 자원, 표현, 행위(메서드)이며 그 표현 대상은 상태의 전이임\n",
        "    - REST에서 하나의 자원은 JSON, XML, TEXT, RSS 등 여러 형태의 Representation으로 나타낼 수 있으며, 현재는 JSON으로 주고 받는 것이 대부분임"
      ],
      "metadata": {
        "id": "6sQheOsqXrta"
      }
    },
    {
      "cell_type": "markdown",
      "source": [
        "- REST의 설계 원칙\n",
        "    - 클라이언트-서버 구조\n",
        "        - 클라이언트와 서버를 명확히 분리하여 독립적인 개발 및 확장이 가능하게 함\n",
        "    - 무상태(Stateless)\n",
        "        - 각 요청은 독립적으로 처리되어야 하며, 서버는 요청 간의 상태를 저장하지 않음\n",
        "        - 필요한 모든 상태 정보는 요청에 포함되어야 함\n",
        "    - 캐시 가능(Cacheable)\n",
        "        - 응답이 캐시 가능한 경우 이를 명시적으로 알려줌으로써 클라이언트가 효율적으로 캐시할 수 있도록 함\n",
        "    - 계층화 시스템(Layered System)\n",
        "        - 시스템은 계층화되어야 하며, 각 계층은 다른 계층의 동작을 간섭하지 않음\n",
        "    - 통일된 인터페이스(Uniform Interface)\n",
        "        - HTTP 표준을 따르는 통일된 인터페이스를 사용하여 자원을 조작함\n"
      ],
      "metadata": {
        "id": "RbzIDVL6Y4Al"
      }
    },
    {
      "cell_type": "markdown",
      "source": [
        "- REST API(RESTful API) URI 설계\n",
        "    - 자원은 복수형을 사용함\n",
        "        - 예: `/api/users`\n",
        "    - 명확하고 일관된 구조를 사용함\n",
        "        - 예: `/api/users/{userId}/orders/{orderId}`\n",
        "    - 행위는 URI가 아닌 메서드로 표현함\n",
        "        - 예: `POST /api/users/{userId}/activation`\n",
        "    - URI는 소문자를 사용함\n",
        "        - 예: `/api/users`"
      ],
      "metadata": {
        "id": "OxqnfAsPZtHz"
      }
    },
    {
      "cell_type": "markdown",
      "source": [
        "### 1.2 Django REST Framework"
      ],
      "metadata": {
        "id": "m3wiHNTKaSwl"
      }
    },
    {
      "cell_type": "markdown",
      "source": [
        "- Django REST Framework(DRF)란?\n",
        "    - Django를 기반으로 RESTful API 서버를 만들기 위한 라이브러리\n",
        "    - RESTful API는 웹뿐만 아니라 앱과 같은 다양한 플랫폼의 백엔드 서비스를 위해 JSON과 같은 규격화된 데이터를 제공함\n",
        "    - `pip install djangorestframework` 명령으로 설치할 수 있음"
      ],
      "metadata": {
        "id": "t32XcY0Vaii5"
      }
    },
    {
      "cell_type": "markdown",
      "source": [
        "- 주요 기능\n",
        "\n",
        "    - 직렬화(Serialization)\n",
        "        - 모델 인스턴스를 JSON, XML 등 다양한 형식으로 변환할 수 있음\n",
        "        - `serializers.py` 파일을 통해 직렬화 로직을 정의함\n",
        "        ```python\n",
        "        from rest_framework import serializers\n",
        "        from .models import Post\n",
        "\n",
        "        class PostSerializer(serializers.ModelSerializer):\n",
        "            class Meta:\n",
        "                model = Post\n",
        "                fields = '__all__'\n",
        "        ```\n",
        "<br><br>\n",
        "    - 뷰(Views)\n",
        "        - DRF는 다양한 뷰 클래스를 제공하여 API 엔드포인트를 쉽게 정의할 수 있음\n",
        "        - `APIView`, `GenericAPIView`, `ViewSet` 등을 사용하여 다양한 요구사항을 충족할 수 있음\n",
        "        ```python\n",
        "        from rest_framework import generics\n",
        "        from .models import Post\n",
        "        from .serializers import PostSerializer\n",
        "\n",
        "        class PostListCreate(generics.ListCreateAPIView):\n",
        "            queryset = Post.objects.all()\n",
        "            serializer_class = PostSerializer\n",
        "        ```\n",
        "<br><br>\n",
        "    - 라우팅(Routing)\n",
        "        - Django의 URL 라우팅 시스템을 확장하여 API 엔드포인트를 쉽게 정의할 수 있음\n",
        "            - 라우팅 시스템\n",
        "                - 네트워크에서 데이터 패킷이 목적지까지 가장 효율적으로 전달될 수 있도록 경로를 선택하는 프로세스\n",
        "                - 네트워크의 여러 노드(컴퓨터, 라우터 등) 간의 통신을 가능하게 하며, 인터넷과 같은 대규모 네트워크에서 특히 중요함\n",
        "        - `urls.py` 파일에서 라우터를 설정함\n",
        "        ```python\n",
        "        from django.urls import path, include\n",
        "        from rest_framework.routers import DefaultRouter\n",
        "        from .views import PostViewSet\n",
        "\n",
        "        router = DefaultRouter()\n",
        "        router.register(r'posts', PostViewSet)\n",
        "\n",
        "        urlpatterns = [\n",
        "            path('', include(router.urls)),\n",
        "        ]\n",
        "        ```\n",
        "<br><br>\n",
        "    - 인증 및 권한(Authentication and Permissions)\n",
        "        - 다양한 인증 방법(JWT, OAuth 등)을 지원하며, 사용자 권한을 세밀하게 설정할 수 있음\n",
        "        - `permissions.py` 파일에서 권한 로직을 정의함\n",
        "        ```python\n",
        "        from rest_framework import permissions\n",
        "\n",
        "        class IsOwnerOrReadOnly(permissions.BasePermission):\n",
        "            def has_object_permission(self, request, view, obj):\n",
        "                if request.method in permissions.SAFE_METHODS:\n",
        "                    return True\n",
        "                return obj.owner == request.user\n",
        "        ```\n",
        "<br><br>\n",
        "    - 필터링 및 페이지네이션(Filter and Pagination)\n",
        "        - 쿼리셋을 필터링하고, 페이지네이션을 통해 데이터를 효율적으로 관리할 수 있음\n",
        "        - `views.py` 파일에서 필터 및 페이지네이션 설정을 추가함\n",
        "        ```python\n",
        "        from rest_framework import generics, filters\n",
        "        from .models import Post\n",
        "        from .serializers import PostSerializer\n",
        "\n",
        "        class PostList(generics.ListAPIView):\n",
        "            queryset = Post.objects.all()\n",
        "            serializer_class = PostSerializer\n",
        "            filter_backends = [filters.SearchFilter]\n",
        "            search_fields = ['title', 'content']\n",
        "        ```"
      ],
      "metadata": {
        "id": "rEo6erh_cM4k"
      }
    },
    {
      "cell_type": "markdown",
      "source": [
        "## **2. Django REST Framework 예제 프로젝트**"
      ],
      "metadata": {
        "id": "0dBpr9fSfn95"
      }
    },
    {
      "cell_type": "markdown",
      "source": [
        "### 2.1 프로젝트 생성"
      ],
      "metadata": {
        "id": "r_p-h0JAVegr"
      }
    },
    {
      "cell_type": "markdown",
      "source": [
        "- 가상환경 설정"
      ],
      "metadata": {
        "id": "uGmN6rldm2Ad"
      }
    },
    {
      "cell_type": "code",
      "source": [
        "python -m venv drf"
      ],
      "metadata": {
        "id": "lqqBzMGumfod"
      },
      "execution_count": null,
      "outputs": []
    },
    {
      "cell_type": "code",
      "source": [
        "cd drf"
      ],
      "metadata": {
        "id": "ep8JB_Simwcu"
      },
      "execution_count": null,
      "outputs": []
    },
    {
      "cell_type": "code",
      "source": [
        "source ./bin/activate\n",
        "# Windows의 경우: ./Scripts/activate"
      ],
      "metadata": {
        "id": "7HslyBRhm1OX"
      },
      "execution_count": null,
      "outputs": []
    },
    {
      "cell_type": "markdown",
      "source": [
        "- Django 설치 및 확인"
      ],
      "metadata": {
        "id": "nUP3vNpsnG3C"
      }
    },
    {
      "cell_type": "code",
      "source": [
        "pip install django djangorestframework"
      ],
      "metadata": {
        "id": "Nz2KaX_Ixqg9"
      },
      "execution_count": null,
      "outputs": []
    },
    {
      "cell_type": "code",
      "source": [],
      "metadata": {
        "id": "-li2pDx2gJVe"
      },
      "execution_count": null,
      "outputs": []
    },
    {
      "cell_type": "markdown",
      "source": [
        "- Project 시작"
      ],
      "metadata": {
        "id": "r2t1Lw-2pRfX"
      }
    },
    {
      "cell_type": "code",
      "source": [
        "django-admin startproject drfweb ."
      ],
      "metadata": {
        "id": "gbc7Yi5_pKXH"
      },
      "execution_count": null,
      "outputs": []
    },
    {
      "cell_type": "markdown",
      "source": [
        "- 앱 추가"
      ],
      "metadata": {
        "id": "xDSdYIxCpkTG"
      }
    },
    {
      "cell_type": "code",
      "source": [
        "python manage.py startapp drf"
      ],
      "metadata": {
        "id": "A941Y9UIpmch"
      },
      "execution_count": null,
      "outputs": []
    },
    {
      "cell_type": "code",
      "source": [
        "python manage.py migrate"
      ],
      "metadata": {
        "id": "M1DXoW3InQF-"
      },
      "execution_count": null,
      "outputs": []
    },
    {
      "cell_type": "markdown",
      "source": [
        "- 웹서버 실행"
      ],
      "metadata": {
        "id": "16DcdtcOp3oV"
      }
    },
    {
      "cell_type": "code",
      "source": [
        "python manage.py runserver"
      ],
      "metadata": {
        "id": "Ib_LxnBEp5-p"
      },
      "execution_count": null,
      "outputs": []
    },
    {
      "cell_type": "markdown",
      "source": [
        "- 웹 브라우저에서 웹서버 시작 확인\n",
        "    - https://127.0.0.1:8000"
      ],
      "metadata": {
        "id": "p-sZ7T5TqHM3"
      }
    },
    {
      "cell_type": "markdown",
      "source": [
        "- 웹서버 설정 수정"
      ],
      "metadata": {
        "id": "zSTAn2_wv_Aa"
      }
    },
    {
      "cell_type": "code",
      "source": [
        "# ./restweb/settings.py\n",
        "\n",
        "INSTALLED_APPS = [\n",
        "    'django.contrib.admin',\n",
        "    'django.contrib.auth',\n",
        "    'django.contrib.contenttypes',\n",
        "    'django.contrib.sessions',\n",
        "    'django.contrib.messages',\n",
        "    'django.contrib.staticfiles',\n",
        "    'rest_framework',   # 추가할 것\n",
        "    'drf',          # 추가할 것\n",
        "]\n",
        "\n",
        "TIME_ZONE = 'Asia/Seoul'    # 시간대를 한국으로 바꿀 것"
      ],
      "metadata": {
        "id": "PlOwQXyBv-A9"
      },
      "execution_count": null,
      "outputs": []
    },
    {
      "cell_type": "markdown",
      "source": [
        "### 2.2 Django REST Framework 프로젝트 구조"
      ],
      "metadata": {
        "id": "gxozZzvSiBEd"
      }
    },
    {
      "cell_type": "markdown",
      "source": [
        "- HelloAPI 만들기"
      ],
      "metadata": {
        "id": "KsQfiCbRUHBN"
      }
    },
    {
      "cell_type": "code",
      "source": [
        "# ./drf/views.py\n",
        "\n",
        "from rest_framework.response import Response\n",
        "from rest_framework.decorators import api_view\n",
        "\n",
        "# Create your views here.\n",
        "@api_view(['GET'])\n",
        "def helloAPI(request):\n",
        "    return Response(\"hello world!\")"
      ],
      "metadata": {
        "id": "FuHRRklDiOCT"
      },
      "execution_count": null,
      "outputs": []
    },
    {
      "cell_type": "markdown",
      "source": [
        "- URL"
      ],
      "metadata": {
        "id": "b_gCQRB_if14"
      }
    },
    {
      "cell_type": "code",
      "source": [
        "# ./drfweb/urls.py\n",
        "\n",
        "from django.contrib import admin\n",
        "from django.urls import path, include\n",
        "\n",
        "urlpatterns = [\n",
        "    path('admin/', admin.site.urls),\n",
        "    path(\"drf/\", include(\"drf.urls\"))\n",
        "]"
      ],
      "metadata": {
        "id": "ZPt02D29blJs"
      },
      "execution_count": null,
      "outputs": []
    },
    {
      "cell_type": "code",
      "source": [
        "# ./drf/urls.py\n",
        "\n",
        "from django.urls import path\n",
        "from .views import helloAPI\n",
        "\n",
        "urlpatterns = [\n",
        "    path(\"hello/\", helloAPI),\n",
        "]"
      ],
      "metadata": {
        "id": "z68cnCLBo2Ba"
      },
      "execution_count": null,
      "outputs": []
    },
    {
      "cell_type": "markdown",
      "source": [
        "- REST API 확인\n",
        "    - http://127.0.0.1:8000/drf/hello/"
      ],
      "metadata": {
        "id": "bb8GVurGZ0_M"
      }
    },
    {
      "cell_type": "markdown",
      "source": [
        "- Django vs DRF\n",
        "\n",
        "|특징|Pure Django|Django REST Framework|\n",
        "|------|---|---|\n",
        "|개발 목적|웹 풀스택 개발|백엔드 API 서버 개발|\n",
        "|개발 결과|웹 페이지를 포함한 웹 서비스|여러 클라이언트에서 사용할 수 있는 API 서버|\n",
        "|응답 형태|HTML|JSON|\n",
        "|다른 파일|templates|Serializers.py|"
      ],
      "metadata": {
        "id": "rZDY9ngqqW3u"
      }
    },
    {
      "cell_type": "markdown",
      "source": [
        "### 2.3 도서 정보 API"
      ],
      "metadata": {
        "id": "JnAZeiK1VorH"
      }
    },
    {
      "cell_type": "markdown",
      "source": [
        "#### 2.3.1 Model"
      ],
      "metadata": {
        "id": "10hm92w1NoG4"
      }
    },
    {
      "cell_type": "code",
      "source": [
        "# ./drf/models.py\n",
        "\n",
        "from django.db import models\n",
        "\n",
        "class Book(models.Model):\n",
        "    bid = models.IntegerField(primary_key=True)\n",
        "    title = models.CharField(max_length=50)\n",
        "    author = models.CharField(max_length=50)\n",
        "    category = models.CharField(max_length=50)\n",
        "    pages = models.IntegerField()\n",
        "    price = models.IntegerField()\n",
        "    published_date = models.DateField()\n",
        "    description = models.TextField()"
      ],
      "metadata": {
        "id": "Gzp1zaYwaaLD"
      },
      "execution_count": null,
      "outputs": []
    },
    {
      "cell_type": "markdown",
      "source": [
        "- Model 적용시키기"
      ],
      "metadata": {
        "id": "4bwjO5kWNuwv"
      }
    },
    {
      "cell_type": "code",
      "source": [
        "python manage.py makemigrations"
      ],
      "metadata": {
        "id": "EmBr9tJKWdVB"
      },
      "execution_count": null,
      "outputs": []
    },
    {
      "cell_type": "code",
      "source": [
        "python manage.py migrate"
      ],
      "metadata": {
        "id": "zlRMVBMUYIoc"
      },
      "execution_count": null,
      "outputs": []
    },
    {
      "cell_type": "markdown",
      "source": [
        "#### 2.3.2 Serializer(직렬화)"
      ],
      "metadata": {
        "id": "PnG85Cots0Cc"
      }
    },
    {
      "cell_type": "markdown",
      "source": [
        "- 직렬화(Serialization)란?\n",
        "    - 객체를 데이터 스트림으로 변환하는 과정을 의미함\n",
        "    - 이 과정을 통해 객체는 파일에 저장되거나 네트워크를 통해 전송될 수 있음\n",
        "    - 직렬화는 주로 객체의 상태를 영속적으로 저장하거나 다른 시스템 간에 객체를 전송할 때 사용됨\n",
        "    - Django의 경우 ORM 방식을 이용하여 파이썬이 사용하는 형태로 데이터를 저장하지만 클라이언트는 이를 이해하지 못하므로 클라이언트가 읽을 수 있는 JSON 등의 형태로 바꿔주는 기능이라고 볼 수 있음\n",
        "<br><br>\n",
        "- 직렬화의 주요 개념\n",
        "    - 객체의 변환\n",
        "        - 직렬화는 객체를 바이트 스트림으로 변환하여 파일에 저장하거나 네트워크를 통해 전송할 수 있게 함\n",
        "        - 이를 통해 객체의 상태를 유지하면서 다른 환경에서도 동일한 객체를 사용할 수 있음\n",
        "    - 역직렬화(Deserialization)\n",
        "        - 직렬화된 데이터를 다시 객체로 변환하는 과정\n",
        "        - 이를 통해 저장된 객체를 다시 메모리에 올릴 수 있음\n",
        "        - 클라이언트가 보낸 데이터는 파이썬에서 바로 저장하거나 활용할 수 없으므로 다시 파이썬에서 사용하는 형태로 바꿔주는 기능이라고 할 수 있음\n",
        "<br><br>\n",
        "- 직렬화의 사용 예시\n",
        "    - 객체의 영속화\n",
        "        - 프로그램이 종료되더라도 객체의 상태를 유지하기 위해 파일에 저장할 수 있음\n",
        "        - 예: 사용자 설정 정보를 직렬화하여 저장하면 프로그램 재실행 시에도 동일한 설정을 사용할 수 있음\n",
        "    - 네트워크 통신\n",
        "        - 직렬화된 객체를 네트워크를 통해 다른 시스템으로 전송할 수 있으며 이는 분산 시스템에서 중요한 역할을 함\n",
        "        - 예: 클라이언트-서버 통신에서 객체를 직렬화하여 전송하고, 수신 측에서 역직렬화하여 객체를 복원할 수 있음\n"
      ],
      "metadata": {
        "id": "EFWtLQQV4GgU"
      }
    },
    {
      "cell_type": "code",
      "source": [
        "# ./drf/serializers.py\n",
        "\n",
        "from rest_framework import serializers\n",
        "from .models import Book\n",
        "\n",
        "class BookSerializer(serializers.ModelSerializer):\n",
        "    class Meta:\n",
        "        model = Book\n",
        "        fields = ['bid', 'title', 'author', 'category', 'pages', 'price', 'published_date', 'description',]"
      ],
      "metadata": {
        "id": "rCfCDdeMs2ag"
      },
      "execution_count": null,
      "outputs": []
    },
    {
      "cell_type": "markdown",
      "source": [
        "- 일반적인 경우의 Serializer는\n",
        "    - 파이썬 모델 데이터를 JSON으로 바꿔주는 변환기 이므로 모델 데이터의 어떤 속성을 JSON으로 넣어줄지 선언해야 함\n",
        "    - 따라서 Serializer에도 필드를 선언해야 하므로 다음과 같이 복잡해지기 쉬움\n",
        "    - 그래서 serializers.ModelSerializer를 사용하여 사용할 모델만을 기반으로 정의하는 방법을 사용하였음"
      ],
      "metadata": {
        "id": "Fd5PQ4l7S_0f"
      }
    },
    {
      "cell_type": "code",
      "source": [
        "# 일반적인 경우 Serializer는 다음과 같이 복잡해짐\n",
        "\n",
        "class BookSerializer(serializers.Serializer):\n",
        "    bid = serializers.IntegerField()\n",
        "    title = serializers.CharField(max_length=50)\n",
        "    author = serializers.CharField(max_length=50)\n",
        "    category = serializers.CharField(max_length=50)\n",
        "    pages = serializers.IntegerField()\n",
        "    price = serializers.IntegerField()\n",
        "    published_date = serializers.DateField()\n",
        "    description = serializers.TextField()\n",
        "\n",
        "    def create(self, validated_data):\n",
        "        return Book.objects.create(**validated_data)\n",
        "\n",
        "    def update(self, instance, validated_data):\n",
        "        instance.bid = validated_data.get('bid', instance.bid)\n",
        "        instance.title = validated_data.get('title', instance.title)\n",
        "        instance.author = validated_data.get('author', instance.author)\n",
        "        instance.category = validated_data.get('category', instance.category)\n",
        "        instance.pages = validated_data.get('pages', instance.pages)\n",
        "        instance.price = validated_data.get('price', instance.price)\n",
        "        instance.published_date = validated_data.get('published_date', instance.published_date)\n",
        "        instance.description = validated_data.get('description', instance.description)\n",
        "        instance.save()\n",
        "\n",
        "        return instance"
      ],
      "metadata": {
        "id": "2GQb50kUS174"
      },
      "execution_count": null,
      "outputs": []
    },
    {
      "cell_type": "markdown",
      "source": [
        "#### 2.3.3 DRF FBV, CBV, APIView"
      ],
      "metadata": {
        "id": "2KLASWgIt6tS"
      }
    },
    {
      "cell_type": "markdown",
      "source": [
        "- FBV(Function Based View, 함수 기반 뷰), CBV(Class Based View, 클래스 기반 뷰)\n",
        "    - 뷰를 작성할 때 함수를 사용했는지, 클래스를 사용했는지의 차이\n",
        "\n",
        "- APIView\n",
        "    - 여러 가지 유형의 요청에 대하여 FBV, CBV가 제대로 동작할 수 있도록 도와주는 역할\n",
        "    - FBV에서 뷰를 만들 때\n",
        "        - @api_view와 같이 데코레이터 형태로 생성\n",
        "    - CBV에서 뷰를 만들 때\n",
        "        - APIView를 상속받는 클래스의 형태로 생성"
      ],
      "metadata": {
        "id": "Q13ivqisuFbh"
      }
    },
    {
      "cell_type": "code",
      "source": [
        "# ./drf/views.py\n",
        "\n",
        "from rest_framework.response import Response\n",
        "from rest_framework.views import APIView\n",
        "from rest_framework.decorators import api_view\n",
        "\n",
        "@api_view(['GET'])\n",
        "def helloAPI(request):\n",
        "    return Response(\"hello world!\")\n",
        "\n",
        "class HelloAPI(APIView):\n",
        "    def get(self, request, format=None):\n",
        "        return Response(\"hello world\")"
      ],
      "metadata": {
        "id": "4MUvcA4ouB18"
      },
      "execution_count": null,
      "outputs": []
    },
    {
      "cell_type": "markdown",
      "source": [
        "- 데코레이터(Decorator)\n",
        "    - 개념\n",
        "        - 프로그래밍에서 데코레이터는 함수나 메소드의 동작을 수정하거나 확장하는 데 사용되는 특별한 함수를 의미함\n",
        "        - 데코레이터는 다른 함수를 인자로 받아, 그 함수에 새로운 기능을 추가한 후, 수정된 함수를 반환하며, 이를 통해 코드의 재사용성을 높이고, 공통적인 패턴을 캡슐화하여 다양한 함수나 메소드에 적용할 수 있음\n",
        "        - 데코레이터는 특히 로깅, 권한 검사, 성능 측정 등 다양한 상황에서 유용하게 사용될 수 있음\n",
        "<br><br>\n",
        "    - 데코레이터의 주요 역할\n",
        "        - 코드 재사용성 향상: 공통 기능을 데코레이터로 정의하여 여러 함수에 쉽게 적용할 수 있음\n",
        "        - 코드 가독성 향상: 함수의 핵심 로직과 부가 기능을 분리하여 코드가 더 깔끔하고 이해하기 쉬워짐\n",
        "        - 유지보수 용이성: 공통 기능을 한 곳에서 관리할 수 있어, 수정이 필요할 때 여러 곳을 수정할 필요가 없음\n",
        "<br><br>\n",
        "    - 데코레이터의 예시\n",
        "        ```python\n",
        "        def my_decorator(func):\n",
        "            def wrapper():\n",
        "                print(\"함수 호출 전\")\n",
        "                func()\n",
        "                print(\"함수 호출 후\")\n",
        "            return wrapper\n",
        "\n",
        "        @my_decorator\n",
        "        def say_hello():\n",
        "            print(\"안녕하세요!\")\n",
        "\n",
        "        say_hello()\n",
        "        ```\n",
        "        - 위 코드에서 `my_decorator`는 `say_hello` 함수에 적용되어, `say_hello` 함수 호출 전후에 메시지를 출력하는 기능을 추가함\n"
      ],
      "metadata": {
        "id": "5qX4KOPJOXL8"
      }
    },
    {
      "cell_type": "markdown",
      "source": [
        "#### 2.3.4 Book API 만들기"
      ],
      "metadata": {
        "id": "FaKgkBH-wFMq"
      }
    },
    {
      "cell_type": "code",
      "source": [
        "# ./drf/views.py\n",
        "\n",
        "from rest_framework import status\n",
        "from rest_framework.response import Response\n",
        "from rest_framework.views import APIView\n",
        "from rest_framework.decorators import api_view\n",
        "from rest_framework.generics import get_object_or_404\n",
        "from .models import Book\n",
        "from .serializers import BookSerializer\n",
        "\n",
        "@api_view(['GET', 'POST'])\n",
        "def booksAPI(request):\n",
        "    if request.method == 'GET':\n",
        "        books = Book.objects.all()\n",
        "        serializer = BookSerializer(books, many=True)\n",
        "        return Response(serializer.data, status=status.HTTP_200_OK)\n",
        "    elif request.method == 'POST':\n",
        "        serializer = BookSerializer(data=request.data)\n",
        "        if serializer.is_valid():\n",
        "            serializer.save()\n",
        "            return Response(serializer.data, status=status.HTTP_201_CREATED)\n",
        "        return Response(serializer.errors, status=status.HTTP_400_BAD_REQUEST)\n",
        "\n",
        "@api_view(['GET'])\n",
        "def bookAPI(request, bid):\n",
        "    book = get_object_or_404(Book, bid=bid)\n",
        "    serializer = BookSerializer(book)\n",
        "    return Response(serializer.data, status=status.HTTP_200_OK)\n",
        "\n",
        "\n",
        "class BooksAPI(APIView):\n",
        "    def get(self, request):\n",
        "        books = Book.objects.all()\n",
        "        serializer = BookSerializer(books, many=True)\n",
        "        return Response(serializer.data, status=status.HTTP_200_OK)\n",
        "    def post(self, request):\n",
        "        serializer = BookSerializer(data=request.data)\n",
        "        if serializer.is_valid():\n",
        "            serializer.save()\n",
        "            return Response(serializer.data, status=status.HTTP_201_CREATED)\n",
        "        return Response(serializer.errors, status=status.HTTP_400_BAD_REQUEST)\n",
        "\n",
        "class BookAPI(APIView):\n",
        "    def get(self, request, bid):\n",
        "        book = get_object_or_404(Book, bid=bid)\n",
        "        serializer = BookSerializer(book)\n",
        "        return Response(serializer.data, status=status.HTTP_200_OK)"
      ],
      "metadata": {
        "id": "dPKIkK0DwIaD"
      },
      "execution_count": null,
      "outputs": []
    },
    {
      "cell_type": "markdown",
      "source": [
        "#### 2.3.5 URL 연결"
      ],
      "metadata": {
        "id": "JvMKGAmkxMzv"
      }
    },
    {
      "cell_type": "code",
      "source": [
        "# ./drf/urls.py\n",
        "\n",
        "from django.urls import path\n",
        "from .views import helloAPI, bookAPI, booksAPI, BookAPI, BooksAPI, BooksAPIMixins, BookAPIMixins\n",
        "\n",
        "urlpatterns = [\n",
        "    path(\"hello/\", helloAPI),\n",
        "    path(\"fbv/books/\", booksAPI),\n",
        "    path(\"fbv/book/<int:bid>/\", bookAPI),\n",
        "    path(\"cbv/books/\", BooksAPI.as_view()),\n",
        "    path(\"cbv/book/<int:bid>/\", BookAPI.as_view()),\n",
        " ]"
      ],
      "metadata": {
        "id": "nzTDvoA0xPHi"
      },
      "execution_count": null,
      "outputs": []
    },
    {
      "cell_type": "markdown",
      "source": [
        "#### 2.3.6 데이터 확인하기"
      ],
      "metadata": {
        "id": "zRrms094x_UF"
      }
    },
    {
      "cell_type": "code",
      "source": [
        "{\n",
        "    \"bid\": 1,\n",
        "    \"title\": \"처음 만나는 AI 수학 with 파이썬\",\n",
        "    \"author\": \"아즈마 유키나가\",\n",
        "    \"category\": \"프로그래밍\",\n",
        "    \"pages\": 308,\n",
        "    \"price\": 20000,\n",
        "    \"published_date\": \"2021-01-30\",\n",
        "    \"description\": \"인공지능을 공부하는데 필요한 기초 수학개념을 한 권에 모았다!\"\n",
        "}"
      ],
      "metadata": {
        "id": "D4BWhCVZyDAi"
      },
      "execution_count": null,
      "outputs": []
    },
    {
      "cell_type": "code",
      "source": [
        "{\n",
        "    \"bid\": 2,\n",
        "    \"title\": \"앱 인벤터, 상상을 현실로 만드는 프로젝트\",\n",
        "    \"author\": \"이준혁\",\n",
        "    \"category\": \"프로그래밍\",\n",
        "    \"pages\": 328,\n",
        "    \"price\": 20000,\n",
        "    \"published_date\": \"2020-12-10\",\n",
        "    \"description\": \"블록 코딩으로 만드는 안드로이드 앱, 앱 인벤터\"\n",
        "}"
      ],
      "metadata": {
        "id": "FtGJ3C2TUmCY"
      },
      "execution_count": null,
      "outputs": []
    }
  ]
}