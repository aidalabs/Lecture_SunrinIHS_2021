{
  "nbformat": 4,
  "nbformat_minor": 0,
  "metadata": {
    "colab": {
      "provenance": []
    },
    "kernelspec": {
      "name": "python3",
      "display_name": "Python 3"
    },
    "language_info": {
      "name": "python"
    }
  },
  "cells": [
    {
      "cell_type": "markdown",
      "source": [
        "# **Django REST Framework + React.js 게시판 만들기**"
      ],
      "metadata": {
        "id": "Zp4x773CnYAO"
      }
    },
    {
      "cell_type": "markdown",
      "source": [
        "## **1. 기능 구성**"
      ],
      "metadata": {
        "id": "gf35TPFJnX8y"
      }
    },
    {
      "cell_type": "markdown",
      "source": [
        "### 1.1 회원 관련 기능"
      ],
      "metadata": {
        "id": "4twN5WDrnX5J"
      }
    },
    {
      "cell_type": "markdown",
      "source": [
        "- 회원 프로필 관리(닉네임, 관심사, 프로필 사진 등)\n",
        "- 회원 가입 기능\n",
        "- 로그인 기능\n",
        "- 프로필 수정하기 기능"
      ],
      "metadata": {
        "id": "vUyjhchonX15"
      }
    },
    {
      "cell_type": "markdown",
      "source": [
        "### 1.2 게시글 관련기능"
      ],
      "metadata": {
        "id": "fPQptcUCnXyr"
      }
    },
    {
      "cell_type": "markdown",
      "source": [
        "- 게시글 생성\n",
        "- 게시글 1개 가져오기\n",
        "- 게시글 목록 가져오기(가져오는 개수 제한하기)\n",
        "- 게시글 수정하기\n",
        "- 게시글 삭제하기\n",
        "- 게시글 좋아요 기능\n",
        "- 게시글 필터링(좋아요 누른 글/내가 작성한 글)\n",
        "- 게시글 각 기능마다 권한 설정"
      ],
      "metadata": {
        "id": "X0q9aaZznXvh"
      }
    },
    {
      "cell_type": "markdown",
      "source": [
        "### 1.3 댓글 관련 기능"
      ],
      "metadata": {
        "id": "Fe5GWTS4nXnk"
      }
    },
    {
      "cell_type": "markdown",
      "source": [
        "- 댓글 생성\n",
        "- 댓글 1개 가져오기\n",
        "- 댓글 목록 가져오기\n",
        "- 댓글 수정하기\n",
        "- 댓글 삭제하기\n",
        "- 게시글을 가져올 때 댓글도 가져오게 만들기"
      ],
      "metadata": {
        "id": "SmEF9E8cn4o1"
      }
    },
    {
      "cell_type": "markdown",
      "source": [
        "## **2. Project Setting**"
      ],
      "metadata": {
        "id": "EJDSpoKSECO7"
      }
    },
    {
      "cell_type": "code",
      "source": [
        "python -m venv bbs\n",
        "cd bbs\n",
        "source ./bin/activate        # ./Scripts/activate"
      ],
      "metadata": {
        "id": "SMcXwMc9FsFl"
      },
      "execution_count": null,
      "outputs": []
    },
    {
      "cell_type": "code",
      "source": [
        "pip install django djangorestframework"
      ],
      "metadata": {
        "id": "QDYq0hABGI2m"
      },
      "execution_count": null,
      "outputs": []
    },
    {
      "cell_type": "code",
      "source": [
        "django-admin startproject board ."
      ],
      "metadata": {
        "id": "EWZ6fxHpGNJd"
      },
      "execution_count": null,
      "outputs": []
    },
    {
      "cell_type": "code",
      "source": [
        "# board/settings.py\n",
        "\n",
        "# Application definition\n",
        "\n",
        "INSTALLED_APPS = [\n",
        "    'django.contrib.admin',\n",
        "    'django.contrib.auth',\n",
        "    'django.contrib.contenttypes',\n",
        "    'django.contrib.sessions',\n",
        "    'django.contrib.messages',\n",
        "    'django.contrib.staticfiles',\n",
        "    'rest_framework',\n",
        "]\n",
        "\n",
        "TIME_ZONE = 'Asia/Seoul'"
      ],
      "metadata": {
        "id": "H9J3KvE7GVsV"
      },
      "execution_count": null,
      "outputs": []
    },
    {
      "cell_type": "markdown",
      "source": [
        "## **3. 모델 구성**"
      ],
      "metadata": {
        "id": "dUlQ6WK8LvDn"
      }
    },
    {
      "cell_type": "markdown",
      "source": [
        "### 3.1 User 모델"
      ],
      "metadata": {
        "id": "7XZB69gTn-lP"
      }
    },
    {
      "cell_type": "markdown",
      "source": [
        "- Django 기본 User 모델\n",
        "    - 회원관리: 서비스를 위한 가장 기본적인 기능\n",
        "    - User: Django Framework에서 기본 제공하는 모델의 하나\n",
        "        - 회원관리를 위하여 User 모델을 새롭게 만들어도 되지만 현재 시점에서는 새로운 User 모델이 큰 의미가 없으므로 Django의 User 모델을 사용함\n",
        "        - django.contrib.auth.models 안에 정의되어 있음\n",
        "        - django.contrib.auth: 인증 기능을 위해 Django Framework가 미리 만들어둔 모듈\n",
        "        - settings.py에서 기본으로 등록되어 있음\n"
      ],
      "metadata": {
        "id": "ZyF5PwLDI-t7"
      }
    },
    {
      "cell_type": "markdown",
      "source": [
        "- Django 기본 User 모델의 대표적인 필드\n",
        "    - username: 문자열\n",
        "        - 흔히 아는 ID가 들어가는 필드\n",
        "        - ID인만큼 다른 사용자와 겹치면 안됨\n",
        "        - 필수 항목\n",
        "    - first_name: 문자열\n",
        "        - 영문 이름에서 사용되는 이름의 개념\n",
        "        - 선택 항목\n",
        "    - last_name: 문자열\n",
        "        - 영문 이름에서 사용되는 성씨의 개념\n",
        "        - 선택 항목\n",
        "    - email: 문자열\n",
        "        - 회원 이메일 주소\n",
        "        - 선택 항목\n",
        "    - password: 문자열\n",
        "        - 비밀번호\n",
        "        - 필수 항목\n",
        "        - 실제로 입력한 비밀번호 문자열을 그대로 저장하지 않고 해시값을 저장함\n",
        "            - Django에서 비밀번호를 안전하게 보관하는 해시 알고리즘 사용(공식문서 참고할 것)\n",
        "    - 그외 기타 필드들"
      ],
      "metadata": {
        "id": "JXDLPUM5oGDq"
      }
    },
    {
      "cell_type": "markdown",
      "source": [
        "## **4. 회원관리 구현**"
      ],
      "metadata": {
        "id": "k982HbGiqXZH"
      }
    },
    {
      "cell_type": "markdown",
      "source": [
        "### 4.1 회원 인증의 개념"
      ],
      "metadata": {
        "id": "lNHFHIb5NQW2"
      }
    },
    {
      "cell_type": "markdown",
      "source": [
        "- 회원 인증 개념 (1): ID/PW를 그대로 담아 보내기\n",
        "    - 가장 기본적인 인증 방법\n",
        "    - Django는 보안을 위하여 회원의 비밀번호를 해시값으로 저장하고 있지만\n",
        "    - 클라이언트의 입장에서는 그냥 비밀번호를 적어서 보내는 것일 뿐임\n",
        "    - 인증이 필요할 때마다 ID/PW를 전송해야 하며 중간에서 탈취당할 위험이 높음\n",
        "    - 보안이 매우 취약한 상태"
      ],
      "metadata": {
        "id": "T3UtmvJVCQgD"
      }
    },
    {
      "cell_type": "markdown",
      "source": [
        "<img src=\"https://github.com/aidalabs/Lectures/blob/main/LectureFiles/images/Web_004_Django-Project_Auth_001.png?raw=true\" align=\"center\">"
      ],
      "metadata": {
        "id": "gSGXRbaJNf-2"
      }
    },
    {
      "cell_type": "markdown",
      "source": [
        "- 회원 인증 개념 (2): 세션 & 쿠키의 사용\n",
        "    - 세션(Session): 서버쪽에 저장하는 정보\n",
        "    - 쿠키(Cookies): 클라이언트의 자체적인 저장소\n",
        "        - 쿠키는 데이터로 구성되긴 하지만 데이터라기보다는 데이터를 저장하는 임시저장소와 같은 역할을 수행함\n",
        "    - 한 번 로그인을 수행한 후, 로그인 정보를 이용하여 세션에서 발급하는 세션 ID를 보냄으로써 인증을 대체함\n",
        "    - 클라이언트에서는 세션 ID를 쿠키 저장소에 저장한 후 인증 요청이 있을때마다 세션 ID를 꺼내서 HTTP 헤더에 넣고 전송함\n",
        "    - 인증이 필요할 때마다 ID/PW를 전송할 필요가 없으므로 정보의 탈취 위험이 줄어들지만 세션 ID를 탈취당할 위험은 여전히 존재함"
      ],
      "metadata": {
        "id": "IWQKFGb2C-TM"
      }
    },
    {
      "cell_type": "markdown",
      "source": [
        "<img src=\"https://github.com/aidalabs/Lectures/blob/main/LectureFiles/images/Web_005_Django-Project_Auth_002.png?raw=true\" align=\"center\">"
      ],
      "metadata": {
        "id": "7BL7QPnpNjYR"
      }
    },
    {
      "cell_type": "markdown",
      "source": [
        "- 회원 인증 개념 (3): 토큰 & JWT\n",
        "    - 세션 & 쿠키 방식과 비슷함\n",
        "    - 회원 가입 시 서버는 유저에 매칭되는 토큰을 생성하여 클라이언트에 전달하고 클라이언트는 인증 요청 시마다 해당 토큰을 HTTP 헤더에 넣어서 전송함\n",
        "    - 토큰에는 사용자의 정보가 포함되어 있으므로 서버는 해당 정보를 이용하여 인증을 수행함\n",
        "    - 토큰은 암호화 방식이 적용되어 있으므로 전송 데이터 패킷을 중간에서 탈취당하더라도 정보가 노출될 가능성은 낮음\n",
        "    - 암호화에 사용되는 키: settings.py에 등록되어 있는 SECRET_KEY\n",
        "    - 그러나 토큰 자체를 탈취하여 사용자인척 하는 위험은 여전히 존재함\n",
        "        - 해결책: 토큰의 유효기간 설정\n",
        "    <br><br>\n",
        "    - JWT (JSON WEB Token)\n",
        "        - 사용자 인증을 위해 사용하는 Open Standard(RFC 7519)\n",
        "        - JSON 포맷을 이용하여 Self-Contained 방식으로 사용자에 대한 정보를 저장하는 Claim 기반의 WEB 토큰\n",
        "        - 기본 컨셉\n",
        "            - IdP (Identity Provider)가 사용자의 정보를 담은 내용에 서명하는 것을 통해서 토큰을 생성\n",
        "            - 유저가 서버에 요청할 때 이 토큰을 사용하며, 이 때 토큰의 무결성(integrity)과 인증성(authenticity)을 보장함\n",
        "                - 무결성: 정보가 원래의 내용으로 유지되는 것. 즉 정보가 변조되지 않았음을 보장하는 것\n",
        "                - 인증성: 보낸 사람과 받는 사람이 서로가 맞다고 확인할 수 있는 성질. 정보의 출처를 확인하고 신뢰할 수 있는지 판단하는 과정\n",
        "            - 유저가 전송하는 데이터를 숨기는 것보다 유저가 전송하는 데이터를 인증하는데 집중하는 방식"
      ],
      "metadata": {
        "id": "-qIOI889DB1x"
      }
    },
    {
      "cell_type": "markdown",
      "source": [
        "<img src=\"https://github.com/aidalabs/Lectures/blob/main/LectureFiles/images/Web_006_Django-Project_Auth_003.png?raw=true\" align=\"center\">"
      ],
      "metadata": {
        "id": "ldE5y16ANnQL"
      }
    },
    {
      "cell_type": "markdown",
      "source": [
        "### 4.2 Setting"
      ],
      "metadata": {
        "id": "KBjrptXdpyXx"
      }
    },
    {
      "cell_type": "code",
      "source": [
        "python manage.py startapp users"
      ],
      "metadata": {
        "id": "qiyDPdZwiFg9"
      },
      "execution_count": null,
      "outputs": []
    },
    {
      "cell_type": "code",
      "source": [
        "# board/settings.py\n",
        "\n",
        "# Application definition\n",
        "\n",
        "INSTALLED_APPS = [\n",
        "    'django.contrib.admin',\n",
        "    'django.contrib.auth',\n",
        "    'django.contrib.contenttypes',\n",
        "    'django.contrib.sessions',\n",
        "    'django.contrib.messages',\n",
        "    'django.contrib.staticfiles',\n",
        "    'rest_framework',\n",
        "    'rest_framework.authtoken',\n",
        "    'users',\n",
        "]\n",
        "\n",
        "...\n",
        "\n",
        "REST_FRAMEWORK = {\n",
        "    'DEFAULT_AUTHENTICATION_CLASSES': [\n",
        "        'rest_framework.authentication.TokenAuthentication',\n",
        "    ],\n",
        "}"
      ],
      "metadata": {
        "id": "17TaUPKeT5Ji"
      },
      "execution_count": null,
      "outputs": []
    },
    {
      "cell_type": "markdown",
      "source": [
        "### 4.3 Model"
      ],
      "metadata": {
        "id": "D9yvk_8pVro-"
      }
    },
    {
      "cell_type": "markdown",
      "source": [
        "- Django User 모델에서 활용할 필드 목록\n",
        "    - username\n",
        "        - ID로 활용\n",
        "        - required=True\n",
        "    - email\n",
        "        - required=True\n",
        "    - password\n",
        "        - required=True"
      ],
      "metadata": {
        "id": "HFMcyyYnVbzb"
      }
    },
    {
      "cell_type": "markdown",
      "source": [
        "### 4.4 Serializer"
      ],
      "metadata": {
        "id": "DfAc9T11Vv_m"
      }
    },
    {
      "cell_type": "markdown",
      "source": [
        "- 회원가입 프로세스\n",
        "    1. 사용자가 정해진 폼에 따라 데이터를 입력함\n",
        "        - username, email, password, password2\n",
        "    2. 해당 데이터가 들어오면 ID가 중복되지 않는지, 비밀번호가 너무 짧거나 쉽지는 않은지 검사함\n",
        "    3. 2단계를 통과했다면 회원을 생성함\n",
        "    4. 회원 생성이 완료되면 해당 회원에 대한 토큰을 생성함"
      ],
      "metadata": {
        "id": "m_B4A_Dcp2rh"
      }
    },
    {
      "cell_type": "markdown",
      "source": [
        "- Serializer는 요청으로 들어온 데이터를 Django 데이터로 변환하여 저장하는 기능을 수행함\n",
        "- 또한 Serializer는 검증(Validation) 기능을 수행하는 역할을 가지고 있음\n",
        "    - 이번 Serializer에서는 검증기능을 사용하도록 함"
      ],
      "metadata": {
        "id": "_NII_JMhXBUO"
      }
    },
    {
      "cell_type": "code",
      "source": [
        "# users/serializers.py\n",
        "from django.contrib.auth.models import User\n",
        "from django.contrib.auth.password_validation import validate_password\n",
        "\n",
        "from rest_framework import serializers\n",
        "from rest_framework.authtoken.models import Token\n",
        "from rest_framework.validators import UniqueValidator\n",
        "\n",
        "\n",
        "class RegisterSerializer(serializers.ModelSerializer):\n",
        "    email = serializers.EmailField(\n",
        "        required=True,\n",
        "        validators=[UniqueValidator(queryset=User.objects.all())],\n",
        "    )\n",
        "    password = serializers.CharField(\n",
        "        write_only=True,\n",
        "        required=True,\n",
        "        validators=[validate_password],\n",
        "    )\n",
        "    password2 = serializers.CharField(write_only=True, required=True)\n",
        "\n",
        "    class Meta:\n",
        "        model = User\n",
        "        fields = ('username', 'password', 'password2', 'email')\n",
        "\n",
        "    def validate(self, data):\n",
        "        if data['password'] != data['password2']:\n",
        "            raise serializers.ValidationError(\n",
        "                {\"password\": \"Password fields didn't match.\"})\n",
        "\n",
        "        return data\n",
        "\n",
        "    def create(self, validated_data):\n",
        "        user = User.objects.create_user(\n",
        "            username=validated_data['username'],\n",
        "            email=validated_data['email'],\n",
        "        )\n",
        "\n",
        "        user.set_password(validated_data['password'])\n",
        "        user.save()\n",
        "        token = Token.objects.create(user=user)\n",
        "        return user"
      ],
      "metadata": {
        "id": "JSzkI7ParxSZ"
      },
      "execution_count": null,
      "outputs": []
    },
    {
      "cell_type": "markdown",
      "source": [
        "### 4.5 View"
      ],
      "metadata": {
        "id": "QwFmmofHWQ4T"
      }
    },
    {
      "cell_type": "markdown",
      "source": [
        "- Serializer가 복잡해진 대신 View가 간단해짐\n",
        "- 회원가입의 경우 회원 생성 기능만 있음(POST)\n",
        "    - 굳이 ViewSet을 사용해 다른 API 요청을 처리할 필요가 없음"
      ],
      "metadata": {
        "id": "L3SE61wtWYJ5"
      }
    },
    {
      "cell_type": "code",
      "source": [
        "# users/views.py\n",
        "from django.contrib.auth.models import User\n",
        "from rest_framework import generics\n",
        "\n",
        "from .serializers import RegisterSerializer\n",
        "\n",
        "\n",
        "class RegisterView(generics.CreateAPIView):\n",
        "    queryset = User.objects.all()\n",
        "    serializer_class = RegisterSerializer"
      ],
      "metadata": {
        "id": "XMiD3Gsnr3ed"
      },
      "execution_count": null,
      "outputs": []
    },
    {
      "cell_type": "markdown",
      "source": [
        "### 4.6 URL"
      ],
      "metadata": {
        "id": "t-BYt0wdW7tS"
      }
    },
    {
      "cell_type": "markdown",
      "source": [
        "- 클래스형 뷰를 사용할 것이므로 .as_view()를 사용함"
      ],
      "metadata": {
        "id": "ZqkErvNcXzh-"
      }
    },
    {
      "cell_type": "code",
      "source": [
        "# users/urls.py\n",
        "from django.urls import path\n",
        "from .views import RegisterView\n",
        "\n",
        "urlpatterns = [\n",
        "    path('register/', RegisterView.as_view()),\n",
        "]"
      ],
      "metadata": {
        "id": "ZU4BUb6jr8_0"
      },
      "execution_count": null,
      "outputs": []
    },
    {
      "cell_type": "code",
      "source": [
        "# board/urls.py\n",
        "from django.urls import path, include\n",
        "from django.contrib import admin\n",
        "\n",
        "urlpatterns = [\n",
        "    path('admin/', admin.site.urls),\n",
        "    path('users/', include('users.urls')),\n",
        "]"
      ],
      "metadata": {
        "id": "FNymWKKSsHuY"
      },
      "execution_count": null,
      "outputs": []
    },
    {
      "cell_type": "markdown",
      "source": [
        "### 4.7 Migration & Run Server"
      ],
      "metadata": {
        "id": "3izDwvOWYBji"
      }
    },
    {
      "cell_type": "markdown",
      "source": [
        "- Migration"
      ],
      "metadata": {
        "id": "S9s4lY6xYOpY"
      }
    },
    {
      "cell_type": "code",
      "source": [
        "# Migration\n",
        "python manage.py makemigrations\n",
        "python manage.py migrate"
      ],
      "metadata": {
        "id": "KHKyl8rqsfbu"
      },
      "execution_count": null,
      "outputs": []
    },
    {
      "cell_type": "markdown",
      "source": [
        "- Run Server"
      ],
      "metadata": {
        "id": "JunxhFmQYQah"
      }
    },
    {
      "cell_type": "code",
      "source": [
        "python manage.py runserver"
      ],
      "metadata": {
        "id": "-EqfAl9mYSnK"
      },
      "execution_count": null,
      "outputs": []
    },
    {
      "cell_type": "markdown",
      "source": [
        "- 기능 테스트 수행"
      ],
      "metadata": {
        "id": "tbxeLzXzYVs2"
      }
    },
    {
      "cell_type": "markdown",
      "source": [
        "- 관리자 계정을 통해 기능이 제대로 수행되었는지 확인"
      ],
      "metadata": {
        "id": "S65RZoUBYZEB"
      }
    },
    {
      "cell_type": "code",
      "source": [
        "# Create Super User\n",
        "python manage.py createsuperuser"
      ],
      "metadata": {
        "id": "lFbSKLKksqCC"
      },
      "execution_count": null,
      "outputs": []
    },
    {
      "cell_type": "markdown",
      "source": [
        "## **5. Login 구현**"
      ],
      "metadata": {
        "id": "5tEncGV7tDSt"
      }
    },
    {
      "cell_type": "markdown",
      "source": [
        "### 5.1 Serializer"
      ],
      "metadata": {
        "id": "ASx0HVFUY1uv"
      }
    },
    {
      "cell_type": "code",
      "source": [
        "# users/serializers.py\n",
        "\n",
        "from django.contrib.auth import authenticate\n",
        "\n",
        "class LoginSerializer(serializers.Serializer):\n",
        "    username = serializers.CharField(required=True)\n",
        "    password = serializers.CharField(required=True, write_only=True)\n",
        "\n",
        "    def validate(self, data):\n",
        "        user = authenticate(**data)\n",
        "        if user:\n",
        "            token = Token.objects.get(user=user)\n",
        "            return token\n",
        "        raise serializers.ValidationError(\n",
        "            {\"error\": \"Unable to log in with provided credentials.\"})"
      ],
      "metadata": {
        "id": "vwnF0MYPtGcU"
      },
      "execution_count": null,
      "outputs": []
    },
    {
      "cell_type": "markdown",
      "source": [
        "### 5.2 View"
      ],
      "metadata": {
        "id": "IeZNxecWZKny"
      }
    },
    {
      "cell_type": "code",
      "source": [
        "# users/views.py\n",
        "from django.contrib.auth.models import User\n",
        "from rest_framework import generics, status\n",
        "from rest_framework.response import Response\n",
        "\n",
        "from .serializers import RegisterSerializer, LoginSerializer\n",
        "\n",
        "class LoginView(generics.GenericAPIView):\n",
        "    serializer_class = LoginSerializer\n",
        "\n",
        "    def post(self, request):\n",
        "        serializer = self.get_serializer(data=request.data)\n",
        "        serializer.is_valid(raise_exception=True)\n",
        "        token = serializer.validated_data\n",
        "        return Response({\"token\": token.key}, status=status.HTTP_200_OK)"
      ],
      "metadata": {
        "id": "dTVoUPpOtLZI"
      },
      "execution_count": null,
      "outputs": []
    },
    {
      "cell_type": "markdown",
      "source": [
        "### 5.3 URL"
      ],
      "metadata": {
        "id": "ujMn1Zp-ZSpW"
      }
    },
    {
      "cell_type": "code",
      "source": [
        "# users/urls.py\n",
        "from django.urls import path\n",
        "from .views import RegisterView, LoginView\n",
        "\n",
        "urlpatterns = [\n",
        "    path('register/', RegisterView.as_view()),\n",
        "    path('login/', LoginView.as_view()),\n",
        "]"
      ],
      "metadata": {
        "id": "HsbPVbRntMjJ"
      },
      "execution_count": null,
      "outputs": []
    },
    {
      "cell_type": "markdown",
      "source": [
        "### 5.4 실행"
      ],
      "metadata": {
        "id": "y09Dmr5iZZRO"
      }
    },
    {
      "cell_type": "code",
      "source": [
        "python manage.py runserver"
      ],
      "metadata": {
        "id": "dTUzezK2ZdnT"
      },
      "execution_count": null,
      "outputs": []
    },
    {
      "cell_type": "markdown",
      "source": [
        "## **6. User 모델의 확장**"
      ],
      "metadata": {
        "id": "Jp9CRuBDqhLj"
      }
    },
    {
      "cell_type": "markdown",
      "source": [
        "- 프로젝트에서 사용하는 회원 모델\n",
        "    - username: 아이디(CharField, primary=True)\n",
        "    - email: 이메일 주소(EmailField)\n",
        "    - password: 비밀번호(CharField)\n",
        "    - nickname: 닉네임(CharField)\n",
        "    - position: 직종(CharField)\n",
        "    - subjects: 관심사(CharField)\n",
        "    - image: 프로필 이미지(ImageField)"
      ],
      "metadata": {
        "id": "nE7rU94DqlYd"
      }
    },
    {
      "cell_type": "markdown",
      "source": [
        "- Profile 모델\n",
        "\n",
        "<img src=\"https://github.com/aidalabs/Lectures/blob/main/LectureFiles/images/Web_007_Django-Project_ProfileModel.png?raw=true\" align=\"center\">"
      ],
      "metadata": {
        "id": "PAjLLsXkDL-d"
      }
    },
    {
      "cell_type": "code",
      "execution_count": null,
      "metadata": {
        "id": "NT-8bGrqnWxm"
      },
      "outputs": [],
      "source": [
        "# user/models.py\n",
        "from django.db import models\n",
        "from django.contrib.auth.models import User\n",
        "from django.db.models.signals import post_save\n",
        "from django.dispatch import receiver\n",
        "\n",
        "\n",
        "# Create your models here.\n",
        "class Profile(models.Model):\n",
        "    user = models.OneToOneField(User, on_delete=models.CASCADE)\n",
        "    nickname = models.CharField(max_length=128)\n",
        "    position = models.CharField(max_length=128)\n",
        "    subjects = models.CharField(max_length=128)\n",
        "    image = models.ImageField(upload_to='profile/', default='default.png')\n",
        "\n",
        "\n",
        "@receiver(post_save, sender=User)\n",
        "def create_user_profile(sender, instance, created, **kwargs):\n",
        "    if created:\n",
        "        Profile.objects.create(user=instance)"
      ]
    },
    {
      "cell_type": "code",
      "source": [
        "# Migration\n",
        "python manage.py makemigrations\n",
        "python manage.py migrate\n",
        "python manage.py runserver"
      ],
      "metadata": {
        "id": "_dmkI8bLtnVp"
      },
      "execution_count": null,
      "outputs": []
    },
    {
      "cell_type": "markdown",
      "source": [
        "### 4.5 이미지를 위한 사전 처리"
      ],
      "metadata": {
        "id": "gdGEhBaftr7M"
      }
    },
    {
      "cell_type": "code",
      "source": [
        "pip install Pillow"
      ],
      "metadata": {
        "id": "A6qKQPFg2gxK"
      },
      "execution_count": null,
      "outputs": []
    },
    {
      "cell_type": "code",
      "source": [
        "# board/settings.py\n",
        "\n",
        "import os\n",
        "\n",
        "STATIC_URL = '/static/'\n",
        "MEDIA_URL = '/media/'\n",
        "MEDIA_ROOT = os.path.join(BASE_DIR, 'media')"
      ],
      "metadata": {
        "id": "wTTaHqaF2mJd"
      },
      "execution_count": null,
      "outputs": []
    },
    {
      "cell_type": "markdown",
      "source": [
        "- URL"
      ],
      "metadata": {
        "id": "-XK3_xN62-G0"
      }
    },
    {
      "cell_type": "code",
      "source": [
        "# myboard/urls.py\n",
        "from django.urls import path, include\n",
        "from django.contrib import admin\n",
        "\n",
        "from django.conf import settings\n",
        "from django.conf.urls.static import static\n",
        "\n",
        "urlpatterns = [\n",
        "    path('admin/', admin.site.urls),\n",
        "    path('users/', include('users.urls')),\n",
        "] + static(settings.MEDIA_URL, document_root=settings.MEDIA_ROOT)"
      ],
      "metadata": {
        "id": "kbUAhiOGt1WY"
      },
      "execution_count": null,
      "outputs": []
    },
    {
      "cell_type": "markdown",
      "source": [
        "- Serializer"
      ],
      "metadata": {
        "id": "wA_-sHGm3GTi"
      }
    },
    {
      "cell_type": "code",
      "source": [
        "# users/serializers.py\n",
        "from .models import Profile\n",
        "\n",
        "\n",
        "class ProfileSerializer(serializers.ModelSerializer):\n",
        "    class Meta:\n",
        "        model = Profile\n",
        "        fields = (\"nickname\", \"position\", \"subjects\")\n",
        "        # extra_kwargs = {\"image\": {\"required\": False, \"allow_null\": True}}"
      ],
      "metadata": {
        "id": "0XlEfFVMt2rL"
      },
      "execution_count": null,
      "outputs": []
    },
    {
      "cell_type": "markdown",
      "source": [
        "- View + 기본 Permission"
      ],
      "metadata": {
        "id": "8pzU1_E33Lfb"
      }
    },
    {
      "cell_type": "code",
      "source": [
        "# users/views.py\n",
        "\n",
        "from .serializers import RegisterSerializer, LoginSerializer, ProfileSerializer\n",
        "from .models import Profile\n",
        "\n",
        "class ProfileView(generics.GenericAPIView):\n",
        "    queryset = Profile.objects.all()\n",
        "    serializer_class = ProfileSerializer"
      ],
      "metadata": {
        "id": "ZQsWgWfi3UlM"
      },
      "execution_count": null,
      "outputs": []
    },
    {
      "cell_type": "code",
      "source": [
        "# users/permissions.py\n",
        "\n",
        "from rest_framework import permissions\n",
        "\n",
        "class CustomReadOnly(permissions.BasePermission):\n",
        "    def has_object_permission(self, request, view, obj):\n",
        "        if request.method in permissions.SAFE_METHODS:\n",
        "            return True\n",
        "        return obj.author == request.user"
      ],
      "metadata": {
        "id": "nzcOja9k3ygD"
      },
      "execution_count": null,
      "outputs": []
    },
    {
      "cell_type": "code",
      "source": [
        "# users/urls.py\n",
        "from django.urls import path\n",
        "from .views import RegisterView, LoginView, ProfileView\n",
        "\n",
        "urlpatterns = [\n",
        "    path('register/', RegisterView.as_view()),\n",
        "    path('login/', LoginView.as_view()),\n",
        "    path('profile/', ProfileView.as_view())\n",
        "]"
      ],
      "metadata": {
        "id": "Db7z9Pa14IJ7"
      },
      "execution_count": null,
      "outputs": []
    },
    {
      "cell_type": "code",
      "source": [
        "# user/admin.py\n",
        "from django.contrib import admin\n",
        "\n",
        "from django.contrib.auth.admin import UserAdmin as BaseUserAdmin\n",
        "from django.contrib.auth.models import User\n",
        "from .models import Profile\n",
        "\n",
        "\n",
        "class ProfileInline(admin.StackedInline):\n",
        "    model = Profile\n",
        "    can_delete = False\n",
        "    verbose_name_plural = \"profile\"\n",
        "\n",
        "\n",
        "class UserAdmin(BaseUserAdmin):\n",
        "    inlines = (ProfileInline, )\n",
        "\n",
        "\n",
        "admin.site.unregister(User)\n",
        "admin.site.register(User, UserAdmin)"
      ],
      "metadata": {
        "id": "O0pIoHeMuBRV"
      },
      "execution_count": null,
      "outputs": []
    },
    {
      "cell_type": "code",
      "source": [
        "# Migration\n",
        "python manage.py makemigrations\n",
        "python manage.py migrate\n",
        "python manage.py runserver"
      ],
      "metadata": {
        "id": "1-biIMdV4Wgn"
      },
      "execution_count": null,
      "outputs": []
    },
    {
      "cell_type": "markdown",
      "source": [
        "- Front & Back 통신\n",
        "<img src=\"https://github.com/aidalabs/Lectures/blob/main/LectureFiles/images/Web_008_Django-Project_Front_Back.png?raw=true\" align=\"center\">"
      ],
      "metadata": {
        "id": "pioONaZUDUKa"
      }
    }
  ]
}