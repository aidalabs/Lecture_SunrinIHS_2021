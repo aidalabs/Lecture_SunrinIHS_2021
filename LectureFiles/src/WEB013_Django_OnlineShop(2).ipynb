{
  "nbformat": 4,
  "nbformat_minor": 0,
  "metadata": {
    "colab": {
      "provenance": [],
      "toc_visible": true
    },
    "kernelspec": {
      "name": "python3",
      "display_name": "Python 3"
    },
    "language_info": {
      "name": "python"
    }
  },
  "cells": [
    {
      "cell_type": "markdown",
      "source": [
        "# **온라인 상점 구축 프로젝트(2)**"
      ],
      "metadata": {
        "id": "OEgx75CyMJ6r"
      }
    },
    {
      "cell_type": "markdown",
      "source": [
        "## **1. 결제 및 주문 관리하기**"
      ],
      "metadata": {
        "id": "-kX_PWAhMate"
      }
    },
    {
      "cell_type": "markdown",
      "source": [
        "### 1.1 전자결제 게이트웨이 통합하기"
      ],
      "metadata": {
        "id": "xCoILdAoMimM"
      }
    },
    {
      "cell_type": "markdown",
      "source": [
        "#### 1.1.1 프로젝트에 Stripe 결제 게이트웨이 통합하기"
      ],
      "metadata": {
        "id": "y5KYglj6MrYR"
      }
    },
    {
      "cell_type": "markdown",
      "source": [
        "- 전자결제 게이트웨이(Payment Gateway)\n",
        "    - 판매자가 온라인에서 고객의 결제를 처리하는데 사용하는 기술\n",
        "    - 전자결제 게이트웨이를 사용하여 고객의 주문 관리, 신뢰할 수 있는 결제 처리, 안전한 서드파티를 통한 결제 처리 위임 등이 가능함\n",
        "    - 신뢰할 수 있는 전자결제 게이트웨이를 사용한다면 자체 시스템에서 신용카드를 처리하기 위한 기술 및 보안, 규제 복잡성을 신경쓰지 않아도 됨\n",
        "\n",
        "- 전자결제 게이트웨이의 종류\n",
        "    - 국내: KCP, 토스, 이니시스, SPC섹타나인, 나이스페이 등\n",
        "    - 국외: PayLine, Stripe, PayPal, Square, Authorize.Net, 2Checkout 등"
      ],
      "metadata": {
        "id": "jgMdgklONFH8"
      }
    },
    {
      "cell_type": "markdown",
      "source": [
        "- Stripe\n",
        "    - 신용카드, Google Pay, 자동 이체 등 다양한 결제 수단 지원\n",
        "    - 온라인 결제 처리를 위한 API 제공\n",
        "    - 일회성 결제, 구독 서비스를 위한 정기 결제, 플랫폼 및 마켓플레이스에서 발생하는 다자간 결제 등 관리\n",
        "    - 계정 개설(회원 가입)은 필요하지만 **실제 카드 정보 등을 입력하지 않아도 사용이 가능한 테스트 모드를 지원함**\n",
        "    <BR><BR>\n",
        "- Stripe 사용환경 구축\n",
        "    1. 계정 개설: https://dashboard.stripe.com/register\n",
        "        <img src=\"https://github.com/aidalabs/Lectures/blob/main/LectureFiles/images/Web_009_Stripe_001.png?raw=true\" align=\"center\">\n",
        "        <br><br>\n",
        "    2. Email 인증 → Test Mode 활성화\n",
        "    <br><br>\n",
        "    3. 계정 이름 추가: https://dashboard.stripe.com/settings/account\n",
        "        <img src=\"https://github.com/aidalabs/Lectures/blob/main/LectureFiles/images/Web_009_Stripe_002.png?raw=true\" align=\"center\">\n",
        "        <br><br>\n",
        "        <img src=\"https://github.com/aidalabs/Lectures/blob/main/LectureFiles/images/Web_009_Stripe_003.png?raw=true\" align=\"center\">\n",
        "        <br><br>\n",
        "    4. Stripe 파이썬 라이브러리 설치\n",
        "        ```\n",
        "        pip install stripe\n",
        "        ```\n",
        "        <br><br>\n",
        "    5. Stripe API Key 획득: https://dashboard.stripe.com/test/apikeys\n",
        "        <img src=\"https://github.com/aidalabs/Lectures/blob/main/LectureFiles/images/Web_009_Stripe_004.png?raw=true\" align=\"center\">\n",
        "        <br><br>\n",
        "    - Stripe 관련 파이썬 문서: https://stripe.com/docs/api?lang=python"
      ],
      "metadata": {
        "id": "swGSJ0TaPwtc"
      }
    },
    {
      "cell_type": "markdown",
      "source": [
        "- myshop/settings.py"
      ],
      "metadata": {
        "id": "6BPZrAGRW2UZ"
      }
    },
    {
      "cell_type": "code",
      "execution_count": null,
      "metadata": {
        "id": "13t_qF4LMCl5"
      },
      "outputs": [],
      "source": [
        "STRIPE_PUBLISHABLE_KEY = '****' # 공개키\n",
        "STRIPE_SECRET_KEY = '****'      # 개인키\n",
        "STRIPE_API_VERSION ='2024-06-20'"
      ]
    },
    {
      "cell_type": "markdown",
      "source": [
        "#### 1.1.2 결제 프로세스 구축하기"
      ],
      "metadata": {
        "id": "274p9a8LY4PV"
      }
    },
    {
      "cell_type": "markdown",
      "source": [
        "1. 장바구니에 품목 추가\n",
        "2. 장바구니 결제\n",
        "3. 신용카드 정보를 입력하고 결제"
      ],
      "metadata": {
        "id": "nmWfwP0eY7wA"
      }
    },
    {
      "cell_type": "markdown",
      "source": [
        "- Terminal"
      ],
      "metadata": {
        "id": "wvm5pMXbZKR6"
      }
    },
    {
      "cell_type": "code",
      "source": [
        "python manage.py startapp payment"
      ],
      "metadata": {
        "id": "et3v-tZoZNNo"
      },
      "execution_count": null,
      "outputs": []
    },
    {
      "cell_type": "markdown",
      "source": [
        "- myshop/settings.py"
      ],
      "metadata": {
        "id": "Acm9FR5rZe37"
      }
    },
    {
      "cell_type": "code",
      "source": [
        "INSTALLED_APPS = [\n",
        "    ...\n",
        "    'shop.apps.ShopConfig',\n",
        "    'cart.apps.CartConfig',\n",
        "    'orders.apps.OrdersConfig',\n",
        "    'payment.apps.PaymentConfig',\n",
        "]"
      ],
      "metadata": {
        "id": "KvLPqmycZiqI"
      },
      "execution_count": null,
      "outputs": []
    },
    {
      "cell_type": "markdown",
      "source": [
        "- orders/views.py"
      ],
      "metadata": {
        "id": "pDSyJcQdZ8Ri"
      }
    },
    {
      "cell_type": "code",
      "source": [
        "from django.urls import reverse\n",
        "...\n",
        "\n",
        "def order_create(request):\n",
        "    ...\n",
        "            # 비동기 작업 실행\n",
        "            order_created.delay(order.id)\n",
        "            # 세션 순서 결정\n",
        "            request.session['order_id'] = order.id\n",
        "            # 결제 리디렉션\n",
        "            return redirect(reverse('payment:process'))\n",
        "            ..."
      ],
      "metadata": {
        "id": "0l25W0nGaAUp"
      },
      "execution_count": null,
      "outputs": []
    },
    {
      "cell_type": "markdown",
      "source": [
        "- Stripe Checkout 통합하기\n",
        "    - 사용자가 결제 세부 정보(일반적으로 신용카드)를 입력하고 결제를 수급할 수 있는, Stripe에서 호스팅하는 결제페이지로 구성됨\n",
        "    - 결제가 성공하면 Stripe는 클라이언트를 성공 페이지로, 결제를 취소하면 취소 페이지로 리디렉션\n",
        "- 3가지 View 구현\n",
        "    - payment_process\n",
        "        - Stripe 결제 세션을 생성하고 클라이언트를 Stripe에서 호스팅하는 결제 페이지로 리디렉션\n",
        "        - 결제 세션: 고객이 결제 폼으로 리디렉션될 때 표시되는 제품, 수량, 통화 및 청구 금액을 포함한, 고객에게 표시되는 내용을 프로그래밍 방식으로 표현한 것\n",
        "    - payment_completed\n",
        "        - 결제 성공 메시지 표시\n",
        "        - 결제가 성공하면 사용자는 이 뷰로 리디렉션됨\n",
        "    - payment_canceled\n",
        "        - 결제 취소 메시지 표시\n",
        "        - 결제가 취소된 경우 사용자는 이 뷰로 리디렉션됨"
      ],
      "metadata": {
        "id": "4QaQ-p-iaqjl"
      }
    },
    {
      "cell_type": "markdown",
      "source": [
        "- payment/views.py"
      ],
      "metadata": {
        "id": "OCEl9ihwdft-"
      }
    },
    {
      "cell_type": "code",
      "source": [
        "from decimal import Decimal\n",
        "import stripe\n",
        "from django.conf import settings\n",
        "from django.shortcuts import render, redirect, reverse, get_object_or_404\n",
        "from orders.models import Order\n",
        "\n",
        "\n",
        "# Stripe 인스턴스 생성\n",
        "stripe.api_key = settings.STRIPE_SECRET_KEY\n",
        "stripe.api_version = settings.STRIPE_API_VERSION\n",
        "\n",
        "\n",
        "def payment_process(request):\n",
        "    order_id = request.session.get('order_id', None)\n",
        "    order = get_object_or_404(Order, id=order_id)\n",
        "\n",
        "    if request.method == 'POST':\n",
        "        success_url = request.build_absolute_uri(reverse('payment:completed'))\n",
        "        cancel_url = request.build_absolute_uri(reverse('payment:canceled'))\n",
        "\n",
        "        # Stripe 결제 세션 데이터\n",
        "        session_data = {\n",
        "            'mode': 'payment',\n",
        "            'client_reference_id': order.id,\n",
        "            'success_url': success_url,\n",
        "            'cancel_url': cancel_url,\n",
        "            'line_items': []\n",
        "        }\n",
        "\n",
        "        # Stripe 결제 세션 생성\n",
        "        session = stripe.checkout.Session.create(**session_data)\n",
        "\n",
        "        # Stripe 결제 양식으로 리디렉션\n",
        "        return redirect(session.url, code=303)\n",
        "\n",
        "    else:\n",
        "        return render(request, 'payment/process.html', locals())"
      ],
      "metadata": {
        "id": "0j5pvrUTdlxl"
      },
      "execution_count": null,
      "outputs": []
    },
    {
      "cell_type": "markdown",
      "source": [
        "- payment/views.py\n",
        "    - Stripe 결제 세션에 주문 품목 추가"
      ],
      "metadata": {
        "id": "c4CJXTW2eZjE"
      }
    },
    {
      "cell_type": "code",
      "source": [
        "def payment_process(request):\n",
        "    ...\n",
        "        # Stripe 결제 세션 데이터\n",
        "        session_data = {\n",
        "            ...\n",
        "        }\n",
        "        # Stripe 결제 세션에 주문 품목 추가\n",
        "        for item in order.items.all():\n",
        "            session_data['line_items'].append({\n",
        "                'price_data': {\n",
        "                    'unit_amount': int(item.price * Decimal('100')),\n",
        "                    'currency': 'usd',\n",
        "                    'product_data': {\n",
        "                        'name': item.product.name,\n",
        "                    },\n",
        "                },\n",
        "                'quantity': item.quantity,\n",
        "            })\n",
        "\n",
        "        # Stripe 결제 세션 생성\n",
        "        ..."
      ],
      "metadata": {
        "id": "WqaYo_BYehhY"
      },
      "execution_count": null,
      "outputs": []
    },
    {
      "cell_type": "markdown",
      "source": [
        "- payment/views.py\n",
        "    - payment_completed, payment_canceled 메서드 추가"
      ],
      "metadata": {
        "id": "-wREnCeue5zq"
      }
    },
    {
      "cell_type": "code",
      "source": [
        "def payment_completed(request):\n",
        "    return render(request, 'payment/completed.html')\n",
        "\n",
        "\n",
        "def payment_canceled(request):\n",
        "    return render(request, 'payment/canceled.html')"
      ],
      "metadata": {
        "id": "LFtZaOh0e9QT"
      },
      "execution_count": null,
      "outputs": []
    },
    {
      "cell_type": "markdown",
      "source": [
        "- payment/urls.py"
      ],
      "metadata": {
        "id": "va9lbQPOfIza"
      }
    },
    {
      "cell_type": "code",
      "source": [
        "from django.urls import path\n",
        "from payment import views\n",
        "\n",
        "app_name = 'payment'\n",
        "\n",
        "urlpatterns = [\n",
        "    path('process/', views.payment_process, name='process'),\n",
        "    path('completed/', views.payment_completed, name='completed'),\n",
        "    path('canceled/', views.payment_canceled, name='canceled'),\n",
        "]"
      ],
      "metadata": {
        "id": "kDepk1V8fLaN"
      },
      "execution_count": null,
      "outputs": []
    },
    {
      "cell_type": "markdown",
      "source": [
        "- myshop/urls.py"
      ],
      "metadata": {
        "id": "e2ylQk_vfY-S"
      }
    },
    {
      "cell_type": "code",
      "source": [
        "urlpatterns = [\n",
        "    path('admin/', admin.site.urls),\n",
        "    path('cart/', include('cart.urls', namespace='cart')),\n",
        "    path('orders/', include('orders.urls', namespace='orders')),\n",
        "    path('payment/', include('payment.urls', namespace='payment')),\n",
        "    path('', include('shop.urls', namespace='shop')),\n",
        "]"
      ],
      "metadata": {
        "id": "FjnZJEKSfbug"
      },
      "execution_count": null,
      "outputs": []
    },
    {
      "cell_type": "markdown",
      "source": [
        "- payment/templates/payment/process.html"
      ],
      "metadata": {
        "id": "n0Uw_2JnfrTY"
      }
    },
    {
      "cell_type": "code",
      "source": [
        "{% extends \"shop/base.html\" %}\n",
        "{% load static %}\n",
        "\n",
        "{% block title %}Pay your order{% endblock %}\n",
        "\n",
        "{% block content %}\n",
        "    <h1>Order summary</h1>\n",
        "    <table class=\"cart\">\n",
        "        <thead>\n",
        "            <tr>\n",
        "                <th>Image</th>\n",
        "                <th>Product</th>\n",
        "                <th>Price</th>\n",
        "                <th>Quantity</th>\n",
        "                <th>Total</th>\n",
        "            </tr>\n",
        "        </thead>\n",
        "        <tbody>\n",
        "            {% for item in order.items.all %}\n",
        "                <tr class=\"row{% cycle \"1\" \"2\" %}\">\n",
        "                    <td>\n",
        "                        <img src=\"{% if item.product.image %}{{ item.product.image.url }}\n",
        "                        {% else %}{% static \"img/no_image.png\" %}{% endif %}\">\n",
        "                    </td>\n",
        "                    <td>{{ item.product.name }}</td>\n",
        "                    <td class=\"num\">${{ item.price }}</td>\n",
        "                    <td class=\"num\">{{ item.quantity }}</td>\n",
        "                    <td class=\"num\">${{ item.get_cost }}</td>\n",
        "                </tr>\n",
        "            {% endfor %}\n",
        "            <tr class=\"total\">\n",
        "                <td colspan=\"4\">Total</td>\n",
        "                <td class=\"num\">${{ order.get_total_cost }}</td>\n",
        "            </tr>\n",
        "        </tbody>\n",
        "    </table>\n",
        "    <form action=\"{% url \"payment:process\" %}\" method=\"post\">\n",
        "        <input type=\"submit\" value=\"Pay now\">\n",
        "        {% csrf_token %}\n",
        "    </form>\n",
        "{% endblock %}"
      ],
      "metadata": {
        "id": "q0rnkVFjf7Dh"
      },
      "execution_count": null,
      "outputs": []
    },
    {
      "cell_type": "markdown",
      "source": [
        "- payment/templates/payment/completed.html"
      ],
      "metadata": {
        "id": "jqm0k0SNf0JV"
      }
    },
    {
      "cell_type": "code",
      "source": [
        "{% extends \"shop/base.html\" %}\n",
        "\n",
        "{% block title %}Payment successful{% endblock %}\n",
        "\n",
        "{% block content %}\n",
        "    <h1>Your payment was successful</h1>\n",
        "    <p>Your payment has been processed successfully.</p>\n",
        "{% endblock %}"
      ],
      "metadata": {
        "id": "ezcEGzvggQCd"
      },
      "execution_count": null,
      "outputs": []
    },
    {
      "cell_type": "markdown",
      "source": [
        "- payment/templates/payment/canceled.html"
      ],
      "metadata": {
        "id": "aEKe61POfz75"
      }
    },
    {
      "cell_type": "code",
      "source": [
        "{% extends \"shop/base.html\" %}\n",
        "\n",
        "{% block title %}Payment canceled{% endblock %}\n",
        "\n",
        "{% block content %}\n",
        "    <h1>Your payment has not been processed</h1>\n",
        "    <p>There was a problem processing your payment.</p>\n",
        "{% endblock %}"
      ],
      "metadata": {
        "id": "PAnjADMqgUbc"
      },
      "execution_count": null,
      "outputs": []
    },
    {
      "cell_type": "markdown",
      "source": [
        "#### 1.1.3 결제 프로세스 테스트하기"
      ],
      "metadata": {
        "id": "uu2r3MNcMy7n"
      }
    },
    {
      "cell_type": "markdown",
      "source": [
        "- RabbitMQ 서버 시작"
      ],
      "metadata": {
        "id": "tpNhDni1gh4T"
      }
    },
    {
      "cell_type": "code",
      "source": [
        "docker run -it --rm --name rabbitmq -p 5672:5672 -p 15672:15672 rabbitmq:management"
      ],
      "metadata": {
        "id": "R6-ecnDeM4oR"
      },
      "execution_count": null,
      "outputs": []
    },
    {
      "cell_type": "markdown",
      "source": [
        "- Celery 워커 시작"
      ],
      "metadata": {
        "id": "hxofT-dsg0WJ"
      }
    },
    {
      "cell_type": "code",
      "source": [
        "celery -A myshop worker -l info"
      ],
      "metadata": {
        "id": "hB4E0duWg7hp"
      },
      "execution_count": null,
      "outputs": []
    },
    {
      "cell_type": "markdown",
      "source": [
        "- 개발 서버 시작"
      ],
      "metadata": {
        "id": "JawIqoB8g80Q"
      }
    },
    {
      "cell_type": "code",
      "source": [
        "python manage.py runserver"
      ],
      "metadata": {
        "id": "oqkUu87VhAR1"
      },
      "execution_count": null,
      "outputs": []
    },
    {
      "cell_type": "markdown",
      "source": [
        "- 테스트 신용카드 사용하기\n",
        "\n",
        "|결과|테스트 카드 번호|CVC|카드 유효 기간|\n",
        "|----|----|----|----|\n",
        "|결제 성공|4242 4242 4242 4242|아무 숫자 세자리|향후의 아무 날짜|\n",
        "|결제 실패|4000 0000 0000 0002|아무 숫자 세자리|향후의 아무 날짜|\n",
        "|3D 보안 인증 필요|4000 0025 0000 3155|아무 숫자 세자리|향후의 아무 날짜|"
      ],
      "metadata": {
        "id": "WCK87rn9hHjt"
      }
    },
    {
      "cell_type": "markdown",
      "source": [
        "#### 1.1.4 결제 알림 처리하기"
      ],
      "metadata": {
        "id": "aj5wzE5fM5mj"
      }
    },
    {
      "cell_type": "markdown",
      "source": [
        "- 웹후크(Webhook)를 이용한 결제 알림 처리\n",
        "    - Stripe는 웹후크를 사용하여 실시간 이벤트를 애플리케이션에 푸시할 수 있음\n",
        "    - 웹후크(Webhook)\n",
        "        - 콜백이라고도 부름\n",
        "        - 요청 중심의 API가 아닌 이벤트 중심의 API\n",
        "    - 새로운 결제가 완료되었는지 확인하기 위해 Stripe API를 자주 폴링할 필요가 없음\n",
        "    - Stripe가 애플리케이션의 URL로 HTTP 요청을 전송해서 결제 성공 여부를 실시간으로 알려줌\n",
        "    - 이벤트의 알림은 Stripe API에 대한 동기식 호출과 관계없이 비동기식으로 실행됨"
      ],
      "metadata": {
        "id": "UB8UCbp_ipzg"
      }
    },
    {
      "cell_type": "markdown",
      "source": [
        "- 웹후크 앤드 포인트 만들기\n",
        "    - Stripe 계정에 웹후크 앤드 포인트 URL을 추가해서 이벤트를 수신할 수 있음\n",
        "    - 웹후크를 사용하지만 공개 URL을 통해 액세스할 수 있는 호스팅된 웹 사이트가 없으므로 Stripe CLI를 사용하여 이벤트를 수신하고 로컬 환경으로 전달함\n",
        "    - https://dashboard.strip.com/test/webhooks\n",
        "        <br><br>\n",
        "        <img src=\"https://github.com/aidalabs/Lectures/blob/main/LectureFiles/images/Web_009_Stripe_005.png?raw=true\" align=\"center\">"
      ],
      "metadata": {
        "id": "NeWrIVowj4_C"
      }
    },
    {
      "cell_type": "markdown",
      "source": [
        "- myshop/settings.py"
      ],
      "metadata": {
        "id": "MnLYqYKrmnaa"
      }
    },
    {
      "cell_type": "code",
      "source": [
        "STRIPE_WEBHOOK_SECRET = \"***\""
      ],
      "metadata": {
        "id": "R33NYvt9M9wS"
      },
      "execution_count": null,
      "outputs": []
    },
    {
      "cell_type": "markdown",
      "source": [
        "- payment/webhooks.py"
      ],
      "metadata": {
        "id": "jaGQGvHZmxtj"
      }
    },
    {
      "cell_type": "code",
      "source": [
        "import stripe\n",
        "from django.conf import settings\n",
        "from django.http import HttpResponse\n",
        "from django.views.decorators.csrf import csrf_exempt\n",
        "from orders.models import Order\n",
        "\n",
        "\n",
        "@csrf_exempt\n",
        "def stripe_webhook(request):\n",
        "    payload = request.body\n",
        "    sig_header = request.META['HTTP_STRIPE_SIGNATURE']\n",
        "    event = None\n",
        "\n",
        "    try:\n",
        "        event = stripe.Webhook.construct_event(\n",
        "                    payload,\n",
        "                    sig_header,\n",
        "                    settings.STRIPE_WEBHOOK_SECRET)\n",
        "    except ValueError as e:\n",
        "        # 잘못된 페이로드\n",
        "        return HttpResponse(status=400)\n",
        "    except stripe.error.SignatureVerificationError as e:\n",
        "        # 잘못된 서명\n",
        "        return HttpResponse(status=400)\n",
        "\n",
        "    if event.type == 'checkout.session.completed':\n",
        "        session = event.data.object\n",
        "        if session.mode == 'payment' and session.payment_status == 'paid':\n",
        "            try:\n",
        "                order = Order.objects.get(id=session.client_reference_id)\n",
        "            except Order.DoesNotExist:\n",
        "                return HttpResponse(status=404)\n",
        "            # 주문을 결제 완료로 표시\n",
        "            order.paid = True\n",
        "            order.save()\n",
        "\n",
        "    return HttpResponse(status=200)"
      ],
      "metadata": {
        "id": "ZNRSKgmAm0RA"
      },
      "execution_count": null,
      "outputs": []
    },
    {
      "cell_type": "markdown",
      "source": [
        "- payment/urls.py"
      ],
      "metadata": {
        "id": "MlJSld3JnoaA"
      }
    },
    {
      "cell_type": "code",
      "source": [
        "...\n",
        "from payment import webhooks\n",
        "\n",
        "app_name = 'payment'\n",
        "\n",
        "urlpatterns = [\n",
        "    ...\n",
        "    path('webhook/', webhooks.stripe_webhook, name='stripe-webhook'),\n",
        "]"
      ],
      "metadata": {
        "id": "71eh7kjYnrHr"
      },
      "execution_count": null,
      "outputs": []
    },
    {
      "cell_type": "markdown",
      "source": [
        "- Stripe CLI 설치\n",
        "    - Stripe Site Webhook 참고\n",
        "        <img src=\"https://github.com/aidalabs/Lectures/blob/main/LectureFiles/images/Web_009_Stripe_006.png?raw=true\" align=\"center\">"
      ],
      "metadata": {
        "id": "WP0GBxqin1EH"
      }
    },
    {
      "cell_type": "code",
      "source": [],
      "metadata": {
        "id": "dRfKj1XPn6X1"
      },
      "execution_count": null,
      "outputs": []
    }
  ]
}