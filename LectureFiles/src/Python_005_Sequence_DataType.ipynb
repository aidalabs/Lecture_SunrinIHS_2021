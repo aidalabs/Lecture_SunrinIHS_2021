{
  "nbformat": 4,
  "nbformat_minor": 0,
  "metadata": {
    "colab": {
      "provenance": []
    },
    "kernelspec": {
      "name": "python3",
      "display_name": "Python 3"
    },
    "language_info": {
      "name": "python"
    }
  },
  "cells": [
    {
      "cell_type": "markdown",
      "source": [
        "# **Sequence Data Type**"
      ],
      "metadata": {
        "id": "Nq19ZJtSqAb0"
      }
    },
    {
      "cell_type": "markdown",
      "source": [
        "- 여러 원자로 구성된 자료형\n",
        "- Sequence 자료형의 특징\n",
        "    - 다양한 클래스(문자열, List, Tuple, bytes, bytearray 등)가 존재함\n",
        "    - 순서에 따라 데이터가 저장되며, 이 연속적인 순서에 따라 검색이 가능함\n",
        "    - 데이터에 순서가 부여되어 있으므로 Index를 이용해서 검색이 가능하며, 슬라이스로 부분 검색도 가능함\n",
        "    - 동일한 타입의 원소를 가질 수도 있고 List처럼 객체를 원소로 가질 수도 있음\n",
        "    - 특정 자료형은 한 번 생성되면 원소를 변경할 수 없고, 다른 경우에는 원소들을 변경할 수 있음\n"
      ],
      "metadata": {
        "id": "ZaiYHyVqqI1Q"
      }
    },
    {
      "cell_type": "markdown",
      "source": [
        "- Sequence 자료형의 종류별 특징\n",
        "    - 문자열(str): UniCode 문자의 순서대로 처리됨\n",
        "    - bytes, bytearray: ASCII 문자의 순서대로 처리됨\n",
        "    - List, Tuple: 다양한 객체를 넣을 수 있으므로 다양한 원소를 가진 Collection을 구성함\n",
        "    \n"
      ],
      "metadata": {
        "id": "opimjsFAsN_s"
      }
    },
    {
      "cell_type": "markdown",
      "source": [
        "- 데이터 불변성\n",
        "    - 문자열(str), Tuple, bytes: 한 번 생성되면 원소를 변경할 수 없음\n",
        "    - List, bytearray: 생성된 후, 원소 추가 및 생성, 변경 가능"
      ],
      "metadata": {
        "id": "g_TYdSlutugG"
      }
    },
    {
      "cell_type": "markdown",
      "source": [
        "- 내부 메서드의 처리\n",
        "    - 변경 가능한 자료형(List 등)\n",
        "        - 내부 메서드가 실행되면 내부 원소를 변경함\n",
        "    - 변경 불가능한 자료형(문자열 등)\n",
        "        - 내부 메서드가 실행되면 새로운 인스턴스를 생성함\n",
        "        - 생성자로 생성할 때 기존에 만들어진 인스턴스에 대해서는 새로 만든 것이 아니라 만들어져 있는 것을 반환하는 interning 처리를 수행함"
      ],
      "metadata": {
        "id": "DvA8riN7uGJ0"
      }
    },
    {
      "cell_type": "markdown",
      "source": [
        "## **1. Sequence 자료형의 특징**"
      ],
      "metadata": {
        "id": "sXhQX3Mdoocm"
      }
    },
    {
      "cell_type": "markdown",
      "source": [
        "### 1.1 Runtime에 속성 추가 여부"
      ],
      "metadata": {
        "id": "eFwqO9HZwbnp"
      }
    },
    {
      "cell_type": "markdown",
      "source": [
        "- 파이썬 내장 자료형은 런타임에 속성의 추가가 불가능함\n",
        "    - Cython엔진이 실행되는 Python의 경우\n",
        "        - C 언어로 제공되는 공통기능에 대한 일관성을 유지하기 위하여 내장 자료형은 변경할 수 없도록 차단함\n",
        "    - 클래스나 인스턴스에서 속성이나 메서드를 관리하는 네임스페이스(__ dict __) 속성이 없는 경우\n",
        "        - 접근해서 갱신, 삭제를 하는 것이 불가능함\n",
        "        - 내부에 만들어진 속성이나 메서드만 사용 가능\n",
        "        - 다른 기능과 속성을 추가하고 싶을 때는 클래스를 상속받고 사용자 클래스를 만들어서 추가 속성과 기능의 확장을 이용함"
      ],
      "metadata": {
        "id": "RQEWYUaavBaw"
      }
    },
    {
      "cell_type": "markdown",
      "source": [
        "- Sequence 내장 타입의 인스턴스 Namespce 미존재\n",
        "    - List를 리터럴로 생성하고 이 List 인스턴스에 네임스페이스를 조회하면 예외가 발생함"
      ],
      "metadata": {
        "id": "HTXpBdl9wtR1"
      }
    },
    {
      "cell_type": "code",
      "source": [
        "# 내부 속성에 네임스페이스(__dict__)가 존재하지 않음\n",
        "l = [1,2,3]\n",
        "l.__dict__"
      ],
      "metadata": {
        "colab": {
          "base_uri": "https://localhost:8080/",
          "height": 176
        },
        "id": "wSyOpu89wx7y",
        "outputId": "62551d49-6360-4468-efb5-6487e39ee5d9"
      },
      "execution_count": null,
      "outputs": [
        {
          "output_type": "error",
          "ename": "AttributeError",
          "evalue": "'list' object has no attribute '__dict__'",
          "traceback": [
            "\u001b[0;31m---------------------------------------------------------------------------\u001b[0m",
            "\u001b[0;31mAttributeError\u001b[0m                            Traceback (most recent call last)",
            "\u001b[0;32m<ipython-input-2-e8587ae1a45f>\u001b[0m in \u001b[0;36m<cell line: 3>\u001b[0;34m()\u001b[0m\n\u001b[1;32m      1\u001b[0m \u001b[0;31m# 내부 속성에 네임스페이스(__dict__)가 존재하지 않음\u001b[0m\u001b[0;34m\u001b[0m\u001b[0;34m\u001b[0m\u001b[0m\n\u001b[1;32m      2\u001b[0m \u001b[0ml\u001b[0m \u001b[0;34m=\u001b[0m \u001b[0;34m[\u001b[0m\u001b[0;36m1\u001b[0m\u001b[0;34m,\u001b[0m\u001b[0;36m2\u001b[0m\u001b[0;34m,\u001b[0m\u001b[0;36m3\u001b[0m\u001b[0;34m]\u001b[0m\u001b[0;34m\u001b[0m\u001b[0;34m\u001b[0m\u001b[0m\n\u001b[0;32m----> 3\u001b[0;31m \u001b[0ml\u001b[0m\u001b[0;34m.\u001b[0m\u001b[0m__dict__\u001b[0m\u001b[0;34m\u001b[0m\u001b[0;34m\u001b[0m\u001b[0m\n\u001b[0m",
            "\u001b[0;31mAttributeError\u001b[0m: 'list' object has no attribute '__dict__'"
          ]
        }
      ]
    },
    {
      "cell_type": "code",
      "source": [
        "# 리스트를 상속한 List 클래스를 정의하고 추가적인 속성으로 name을 만든 후\n",
        "# List 클래스의 인스턴스를 생성하고 네임스페이스를 확인하면 name 속성이 있는 것을 알 수 있음\n",
        "class List(list):\n",
        "    def __init__(self, name, value):\n",
        "        super().__init__(value)\n",
        "        self.name = name\n",
        "\n",
        "l = List(\"리스트\", [1, 2, 3])\n",
        "print(l.__dict__)"
      ],
      "metadata": {
        "colab": {
          "base_uri": "https://localhost:8080/"
        },
        "id": "N3nHEDBYxaHW",
        "outputId": "cb763a4e-5f6c-4b0a-bfbf-7ff29df2aa79"
      },
      "execution_count": null,
      "outputs": [
        {
          "output_type": "stream",
          "name": "stdout",
          "text": [
            "{'name': '리스트'}\n"
          ]
        }
      ]
    },
    {
      "cell_type": "code",
      "source": [
        "# 리스트에 대한 원소들은 부모 클래스 리스트 내부에 생성했으므로 부모 리스트 클래스의 메서드를 그대로 사용해서 처리가 가능함\n",
        "print(l+l)\n",
        "print(l.__dict__)"
      ],
      "metadata": {
        "colab": {
          "base_uri": "https://localhost:8080/"
        },
        "id": "8mRk3F-SyEin",
        "outputId": "c06d59e4-a384-4d7f-da84-9bd80624497c"
      },
      "execution_count": null,
      "outputs": [
        {
          "output_type": "stream",
          "name": "stdout",
          "text": [
            "[1, 2, 3, 1, 2, 3]\n",
            "{'name': '리스트'}\n"
          ]
        }
      ]
    },
    {
      "cell_type": "markdown",
      "source": [
        "### 1.2 변경 가능 여부: Mutable & Immutable"
      ],
      "metadata": {
        "id": "zCbN4BQTycFL"
      }
    },
    {
      "cell_type": "markdown",
      "source": [
        "- 변경 가능(Mutable)과 변경 불가능(Immutable)에 대한 기본 개념 중 변경 가능하다는 말은 객체 내부의 원소들을 추가, 삭제, 변경할 수 있다는 의미이지만 객체 자신을 변경할 수 있다는 말은 아님"
      ],
      "metadata": {
        "id": "RsS0kDyAym6c"
      }
    },
    {
      "cell_type": "markdown",
      "source": [
        "#### 1.2.1 문자열은 변경 불가"
      ],
      "metadata": {
        "id": "k6cC-nlGzB4g"
      }
    },
    {
      "cell_type": "markdown",
      "source": [
        "- 문자열을 리터럴로 정의하고 첫 번째 원소의 값을 변경할 경우, 변경이 불가능하다는 예외가 발생함"
      ],
      "metadata": {
        "id": "AUeLQy2ZzL4c"
      }
    },
    {
      "cell_type": "code",
      "source": [
        "s = \"창덕\"\n",
        "\n",
        "print(s[0])\n",
        "s[0] = \"성\""
      ],
      "metadata": {
        "colab": {
          "base_uri": "https://localhost:8080/",
          "height": 193
        },
        "id": "RcZ-q8yCzITC",
        "outputId": "9bb05ed8-240b-4e3f-bd94-04d5bddb977c"
      },
      "execution_count": null,
      "outputs": [
        {
          "output_type": "stream",
          "name": "stdout",
          "text": [
            "창\n"
          ]
        },
        {
          "output_type": "error",
          "ename": "TypeError",
          "evalue": "'str' object does not support item assignment",
          "traceback": [
            "\u001b[0;31m---------------------------------------------------------------------------\u001b[0m",
            "\u001b[0;31mTypeError\u001b[0m                                 Traceback (most recent call last)",
            "\u001b[0;32m<ipython-input-5-ecc1193887a8>\u001b[0m in \u001b[0;36m<cell line: 4>\u001b[0;34m()\u001b[0m\n\u001b[1;32m      2\u001b[0m \u001b[0;34m\u001b[0m\u001b[0m\n\u001b[1;32m      3\u001b[0m \u001b[0mprint\u001b[0m\u001b[0;34m(\u001b[0m\u001b[0ms\u001b[0m\u001b[0;34m[\u001b[0m\u001b[0;36m0\u001b[0m\u001b[0;34m]\u001b[0m\u001b[0;34m)\u001b[0m\u001b[0;34m\u001b[0m\u001b[0;34m\u001b[0m\u001b[0m\n\u001b[0;32m----> 4\u001b[0;31m \u001b[0ms\u001b[0m\u001b[0;34m[\u001b[0m\u001b[0;36m0\u001b[0m\u001b[0;34m]\u001b[0m \u001b[0;34m=\u001b[0m \u001b[0;34m\"성\"\u001b[0m\u001b[0;34m\u001b[0m\u001b[0;34m\u001b[0m\u001b[0m\n\u001b[0m",
            "\u001b[0;31mTypeError\u001b[0m: 'str' object does not support item assignment"
          ]
        }
      ]
    },
    {
      "cell_type": "markdown",
      "source": [
        "- 변경할 수 없다는 뜻은 변경하기 위한 __ setitem __ 메서드가 만들어져 있지 않다는 의미임"
      ],
      "metadata": {
        "id": "7jxj0JmfzkXK"
      }
    },
    {
      "cell_type": "code",
      "source": [
        "str.__setitem__"
      ],
      "metadata": {
        "colab": {
          "base_uri": "https://localhost:8080/",
          "height": 141
        },
        "id": "zaJwM49wzlWW",
        "outputId": "6aac9d20-0cbf-4a0c-b3d1-960de5f21e62"
      },
      "execution_count": null,
      "outputs": [
        {
          "output_type": "error",
          "ename": "AttributeError",
          "evalue": "type object 'str' has no attribute '__setitem__'",
          "traceback": [
            "\u001b[0;31m---------------------------------------------------------------------------\u001b[0m",
            "\u001b[0;31mAttributeError\u001b[0m                            Traceback (most recent call last)",
            "\u001b[0;32m<ipython-input-6-fbea0c2e5ae6>\u001b[0m in \u001b[0;36m<cell line: 1>\u001b[0;34m()\u001b[0m\n\u001b[0;32m----> 1\u001b[0;31m \u001b[0mstr\u001b[0m\u001b[0;34m.\u001b[0m\u001b[0m__setitem__\u001b[0m\u001b[0;34m\u001b[0m\u001b[0;34m\u001b[0m\u001b[0m\n\u001b[0m",
            "\u001b[0;31mAttributeError\u001b[0m: type object 'str' has no attribute '__setitem__'"
          ]
        }
      ]
    },
    {
      "cell_type": "markdown",
      "source": [
        "#### 1.2.2 Tuple은 변경 불가"
      ],
      "metadata": {
        "id": "lWYfH6YJzEar"
      }
    },
    {
      "cell_type": "markdown",
      "source": [
        "- Tuple을 리터럴로 정의하고 첫 번째 원소의 값을 변경할 경우, 문자열과 동일하게 원소 변경이 불가능하다는 예외가 발생함"
      ],
      "metadata": {
        "id": "DZACbya6zuFj"
      }
    },
    {
      "cell_type": "code",
      "source": [
        "t = (\"고\",\"요\",\"한\")\n",
        "\n",
        "print(t[0])\n",
        "t[0] = \"김\""
      ],
      "metadata": {
        "colab": {
          "base_uri": "https://localhost:8080/",
          "height": 193
        },
        "id": "gGZmOUd7xaBL",
        "outputId": "3aeab0b4-d996-40dd-f40b-b417752124bb"
      },
      "execution_count": null,
      "outputs": [
        {
          "output_type": "stream",
          "name": "stdout",
          "text": [
            "고\n"
          ]
        },
        {
          "output_type": "error",
          "ename": "TypeError",
          "evalue": "'tuple' object does not support item assignment",
          "traceback": [
            "\u001b[0;31m---------------------------------------------------------------------------\u001b[0m",
            "\u001b[0;31mTypeError\u001b[0m                                 Traceback (most recent call last)",
            "\u001b[0;32m<ipython-input-7-afe42b876a96>\u001b[0m in \u001b[0;36m<cell line: 4>\u001b[0;34m()\u001b[0m\n\u001b[1;32m      2\u001b[0m \u001b[0;34m\u001b[0m\u001b[0m\n\u001b[1;32m      3\u001b[0m \u001b[0mprint\u001b[0m\u001b[0;34m(\u001b[0m\u001b[0mt\u001b[0m\u001b[0;34m[\u001b[0m\u001b[0;36m0\u001b[0m\u001b[0;34m]\u001b[0m\u001b[0;34m)\u001b[0m\u001b[0;34m\u001b[0m\u001b[0;34m\u001b[0m\u001b[0m\n\u001b[0;32m----> 4\u001b[0;31m \u001b[0mt\u001b[0m\u001b[0;34m[\u001b[0m\u001b[0;36m0\u001b[0m\u001b[0;34m]\u001b[0m \u001b[0;34m=\u001b[0m \u001b[0;34m\"김\"\u001b[0m\u001b[0;34m\u001b[0m\u001b[0;34m\u001b[0m\u001b[0m\n\u001b[0m",
            "\u001b[0;31mTypeError\u001b[0m: 'tuple' object does not support item assignment"
          ]
        }
      ]
    },
    {
      "cell_type": "markdown",
      "source": [
        "- 변경할 수 없다는 뜻은 Tuple 역시 변경하기 위한 __ setitem __ 메서드가 만들어져 있지 않다는 의미임"
      ],
      "metadata": {
        "id": "71P8D6Jyz5m_"
      }
    },
    {
      "cell_type": "code",
      "source": [
        "tuple.__setitem__"
      ],
      "metadata": {
        "colab": {
          "base_uri": "https://localhost:8080/",
          "height": 141
        },
        "id": "omKo4Qtpz-8W",
        "outputId": "e4bd21dd-791c-44f5-9a37-1959fd64be42"
      },
      "execution_count": null,
      "outputs": [
        {
          "output_type": "error",
          "ename": "AttributeError",
          "evalue": "type object 'tuple' has no attribute '__setitem__'",
          "traceback": [
            "\u001b[0;31m---------------------------------------------------------------------------\u001b[0m",
            "\u001b[0;31mAttributeError\u001b[0m                            Traceback (most recent call last)",
            "\u001b[0;32m<ipython-input-8-320ea2c5e2bc>\u001b[0m in \u001b[0;36m<cell line: 1>\u001b[0;34m()\u001b[0m\n\u001b[0;32m----> 1\u001b[0;31m \u001b[0mtuple\u001b[0m\u001b[0;34m.\u001b[0m\u001b[0m__setitem__\u001b[0m\u001b[0;34m\u001b[0m\u001b[0;34m\u001b[0m\u001b[0m\n\u001b[0m",
            "\u001b[0;31mAttributeError\u001b[0m: type object 'tuple' has no attribute '__setitem__'"
          ]
        }
      ]
    },
    {
      "cell_type": "markdown",
      "source": [
        "#### 1.2.3 변경 가능한(Mutable) 자료형"
      ],
      "metadata": {
        "id": "gHljiYZN0J6O"
      }
    },
    {
      "cell_type": "code",
      "source": [
        "l = [\"전\",\"민\",\"수\"]\n",
        "\n",
        "print(type(l))\n",
        "l[0] = \"김\"\n",
        "\n",
        "print(l)"
      ],
      "metadata": {
        "colab": {
          "base_uri": "https://localhost:8080/"
        },
        "id": "Prxvn07b0S1W",
        "outputId": "7b8eda18-9006-4be7-963a-f8554d82c9d6"
      },
      "execution_count": null,
      "outputs": [
        {
          "output_type": "stream",
          "name": "stdout",
          "text": [
            "<class 'list'>\n",
            "['김', '민', '수']\n"
          ]
        }
      ]
    },
    {
      "cell_type": "code",
      "source": [
        "list.__setitem__"
      ],
      "metadata": {
        "colab": {
          "base_uri": "https://localhost:8080/"
        },
        "id": "eltSZGr20W7n",
        "outputId": "bfa799c8-4696-47d8-adac-e59ff1b9790c"
      },
      "execution_count": null,
      "outputs": [
        {
          "output_type": "execute_result",
          "data": {
            "text/plain": [
              "<slot wrapper '__setitem__' of 'list' objects>"
            ]
          },
          "metadata": {},
          "execution_count": 10
        }
      ]
    },
    {
      "cell_type": "code",
      "source": [
        "list.__delitem__"
      ],
      "metadata": {
        "colab": {
          "base_uri": "https://localhost:8080/"
        },
        "id": "jbCIuivU0a3u",
        "outputId": "926922f1-882c-44d6-db27-f2b4330eab05"
      },
      "execution_count": null,
      "outputs": [
        {
          "output_type": "execute_result",
          "data": {
            "text/plain": [
              "<slot wrapper '__delitem__' of 'list' objects>"
            ]
          },
          "metadata": {},
          "execution_count": 11
        }
      ]
    },
    {
      "cell_type": "markdown",
      "source": [
        "### 1.3 Collection 여부"
      ],
      "metadata": {
        "id": "lOGSQ5oU0ff0"
      }
    },
    {
      "cell_type": "markdown",
      "source": [
        "- Collection이란 다양한 원소를 가진 데이터 구조를 말함(Sequence 자료형은 기본적으로 Collection)\n",
        "- Collection 여부는 원소 개수, 포함 관계, 반복 가능 여부를 확인할 수 있으면 됨"
      ],
      "metadata": {
        "id": "uuZ3QvK40mey"
      }
    },
    {
      "cell_type": "markdown",
      "source": [
        "#### 1.3.1 자료형 내의 원소의 개수 확인: len()"
      ],
      "metadata": {
        "id": "f3kI-XjZ1Wac"
      }
    },
    {
      "cell_type": "markdown",
      "source": [
        "- 파이썬 3 버전에서는 문자열이 UniCode로 되어 있으므로 문자코드 단위, 즉 문자 단위로 길이를 표시함"
      ],
      "metadata": {
        "id": "8ZtCs-Bf1dyN"
      }
    },
    {
      "cell_type": "code",
      "source": [
        "s = \"강대명\"\n",
        "l = [\"고\",\"요\",\"한\"]\n",
        "\n",
        "print(len(s))\n",
        "print(len(l))"
      ],
      "metadata": {
        "colab": {
          "base_uri": "https://localhost:8080/"
        },
        "id": "LWRMYlbP063B",
        "outputId": "1a33d675-b840-4fc9-e32c-4cd7ad95b28f"
      },
      "execution_count": null,
      "outputs": [
        {
          "output_type": "stream",
          "name": "stdout",
          "text": [
            "3\n",
            "3\n"
          ]
        }
      ]
    },
    {
      "cell_type": "markdown",
      "source": [
        "#### 1.3.2 반복형을 반복자로 변환: iter()"
      ],
      "metadata": {
        "id": "1l_VWd761lfW"
      }
    },
    {
      "cell_type": "markdown",
      "source": [
        "- Sequence 자료형들은 내부에 원소들이 없거나 연속적으로 들어 있어 반복해서 원소를 읽을 수 있으므로 반복형(Iterable)으로 처리가 가능함\n",
        "- 반복자를 생성하는 iter() 함수로 호출하려면 내부에 반드시 __ iter __ 스페셜 메서드가 존재해야 함\n",
        "    - 그러나 기존 버전과의 호환성 유지를 위해 __ getitem __이 구현되어 잇으면 이를 호출해서 반복자로 처리하도록 만들어 줌"
      ],
      "metadata": {
        "id": "FcUmA2EC1pl7"
      }
    },
    {
      "cell_type": "code",
      "source": [
        "s = \"강대명\"\n",
        "si = iter(s)\n",
        "print(si)\n",
        "\n",
        "for i in si :\n",
        "    print(i)"
      ],
      "metadata": {
        "colab": {
          "base_uri": "https://localhost:8080/"
        },
        "id": "ZKVslB2r1CN2",
        "outputId": "6844ca28-24be-4bba-b2a0-49628703f42e"
      },
      "execution_count": null,
      "outputs": [
        {
          "output_type": "stream",
          "name": "stdout",
          "text": [
            "<str_iterator object at 0x78f5e59aa020>\n",
            "강\n",
            "대\n",
            "명\n"
          ]
        }
      ]
    },
    {
      "cell_type": "code",
      "source": [
        "l = [\"고\",\"요\",\"한\"]\n",
        "li = iter(l)\n",
        "print(li)\n",
        "\n",
        "for i in li :\n",
        "    print(i)"
      ],
      "metadata": {
        "colab": {
          "base_uri": "https://localhost:8080/"
        },
        "id": "vG7TrDFC2JyS",
        "outputId": "0ebdb1fb-a8f1-4fa4-d785-5d789c1f7b23"
      },
      "execution_count": null,
      "outputs": [
        {
          "output_type": "stream",
          "name": "stdout",
          "text": [
            "<list_iterator object at 0x78f5e59aaec0>\n",
            "고\n",
            "요\n",
            "한\n"
          ]
        }
      ]
    },
    {
      "cell_type": "markdown",
      "source": [
        "#### 1.3.3 Sequence 자료형 내에 원소 포함여부 확인: in 연산자"
      ],
      "metadata": {
        "id": "NA7bnfVr2MV1"
      }
    },
    {
      "cell_type": "code",
      "source": [
        "s = \"강대명\"\n",
        "print(\"대\" in s)\n",
        "\n",
        "l = [\"고\",\"요\",\"한\"]\n",
        "print(\"한\" in l)"
      ],
      "metadata": {
        "colab": {
          "base_uri": "https://localhost:8080/"
        },
        "id": "-brrWh8g2fM1",
        "outputId": "699f0ba2-0ab6-4989-e843-396d748d6f2a"
      },
      "execution_count": null,
      "outputs": [
        {
          "output_type": "stream",
          "name": "stdout",
          "text": [
            "True\n",
            "True\n"
          ]
        }
      ]
    },
    {
      "cell_type": "markdown",
      "source": [
        "### 1.4 Sequence 자료형 내의 메서드 처리 기준"
      ],
      "metadata": {
        "id": "HLvTkf172iCW"
      }
    },
    {
      "cell_type": "markdown",
      "source": [
        "#### 1.4.1 내장 메서드 처리 기준"
      ],
      "metadata": {
        "id": "OXNZcQ5_2wvk"
      }
    },
    {
      "cell_type": "markdown",
      "source": [
        "- 변경 가능한 자료형의 메소드는 내부를 갱신"
      ],
      "metadata": {
        "id": "FynnR80O20gx"
      }
    },
    {
      "cell_type": "code",
      "source": [
        "l = [\"고\",\"가\",\"한\"]\n",
        "c = l.sort()\n",
        "\n",
        "print(c)\n",
        "print(l)"
      ],
      "metadata": {
        "colab": {
          "base_uri": "https://localhost:8080/"
        },
        "id": "DA1uYzOM23oW",
        "outputId": "65e50f30-a4f8-4b47-8bba-0c791ad11584"
      },
      "execution_count": null,
      "outputs": [
        {
          "output_type": "stream",
          "name": "stdout",
          "text": [
            "None\n",
            "['가', '고', '한']\n"
          ]
        }
      ]
    },
    {
      "cell_type": "markdown",
      "source": [
        "- 변경 불가능한 경우는 별도의 객체를 만들어서 반환 처리"
      ],
      "metadata": {
        "id": "q6dXVYl529qf"
      }
    },
    {
      "cell_type": "code",
      "source": [
        "s = \"강대명\"\n",
        "sr = s.replace(\"명\",\"한\")\n",
        "\n",
        "print(id(s), s)\n",
        "print(id(sr),sr)"
      ],
      "metadata": {
        "colab": {
          "base_uri": "https://localhost:8080/"
        },
        "id": "6wnWu0cb2-lO",
        "outputId": "28322b9d-d517-4c84-e419-f42604a6e202"
      },
      "execution_count": null,
      "outputs": [
        {
          "output_type": "stream",
          "name": "stdout",
          "text": [
            "132997515009008 강대명\n",
            "132997515156000 강대한\n"
          ]
        }
      ]
    },
    {
      "cell_type": "markdown",
      "source": [
        "### 1.5 interning 처리"
      ],
      "metadata": {
        "id": "pfAoTG-q3FYo"
      }
    },
    {
      "cell_type": "markdown",
      "source": [
        "- interning 이란?\n",
        "    - 기존에 만들어진 변경이 불가능한 Sequence 자료형이 있을 경우\n",
        "    - 생성자를 통해 인스턴스를 다시 생성하면\n",
        "    - 새로운 인스턴스를 만드는 것이 아니라 기존에 있는 것을 불러다 반환하는 처리 방식"
      ],
      "metadata": {
        "id": "nGpZPtVT3FVe"
      }
    },
    {
      "cell_type": "markdown",
      "source": [
        "- 변경불가능한 자료형의  interning 처리"
      ],
      "metadata": {
        "id": "opEcYbpP3FSj"
      }
    },
    {
      "cell_type": "code",
      "source": [
        "t = (\"고\",\"가\",\"한\")\n",
        "ti = tuple(t)\n",
        "print(t is ti)"
      ],
      "metadata": {
        "colab": {
          "base_uri": "https://localhost:8080/"
        },
        "id": "4YJnflPe3yeb",
        "outputId": "b0bf89fd-313b-4a85-8f15-a4febb1d3a08"
      },
      "execution_count": null,
      "outputs": [
        {
          "output_type": "stream",
          "name": "stdout",
          "text": [
            "True\n"
          ]
        }
      ]
    },
    {
      "cell_type": "code",
      "source": [
        "s = \"달문\"\n",
        "si = str(s)\n",
        "print(s is si)"
      ],
      "metadata": {
        "colab": {
          "base_uri": "https://localhost:8080/"
        },
        "id": "WFwN_0al33x4",
        "outputId": "7d1af109-e687-428f-d5f6-61abc7539b42"
      },
      "execution_count": null,
      "outputs": [
        {
          "output_type": "stream",
          "name": "stdout",
          "text": [
            "True\n"
          ]
        }
      ]
    },
    {
      "cell_type": "code",
      "source": [
        "l = [\"고\",\"요\",\"한\"]\n",
        "li = list(l)\n",
        "print(l is li)"
      ],
      "metadata": {
        "colab": {
          "base_uri": "https://localhost:8080/"
        },
        "id": "LEoOGkKF3738",
        "outputId": "3ce02919-b35d-4ad6-dac1-8ed9ac8072d2"
      },
      "execution_count": null,
      "outputs": [
        {
          "output_type": "stream",
          "name": "stdout",
          "text": [
            "False\n"
          ]
        }
      ]
    },
    {
      "cell_type": "markdown",
      "source": [
        "## **2. 문자열 자료형**"
      ],
      "metadata": {
        "id": "ABapX5ej3FPj"
      }
    },
    {
      "cell_type": "markdown",
      "source": [
        "- 파이썬 버전 3부터 문자의 기본 코드가 UniCode로 변경되면서 다양한 언어로 처리가 가능해 짐\n",
        "- 파이썬 버전 2의 Unicode 클래스가 사라지고 대신 bytes 클래스가 사용되면서 기본적인 byte 처리는 bytes 클래스로 수행하게 됨"
      ],
      "metadata": {
        "id": "8tU3V2KOp5h2"
      }
    },
    {
      "cell_type": "markdown",
      "source": [
        "### 2.1 문자열 생성"
      ],
      "metadata": {
        "id": "7W3QEuyFqYmZ"
      }
    },
    {
      "cell_type": "markdown",
      "source": [
        "- 리터럴과 생성자로 문자열 생성"
      ],
      "metadata": {
        "id": "7K6tbKdLqfTE"
      }
    },
    {
      "cell_type": "code",
      "source": [
        "sl ="
      ],
      "metadata": {
        "id": "N6yYRazyqxaM"
      },
      "execution_count": null,
      "outputs": []
    },
    {
      "cell_type": "code",
      "source": [
        "s = str(123)\n",
        "ss = str(\"성대현\")\n",
        "sf = str(123.00)\n",
        "sl = \"파이썬\"\n",
        "\n",
        "print(s)\n",
        "print(ss)\n",
        "print(sf)\n",
        "print(sl)\n",
        "\n",
        "print(type(sl))"
      ],
      "metadata": {
        "colab": {
          "base_uri": "https://localhost:8080/"
        },
        "id": "uqKOaW-jqlYf",
        "outputId": "06e1e4d3-93df-4bd2-bfef-fdafdecbce14"
      },
      "execution_count": null,
      "outputs": [
        {
          "output_type": "stream",
          "name": "stdout",
          "text": [
            "123\n",
            "성대현\n",
            "123.0\n",
            "파이썬\n",
            "<class 'str'>\n"
          ]
        }
      ]
    },
    {
      "cell_type": "markdown",
      "source": [
        "### 2.2 문자열 주요 메서드"
      ],
      "metadata": {
        "id": "8-A8P66Dq63V"
      }
    },
    {
      "cell_type": "markdown",
      "source": [
        "- 대소문자 처리"
      ],
      "metadata": {
        "id": "X-tnDfttq-nk"
      }
    },
    {
      "cell_type": "code",
      "source": [
        "sl = \"spiderman\"\n",
        "\n",
        "sh = sl.upper()\n",
        "print(sh)\n",
        "\n",
        "su = \"WONDER WOMEN\"\n",
        "sh = su.lower()\n",
        "print(sh)"
      ],
      "metadata": {
        "colab": {
          "base_uri": "https://localhost:8080/"
        },
        "id": "MehWHkXBrC6z",
        "outputId": "c333eebe-671b-4a0e-89a0-ceafa1cbdf25"
      },
      "execution_count": null,
      "outputs": [
        {
          "output_type": "stream",
          "name": "stdout",
          "text": [
            "SPIDERMAN\n",
            "wonder women\n"
          ]
        }
      ]
    },
    {
      "cell_type": "code",
      "source": [
        "su = \"WONDER WOMEN\"\n",
        "st = su.title()\n",
        "print(st)"
      ],
      "metadata": {
        "colab": {
          "base_uri": "https://localhost:8080/"
        },
        "id": "q0l2lTRRrI3P",
        "outputId": "bebe13a4-c89d-40fb-9d94-c6d4949b0949"
      },
      "execution_count": null,
      "outputs": [
        {
          "output_type": "stream",
          "name": "stdout",
          "text": [
            "Wonder Women\n"
          ]
        }
      ]
    },
    {
      "cell_type": "code",
      "source": [
        "sl = \"spiderman\"\n",
        "sc = sl.capitalize()\n",
        "print(sc)"
      ],
      "metadata": {
        "colab": {
          "base_uri": "https://localhost:8080/"
        },
        "id": "kjyslok4rKzs",
        "outputId": "65746b45-62d6-4e06-9656-affb4398f4c4"
      },
      "execution_count": null,
      "outputs": [
        {
          "output_type": "stream",
          "name": "stdout",
          "text": [
            "Spiderman\n"
          ]
        }
      ]
    },
    {
      "cell_type": "code",
      "source": [
        "su = \"WONDER WOMEN\"\n",
        "scc = su.casefold()\n",
        "print(scc)"
      ],
      "metadata": {
        "colab": {
          "base_uri": "https://localhost:8080/"
        },
        "id": "KIEcc7KYrN2d",
        "outputId": "23c41fe3-0061-4ca8-fb6c-88c3de1e8e0f"
      },
      "execution_count": null,
      "outputs": [
        {
          "output_type": "stream",
          "name": "stdout",
          "text": [
            "wonder women\n"
          ]
        }
      ]
    },
    {
      "cell_type": "markdown",
      "source": [
        "- 문자열의 위치를 조정해서 꾸미기"
      ],
      "metadata": {
        "id": "B1nELIM3rEMp"
      }
    },
    {
      "cell_type": "code",
      "source": [
        "s = \"빅데이터와 인공지능\"\n",
        "\n",
        "sc = s.center(30,\"%\")\n",
        "print(sc)\n",
        "sb = s.center(30)\n",
        "print(sb)"
      ],
      "metadata": {
        "colab": {
          "base_uri": "https://localhost:8080/"
        },
        "id": "wMViWTRmrTxL",
        "outputId": "8ece8fce-136a-4baa-9ee0-dd512aa0b111"
      },
      "execution_count": null,
      "outputs": [
        {
          "output_type": "stream",
          "name": "stdout",
          "text": [
            "%%%%%%%%%%빅데이터와 인공지능%%%%%%%%%%\n",
            "          빅데이터와 인공지능          \n"
          ]
        }
      ]
    },
    {
      "cell_type": "code",
      "source": [
        "s = \"빅데이터와 인공지능\"\n",
        "\n",
        "sc = s.ljust(30,\"%\")\n",
        "print(sc)\n",
        "sb = s.ljust(30)\n",
        "print(sb)"
      ],
      "metadata": {
        "colab": {
          "base_uri": "https://localhost:8080/"
        },
        "id": "aBQxO7grrWvv",
        "outputId": "5007db77-5a9c-421b-9ed1-38f2314f5645"
      },
      "execution_count": null,
      "outputs": [
        {
          "output_type": "stream",
          "name": "stdout",
          "text": [
            "빅데이터와 인공지능%%%%%%%%%%%%%%%%%%%%\n",
            "빅데이터와 인공지능                    \n"
          ]
        }
      ]
    },
    {
      "cell_type": "code",
      "source": [
        "s = \"빅데이터와 인공지능\"\n",
        "\n",
        "sc = s.rjust(30,\"%\")\n",
        "print(sc)\n",
        "sb = s.rjust(30)\n",
        "print(sb)"
      ],
      "metadata": {
        "colab": {
          "base_uri": "https://localhost:8080/"
        },
        "id": "btVBwERrrZNB",
        "outputId": "25583a7f-9090-461b-c237-3f2fa37d121b"
      },
      "execution_count": null,
      "outputs": [
        {
          "output_type": "stream",
          "name": "stdout",
          "text": [
            "%%%%%%%%%%%%%%%%%%%%빅데이터와 인공지능\n",
            "                    빅데이터와 인공지능\n"
          ]
        }
      ]
    },
    {
      "cell_type": "code",
      "source": [
        "s = \"빅데이터와 인공지능\"\n",
        "\n",
        "sc = s.center(30,\"파\")\n",
        "print(sc)\n",
        "sb = s.center(30,\"bb\")\n",
        "print(sb)"
      ],
      "metadata": {
        "colab": {
          "base_uri": "https://localhost:8080/",
          "height": 211
        },
        "id": "gQQAOnPorbi-",
        "outputId": "0da2ecd3-761d-462f-a768-eea383a7878a"
      },
      "execution_count": null,
      "outputs": [
        {
          "output_type": "stream",
          "name": "stdout",
          "text": [
            "파파파파파파파파파파빅데이터와 인공지능파파파파파파파파파파\n"
          ]
        },
        {
          "output_type": "error",
          "ename": "TypeError",
          "evalue": "The fill character must be exactly one character long",
          "traceback": [
            "\u001b[0;31m---------------------------------------------------------------------------\u001b[0m",
            "\u001b[0;31mTypeError\u001b[0m                                 Traceback (most recent call last)",
            "\u001b[0;32m<ipython-input-10-58572dfc60da>\u001b[0m in \u001b[0;36m<cell line: 5>\u001b[0;34m()\u001b[0m\n\u001b[1;32m      3\u001b[0m \u001b[0msc\u001b[0m \u001b[0;34m=\u001b[0m \u001b[0ms\u001b[0m\u001b[0;34m.\u001b[0m\u001b[0mcenter\u001b[0m\u001b[0;34m(\u001b[0m\u001b[0;36m30\u001b[0m\u001b[0;34m,\u001b[0m\u001b[0;34m\"파\"\u001b[0m\u001b[0;34m)\u001b[0m\u001b[0;34m\u001b[0m\u001b[0;34m\u001b[0m\u001b[0m\n\u001b[1;32m      4\u001b[0m \u001b[0mprint\u001b[0m\u001b[0;34m(\u001b[0m\u001b[0msc\u001b[0m\u001b[0;34m)\u001b[0m\u001b[0;34m\u001b[0m\u001b[0;34m\u001b[0m\u001b[0m\n\u001b[0;32m----> 5\u001b[0;31m \u001b[0msb\u001b[0m \u001b[0;34m=\u001b[0m \u001b[0ms\u001b[0m\u001b[0;34m.\u001b[0m\u001b[0mcenter\u001b[0m\u001b[0;34m(\u001b[0m\u001b[0;36m30\u001b[0m\u001b[0;34m,\u001b[0m\u001b[0;34m\"bb\"\u001b[0m\u001b[0;34m)\u001b[0m\u001b[0;34m\u001b[0m\u001b[0;34m\u001b[0m\u001b[0m\n\u001b[0m\u001b[1;32m      6\u001b[0m \u001b[0mprint\u001b[0m\u001b[0;34m(\u001b[0m\u001b[0msb\u001b[0m\u001b[0;34m)\u001b[0m\u001b[0;34m\u001b[0m\u001b[0;34m\u001b[0m\u001b[0m\n",
            "\u001b[0;31mTypeError\u001b[0m: The fill character must be exactly one character long"
          ]
        }
      ]
    },
    {
      "cell_type": "markdown",
      "source": [
        "- 특정 문자 찾기"
      ],
      "metadata": {
        "id": "klik2kF8rfN1"
      }
    },
    {
      "cell_type": "code",
      "source": [
        "s = \"특정 문자 찾기를 한다. 찾은 문자는\"\n",
        "\n",
        "print(s.find(\"찾\"))\n",
        "print(s[s.find(\"찾\")])\n",
        "\n",
        "print(s.rfind(\"찾\"))\n",
        "print(s[s.rfind(\"찾\")])"
      ],
      "metadata": {
        "colab": {
          "base_uri": "https://localhost:8080/"
        },
        "id": "VqjhHDdZrhwQ",
        "outputId": "64872c95-58cf-4f22-d32a-1a5e9720ca90"
      },
      "execution_count": null,
      "outputs": [
        {
          "output_type": "stream",
          "name": "stdout",
          "text": [
            "6\n",
            "찾\n",
            "14\n",
            "찾\n"
          ]
        }
      ]
    },
    {
      "cell_type": "code",
      "source": [
        "s = \"특정 문자 찾기를 한다. 찾은 문자는\"\n",
        "\n",
        "print(s.index(\"찾\"))\n",
        "print(s[s.index(\"찾\")])\n",
        "\n",
        "print(s.rindex(\"찾\"))\n",
        "print(s[s.rindex(\"찾\")])"
      ],
      "metadata": {
        "colab": {
          "base_uri": "https://localhost:8080/"
        },
        "id": "p9rFuYcErk2q",
        "outputId": "e4b82ea7-000a-43c6-f21c-f0b9491686dc"
      },
      "execution_count": null,
      "outputs": [
        {
          "output_type": "stream",
          "name": "stdout",
          "text": [
            "6\n",
            "찾\n",
            "14\n",
            "찾\n"
          ]
        }
      ]
    },
    {
      "cell_type": "code",
      "source": [
        "s = \"특정 문자 찾기를 한다. 찾은 문자는\"\n",
        "\n",
        "print(s.count(\"찾\"))"
      ],
      "metadata": {
        "colab": {
          "base_uri": "https://localhost:8080/"
        },
        "id": "Svqm4l55rmor",
        "outputId": "03bab8bf-9873-4be8-a9c4-7c8e86c37c8d"
      },
      "execution_count": null,
      "outputs": [
        {
          "output_type": "stream",
          "name": "stdout",
          "text": [
            "2\n"
          ]
        }
      ]
    },
    {
      "cell_type": "markdown",
      "source": [
        "- 문자열 패턴 매칭하기"
      ],
      "metadata": {
        "id": "wgOoZ4YXrqKn"
      }
    },
    {
      "cell_type": "code",
      "source": [
        "s = dir(str)\n",
        "\n",
        "print(type(s))\n",
        "\n",
        "count = 1\n",
        "for i in s :\n",
        "    if i.startswith(\"__\") :\n",
        "        continue\n",
        "    else :\n",
        "        print(i, end=\" \")\n",
        "\n",
        "    if count % 6 == 0 :\n",
        "        print()\n",
        "    count += 1"
      ],
      "metadata": {
        "colab": {
          "base_uri": "https://localhost:8080/"
        },
        "id": "Lde7vud-rr-Z",
        "outputId": "b2f6daa0-4887-43cf-d913-5d30e9c5bdba"
      },
      "execution_count": null,
      "outputs": [
        {
          "output_type": "stream",
          "name": "stdout",
          "text": [
            "<class 'list'>\n",
            "capitalize casefold center count encode endswith \n",
            "expandtabs find format format_map index isalnum \n",
            "isalpha isascii isdecimal isdigit isidentifier islower \n",
            "isnumeric isprintable isspace istitle isupper join \n",
            "ljust lower lstrip maketrans partition removeprefix \n",
            "removesuffix replace rfind rindex rjust rpartition \n",
            "rsplit rstrip split splitlines startswith strip \n",
            "swapcase title translate upper zfill "
          ]
        }
      ]
    },
    {
      "cell_type": "code",
      "source": [
        "s = dir(str)\n",
        "\n",
        "print(type(s))\n",
        "\n",
        "count = 1\n",
        "for i in s :\n",
        "    if i.endswith(\"__\") :\n",
        "        print(i, end=\" \")\n",
        "    else :\n",
        "        continue\n",
        "\n",
        "    if count % 6 == 0 :\n",
        "        print()\n",
        "    count += 1"
      ],
      "metadata": {
        "colab": {
          "base_uri": "https://localhost:8080/"
        },
        "id": "ssWLH4Nmru5e",
        "outputId": "8fc6da5c-8568-4259-ba88-c1486ab7ceea"
      },
      "execution_count": null,
      "outputs": [
        {
          "output_type": "stream",
          "name": "stdout",
          "text": [
            "<class 'list'>\n",
            "__add__ __class__ __contains__ __delattr__ __dir__ __doc__ \n",
            "__eq__ __format__ __ge__ __getattribute__ __getitem__ __getnewargs__ \n",
            "__gt__ __hash__ __init__ __init_subclass__ __iter__ __le__ \n",
            "__len__ __lt__ __mod__ __mul__ __ne__ __new__ \n",
            "__reduce__ __reduce_ex__ __repr__ __rmod__ __rmul__ __setattr__ \n",
            "__sizeof__ __str__ __subclasshook__ "
          ]
        }
      ]
    },
    {
      "cell_type": "markdown",
      "source": [
        "- 빈 문자열로 분리하고 결합하기"
      ],
      "metadata": {
        "id": "DoDOuOSnrwj1"
      }
    },
    {
      "cell_type": "code",
      "source": [
        "s = \"빈 문자열로 분리하고 결합하기\"\n",
        "\n",
        "ss = s.split(\" \")\n",
        "print(ss)\n",
        "\n",
        "sl = \" \".join(ss)\n",
        "print(sl)"
      ],
      "metadata": {
        "colab": {
          "base_uri": "https://localhost:8080/"
        },
        "id": "5XMvy-UOryvU",
        "outputId": "bbd59110-a224-4572-8a20-6eee83e0b07c"
      },
      "execution_count": null,
      "outputs": [
        {
          "output_type": "stream",
          "name": "stdout",
          "text": [
            "['빈', '문자열로', '분리하고', '결합하기']\n",
            "빈 문자열로 분리하고 결합하기\n"
          ]
        }
      ]
    },
    {
      "cell_type": "markdown",
      "source": [
        "- 개행문자가 있을 경우 문자열 분리하기"
      ],
      "metadata": {
        "id": "cIUSzwjZr1G7"
      }
    },
    {
      "cell_type": "code",
      "source": [
        "import pprint\n",
        "\n",
        "s =\"\"\"A simple object subclass\n",
        "that provides attribute access\n",
        "to its namespace,\n",
        "as well as a meaningful repr.\"\"\"\n",
        "\n",
        "ss = s.split(\"\\n\")\n",
        "pprint.pprint(ss)"
      ],
      "metadata": {
        "colab": {
          "base_uri": "https://localhost:8080/"
        },
        "id": "Z9_wZLx9r41G",
        "outputId": "4e69304f-8d69-488e-9371-183be92b7224"
      },
      "execution_count": null,
      "outputs": [
        {
          "output_type": "stream",
          "name": "stdout",
          "text": [
            "['A simple object subclass ',\n",
            " 'that provides attribute access ',\n",
            " 'to its namespace, ',\n",
            " 'as well as a meaningful repr.']\n"
          ]
        }
      ]
    },
    {
      "cell_type": "code",
      "source": [
        "sl1 = \" \".join(ss[:2])\n",
        "print(sl1)\n",
        "sl2 = \" \".join(ss[2:])\n",
        "print(sl2)"
      ],
      "metadata": {
        "colab": {
          "base_uri": "https://localhost:8080/"
        },
        "id": "jiY0TcFvsCzI",
        "outputId": "ad8e53c0-ef08-4e4e-e89f-d22f2d78aaf5"
      },
      "execution_count": null,
      "outputs": [
        {
          "output_type": "stream",
          "name": "stdout",
          "text": [
            "A simple object subclass  that provides attribute access \n",
            "to its namespace,  as well as a meaningful repr.\n"
          ]
        }
      ]
    },
    {
      "cell_type": "markdown",
      "source": [
        "- 문자열 길이 확인하기"
      ],
      "metadata": {
        "id": "GN1Fo6sssE-7"
      }
    },
    {
      "cell_type": "code",
      "source": [
        "s = \"문자열 검색\"\n",
        "\n",
        "print(len(s))\n",
        "\n",
        "sa = \" string indexing\"\n",
        "print(len(sa))"
      ],
      "metadata": {
        "colab": {
          "base_uri": "https://localhost:8080/"
        },
        "id": "3jTx-mKusJwX",
        "outputId": "bc4de3e9-1d87-4f60-b938-681d3687445f"
      },
      "execution_count": null,
      "outputs": [
        {
          "output_type": "stream",
          "name": "stdout",
          "text": [
            "6\n",
            "16\n"
          ]
        }
      ]
    },
    {
      "cell_type": "code",
      "source": [
        "s = \"문자열 검색\"\n",
        "\n",
        "print(s[0])\n",
        "print(s[1])"
      ],
      "metadata": {
        "colab": {
          "base_uri": "https://localhost:8080/"
        },
        "id": "MklBTn_dsLSO",
        "outputId": "d39ceb7d-cb7d-4fdd-ae18-2b0ec3906004"
      },
      "execution_count": null,
      "outputs": [
        {
          "output_type": "stream",
          "name": "stdout",
          "text": [
            "문\n",
            "자\n"
          ]
        }
      ]
    },
    {
      "cell_type": "code",
      "source": [
        "s = \"문자열 검색\"\n",
        "\n",
        "print(s[-1])\n",
        "print(s[-2])"
      ],
      "metadata": {
        "colab": {
          "base_uri": "https://localhost:8080/"
        },
        "id": "RKBrMi1XsMt7",
        "outputId": "3c909e84-7cad-4c25-9939-aa087ed562fb"
      },
      "execution_count": null,
      "outputs": [
        {
          "output_type": "stream",
          "name": "stdout",
          "text": [
            "색\n",
            "검\n"
          ]
        }
      ]
    },
    {
      "cell_type": "markdown",
      "source": [
        "- 암호화(encode)와 복호화(decode) 기준"
      ],
      "metadata": {
        "id": "iWG3CoO5sOWW"
      }
    },
    {
      "cell_type": "code",
      "source": [
        "s = \"성균관대학교\"\n",
        "\n",
        "sb = s.encode(\"utf-8\")\n",
        "print(sb)\n",
        "print(sb.decode(\"utf-8\"))"
      ],
      "metadata": {
        "colab": {
          "base_uri": "https://localhost:8080/"
        },
        "id": "kyMwJKUVsTsr",
        "outputId": "190f4bf7-82f9-49ee-e4db-151146f9b5b9"
      },
      "execution_count": null,
      "outputs": [
        {
          "output_type": "stream",
          "name": "stdout",
          "text": [
            "b'\\xec\\x84\\xb1\\xea\\xb7\\xa0\\xea\\xb4\\x80\\xeb\\x8c\\x80\\xed\\x95\\x99\\xea\\xb5\\x90'\n",
            "성균관대학교\n"
          ]
        }
      ]
    },
    {
      "cell_type": "code",
      "source": [
        "s = \"성균관대학교\"\n",
        "print(s[0].encode(\"utf-16\"))\n",
        "sb = s.encode(\"utf-16\")\n",
        "print(sb)\n",
        "print(sb.decode(\"utf-16\"))"
      ],
      "metadata": {
        "colab": {
          "base_uri": "https://localhost:8080/"
        },
        "id": "CFSPLCSYsWXS",
        "outputId": "cd7bcdbf-57b4-4aed-9002-58573d611b22"
      },
      "execution_count": null,
      "outputs": [
        {
          "output_type": "stream",
          "name": "stdout",
          "text": [
            "b'\\xff\\xfe1\\xc1'\n",
            "b'\\xff\\xfe1\\xc1\\xe0\\xad\\x00\\xad\\x00\\xb3Y\\xd5P\\xad'\n",
            "성균관대학교\n"
          ]
        }
      ]
    },
    {
      "cell_type": "code",
      "source": [
        "s = \"성균관대학교\"\n",
        "print(s[0].encode(\"utf-16le\"))\n",
        "sb = s.encode(\"utf-16le\")\n",
        "print(sb)\n",
        "print(sb.decode(\"utf-16le\"))"
      ],
      "metadata": {
        "colab": {
          "base_uri": "https://localhost:8080/"
        },
        "id": "n8xw5A9qsXwG",
        "outputId": "21074e8b-0876-4ec3-d51b-dd524d623748"
      },
      "execution_count": null,
      "outputs": [
        {
          "output_type": "stream",
          "name": "stdout",
          "text": [
            "b'1\\xc1'\n",
            "b'1\\xc1\\xe0\\xad\\x00\\xad\\x00\\xb3Y\\xd5P\\xad'\n",
            "성균관대학교\n"
          ]
        }
      ]
    },
    {
      "cell_type": "code",
      "source": [
        "s = \"성균관대학교\"\n",
        "print(s[0].encode(\"utf-16be\"))\n",
        "sb = s.encode(\"utf-16be\")\n",
        "print(sb)\n",
        "print(sb.decode(\"utf-16be\"))"
      ],
      "metadata": {
        "colab": {
          "base_uri": "https://localhost:8080/"
        },
        "id": "01G_mKXfsZhH",
        "outputId": "051e1107-dfca-4115-ac4d-34143e0dc773"
      },
      "execution_count": null,
      "outputs": [
        {
          "output_type": "stream",
          "name": "stdout",
          "text": [
            "b'\\xc11'\n",
            "b'\\xc11\\xad\\xe0\\xad\\x00\\xb3\\x00\\xd5Y\\xadP'\n",
            "성균관대학교\n"
          ]
        }
      ]
    },
    {
      "cell_type": "markdown",
      "source": [
        "## **3. 바이트 자료형(bytes data type)**"
      ],
      "metadata": {
        "id": "QYES1Q2X3FMW"
      }
    },
    {
      "cell_type": "markdown",
      "source": [
        "- 파이썬 3 버전에 새로 추가된 자료형으로 컴퓨터가 기본으로 처리하는 바이트 자료형\n",
        "- 저장되는 형태가 16진수의 Hexa 값으로 관리되고 ASCII 코드인 경우에는 Hexa 값 대신 문자로 보여 줌\n",
        "- 바이트 자료형도 파이썬의 기본 문자열 자료형인 Unicode와 동일한 메서드를 가지고 처리됨\n",
        "- 문자열 자료형처럼 변경이 불가능한 구조를 따름"
      ],
      "metadata": {
        "id": "sWm7UNQZsd8c"
      }
    },
    {
      "cell_type": "markdown",
      "source": [
        "### 3.1 바이트 생성"
      ],
      "metadata": {
        "id": "aa7lEBTjs9-K"
      }
    },
    {
      "cell_type": "markdown",
      "source": [
        "- 바이트 자료형의 생성은 리터럴 형태로 b를 문자열 앞에 붙여서 표시함\n",
        "- bytes 생성자를 기반으로 인스턴스도 만들 수 있음"
      ],
      "metadata": {
        "id": "4IIZ4Kh5tEKu"
      }
    },
    {
      "cell_type": "code",
      "source": [
        "b = b\"hello\"\n",
        "print(type(b), b)\n",
        "\n",
        "s = \"성균관대학교\"\n",
        "bs = bytes(s.encode(\"utf-8\"))\n",
        "print(type(bs))\n",
        "print(bs)\n",
        "\n",
        "print(bytes(\"성균관대학교\",encoding=\"utf-8\"))"
      ],
      "metadata": {
        "colab": {
          "base_uri": "https://localhost:8080/"
        },
        "id": "8uFfNSOJtA0-",
        "outputId": "498791db-1612-48f6-f901-c231cd5774ed"
      },
      "execution_count": null,
      "outputs": [
        {
          "output_type": "stream",
          "name": "stdout",
          "text": [
            "<class 'bytes'> b'hello'\n",
            "<class 'bytes'>\n",
            "b'\\xec\\x84\\xb1\\xea\\xb7\\xa0\\xea\\xb4\\x80\\xeb\\x8c\\x80\\xed\\x95\\x99\\xea\\xb5\\x90'\n",
            "b'\\xec\\x84\\xb1\\xea\\xb7\\xa0\\xea\\xb4\\x80\\xeb\\x8c\\x80\\xed\\x95\\x99\\xea\\xb5\\x90'\n"
          ]
        }
      ]
    },
    {
      "cell_type": "code",
      "source": [
        "s = \"성균관대학교\"\n",
        "bs = bytes(s.encode(\"utf-8\"))\n",
        "print(type(bs))\n",
        "print(bs.decode(\"utf-8\"))"
      ],
      "metadata": {
        "colab": {
          "base_uri": "https://localhost:8080/"
        },
        "id": "2slesiN6tC8Q",
        "outputId": "54905a60-3fe3-4042-aa82-75f5ac909c92"
      },
      "execution_count": null,
      "outputs": [
        {
          "output_type": "stream",
          "name": "stdout",
          "text": [
            "<class 'bytes'>\n",
            "성균관대학교\n"
          ]
        }
      ]
    },
    {
      "cell_type": "markdown",
      "source": [
        "### 3.2 바이트 자료형의 메서드 확인"
      ],
      "metadata": {
        "id": "hQfAR8ZFtTR3"
      }
    },
    {
      "cell_type": "code",
      "source": [
        "b = set(dir(bytes))\n",
        "s = set(dir(str))\n",
        "\n",
        "bs = b - s\n",
        "print(bs)"
      ],
      "metadata": {
        "colab": {
          "base_uri": "https://localhost:8080/"
        },
        "id": "t_B40NSXtYR2",
        "outputId": "cbe5718b-963e-4158-cce8-63e4698b293d"
      },
      "execution_count": null,
      "outputs": [
        {
          "output_type": "stream",
          "name": "stdout",
          "text": [
            "{'fromhex', 'hex', 'decode'}\n"
          ]
        }
      ]
    },
    {
      "cell_type": "code",
      "source": [
        "bb = b\"Hello\"\n",
        "bh = bb.hex()\n",
        "\n",
        "print(type(bh), bh)\n",
        "\n",
        "bfh = bytes.fromhex('B901EF')\n",
        "print(bfh)"
      ],
      "metadata": {
        "colab": {
          "base_uri": "https://localhost:8080/"
        },
        "id": "yJITwU8rtaY1",
        "outputId": "5dd1d833-c147-441f-868e-b3b72e539f5b"
      },
      "execution_count": null,
      "outputs": [
        {
          "output_type": "stream",
          "name": "stdout",
          "text": [
            "<class 'str'> 48656c6c6f\n",
            "b'\\xb9\\x01\\xef'\n"
          ]
        }
      ]
    },
    {
      "cell_type": "markdown",
      "source": [
        "### 3.3 encode/decode 메서드 처리"
      ],
      "metadata": {
        "id": "yAmR0Me5tb9p"
      }
    },
    {
      "cell_type": "code",
      "source": [
        "s = \"하늘과 바람과 별과 시\"\n",
        "b = s.encode(\"utf-8\")\n",
        "\n",
        "print(type(b))\n",
        "bs = b.decode(\"utf-8\")\n",
        "print(type(bs))\n",
        "print(bs)"
      ],
      "metadata": {
        "colab": {
          "base_uri": "https://localhost:8080/"
        },
        "id": "iJOaH4fMteq_",
        "outputId": "25fdbf17-6075-4343-d07e-c3e499660d59"
      },
      "execution_count": null,
      "outputs": [
        {
          "output_type": "stream",
          "name": "stdout",
          "text": [
            "<class 'bytes'>\n",
            "<class 'str'>\n",
            "하늘과 바람과 별과 시\n"
          ]
        }
      ]
    },
    {
      "cell_type": "markdown",
      "source": [
        "### 3.4 bytes/str 생성자에서 직접 encode, decode 하기"
      ],
      "metadata": {
        "id": "pl_jJTUOtg91"
      }
    },
    {
      "cell_type": "code",
      "source": [
        "s = \"휀휁휂휃휄\"\n",
        "\n",
        "b = s.encode(\"utf-8\")\n",
        "\n",
        "bb = bytes(s, \"utf-8\")\n",
        "\n",
        "print(b == bb)\n",
        "\n",
        "print(str(bb, \"utf-8\"))"
      ],
      "metadata": {
        "colab": {
          "base_uri": "https://localhost:8080/"
        },
        "id": "WRlGGefctlFS",
        "outputId": "0ea75042-493c-4d38-9625-9fdcff2ad3e9"
      },
      "execution_count": null,
      "outputs": [
        {
          "output_type": "stream",
          "name": "stdout",
          "text": [
            "True\n",
            "휀휁휂휃휄\n"
          ]
        }
      ]
    },
    {
      "cell_type": "markdown",
      "source": [
        "## **4. 바이트 어레이 자료형(bytearray data type)**"
      ],
      "metadata": {
        "id": "wVI-vDc-3FJT"
      }
    },
    {
      "cell_type": "markdown",
      "source": [
        "- 바이트 자료형은 문자열처럼 변경이 불가능하지만 바이트 어레이 자료형은 리스트처럼 변경이 가능한 구조를 지원함\n",
        "- 변경이 가능하므로 리스트처럼 원소를 변경, 추가, 삭제할 수 있는 메서드를 지원함\n",
        "- 바이트 자료형처럼 바이트 기준으로 데이터를 관리함"
      ],
      "metadata": {
        "id": "3dOaOmdEtx8o"
      }
    },
    {
      "cell_type": "markdown",
      "source": [
        "### 4.1 bytes로 생성한 것을 bytearray로 변환"
      ],
      "metadata": {
        "id": "7kJPD7Yotm4o"
      }
    },
    {
      "cell_type": "code",
      "source": [
        "b = b\"abcde\"\n",
        "ba = bytearray(b)\n",
        "\n",
        "print(type(ba))\n",
        "print(ba)\n",
        "\n",
        "bs = bytearray(\"바이트어레이\",\"utf-8\")\n",
        "print(bs)"
      ],
      "metadata": {
        "colab": {
          "base_uri": "https://localhost:8080/"
        },
        "id": "Gg79MDvJtqvL",
        "outputId": "9dffb79a-30db-4f89-baa5-75780e055e9e"
      },
      "execution_count": null,
      "outputs": [
        {
          "output_type": "stream",
          "name": "stdout",
          "text": [
            "<class 'bytearray'>\n",
            "bytearray(b'abcde')\n",
            "bytearray(b'\\xeb\\xb0\\x94\\xec\\x9d\\xb4\\xed\\x8a\\xb8\\xec\\x96\\xb4\\xeb\\xa0\\x88\\xec\\x9d\\xb4')\n"
          ]
        }
      ]
    },
    {
      "cell_type": "markdown",
      "source": [
        "### 4.2 버퍼 처리하기: bytearray"
      ],
      "metadata": {
        "id": "OeG_Y_KNXHQW"
      }
    },
    {
      "cell_type": "code",
      "source": [
        "buffer = bytearray(20)\n",
        "\n",
        "print(buffer)\n",
        "\n",
        "b = b\"abcde\"\n",
        "buffer[:len(b)] = b\n",
        "print(buffer)"
      ],
      "metadata": {
        "colab": {
          "base_uri": "https://localhost:8080/"
        },
        "id": "AKrjFBPwXM9h",
        "outputId": "ac4126f5-3343-4863-c5b5-6619294192c5"
      },
      "execution_count": null,
      "outputs": [
        {
          "output_type": "stream",
          "name": "stdout",
          "text": [
            "bytearray(b'\\x00\\x00\\x00\\x00\\x00\\x00\\x00\\x00\\x00\\x00\\x00\\x00\\x00\\x00\\x00\\x00\\x00\\x00\\x00\\x00')\n",
            "bytearray(b'abcde\\x00\\x00\\x00\\x00\\x00\\x00\\x00\\x00\\x00\\x00\\x00\\x00\\x00\\x00\\x00')\n"
          ]
        }
      ]
    },
    {
      "cell_type": "markdown",
      "source": [
        "### 4.3 bytes와 bytearray 메서드의 차이점"
      ],
      "metadata": {
        "id": "YzZxyYYdXQ7r"
      }
    },
    {
      "cell_type": "markdown",
      "source": [
        "- 바이트 어레이는 변경이 가능하므로 스페셜 메서드인 __ setitem __, __ delitem __을 제공함\n",
        "- 내부 원소를 변경 및 삭제할 수 있는 append, extend, remove, pop 메서드 등이 있으며 역정렬을 위한 reverse 메서드도 제공됨"
      ],
      "metadata": {
        "id": "5PhvTabzXd6l"
      }
    },
    {
      "cell_type": "code",
      "source": [
        "import pprint\n",
        "\n",
        "bs = set(dir(bytes))\n",
        "bb = set(dir(bytearray))\n",
        "\n",
        "pprint.pprint(bb - bs)"
      ],
      "metadata": {
        "colab": {
          "base_uri": "https://localhost:8080/"
        },
        "id": "rrx1a7OcXXZ8",
        "outputId": "a1510637-194f-4eb1-bd4a-062260dc1041"
      },
      "execution_count": null,
      "outputs": [
        {
          "output_type": "stream",
          "name": "stdout",
          "text": [
            "{'__alloc__',\n",
            " '__delitem__',\n",
            " '__iadd__',\n",
            " '__imul__',\n",
            " '__setitem__',\n",
            " 'append',\n",
            " 'clear',\n",
            " 'copy',\n",
            " 'extend',\n",
            " 'insert',\n",
            " 'pop',\n",
            " 'remove',\n",
            " 'reverse'}\n"
          ]
        }
      ]
    },
    {
      "cell_type": "code",
      "source": [
        "buffer = bytearray(20)\n",
        "\n",
        "print(buffer)\n",
        "\n",
        "buffer.insert(0, 31)\n",
        "print(buffer)\n",
        "buffer.pop()\n",
        "print(buffer)\n",
        "buffer.append(31)\n",
        "print(buffer)"
      ],
      "metadata": {
        "colab": {
          "base_uri": "https://localhost:8080/"
        },
        "id": "LS-FwKsmX2pL",
        "outputId": "3f8118d9-4844-4992-b1c2-b926fc2f1bc3"
      },
      "execution_count": null,
      "outputs": [
        {
          "output_type": "stream",
          "name": "stdout",
          "text": [
            "bytearray(b'\\x00\\x00\\x00\\x00\\x00\\x00\\x00\\x00\\x00\\x00\\x00\\x00\\x00\\x00\\x00\\x00\\x00\\x00\\x00\\x00')\n",
            "bytearray(b'\\x1f\\x00\\x00\\x00\\x00\\x00\\x00\\x00\\x00\\x00\\x00\\x00\\x00\\x00\\x00\\x00\\x00\\x00\\x00\\x00\\x00')\n",
            "bytearray(b'\\x1f\\x00\\x00\\x00\\x00\\x00\\x00\\x00\\x00\\x00\\x00\\x00\\x00\\x00\\x00\\x00\\x00\\x00\\x00\\x00')\n",
            "bytearray(b'\\x1f\\x00\\x00\\x00\\x00\\x00\\x00\\x00\\x00\\x00\\x00\\x00\\x00\\x00\\x00\\x00\\x00\\x00\\x00\\x00\\x1f')\n"
          ]
        }
      ]
    },
    {
      "cell_type": "code",
      "source": [
        "buffer[:3] = b'abc'\n",
        "print(buffer)"
      ],
      "metadata": {
        "colab": {
          "base_uri": "https://localhost:8080/"
        },
        "id": "hRQkEBP4X4_z",
        "outputId": "7f7673ab-f13a-4134-f648-d44d6e788cf8"
      },
      "execution_count": null,
      "outputs": [
        {
          "output_type": "stream",
          "name": "stdout",
          "text": [
            "bytearray(b'abc\\x00\\x00\\x00\\x00\\x00\\x00\\x00\\x00\\x00\\x00\\x00\\x00\\x00\\x00\\x00\\x00\\x00\\x1f')\n"
          ]
        }
      ]
    },
    {
      "cell_type": "code",
      "source": [
        "buffer[0] = b'a'"
      ],
      "metadata": {
        "colab": {
          "base_uri": "https://localhost:8080/",
          "height": 141
        },
        "id": "gLvMNqklX61j",
        "outputId": "208c2bcb-b425-4022-b524-6295c6263c98"
      },
      "execution_count": null,
      "outputs": [
        {
          "output_type": "error",
          "ename": "TypeError",
          "evalue": "'bytes' object cannot be interpreted as an integer",
          "traceback": [
            "\u001b[0;31m---------------------------------------------------------------------------\u001b[0m",
            "\u001b[0;31mTypeError\u001b[0m                                 Traceback (most recent call last)",
            "\u001b[0;32m<ipython-input-5-88f9f3338acd>\u001b[0m in \u001b[0;36m<cell line: 1>\u001b[0;34m()\u001b[0m\n\u001b[0;32m----> 1\u001b[0;31m \u001b[0mbuffer\u001b[0m\u001b[0;34m[\u001b[0m\u001b[0;36m0\u001b[0m\u001b[0;34m]\u001b[0m \u001b[0;34m=\u001b[0m \u001b[0;34mb'a'\u001b[0m\u001b[0;34m\u001b[0m\u001b[0;34m\u001b[0m\u001b[0m\n\u001b[0m",
            "\u001b[0;31mTypeError\u001b[0m: 'bytes' object cannot be interpreted as an integer"
          ]
        }
      ]
    },
    {
      "cell_type": "code",
      "source": [
        "buffer.insert(0,b'a')"
      ],
      "metadata": {
        "colab": {
          "base_uri": "https://localhost:8080/",
          "height": 141
        },
        "id": "t71_EmzsX81r",
        "outputId": "12af663b-2b57-4565-cda4-894405c1dfc2"
      },
      "execution_count": null,
      "outputs": [
        {
          "output_type": "error",
          "ename": "TypeError",
          "evalue": "'bytes' object cannot be interpreted as an integer",
          "traceback": [
            "\u001b[0;31m---------------------------------------------------------------------------\u001b[0m",
            "\u001b[0;31mTypeError\u001b[0m                                 Traceback (most recent call last)",
            "\u001b[0;32m<ipython-input-6-11f7d2cd625f>\u001b[0m in \u001b[0;36m<cell line: 1>\u001b[0;34m()\u001b[0m\n\u001b[0;32m----> 1\u001b[0;31m \u001b[0mbuffer\u001b[0m\u001b[0;34m.\u001b[0m\u001b[0minsert\u001b[0m\u001b[0;34m(\u001b[0m\u001b[0;36m0\u001b[0m\u001b[0;34m,\u001b[0m\u001b[0;34mb'a'\u001b[0m\u001b[0;34m)\u001b[0m\u001b[0;34m\u001b[0m\u001b[0;34m\u001b[0m\u001b[0m\n\u001b[0m",
            "\u001b[0;31mTypeError\u001b[0m: 'bytes' object cannot be interpreted as an integer"
          ]
        }
      ]
    },
    {
      "cell_type": "code",
      "source": [
        "a = bytearray(b\"abcd\")\n",
        "\n",
        "a.insert(0,b\"a\")"
      ],
      "metadata": {
        "colab": {
          "base_uri": "https://localhost:8080/",
          "height": 176
        },
        "id": "EAmzkKfRX-3y",
        "outputId": "277192b9-c277-4ce3-8f6e-838994c577d6"
      },
      "execution_count": null,
      "outputs": [
        {
          "output_type": "error",
          "ename": "TypeError",
          "evalue": "'bytes' object cannot be interpreted as an integer",
          "traceback": [
            "\u001b[0;31m---------------------------------------------------------------------------\u001b[0m",
            "\u001b[0;31mTypeError\u001b[0m                                 Traceback (most recent call last)",
            "\u001b[0;32m<ipython-input-7-0e1328eb0580>\u001b[0m in \u001b[0;36m<cell line: 3>\u001b[0;34m()\u001b[0m\n\u001b[1;32m      1\u001b[0m \u001b[0ma\u001b[0m \u001b[0;34m=\u001b[0m \u001b[0mbytearray\u001b[0m\u001b[0;34m(\u001b[0m\u001b[0;34mb\"abcd\"\u001b[0m\u001b[0;34m)\u001b[0m\u001b[0;34m\u001b[0m\u001b[0;34m\u001b[0m\u001b[0m\n\u001b[1;32m      2\u001b[0m \u001b[0;34m\u001b[0m\u001b[0m\n\u001b[0;32m----> 3\u001b[0;31m \u001b[0ma\u001b[0m\u001b[0;34m.\u001b[0m\u001b[0minsert\u001b[0m\u001b[0;34m(\u001b[0m\u001b[0;36m0\u001b[0m\u001b[0;34m,\u001b[0m\u001b[0;34mb\"a\"\u001b[0m\u001b[0;34m)\u001b[0m\u001b[0;34m\u001b[0m\u001b[0;34m\u001b[0m\u001b[0m\n\u001b[0m",
            "\u001b[0;31mTypeError\u001b[0m: 'bytes' object cannot be interpreted as an integer"
          ]
        }
      ]
    },
    {
      "cell_type": "markdown",
      "source": [
        "## **5. 튜플 자료형(tuple data type)**"
      ],
      "metadata": {
        "id": "JzDe1n6i3FGf"
      }
    },
    {
      "cell_type": "markdown",
      "source": [
        "- 튜플 자료형은 리스트 자료형과 동일하게 처리되지만 변경이 불가능함\n",
        "- 따라서 리스트와의 차이점은 내부 원소를 변경하거나 갱신하기 위한 메서드들이 존재하지 않는 것임\n",
        "- 튜플 자료형은 파이썬 내부적으로 변경이 되지 않으면서 관리되어야 할 기능에서 필요하며, 튜플을 이용해서 데이터를 전달하는 방식으로 많이 사용됨\n",
        "<br><br>\n",
        "- 튜플 자료형의 사용 사례\n",
        "    - 함수의 매개변수에 가변적으로 들어오는 인자를 처리할 때\n",
        "    - 특정 변수에 여러 데이터를 할당할 때\n",
        "    - 함수의 반환값 여러 개를 하나로 묶어서 반환이 필요할 때 등"
      ],
      "metadata": {
        "id": "DddJyiDhYDop"
      }
    },
    {
      "cell_type": "markdown",
      "source": [
        "### 5.1 튜플 생성"
      ],
      "metadata": {
        "id": "QrwZDLMaY1T7"
      }
    },
    {
      "cell_type": "markdown",
      "source": [
        "- 튜플 리터럴 및 생성자로 생성"
      ],
      "metadata": {
        "id": "ag4ugRjhY5Gb"
      }
    },
    {
      "cell_type": "code",
      "source": [
        "t = 1,2,3,4\n",
        "print(t)"
      ],
      "metadata": {
        "colab": {
          "base_uri": "https://localhost:8080/"
        },
        "id": "-vvVED-VY9Nk",
        "outputId": "41d8380c-d707-4dc0-df49-ba95baaec4a5"
      },
      "execution_count": null,
      "outputs": [
        {
          "output_type": "stream",
          "name": "stdout",
          "text": [
            "(1, 2, 3, 4)\n"
          ]
        }
      ]
    },
    {
      "cell_type": "code",
      "source": [
        "t1 = (1,2,3,4)\n",
        "print(t1)"
      ],
      "metadata": {
        "colab": {
          "base_uri": "https://localhost:8080/"
        },
        "id": "mLO02vRQY_jz",
        "outputId": "90667c05-9ac0-4bee-ee37-5f9109b7c15f"
      },
      "execution_count": null,
      "outputs": [
        {
          "output_type": "stream",
          "name": "stdout",
          "text": [
            "(1, 2, 3, 4)\n"
          ]
        }
      ]
    },
    {
      "cell_type": "code",
      "source": [
        "def func(x,y) :\n",
        "    return x,y\n",
        "\n",
        "t2 = func(10,10)\n",
        "print(type(t2))\n",
        "print(t2)"
      ],
      "metadata": {
        "colab": {
          "base_uri": "https://localhost:8080/"
        },
        "id": "AwHMFsRZZDxz",
        "outputId": "eccb165e-929b-4296-dcf1-c3c71e21c248"
      },
      "execution_count": null,
      "outputs": [
        {
          "output_type": "stream",
          "name": "stdout",
          "text": [
            "<class 'tuple'>\n",
            "(10, 10)\n"
          ]
        }
      ]
    },
    {
      "cell_type": "code",
      "source": [
        "t = tuple([1,2,3,4])\n",
        "print(t)\n",
        "ts = tuple(\"광화문\")\n",
        "print(ts)"
      ],
      "metadata": {
        "colab": {
          "base_uri": "https://localhost:8080/"
        },
        "id": "2U3iEnNEZGdo",
        "outputId": "bd4c0f54-8679-4828-93a4-0194d1d02ae4"
      },
      "execution_count": null,
      "outputs": [
        {
          "output_type": "stream",
          "name": "stdout",
          "text": [
            "(1, 2, 3, 4)\n",
            "('광', '화', '문')\n"
          ]
        }
      ]
    },
    {
      "cell_type": "markdown",
      "source": [
        "- 튜플 내의 원소가 하나일 경우 주의사항\n",
        "    - 단일 원소도 쉼표로 분리할 것\n",
        "        - 스칼라 값인지 튜플인지 구분에 용이함"
      ],
      "metadata": {
        "id": "UAJiCO4IZJ0t"
      }
    },
    {
      "cell_type": "code",
      "source": [
        "o = (1)\n",
        "t = (1,)\n",
        "\n",
        "print(type(o), o)\n",
        "print(type(t), t)"
      ],
      "metadata": {
        "colab": {
          "base_uri": "https://localhost:8080/"
        },
        "id": "KbP5UHDTZPg7",
        "outputId": "5690a676-fa06-4743-8ba8-12f0e6856bbe"
      },
      "execution_count": null,
      "outputs": [
        {
          "output_type": "stream",
          "name": "stdout",
          "text": [
            "<class 'int'> 1\n",
            "<class 'tuple'> (1,)\n"
          ]
        }
      ]
    },
    {
      "cell_type": "markdown",
      "source": [
        "### 5.2 튜플의 메서드"
      ],
      "metadata": {
        "id": "MocAwuFSZiDK"
      }
    },
    {
      "cell_type": "markdown",
      "source": [
        "- count 메서드"
      ],
      "metadata": {
        "id": "whOtDKDcZoR6"
      }
    },
    {
      "cell_type": "code",
      "source": [
        "t = dir(tuple)\n",
        "\n",
        "for i in t :\n",
        "    if not i.startswith(\"__\") :\n",
        "        print(i)"
      ],
      "metadata": {
        "colab": {
          "base_uri": "https://localhost:8080/"
        },
        "id": "KmSNowEOZqfP",
        "outputId": "856f7968-40cb-4b89-e642-ca2fa4cd7807"
      },
      "execution_count": null,
      "outputs": [
        {
          "output_type": "stream",
          "name": "stdout",
          "text": [
            "count\n",
            "index\n"
          ]
        }
      ]
    },
    {
      "cell_type": "markdown",
      "source": [
        "- index 메서드"
      ],
      "metadata": {
        "id": "rRUYlooKZrVJ"
      }
    },
    {
      "cell_type": "code",
      "source": [
        "t = (1,2,3,2,3)\n",
        "\n",
        "print(t.count(2))\n",
        "print(t.index(2))\n",
        "\n",
        "print(t.index(2,3))"
      ],
      "metadata": {
        "colab": {
          "base_uri": "https://localhost:8080/"
        },
        "id": "0ooi5D0kZs-b",
        "outputId": "2bf621ec-b8f3-42b0-80c4-110be9d79ad1"
      },
      "execution_count": null,
      "outputs": [
        {
          "output_type": "stream",
          "name": "stdout",
          "text": [
            "2\n",
            "1\n",
            "3\n"
          ]
        }
      ]
    },
    {
      "cell_type": "markdown",
      "source": [
        "### 5.3 튜플 원소로 Mutable 자료형 처리 방법"
      ],
      "metadata": {
        "id": "QJx6hC_sZxI3"
      }
    },
    {
      "cell_type": "markdown",
      "source": [
        "- 원소가 리스트일 경우"
      ],
      "metadata": {
        "id": "TnRae3CcZ2Tr"
      }
    },
    {
      "cell_type": "code",
      "source": [
        "t = (1,2,[1,2])\n",
        "print(id(t))\n",
        "t[2][0] = 99\n",
        "print(t)\n",
        "\n",
        "print(id(t))"
      ],
      "metadata": {
        "colab": {
          "base_uri": "https://localhost:8080/"
        },
        "id": "brz9fT_iZ37M",
        "outputId": "9ee5cee9-cb32-4ae9-a927-f29f495106f3"
      },
      "execution_count": null,
      "outputs": [
        {
          "output_type": "stream",
          "name": "stdout",
          "text": [
            "135516375173760\n",
            "(1, 2, [99, 2])\n",
            "135516375173760\n"
          ]
        }
      ]
    },
    {
      "cell_type": "markdown",
      "source": [
        "## **6. 리스트 자료형(list data type)**"
      ],
      "metadata": {
        "id": "tZTRlVOj3FDg"
      }
    },
    {
      "cell_type": "markdown",
      "source": [
        "- 파이썬에서 가장 자주 사용되는 자료형\n",
        "- 변경가능한 Sequence 자료형이며 다양한 자료형을 내부의 원소로 수용할 수 있음"
      ],
      "metadata": {
        "id": "OnzRUfo3Z8ha"
      }
    },
    {
      "cell_type": "markdown",
      "source": [
        "### 6.1 리스트 생성"
      ],
      "metadata": {
        "id": "RTdxSKh6aJWH"
      }
    },
    {
      "cell_type": "code",
      "source": [
        "l1 = list((1,2,3,))\n",
        "print(l1)\n",
        "\n",
        "l2 = []\n",
        "print(l2)\n",
        "\n",
        "l3 = [1,2,3]\n",
        "print(l3)"
      ],
      "metadata": {
        "colab": {
          "base_uri": "https://localhost:8080/"
        },
        "id": "agUyoH2dZBnJ",
        "outputId": "d0c86b62-6036-4a62-8d42-f88d0d447e8b"
      },
      "execution_count": null,
      "outputs": [
        {
          "output_type": "stream",
          "name": "stdout",
          "text": [
            "[1, 2, 3]\n",
            "[]\n",
            "[1, 2, 3]\n"
          ]
        }
      ]
    },
    {
      "cell_type": "markdown",
      "source": [
        "### 6.2 리스트 복사 처리"
      ],
      "metadata": {
        "id": "_o-P2HLQaWkq"
      }
    },
    {
      "cell_type": "markdown",
      "source": [
        "- 파이썬에서 복사가 되는 기준\n",
        "    - 리스트 내에 변경이 가능한 원소가 들어올 경우, 단순히 복사하면 내부까지 전부 복사가 되지 않아 동일한 인스턴스를 공유한 채로 처리될 수 있음\n",
        "    - 이런 점을 방지하기 위해서는 복사할 때 원소도 전부 다른 인스턴스로 변환이 되어야 다른 로직에서 리스트를 갱신할 때 공유된 리스트로 처리되는 것을 막을 수 있음\n",
        "- 2가지의 복사 기능\n",
        "    - 얕은 복사(Shallow Copy): 새로운 객체를 만들지만 내부 원소는 기존 원소를 참조함\n",
        "        - 리스트 자료형 내의 copy 메서드는 얕은 복사를 처리해서 새로운 리스트 인스턴스를 하나 만드는데 사용함\n",
        "    - 깊은 복사(Deep Copy): 새로운 객체를 만들고 내부 원소들도 다른 원소로 만듦"
      ],
      "metadata": {
        "id": "behevxBCae91"
      }
    },
    {
      "cell_type": "markdown",
      "source": [
        "- 리스트로 선언된 변수의 별칭 사용"
      ],
      "metadata": {
        "id": "2irh3dZ2aY_i"
      }
    },
    {
      "cell_type": "code",
      "source": [
        "l = [1,2,3,4]\n",
        "\n",
        "alias = l\n",
        "\n",
        "print(alias is l)\n",
        "print(alias ==  l)"
      ],
      "metadata": {
        "colab": {
          "base_uri": "https://localhost:8080/"
        },
        "id": "Fvd8myEWacUf",
        "outputId": "28c34d14-c91a-4d52-833e-10d7117b2c4e"
      },
      "execution_count": null,
      "outputs": [
        {
          "output_type": "stream",
          "name": "stdout",
          "text": [
            "True\n",
            "True\n"
          ]
        }
      ]
    },
    {
      "cell_type": "markdown",
      "source": [
        "- 리스트로 copy 메서드 사용"
      ],
      "metadata": {
        "id": "SXjr9L8GfVxr"
      }
    },
    {
      "cell_type": "code",
      "source": [
        "l = [1,2,3,4]\n",
        "\n",
        "lc = l.copy()\n",
        "\n",
        "print(lc == l)\n",
        "print(lc is l)"
      ],
      "metadata": {
        "colab": {
          "base_uri": "https://localhost:8080/"
        },
        "id": "cs7h8UAFfZY4",
        "outputId": "623dbd2f-ceec-4c51-b456-84745f2643d3"
      },
      "execution_count": null,
      "outputs": [
        {
          "output_type": "stream",
          "name": "stdout",
          "text": [
            "True\n",
            "False\n"
          ]
        }
      ]
    },
    {
      "cell_type": "markdown",
      "source": [
        "- 리스트 내의 원소로 리스트를 가질 경우 copy 메소드 사용"
      ],
      "metadata": {
        "id": "nqZbtPOQfacZ"
      }
    },
    {
      "cell_type": "code",
      "source": [
        "l = [1,2,3,4]\n",
        "\n",
        "ll = [l,l]\n",
        "print(ll)\n",
        "\n",
        "lc = ll.copy()\n",
        "\n",
        "print(lc)\n",
        "lc[0][0] = 999\n",
        "\n",
        "print(l)\n",
        "print(lc)"
      ],
      "metadata": {
        "colab": {
          "base_uri": "https://localhost:8080/"
        },
        "id": "tHL5Y6sAfe7X",
        "outputId": "2a28d9ef-8633-425d-b055-bee868ab3322"
      },
      "execution_count": null,
      "outputs": [
        {
          "output_type": "stream",
          "name": "stdout",
          "text": [
            "[[1, 2, 3, 4], [1, 2, 3, 4]]\n",
            "[[1, 2, 3, 4], [1, 2, 3, 4]]\n",
            "[999, 2, 3, 4]\n",
            "[[999, 2, 3, 4], [999, 2, 3, 4]]\n"
          ]
        }
      ]
    },
    {
      "cell_type": "markdown",
      "source": [
        "- 깊은 복사(deepcopy)를 하는 이유\n",
        "    - 리스트 내의 copy 메서드는 리스트 자체만을 복사해서 새로운 사본을 만들고 리스트 내의 원소에 대해서는 사본을 만들지 않음\n",
        "    - 리스트를 복사할 때 원본 리스트와 전혀 다른 리스트를 만들기 위해서는 리스트 내의 리스트 원소들도 다 다른 리스트가 만들어져야 함\n",
        "    - 이를 처리하기 위하여 copy라는 모듈을 별도로 제공하고, 그 내부의 deepcopy 함수를 사용해서 복사하여 원본과는 전혀 다른 리스트를 생성함"
      ],
      "metadata": {
        "id": "uyGhna8dfjKS"
      }
    },
    {
      "cell_type": "code",
      "source": [
        "import copy\n",
        "\n",
        "l = [1,2,3,4]\n",
        "\n",
        "ll = [l,l]\n",
        "print(ll)\n",
        "\n",
        "lc = copy.deepcopy(ll)\n",
        "\n",
        "print(lc)\n",
        "lc[0][0] = 999\n",
        "\n",
        "print(l)\n",
        "print(lc)"
      ],
      "metadata": {
        "colab": {
          "base_uri": "https://localhost:8080/"
        },
        "id": "roUSWN5qfkai",
        "outputId": "2f8bc756-bd8e-4834-8d7b-0187b3c0aad4"
      },
      "execution_count": null,
      "outputs": [
        {
          "output_type": "stream",
          "name": "stdout",
          "text": [
            "[[1, 2, 3, 4], [1, 2, 3, 4]]\n",
            "[[1, 2, 3, 4], [1, 2, 3, 4]]\n",
            "[1, 2, 3, 4]\n",
            "[[999, 2, 3, 4], [999, 2, 3, 4]]\n"
          ]
        }
      ]
    },
    {
      "cell_type": "code",
      "source": [
        "import copy\n",
        "\n",
        "l = [1,2,3,4]\n",
        "\n",
        "ll = [l.copy(),l.copy()]\n",
        "print(ll)\n",
        "\n",
        "lc = copy.deepcopy(ll)\n",
        "\n",
        "print(lc)\n",
        "lc[0][0] = 999\n",
        "\n",
        "print(l)\n",
        "print(lc)"
      ],
      "metadata": {
        "colab": {
          "base_uri": "https://localhost:8080/"
        },
        "id": "EAcFoHIUfm0i",
        "outputId": "7cb0fb52-bb1a-479d-9c6c-9395d0ce015d"
      },
      "execution_count": null,
      "outputs": [
        {
          "output_type": "stream",
          "name": "stdout",
          "text": [
            "[[1, 2, 3, 4], [1, 2, 3, 4]]\n",
            "[[1, 2, 3, 4], [1, 2, 3, 4]]\n",
            "[1, 2, 3, 4]\n",
            "[[999, 2, 3, 4], [1, 2, 3, 4]]\n"
          ]
        }
      ]
    },
    {
      "cell_type": "markdown",
      "source": [
        "### 6.3 리스트 자료형의 메서드"
      ],
      "metadata": {
        "id": "m---7PkFgPB8"
      }
    },
    {
      "cell_type": "markdown",
      "source": [
        "- 리스트의 주요 메서드"
      ],
      "metadata": {
        "id": "Ok7NvsLggZ_d"
      }
    },
    {
      "cell_type": "code",
      "source": [
        "import pprint\n",
        "\n",
        "for i in dir(list) :\n",
        "    if not i.startswith(\"__\") :\n",
        "        print(i)"
      ],
      "metadata": {
        "colab": {
          "base_uri": "https://localhost:8080/"
        },
        "id": "57bLP44qgOnh",
        "outputId": "270d95bb-3213-4e67-8d7c-2682c817d985"
      },
      "execution_count": null,
      "outputs": [
        {
          "output_type": "stream",
          "name": "stdout",
          "text": [
            "append\n",
            "clear\n",
            "copy\n",
            "count\n",
            "extend\n",
            "index\n",
            "insert\n",
            "pop\n",
            "remove\n",
            "reverse\n",
            "sort\n"
          ]
        }
      ]
    },
    {
      "cell_type": "markdown",
      "source": [
        "- 리스트의 원소 추가 삭제하기"
      ],
      "metadata": {
        "id": "Gfy03sx3gXEE"
      }
    },
    {
      "cell_type": "code",
      "source": [
        "# 빈 리스트 생성\n",
        "ll = []\n",
        "# 리스트의 끝에 원소 추가: 정수\n",
        "ll.append(1)\n",
        "print(ll)"
      ],
      "metadata": {
        "colab": {
          "base_uri": "https://localhost:8080/"
        },
        "id": "IdkYhZslgbvX",
        "outputId": "5b2b9bd1-f2e3-49ea-ea8d-289d5d525c97"
      },
      "execution_count": null,
      "outputs": [
        {
          "output_type": "stream",
          "name": "stdout",
          "text": [
            "[1]\n"
          ]
        }
      ]
    },
    {
      "cell_type": "code",
      "source": [
        "# 리스트의 끝에 원소 추가: 리스트\n",
        "ll.append([2])\n",
        "print(ll)"
      ],
      "metadata": {
        "colab": {
          "base_uri": "https://localhost:8080/"
        },
        "id": "G_a2apWTgkor",
        "outputId": "85527bb9-55c6-46b4-dd5d-b373c337d5fc"
      },
      "execution_count": null,
      "outputs": [
        {
          "output_type": "stream",
          "name": "stdout",
          "text": [
            "[1, [2]]\n"
          ]
        }
      ]
    },
    {
      "cell_type": "code",
      "source": [
        "# 리스트에 값 삭제 : 삭제된 원소를 리턴값\n",
        "a = ll.pop()\n",
        "print(a)\n",
        "print(ll)"
      ],
      "metadata": {
        "colab": {
          "base_uri": "https://localhost:8080/"
        },
        "id": "GtQZ9sFKgkeL",
        "outputId": "3f430307-1fb1-478c-f846-2e6e56bc66c1"
      },
      "execution_count": null,
      "outputs": [
        {
          "output_type": "stream",
          "name": "stdout",
          "text": [
            "1\n",
            "[]\n"
          ]
        }
      ]
    },
    {
      "cell_type": "code",
      "source": [
        "ll.append(2)\n",
        "print(ll)\n",
        "\n",
        "#특정 위치(인덱스)를 가지고 삭제\n",
        "b = ll.pop(0)\n",
        "print(b)\n",
        "print(ll)"
      ],
      "metadata": {
        "colab": {
          "base_uri": "https://localhost:8080/"
        },
        "id": "XM5WSviYgkWQ",
        "outputId": "2501b861-d55c-4b90-ba43-3425fe1848d0"
      },
      "execution_count": null,
      "outputs": [
        {
          "output_type": "stream",
          "name": "stdout",
          "text": [
            "[2]\n",
            "2\n",
            "[]\n"
          ]
        }
      ]
    },
    {
      "cell_type": "markdown",
      "source": [
        "- 리스트 합치기: extend"
      ],
      "metadata": {
        "id": "QdwWPYTUgdy8"
      }
    },
    {
      "cell_type": "code",
      "source": [
        "l8 = [1,2,3]\n",
        "l10 = [4,5,6]\n",
        "\n",
        "# l9에 다른 리스트 추가해서 합치기\n",
        "l8.extend(l10)\n",
        "print(l8)\n",
        "l9 = [1,2,3]\n",
        "print(l9 + l10)"
      ],
      "metadata": {
        "colab": {
          "base_uri": "https://localhost:8080/"
        },
        "id": "Gi2Ouss5gh7W",
        "outputId": "b7126872-f746-469a-89a9-5af7462093be"
      },
      "execution_count": null,
      "outputs": [
        {
          "output_type": "stream",
          "name": "stdout",
          "text": [
            "[1, 2, 3, 4, 5, 6]\n",
            "[1, 2, 3, 4, 5, 6]\n"
          ]
        }
      ]
    },
    {
      "cell_type": "markdown",
      "source": [
        "- 리스트 특정 위치에 삽입 및 전체 삭제"
      ],
      "metadata": {
        "id": "KCCgC26Bg3WR"
      }
    },
    {
      "cell_type": "code",
      "source": [
        "# 특정 위치에 삽입하기\n",
        "l2 = [1,2,3,4]\n",
        "l2.insert(0,5)\n",
        "print(l2)\n",
        "\n",
        "l2.insert(0,5)\n",
        "print(l2)"
      ],
      "metadata": {
        "colab": {
          "base_uri": "https://localhost:8080/"
        },
        "id": "Dk8NoIRTg-2y",
        "outputId": "acadc109-e52b-47f7-8a9f-36c87592f62f"
      },
      "execution_count": null,
      "outputs": [
        {
          "output_type": "stream",
          "name": "stdout",
          "text": [
            "[5, 1, 2, 3, 4]\n",
            "[5, 5, 1, 2, 3, 4]\n"
          ]
        }
      ]
    },
    {
      "cell_type": "code",
      "source": [
        "# 특정 값으로 삭제\n",
        "l2.remove(5)\n",
        "print(l2)\n",
        "\n",
        "l2.remove(5)\n",
        "print(l2)"
      ],
      "metadata": {
        "colab": {
          "base_uri": "https://localhost:8080/"
        },
        "id": "EHedKRnphA0f",
        "outputId": "cc230bd5-a6db-4c43-b0c0-c15e03a1aa32"
      },
      "execution_count": null,
      "outputs": [
        {
          "output_type": "stream",
          "name": "stdout",
          "text": [
            "[5, 1, 2, 3, 4]\n",
            "[1, 2, 3, 4]\n"
          ]
        }
      ]
    },
    {
      "cell_type": "code",
      "source": [
        "# 전체 삭제\n",
        "l2.clear()\n",
        "print(l2)"
      ],
      "metadata": {
        "colab": {
          "base_uri": "https://localhost:8080/"
        },
        "id": "fWMsjp75hCmS",
        "outputId": "ad4f5a4a-a0c9-4b57-9a6a-e7da911e8913"
      },
      "execution_count": null,
      "outputs": [
        {
          "output_type": "stream",
          "name": "stdout",
          "text": [
            "[]\n"
          ]
        }
      ]
    },
    {
      "cell_type": "markdown",
      "source": [
        "- 리스트 내의 동일원소를 확인하고 삭제하기"
      ],
      "metadata": {
        "id": "OoEJ4vGYhD7v"
      }
    },
    {
      "cell_type": "code",
      "source": [
        "l4 = [1,2,3,4,5,2,2,2]\n",
        "# 동일한 원소 갯수 세기\n",
        "c = l4.count(2)\n",
        "print(c)\n",
        "\n",
        "for i in range(c) :\n",
        "    l4.remove(2)\n",
        "\n",
        "print(l4)"
      ],
      "metadata": {
        "colab": {
          "base_uri": "https://localhost:8080/"
        },
        "id": "WMu9UoVohHsN",
        "outputId": "7b3d9699-39f4-49d1-9405-122fd146f922"
      },
      "execution_count": null,
      "outputs": [
        {
          "output_type": "stream",
          "name": "stdout",
          "text": [
            "4\n",
            "[1, 3, 4, 5]\n"
          ]
        }
      ]
    },
    {
      "cell_type": "markdown",
      "source": [
        "- 리스트 원소들 정렬하기: sort, reverse"
      ],
      "metadata": {
        "id": "N9zTkbrehJQp"
      }
    },
    {
      "cell_type": "code",
      "source": [
        "l4 = [1,2,3,4,5,2,2,2]\n",
        "\n",
        "# 원소들 소팅 : 올림차수\n",
        "l4.sort()\n",
        "print(l4)"
      ],
      "metadata": {
        "colab": {
          "base_uri": "https://localhost:8080/"
        },
        "id": "fyWs37Y_hNMA",
        "outputId": "6715d728-db09-47a3-d882-1eff26bd4cd7"
      },
      "execution_count": null,
      "outputs": [
        {
          "output_type": "stream",
          "name": "stdout",
          "text": [
            "[1, 2, 2, 2, 2, 3, 4, 5]\n"
          ]
        }
      ]
    },
    {
      "cell_type": "code",
      "source": [
        "# 원소들 소팅 : 역순으로 소팅\n",
        "l4.reverse()\n",
        "print(l4)"
      ],
      "metadata": {
        "colab": {
          "base_uri": "https://localhost:8080/"
        },
        "id": "kANbiwqshOn9",
        "outputId": "41ba3861-dd28-45da-ffde-17277867e4f6"
      },
      "execution_count": null,
      "outputs": [
        {
          "output_type": "stream",
          "name": "stdout",
          "text": [
            "[5, 4, 3, 2, 2, 2, 2, 1]\n"
          ]
        }
      ]
    },
    {
      "cell_type": "code",
      "source": [
        "# 소팅 기준을 주고 역순으로 소팅\n",
        "l4.sort()\n",
        "print(l4)"
      ],
      "metadata": {
        "colab": {
          "base_uri": "https://localhost:8080/"
        },
        "id": "pEDSKBYwhONp",
        "outputId": "94c2301e-6e2e-45f4-866d-86d60d19c1c6"
      },
      "execution_count": null,
      "outputs": [
        {
          "output_type": "stream",
          "name": "stdout",
          "text": [
            "[1, 2, 2, 2, 2, 3, 4, 5]\n"
          ]
        }
      ]
    },
    {
      "cell_type": "code",
      "source": [
        "l4.sort(reverse=True)\n",
        "print(l4)"
      ],
      "metadata": {
        "colab": {
          "base_uri": "https://localhost:8080/"
        },
        "id": "6Ju_n3DyhTv3",
        "outputId": "1f5bc551-29b9-4fc0-adb2-6dc8d53bacbd"
      },
      "execution_count": null,
      "outputs": [
        {
          "output_type": "stream",
          "name": "stdout",
          "text": [
            "[5, 4, 3, 2, 2, 2, 2, 1]\n"
          ]
        }
      ]
    },
    {
      "cell_type": "markdown",
      "source": [
        "### 6.4 리스트 내의 리스트 초기화 하기"
      ],
      "metadata": {
        "id": "m9QYNcgXhYq_"
      }
    },
    {
      "cell_type": "markdown",
      "source": [
        "- 리스트로 * 연산자 비교하기"
      ],
      "metadata": {
        "id": "ePeelZlghfSZ"
      }
    },
    {
      "cell_type": "code",
      "source": [
        "l = [4,5,6]\n",
        "\n",
        "l2 = l*2\n",
        "\n",
        "print(l2)\n",
        "l.extend(l)\n",
        "print(l)"
      ],
      "metadata": {
        "colab": {
          "base_uri": "https://localhost:8080/"
        },
        "id": "96y8DZW0hh4P",
        "outputId": "42edd680-8e83-4a7d-dda9-676891bfeeb4"
      },
      "execution_count": null,
      "outputs": [
        {
          "output_type": "stream",
          "name": "stdout",
          "text": [
            "[4, 5, 6, 4, 5, 6]\n",
            "[4, 5, 6, 4, 5, 6]\n"
          ]
        }
      ]
    },
    {
      "cell_type": "markdown",
      "source": [
        "#### 6.4.1 리스트 초기화 시 주의사항"
      ],
      "metadata": {
        "id": "j-iLhgFyiEIs"
      }
    },
    {
      "cell_type": "markdown",
      "source": [
        "- 외부에 리스트 원소를 반복해서 처리하고 내부에 넣고 처리"
      ],
      "metadata": {
        "id": "fGRt5Bpihlvx"
      }
    },
    {
      "cell_type": "code",
      "source": [
        "row = [3] * 3\n",
        "print(row)\n",
        "\n",
        "li = []\n",
        "for _ in range(3) :\n",
        "    li.append(row)\n",
        "\n",
        "print(li)\n",
        "\n",
        "li[0][0] = 99\n",
        "\n",
        "print(li)\n",
        "print(row)"
      ],
      "metadata": {
        "colab": {
          "base_uri": "https://localhost:8080/"
        },
        "id": "rmoACEaLh3Yl",
        "outputId": "022204de-2382-4025-b785-75231ae73259"
      },
      "execution_count": null,
      "outputs": [
        {
          "output_type": "stream",
          "name": "stdout",
          "text": [
            "[3, 3, 3]\n",
            "[[3, 3, 3], [3, 3, 3], [3, 3, 3]]\n",
            "[[99, 3, 3], [99, 3, 3], [99, 3, 3]]\n",
            "[99, 3, 3]\n"
          ]
        }
      ]
    },
    {
      "cell_type": "markdown",
      "source": [
        "- 리스트를 for문 안에서 초기화"
      ],
      "metadata": {
        "id": "0K3EmOs1iJHb"
      }
    },
    {
      "cell_type": "code",
      "source": [
        "li = []\n",
        "for _ in range(3) :\n",
        "    row = [3] * 3\n",
        "    print(id(row))\n",
        "    li.append(row)\n",
        "\n",
        "print(li)\n",
        "\n",
        "li[0][0] = 99\n",
        "\n",
        "print(li)\n",
        "print(id(row), row)"
      ],
      "metadata": {
        "colab": {
          "base_uri": "https://localhost:8080/"
        },
        "id": "bqLbSRvIh6Km",
        "outputId": "35035d2b-6f35-42fc-c638-8e9def7cc009"
      },
      "execution_count": null,
      "outputs": [
        {
          "output_type": "stream",
          "name": "stdout",
          "text": [
            "135516390797760\n",
            "135516374302080\n",
            "135516374352960\n",
            "[[3, 3, 3], [3, 3, 3], [3, 3, 3]]\n",
            "[[99, 3, 3], [3, 3, 3], [3, 3, 3]]\n",
            "135516374352960 [3, 3, 3]\n"
          ]
        }
      ]
    },
    {
      "cell_type": "markdown",
      "source": [
        "- 지능형(comprehension) 리스트로 처리하기"
      ],
      "metadata": {
        "id": "2p1l53KmiRJ7"
      }
    },
    {
      "cell_type": "code",
      "source": [
        "li = [ [3]*3 for _ in range(3)]\n",
        "print(li)\n",
        "\n",
        "li[0][0] = 99\n",
        "\n",
        "print(li)"
      ],
      "metadata": {
        "colab": {
          "base_uri": "https://localhost:8080/"
        },
        "id": "Sg72wiVBiVvi",
        "outputId": "5f276e75-f03c-470e-a902-dad37cc6e273"
      },
      "execution_count": null,
      "outputs": [
        {
          "output_type": "stream",
          "name": "stdout",
          "text": [
            "[[3, 3, 3], [3, 3, 3], [3, 3, 3]]\n",
            "[[99, 3, 3], [3, 3, 3], [3, 3, 3]]\n"
          ]
        }
      ]
    },
    {
      "cell_type": "code",
      "source": [
        "squares = [x**2 for x in range(1, 6)]\n",
        "print(squares)"
      ],
      "metadata": {
        "colab": {
          "base_uri": "https://localhost:8080/"
        },
        "id": "pYKPlWsi_Hpu",
        "outputId": "bfcfc713-303a-4ee3-f497-5dd3e67d25dc"
      },
      "execution_count": null,
      "outputs": [
        {
          "output_type": "stream",
          "name": "stdout",
          "text": [
            "[1, 4, 9, 16, 25]\n"
          ]
        }
      ]
    },
    {
      "cell_type": "code",
      "source": [
        "even_squares = []\n",
        "for i in range(1, 11, 2):\n",
        "    even_squares.append(i**2)\n",
        "\n",
        "print(even_squares)"
      ],
      "metadata": {
        "colab": {
          "base_uri": "https://localhost:8080/"
        },
        "id": "6ZnjqFPy_mVT",
        "outputId": "9e9476f3-0fae-4abc-cfac-b06886b3f5aa"
      },
      "execution_count": null,
      "outputs": [
        {
          "output_type": "stream",
          "name": "stdout",
          "text": [
            "[1, 9, 25, 49, 81]\n"
          ]
        }
      ]
    },
    {
      "cell_type": "code",
      "source": [
        "even_squares = [x**2 for x in range(1, 11, 2)]\n",
        "print(even_squares)"
      ],
      "metadata": {
        "colab": {
          "base_uri": "https://localhost:8080/"
        },
        "id": "MZmjBFwQAHf5",
        "outputId": "b3985ecb-fe95-48b8-aec7-f61d0ca229c3"
      },
      "execution_count": null,
      "outputs": [
        {
          "output_type": "stream",
          "name": "stdout",
          "text": [
            "[1, 9, 25, 49, 81]\n"
          ]
        }
      ]
    },
    {
      "cell_type": "code",
      "source": [
        "list_ = [3 * x for x in range(1, 11)]\n",
        "print(list_)"
      ],
      "metadata": {
        "colab": {
          "base_uri": "https://localhost:8080/"
        },
        "id": "HR1hNv-lAV_T",
        "outputId": "78c9a761-6de8-45c1-9cc9-eade8ab11a47"
      },
      "execution_count": null,
      "outputs": [
        {
          "output_type": "stream",
          "name": "stdout",
          "text": [
            "[3, 6, 9, 12, 15, 18, 21, 24, 27, 30]\n"
          ]
        }
      ]
    },
    {
      "cell_type": "code",
      "source": [
        "list_ = [3 * x for x in range(1, 11) if x % 3 != 0]\n",
        "print(list_)"
      ],
      "metadata": {
        "colab": {
          "base_uri": "https://localhost:8080/"
        },
        "id": "RTJx-wWiAjYa",
        "outputId": "b3e58d3b-bac3-43e9-d26e-c0c8fc07e593"
      },
      "execution_count": null,
      "outputs": [
        {
          "output_type": "stream",
          "name": "stdout",
          "text": [
            "[3, 6, 12, 15, 21, 24, 30]\n"
          ]
        }
      ]
    },
    {
      "cell_type": "code",
      "source": [
        "list_ = [x * y for x in range(2, 5) for y in range(1, 10)]\n",
        "print(list_)"
      ],
      "metadata": {
        "colab": {
          "base_uri": "https://localhost:8080/"
        },
        "id": "7vjHcgiPA-rD",
        "outputId": "d9160ac9-d391-4aa2-efcb-232d073f04c1"
      },
      "execution_count": null,
      "outputs": [
        {
          "output_type": "stream",
          "name": "stdout",
          "text": [
            "[2, 4, 6, 8, 10, 12, 14, 16, 18, 3, 6, 9, 12, 15, 18, 21, 24, 27, 4, 8, 12, 16, 20, 24, 28, 32, 36]\n"
          ]
        }
      ]
    },
    {
      "cell_type": "code",
      "source": [
        "list_ = [3 * x if x % 3 != 0 else 1 for x in range(1, 11) ]\n",
        "print(list_)"
      ],
      "metadata": {
        "colab": {
          "base_uri": "https://localhost:8080/"
        },
        "id": "ShE1LtaTBdJM",
        "outputId": "f945ca17-fd3a-4778-c46b-4e77b4a9899b"
      },
      "execution_count": null,
      "outputs": [
        {
          "output_type": "stream",
          "name": "stdout",
          "text": [
            "[3, 6, 1, 12, 15, 1, 21, 24, 1, 30]\n"
          ]
        }
      ]
    },
    {
      "cell_type": "markdown",
      "source": [
        "## **7. Sequence 자료형 형 변환**"
      ],
      "metadata": {
        "id": "OkvJG9ZW3FAb"
      }
    },
    {
      "cell_type": "markdown",
      "source": [
        "- 파이썬은 별도의 형 변환 기능이 없음\n",
        "- Sequence 자료형, 숫자 자료형 등 형 변환은 새롭게 인스턴스를 만듦"
      ],
      "metadata": {
        "id": "0zVJ4OnQi2Ix"
      }
    },
    {
      "cell_type": "markdown",
      "source": [
        "### 7.1 클래스만 사용한 형 변환"
      ],
      "metadata": {
        "id": "DY4RFhqu3E9W"
      }
    },
    {
      "cell_type": "code",
      "source": [
        "l = [1,2,3,4]\n",
        "\n",
        "t = tuple(l)\n",
        "print(t)\n",
        "\n",
        "s = str(l)\n",
        "print(repr(s))\n",
        "\n",
        "ls = list(s)\n",
        "print(ls)"
      ],
      "metadata": {
        "colab": {
          "base_uri": "https://localhost:8080/"
        },
        "id": "jYhIzD1yib6r",
        "outputId": "bdbdf4fc-fbe2-419e-aa69-3e8272291ea0"
      },
      "execution_count": null,
      "outputs": [
        {
          "output_type": "stream",
          "name": "stdout",
          "text": [
            "(1, 2, 3, 4)\n",
            "'[1, 2, 3, 4]'\n",
            "['[', '1', ',', ' ', '2', ',', ' ', '3', ',', ' ', '4', ']']\n"
          ]
        }
      ]
    },
    {
      "cell_type": "markdown",
      "source": [
        "- 문자열 원소로 구성된 리스트나 튜플을 문자열로 변환"
      ],
      "metadata": {
        "id": "as6I6r1Mihvl"
      }
    },
    {
      "cell_type": "code",
      "source": [
        "s = \"str\"\n",
        "\n",
        "l = list(s)\n",
        "print(l)\n",
        "\n",
        "print(\"\".join(l))"
      ],
      "metadata": {
        "colab": {
          "base_uri": "https://localhost:8080/"
        },
        "id": "jlOSURjFikbf",
        "outputId": "e04a945a-d1f8-47f9-d744-ced6e963b0e2"
      },
      "execution_count": null,
      "outputs": [
        {
          "output_type": "stream",
          "name": "stdout",
          "text": [
            "['s', 't', 'r']\n",
            "str\n"
          ]
        }
      ]
    },
    {
      "cell_type": "markdown",
      "source": [
        "- 문자열이나 숫자로 구성된 리스트나 튜플을 문자열로 변환"
      ],
      "metadata": {
        "id": "bXZC1ApTilYM"
      }
    },
    {
      "cell_type": "code",
      "source": [
        "l = [1,'h','e','l','l']\n",
        "\n",
        "print(\" \".join(l))"
      ],
      "metadata": {
        "colab": {
          "base_uri": "https://localhost:8080/",
          "height": 176
        },
        "id": "sXZrhRO2iprz",
        "outputId": "f3dc6bdd-ec53-4d6c-a506-9b370f2a8add"
      },
      "execution_count": null,
      "outputs": [
        {
          "output_type": "error",
          "ename": "TypeError",
          "evalue": "sequence item 0: expected str instance, int found",
          "traceback": [
            "\u001b[0;31m---------------------------------------------------------------------------\u001b[0m",
            "\u001b[0;31mTypeError\u001b[0m                                 Traceback (most recent call last)",
            "\u001b[0;32m<ipython-input-47-cdefba4edf53>\u001b[0m in \u001b[0;36m<cell line: 3>\u001b[0;34m()\u001b[0m\n\u001b[1;32m      1\u001b[0m \u001b[0ml\u001b[0m \u001b[0;34m=\u001b[0m \u001b[0;34m[\u001b[0m\u001b[0;36m1\u001b[0m\u001b[0;34m,\u001b[0m\u001b[0;34m'h'\u001b[0m\u001b[0;34m,\u001b[0m\u001b[0;34m'e'\u001b[0m\u001b[0;34m,\u001b[0m\u001b[0;34m'l'\u001b[0m\u001b[0;34m,\u001b[0m\u001b[0;34m'l'\u001b[0m\u001b[0;34m]\u001b[0m\u001b[0;34m\u001b[0m\u001b[0;34m\u001b[0m\u001b[0m\n\u001b[1;32m      2\u001b[0m \u001b[0;34m\u001b[0m\u001b[0m\n\u001b[0;32m----> 3\u001b[0;31m \u001b[0mprint\u001b[0m\u001b[0;34m(\u001b[0m\u001b[0;34m\" \"\u001b[0m\u001b[0;34m.\u001b[0m\u001b[0mjoin\u001b[0m\u001b[0;34m(\u001b[0m\u001b[0ml\u001b[0m\u001b[0;34m)\u001b[0m\u001b[0;34m)\u001b[0m\u001b[0;34m\u001b[0m\u001b[0;34m\u001b[0m\u001b[0m\n\u001b[0m",
            "\u001b[0;31mTypeError\u001b[0m: sequence item 0: expected str instance, int found"
          ]
        }
      ]
    },
    {
      "cell_type": "code",
      "source": [
        "l = [1,'h','e','l','l']\n",
        "\n",
        "print(\"\".join(map(str,l)))"
      ],
      "metadata": {
        "colab": {
          "base_uri": "https://localhost:8080/"
        },
        "id": "QRzQFvrDis5L",
        "outputId": "4d5b6c6c-38c7-4878-8864-e19a9d60f424"
      },
      "execution_count": null,
      "outputs": [
        {
          "output_type": "stream",
          "name": "stdout",
          "text": [
            "1hell\n"
          ]
        }
      ]
    }
  ]
}