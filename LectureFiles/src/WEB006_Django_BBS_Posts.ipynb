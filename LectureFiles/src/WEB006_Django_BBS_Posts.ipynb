{
  "nbformat": 4,
  "nbformat_minor": 0,
  "metadata": {
    "colab": {
      "provenance": [],
      "toc_visible": true
    },
    "kernelspec": {
      "name": "python3",
      "display_name": "Python 3"
    },
    "language_info": {
      "name": "python"
    }
  },
  "cells": [
    {
      "cell_type": "markdown",
      "source": [
        "# **Django REST Framework + React.js 게시판 만들기 (2): 게시글 기능**"
      ],
      "metadata": {
        "id": "YJq3qLFUl5d2"
      }
    },
    {
      "cell_type": "markdown",
      "source": [
        "## **1. 게시글 기능 정리**"
      ],
      "metadata": {
        "id": "_P6OjjMhmBN1"
      }
    },
    {
      "cell_type": "markdown",
      "source": [
        "- 게시글 생성\n",
        "- 게시글 1개 가져오기\n",
        "- 게시글 목록 가져오기(가져오는 개수 제한하기)\n",
        "- 게시글 수정하기\n",
        "- 게시글 삭제하기\n",
        "- 게시글 좋아요 기능\n",
        "- 게시글 필터링(좋아요 누른 글/내가 작성한 글)\n",
        "- 게시글 각 기능마다 권한 설정"
      ],
      "metadata": {
        "id": "Q15oq1azmR8_"
      }
    },
    {
      "cell_type": "markdown",
      "source": [
        "## **2. 게시글 모델 만들기 & 마이그레이션**"
      ],
      "metadata": {
        "id": "NRt_QNEPmix9"
      }
    },
    {
      "cell_type": "markdown",
      "source": [
        "### 2.1 Start App"
      ],
      "metadata": {
        "id": "QZ1ah7VFm0C4"
      }
    },
    {
      "cell_type": "code",
      "execution_count": null,
      "metadata": {
        "id": "VYc7E9_wlqV9"
      },
      "outputs": [],
      "source": [
        "python manage.py startapp posts"
      ]
    },
    {
      "cell_type": "markdown",
      "source": [
        "### 2.2 settings.py 설정"
      ],
      "metadata": {
        "id": "OpT3Ex95mXXd"
      }
    },
    {
      "cell_type": "code",
      "source": [
        "# board/settings.py\n",
        "\n",
        "INSTALLED_APPS = [\n",
        "    'django.contrib.admin',\n",
        "    'django.contrib.auth',\n",
        "    'django.contrib.contenttypes',\n",
        "    'django.contrib.sessions',\n",
        "    'django.contrib.messages',\n",
        "    'django.contrib.staticfiles',\n",
        "    'rest_framework',\n",
        "    'rest_framework.authtoken',\n",
        "    'users',\n",
        "    'corsheaders',\n",
        "    'posts',\n",
        "]"
      ],
      "metadata": {
        "id": "EidMu8SHm582"
      },
      "execution_count": null,
      "outputs": []
    },
    {
      "cell_type": "markdown",
      "source": [
        "### 2.3 Models"
      ],
      "metadata": {
        "id": "Zz5Ynol57sq_"
      }
    },
    {
      "cell_type": "markdown",
      "source": [
        "- 모델의 필드 구성\n",
        "    - 저자\n",
        "    - 저자 프로필\n",
        "    - 제목\n",
        "    - 카테고리\n",
        "    - 본문\n",
        "    - 이미지 → 이미지가 없을 때는 default.png 파일 표시\n",
        "    - 좋아요 누른 사람들 → 다대다(ManyToMany)\n",
        "    - 글이 올라간 시간"
      ],
      "metadata": {
        "id": "f1TAIl7UniFp"
      }
    },
    {
      "cell_type": "code",
      "source": [
        "# posts/models.py\n",
        "from django.db import models\n",
        "from django.contrib.auth.models import User\n",
        "from django.utils import timezone\n",
        "from users.models import Profile\n",
        "\n",
        "class Post(models.Model):\n",
        "    author = models.ForeignKey(User, on_delete=models.CASCADE)\n",
        "    profile = models.ForeignKey(Profile, on_delete=models.CASCADE, blank=True)\n",
        "    title = models.CharField(max_length=128)\n",
        "    category = models.CharField(max_length=128)\n",
        "    body = models.TextField()\n",
        "    image = models.ImageField(upload_to='post/', default='default.png')\n",
        "    likes = models.ManyToManyField(User)\n",
        "    published_date = models.DateTimeField(default=timezone.now)"
      ],
      "metadata": {
        "id": "lNMUm67lnkNA"
      },
      "execution_count": null,
      "outputs": []
    },
    {
      "cell_type": "markdown",
      "source": [
        "- 마이그레이션"
      ],
      "metadata": {
        "id": "O3LPCsiVoqwy"
      }
    },
    {
      "cell_type": "code",
      "source": [
        "# Migration\n",
        "python manage.py makemigrations\n",
        "python manage.py migrate"
      ],
      "metadata": {
        "id": "PegSepa9om70"
      },
      "execution_count": null,
      "outputs": []
    },
    {
      "cell_type": "markdown",
      "source": [
        "- 마이그레이션 시 오류 발생\n",
        "    - author, likes가 모두 User를 참조하는 중 → 오류 발생\n",
        "    <br><br>\n",
        "    - 관련 내용\n",
        "        - relation_name에서의 오류 → 참조관계에서의 오류\n",
        "            - 저자 → Users 모델을 ForeignKey로 참조 중(author와 연관) → post.author.username과 같이 참조 가능\n",
        "            - User 모델에서는 post라는 이름을 모름 → user.post.title과 같이 참조 불가능\n",
        "\n",
        "                ```\n",
        "                # 이런 방식으로는 역관계에서도 데이터에 접근 가능\n",
        "                user = User.objects.get(pk=1)\n",
        "                posts = user.post_set.all()\n",
        "                ```\n",
        "\n",
        "                - 여기서 post_set 대신 사용하는 것이 related_name\n",
        "\n",
        "                ```\n",
        "                author = models.ForeignKey(User, on_delete=models.CASCADE, related_name='author')\n",
        "                ```\n",
        "                - 위와 같이 이름을 지정하고\n",
        "                ```\n",
        "                user = User.objects.get(pk=1)\n",
        "                posts = user.posts.all()\n",
        "                ```\n",
        "                -이렇게 하면 유저가 작성한 글들을 확인할 수 있음\n",
        "                <br><br>\n",
        "    - 위의 오류에서는 author, likes가 모두 User를 참조하는 중<br>\n",
        "        → 둘 다 related_name을 지정하지 않고 역관계로 User에서 author, likes에 참조하려고 하므로<br>\n",
        "        → user.post_set.all()이 되어 어떤 것을 잠조해야 하는지 구분할 수 없음<br>\n",
        "        → 오류 발생"
      ],
      "metadata": {
        "id": "ebcehMzFpnMw"
      }
    },
    {
      "cell_type": "code",
      "source": [
        "# posts/models.py\n",
        "from django.db import models\n",
        "from django.contrib.auth.models import User\n",
        "from django.utils import timezone\n",
        "from users.models import Profile\n",
        "\n",
        "class Post(models.Model):\n",
        "    author = models.ForeignKey(User, on_delete=models.CASCADE, related_name='posts')\n",
        "    profile = models.ForeignKey(Profile, on_delete=models.CASCADE, blank=True)\n",
        "    title = models.CharField(max_length=128)\n",
        "    category = models.CharField(max_length=128)\n",
        "    body = models.TextField()\n",
        "    image = models.ImageField(upload_to='post/', default='default.png')\n",
        "    likes = models.ManyToManyField(User, related_name='like_posts', blank=True)\n",
        "    published_date = models.DateTimeField(default=timezone.now)"
      ],
      "metadata": {
        "id": "9xY4i435ppdV"
      },
      "execution_count": null,
      "outputs": []
    },
    {
      "cell_type": "code",
      "source": [
        "# Migration\n",
        "python manage.py makemigrations\n",
        "python manage.py migrate"
      ],
      "metadata": {
        "id": "_1Hz7vYnvoLI"
      },
      "execution_count": null,
      "outputs": []
    },
    {
      "cell_type": "markdown",
      "source": [
        "## **3. 게시글 기능**"
      ],
      "metadata": {
        "id": "-QW_RsiY8oC-"
      }
    },
    {
      "cell_type": "markdown",
      "source": [
        "### 3.1 Serializers"
      ],
      "metadata": {
        "id": "uguiXi_nzRB3"
      }
    },
    {
      "cell_type": "markdown",
      "source": [
        "- PostSerializer()\n",
        "    - 해당 게시글에 대한 모든 정보를 JSON으로 변환하여 전달하는 역할을 수행\n",
        "    - profile 필드를 작성하지 않으면 profile 필드에는 profile의 PK 값만 나타나므로 ProfileSerializer를 포함하도록 함\n",
        "        - 이런 형태를 Nested Serializer라고 함\n",
        "- PostCreateSerializer()\n",
        "    - 게시물을 등록할 때 유저는 제목, 카테고리, 본문, 이미지 등만 입력함\n",
        "    - 나머지는 시스템이 알아서 채워주거나 빈칸으로 남겨둠\n",
        "    - 시리얼라이저는 유저가 입력한 데이터를 검증하고 Django 데이터로 변환하여 저장하게 하는 역할을 수행\n"
      ],
      "metadata": {
        "id": "_AhDLqfrvr4E"
      }
    },
    {
      "cell_type": "code",
      "source": [
        "# posts/serializers.py\n",
        "from rest_framework import serializers\n",
        "\n",
        "from users.serializers import ProfileSerializer\n",
        "from .models import Post\n",
        "\n",
        "\n",
        "class PostSerializer(serializers.ModelSerializer):\n",
        "    profile = ProfileSerializer(read_only=True)\n",
        "\n",
        "    class Meta:\n",
        "        model = Post\n",
        "        fields = (\"pk\", \"profile\", \"title\", \"body\", \"image\", \"published_date\", \"likes\")\n",
        "\n",
        "\n",
        "class PostCreateSerializer(serializers.ModelSerializer):\n",
        "    class Meta:\n",
        "        model = Post\n",
        "        fields = (\"title\", \"category\", \"body\", \"image\")"
      ],
      "metadata": {
        "id": "lNYsQw4TvvLl"
      },
      "execution_count": null,
      "outputs": []
    },
    {
      "cell_type": "markdown",
      "source": [
        "### 3.2 Views(CRUD) + 권한"
      ],
      "metadata": {
        "id": "jQRhh2R-zIOc"
      }
    },
    {
      "cell_type": "markdown",
      "source": [
        "- 게시글은 모든 CRUD 기능이 포함되어 있으므로 ViewSet을 사용하여 쉽게 적용 가능함\n",
        "- 단, 각기 다른 시리얼라이저를 적재적소에 활용하도록 코드를 작성해야 함\n",
        "- 게시글 생성 시 유저가 입력해 주지 않는 저자 정보를 같이 넣을 수 있도록 함\n",
        "<br><br>\n",
        "- 요구되는 권한\n",
        "    - 게시글의 조회: 모든 사람\n",
        "    - 게시글의 생성: 인증된 유저만 가능\n",
        "    - 게시글의 수정/삭제: 해당 글의 작성자만 가능\n",
        "- User에서의 CustomReadOnly와 다른 점\n",
        "    - 각 객체별 권한 뿐만 아니라 전체 객체에 대한 권한도 포함해야 함(목록 조회/생성)\n",
        "        - has_permission()을 함께 구현"
      ],
      "metadata": {
        "id": "olkwERGDDCJd"
      }
    },
    {
      "cell_type": "code",
      "source": [
        "# posts/permissions.py\n",
        "from rest_framework import permissions\n",
        "\n",
        "\n",
        "class CustomReadOnly(permissions.BasePermission):\n",
        "    ## 글 조회: 누구나, 생성: 로그인한 유저, 편집: 글 작성자\n",
        "    def has_permission(self, request, view):\n",
        "        if request.method == 'GET':\n",
        "            return True\n",
        "        return request.user.is_authenticated\n",
        "\n",
        "    def has_object_permission(self, request, view, obj):\n",
        "        if request.method in permissions.SAFE_METHODS:\n",
        "            return True\n",
        "        return obj.author == request.user"
      ],
      "metadata": {
        "id": "26OGmsU6zMT8"
      },
      "execution_count": null,
      "outputs": []
    },
    {
      "cell_type": "code",
      "source": [
        "# posts/views.py\n",
        "from rest_framework import viewsets\n",
        "\n",
        "from users.models import Profile\n",
        "from .models import Post\n",
        "from .permissions import CustomReadOnly\n",
        "from .serializers import PostSerializer, PostCreateSerializer\n",
        "\n",
        "\n",
        "class PostViewSet(viewsets.ModelViewSet):\n",
        "    queryset = Post.objects.all()\n",
        "    permission_classes = [CustomReadOnly]\n",
        "\n",
        "    def get_serializer_class(self):\n",
        "        if self.action == 'list' or 'retrieve':\n",
        "            return PostSerializer\n",
        "        return PostCreateSerializer\n",
        "\n",
        "    def perform_create(self, serializer):\n",
        "        profile = Profile.objects.get(user=self.request.user)\n",
        "        serializer.save(author=self.request.user, profile=profile)"
      ],
      "metadata": {
        "id": "VbsHQc2g0Ak1"
      },
      "execution_count": null,
      "outputs": []
    },
    {
      "cell_type": "markdown",
      "source": [
        "### 3.3 URL"
      ],
      "metadata": {
        "id": "5ADHoxDG0oMU"
      }
    },
    {
      "cell_type": "markdown",
      "source": [
        "- ViewSet을 사용하면 라우터가 함께 따라옴\n",
        "    - 라우터에 등록된 url을 활용함"
      ],
      "metadata": {
        "id": "RFhSt3Ax1Nu5"
      }
    },
    {
      "cell_type": "code",
      "source": [
        "# posts/urls.py\n",
        "from django.urls import path\n",
        "from rest_framework import routers\n",
        "\n",
        "from .views import PostViewSet\n",
        "\n",
        "router = routers.SimpleRouter()\n",
        "router.register('posts', PostViewSet)\n",
        "\n",
        "urlpatterns = router.urls"
      ],
      "metadata": {
        "id": "o5EfH6tb0p0K"
      },
      "execution_count": null,
      "outputs": []
    },
    {
      "cell_type": "markdown",
      "source": [
        "- 프로젝트의 urls.py에는 라우터가 이미 posts를 설정해줌\n",
        "    - posts를 설정하면 실제 주소는 localhost:8000/posts/posts/와 같이 중복됨"
      ],
      "metadata": {
        "id": "LpMp9NG21ioJ"
      }
    },
    {
      "cell_type": "code",
      "source": [
        "from django.urls import path, include\n",
        "from django.contrib import admin\n",
        "\n",
        "from django.conf import settings\n",
        "from django.conf.urls.static import static\n",
        "\n",
        "urlpatterns = [\n",
        "    path('admin/', admin.site.urls),\n",
        "    path('users/', include('users.urls')),\n",
        "    path('', include('posts.urls')),\n",
        "] + static(settings.MEDIA_URL, document_root=settings.MEDIA_ROOT)"
      ],
      "metadata": {
        "id": "CmiFOL-l16Jq"
      },
      "execution_count": null,
      "outputs": []
    },
    {
      "cell_type": "markdown",
      "source": [
        "- 실행"
      ],
      "metadata": {
        "id": "-VML5kwL6wEV"
      }
    },
    {
      "cell_type": "code",
      "source": [
        "python manage.py runserver"
      ],
      "metadata": {
        "id": "0WN_BPZ32J_z"
      },
      "execution_count": null,
      "outputs": []
    },
    {
      "cell_type": "markdown",
      "source": [
        "## **4. 필터링 기능**"
      ],
      "metadata": {
        "id": "HU5bRwb-2Utf"
      }
    },
    {
      "cell_type": "markdown",
      "source": [
        "- 필터링 기능: 게시글 전체를 가져올 때 조건을 걸어 가져오도록 하는 기능\n",
        "- Django에서 이미 지원하는 기능임\n",
        "- View 등의 코드에서 따로 호출하지 않아도 프로젝트 전역에 적용됨"
      ],
      "metadata": {
        "id": "Bfkhb06ACTUK"
      }
    },
    {
      "cell_type": "code",
      "source": [
        "pip install django-filter"
      ],
      "metadata": {
        "id": "6BoXRdXD2fPE"
      },
      "execution_count": null,
      "outputs": []
    },
    {
      "cell_type": "markdown",
      "source": [
        "### 4.1 settings.py 설정"
      ],
      "metadata": {
        "id": "uSodMqqU8EgV"
      }
    },
    {
      "cell_type": "code",
      "source": [
        "# board/settings.py\n",
        "INSTALLED_APPS = [\n",
        "    'django.contrib.admin',\n",
        "    'django.contrib.auth',\n",
        "    'django.contrib.contenttypes',\n",
        "    'django.contrib.sessions',\n",
        "    'django.contrib.messages',\n",
        "    'django.contrib.staticfiles',\n",
        "    'rest_framework',\n",
        "    'rest_framework.authtoken',\n",
        "    'users',\n",
        "    'corsheaders',\n",
        "    'posts',\n",
        "    'django_filters',\n",
        "]\n",
        "\n",
        "...\n",
        "\n",
        "REST_FRAMEWORK = {\n",
        "    'DEFAULT_AUTHENTICATION_CLASSES': [\n",
        "        'rest_framework.authentication.TokenAuthentication',\n",
        "    ],\n",
        "    'DEFAULT_FILTER_BACKENDS': [\n",
        "        'django_filters.rest_framework.DjangoFilterBackend',\n",
        "    ],\n",
        "}"
      ],
      "metadata": {
        "id": "uhdeC3Vk2lXQ"
      },
      "execution_count": null,
      "outputs": []
    },
    {
      "cell_type": "markdown",
      "source": [
        "### 4.2 Views"
      ],
      "metadata": {
        "id": "OdGaigKb8I_b"
      }
    },
    {
      "cell_type": "code",
      "source": [
        "# posts/views.py\n",
        "from django_filters.rest_framework import DjangoFilterBackend\n",
        "\n",
        "from rest_framework import viewsets\n",
        "\n",
        "from users.models import Profile\n",
        "from .models import Post\n",
        "from .permissions import CustomReadOnly\n",
        "from .serializers import PostSerializer, PostCreateSerializer\n",
        "\n",
        "\n",
        "class PostViewSet(viewsets.ModelViewSet):\n",
        "    queryset = Post.objects.all()\n",
        "    permission_classes = [CustomReadOnly]\n",
        "    filter_backends = [DjangoFilterBackend]\n",
        "    filterset_fields = ['author', 'likes']\n",
        "\n",
        "    def get_serializer_class(self):\n",
        "        if self.action == 'list' or 'retrieve':\n",
        "            return PostSerializer\n",
        "        return PostCreateSerializer\n",
        "\n",
        "    def perform_create(self, serializer):\n",
        "        profile = Profile.objects.get(user=self.request.user)\n",
        "        serializer.save(author=self.request.user, profile=profile)"
      ],
      "metadata": {
        "id": "kvM5P4sg3FSO"
      },
      "execution_count": null,
      "outputs": []
    },
    {
      "cell_type": "markdown",
      "source": [
        "## **5. 페이징 기능**"
      ],
      "metadata": {
        "id": "uFPA5NVf2XPh"
      }
    },
    {
      "cell_type": "markdown",
      "source": [
        "### 5.1 Pagination"
      ],
      "metadata": {
        "id": "kOdU-_2A8Shc"
      }
    },
    {
      "cell_type": "markdown",
      "source": [
        "- 게시글 전체 조회 페이지를 여러 페이지로 나누는 기능\n",
        "- 한 번에 모든 글을 가져오기 부담스러울 경우 한 번의 API 요청으로 가져울 수 있는 데이터의 수를 제한하는 기능\n",
        "- 별다른 작업은 필요없음 → settings.py의 REST_FRAMEWORK에 관련 기능을 추가하기만 하면 됨\n",
        "- 단, 결과 데이터는 results에 들어가서 프론트엔드에 전달되므로 프론트엔드에서는 데이터를 꺼내가는 과정이 추가로 요구됨"
      ],
      "metadata": {
        "id": "SKz7C4p735n6"
      }
    },
    {
      "cell_type": "code",
      "source": [
        "# board/settings.py\n",
        "REST_FRAMEWORK = {\n",
        "    'DEFAULT_AUTHENTICATION_CLASSES': [\n",
        "        'rest_framework.authentication.TokenAuthentication',\n",
        "    ],\n",
        "    'DEFAULT_FILTER_BACKENDS': [\n",
        "        'django_filters.rest_framework.DjangoFilterBackend',\n",
        "    ],\n",
        "    'DEFAULT_PAGINATION_CLASS':\n",
        "    'rest_framework.pagination.PageNumberPagination',\n",
        "    'PAGE_SIZE':\n",
        "    3,\n",
        "}"
      ],
      "metadata": {
        "id": "5WjmLx002f4Z"
      },
      "execution_count": null,
      "outputs": []
    },
    {
      "cell_type": "markdown",
      "source": [
        "## **6. 좋아요 기능**"
      ],
      "metadata": {
        "id": "JtrrcMRg2azA"
      }
    },
    {
      "cell_type": "markdown",
      "source": [
        "### 6.1 Views"
      ],
      "metadata": {
        "id": "v6ANCcwH89s5"
      }
    },
    {
      "cell_type": "markdown",
      "source": [
        "- 좋아요 기능은 오직 likes 필드에만 영향을 주므로 간단한 GET 요청 하나로 처리 가능\n",
        "- 요구되는 설정\n",
        "    - 데코레이터로 GET 요청을 받는 함수형 뷰라는 설정\n",
        "    - 권한이 필요하다는 설정\n",
        "        - 좋아요를 누르는 권한은 회원가입을 한 유저라면 모두 가능하므로 IsAuthenticated로 설정\n",
        "- 처리 내용\n",
        "    - post.likes.all() 내에 request.user가 있으면 request.user 삭제\n",
        "    - post.likes.all() 내에 request.user가 없으면 request.user 추가"
      ],
      "metadata": {
        "id": "fI5OknON4u1Y"
      }
    },
    {
      "cell_type": "code",
      "source": [
        "# posts/views.py\n",
        "from django_filters.rest_framework import DjangoFilterBackend\n",
        "\n",
        "from rest_framework import viewsets\n",
        "\n",
        "from rest_framework.decorators import api_view, permission_classes\n",
        "from rest_framework.generics import get_object_or_404\n",
        "from rest_framework.permissions import IsAuthenticated\n",
        "from rest_framework.response import Response\n",
        "\n",
        "from users.models import Profile\n",
        "from .models import Post\n",
        "from .permissions import CustomReadOnly\n",
        "from .serializers import PostSerializer, PostCreateSerializer\n",
        "\n",
        "\n",
        "class PostViewSet(viewsets.ModelViewSet):\n",
        "    queryset = Post.objects.all()\n",
        "    permission_classes = [CustomReadOnly]\n",
        "    filter_backends = [DjangoFilterBackend]\n",
        "    filterset_fields = ['author', 'likes']\n",
        "\n",
        "    def get_serializer_class(self):\n",
        "        if self.action == 'list' or 'retrieve':\n",
        "            return PostSerializer\n",
        "        return PostCreateSerializer\n",
        "\n",
        "    def perform_create(self, serializer):\n",
        "        profile = Profile.objects.get(user=self.request.user)\n",
        "        serializer.save(author=self.request.user, profile=profile)\n",
        "\n",
        "\n",
        "@api_view(['GET'])\n",
        "@permission_classes([IsAuthenticated])\n",
        "def like_post(request, pk):\n",
        "    post = get_object_or_404(Post, pk=pk)\n",
        "    if request.user in post.likes.all():\n",
        "        post.likes.remove(request.user)\n",
        "    else:\n",
        "        post.likes.add(request.user)\n",
        "\n",
        "    return Response({'status': 'ok'})"
      ],
      "metadata": {
        "id": "snGNZJ7A2ZrI"
      },
      "execution_count": null,
      "outputs": []
    },
    {
      "cell_type": "markdown",
      "source": [
        "### 6.2 URL"
      ],
      "metadata": {
        "id": "nhZxIvaL6g1d"
      }
    },
    {
      "cell_type": "code",
      "source": [
        "# posts/urls.py\n",
        "from django.urls import path\n",
        "from rest_framework import routers\n",
        "from .views import PostViewSet, like_post\n",
        "\n",
        "router = routers.SimpleRouter()\n",
        "router.register('posts', PostViewSet)\n",
        "\n",
        "urlpatterns = router.urls + [\n",
        "    path('like/<int:pk>/', like_post, name='like_post')\n",
        "]"
      ],
      "metadata": {
        "id": "DdC3A0an6aYi"
      },
      "execution_count": null,
      "outputs": []
    },
    {
      "cell_type": "markdown",
      "source": [
        "## **7. 댓글 기능**"
      ],
      "metadata": {
        "id": "Q8M49I8J9LDO"
      }
    },
    {
      "cell_type": "markdown",
      "source": [
        "### 7.1 댓글 기능 정리"
      ],
      "metadata": {
        "id": "fwk_-5N09VhY"
      }
    },
    {
      "cell_type": "markdown",
      "source": [
        "- 댓글 생성\n",
        "- 댓글 1개 가져오기\n",
        "- 댓글 목록 가져오기\n",
        "- 댓글 수정하기\n",
        "- 댓글 삭제하기\n",
        "- 게시글을 가져올 때 댓글도 가져오게 만들기"
      ],
      "metadata": {
        "id": "6nwa9ryW9hRN"
      }
    },
    {
      "cell_type": "markdown",
      "source": [
        "### 7.2 댓글 모델 & 마이그레이션"
      ],
      "metadata": {
        "id": "deUr5mXj9lxU"
      }
    },
    {
      "cell_type": "markdown",
      "source": [
        "- 댓글 모델에 필요한 필드들\n",
        "    - 작성자, 작성자 프로필, 게시글, 내용\n",
        "- 댓글의 경우 게시글과 밀접한 연관이 있음 → 따로 모델을 만들 필요는 없음\n",
        "- Foreign Key로 유저, 프로필, 포스트와 연결됨 + 댓글 내용 텍스트만 추가"
      ],
      "metadata": {
        "id": "BWKd7Sqb9wNh"
      }
    },
    {
      "cell_type": "code",
      "source": [
        "# posts/models.py\n",
        "from django.db import models\n",
        "from django.contrib.auth.models import User\n",
        "from django.utils import timezone\n",
        "from users.models import Profile\n",
        "\n",
        "\n",
        "class Post(models.Model):\n",
        "    author = models.ForeignKey(User, on_delete=models.CASCADE, related_name='author')\n",
        "    profile = models.ForeignKey(Profile, on_delete=models.CASCADE, blank=True)\n",
        "    title = models.CharField(max_length=128)\n",
        "    category = models.CharField(max_length=128)\n",
        "    body = models.TextField()\n",
        "    image = models.ImageField(upload_to='post/', default='default.png')\n",
        "    likes = models.ManyToManyField(User, related_name='like_posts', blank=True)\n",
        "    published_date = models.DateTimeField(default=timezone.now)\n",
        "\n",
        "\n",
        "class Comment(models.Model):\n",
        "    author = models.ForeignKey(User, on_delete=models.CASCADE)\n",
        "    profile = models.ForeignKey(Profile, on_delete=models.CASCADE)\n",
        "    post = models.ForeignKey(Post, related_name='comments', on_delete=models.CASCADE)\n",
        "    text = models.TextField()"
      ],
      "metadata": {
        "id": "H5w8BPuR9Olt"
      },
      "execution_count": null,
      "outputs": []
    },
    {
      "cell_type": "markdown",
      "source": [
        "- 마이그레이션"
      ],
      "metadata": {
        "id": "NFI7WjbZ-vCS"
      }
    },
    {
      "cell_type": "code",
      "source": [
        "# Migration\n",
        "python manage.py makemigrations\n",
        "python manage.py migrate"
      ],
      "metadata": {
        "id": "FoLeCDc8-vCT"
      },
      "execution_count": null,
      "outputs": []
    },
    {
      "cell_type": "markdown",
      "source": [
        "### 7.3 Serializers"
      ],
      "metadata": {
        "id": "l895KsxK-yi8"
      }
    },
    {
      "cell_type": "markdown",
      "source": [
        "- 댓글을 작성할 때, 가져올 때 각각 다른 시리얼라이저가 필요함 → 게시글 시리얼라이저와 비슷\n",
        "- 게시글에서도 댓글을 불러올 수 있어야 함 → Nested Serializer 개념 활용(작성해 놓은 댓글 시리얼라이저를 게시글 시리얼라이저에 넣어주기)\n",
        "- 게시글 시리얼라이저에 댓글 시리얼라이저가 포함됨 → 댓글 시리얼라이저가 더 위에 선언되어야 함"
      ],
      "metadata": {
        "id": "aTye4mmvA8L0"
      }
    },
    {
      "cell_type": "code",
      "source": [
        "from rest_framework import serializers\n",
        "\n",
        "from users.serializers import ProfileSerializer\n",
        "from .models import Post, Comment\n",
        "\n",
        "\n",
        "class CommentSerializer(serializers.ModelSerializer):\n",
        "    profile = ProfileSerializer(read_only=True)\n",
        "\n",
        "    class Meta:\n",
        "        model = Comment\n",
        "        fields = (\"pk\", \"profile\", \"post\", \"text\")\n",
        "\n",
        "\n",
        "class CommentCreateSerializer(serializers.ModelSerializer):\n",
        "    class Meta:\n",
        "        model = Comment\n",
        "        fields = (\"post\", \"text\")\n",
        "\n",
        "\n",
        "class PostSerializer(serializers.ModelSerializer):\n",
        "    profile = ProfileSerializer(read_only=True)\n",
        "    comments = CommentSerializer(many=True, read_only=True)\n",
        "\n",
        "    class Meta:\n",
        "        model = Post\n",
        "        fields = (\"pk\", \"profile\", \"title\", \"body\", \"image\", \"published_date\", \"likes\", \"comments\")\n",
        "\n",
        "\n",
        "class PostCreateSerializer(serializers.ModelSerializer):\n",
        "    image = serializers.ImageField(use_url=True, required=False)\n",
        "\n",
        "    class Meta:\n",
        "        model = Post\n",
        "        fields = (\"title\", \"category\", \"body\", \"image\")"
      ],
      "metadata": {
        "id": "XaDcf-S_-2p5"
      },
      "execution_count": null,
      "outputs": []
    },
    {
      "cell_type": "markdown",
      "source": [
        "### 7.4 Views"
      ],
      "metadata": {
        "id": "azNKoLKB_VSx"
      }
    },
    {
      "cell_type": "markdown",
      "source": [
        "- ViewSet 사용\n",
        "- 댓글에 필요한 권한은 게시글과 동일\n",
        "    - 댓글 보기: 모두\n",
        "    - 댓글 작성: 유저만\n",
        "    - 댓글 수정/삭제: 해당 댓글 작성자만 → CustomReadOnly 활용"
      ],
      "metadata": {
        "id": "KaJds46dAgt0"
      }
    },
    {
      "cell_type": "code",
      "source": [
        "from django_filters.rest_framework import DjangoFilterBackend\n",
        "\n",
        "from rest_framework import viewsets\n",
        "from rest_framework.decorators import api_view, permission_classes\n",
        "from rest_framework.generics import get_object_or_404\n",
        "from rest_framework.permissions import IsAuthenticated\n",
        "from rest_framework.response import Response\n",
        "from rest_framework import generics, status\n",
        "\n",
        "from users.models import Profile\n",
        "from .models import Post, Comment\n",
        "from .permissions import CustomReadOnly\n",
        "from .serializers import PostSerializer, PostCreateSerializer, CommentSerializer, CommentCreateSerializer\n",
        "\n",
        "\n",
        "class PostViewSet(viewsets.ModelViewSet):\n",
        "    queryset = Post.objects.all()\n",
        "    permission_classes = [CustomReadOnly]\n",
        "    filter_backends = [DjangoFilterBackend]\n",
        "    filterset_fields = ['author', 'likes']\n",
        "\n",
        "    def get_serializer_class(self):\n",
        "        if self.action == 'list' or 'retrieve':\n",
        "            return PostSerializer\n",
        "        return PostCreateSerializer\n",
        "\n",
        "    def perform_create(self, serializer):\n",
        "        profile = Profile.objects.get(user=self.request.user)\n",
        "        serializer.save(author=self.request.user, profile=profile)\n",
        "\n",
        "\n",
        "@api_view(['GET'])\n",
        "@permission_classes([IsAuthenticated])\n",
        "def like_post(request, pk):\n",
        "    post = get_object_or_404(Post, pk=pk)\n",
        "    if request.user in post.likes.all():\n",
        "        post.likes.remove(request.user)\n",
        "    else:\n",
        "        post.likes.add(request.user)\n",
        "\n",
        "    return Response({'status': 'ok'})\n",
        "\n",
        "\n",
        "class CommentViewSet(viewsets.ModelViewSet):\n",
        "    queryset = Comment.objects.all()\n",
        "    permission_classes = [CustomReadOnly]\n",
        "\n",
        "    def get_serializer_class(self):\n",
        "        if self.action == 'list' or 'retrieve':\n",
        "            return CommentSerializer\n",
        "        return CommentCreateSerializer\n",
        "\n",
        "    def perform_create(self, serializer):\n",
        "        profile = Profile.objects.get(user=self.request.user)\n",
        "        serializer.save(author=self.request.user, profile=profile)"
      ],
      "metadata": {
        "id": "sXMw6JA4_XBT"
      },
      "execution_count": null,
      "outputs": []
    },
    {
      "cell_type": "markdown",
      "source": [
        "### 7.5 URL"
      ],
      "metadata": {
        "id": "lqdMb_FrACic"
      }
    },
    {
      "cell_type": "code",
      "source": [
        "from django.urls import path\n",
        "from rest_framework import routers\n",
        "\n",
        "from .views import PostViewSet, like_post, CommentViewSet\n",
        "\n",
        "router = routers.SimpleRouter()\n",
        "router.register('posts', PostViewSet)\n",
        "router.register('comments', CommentViewSet)\n",
        "\n",
        "urlpatterns = router.urls + [\n",
        "    path('like/<int:pk>/', like_post, name='like_post')\n",
        "]"
      ],
      "metadata": {
        "id": "CmfA0WIZAEem"
      },
      "execution_count": null,
      "outputs": []
    },
    {
      "cell_type": "markdown",
      "source": [
        "- 실행"
      ],
      "metadata": {
        "id": "uJAii99RARgm"
      }
    },
    {
      "cell_type": "code",
      "source": [
        "python manage.py runserver"
      ],
      "metadata": {
        "id": "Q50JpK32ATBl"
      },
      "execution_count": null,
      "outputs": []
    }
  ]
}