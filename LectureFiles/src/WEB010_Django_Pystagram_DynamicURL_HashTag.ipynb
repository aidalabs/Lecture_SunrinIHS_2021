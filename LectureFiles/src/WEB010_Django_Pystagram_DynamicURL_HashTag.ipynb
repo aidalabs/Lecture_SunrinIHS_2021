{
  "nbformat": 4,
  "nbformat_minor": 0,
  "metadata": {
    "colab": {
      "provenance": [],
      "toc_visible": true
    },
    "kernelspec": {
      "name": "python3",
      "display_name": "Python 3"
    },
    "language_info": {
      "name": "python"
    }
  },
  "cells": [
    {
      "cell_type": "markdown",
      "source": [
        "# **Pystagram Project (3)**"
      ],
      "metadata": {
        "id": "cx1AZQQzwxj4"
      }
    },
    {
      "cell_type": "markdown",
      "source": [
        "## **1. 동적 URL**"
      ],
      "metadata": {
        "id": "dQs8Y_GWrCfi"
      }
    },
    {
      "cell_type": "markdown",
      "source": [
        "### 1.1 URL 경로 변경"
      ],
      "metadata": {
        "id": "B-2Z6zm8rfOR"
      }
    },
    {
      "cell_type": "markdown",
      "source": [
        "#### 1.1.1 URL 경로를 변경할 때 생기는 중복작업"
      ],
      "metadata": {
        "id": "F6Xl7tDntNsu"
      }
    },
    {
      "cell_type": "markdown",
      "source": [
        "- users/urls.py"
      ],
      "metadata": {
        "id": "U5wAFkKStTaB"
      }
    },
    {
      "cell_type": "code",
      "execution_count": null,
      "metadata": {
        "id": "1VxgaFPVqQrJ"
      },
      "outputs": [],
      "source": [
        "urlpatterns = [\n",
        "    ...\n",
        "    path(\"login2/\", login_view),\n",
        "    ...\n",
        "]"
      ]
    },
    {
      "cell_type": "markdown",
      "source": [
        "- templates/users/signup.html"
      ],
      "metadata": {
        "id": "BV0Yrj15te_X"
      }
    },
    {
      "cell_type": "code",
      "execution_count": null,
      "metadata": {
        "id": "GzQVi_U5te_Y"
      },
      "outputs": [],
      "source": [
        "<div id=\"signup\">\n",
        "    <form method=\"POST\" enctype=\"multipart/form-data\">\n",
        "        ...\n",
        "        <a href=\"{% url '/users/login2/' %}\">로그인 페이지로 이동</a>\n",
        "    </form>\n",
        "</div>"
      ]
    },
    {
      "cell_type": "markdown",
      "source": [
        "- posts/views.py"
      ],
      "metadata": {
        "id": "C_hqcuvHtfSn"
      }
    },
    {
      "cell_type": "code",
      "execution_count": null,
      "metadata": {
        "id": "tRKRW78ZtfSo"
      },
      "outputs": [],
      "source": [
        "def feeds(request):\n",
        "    ...\n",
        "    if not request.user.is_authenticated:\n",
        "        return redirect(\"/users/login2/\")"
      ]
    },
    {
      "cell_type": "markdown",
      "source": [
        "- users/views.py"
      ],
      "metadata": {
        "id": "jvMqCRqatftv"
      }
    },
    {
      "cell_type": "code",
      "execution_count": null,
      "metadata": {
        "id": "LxkHFl0Ntftw"
      },
      "outputs": [],
      "source": [
        "def logout_view(request):\n",
        "    logout(request)\n",
        "    return redirect(\"/users/login2/\")"
      ]
    },
    {
      "cell_type": "markdown",
      "source": [
        "- config/views.py"
      ],
      "metadata": {
        "id": "T8SuGIjNtf8z"
      }
    },
    {
      "cell_type": "code",
      "execution_count": null,
      "metadata": {
        "id": "AfEZZDdotf8z"
      },
      "outputs": [],
      "source": [
        "from django.shortcuts import redirect\n",
        "\n",
        "def index(request):\n",
        "    if request.user.is_authenticated:\n",
        "        return redirect(\"/posts/feeds/\")\n",
        "    else:\n",
        "        return redirect(\"/users/login2/\")"
      ]
    },
    {
      "cell_type": "markdown",
      "source": [
        "### 1.2 Template의 동적 URL 변경"
      ],
      "metadata": {
        "id": "7fYALYUMrqYz"
      }
    },
    {
      "cell_type": "markdown",
      "source": [
        "#### 1.2.1 동적 URL 생성을 위한 요소 추가"
      ],
      "metadata": {
        "id": "3GqKgrR1tr0y"
      }
    },
    {
      "cell_type": "markdown",
      "source": [
        "- 동적으로 URL을 생성해서 사용하기 위해서는 app별로 분리된 하위 urls.py에 app_name이라는 속성이 필요함\n",
        "- 일반적으로 app의 패키지명(디렉토리명)을 사용함"
      ],
      "metadata": {
        "id": "7RrvXipTzqLe"
      }
    },
    {
      "cell_type": "markdown",
      "source": [
        "- users/urls.py"
      ],
      "metadata": {
        "id": "iLHZ5zI_toPE"
      }
    },
    {
      "cell_type": "code",
      "execution_count": null,
      "metadata": {
        "id": "37qN_kz_toPF"
      },
      "outputs": [],
      "source": [
        "...\n",
        "app_name = \"users\"\n",
        "urlpatterns = [\n",
        "    ...\n",
        "]"
      ]
    },
    {
      "cell_type": "markdown",
      "source": [
        "- posts/urls.py"
      ],
      "metadata": {
        "id": "D929mF9htowy"
      }
    },
    {
      "cell_type": "code",
      "execution_count": null,
      "metadata": {
        "id": "ZC4rkVkctowz"
      },
      "outputs": [],
      "source": [
        "...\n",
        "app_name = \"posts\"\n",
        "urlpatterns = [\n",
        "    ...\n",
        "]"
      ]
    },
    {
      "cell_type": "markdown",
      "source": [
        "#### 1.2.2 Template을 위한 {% url %} 태그"
      ],
      "metadata": {
        "id": "3rR3H5optsol"
      }
    },
    {
      "cell_type": "markdown",
      "source": [
        "- {% url \"URL pattern name\" %} 태그는 Template에서 urls.py의 내용을 이용해 동적으로 URL을 생성함\n",
        "    - 구조\n",
        "    ```\n",
        "        {urls.py에 있는 app_name}:{path()에 지정된 name}\n",
        "    ```"
      ],
      "metadata": {
        "id": "nC7wlKMSzoij"
      }
    },
    {
      "cell_type": "markdown",
      "source": [
        "- users/urls.py"
      ],
      "metadata": {
        "id": "SfLauXY6ttH4"
      }
    },
    {
      "cell_type": "code",
      "execution_count": null,
      "metadata": {
        "id": "8wW51OvAttH5"
      },
      "outputs": [],
      "source": [
        "...\n",
        "app_name = \"users\"\n",
        "urlpatterns = [\n",
        "    path(\"login2/\", login_view, name=\"login\"),\n",
        "    path(\"logout/\", logout_view, name=\"logout\"),\n",
        "    path(\"signup/\", signup, name=\"sighup\"),\n",
        "]"
      ]
    },
    {
      "cell_type": "markdown",
      "source": [
        "- templates/users/signup.html\n",
        "    - 실제로 동적 링크를 만들어보기"
      ],
      "metadata": {
        "id": "5G0_Nfqx1Ff-"
      }
    },
    {
      "cell_type": "code",
      "source": [
        "<a href=\"{% url 'users:login' %}\">로그인 페이지로 이동</a>"
      ],
      "metadata": {
        "collapsed": true,
        "id": "fGnylgR-1PeE"
      },
      "execution_count": null,
      "outputs": []
    },
    {
      "cell_type": "markdown",
      "source": [
        "- posts/urls.py"
      ],
      "metadata": {
        "id": "KvF2noNc1O4B"
      }
    },
    {
      "cell_type": "code",
      "source": [
        "app_name - \"posts\"\n",
        "urlpatterns = [\n",
        "    path(\"feeds/\", feeds, name=\"feeds\"),\n",
        "    path(\"comment_add/\", comment_add, name=\"comment_add\"),\n",
        "    path(\"comment_delete/<int:comment_id>/\", comment_delete, name=\"comment_delete\"),\n",
        "    path(\"post_add/\", post_add, name=\"post_add\"),\n",
        "]"
      ],
      "metadata": {
        "id": "uB9cJS2n4tj2"
      },
      "execution_count": null,
      "outputs": []
    },
    {
      "cell_type": "markdown",
      "source": [
        "#### 1.2.3 {% url %} 태그를 사용하도록 기존 Template 코드 수정"
      ],
      "metadata": {
        "id": "6AWRvCZG5YZP"
      }
    },
    {
      "cell_type": "markdown",
      "source": [
        "- templates/users/login.html\n",
        "    - 로그인 페이지"
      ],
      "metadata": {
        "id": "rxveHRY35tZo"
      }
    },
    {
      "cell_type": "code",
      "source": [
        "<a href=\"{% url 'users:signup' %}\">회원가입 페이지로 이동</a>"
      ],
      "metadata": {
        "id": "Po17G1xF5t96"
      },
      "execution_count": null,
      "outputs": []
    },
    {
      "cell_type": "markdown",
      "source": [
        "- templates/users/signup.html\n",
        "    - 회원가입 페이지"
      ],
      "metadata": {
        "id": "IpCqpxYK51WL"
      }
    },
    {
      "cell_type": "code",
      "source": [
        "<a href=\"{% url 'users:login' %}\">로그인 페이지로 이동</a>"
      ],
      "metadata": {
        "id": "18zVIgYB57_m"
      },
      "execution_count": null,
      "outputs": []
    },
    {
      "cell_type": "markdown",
      "source": [
        "- templates/posts/post_add.html\n",
        "    - 글 작성 페이지"
      ],
      "metadata": {
        "id": "OEJEwMyZ51gX"
      }
    },
    {
      "cell_type": "code",
      "source": [
        "<nav>\n",
        "    <h1>\n",
        "        <a href=\"{% url 'posts:feeds' %}\">Pystagram</a>\n",
        "    </h1>\n",
        "    <a href=\"{% url 'users:logout' %}\">Logout</a>\n",
        "</nav>"
      ],
      "metadata": {
        "id": "K0tJ11mI51gX"
      },
      "execution_count": null,
      "outputs": []
    },
    {
      "cell_type": "markdown",
      "source": [
        "- templates/posts/feeds.html\n",
        "    - 피드 페이지 - 내비게이션 바 부분"
      ],
      "metadata": {
        "id": "p4BeqMxE51oV"
      }
    },
    {
      "cell_type": "code",
      "source": [
        "<nav>\n",
        "    <h1>\n",
        "        <a href=\"{% url 'posts:feeds' %}\">Pystagram</a>\n",
        "    </h1>\n",
        "    <a href=\"{% url 'posts:post_add' %}\">Add post</a>\n",
        "    <a href=\"{% url 'users:logout' %}\">Logout</a>\n",
        "</nav>"
      ],
      "metadata": {
        "id": "mxPYfoB051oV"
      },
      "execution_count": null,
      "outputs": []
    },
    {
      "cell_type": "markdown",
      "source": [
        "- templates/posts/feeds.html\n",
        "    - 댓글 삭제 부분"
      ],
      "metadata": {
        "id": "HjH3MRld524Q"
      }
    },
    {
      "cell_type": "code",
      "source": [
        "<div class=\"post-comments\">\n",
        "    ...\n",
        "    {% if user == comment.user %}\n",
        "        <form method=\"POST\" action=\"{% url 'posts:comment_delete' comment_id=comment.id %}\">"
      ],
      "metadata": {
        "id": "vKPez73-524l"
      },
      "execution_count": null,
      "outputs": []
    },
    {
      "cell_type": "markdown",
      "source": [
        "- templates/posts/feeds.html\n",
        "    - 댓글 생성 부분"
      ],
      "metadata": {
        "id": "UkAwmUUq9IJo"
      }
    },
    {
      "cell_type": "code",
      "source": [
        "<div class=\"post-comment-create\">\n",
        "    <form method=\"POST\" action=\"{% url 'posts:comment_add' %}\">"
      ],
      "metadata": {
        "id": "q3HqYlke9IJ7"
      },
      "execution_count": null,
      "outputs": []
    },
    {
      "cell_type": "markdown",
      "source": [
        "### 1.3 View의 동적 URL 변경"
      ],
      "metadata": {
        "id": "n840yAiIryBN"
      }
    },
    {
      "cell_type": "markdown",
      "source": [
        "#### 1.3.1 View를 위한 reverse 함수"
      ],
      "metadata": {
        "id": "1RSSxe1U5sR7"
      }
    },
    {
      "cell_type": "markdown",
      "source": [
        "- Terminal\n",
        "    - Template에서 {% url %} 태그를 사용하듯 View에서는 reverse 함수로 동적 URL을 생성할 수 있음"
      ],
      "metadata": {
        "id": "u0juRtS7jdJ0"
      }
    },
    {
      "cell_type": "code",
      "source": [
        "python manage.py shell\n",
        "\n",
        "from django.urls import reverse\n",
        "\n",
        "reverse('users:login')\n",
        "reverse('posts:feeds')\n",
        "\n",
        "# 추가 인수를 dict에 담아 키워드 인수로 전달\n",
        "reverse('posts:comment_delete', kwarg={'comment_id': 1})\n",
        "\n",
        "# 추가 인수를 list에 담아 위치 인수로 전달\n",
        "reverse('posts:comment_delete', args=[1])"
      ],
      "metadata": {
        "id": "lwcMJt8Yr372"
      },
      "execution_count": null,
      "outputs": []
    },
    {
      "cell_type": "markdown",
      "source": [
        "#### 1.3.2 reverse 함수를 사용하도록 기존 View 코드 수정"
      ],
      "metadata": {
        "id": "sM_trU-ekY2X"
      }
    },
    {
      "cell_type": "markdown",
      "source": [
        "- config/views.py"
      ],
      "metadata": {
        "id": "xPovlrPPkgN3"
      }
    },
    {
      "cell_type": "code",
      "source": [
        "from django.shortcuts import redirect\n",
        "\n",
        "\n",
        "def index(request):\n",
        "    if request.user.is_authenticated:\n",
        "        return redirect(\"posts:feeds\")\n",
        "    else:\n",
        "        return redirect(\"users:login\")"
      ],
      "metadata": {
        "id": "QG4ByDo_kxTr"
      },
      "execution_count": null,
      "outputs": []
    },
    {
      "cell_type": "markdown",
      "source": [
        "- users/views.py"
      ],
      "metadata": {
        "id": "aNm0XoBPkf7O"
      }
    },
    {
      "cell_type": "code",
      "source": [
        "from django.urls import reverse\n",
        "\n",
        "def login_view(request):\n",
        "    if request.user.is_authenticated:\n",
        "        return redirect(\"posts:feeds\")\n",
        "    ...\n",
        "        if user:\n",
        "            login(request, user)\n",
        "            return redirect(\"posts:feeds\")\n",
        "    ...\n",
        "\n",
        "\n",
        "def logout_view(request):\n",
        "    logout(request)\n",
        "    return redirect(\"users:login\")\n",
        "\n",
        "\n",
        "def signup(request):\n",
        "    ...\n",
        "    login(request, user)\n",
        "    return redirect(\"posts:feeds\")\n",
        "    ..."
      ],
      "metadata": {
        "id": "3DGHTSO8kybD"
      },
      "execution_count": null,
      "outputs": []
    },
    {
      "cell_type": "markdown",
      "source": [
        "- posts/views.py"
      ],
      "metadata": {
        "id": "gfyKrhiMkfzT"
      }
    },
    {
      "cell_type": "code",
      "source": [
        "from django.urls import reverse\n",
        "\n",
        "def feeds(request):\n",
        "    ...\n",
        "    if not user.is_authenticated:\n",
        "        return redirect(\"users:login\")\n",
        "    ...\n",
        "\n",
        "\n",
        "def comment_add(request):\n",
        "    ...\n",
        "    if form.is_valid():\n",
        "        comment = form.save(commit=False)\n",
        "        comment.user = request.user\n",
        "        comment.save()\n",
        "        ...\n",
        "        url_next = reverse(\"posts:feeds\") + f\"#post-{comment.post.id}\"\n",
        "        return HttpResponseRedirect(url_next)\n",
        "\n",
        "\n",
        "def comment_delete(request, comment_id):\n",
        "    if request.method == \"POST\":\n",
        "        comment = Comment.objects.get(id=comment_id)\n",
        "        if comment.user == request.user:\n",
        "            comment.delete()\n",
        "            url = reverse(\"posts:feeds\") + f\"#post-{comment.post.id}\"\n",
        "            return HttpResponseRedirect(url)\n",
        "    ...\n",
        "\n",
        "\n",
        "def post_add(request):\n",
        "    if request.method == \"POST\":\n",
        "        ...\n",
        "        if form.is_valid():\n",
        "            ...\n",
        "            url = reverse(\"posts:feeds\") + f\"#post-{post.id}\"\n",
        "            return HttpResponseRedirect(url)\n",
        "    ..."
      ],
      "metadata": {
        "id": "C5KB2URWkyQe"
      },
      "execution_count": null,
      "outputs": []
    },
    {
      "cell_type": "markdown",
      "source": [
        "- users/urls.py"
      ],
      "metadata": {
        "id": "x_8_bK5Zkfnq"
      }
    },
    {
      "cell_type": "code",
      "source": [
        "...\n",
        "app_name = \"users\"\n",
        "urlpatterns = [\n",
        "    path(\"login/\", login_view, name=\"login\"),\n",
        "    ..."
      ],
      "metadata": {
        "id": "xAGMUt9lkx5-"
      },
      "execution_count": null,
      "outputs": []
    },
    {
      "cell_type": "markdown",
      "source": [
        "## **2. 해시태그**"
      ],
      "metadata": {
        "id": "HXjHKOjVrHCN"
      }
    },
    {
      "cell_type": "markdown",
      "source": [
        "### 2.1 다대다 관계 모델"
      ],
      "metadata": {
        "id": "0UDnDoMXr5in"
      }
    },
    {
      "cell_type": "markdown",
      "source": [
        "#### 2.1.1 다대다 관계모델"
      ],
      "metadata": {
        "id": "0KFu-RKunLYm"
      }
    },
    {
      "cell_type": "markdown",
      "source": [
        "- 다대일(Many-to-One, N:1) 관계\n",
        "    - 한 테이블의 한 레코드가 다른 테이블의 여러 레코드와 연관됨을 나타내는 관계\n",
        "- 다대다(Many-to-Many, M2M, N:N) 관계\n",
        "    - 한 테이블의 여러 레코드가 다른 테이블의 여러 레코드와 연관됨을 나타내는 관계"
      ],
      "metadata": {
        "id": "MuR7rNII6zfu"
      }
    },
    {
      "cell_type": "markdown",
      "source": [
        "- 예를 들어\n",
        "    - 학생은 하나의 대학교에만 속할 수 있음: 다대일(학생:학교) 관계\n",
        "    - 한 학생은 여러 개의 수업을 수강신청할 수 있으며 하나의 수업은 그 수업을 수강신청한 여러 명의 학생을 가질 수 있음: 다대다관계"
      ],
      "metadata": {
        "id": "3bCOpVJKM88s"
      }
    },
    {
      "cell_type": "markdown",
      "source": [
        "#### 2.1.2 다대다 테이블 구조"
      ],
      "metadata": {
        "id": "he0zI4nUnTcX"
      }
    },
    {
      "cell_type": "markdown",
      "source": [
        "- 학생 테이블\n",
        "\n",
        "|id|이름|\n",
        "|------|---|\n",
        "|1|김럭스|\n",
        "|2|최이즈리얼|\n",
        "|3|박룰루|\n",
        "\n",
        "- 수업 테이블\n",
        "\n",
        "|id|수업명|\n",
        "|--|------|\n",
        "|1|협곡|\n",
        "|2|칼바람|\n",
        "|3|TFT|\n",
        "\n",
        "- 학생과 수업을 중개하는 테이블\n",
        "\n",
        "|학생|수업|\n",
        "|------|---|\n",
        "|1|1|\n",
        "|1|2|\n",
        "|2|1|\n",
        "|2|2|\n",
        "|2|3|\n"
      ],
      "metadata": {
        "id": "3HIRgCFQ7Ssi"
      }
    },
    {
      "cell_type": "markdown",
      "source": [
        "#### 2.1.3 해시태그 모델 생성, ManyToMany 연결"
      ],
      "metadata": {
        "id": "2gcj3vWVnW7y"
      }
    },
    {
      "cell_type": "markdown",
      "source": [
        "- posts/models.py"
      ],
      "metadata": {
        "id": "7obsZWvSndkT"
      }
    },
    {
      "cell_type": "code",
      "source": [
        "class HashTag(models.Model):\n",
        "    name = models.CharField(\"태그명\", max_length=50)"
      ],
      "metadata": {
        "id": "iYa458BOrenK"
      },
      "execution_count": null,
      "outputs": []
    },
    {
      "cell_type": "markdown",
      "source": [
        "- posts/models.py"
      ],
      "metadata": {
        "id": "FUdgonrJntBg"
      }
    },
    {
      "cell_type": "code",
      "source": [
        "class Post(models.Model):\n",
        "    ...\n",
        "    tags = models.ManyToManyField(HashTag, verbose_name=\"해시태그 목록\", blank=True)"
      ],
      "metadata": {
        "id": "_sHZCY5Mnvri"
      },
      "execution_count": null,
      "outputs": []
    },
    {
      "cell_type": "markdown",
      "source": [
        "- Terminal\n",
        "    - posts/models.py에서 HashTag 클래스를 Post 클래스보다 아래쪽에 선언\n",
        "    - Post 클래스가 정의될 때는 HashTag 클래스를 알 수 없음\n",
        "    - ForeignKey, ManyToManyField를 사용할 때 아래쪽에 선언한 모델을 참조하려면 문자열을 사용함"
      ],
      "metadata": {
        "id": "a9hXByEzn3fZ"
      }
    },
    {
      "cell_type": "code",
      "source": [
        "python manage.py runserver\n",
        "\n",
        "NameError: name 'HashTag' is not defined"
      ],
      "metadata": {
        "id": "9SsR-hrCn5r_"
      },
      "execution_count": null,
      "outputs": []
    },
    {
      "cell_type": "code",
      "source": [
        "tags = models.ManyToManyField(\"posts.HashTag\", verbose_name=\"해시태그 목록\", blank=True)"
      ],
      "metadata": {
        "id": "tV5L_syRoo5b"
      },
      "execution_count": null,
      "outputs": []
    },
    {
      "cell_type": "code",
      "source": [
        "python manage.py makemigrations\n",
        "python manage.py migrate"
      ],
      "metadata": {
        "id": "Yo22mMWFoxOi"
      },
      "execution_count": null,
      "outputs": []
    },
    {
      "cell_type": "markdown",
      "source": [
        "### 2.2 다대다 모델 admin"
      ],
      "metadata": {
        "id": "wZY28zg2r4kJ"
      }
    },
    {
      "cell_type": "markdown",
      "source": [
        "#### 2.2.1 admin 구현"
      ],
      "metadata": {
        "id": "D6YTx5Z9o4t6"
      }
    },
    {
      "cell_type": "markdown",
      "source": [
        "- posts/admin.py"
      ],
      "metadata": {
        "id": "APEpRTSmo8Ga"
      }
    },
    {
      "cell_type": "code",
      "source": [
        "from posts.models import Post, PostImage, Comment, HashTag\n",
        "\n",
        "@admin.register(HashTag)\n",
        "class HashTagAdmin(admin.ModelAdmin):\n",
        "    pass"
      ],
      "metadata": {
        "id": "R2ruP61usDF5"
      },
      "execution_count": null,
      "outputs": []
    },
    {
      "cell_type": "markdown",
      "source": [
        "- posts/models.py"
      ],
      "metadata": {
        "id": "ovAEfOrUpMNw"
      }
    },
    {
      "cell_type": "code",
      "source": [
        "class HashTag(models.Model):\n",
        "    name = models.CharField(\"태그명\", max_length=50)\n",
        "\n",
        "    def __str__(self):\n",
        "        return self.name"
      ],
      "metadata": {
        "id": "LZFlHCDrpPqV"
      },
      "execution_count": null,
      "outputs": []
    },
    {
      "cell_type": "markdown",
      "source": [
        "- posts/models.py"
      ],
      "metadata": {
        "id": "rBGBNDPBpVUQ"
      }
    },
    {
      "cell_type": "code",
      "source": [
        "from django.db.models import ManyToManyField\n",
        "from django.forms import CheckboxSelectMultiple\n",
        "...\n",
        "@admin.register(Post)\n",
        "class PostAdmin(admin.ModelAdmin):\n",
        "    ...\n",
        "    formfield_overrides = {\n",
        "        ManyToManyField: {\"widget\": checkboxSelectMultiple},\n",
        "    }"
      ],
      "metadata": {
        "id": "9kfpvp70pYIv"
      },
      "execution_count": null,
      "outputs": []
    },
    {
      "cell_type": "markdown",
      "source": [
        "#### 2.2.2 Template에 Post의 HashTag 표시"
      ],
      "metadata": {
        "id": "Oq_Zot7JqCUH"
      }
    },
    {
      "cell_type": "markdown",
      "source": [
        "- templates/posts/feeds.html"
      ],
      "metadata": {
        "id": "-dBoTWfdqJe-"
      }
    },
    {
      "cell_type": "code",
      "source": [
        "<div class=\"post-content\">\n",
        "    {{ post.content|linebreaksbr }}\n",
        "    <div class=\"post-tags\">\n",
        "        {% for tag in post.tags.all %}\n",
        "            <span>#{{ tag.name }}</span>\n",
        "        {% endfor %}\n",
        "    </div>\n",
        "</div>"
      ],
      "metadata": {
        "id": "WE-Lbs4EqSyB"
      },
      "execution_count": null,
      "outputs": []
    },
    {
      "cell_type": "markdown",
      "source": [
        "### 2.3 해시태그 검색"
      ],
      "metadata": {
        "id": "3gxyxpWjsDi8"
      }
    },
    {
      "cell_type": "markdown",
      "source": [
        "#### 2.3.1 해시태그의 사용 예시"
      ],
      "metadata": {
        "id": "x4jV87z1rIsq"
      }
    },
    {
      "cell_type": "markdown",
      "source": [
        "#### 2.3.2 기본 구조 구현"
      ],
      "metadata": {
        "id": "5GEEhyHerOko"
      }
    },
    {
      "cell_type": "markdown",
      "source": [
        "- View: posts/views.py → tags\n",
        "- URL: /posts/tags/{tag의 name}/\n",
        "- Template: templates/posts/tags.html"
      ],
      "metadata": {
        "id": "rbaFMj9CrRde"
      }
    },
    {
      "cell_type": "markdown",
      "source": [
        "- posts/views.py"
      ],
      "metadata": {
        "id": "vFZvAxhkrjez"
      }
    },
    {
      "cell_type": "code",
      "source": [
        "...\n",
        "def tags(request, tag_name):\n",
        "    return render(request, \"posts/tags.html\")"
      ],
      "metadata": {
        "id": "yDPvgPQPsHtM"
      },
      "execution_count": null,
      "outputs": []
    },
    {
      "cell_type": "markdown",
      "source": [
        "- posts/urls.py"
      ],
      "metadata": {
        "id": "g9wJgi6IrxwJ"
      }
    },
    {
      "cell_type": "code",
      "source": [
        "from posts.views import ..., tags\n",
        "...\n",
        "urlpatterns = [\n",
        "    ...\n",
        "    path(\"tags/<str:tag_name>/\", tags, name=\"tags\"),\n",
        "]"
      ],
      "metadata": {
        "id": "UBEIiiyir1NE"
      },
      "execution_count": null,
      "outputs": []
    },
    {
      "cell_type": "markdown",
      "source": [
        "- templates/posts/tags.html"
      ],
      "metadata": {
        "id": "wpKqWm41r163"
      }
    },
    {
      "cell_type": "code",
      "source": [
        "{% extends 'base.html' %}\n",
        "\n",
        "{% block content %}\n",
        "    <nav>\n",
        "        <h1>\n",
        "            <a href=\"{% url 'posts:feeds' %}\">Pystagram</a>\n",
        "        </h1>\n",
        "        <a href=\"{% url 'posts:post_add' %}\">Add Post</a>\n",
        "        <a href=\"{% url 'users:logout' %}\">Logout</a>\n",
        "    </nav>\n",
        "    <div id=\"tags\">\n",
        "        <header class=\"tags-header\">\n",
        "            <h2>#{{ tag_name }}</h2>\n",
        "            <div>게시물 1,094</div>\n",
        "        </header>\n",
        "        <div class=\"post-grid-container\">\n",
        "            <div class=\"post-grid\"></div>\n",
        "            <div class=\"post-grid\"></div>\n",
        "            <div class=\"post-grid\"></div>\n",
        "            <div class=\"post-grid\"></div>\n",
        "            <div class=\"post-grid\"></div>\n",
        "            <div class=\"post-grid\"></div>\n",
        "            <div class=\"post-grid\"></div>\n",
        "            <div class=\"post-grid\"></div>\n",
        "        </div>\n",
        "    </div>\n",
        "{% endblock %}"
      ],
      "metadata": {
        "id": "Bq9kilGer2Uy"
      },
      "execution_count": null,
      "outputs": []
    },
    {
      "cell_type": "markdown",
      "source": [
        "#### 2.3.3 View에서 해시태그를 찾고 해당하는 Post 목록 돌려주기"
      ],
      "metadata": {
        "id": "5U9p1lpotPGT"
      }
    },
    {
      "cell_type": "markdown",
      "source": [
        "- posts/views.py"
      ],
      "metadata": {
        "id": "lpQyh3-itYwy"
      }
    },
    {
      "cell_type": "code",
      "source": [
        "from posts.models import Post, Comment, PostImage, HashTag\n",
        "\n",
        "def tags(request, tag_name):\n",
        "    tag = HashTag.objects.get(name=tag_name)\n",
        "    print(tag)\n",
        "\n",
        "    return render(request, \"posts/tags.html\")"
      ],
      "metadata": {
        "id": "8QyAh3DFtcXq"
      },
      "execution_count": null,
      "outputs": []
    },
    {
      "cell_type": "markdown",
      "source": [
        "- posts/views.py"
      ],
      "metadata": {
        "id": "FvJ7FRNcts1X"
      }
    },
    {
      "cell_type": "code",
      "source": [
        "def tags(request, tag_name):\n",
        "    tag = HashTag.objects.get(name=tag_name)\n",
        "    posts = Post.objects.filter(tags=tag)\n",
        "\n",
        "    context = {\n",
        "        \"tag_name\": tag_name,\n",
        "        \"posts\": posts,\n",
        "    }\n",
        "    return render(request, \"posts/tags.html\", context)"
      ],
      "metadata": {
        "id": "EmIjudkgtvfq"
      },
      "execution_count": null,
      "outputs": []
    },
    {
      "cell_type": "markdown",
      "source": [
        "#### 2.3.4 Post 목록만큼 Grid 랜더링, tag_name 표시"
      ],
      "metadata": {
        "id": "OSYdMj6-t7AK"
      }
    },
    {
      "cell_type": "markdown",
      "source": [
        "- templates/posts/tags.html"
      ],
      "metadata": {
        "id": "rq8MLjtnuDE6"
      }
    },
    {
      "cell_type": "code",
      "source": [
        "...\n",
        "</nav>\n",
        "<div id=\"tags\">\n",
        "    <header class=\"tags-header\">\n",
        "        <h2>#{{ tag_name }}</h2>\n",
        "        <div>게시물 {{ posts.count }}</div>\n",
        "    </header>\n",
        "    <div class=\"post-grid-container\">\n",
        "        {% for post in posts %}\n",
        "            <div class=\"post-grid\"></div>\n",
        "        {% endfor %}\n",
        "    </div>\n",
        "</div>"
      ],
      "metadata": {
        "id": "DQsiRGzjuG3X"
      },
      "execution_count": null,
      "outputs": []
    },
    {
      "cell_type": "markdown",
      "source": [
        "#### 2.3.5 각각의 Post가 가진 첫 번째 이미지 보여주기"
      ],
      "metadata": {
        "id": "WC8I2I6tucIg"
      }
    },
    {
      "cell_type": "markdown",
      "source": [
        "- templates/posts/tags.html"
      ],
      "metadata": {
        "id": "XtI-K0V4uhom"
      }
    },
    {
      "cell_type": "code",
      "source": [
        "<div class=\"post-grid-container\">\n",
        "    {% for post in posts %}\n",
        "        {% if post.postimage_set.first and post.postimage_set.first.photo %}\n",
        "            <div class=\"post-grid\">\n",
        "                <img src=\"{{ post.postimage_set.first.photo.url }}\" alt=\"\">\n",
        "            </div>\n",
        "        {% endif %}\n",
        "    {% endfor %}\n",
        "</div>"
      ],
      "metadata": {
        "id": "h3CC1ZiNulsS"
      },
      "execution_count": null,
      "outputs": []
    },
    {
      "cell_type": "markdown",
      "source": [
        "- posts/views.py"
      ],
      "metadata": {
        "id": "ZRQF1HNfu6_9"
      }
    },
    {
      "cell_type": "code",
      "source": [
        "def tags(request, tag_name):\n",
        "    try:\n",
        "        tag = HashTag.objects.get(name=tag_name)\n",
        "    except HashTag.DoesNotExist:\n",
        "        # tag_name에 해당하는 HashTag를 찾지 못한 경우 빈 QuerySet을 돌려준다\n",
        "        posts = Post.objects.none()\n",
        "    else:\n",
        "        posts = Post.objects.filter(tags=tag)\n",
        "\n",
        "    context = {\n",
        "        \"tag_name\": tag_name,\n",
        "        \"posts\": posts,\n",
        "    }\n",
        "    return render(request, \"posts/tags.html\", context)"
      ],
      "metadata": {
        "id": "8qVE70iZvA8A"
      },
      "execution_count": null,
      "outputs": []
    },
    {
      "cell_type": "markdown",
      "source": [
        "- templates/posts/tags.html"
      ],
      "metadata": {
        "id": "RXLVIEdxvNKm"
      }
    },
    {
      "cell_type": "code",
      "source": [
        "<div class=\"post-grid-container\">\n",
        "    {% for post in posts %}\n",
        "        {% if post.postimage_set.first and post.postimage_set.first.photo %}\n",
        "            <div class=\"post-grid\">\n",
        "                <img src=\"{{ post.postimage_set.first.photo.url }}\" alt=\"\">\n",
        "            </div>\n",
        "        {% endif %}\n",
        "    {% empty %}\n",
        "        <p>검색된 게시물이 없습니다</p>\n",
        "    {% endfor %}\n",
        "</div>"
      ],
      "metadata": {
        "id": "Ut-hZaEOvQuO"
      },
      "execution_count": null,
      "outputs": []
    },
    {
      "cell_type": "markdown",
      "source": [
        "#### 2.3.7 피드 페이지의 글에서 해시태그 링크 생성"
      ],
      "metadata": {
        "id": "PRPCnZFPvbxZ"
      }
    },
    {
      "cell_type": "markdown",
      "source": [
        "- templates/posts/feeds.html"
      ],
      "metadata": {
        "id": "B7MoWf-tvgqC"
      }
    },
    {
      "cell_type": "code",
      "source": [
        "<div class=\"post-content\">\n",
        "    {{ post.content|linebreaksbr }}\n",
        "    <div class=\"post-tags\">\n",
        "        {% for tag in post.tags.all %}\n",
        "            <a href=\"{% url 'posts:tags' tag_name=tag.name %}\">#{{ tag.name }}</a>\n",
        "        {% endfor %}\n",
        "    </div>\n",
        "</div>"
      ],
      "metadata": {
        "id": "e5i5BY90vlCX"
      },
      "execution_count": null,
      "outputs": []
    },
    {
      "cell_type": "markdown",
      "source": [
        "### 2.4 해시태그 생성\n"
      ],
      "metadata": {
        "id": "aipYTW7psH_-"
      }
    },
    {
      "cell_type": "markdown",
      "source": [
        "#### 2.4.1 ManyToManyField 항목 추가 실습"
      ],
      "metadata": {
        "id": "YGbitrFdwADe"
      }
    },
    {
      "cell_type": "markdown",
      "source": [
        "- Terminal"
      ],
      "metadata": {
        "id": "tRuqBaGnwFoL"
      }
    },
    {
      "cell_type": "code",
      "source": [
        "python manage.py shell\n",
        "\n",
        "from posts.models import Post, HashTag\n",
        "\n",
        "tag = HashTag.objects.create(name='테스트해시태그')\n",
        "tag\n",
        "\n",
        "from users.models import User\n",
        "\n",
        "user = User.objects.first()\n",
        "user\n",
        "\n",
        "post = Post.objects.create(user=user, content='HashTag 테스트용 Post')\n",
        "post\n",
        "post.tags.all\n",
        "\n",
        "post.tags.add(tag)\n",
        "post.tags.all()"
      ],
      "metadata": {
        "id": "Fsj75YuesLRZ"
      },
      "execution_count": null,
      "outputs": []
    },
    {
      "cell_type": "markdown",
      "source": [
        "#### 2.4.2 해시태그 추가 Input 구현"
      ],
      "metadata": {
        "id": "cLU3vwkpwuor"
      }
    },
    {
      "cell_type": "markdown",
      "source": [
        "- templates/posts/post_add.html"
      ],
      "metadata": {
        "id": "15mxaKuAwyPP"
      }
    },
    {
      "cell_type": "code",
      "source": [
        "...\n",
        "<form method=\"POST\" enctype=\"multipart/form-data\">\n",
        "    {% csrf_token %}\n",
        "    <div>\n",
        "        <!-- label의 for속성에는 가리키는 input의 id값을 입력 -->\n",
        "        <label for=\"id_images\">이미지</label>\n",
        "        <input id=\"id_images\" name=\"images\" type=\"file\" multiple>\n",
        "    </div>\n",
        "    {{ form.as_p }}\n",
        "    <div>\n",
        "        <label for=\"id_tags\">해시태그</label>\n",
        "        <input id=\"id_tags\" name=\"tags\" type=\"text\" placeholder=\"쉼표(,)로 구분하여 여러 태그 입력\">\n",
        "    </div>\n",
        "    <button type=\"submit\">게시</button>\n",
        "</form>\n",
        "..."
      ],
      "metadata": {
        "id": "Xsatm2_tw5US"
      },
      "execution_count": null,
      "outputs": []
    },
    {
      "cell_type": "markdown",
      "source": [
        "#### 2.4.3 쉼표로 구분된 문자열 처리"
      ],
      "metadata": {
        "id": "i0bq-sjrxM8Q"
      }
    },
    {
      "cell_type": "markdown",
      "source": [
        "- Terminal"
      ],
      "metadata": {
        "id": "w012qjbxxQOh"
      }
    },
    {
      "cell_type": "code",
      "source": [
        "python manage.py shell\n",
        "\n",
        "tag_string = 'coffee,latte'\n",
        "tag_string.split(',')\n",
        "\n",
        "# 중간에 공백이 있는 경우 공백을 처리하지는 못함\n",
        "tag_string = 'coffee, latte'\n",
        "tag_string.split(',')\n",
        "\n",
        "# 좌우 공백을 없애는 함수는 strip()\n",
        "'   좌우 공백 포함    '.strip()\n",
        "\n",
        "# list comprehension으로 리스트 내의 공백 문자열 없애기\n",
        "tag_string = 'coffee,latte'\n",
        "tag_list = [tag.strip for tag in tag_string.split(',')]\n",
        "tag_list"
      ],
      "metadata": {
        "id": "YMFiJwT6wxp1"
      },
      "execution_count": null,
      "outputs": []
    },
    {
      "cell_type": "markdown",
      "source": [
        "- posts/views.py"
      ],
      "metadata": {
        "id": "hdBdd3KuzSH4"
      }
    },
    {
      "cell_type": "code",
      "source": [
        "def post_add(request):\n",
        "    if request.method == \"POST\":\n",
        "        form = PostForm(request.POST)\n",
        "\n",
        "        if form.is_valid():\n",
        "            post = form.save(commit=False)\n",
        "            ...\n",
        "\n",
        "            for image_file in request.FILES.getlist(\"images\"):\n",
        "                ...\n",
        "\n",
        "            # \"tags\"에 전달 된 문자열을 분리해 HashTag생성\n",
        "            tag_string = request.POST.get(\"tags\")\n",
        "            if tag_string:\n",
        "                tag_names = [tag_name.strip() for tag_name in tag_string.split(\",\")]\n",
        "                for tag_name in tag_names:\n",
        "                    tag, _ = HashTag.objects.get_or_create(name=tag_name)\n",
        "                    # get_or_create로 생성하거나 가져온 HashTag객체를 Post의 tags에 추가한다\n",
        "                    post.tags.add(tag)\n",
        "\n",
        "            # 모든 PostImage와 Post의 생성이 완료되면\n",
        "            # 피드페이지로 이동하여 생성된 Post의 위치로 스크롤되도록 한다\n",
        "            url = reverse(\"posts:feeds\") + f\"#post-{post.id}\"\n",
        "            return HttpResponseRedirect(url)\n",
        "    ..."
      ],
      "metadata": {
        "id": "0tZEwHhlzVjE"
      },
      "execution_count": null,
      "outputs": []
    }
  ]
}