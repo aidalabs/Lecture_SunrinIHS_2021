{
  "nbformat": 4,
  "nbformat_minor": 0,
  "metadata": {
    "colab": {
      "provenance": [],
      "toc_visible": true,
      "gpuType": "T4"
    },
    "kernelspec": {
      "name": "python3",
      "display_name": "Python 3"
    },
    "language_info": {
      "name": "python"
    },
    "accelerator": "GPU"
  },
  "cells": [
    {
      "cell_type": "markdown",
      "source": [
        "# **Tensorflow & Keras를 이용한DNN (Deep Neural Network)**"
      ],
      "metadata": {
        "id": "2TLiKETz8Ogg"
      }
    },
    {
      "cell_type": "markdown",
      "source": [
        "## **1. Keras의 개요**"
      ],
      "metadata": {
        "id": "Aw-5FZbI9mzG"
      }
    },
    {
      "cell_type": "markdown",
      "source": [
        "### 1-1. Keras란?"
      ],
      "metadata": {
        "id": "ba7ufr8e-8lO"
      }
    },
    {
      "cell_type": "markdown",
      "source": [
        "- 딥러닝 모델을 구축, 교육, 평가 및 실행을 위한 오픈 소스 신경망 라이브러리입\n",
        "- 파이썬으로 작성되었음\n",
        "- TensorFlow, CNTK, 혹은 Theano와 같은 저수준 딥러닝 프레임워크 위에서 동작함\n",
        "- TensorFlow 2.0부터는 Keras가 TensorFlow의 공식 고수준 API로 채택되어 직접적인 지원을 받고 있음"
      ],
      "metadata": {
        "id": "UBSjeR_P-8dJ"
      }
    },
    {
      "cell_type": "markdown",
      "source": [
        "### 1-2. Keras의 주요 특징"
      ],
      "metadata": {
        "id": "jh7ALYGX-8U0"
      }
    },
    {
      "cell_type": "markdown",
      "source": [
        "- 사용자 친화적\n",
        "\t- Keras는 일반적인 사용 사례를 단순화하여 딥러닝의 복잡성을 줄이는 데 중점을 둠\n",
        "\t- 코드가 짧고 가독성이 좋음\n",
        "\t- 쉬운 프로토타이핑이 가능함\n",
        "- 모듈화 및 구성 가능성\n",
        "\t- Keras의 핵심 개념은 모듈의 연결을 통해 복잡한 아키텍처를 구성하는 것\n",
        "\t- 레이어, 손실 함수, 최적화 알고리즘, 초기화 스키마, 활성화 함수 및 정규화 스키마는 모두 독립적인 모듈로 사용할 수 있음\n",
        "    - 또한 새로운 모델을 만드는 데 이러한 구성 요소를 쉽게 연결할 수 있음\n",
        "- 쉬운 확장성\n",
        "\t- 새로운 레이어, 메트릭, 손실 함수 등을 직접 구현하고 연결할 수 있음\n",
        "\t- 기존 구성 요소와도 호환됨\n",
        "- 멀티 백엔드 지원\n",
        "\t- 다양한 딥러닝 엔진 위에서 Keras를 사용할 수 있으므로, 코드를 한 엔진에서 다른 엔진으로 쉽게 마이그레이션 할 수 있음"
      ],
      "metadata": {
        "id": "hffJXaOV-8MC"
      }
    },
    {
      "cell_type": "markdown",
      "source": [
        "### 1-3. Keras의 주요 구성 요소"
      ],
      "metadata": {
        "id": "sAaSv8MB-8Du"
      }
    },
    {
      "cell_type": "markdown",
      "source": [
        "- 모델: Keras에서는 Sequential 모델과 함수형 API를 통해 복잡한 모델을 구축할 수 있음\n",
        "\t- Sequential 모델: 레이어의 선형 스택을 만들기 쉽게 해줌\n",
        "\t- 함수형 API: 다중 입력, 다중 출력, 공유 레이어, 비선형 연결 패턴 등 복잡한 아키텍처를 구성할 수 있음\n",
        "\t- 레이어\n",
        "        - 레이어는 신경망의 핵심 구성 요소로, 가중치와 활성화 함수 등을 포함함\n",
        "        - Keras에는 다양한 레이어가 사전 정의되어 있으며 사용자 정의 레이어도 쉽게 추가할 수 있음\n",
        "\t- 컴파일 및 훈련\n",
        "        - 모델을 컴파일하려면 손실 함수와 최적화 알고리즘을 선택해야 함\n",
        "        - 훈련 중에 평가할 메트릭도 선택할 수 있음\n",
        "        - 훈련은 fit 메서드를 사용하여 진행할 수 있음\n",
        "        - 검증 세트를 사용해 과적합을 모니터링할 수 있음\n",
        "\t- 모델 평가 및 예측\n",
        "        - evaluate 및 predict 메서드를 사용\n",
        "        - 새로운 데이터에서 모델의 성능을 평가하거나 예측을 생성할 수 있음\n",
        "- Keras는...\n",
        "    - 강력한 유연성과 직관성을 갖춘 도구\n",
        "    - 초보자부터 전문가까지 다양한 사용자에게 적합함\n",
        "    - 연구에서 산업 현장에 이르기까지 다양한 분야에서 사용됨"
      ],
      "metadata": {
        "id": "DfpUKjwK-7vW"
      }
    },
    {
      "cell_type": "markdown",
      "source": [
        "## **2. Keras를 이용한 DNN 모델 개발**"
      ],
      "metadata": {
        "id": "FV2oYLdVAOb9"
      }
    },
    {
      "cell_type": "markdown",
      "source": [
        "### 2-1. Sequence 모델"
      ],
      "metadata": {
        "id": "J8RbQzxvAV84"
      }
    },
    {
      "cell_type": "markdown",
      "source": [
        "#### 2-1-1. Sequence 모델의 사용"
      ],
      "metadata": {
        "id": "Hp5Fu_PpBjex"
      }
    },
    {
      "cell_type": "markdown",
      "source": [
        "- Sequential 모델이 적합한 경우\n",
        "\t- Sequential 모델은 각 레이어에 정확히 하나의 입력 텐서와 하나의 출력 텐서가 있는 일반 레이어 스택에 적합함"
      ],
      "metadata": {
        "id": "jl4TzgIsAjsY"
      }
    },
    {
      "cell_type": "markdown",
      "source": [
        "- Sequential 모델이 적합하지 않은 경우\n",
        "\t- 모델에 다중 입력 또는 다중 출력이 있을 때\n",
        "\t- 레이어에 다중 입력 또는 다중 출력이 있을 때\n",
        "\t- 레이어 공유를 해야 할 때\n",
        "\t- 비선형 토폴로지(예: 잔류 연결, 다중 분기 모델)를 원할 때"
      ],
      "metadata": {
        "id": "Gco9bIEPA7qX"
      }
    },
    {
      "cell_type": "markdown",
      "source": [
        "#### 2-1-2. Sequence 모델의 기본 형태"
      ],
      "metadata": {
        "id": "174d1IlaBoLr"
      }
    },
    {
      "cell_type": "code",
      "source": [
        "import tensorflow as tf\n",
        "from tensorflow import keras\n",
        "from tensorflow.keras import layers"
      ],
      "metadata": {
        "id": "_23hNygUDbfU"
      },
      "execution_count": 1,
      "outputs": []
    },
    {
      "cell_type": "code",
      "execution_count": 2,
      "metadata": {
        "id": "bruxqTdR7de9"
      },
      "outputs": [],
      "source": [
        "model = keras.Sequential(\n",
        "    [\n",
        "        layers.Dense(2, activation=\"relu\", name=\"layer1\"),\n",
        "        layers.Dense(3, activation=\"relu\", name=\"layer2\"),\n",
        "        layers.Dense(4, name=\"layer3\"),\n",
        "    ]\n",
        ")\n",
        "x = tf.ones((3, 3))\n",
        "y = model(x)"
      ]
    },
    {
      "cell_type": "markdown",
      "source": [
        "- Sequence 모델의 기본 형태는 다음의 함수와 동일함"
      ],
      "metadata": {
        "id": "lFyaxvg-BUfC"
      }
    },
    {
      "cell_type": "code",
      "source": [
        "layer1 = layers.Dense(2, activation=\"relu\", name=\"layer1\")\n",
        "layer2 = layers.Dense(3, activation=\"relu\", name=\"layer2\")\n",
        "layer3 = layers.Dense(4, name=\"layer3\")\n",
        "\n",
        "x = tf.ones((3, 3))\n",
        "y = layer3(layer2(layer1(x)))"
      ],
      "metadata": {
        "id": "S14hcWfSBbZN"
      },
      "execution_count": 3,
      "outputs": []
    },
    {
      "cell_type": "markdown",
      "source": [
        "#### 2-1-3. Sequence 모델 생성하기"
      ],
      "metadata": {
        "id": "spsF_h6hBvUs"
      }
    },
    {
      "cell_type": "markdown",
      "source": [
        "- 레이어의 목록을 Sequential 생성자에 전달하여 Sequential 모델을 만들 수 있음"
      ],
      "metadata": {
        "id": "lbf3Y5DaB1Tg"
      }
    },
    {
      "cell_type": "code",
      "source": [
        "model = keras.Sequential(\n",
        "    [\n",
        "        layers.Dense(2, activation=\"relu\"),\n",
        "        layers.Dense(3, activation=\"relu\"),\n",
        "        layers.Dense(4),\n",
        "    ]\n",
        ")"
      ],
      "metadata": {
        "id": "RQh2S2uaBynt"
      },
      "execution_count": 4,
      "outputs": []
    },
    {
      "cell_type": "markdown",
      "source": [
        "- 속한 레이어는 layers 속성을 통해 접근할 수 있음"
      ],
      "metadata": {
        "id": "pj8hBCu5B4zd"
      }
    },
    {
      "cell_type": "code",
      "source": [
        "model.layers"
      ],
      "metadata": {
        "colab": {
          "base_uri": "https://localhost:8080/"
        },
        "id": "DcuKKB4qB69z",
        "outputId": "1cdf9ecd-8ca1-44be-c4c2-a44ddf714622"
      },
      "execution_count": 5,
      "outputs": [
        {
          "output_type": "execute_result",
          "data": {
            "text/plain": [
              "[<keras.layers.core.dense.Dense at 0x7c672f6ffca0>,\n",
              " <keras.layers.core.dense.Dense at 0x7c672f897c70>,\n",
              " <keras.layers.core.dense.Dense at 0x7c672f897700>]"
            ]
          },
          "metadata": {},
          "execution_count": 5
        }
      ]
    },
    {
      "cell_type": "markdown",
      "source": [
        "- add() 메서드를 통해 Sequential 모델을 점진적으로 작성할 수도 있음"
      ],
      "metadata": {
        "id": "-xbZbab-B9v3"
      }
    },
    {
      "cell_type": "code",
      "source": [
        "model = keras.Sequential()\n",
        "model.add(layers.Dense(2, activation=\"relu\"))\n",
        "model.add(layers.Dense(3, activation=\"relu\"))\n",
        "model.add(layers.Dense(4))"
      ],
      "metadata": {
        "id": "UVQkDhGnB_5r"
      },
      "execution_count": 6,
      "outputs": []
    },
    {
      "cell_type": "markdown",
      "source": [
        "- 레이어를 제거하는 pop() 메소드의 사용\n",
        "    - Sequential 모델은 레이어의 리스트와 매우 유사하게 동작함"
      ],
      "metadata": {
        "id": "vQqNkKY3CCTV"
      }
    },
    {
      "cell_type": "code",
      "source": [
        "model.pop()\n",
        "print(len(model.layers))  # 2"
      ],
      "metadata": {
        "colab": {
          "base_uri": "https://localhost:8080/"
        },
        "id": "qLqIr5x5CJdR",
        "outputId": "df97f583-e915-48c6-835c-3e4ae776cf24"
      },
      "execution_count": 7,
      "outputs": [
        {
          "output_type": "stream",
          "name": "stdout",
          "text": [
            "2\n"
          ]
        }
      ]
    },
    {
      "cell_type": "markdown",
      "source": [
        "- Sequential 생성자\n",
        "    - Sequence의 생성자는 Keras의 모든 레이어 또는 모델과 마찬가지로 name 인수를 허용함\n",
        "    - 이것은 의미론적으로 유의미한 이름으로 TensorBoard 그래프에 주석을 달 때 유용함"
      ],
      "metadata": {
        "id": "d9wyVAIPCL-T"
      }
    },
    {
      "cell_type": "code",
      "source": [
        "model = keras.Sequential(name=\"my_sequential\")\n",
        "model.add(layers.Dense(2, activation=\"relu\", name=\"layer1\"))\n",
        "model.add(layers.Dense(3, activation=\"relu\", name=\"layer2\"))\n",
        "model.add(layers.Dense(4, name=\"layer3\"))"
      ],
      "metadata": {
        "id": "ubjkwUfLCZb7"
      },
      "execution_count": 8,
      "outputs": []
    },
    {
      "cell_type": "markdown",
      "source": [
        "#### 2-1-4. 미리 입력 형상 지정하기"
      ],
      "metadata": {
        "id": "Q2Hx_hLyCcO8"
      }
    },
    {
      "cell_type": "markdown",
      "source": [
        "- Keras의 모든 레이어는 가중치를 만들려면 입력의 형상을 알아야 함\n",
        "- 다음과 같은 레이어를 만들면 처음에는 가중치가 없음"
      ],
      "metadata": {
        "id": "4j3efOIyHflB"
      }
    },
    {
      "cell_type": "code",
      "source": [
        "layer = layers.Dense(3)\n",
        "layer.weights"
      ],
      "metadata": {
        "colab": {
          "base_uri": "https://localhost:8080/"
        },
        "id": "S9X5v2NfCfML",
        "outputId": "fde099ce-9913-481d-97de-9610e19de7c2"
      },
      "execution_count": 9,
      "outputs": [
        {
          "output_type": "execute_result",
          "data": {
            "text/plain": [
              "[]"
            ]
          },
          "metadata": {},
          "execution_count": 9
        }
      ]
    },
    {
      "cell_type": "markdown",
      "source": [
        "- 가중치는 모양이 입력의 형상에 따라 달라지기 때문에 입력에서 처음 호출될 때 가중치를 만듦\n",
        "- 이것은 Sequential 모델에도 적용됨"
      ],
      "metadata": {
        "id": "PIIkTT7bHnYe"
      }
    },
    {
      "cell_type": "code",
      "source": [
        "x = tf.ones((1, 4))\n",
        "y = layer(x)\n",
        "layer.weights"
      ],
      "metadata": {
        "colab": {
          "base_uri": "https://localhost:8080/"
        },
        "id": "wePPNaveHr76",
        "outputId": "48991b76-5be7-42f0-cdb6-ca08daede044"
      },
      "execution_count": 10,
      "outputs": [
        {
          "output_type": "execute_result",
          "data": {
            "text/plain": [
              "[<tf.Variable 'dense_6/kernel:0' shape=(4, 3) dtype=float32, numpy=\n",
              " array([[ 0.49868226,  0.82953656,  0.6644926 ],\n",
              "        [ 0.6160332 , -0.05794805, -0.6158738 ],\n",
              "        [ 0.7144222 , -0.3688159 ,  0.63037467],\n",
              "        [ 0.14119077,  0.29438412,  0.23018205]], dtype=float32)>,\n",
              " <tf.Variable 'dense_6/bias:0' shape=(3,) dtype=float32, numpy=array([0., 0., 0.], dtype=float32)>]"
            ]
          },
          "metadata": {},
          "execution_count": 10
        }
      ]
    },
    {
      "cell_type": "markdown",
      "source": [
        "- 입력 형상이 없는 Sequential 모델을 인스턴스화할 때는 가중치가 없기 때문에 \"빌드\"되지 않음(model.weights를 호출하면 오류가 발생함)\n",
        "- 모델에 처음 입력 데이터가 표시되면 가중치가 생성됨"
      ],
      "metadata": {
        "id": "GfBabMejHsp2"
      }
    },
    {
      "cell_type": "code",
      "source": [
        "model = keras.Sequential(\n",
        "    [\n",
        "        layers.Dense(2, activation=\"relu\"),\n",
        "        layers.Dense(3, activation=\"relu\"),\n",
        "        layers.Dense(4),\n",
        "    ]\n",
        ")\n",
        "\n",
        "x = tf.ones((1, 4))\n",
        "y = model(x)\n",
        "print(\"Number of weights after calling the model:\", len(model.weights))  # 6"
      ],
      "metadata": {
        "colab": {
          "base_uri": "https://localhost:8080/"
        },
        "id": "SWUQUmi0H-gw",
        "outputId": "0e8e51f1-0c89-4d40-d9ce-53503a0b46af"
      },
      "execution_count": 11,
      "outputs": [
        {
          "output_type": "stream",
          "name": "stdout",
          "text": [
            "Number of weights after calling the model: 6\n"
          ]
        }
      ]
    },
    {
      "cell_type": "markdown",
      "source": [
        "- 모델이 \"빌드\"되면, 그 내용을 표시하기 위해 summary() 메서드를 호출할 수 있음"
      ],
      "metadata": {
        "id": "8Y5SR5NkIC1r"
      }
    },
    {
      "cell_type": "code",
      "source": [
        "model.summary()"
      ],
      "metadata": {
        "colab": {
          "base_uri": "https://localhost:8080/"
        },
        "id": "_r5rBxJmIFI-",
        "outputId": "9bfd3cad-8994-4b49-cf0b-86e281f0aef2"
      },
      "execution_count": 12,
      "outputs": [
        {
          "output_type": "stream",
          "name": "stdout",
          "text": [
            "Model: \"sequential_3\"\n",
            "_________________________________________________________________\n",
            " Layer (type)                Output Shape              Param #   \n",
            "=================================================================\n",
            " dense_7 (Dense)             (1, 2)                    10        \n",
            "                                                                 \n",
            " dense_8 (Dense)             (1, 3)                    9         \n",
            "                                                                 \n",
            " dense_9 (Dense)             (1, 4)                    16        \n",
            "                                                                 \n",
            "=================================================================\n",
            "Total params: 35\n",
            "Trainable params: 35\n",
            "Non-trainable params: 0\n",
            "_________________________________________________________________\n"
          ]
        }
      ]
    },
    {
      "cell_type": "markdown",
      "source": [
        "- 이러한 방식은 현재 출력 형상을 포함하여 지금까지 모델의 요약을 표시할 수 있도록 Sequential 모델을 점진적으로 빌드할 때 매우 유용할 수 있음\n",
        "- 이 경우 Input 객체를 모델에 전달하여 모델의 시작 형상을 알 수 있도록 모델을 시작해야 함"
      ],
      "metadata": {
        "id": "2KLORDyaIfX_"
      }
    },
    {
      "cell_type": "code",
      "source": [
        "model = keras.Sequential()\n",
        "model.add(layers.Input(shape=(4,)))\n",
        "model.add(layers.Dense(2, activation=\"relu\"))\n",
        "\n",
        "model.summary()"
      ],
      "metadata": {
        "colab": {
          "base_uri": "https://localhost:8080/"
        },
        "id": "ueEzAL5tIWWS",
        "outputId": "2bb3494f-6ab5-4fea-e1e5-9d64cba735ac"
      },
      "execution_count": 13,
      "outputs": [
        {
          "output_type": "stream",
          "name": "stdout",
          "text": [
            "Model: \"sequential_4\"\n",
            "_________________________________________________________________\n",
            " Layer (type)                Output Shape              Param #   \n",
            "=================================================================\n",
            " dense_10 (Dense)            (None, 2)                 10        \n",
            "                                                                 \n",
            "=================================================================\n",
            "Total params: 10\n",
            "Trainable params: 10\n",
            "Non-trainable params: 0\n",
            "_________________________________________________________________\n"
          ]
        }
      ]
    },
    {
      "cell_type": "markdown",
      "source": [
        "- Input 객체는 레이어가 아니므로 model.layers의 일부로 표시되지 않음"
      ],
      "metadata": {
        "id": "GPC8zC-uIxBm"
      }
    },
    {
      "cell_type": "code",
      "source": [
        "model.layers"
      ],
      "metadata": {
        "colab": {
          "base_uri": "https://localhost:8080/"
        },
        "id": "AyvY-mbbIn4a",
        "outputId": "94192158-fd39-4d5a-e16b-2be3d3462108"
      },
      "execution_count": 14,
      "outputs": [
        {
          "output_type": "execute_result",
          "data": {
            "text/plain": [
              "[<keras.layers.core.dense.Dense at 0x7c672f799b10>]"
            ]
          },
          "metadata": {},
          "execution_count": 14
        }
      ]
    },
    {
      "cell_type": "markdown",
      "source": [
        "- 간단한 대안은 첫 번째 레이어에 input_shape 인수를 전달하는 것"
      ],
      "metadata": {
        "id": "RFXa39j_I9G8"
      }
    },
    {
      "cell_type": "code",
      "source": [
        "model = keras.Sequential()\n",
        "model.add(layers.Dense(2, activation=\"relu\", input_shape=(4,)))\n",
        "\n",
        "model.summary()"
      ],
      "metadata": {
        "colab": {
          "base_uri": "https://localhost:8080/"
        },
        "id": "qcAPTaWQIzzS",
        "outputId": "499c534c-6283-4210-8c44-8891789c7654"
      },
      "execution_count": 15,
      "outputs": [
        {
          "output_type": "stream",
          "name": "stdout",
          "text": [
            "Model: \"sequential_5\"\n",
            "_________________________________________________________________\n",
            " Layer (type)                Output Shape              Param #   \n",
            "=================================================================\n",
            " dense_11 (Dense)            (None, 2)                 10        \n",
            "                                                                 \n",
            "=================================================================\n",
            "Total params: 10\n",
            "Trainable params: 10\n",
            "Non-trainable params: 0\n",
            "_________________________________________________________________\n"
          ]
        }
      ]
    },
    {
      "cell_type": "markdown",
      "source": [
        "- 이처럼 사전 정의된 입력 모양으로 빌드된 모델은 항상 가중치를 가지며(데이터를 보기 전에도) 항상 정의된 출력 형상을 가짐\n",
        "- 일반적으로 Sequential 모델의 입력 형상을 알고 있는 경우 항상 Sequential 모델의 입력 형상을 지정하는 것이 좋음"
      ],
      "metadata": {
        "id": "hkDy4NKRJDKP"
      }
    },
    {
      "cell_type": "markdown",
      "source": [
        "#### 2-1-5. 일반적인 디버깅 워크플로우: add() + summary()"
      ],
      "metadata": {
        "id": "gYbpEU7ZJVuQ"
      }
    },
    {
      "cell_type": "markdown",
      "source": [
        "- 새로운 Sequential 아키텍처를 구축할 때는 add() 하여 레이어를 점진적으로 쌓고 모델 요약을 자주 인쇄하는 것이 유용함\n",
        "    - 예: Conv2D 및 MaxPooling2D 레이어의 스택이 이미지 특성 맵을 다운 샘플링 하는 방법을 모니터링할 수 있음"
      ],
      "metadata": {
        "id": "rSlwCg5hJc_J"
      }
    },
    {
      "cell_type": "code",
      "source": [
        "model = keras.Sequential()\n",
        "model.add(layers.Input(shape=(250, 250, 3)))\n",
        "model.add(layers.Conv2D(32, 5, strides=2, activation=\"relu\"))\n",
        "model.add(layers.Conv2D(32, 3, activation=\"relu\"))\n",
        "model.add(layers.MaxPooling2D(3))\n",
        "\n",
        "model.summary()\n",
        "\n",
        "model.add(layers.Conv2D(32, 3, activation=\"relu\"))\n",
        "model.add(layers.Conv2D(32, 3, activation=\"relu\"))\n",
        "model.add(layers.MaxPooling2D(3))\n",
        "model.add(layers.Conv2D(32, 3, activation=\"relu\"))\n",
        "model.add(layers.Conv2D(32, 3, activation=\"relu\"))\n",
        "model.add(layers.MaxPooling2D(2))\n",
        "\n",
        "model.summary()\n",
        "\n",
        "model.add(layers.GlobalMaxPooling2D())\n",
        "model.add(layers.Dense(10))"
      ],
      "metadata": {
        "colab": {
          "base_uri": "https://localhost:8080/"
        },
        "id": "4SZ8yG4VI6Mq",
        "outputId": "f0169973-16ba-4962-b642-8e7bbbf61e4c"
      },
      "execution_count": 16,
      "outputs": [
        {
          "output_type": "stream",
          "name": "stdout",
          "text": [
            "Model: \"sequential_6\"\n",
            "_________________________________________________________________\n",
            " Layer (type)                Output Shape              Param #   \n",
            "=================================================================\n",
            " conv2d (Conv2D)             (None, 123, 123, 32)      2432      \n",
            "                                                                 \n",
            " conv2d_1 (Conv2D)           (None, 121, 121, 32)      9248      \n",
            "                                                                 \n",
            " max_pooling2d (MaxPooling2D  (None, 40, 40, 32)       0         \n",
            " )                                                               \n",
            "                                                                 \n",
            "=================================================================\n",
            "Total params: 11,680\n",
            "Trainable params: 11,680\n",
            "Non-trainable params: 0\n",
            "_________________________________________________________________\n",
            "Model: \"sequential_6\"\n",
            "_________________________________________________________________\n",
            " Layer (type)                Output Shape              Param #   \n",
            "=================================================================\n",
            " conv2d (Conv2D)             (None, 123, 123, 32)      2432      \n",
            "                                                                 \n",
            " conv2d_1 (Conv2D)           (None, 121, 121, 32)      9248      \n",
            "                                                                 \n",
            " max_pooling2d (MaxPooling2D  (None, 40, 40, 32)       0         \n",
            " )                                                               \n",
            "                                                                 \n",
            " conv2d_2 (Conv2D)           (None, 38, 38, 32)        9248      \n",
            "                                                                 \n",
            " conv2d_3 (Conv2D)           (None, 36, 36, 32)        9248      \n",
            "                                                                 \n",
            " max_pooling2d_1 (MaxPooling  (None, 12, 12, 32)       0         \n",
            " 2D)                                                             \n",
            "                                                                 \n",
            " conv2d_4 (Conv2D)           (None, 10, 10, 32)        9248      \n",
            "                                                                 \n",
            " conv2d_5 (Conv2D)           (None, 8, 8, 32)          9248      \n",
            "                                                                 \n",
            " max_pooling2d_2 (MaxPooling  (None, 4, 4, 32)         0         \n",
            " 2D)                                                             \n",
            "                                                                 \n",
            "=================================================================\n",
            "Total params: 48,672\n",
            "Trainable params: 48,672\n",
            "Non-trainable params: 0\n",
            "_________________________________________________________________\n"
          ]
        }
      ]
    },
    {
      "cell_type": "markdown",
      "source": [
        "#### 2-1-6. 모델이 완성되면 해야 할 일"
      ],
      "metadata": {
        "id": "W51N5B1GJ7RZ"
      }
    },
    {
      "cell_type": "markdown",
      "source": [
        "- 모델을 훈련시키고 평가하며 추론을 실행함\n",
        "- 모델을 디스크에 저장하고 복구함\n",
        "- 다중 GPU를 활용하여 모델 훈련 속도를 향상 시킴"
      ],
      "metadata": {
        "id": "8JsUPM92KF1N"
      }
    },
    {
      "cell_type": "markdown",
      "source": [
        "#### 2-1-7. Sequential 모델을 사용한 특성 추출"
      ],
      "metadata": {
        "id": "clEfdBjpKNpv"
      }
    },
    {
      "cell_type": "markdown",
      "source": [
        "- Sequential 모델이 빌드되면 Functional API 모델처럼 동작함\n",
        "- 이는 모든 레이어가 input 및 output 속성을 갖는다는 것을 의미함\n",
        "- 이러한 속성을 사용하면 Sequential 모델 내의 모든 중간 레이어들의 출력을 추출하는 모델을 빠르게 생성하는 등 깔끔한 작업을 수행할 수 있음"
      ],
      "metadata": {
        "id": "BVyFKvRSKdGU"
      }
    },
    {
      "cell_type": "code",
      "source": [
        "initial_model = keras.Sequential(\n",
        "    [\n",
        "        layers.Input(shape=(250, 250, 3)),\n",
        "        layers.Conv2D(32, 5, strides=2, activation=\"relu\"),\n",
        "        layers.Conv2D(32, 3, activation=\"relu\"),\n",
        "        layers.Conv2D(32, 3, activation=\"relu\"),\n",
        "    ]\n",
        ")\n",
        "\n",
        "feature_extractor = keras.Model(\n",
        "    inputs=initial_model.inputs,\n",
        "    outputs=[layer.output for layer in initial_model.layers],\n",
        ")\n",
        "\n",
        "x = tf.ones((1, 250, 250, 3))\n",
        "features = feature_extractor(x)"
      ],
      "metadata": {
        "id": "sQE6AvkQJqU2"
      },
      "execution_count": 17,
      "outputs": []
    },
    {
      "cell_type": "markdown",
      "source": [
        "- 한 레이어에서 특성만 추출하는 것과 유사한 예"
      ],
      "metadata": {
        "id": "DloydSc5K14M"
      }
    },
    {
      "cell_type": "code",
      "source": [
        "initial_model = keras.Sequential(\n",
        "    [\n",
        "        layers.Input(shape=(250, 250, 3)),\n",
        "        layers.Conv2D(32, 5, strides=2, activation=\"relu\"),\n",
        "        layers.Conv2D(32, 3, activation=\"relu\", name=\"my_intermediate_layer\"),\n",
        "        layers.Conv2D(32, 3, activation=\"relu\"),\n",
        "    ]\n",
        ")\n",
        "\n",
        "feature_extractor = keras.Model(\n",
        "    inputs=initial_model.inputs,\n",
        "    outputs=initial_model.get_layer(name=\"my_intermediate_layer\").output,\n",
        ")\n",
        "\n",
        "x = tf.ones((1, 250, 250, 3))\n",
        "features = feature_extractor(x)"
      ],
      "metadata": {
        "id": "aBJAzVugKiA6"
      },
      "execution_count": 18,
      "outputs": []
    },
    {
      "cell_type": "markdown",
      "source": [
        "### 2-2. 내장 메서드를 사용한 학습 및 평가"
      ],
      "metadata": {
        "id": "AW79MdeQZImI"
      }
    },
    {
      "cell_type": "markdown",
      "source": [
        "#### 2-2-1. 모델 훈련 및 유효성 검사"
      ],
      "metadata": {
        "id": "_vha_4gdoS-X"
      }
    },
    {
      "cell_type": "markdown",
      "source": [
        "- 모델 훈련 및 유효성 검사는 모든 종류의 Keras 모델에서 완전히 동일하게 작동함\n",
        "- 훈련 및 유효성 검증을 위한 내장 API의 사용\n",
        "    - 훈련: model.fit()\n",
        "    - 평가: model.evaluate()\n",
        "    - 예측(추론): model.predict()"
      ],
      "metadata": {
        "id": "fMWBveDd3JeZ"
      }
    },
    {
      "cell_type": "markdown",
      "source": [
        "#### 2-2-2. End-to-End 모델 예시"
      ],
      "metadata": {
        "id": "4To1FZRooS6u"
      }
    },
    {
      "cell_type": "markdown",
      "source": [
        "- 일반적인 엔드 투 엔드 워크플로의 구성\n",
        "    - 훈련\n",
        "    - 원래 훈련 데이터에서 생성된 홀드아웃 세트에 대한 유효성 검사\n",
        "    - 테스트 데이터에 대한 평가"
      ],
      "metadata": {
        "id": "Dcg9EAdxpswv"
      }
    },
    {
      "cell_type": "markdown",
      "source": [
        "##### 2-2-2-1. 데이터 구성"
      ],
      "metadata": {
        "id": "xCGjvnZSsLEO"
      }
    },
    {
      "cell_type": "markdown",
      "source": [
        "- 데이터를 모델의 내장 훈련 루프로 전달할 때\n",
        "    - NumPy 배열(데이터가 작고 메모리에 맞는 경우) 또는 tf.data Dataset 객체를 사용"
      ],
      "metadata": {
        "id": "iury5p4hoS34"
      }
    },
    {
      "cell_type": "code",
      "source": [
        "inputs = keras.Input(shape=(784,), name=\"digits\")\n",
        "x = layers.Dense(64, activation=\"relu\", name=\"dense_1\")(inputs)\n",
        "x = layers.Dense(64, activation=\"relu\", name=\"dense_2\")(x)\n",
        "outputs = layers.Dense(10, activation=\"softmax\", name=\"predictions\")(x)\n",
        "\n",
        "model = keras.Model(inputs=inputs, outputs=outputs)"
      ],
      "metadata": {
        "id": "n0S4N45DplrV"
      },
      "execution_count": 19,
      "outputs": []
    },
    {
      "cell_type": "markdown",
      "source": [
        "- 옵티마이저, 손실 및 메트릭을 사용하는 방법을 보여주기 위해 MNIST 데이터세트를 NumPy 배열로 사용함"
      ],
      "metadata": {
        "id": "S6A_mq61p_La"
      }
    },
    {
      "cell_type": "code",
      "source": [
        "(x_train, y_train), (x_test, y_test) = keras.datasets.mnist.load_data()\n",
        "\n",
        "x_train = x_train.reshape(60000, 784).astype(\"float32\") / 255\n",
        "x_test = x_test.reshape(10000, 784).astype(\"float32\") / 255\n",
        "\n",
        "y_train = y_train.astype(\"float32\")\n",
        "y_test = y_test.astype(\"float32\")\n",
        "\n",
        "x_val = x_train[-10000:]\n",
        "y_val = y_train[-10000:]\n",
        "x_train = x_train[:-10000]\n",
        "y_train = y_train[:-10000]"
      ],
      "metadata": {
        "id": "odDJJcZlp6Gi",
        "colab": {
          "base_uri": "https://localhost:8080/"
        },
        "outputId": "4caaaad7-ba49-4121-81d0-77f21f8df471"
      },
      "execution_count": 20,
      "outputs": [
        {
          "output_type": "stream",
          "name": "stdout",
          "text": [
            "Downloading data from https://storage.googleapis.com/tensorflow/tf-keras-datasets/mnist.npz\n",
            "11490434/11490434 [==============================] - 0s 0us/step\n"
          ]
        }
      ]
    },
    {
      "cell_type": "markdown",
      "source": [
        "##### 2-2-2-2. 훈련 구성"
      ],
      "metadata": {
        "id": "4_xQRpPvsPhn"
      }
    },
    {
      "cell_type": "markdown",
      "source": [
        "- 최적화 프로그램, 손실, 메트릭 지정\n",
        "- compile() 메서드 호출\n",
        "    - 손실, 메트릭 및 최적화 프로그램 지정하기\n",
        "        - fit()으로 모델을 훈련시키려면 손실 함수, 최적화 프로그램, 그리고 선택적으로 모니터링할 일부 메트릭을 지정해야 함\n",
        "    - metrics 인수는 List\n",
        "        - 모델의 메트릭 수는 여러 개도 가능함\n",
        "    - 모델에 여러 개의 출력이 있는 경우\n",
        "        - 각 출력에 대해 서로 다른 손실 및 메트릭을 지정\n",
        "        - 모델의 총 손실에 대한 각 출력의 기여도를 조정 가능\n",
        "- 이러한 내용은 compile() 메서드에 대한 인수로 모델에 전달함"
      ],
      "metadata": {
        "id": "XLMeDn1WoS0A"
      }
    },
    {
      "cell_type": "code",
      "source": [
        "model.compile(\n",
        "    optimizer=keras.optimizers.RMSprop(),  # Optimizer\n",
        "    # Loss function to minimize\n",
        "    loss=keras.losses.SparseCategoricalCrossentropy(),\n",
        "    # List of metrics to monitor\n",
        "    metrics=[keras.metrics.SparseCategoricalAccuracy()],\n",
        ")"
      ],
      "metadata": {
        "id": "EbBs8zLDqNfH"
      },
      "execution_count": 21,
      "outputs": []
    },
    {
      "cell_type": "code",
      "source": [
        "# 또 다른 방법\n",
        "model.compile(\n",
        "    optimizer=\"rmsprop\",\n",
        "    loss=\"sparse_categorical_crossentropy\",\n",
        "    metrics=[\"sparse_categorical_accuracy\"],\n",
        ")"
      ],
      "metadata": {
        "id": "OVHysAmsru_y"
      },
      "execution_count": 22,
      "outputs": []
    },
    {
      "cell_type": "markdown",
      "source": [
        "- 재사용하기 위해 모델 정의와 컴파일 단계를 함수에 넣을 수 있음"
      ],
      "metadata": {
        "id": "desnJZm9rHPn"
      }
    },
    {
      "cell_type": "code",
      "source": [
        "def get_uncompiled_model():\n",
        "    inputs = keras.Input(shape=(784,), name=\"digits\")\n",
        "    x = layers.Dense(64, activation=\"relu\", name=\"dense_1\")(inputs)\n",
        "    x = layers.Dense(64, activation=\"relu\", name=\"dense_2\")(x)\n",
        "    outputs = layers.Dense(10, activation=\"softmax\", name=\"predictions\")(x)\n",
        "    model = keras.Model(inputs=inputs, outputs=outputs)\n",
        "    return model"
      ],
      "metadata": {
        "id": "ARH8WHVwsA3n"
      },
      "execution_count": 23,
      "outputs": []
    },
    {
      "cell_type": "code",
      "source": [
        "def get_compiled_model():\n",
        "    model = get_uncompiled_model()\n",
        "    model.compile(\n",
        "        optimizer=\"rmsprop\",\n",
        "        loss=\"sparse_categorical_crossentropy\",\n",
        "        metrics=[\"sparse_categorical_accuracy\"],\n",
        "    )\n",
        "    return model"
      ],
      "metadata": {
        "id": "oYXYQvw9sEzU"
      },
      "execution_count": 24,
      "outputs": []
    },
    {
      "cell_type": "markdown",
      "source": [
        "- 다양한 내장 최적화 프로그램, 손실 및 메트릭 사용 가능\n",
        "    - 최적화 프로그램:\n",
        "        - SGD()(모멘텀이 있거나 없음)\n",
        "        - RMSprop()\n",
        "        - Adam()\n",
        "        - 기타\n",
        "    - 손실:\n",
        "        - MeanSquaredError()\n",
        "        - KLDivergence()\n",
        "        - CosineSimilarity()\n",
        "        - 기타\n",
        "    - 메트릭:\n",
        "        - AUC()\n",
        "        - Precision()\n",
        "        - Recall()\n",
        "        - 기타       "
      ],
      "metadata": {
        "id": "dpMahuNsscvk"
      }
    },
    {
      "cell_type": "markdown",
      "source": [
        "##### 2-2-2-3. 모델 훈련"
      ],
      "metadata": {
        "id": "X26s0IhQtO-W"
      }
    },
    {
      "cell_type": "markdown",
      "source": [
        "- fit() 호출\n",
        "- 데이터를 batch_size 크기의 \"배치\"로 분할\n",
        "- 지정된 수의 epochs에 대해 전체 데이터세트를 반복 처리"
      ],
      "metadata": {
        "id": "QBYrkWcMoSwg"
      }
    },
    {
      "cell_type": "code",
      "source": [
        "print(\"Fit model on training data\")\n",
        "history = model.fit(\n",
        "    x_train,\n",
        "    y_train,\n",
        "    batch_size=64,\n",
        "    epochs=2,\n",
        "    validation_data=(x_val, y_val),\n",
        ")"
      ],
      "metadata": {
        "colab": {
          "base_uri": "https://localhost:8080/"
        },
        "id": "KOeYMtQMqcos",
        "outputId": "06242076-fb56-45ee-f602-3c7cf04ef810"
      },
      "execution_count": 25,
      "outputs": [
        {
          "output_type": "stream",
          "name": "stdout",
          "text": [
            "Fit model on training data\n",
            "Epoch 1/2\n",
            "782/782 [==============================] - 5s 4ms/step - loss: 0.3440 - sparse_categorical_accuracy: 0.9017 - val_loss: 0.1898 - val_sparse_categorical_accuracy: 0.9451\n",
            "Epoch 2/2\n",
            "782/782 [==============================] - 3s 3ms/step - loss: 0.1658 - sparse_categorical_accuracy: 0.9515 - val_loss: 0.1447 - val_sparse_categorical_accuracy: 0.9593\n"
          ]
        }
      ]
    },
    {
      "cell_type": "markdown",
      "source": [
        "- 반환되는 history 객체는 훈련 중 손실 값과 메트릭 값에 대한 레코드를 유지하고 있음"
      ],
      "metadata": {
        "id": "ftgv0As2oSs3"
      }
    },
    {
      "cell_type": "code",
      "source": [
        "history.history"
      ],
      "metadata": {
        "colab": {
          "base_uri": "https://localhost:8080/"
        },
        "id": "sbvuubh3qi95",
        "outputId": "caa18c6c-322a-41b6-847d-abcafb65d2b5"
      },
      "execution_count": 26,
      "outputs": [
        {
          "output_type": "execute_result",
          "data": {
            "text/plain": [
              "{'loss': [0.3440347909927368, 0.16582225263118744],\n",
              " 'sparse_categorical_accuracy': [0.9017400145530701, 0.9514600038528442],\n",
              " 'val_loss': [0.18975454568862915, 0.14473575353622437],\n",
              " 'val_sparse_categorical_accuracy': [0.9451000094413757, 0.9592999815940857]}"
            ]
          },
          "metadata": {},
          "execution_count": 26
        }
      ]
    },
    {
      "cell_type": "markdown",
      "source": [
        "##### 2-2-2-4. 모델 평가"
      ],
      "metadata": {
        "id": "tAV6phmOtUuL"
      }
    },
    {
      "cell_type": "markdown",
      "source": [
        "- evaluate() 호출\n",
        "- 테스트 데이터에 대하여 모델 평가 수행"
      ],
      "metadata": {
        "id": "muA00zkdoSf-"
      }
    },
    {
      "cell_type": "code",
      "source": [
        "print(\"Evaluate on test data\")\n",
        "results = model.evaluate(x_test, y_test, batch_size=128)\n",
        "print(\"test loss, test acc:\", results)\n",
        "\n",
        "print(\"Generate predictions for 3 samples\")\n",
        "predictions = model.predict(x_test[:3])\n",
        "print(\"predictions shape:\", predictions.shape)"
      ],
      "metadata": {
        "colab": {
          "base_uri": "https://localhost:8080/"
        },
        "id": "j2yfu5SpYmaH",
        "outputId": "fced7f95-d598-4d0f-915e-d15eeb1f4cc9"
      },
      "execution_count": 27,
      "outputs": [
        {
          "output_type": "stream",
          "name": "stdout",
          "text": [
            "Evaluate on test data\n",
            "79/79 [==============================] - 0s 2ms/step - loss: 0.1404 - sparse_categorical_accuracy: 0.9554\n",
            "test loss, test acc: [0.14036796987056732, 0.9553999900817871]\n",
            "Generate predictions for 3 samples\n",
            "1/1 [==============================] - 0s 108ms/step\n",
            "predictions shape: (3, 10)\n"
          ]
        }
      ]
    },
    {
      "cell_type": "markdown",
      "source": [
        "#### 2-2-3. 콜백 사용하기"
      ],
      "metadata": {
        "id": "RbPec5f8telm"
      }
    },
    {
      "cell_type": "markdown",
      "source": [
        "- 콜백(Callback)\n",
        "    - 훈련 중 다른 시점(epoch의 시작, 배치의 끝, epoch의 끝 등)에서 호출되며 다음과 같은 특정 동작을 구현하는 데 사용할 수 있는 객체\n",
        "- 콜백의 기능\n",
        "    - 훈련 중 서로 다른 시점에서 유효성 검사 수행(내장된 epoch당 유효성 검사에서 더욱 확장)\n",
        "    - 정기적으로 또는 특정 정확도 임계값을 초과할 때 모델 검사점 설정\n",
        "    - 훈련이 평탄해진 것으로 보일 때 모델의 학습률 변경\n",
        "    - 훈련이 평탄해진 것으로 보일 때 최상위 레이어의 미세 조정 수행\n",
        "    - 훈련이 종료되거나 특정 성능 임계값이 초과된 경우 이메일 또는 인스턴트 메시지로 알림 보내기\n",
        "    - 기타\n",
        "- 콜백은 fit()에 대한 호출에 목록으로 전달할 수 있음"
      ],
      "metadata": {
        "id": "aTuWHwLrtjxW"
      }
    },
    {
      "cell_type": "code",
      "source": [
        "model = get_compiled_model()\n",
        "\n",
        "callbacks = [\n",
        "    keras.callbacks.EarlyStopping(\n",
        "        monitor=\"val_loss\",\n",
        "        min_delta=1e-2,\n",
        "        patience=2,\n",
        "        verbose=1,\n",
        "    )\n",
        "]\n",
        "model.fit(\n",
        "    x_train,\n",
        "    y_train,\n",
        "    epochs=20,\n",
        "    batch_size=64,\n",
        "    callbacks=callbacks,\n",
        "    validation_split=0.2,\n",
        ")"
      ],
      "metadata": {
        "colab": {
          "base_uri": "https://localhost:8080/"
        },
        "id": "pEZIw7-nqs77",
        "outputId": "2a81df55-3e17-49b1-f5b6-d2f0ebf6c60b"
      },
      "execution_count": 28,
      "outputs": [
        {
          "output_type": "stream",
          "name": "stdout",
          "text": [
            "Epoch 1/20\n",
            "625/625 [==============================] - 4s 4ms/step - loss: 0.3687 - sparse_categorical_accuracy: 0.8943 - val_loss: 0.2308 - val_sparse_categorical_accuracy: 0.9312\n",
            "Epoch 2/20\n",
            "625/625 [==============================] - 2s 3ms/step - loss: 0.1701 - sparse_categorical_accuracy: 0.9493 - val_loss: 0.1689 - val_sparse_categorical_accuracy: 0.9505\n",
            "Epoch 3/20\n",
            "625/625 [==============================] - 2s 4ms/step - loss: 0.1228 - sparse_categorical_accuracy: 0.9637 - val_loss: 0.1522 - val_sparse_categorical_accuracy: 0.9550\n",
            "Epoch 4/20\n",
            "625/625 [==============================] - 2s 3ms/step - loss: 0.0979 - sparse_categorical_accuracy: 0.9705 - val_loss: 0.1350 - val_sparse_categorical_accuracy: 0.9594\n",
            "Epoch 5/20\n",
            "625/625 [==============================] - 2s 3ms/step - loss: 0.0791 - sparse_categorical_accuracy: 0.9760 - val_loss: 0.1354 - val_sparse_categorical_accuracy: 0.9606\n",
            "Epoch 6/20\n",
            "625/625 [==============================] - 3s 4ms/step - loss: 0.0681 - sparse_categorical_accuracy: 0.9798 - val_loss: 0.1353 - val_sparse_categorical_accuracy: 0.9610\n",
            "Epoch 6: early stopping\n"
          ]
        },
        {
          "output_type": "execute_result",
          "data": {
            "text/plain": [
              "<keras.callbacks.History at 0x7c670c0a5d80>"
            ]
          },
          "metadata": {},
          "execution_count": 28
        }
      ]
    },
    {
      "cell_type": "markdown",
      "source": [
        "- 다양한 내장 콜백을 사용 가능\n",
        "\t- ModelCheckpoint: 주기적으로 모델 저장\n",
        "\t- EarlyStopping: 훈련이 더 이상 유효성 검사 메트릭을 개선하지 못하는 경우 훈련 중단\n",
        "\t- TensorBoard: TensorBoard에서 시각화할 수 있는 모델 로그를 정기적으로 작성\n",
        "\t- CSVLogger: 손실 및 메트릭 데이터를 CSV 파일로 스트리밍\n",
        "\t- 기타"
      ],
      "metadata": {
        "id": "CWU8KDGLuHYb"
      }
    },
    {
      "cell_type": "markdown",
      "source": [
        "#### 2-2-4. 모델 검사점 설정하기"
      ],
      "metadata": {
        "id": "UH9AsaKY3sHV"
      }
    },
    {
      "cell_type": "markdown",
      "source": [
        "- 상대적으로 큰 데이터셋에 대한 모델을 훈련시킬 때는 모델의 검사점을 빈번하게 저장하는 것이 중요함\n",
        "- ModelCheckpoint 콜백 사용(가장 쉬운 방법)\n",
        "    - 내결함성 구현 가능\n",
        "    - 즉, 훈련이 무작위로 중단되는 경우 모델의 마지막 저장된 상태에서 훈련을 다시 시작할 수 있음"
      ],
      "metadata": {
        "id": "89rkd_-5uWKG"
      }
    },
    {
      "cell_type": "code",
      "source": [
        "model = get_compiled_model()\n",
        "\n",
        "callbacks = [\n",
        "    keras.callbacks.ModelCheckpoint(\n",
        "        filepath=\"mymodel_{epoch}\",\n",
        "        save_best_only=True,\n",
        "        monitor=\"val_loss\",\n",
        "        verbose=1,\n",
        "    )\n",
        "]\n",
        "model.fit(\n",
        "    x_train, y_train, epochs=2, batch_size=64, callbacks=callbacks, validation_split=0.2\n",
        ")"
      ],
      "metadata": {
        "colab": {
          "base_uri": "https://localhost:8080/"
        },
        "id": "02tNiKswt6GL",
        "outputId": "e1680134-d6cf-4c2d-d328-f659aa60aff0"
      },
      "execution_count": 29,
      "outputs": [
        {
          "output_type": "stream",
          "name": "stdout",
          "text": [
            "Epoch 1/2\n",
            "611/625 [============================>.] - ETA: 0s - loss: 0.3832 - sparse_categorical_accuracy: 0.8903\n",
            "Epoch 1: val_loss improved from inf to 0.23627, saving model to mymodel_1\n",
            "625/625 [==============================] - 4s 4ms/step - loss: 0.3797 - sparse_categorical_accuracy: 0.8913 - val_loss: 0.2363 - val_sparse_categorical_accuracy: 0.9280\n",
            "Epoch 2/2\n",
            "607/625 [============================>.] - ETA: 0s - loss: 0.1766 - sparse_categorical_accuracy: 0.9478\n",
            "Epoch 2: val_loss improved from 0.23627 to 0.19596, saving model to mymodel_2\n",
            "625/625 [==============================] - 2s 4ms/step - loss: 0.1758 - sparse_categorical_accuracy: 0.9480 - val_loss: 0.1960 - val_sparse_categorical_accuracy: 0.9400\n"
          ]
        },
        {
          "output_type": "execute_result",
          "data": {
            "text/plain": [
              "<keras.callbacks.History at 0x7c66e3957790>"
            ]
          },
          "metadata": {},
          "execution_count": 29
        }
      ]
    },
    {
      "cell_type": "code",
      "source": [
        "# 내결함성 구현의 예\n",
        "import os\n",
        "\n",
        "checkpoint_dir = \"./ckpt\"\n",
        "if not os.path.exists(checkpoint_dir):\n",
        "    os.makedirs(checkpoint_dir)\n",
        "\n",
        "\n",
        "def make_or_restore_model():\n",
        "    checkpoints = [checkpoint_dir + \"/\" + name for name in os.listdir(checkpoint_dir)]\n",
        "    if checkpoints:\n",
        "        latest_checkpoint = max(checkpoints, key=os.path.getctime)\n",
        "        print(\"Restoring from\", latest_checkpoint)\n",
        "        return keras.models.load_model(latest_checkpoint)\n",
        "    print(\"Creating a new model\")\n",
        "    return get_compiled_model()\n",
        "\n",
        "\n",
        "model = make_or_restore_model()\n",
        "callbacks = [\n",
        "    keras.callbacks.ModelCheckpoint(\n",
        "        filepath=checkpoint_dir + \"/ckpt-loss={loss:.2f}\", save_freq=100\n",
        "    )\n",
        "]\n",
        "model.fit(x_train, y_train, epochs=1, callbacks=callbacks)"
      ],
      "metadata": {
        "colab": {
          "base_uri": "https://localhost:8080/"
        },
        "id": "Na863Ltcug4T",
        "outputId": "f6e80369-40c9-4488-bbb6-597f904018c5"
      },
      "execution_count": 30,
      "outputs": [
        {
          "output_type": "stream",
          "name": "stdout",
          "text": [
            "Creating a new model\n",
            "1563/1563 [==============================] - 14s 8ms/step - loss: 0.2993 - sparse_categorical_accuracy: 0.9141\n"
          ]
        },
        {
          "output_type": "execute_result",
          "data": {
            "text/plain": [
              "<keras.callbacks.History at 0x7c66cbfee5f0>"
            ]
          },
          "metadata": {},
          "execution_count": 30
        }
      ]
    },
    {
      "cell_type": "markdown",
      "source": [
        "#### 2-2-5. 학습률 일정 사용하기"
      ],
      "metadata": {
        "id": "6isP2M2bvL7y"
      }
    },
    {
      "cell_type": "markdown",
      "source": [
        "- 학습률 일정(Learning Rate Schedule)\n",
        "    - 딥 러닝 모델을 훈련할 때 일반적인 패턴은 훈련이 진행됨에 따라 점차적으로 학습을 줄이는 방법(학습률 감소)\n",
        "    - 학습률 감소 일정\n",
        "        - 정적: 현재 epoch 또는 현재 배치 인덱스의 함수로 미리 고정됨\n",
        "        - 동적: 모델의 현재 동작, 특히 유효성 검사 손실에 대응"
      ],
      "metadata": {
        "id": "Pfvg7bMwvTUY"
      }
    },
    {
      "cell_type": "markdown",
      "source": [
        "- 최적화 프로그램으로 일정 전달하기\n",
        "    - 최적화 프로그램에서 schedule 객체를 learning_rate 인수로 전달하여 정적 학습률 감소 일정을 쉽게 사용할 수 있음"
      ],
      "metadata": {
        "id": "G2Q6ADVz2Ae-"
      }
    },
    {
      "cell_type": "code",
      "source": [
        "initial_learning_rate = 0.1\n",
        "lr_schedule = keras.optimizers.schedules.ExponentialDecay(\n",
        "    initial_learning_rate, decay_steps=100000, decay_rate=0.96, staircase=True\n",
        ")\n",
        "\n",
        "optimizer = keras.optimizers.RMSprop(learning_rate=lr_schedule)"
      ],
      "metadata": {
        "id": "yEaFzZqivGBr"
      },
      "execution_count": 31,
      "outputs": []
    },
    {
      "cell_type": "markdown",
      "source": [
        "- 콜백을 사용하여 동적 학습률 일정 구현하기\n",
        "    - 최적화 프로그램은 유효성 검사 메트릭에 액세스할 수 없으므로 이러한 일정 객체로는 동적 학습률 일정(예: 유효성 검사 손실이 더 이상 개선되지 않을 때 학습률 감소)을 달성할 수 없음\n",
        "    - 콜백은 유효성 검사 메트릭을 포함해 모든 메트릭에 액세스할 수 있으므로 최적화 프로그램에서 현재 학습률을 수정하는 콜백을 사용하여 이 패턴을 달성할 수 있음\n",
        "    - 실제로 이 부분이 ReduceLROnPlateau 콜백으로 내장되어 있음"
      ],
      "metadata": {
        "id": "1ChghqQe2Mr0"
      }
    },
    {
      "cell_type": "markdown",
      "source": [
        "#### 2-2-6. 훈련 중 손실 및 메트릭 시각화하기"
      ],
      "metadata": {
        "id": "h_3SMFoY2pwI"
      }
    },
    {
      "cell_type": "markdown",
      "source": [
        "- TensorBoard의 사용\n",
        "    - TensorBoard: 로컬에서 실행할 수 있는 브라우저 기반 애플리케이션\n",
        "    - 훈련 중에 모델을 주시하는 가장 좋은 방법임\n",
        "- TensorBoard에서 제공하는 정보\n",
        "    - 훈련 및 평가를 위한 손실 및 메트릭을 실시간으로 플롯\n",
        "    - (옵션) 레이어 활성화 히스토그램 시각화\n",
        "    - (옵션) Embedding 레이어에서 학습한 포함된 공간의 3D 시각화\n",
        "- pip와 함께 TensorFlow를 설치한 경우, 명령줄에서 TensorBoard를 시작할 수 있음\n",
        "    - CoLab에서는 권한문제로 접근불가\n",
        "    - 개인 PC 환경에서 사용할 수 있음\n"
      ],
      "metadata": {
        "id": "tygVZU8g3_fn"
      }
    },
    {
      "cell_type": "code",
      "source": [
        "!tensorboard --logdir=/full_path_to_your_logs"
      ],
      "metadata": {
        "colab": {
          "base_uri": "https://localhost:8080/"
        },
        "id": "BM1OqZ_E2MVX",
        "outputId": "3cbc4a8e-55a3-4676-ded1-d31e0c5ec682"
      },
      "execution_count": 32,
      "outputs": [
        {
          "output_type": "stream",
          "name": "stdout",
          "text": [
            "2023-08-20 08:34:28.050634: W tensorflow/compiler/tf2tensorrt/utils/py_utils.cc:38] TF-TRT Warning: Could not find TensorRT\n",
            "\n",
            "NOTE: Using experimental fast data loading logic. To disable, pass\n",
            "    \"--load_fast=false\" and report issues on GitHub. More details:\n",
            "    https://github.com/tensorflow/tensorboard/issues/4784\n",
            "\n",
            "Serving TensorBoard on localhost; to expose to the network, use a proxy or pass --bind_all\n",
            "TensorBoard 2.12.3 at http://localhost:6006/ (Press CTRL+C to quit)\n",
            "^C\n"
          ]
        }
      ]
    },
    {
      "cell_type": "markdown",
      "source": [
        "- TensorBoard 콜백 사용하기\n",
        "    - TensorBoard를 Keras 모델 및 fit() 메서드와 함께 사용하는 가장 쉬운 방법\n",
        "    - 가장 간단한 경우로, 콜백에서 로그를 작성할 위치만 지정하면 바로 로그를 작성할 수 있음"
      ],
      "metadata": {
        "id": "0yZYCRzP5CyI"
      }
    },
    {
      "cell_type": "code",
      "source": [
        "keras.callbacks.TensorBoard(\n",
        "    log_dir=\"/full_path_to_your_logs\",\n",
        "    histogram_freq=0,\n",
        "    embeddings_freq=0,\n",
        "    update_freq=\"epoch\",\n",
        ")"
      ],
      "metadata": {
        "colab": {
          "base_uri": "https://localhost:8080/"
        },
        "id": "V8BZrRIk2IqQ",
        "outputId": "495f906c-c148-49a5-a473-169d7c2d5b52"
      },
      "execution_count": 33,
      "outputs": [
        {
          "output_type": "execute_result",
          "data": {
            "text/plain": [
              "<keras.callbacks.TensorBoard at 0x7c66a6b97fa0>"
            ]
          },
          "metadata": {},
          "execution_count": 33
        }
      ]
    }
  ]
}