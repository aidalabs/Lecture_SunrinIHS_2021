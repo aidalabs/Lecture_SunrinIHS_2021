{
  "nbformat": 4,
  "nbformat_minor": 0,
  "metadata": {
    "colab": {
      "provenance": [],
      "toc_visible": true
    },
    "kernelspec": {
      "name": "python3",
      "display_name": "Python 3"
    },
    "language_info": {
      "name": "python"
    }
  },
  "cells": [
    {
      "cell_type": "markdown",
      "source": [
        "# **1. 웹 개발의 구조**"
      ],
      "metadata": {
        "id": "pWTBYXb5rhty"
      }
    },
    {
      "cell_type": "markdown",
      "source": [
        "- 웹 개발의 구조\n",
        "\n",
        "<img src=\"https://github.com/aidalabs/Lectures/blob/main/LectureFiles/images/Web_001_DevStructure.png?raw=true\" align=\"center\">"
      ],
      "metadata": {
        "id": "WsQi4_qWroaM"
      }
    },
    {
      "cell_type": "markdown",
      "source": [
        "- 클라이언트-서버 구조\n",
        "\n",
        "<img src=\"https://github.com/aidalabs/Lectures/blob/main/LectureFiles/images/Web_002_Client-Server_Model.png?raw=true\" align=\"center\">"
      ],
      "metadata": {
        "id": "FukMB0g71M-d"
      }
    },
    {
      "cell_type": "markdown",
      "source": [
        "# **2. 백엔드 개발자가 하는 일**"
      ],
      "metadata": {
        "id": "x4kJBUy9yvtG"
      }
    },
    {
      "cell_type": "markdown",
      "source": [
        "1. 서버 개발\n",
        "    - 클라이언트의 요청을 접수하고 이를 처리한 후 적절한 응답을 보내는 서버의 개발\n",
        "    - 백엔드 개발 언어와 프레임워크를 사용해 웹 애플리케이션의 핵심 로직 구현\n",
        "\n",
        "2. 데이터베이스 설계 및 관리\n",
        "    - 웹 애플리케이션의 데이터를 효율적으로 저장, 관리하기 위한 데이터베이스의 설계 및 관리\n",
        "    - 웹 애플리케이션을 운영할 적절한 DBMS의 선택\n",
        "    - 데이터베이스의성능과 확장성을 고려한 데이터 모델의 설계 및 운영\n",
        "\n",
        "3. API 개발\n",
        "    - API: 프론트엔드와 백엔드가 데이터를 효율적으로 주고받을 수 있는 인터페이스\n",
        "    - 백엔드 개발자는 이러한 API를 개발하여 프론트엔드에서 특정 데이터나 기능에 접근할 수 있게 함\n",
        "    - API는 다른 서비스나 플랫폼과 통합할 때에도 중요한 역할을 함\n",
        "\n",
        "4. 보안 및 인프라 관리\n",
        "    - 외부 공격으로부터 서버와 데이터를 지키기 위한 보안 정책의 수립 및 관련 기술 적용\n",
        "    - 안정적인 서비스의 제공을 위해 서버 구성 및 모니터링 등의 인프라 관리 업무 수행\n",
        "    - 인프라\n",
        "        - 인프라스트럭처(Infrastructure)\n",
        "        - 서버를 구성하는 하드웨어 기기(서버 장비, 스토리지, 네트워크 장비 등), 미들웨어, 운영체제 등\n",
        "\n",
        "5. 네트워크 설정\n",
        "    - 네트워크 설정을 통해 서버와 클라이언트 간의 효율적인 통신 보장\n",
        "    - 로드 밸런싱(Load Balancing, 작업을 나누어 부하를 분산하는 것), 캐싱(Caching, 자주 사용하는 데이터의 복사본을 고속 저장소에 저장하는 것), 네트워크 보안 설정 등을 통해 사용자 경험과 서버의 성능을 향상시킴"
      ],
      "metadata": {
        "id": "U76fEUfTyzUL"
      }
    },
    {
      "cell_type": "markdown",
      "source": [
        "- Django는 2005년부터 시작된 Python의 오픈 소스 웹 프레임워크이자 풀 스택 프레임워크\n",
        "- 보안이 우수하고 유지보수가 편리한 웹사이트를 신속하게 개발하는 하도록 도움을 주는 파이썬 웹 프레임워크\n",
        "- 매우 대중적이고 Python으로 쓰여진 매우 중요한 서버-사이드 웹 프레임워크"
      ],
      "metadata": {
        "id": "iwEU5Un0vJPT"
      }
    },
    {
      "cell_type": "markdown",
      "source": [
        "# **3. Django 개요**"
      ],
      "metadata": {
        "id": "TlsOduI8vDac"
      }
    },
    {
      "cell_type": "markdown",
      "source": [
        "## **3.1 Django의 개발 경위**"
      ],
      "metadata": {
        "id": "lEZ-E4flvMmT"
      }
    },
    {
      "cell_type": "markdown",
      "source": [
        "- 2003~2004년\n",
        "- 로렌스 저널-월드(Lawrence Journal-World) 신문사의 인턴 웹 프로그래머였던 에이드리안 홀로바티(Adrian Holovaty)와 사이먼 윌리슨(Simon Willison)이 파이썬을 이용해 애플리케이션을 만들기 시작하면서 처음 개발\n",
        "- 2003년 로렌스 신문사의 웹사이트는 PHP 기반으로 개발\n",
        "    - 홀로바티와 윌리슨은 당시 PHP 버전은 객체지향을 지원하지 않아서 (PHP 4.3) 규모가 큰 웹사이트에 적합하지 않다고 생각\n",
        "    - 평소에 관심을 가지고 있던 파이썬으로 웹 개발을 하기로 결심\n",
        "    - 하지만 규모가 큰 웹 개발에 적합한 파이썬 도구가 없다는 것을 깨닫고 새롭게 장고를 개발하게 된 것\n",
        "- 사실 처음 장고를 개발할때엔 웹 프레임워크보다는 그냥 CMS를 개발하는 것이라고 생각했다고 함\n",
        "    - 장고라는 이름은 홀로바티가 좋아하던 기타리스트 장고 라인하르트에서 따온 것\n",
        "    - 또한 장고는 사실 오직 로렌스 웹사이트를 구동하기 위해 개발된 것\n",
        "- 홀로바티와 윌리슨이 로렌스의 오너 기업인 더 월드 컴퍼니(The World Company)를 설득하여 오픈 소스로 2005년 7월에 BSD 라이선스로 공개\n",
        "    - 윌리슨은 더 월드 컴퍼니도 다른 오픈 소스 프로젝트를 많이 사용했기 때문에 쉽게 설득할 수 있었다고 얘기함"
      ],
      "metadata": {
        "id": "6v_v3Nb1vV1G"
      }
    },
    {
      "cell_type": "markdown",
      "source": [
        "## **3.2 Django의 Release 정책**"
      ],
      "metadata": {
        "id": "drtEjrnwwIG8"
      }
    },
    {
      "cell_type": "markdown",
      "source": [
        "- 장고 버전은 1.0 부터 A.B.C 정책을 사용하기 시작\n",
        "- 크게 기능 릴리즈, 패치 릴리즈, LTS 릴리즈로 구분\n",
        "- 여기서 1 버전과 2 버전 이후로 버전 정책이 서로 다르지만 현재 지원이 완전히 종료된 1[10] 버전은 생략하고, 2 버전부터 사용중인 정책 기준으로 설명\n",
        "\n",
        "\t- 기능 릴리즈\n",
        "\t\t- A.0 ~ A.1로 끝나는 버전\n",
        "\t\t- 이 버전들은 대략 8개월 단위로 출시되며, 약 1년 4개월간 지원됨\n",
        "\t\t- 기능 릴리즈에는 이전 버전에 없던 신규 기능, 기존 기능의 개선 사항 등이 포함됨\n",
        "\t\t- LTS 버전의 밑거름이 되는 버전\n",
        "\t\t- 이전 LTS에서 다음 LTS로 업그레이드를 준비한다면 기능 릴리즈 단위로 차근차근 업그레이드 및 테스트하는 것을 권장함\n",
        "\n",
        "\t- 패치 릴리즈\n",
        "\t\t- A.B.C 형식에서 C에 해당하는 버전\n",
        "\t\t- 보안 이슈나 데이터 유실 등의 크리티컬한 버그를 수정하는 패치 버전\n",
        "\t\t- 정말 업그레이드를 하기 어려운 사정이 있지 않은 이상, 기능 릴리즈와 100% 호환되므로 즉시 업데이트 하는 것이 좋음\n",
        "\t- LTS 릴리즈\n",
        "\t\t- A.2로 끝나는 버전\n",
        "\t\t- 장기 지원 릴리즈에 걸맞게 출시로부터 3년간 패치 릴리즈를 제공하는 것이 보장된 버전\n",
        "\t\t- 실 서비스에 사용할 목적이라면 LTS 버전을 기준으로 개발하고 운영하는 것을 추천\n",
        "\n",
        "- 2024년 7월 기준, 5.0.7 버전을 공식 사이트에서 다운로드 받을 수 있음"
      ],
      "metadata": {
        "id": "A0d0EtmBwLT2"
      }
    },
    {
      "cell_type": "markdown",
      "source": [
        "## **3.3 Django 기반 개발**"
      ],
      "metadata": {
        "id": "fGzzfIZWwnIG"
      }
    },
    {
      "cell_type": "markdown",
      "source": [
        "- Django는 Python 기반 웹 프레임워크 중에 가장 널리 사용됨\n",
        "\t- 일반적으로 파이썬을 웹 서비스에 쓴다고 하면 Django 또는 Flask\n",
        "\t- 둘의 차이는 풀 스택 프레임워크(Django)냐 아니냐 정도."
      ],
      "metadata": {
        "id": "9HI0VP7zwt8z"
      }
    },
    {
      "cell_type": "markdown",
      "source": [
        "- 특징: 강력한 풀스택 웹 프레임워크답게 기본적으로 제공하는 것들이 많음\n",
        "    - ORM을 기본적으로 제공\n",
        "    - 관리자 페이지를 기본적으로 제공\n",
        "    - 자주 사용되는 로직들을 묶어서 기본적으로 제공\n",
        "    - 만들어진 엔티티에 따라 권한 목록을 알아서 제공"
      ],
      "metadata": {
        "id": "n8yQpZmrwymI"
      }
    },
    {
      "cell_type": "markdown",
      "source": [
        "- 단점\n",
        "\t- 성능 이슈\n",
        "\t\t- 100% 쓰기 어려운 방대한 기능들을 제공: 소규모 프로젝트에서는 불필요한 기능들로 인한 성능 저하 발생 가능\n",
        "\t\t- ORM 특성상 쿼리 호출시 모델 클래스에 정의된 속성을 필드로 프로젝션: 불필요한 정보가 딸려들어와 이로 인한 성능 저하가 발생하기도 함\n",
        "\t- ORM 자유도\n",
        "\t\t- ORM 상에서 명시적으로 INNER / OUTER JOIN 연산을 정의할 수 없음\n",
        "\t\t\t- select_related나 prefetch_related를 사용하여 직/간접적인 JOIN을 강제할 수 있으나,\n",
        "\t\t\t- 이 또한 모델간 관계에 따라 사용이 제한되므로\n",
        "\t\t\t- 작성된 ORM 문장이 실제로 실행되는 방식을 이해하지 못한다면 n+1 문제로 인한 성능 저하 발생 가능\n",
        "\t\t- 그렇기에 SQL 성능이 중요한 비즈니스 로직에서는\n",
        "\t\t\t- ORM 호출문이 실행됨에 따라 쿼리가 어떻게 변환되어 호출되는지를 파악하기 위해\n",
        "\t\t\t- 프로파일링 패키지 (django-silk, Django Debug Toolbar) 등을 활용하여\n",
        "\t\t\t- 쿼리 분석 및 최적화가 필요함\n",
        "\t- ORM에서 지원하지 않는 기능을 활용한 쿼리를 사용하고자 한다면\n",
        "\t\t- 별도의 뷰 (View)를 구성하거나\n",
        "\t\t- extra 또는 Raw SQL을 이용하여 직접 쿼리문을 호출해야 함\n",
        "\t\t- 이마저도 각 레코드가 모델 인스턴스로 변환되기 때문에\n",
        "\t\t- 쿼리 결과를 모델 인스턴스로 변환하는 것이 어렵거나 성능 이슈가 우려되는 경우\n",
        "\t\t\t- 커서 컨텍스트 매니저를 이용하여 DB에서 직접 데이터를 인출하기도 함"
      ],
      "metadata": {
        "id": "hpLPGMWcxG5G"
      }
    },
    {
      "cell_type": "markdown",
      "source": [
        "# **4. Django 환경 설정**"
      ],
      "metadata": {
        "id": "ywivstR0xV12"
      }
    },
    {
      "cell_type": "markdown",
      "source": [
        "## **4.1 Django 개발 환경**"
      ],
      "metadata": {
        "id": "4dbNREvex6dK"
      }
    },
    {
      "cell_type": "markdown",
      "source": [
        "- Django를 로컬 컴퓨터에 설치하여 장고 어플리케이션을 개발, 실행, 테스트할 수 있는 환경\n",
        "- Django 자체가 제공하는 주요 툴\n",
        "    - Django 프로젝트를 생성하고 작업하기 위한 파이썬 스크립트들\n",
        "    - 심플한 개발용 웹 서버\n",
        "        - 개발용 웹 서버로 우리는 로컬 컴퓨터에서 개발한 Django 어플리케이션을 같은 로컬 컴퓨터에서 테스트해 볼 수 있음\n",
        "        - 예: 자신의 PC에서 개발한 Django 웹 어플리케이션을 크롬 브라우저와 같은 웹 브라우저 상에서 실행하고 테스트해볼 수 있음\n",
        "- Django 개발 환경에서 제공하는 다른 도구들\n",
        "    - 코드 작성을 돕는 텍스트 에디터와 IDE\n",
        "    - 소스코드의 버전을 안전하게 관리하기 위한 Git과 같은 소스 관리 도구 등"
      ],
      "metadata": {
        "id": "pWMXjsRvy4WS"
      }
    },
    {
      "cell_type": "markdown",
      "source": [
        "## **4.2 Django 설치 옵션**"
      ],
      "metadata": {
        "id": "GnVJo3MYzr60"
      }
    },
    {
      "cell_type": "markdown",
      "source": [
        "- 여러 운영 체제(Windows, Mac OS X, Linux/Unit 등)에서 설치 가능\n",
        "- 소스에서, 파이썬 패키지 인덱스(PyPi)에서, 그리고 많은 경우 호스트 컴퓨터의 패키지 매니저 어플리케이션에서 설치 가능\n",
        "- 별도로 설치 및 구성되어있어야 하는 여러가지 데이터베이스 중 하나를 사용하도록 설정할 수 있음\n",
        "- 메인 시스템의 파이썬 환경 또는 별도의 파이썬 가상 환경에서 실행됨"
      ],
      "metadata": {
        "id": "qjtREX9iz3LQ"
      }
    },
    {
      "cell_type": "markdown",
      "source": [
        "## **4.3 Django 다운로드**"
      ],
      "metadata": {
        "id": "c2fZqPCo0MZS"
      }
    },
    {
      "cell_type": "markdown",
      "source": [
        "- Django를 다운로드하는 세 가지 방법\n",
        "    - pip 도구를 이용한 PyPi(Python Package Repository)에서 설치\n",
        "        - Django의 최신 버전을 받을 수 있는 최적의 방법\n",
        "    - 본인 컴퓨터의 패키지 매니저에 있는 버전 사용\n",
        "        - 운영체제와 함께 제공되는 Django는 친숙한 설치 방법을 제공함\n",
        "        - 단 오래된 버전일 수 있음\n",
        "    - 소스에서 설치하기\n",
        "        - 소스에서 Django의 최신버전을 다운로드하여 설치할 수 있음\n",
        "        - 초심자에게는 비추천\n",
        "        - Django에게 기여할 수 있는 준비가 됐다면 필요함"
      ],
      "metadata": {
        "id": "dOvr0bJi0V-e"
      }
    },
    {
      "cell_type": "markdown",
      "source": [
        "## **4.4 Database 선택**"
      ],
      "metadata": {
        "id": "AlZMfOLt08zo"
      }
    },
    {
      "cell_type": "markdown",
      "source": [
        "- 네 가지 메인 데이터베이스(PostgreSQL, MySQL, Oracle, SQLite) 지원\n",
        "    - 그 외에 다른 인기있는 SQL과 NoSQL 데이터베이스들을 다양한 레벨로 지원하는 커뮤니티 라이브러리가 있음\n",
        "    - 생산과 개발에 동일한 데이터베이스를 선택하는 것을 추천\n",
        "\n",
        "- ORM(Object-Relational Mapper)을 사용해 데이터베이스간의 차이 대부분을 추상화\n",
        "    - 아직 피하는게 나은 잠재적 문제들이 있음\n",
        "\n",
        "- 많은 경우, 학습, 실습 시에는 데이터를 파일로 저장하는 SQLite 데이터베이스를 사용\n",
        "    - SQLite는 가벼운 데이터베이스로 사용하기에 적합\n",
        "    - 높은 수준의 동시성을 지원하지 않음\n",
        "    - 그렇지만 주로 읽기 전용인 응용 프로그램을 위해서는 아주 좋은 선택"
      ],
      "metadata": {
        "id": "-z6Dxf-j1D4d"
      }
    },
    {
      "cell_type": "markdown",
      "source": [
        "## **4.5 Django 설치하기**"
      ],
      "metadata": {
        "id": "8HlKhXEfxkHS"
      }
    },
    {
      "cell_type": "markdown",
      "source": [
        "- 가상환경에 설치하는 것을 권장함"
      ],
      "metadata": {
        "id": "8zI_cPxb2Hon"
      }
    },
    {
      "cell_type": "code",
      "source": [
        "!pip install django"
      ],
      "metadata": {
        "id": "Nz2KaX_Ixqg9"
      },
      "execution_count": null,
      "outputs": []
    },
    {
      "cell_type": "code",
      "source": [
        "!python -m django --version"
      ],
      "metadata": {
        "id": "w54QjcqT2QJN"
      },
      "execution_count": null,
      "outputs": []
    },
    {
      "cell_type": "markdown",
      "source": [
        "## **4.6 기본 코드 작성해보기**"
      ],
      "metadata": {
        "id": "OmPiQwcW47MU"
      }
    },
    {
      "cell_type": "markdown",
      "source": [
        "- 참고: https://docs.djangoproject.com/ko/5.0/intro/tutorial01/"
      ],
      "metadata": {
        "id": "yClKLlyVOlCT"
      }
    },
    {
      "cell_type": "markdown",
      "source": [
        "### 4.6.1 django 버전 확인해보기"
      ],
      "metadata": {
        "id": "4T40QVGq5CGv"
      }
    },
    {
      "cell_type": "code",
      "source": [
        "import django\n",
        "print(django.get_version())"
      ],
      "metadata": {
        "id": "iH25Q3mT4xBL"
      },
      "execution_count": null,
      "outputs": []
    },
    {
      "cell_type": "markdown",
      "source": [
        "### 4.6.2 심플 웹서버 실행해 보기"
      ],
      "metadata": {
        "id": "Sf1rQgSG3Ve6"
      }
    },
    {
      "cell_type": "code",
      "execution_count": null,
      "metadata": {
        "id": "TgSENL6Au1G5"
      },
      "outputs": [],
      "source": [
        "%mkdir django_test\n",
        "%cd django_test"
      ]
    },
    {
      "cell_type": "code",
      "source": [
        "!django-admin startproject mytestsite\n",
        "%cd mytestsite"
      ],
      "metadata": {
        "id": "DV5q6n5A3z_7"
      },
      "execution_count": null,
      "outputs": []
    },
    {
      "cell_type": "code",
      "source": [
        "!python manage.py runserver"
      ],
      "metadata": {
        "id": "xF_glbEz35uT"
      },
      "execution_count": null,
      "outputs": []
    },
    {
      "cell_type": "markdown",
      "source": [
        "- 웹 브라우저에서 http://127.0.0.1:8000/ 로 접속하면 심플 웹서버가 실행 중임을 확인할 수 있음"
      ],
      "metadata": {
        "id": "-oR8Dpdq4IOL"
      }
    },
    {
      "cell_type": "markdown",
      "source": [
        "#### 4.6.2.1 mytestsite에 들어있는 파일 확인\n"
      ],
      "metadata": {
        "id": "SBSsNStDBHc9"
      }
    },
    {
      "cell_type": "markdown",
      "source": [
        "- manage.py\n",
        "    - Django 프로젝트와 다양한 방법으로 상호작용 하는 커맨드라인의 유틸리티\n",
        "\n",
        "- mysite/\n",
        "    - 디렉토리 내부에는 프로젝트를 위한 실제 Python 패키지들이 저장됨\n",
        "    - 이 디렉토리 내의 이름을 이용하여, (mysite.urls 와 같은 식으로) 프로젝트의 어디서나 Python 패키지들을 임포트할 수 있음\n",
        "\n",
        "- mysite/__ init __.py\n",
        "    - Python으로 하여금 이 디렉토리를 패키지처럼 다루라고 알려주는 용도의 단순한 빈 파일\n",
        "    \n",
        "- mysite/settings.py\n",
        "    - 현재 Django 프로젝트의 환경 및 구성을 저장\n",
        "    - Django settings에서 환경 설정이 어떻게 동작하는지 확인할 수 있음\n",
        "\n",
        "- mysite/urls.py\n",
        "    - 현재 Django project 의 URL 선언을 저장\n",
        "    - Django 로 작성된 사이트의 “목차” 라고 할 수 있음\n",
        "\n",
        "- mysite/asgi.py\n",
        "    - 현재 프로젝트를 서비스하기 위한 ASGI-호환 웹 서버의 진입점\n",
        "\n",
        "- mysite/wsgi.py\n",
        "    - 현재 프로젝트를 서비스하기 위한 WSGI 호환 웹 서버의 진입점"
      ],
      "metadata": {
        "id": "2-_vmEsZBuWn"
      }
    },
    {
      "cell_type": "markdown",
      "source": [
        "#### 4.6.2.2 Web Server 기술 분류"
      ],
      "metadata": {
        "id": "BFLLdyAELs0m"
      }
    },
    {
      "cell_type": "markdown",
      "source": [
        "- Web Server\n",
        "    - HTTP Request 에 맞는 웹페이지를 Response 해주는 기능을 가짐(Static, 정적임)\n",
        "        - 정적 이란?\n",
        "            - Web Server 에 있는 웹페이지를 그대로 Response 함\n",
        "            - 웹페이지가 변경 되지 않는 동일한 웹페이지를 Response 함\n",
        "<br><br>\n",
        "\n",
        "<img src=\"https://miro.medium.com/v2/resize:fit:720/format:webp/1*s63xJ_94_5tUTUt8ruh-1Q.png\">"
      ],
      "metadata": {
        "id": "DrU4vPPlGqzF"
      }
    },
    {
      "cell_type": "markdown",
      "source": [
        "- Web Application Server\n",
        "    - Web Server + Web Container( = Web Server + CGI) = WAS(Web Application Server)\n",
        "    - Web Server 가 동적으로 동작하면 Web Application Server\n",
        "    - 동적이란?\n",
        "        - Request 에 따라 데이터를 가공하여 생성된 웹페이지를 Response\n",
        "        - Request 에 따라 Response 되는 웹페이지가 달라짐\n",
        "<br><br>\n",
        "\n",
        "<img src=\"https://miro.medium.com/v2/resize:fit:720/format:webp/1*vsUpO7CuDvG-v1T11Loq9A.png\">"
      ],
      "metadata": {
        "id": "Gh0p3G7-HERX"
      }
    },
    {
      "cell_type": "markdown",
      "source": [
        "- WSGI (Web Server Gateway Interface)\n",
        "    - Web Server 의 Request 를 Python Application 으로 보내주고 Response 를 받아서 Web Server 로 보내주는 Web Server Gateway Interface 임\n",
        "    - Web Server 의 Request 를 Callable Object 를 통해 Application 에 전달Callable Object 는 Function 이나 Object 의 형태로 HTTP Request 에 대한 정보(Method, URL, Data, …), Callback 함수 정보를 전달\n",
        "    - 2003년 파이썬 표준으로 WSGI 가 나온 이후 현재까지 사용됨\n",
        "    - WSGI Middleware 는 WSGI 의 구현체로 Request 를 Flask, django 와 같은 Web Framework 에 연결하는 WSGI server의 역할을 함(gunincorn, uWSGI, Werkzeug 등이 있음)\n",
        "    - WSGI 는 Synchronous 하게 작동하기에 동시에 많은 Request 를 처리하는데 한계가 있음(Celery, Queue 를 이용하여 성능 향상 가능)\n",
        "<br><br>\n",
        "\n",
        "<img src=\"https://miro.medium.com/v2/resize:fit:1100/format:webp/1*ODWnK8-rSRgNwd5PTm5Okg.png\">"
      ],
      "metadata": {
        "id": "aHEvdqdnEVI7"
      }
    },
    {
      "cell_type": "markdown",
      "source": [
        "- ASGI (Asyncronous Server Gateway Interface)\n",
        "    - WSGI 와 비슷한 구조를 가지나 기본적으로 모든 요청을 Asynchronous 로 처리하는게 다름\n",
        "    - WSGI 에서 지원 되지 않는 Websocket, HTTP 2.0 을 지원함\n",
        "    - ASGI 는 WSGI 와 호환됨(=ASGI는 WSGI의 상위 버전임)\n",
        "    - WSGI 가 Synchronous 하게 작동함으로써 발생하는 한계를 해결하기 위해Uvicorn 과 같은 Asynchronous Server Gateway Interface 가 나옴 $→$ WSGI의 단점은 요청을 받고 응답을 반환하는 단일 동기 호출 방식이라는 것 $→$ 웹소켓을 사용할 수 없음. wsgi.websocket을 사용할 수 있지만, 표준화안됨\n",
        "    - 단일 astnchronous(비동기) 호출이 가능 하므로 여러 이벤트를 주고받을수 있음 $→$  대용량 트래픽 처리를 유연하게 할 수 있음\n",
        "<br><br>\n",
        "<img src=\"https://miro.medium.com/v2/resize:fit:1100/format:webp/1*9YVDOeD0H2nzNHG2BTPAog.png\">\n",
        "\n"
      ],
      "metadata": {
        "id": "5rEwDsO9CtaW"
      }
    },
    {
      "cell_type": "markdown",
      "source": [
        "- Django는 비동기 웹 서버와 애플리케이션을 위한 새로운 Python 표준인 ASGI_에 대한 배포를 지원\n",
        "- Django의 :djadmin:’start project’ 관리 명령은 프로젝트에 필요한 대로 수정할 수 있는 기본 ASGI 구성을 설정하고 ASGI 호환 애플리케이션 서버를 사용하도록 지시"
      ],
      "metadata": {
        "id": "cSz-XZheD3AN"
      }
    },
    {
      "cell_type": "markdown",
      "source": [
        "- ASGI는 애플리케이션 서버가 코드와 통신하기 위해 사용하는 \"애플리케이션\" 호출 케이블을 제공\n",
        "- 일반적으로 서버가 접근할 수 있는 파이썬 모듈에서 \"애플리케이션\"이라는 이름의 객체로 제공됨\n",
        "- :djadmin:’start project’ 명령은 :file:’/asgi 파일을 생성함.그러한 ``응용프로그램”을 포함한 py는 호출할 수 있음\n",
        "- 개발 서버(‘runserver’)에서 사용하는 것이 아니라 ASGI 서버가 개발 또는 프로덕션에서 사용할 수 있음\n",
        "- ASGI 서버는 대개 문자열로 호출할 수 있는 응용 프로그램의 경로를 택하는데 대부분의 Django 프로젝트에서 이것은 ``my project.asgi: application”처럼 보일 것"
      ],
      "metadata": {
        "id": "RhDRmCVQC7Zd"
      }
    },
    {
      "cell_type": "markdown",
      "source": [
        "# **5. 기초 실습 예제**"
      ],
      "metadata": {
        "id": "wRrGXuXa1n68"
      }
    },
    {
      "cell_type": "markdown",
      "source": [
        "## **5.1 사진목록 보기**"
      ],
      "metadata": {
        "id": "Z_m6wL5h5RG1"
      }
    },
    {
      "cell_type": "markdown",
      "source": [
        "- 실습 코드 참고"
      ],
      "metadata": {
        "id": "QAEeM4zH5X4v"
      }
    },
    {
      "cell_type": "markdown",
      "source": [
        "## **5.2 설문조사 앱 만들기** (준비 중)"
      ],
      "metadata": {
        "id": "DAXP0rhzI8ow"
      }
    },
    {
      "cell_type": "code",
      "source": [
        "!python manage.py startapp polls"
      ],
      "metadata": {
        "id": "F4b8gqMsN-cH"
      },
      "execution_count": null,
      "outputs": []
    },
    {
      "cell_type": "markdown",
      "source": [
        "- 첫 번째 뷰 작성하기"
      ],
      "metadata": {
        "id": "dA4sS_QIOHFt"
      }
    },
    {
      "cell_type": "code",
      "source": [
        "# polls/views.py\n",
        "\n",
        "from django.http import HttpResponse\n",
        "\n",
        "def index(request):\n",
        "    return HttpResponse(\"Hello, world. You're at the polls index.\")"
      ],
      "metadata": {
        "id": "w9EHxzcGOE2d"
      },
      "execution_count": null,
      "outputs": []
    },
    {
      "cell_type": "code",
      "source": [
        "# polls/urls.py\n",
        "\\\n",
        "from django.urls import path\n",
        "from . import views\n",
        "\n",
        "urlpatterns = [\n",
        "    path(\"\", views.index, name=\"index\"),\n",
        "]"
      ],
      "metadata": {
        "id": "qX3k0kQHOVb1"
      },
      "execution_count": null,
      "outputs": []
    },
    {
      "cell_type": "code",
      "source": [
        "!python manage.py runserver"
      ],
      "metadata": {
        "id": "hLNSznIhOreE"
      },
      "execution_count": null,
      "outputs": []
    },
    {
      "cell_type": "markdown",
      "source": [
        "- 데이터베이스 설치\n",
        "    - mysite/settings.py 파일 확인\n",
        "    - 참고: https://docs.djangoproject.com/ko/5.0/intro/tutorial02/"
      ],
      "metadata": {
        "id": "HOQjGBGuOxjg"
      }
    },
    {
      "cell_type": "markdown",
      "source": [
        "- 모델 만들기"
      ],
      "metadata": {
        "id": "9Lvw4hRZPFo0"
      }
    },
    {
      "cell_type": "code",
      "source": [
        "# polls/modesl.py\n",
        "from django.db import models\n",
        "\n",
        "\n",
        "class Question(models.Model):\n",
        "    question_text = models.CharField(max_length=200)\n",
        "    pub_date = models.DateTimeField(\"date published\")\n",
        "\n",
        "class Choice(models.Model):\n",
        "    question = models.ForeignKey(Question, on_delete=models.CASCADE)\n",
        "    choice_text = models.CharField(max_length=200)\n",
        "    votes = models.IntegerField(default=0)"
      ],
      "metadata": {
        "id": "zxkNLvFJOy15"
      },
      "execution_count": null,
      "outputs": []
    },
    {
      "cell_type": "markdown",
      "source": [
        "- 모델 활성화"
      ],
      "metadata": {
        "id": "zrn3XNitPSrr"
      }
    },
    {
      "cell_type": "code",
      "source": [
        "# mysite/settings.py\n",
        "INSTALLED_APPS = [\n",
        "    \"polls.apps.PollsConfig\",\n",
        "    \"django.contrib.admin\",\n",
        "    \"django.contrib.auth\",\n",
        "    \"django.contrib.contenttypes\",\n",
        "    \"django.contrib.sessions\",\n",
        "    \"django.contrib.messages\",\n",
        "    \"django.contrib.staticfiles\",\n",
        "]"
      ],
      "metadata": {
        "id": "iv7LW9mmPU0n"
      },
      "execution_count": null,
      "outputs": []
    },
    {
      "cell_type": "code",
      "source": [
        "!python manage.py makemigrations polls"
      ],
      "metadata": {
        "id": "3pt0oANhPiSq"
      },
      "execution_count": null,
      "outputs": []
    },
    {
      "cell_type": "code",
      "source": [
        "!python manage.py sqlmigrate polls 0001"
      ],
      "metadata": {
        "id": "BlG3wS1rQE7O"
      },
      "execution_count": null,
      "outputs": []
    },
    {
      "cell_type": "code",
      "source": [
        "!python manage.py migrate"
      ],
      "metadata": {
        "id": "hbRljfQDQOPq"
      },
      "execution_count": null,
      "outputs": []
    }
  ]
}