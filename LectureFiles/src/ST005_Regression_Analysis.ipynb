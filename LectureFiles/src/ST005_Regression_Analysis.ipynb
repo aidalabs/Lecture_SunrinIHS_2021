{
  "nbformat": 4,
  "nbformat_minor": 0,
  "metadata": {
    "colab": {
      "provenance": [],
      "collapsed_sections": [
        "WhHb0xlNSxwq"
      ],
      "toc_visible": true
    },
    "kernelspec": {
      "name": "python3",
      "display_name": "Python 3"
    },
    "language_info": {
      "name": "python"
    }
  },
  "cells": [
    {
      "cell_type": "markdown",
      "metadata": {
        "id": "lyX3-3jgKVgR"
      },
      "source": [
        "# **1. 선형회귀**\n",
        "---"
      ]
    },
    {
      "cell_type": "markdown",
      "metadata": {
        "id": "XZh5RH1PKmNB"
      },
      "source": [
        "[참고도서]\n",
        "- 마이크로소프트 엑셀과 함께하는 앤더슨의 통계학 3e (한울)\n",
        "- MATLAB을 활용한 통계 분석 (아진)\n",
        "- 크롤리의 통계학 강의-R을 활용한 입문 (에이콘)\n",
        "- 파이썬으로 풀어보는 회귀분석 (에이콘)\n",
        "- R을 이용한 통계학의 이해 (자유아카데미)\n",
        "- 파이썬 기반의 AI를 위한 기초 수학, 확률 및 통계 (자유아카데미)\n",
        "- 데이터 과학을 위한 통계 (한빛미디어)\n",
        "- 파이썬 라이브러리를 활용한 머신러닝 (한빛미디어)\n",
        "- 모두의 인공지능 기초 수학 (길벗)\n",
        "- 인공지능을 위한 수학 (프리렉)\n",
        "- 처음 만나는 AI 수학 with 파이썬 (영진닷컴)\n",
        "- 밑바닥부터 시작하는 데이터 과학 (인사이트)\n",
        "- 파이썬 머신러닝 완벽 가이드 (위키북스)\n",
        "---"
      ]
    },
    {
      "cell_type": "markdown",
      "metadata": {
        "id": "60Htn5xxNH-7"
      },
      "source": [
        "## 1-1. 분류와 회귀"
      ]
    },
    {
      "cell_type": "markdown",
      "source": [
        "- 지도학습의 두 가지 유형\n",
        "  - 분류(Classification): 미리 정의된, 가능성 있는 여러 클래스 레이블 중 하나를 예측하는 것\n",
        "    - 이진 분류(Binary Classification): 단 두 개의 클래스로 분류하는 것(예/아니오 분류 문제 등)\n",
        "    - 다중 분류(Multiclass Classification): 셋 이상의 클래스로 분류하는 것\n",
        "  - 회귀(Regression): 연속적인 숫자, 또는 프로그래밍 용어로 말하면 부동소수점 수(수학 용어로는 실수)를 예측하는 것\n",
        "\n",
        "- 분류와 회귀의 구분\n",
        "  - 분류: 예상 출력 값에 연속성이 없음\n",
        "  - 회귀: 예상 출력 값에 연속성이 있음"
      ],
      "metadata": {
        "id": "ckJr3mkWwEu7"
      }
    },
    {
      "cell_type": "markdown",
      "source": [
        "## 1-2. 회귀 분석(Regression Analysis)"
      ],
      "metadata": {
        "id": "3JZSaPt8wQMj"
      }
    },
    {
      "cell_type": "markdown",
      "source": [
        "- 회귀\n",
        "  - 여러 개의 독립변수와 한 개의 종속 변수 간의 상관관계를 모델링하는 기법의 통칭\n",
        "  <br><br>\n",
        "  - 독립변수: 특정 변수에 영향을 주는 변수 (=설명변수) $\\rightarrow$ 머신러닝의 관점에서 피처에 해당함\n",
        "  - 종속변수: 특정 변수에 영향을 받는 변수 (=피설명변수, 반응변수) $\\rightarrow$ 머신러닝의 관점에서 결정값에 해당함\n",
        "  <br><br>\n",
        "  - 예: 아파트의 방 개수, 방 크기, 주변 학군 등 여러 개의 독립변수에 따라 아파트 가격이라는 종속변수가 어떤 관계를 나타내는지를 모델링하고 예측하는 것"
      ],
      "metadata": {
        "id": "efa-KvOzwY40"
      }
    },
    {
      "cell_type": "markdown",
      "source": [
        "- 회귀 분석\n",
        "  - 변수들 간의 상호관련성을 토대로 수학적 함수 모형을 가정하고, 측정된 자료를 이용하여 함수의 계수를 추정하여 특정 변수를 예측하거나, 또는 연구 목적에 맞는 통계분석을 수행하는 과정\n",
        "  - 독립변수 $x$에 의하여 결정되는 종속변수 $f(x)$, 그리고 회귀관계로 설명이 가능한 부분과 설명이 불가능한 오차항으로 구성\n",
        "    <br><br>\n",
        "  - 회귀 분석은 모델이 데이터의 경향을 학습하기 위한 기계학습의 일종이라고 생각해도 무방함\n",
        "  - 머신러닝의 입장에서 회귀 분석, 회귀 예측의 핵심은 주어진 피처(독립변수)와 결정값(종속변수) 데이터 기반에서 학습을 통해 최적의 회귀 계수를 찾아내는 것"
      ],
      "metadata": {
        "id": "eVR6lt43wYyc"
      }
    },
    {
      "cell_type": "markdown",
      "source": [
        "- 회귀 분석의 유래\n",
        "  - 영국의 통계학자 갈톤(Galton)의 유전적 특성 연구에서 유래\n",
        "  - 부모와 자식 간의 키의 상관관계 분석 중\n",
        "    - 부모의 키가 모두 클 때 자식의 키가 크긴 하지만 그렇다고 부모를 능가할 정도로 크진 않음\n",
        "    - 부모의 키가 모두 작을 때 자식의 키가 작기는 하지만 부모보다는 큰 경향을 보임\n",
        "    - 부모의 키가 아주 크거나 작더라도 자식의 키가 무한정 커지거나 작아지지 않음\n",
        "    - 사람의 키는 평균 키로 회귀하려는 경향을 가진다는 자연의 법칙이 있음을 시사함\n",
        "  - 회귀 분석은 이처럼 데이터 값이 평균과 같은 일정한 값으로 돌아가려는 경향을 이용한 통계학 기법임"
      ],
      "metadata": {
        "id": "_rjVPhKIwYrk"
      }
    },
    {
      "cell_type": "markdown",
      "source": [
        "- 회귀 분석의 분류\n",
        "  - 선형 회귀 분석\n",
        "    - 단순 회귀: 독립변수 1개, 관련성 선형 ( 모형 : $Y=\\alpha + \\beta x + \\epsilon$ )\n",
        "    - 중 회귀: 독립변수 k개, 관련성 선형 ( 모형 : $Y=\\alpha + \\beta_1 x_1 + \\cdots + \\beta_k x_k + \\epsilon$ )\n",
        "  <br><br>\n",
        "  - 일반 회귀 분석\n",
        "    - 곡선 회귀: 독립변수 1개, 관련성 비선형 ( 모형 : $Y=\\alpha + \\beta_1 x + \\cdots + \\beta_k x^n + \\epsilon$ )\n",
        "    - 다항 회귀: 독립변수 k개, 관련성 비선형 ( 모형 : $Y=\\alpha + \\beta_1 x_1 + \\cdots + \\beta_k x_k + \\beta_{11} x_1^2 + \\cdots + \\beta_{kk} x_k^2 + \\epsilon$ )\n",
        "  <br><br>\n",
        "  - 비선형 회귀 분석: 회귀식의 형태가 모수 $\\beta$에 대하여 비선형을 구성 ( 모형 : $Y=\\alpha + \\beta_1 x + \\cdots + \\beta_k x^n + \\epsilon$ )"
      ],
      "metadata": {
        "id": "EzPBuW_MwYi6"
      }
    },
    {
      "cell_type": "markdown",
      "source": [
        "- 회귀 분석의 적용\n",
        "  - 독립변수와 종속변수가 모두 범주형 변수(키, 체중, 부피, 온도 등 소수점 이하의 자릿수를 가진 실수)인 경우 회귀 분석을 적용해 볼 수 있다.\n",
        "  - 회귀 분석을 선택하는 것이 적합한지의 여부를 판단하려면 직접 산점도를 작성해 보는 것이 가장 쉬운 방법이다.\n",
        "  - 산점도의 분포가 선형성을 띄고 있다면 선형 회귀 분석을 적용할 수 있다."
      ],
      "metadata": {
        "id": "z5RrlZddwYSv"
      }
    },
    {
      "cell_type": "markdown",
      "metadata": {
        "id": "XWPV3YtQOyw5"
      },
      "source": [
        "![image.png](data:image/png;base64,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)\n",
        "---"
      ]
    },
    {
      "cell_type": "markdown",
      "source": [
        "## 1-3. 선형 회귀 모형"
      ],
      "metadata": {
        "id": "ceOERj8xxTym"
      }
    },
    {
      "cell_type": "markdown",
      "metadata": {
        "id": "WhHb0xlNSxwq"
      },
      "source": [
        "- 여러가지 회귀 모형 중 가장 많이 사용됨\n",
        "- 실제 값과 예측 값의 차이(오류의 제곱값)를 최소화하는 직선형 회귀선을 최적화하는 방식 $\\rightarrow$ 머신러닝에서의 지도학습과 일맥상통한다고 볼 수 있다.\n",
        "<br><br>\n",
        "- 대표적인 선형 회귀 모델\n",
        "  - 일반 선형 회귀: 예측값과 실제 값의 잔차제곱합(RSS, Residual Sum of Squares)을 최소화할 수 있도록 회귀 계수를 최적화 하며, 규제(Regularization)를 적용하지 않은 모델\n",
        "  - 릿지 회귀(Ridge Regression): 선형 회귀에 L2 규제를 적용한 모델. L2 규제는 상대적으로 큰 회귀 계수의 값의 예측 영향도를 감소시키기 위해 회귀 계수값을 더 작게 만드는 규제 모델\n",
        "  - 라쏘 회귀(Rasso Regression): 선형 회귀에 L1 규제를 적용한 모델. L1 규제는 예측 영향력이 작은 피처의 회귀 계수를 0으로 만들어 회귀 예측 시 피처가 선택되지 않도록 하는 규제 모델. 피처 선택 기능으로도 불림\n",
        "  - 엘라스틱넷 회귀(ElasticNet Regression): L2, L1 규제를 함께 결합한 모델. 주로 피처가 많은 데이터 세트에서 적용되며, L1 규제로 피처의 개수를 줄임과 동시에 L2 규제로 계수 값의 크기를 조정\n",
        "  - 로지스틱 회귀(Logistic Regression): 회귀라는 이름이 붙어 있지만 사실은 분류에 사용되는 선형 모델이며 매우 강력한 분류 알고리즘. 일반적으로 이진 분류뿐만 아니라 희소영역의 분류(텍스트 분류 등)에서 뛰어난 예측 성능을 보임"
      ]
    },
    {
      "cell_type": "markdown",
      "source": [
        "### 1-3-1. 단순 선형 회귀를 통한 회귀의 이해"
      ],
      "metadata": {
        "id": "K0BnUqkuxbdB"
      }
    },
    {
      "cell_type": "markdown",
      "metadata": {
        "id": "OujAx6qUZ35d"
      },
      "source": [
        "![image.png](data:image/png;base64,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)"
      ]
    },
    {
      "cell_type": "markdown",
      "source": [
        "- 실제값과 회귀 모델의 차이에 따른 오류값(오차)를 남은 오류, 잔차라고 부름. 최적의 회귀 모델을 만든다는 것은 바로 전체 데이터의 잔차가 최소가 될 수 있는 최적의 회귀계수를 찾는다는 의미임\n",
        "- 오류값은 + 또는 - 가 될 수 있으므로 단순히 전체 데이터의 오류 값을 더하는 것은 오류 합이 오히려 줄어들거나 더 늘어날 수 있음\n",
        "- 오류합을 구하기 위해서는 절댓값을 취해서 더하거나(Mean Absolute Error), 오류값의 제곱을 구해서 더하는 방식(RSS, Resudual Sum od Square)을 취함\n",
        "- 일반적으로 미분 등의 계산을 편리하게 하기 위하여 RSS 방식을 사용함 ( $Error^2 = RSS$ )\n",
        "<br><br>\n",
        "- $RSS(w_0, w_1) = {1 \\over N} \\sum_{i=1}^N (y_i - (w_0 + w_1 * x_i ))^2$\n",
        "  - i는 1부터 학습 데이터의 총 건수 N까지\n",
        "  - $w_0$ : 절편, $w_1$ : 기울기 $\\rightarrow$ 독립변수가 1개인 단순 선형 회귀에서는 이 두 개가 회귀 계수로 지칭됨\n",
        "  - $RSS$를 최소로 만드는 $w_0 , w_1$ , 즉 회귀계수를 학습을 통해서 찾는 것이 머신러닝 기반 회귀의 핵심\n",
        "  - $RSS$는 회귀식의 독립변수 $X$, 종속변수 $Y$가 중심 변수가 아니라 $w$ 변수(회귀 계수)가 중심 변수임을 인지하는 것이 매우 중요함\n",
        "  - 학습데이터로 입력되는 독립변수와 종속변수는 $RSS$에서는 모두 상수로 간주됨\n",
        "  - 회귀에서 $RSS$는 비용(Cost)이며, $w$ 변수(회귀계수)로 구성되는 $RSS$를 비용함수라고 부름\n",
        "  - 머신러닝 회귀 알고리즘은 데이터를 계속 학습하면서 이 비용함수가 반환하는 값(즉, 오류값)을 지속해서 감소시키고, 최종적으로는 더 이상 감소하지 않는 최소의 오류값을 구하는 것\n",
        "  - 비용함수를 손실함수(Loss Function)이라고도 부름"
      ],
      "metadata": {
        "id": "aWjBcUiTxuN1"
      }
    },
    {
      "cell_type": "markdown",
      "source": [
        "### 1-3-2. [실습] 사이킷런 LinearRegression을 이용한 보스턴 주택 가격 예측"
      ],
      "metadata": {
        "id": "Sep968PUx2Un"
      }
    },
    {
      "cell_type": "markdown",
      "metadata": {
        "id": "VuX6QP5hcDEP"
      },
      "source": [
        "\n",
        "\n",
        "- LinearRegression 클래스\n",
        "  - 예측값과 실제값의 RSS를 최소화해 OLS(Ordinary Least Squares) 추정방식으로 구현한 클래스\n",
        "  - fit() 메소드로 X, y 배열을 입력받으면 회귀계수인 W를 coef_ 속성에 저장함\n",
        "```\n",
        "class sklearn.linear_model.LinearRegression(fit_intercept=True, normalize=False, copy_X=True, n_jobs=1)\n",
        "```\n",
        "  - 입력 파라미터\n",
        "    - fit_intercept: boolean 값. default는 True. intercept(절편) 값을 계산할 것인지 말지를 지정함. 만일 False로 지정하면 intercept가 사용되지 않고 0으로 지정됨\n",
        "    - normalize: boolean 값. default는 False. fit_intercept가 False인 경우에는 이 파라미터는 무시됨. True이면 회귀를 수행하기 전에 입력 데이터 세트를 정규화 함\n",
        "  - 속성\n",
        "    - coef_: fit() 메소드를 수행했을 때 회귀 계수가 배열형태로 저장하는 속성. Shape는 (Target 값 개수, 피처 개수)\n",
        "    - intercept_: intercept 값\n",
        "####<br>\n",
        "- 회귀 평가 지표\n",
        "  - MAE (Mean Absolute Error): 실제 값과 예측값의 차이를 절댓값으로 변환해 평균한 것\n",
        "  - MSE (Mean Squared Error): 실제 값과 예측값의 차이를 제곱하여 평균한 것\n",
        "  - RMSE (Root MSE): MSE 값은 오류의 제곱을 구하므로 실제 오류 평균보다 더 커지는 특성이 있으므로 MSE에 루트를 씌운 것\n",
        "  - $R^2$: 분산 기번으로 예측 성능을 평가함. 실제 값의 분산 대비 예측 값의 분산 비율을 지표로 하며, 1에 가까울수록 예측 정확도가 높음\n"
      ]
    },
    {
      "cell_type": "code",
      "source": [
        "from google.colab import drive\n",
        "drive.mount('/gdrive', force_remount=True)"
      ],
      "metadata": {
        "colab": {
          "base_uri": "https://localhost:8080/"
        },
        "id": "oJ8LSj3LoNyr",
        "outputId": "2e35170c-8156-4556-8561-b01056f10fc6"
      },
      "execution_count": null,
      "outputs": [
        {
          "output_type": "stream",
          "name": "stdout",
          "text": [
            "Mounted at /gdrive\n"
          ]
        }
      ]
    },
    {
      "cell_type": "code",
      "source": [
        "DATA_PATH = '/gdrive/My Drive/data/'"
      ],
      "metadata": {
        "id": "skX22tt4oQcl"
      },
      "execution_count": null,
      "outputs": []
    },
    {
      "cell_type": "code",
      "source": [
        "import numpy as np\n",
        "import matplotlib.pyplot as plt\n",
        "import pandas as pd\n",
        "import seaborn as sns\n",
        "from scipy import stats"
      ],
      "metadata": {
        "id": "RExOaMDWl8xA"
      },
      "execution_count": null,
      "outputs": []
    },
    {
      "cell_type": "code",
      "source": [
        "bostonDF = pd.read_csv(DATA_PATH+'BostonHousing.csv')"
      ],
      "metadata": {
        "id": "jNSpPW4-l-b3"
      },
      "execution_count": null,
      "outputs": []
    },
    {
      "cell_type": "code",
      "source": [
        "bostonDF"
      ],
      "metadata": {
        "colab": {
          "base_uri": "https://localhost:8080/",
          "height": 423
        },
        "id": "Ws9bn5I8mcdi",
        "outputId": "50155a08-ecd8-4652-cfb0-6318be243efd"
      },
      "execution_count": null,
      "outputs": [
        {
          "output_type": "execute_result",
          "data": {
            "text/plain": [
              "           TOWN      LON      LAT  CMEDV     CRIM    ZN  INDUS  CHAS    NOX  \\\n",
              "0        Nahant -70.9550  42.2550   24.0  0.00632  18.0   2.31     0  0.538   \n",
              "1    Swampscott -70.9500  42.2875   21.6  0.02731   0.0   7.07     0  0.469   \n",
              "2    Swampscott -70.9360  42.2830   34.7  0.02729   0.0   7.07     0  0.469   \n",
              "3    Marblehead -70.9280  42.2930   33.4  0.03237   0.0   2.18     0  0.458   \n",
              "4    Marblehead -70.9220  42.2980   36.2  0.06905   0.0   2.18     0  0.458   \n",
              "..          ...      ...      ...    ...      ...   ...    ...   ...    ...   \n",
              "501    Winthrop -70.9860  42.2312   22.4  0.06263   0.0  11.93     0  0.573   \n",
              "502    Winthrop -70.9910  42.2275   20.6  0.04527   0.0  11.93     0  0.573   \n",
              "503    Winthrop -70.9948  42.2260   23.9  0.06076   0.0  11.93     0  0.573   \n",
              "504    Winthrop -70.9875  42.2240   22.0  0.10959   0.0  11.93     0  0.573   \n",
              "505    Winthrop -70.9825  42.2210   19.0  0.04741   0.0  11.93     0  0.573   \n",
              "\n",
              "        RM   AGE     DIS  RAD  TAX  PTRATIO       B  LSTAT  \n",
              "0    6.575  65.2  4.0900    1  296     15.3  396.90   4.98  \n",
              "1    6.421  78.9  4.9671    2  242     17.8  396.90   9.14  \n",
              "2    7.185  61.1  4.9671    2  242     17.8  392.83   4.03  \n",
              "3    6.998  45.8  6.0622    3  222     18.7  394.63   2.94  \n",
              "4    7.147  54.2  6.0622    3  222     18.7  396.90   5.33  \n",
              "..     ...   ...     ...  ...  ...      ...     ...    ...  \n",
              "501  6.593  69.1  2.4786    1  273     21.0  391.99   9.67  \n",
              "502  6.120  76.7  2.2875    1  273     21.0  396.90   9.08  \n",
              "503  6.976  91.0  2.1675    1  273     21.0  396.90   5.64  \n",
              "504  6.794  89.3  2.3889    1  273     21.0  393.45   6.48  \n",
              "505  6.030  80.8  2.5050    1  273     21.0  396.90   7.88  \n",
              "\n",
              "[506 rows x 17 columns]"
            ],
            "text/html": [
              "\n",
              "  <div id=\"df-a7a3cda2-bb00-4a38-a90f-7461139f067c\">\n",
              "    <div class=\"colab-df-container\">\n",
              "      <div>\n",
              "<style scoped>\n",
              "    .dataframe tbody tr th:only-of-type {\n",
              "        vertical-align: middle;\n",
              "    }\n",
              "\n",
              "    .dataframe tbody tr th {\n",
              "        vertical-align: top;\n",
              "    }\n",
              "\n",
              "    .dataframe thead th {\n",
              "        text-align: right;\n",
              "    }\n",
              "</style>\n",
              "<table border=\"1\" class=\"dataframe\">\n",
              "  <thead>\n",
              "    <tr style=\"text-align: right;\">\n",
              "      <th></th>\n",
              "      <th>TOWN</th>\n",
              "      <th>LON</th>\n",
              "      <th>LAT</th>\n",
              "      <th>CMEDV</th>\n",
              "      <th>CRIM</th>\n",
              "      <th>ZN</th>\n",
              "      <th>INDUS</th>\n",
              "      <th>CHAS</th>\n",
              "      <th>NOX</th>\n",
              "      <th>RM</th>\n",
              "      <th>AGE</th>\n",
              "      <th>DIS</th>\n",
              "      <th>RAD</th>\n",
              "      <th>TAX</th>\n",
              "      <th>PTRATIO</th>\n",
              "      <th>B</th>\n",
              "      <th>LSTAT</th>\n",
              "    </tr>\n",
              "  </thead>\n",
              "  <tbody>\n",
              "    <tr>\n",
              "      <th>0</th>\n",
              "      <td>Nahant</td>\n",
              "      <td>-70.9550</td>\n",
              "      <td>42.2550</td>\n",
              "      <td>24.0</td>\n",
              "      <td>0.00632</td>\n",
              "      <td>18.0</td>\n",
              "      <td>2.31</td>\n",
              "      <td>0</td>\n",
              "      <td>0.538</td>\n",
              "      <td>6.575</td>\n",
              "      <td>65.2</td>\n",
              "      <td>4.0900</td>\n",
              "      <td>1</td>\n",
              "      <td>296</td>\n",
              "      <td>15.3</td>\n",
              "      <td>396.90</td>\n",
              "      <td>4.98</td>\n",
              "    </tr>\n",
              "    <tr>\n",
              "      <th>1</th>\n",
              "      <td>Swampscott</td>\n",
              "      <td>-70.9500</td>\n",
              "      <td>42.2875</td>\n",
              "      <td>21.6</td>\n",
              "      <td>0.02731</td>\n",
              "      <td>0.0</td>\n",
              "      <td>7.07</td>\n",
              "      <td>0</td>\n",
              "      <td>0.469</td>\n",
              "      <td>6.421</td>\n",
              "      <td>78.9</td>\n",
              "      <td>4.9671</td>\n",
              "      <td>2</td>\n",
              "      <td>242</td>\n",
              "      <td>17.8</td>\n",
              "      <td>396.90</td>\n",
              "      <td>9.14</td>\n",
              "    </tr>\n",
              "    <tr>\n",
              "      <th>2</th>\n",
              "      <td>Swampscott</td>\n",
              "      <td>-70.9360</td>\n",
              "      <td>42.2830</td>\n",
              "      <td>34.7</td>\n",
              "      <td>0.02729</td>\n",
              "      <td>0.0</td>\n",
              "      <td>7.07</td>\n",
              "      <td>0</td>\n",
              "      <td>0.469</td>\n",
              "      <td>7.185</td>\n",
              "      <td>61.1</td>\n",
              "      <td>4.9671</td>\n",
              "      <td>2</td>\n",
              "      <td>242</td>\n",
              "      <td>17.8</td>\n",
              "      <td>392.83</td>\n",
              "      <td>4.03</td>\n",
              "    </tr>\n",
              "    <tr>\n",
              "      <th>3</th>\n",
              "      <td>Marblehead</td>\n",
              "      <td>-70.9280</td>\n",
              "      <td>42.2930</td>\n",
              "      <td>33.4</td>\n",
              "      <td>0.03237</td>\n",
              "      <td>0.0</td>\n",
              "      <td>2.18</td>\n",
              "      <td>0</td>\n",
              "      <td>0.458</td>\n",
              "      <td>6.998</td>\n",
              "      <td>45.8</td>\n",
              "      <td>6.0622</td>\n",
              "      <td>3</td>\n",
              "      <td>222</td>\n",
              "      <td>18.7</td>\n",
              "      <td>394.63</td>\n",
              "      <td>2.94</td>\n",
              "    </tr>\n",
              "    <tr>\n",
              "      <th>4</th>\n",
              "      <td>Marblehead</td>\n",
              "      <td>-70.9220</td>\n",
              "      <td>42.2980</td>\n",
              "      <td>36.2</td>\n",
              "      <td>0.06905</td>\n",
              "      <td>0.0</td>\n",
              "      <td>2.18</td>\n",
              "      <td>0</td>\n",
              "      <td>0.458</td>\n",
              "      <td>7.147</td>\n",
              "      <td>54.2</td>\n",
              "      <td>6.0622</td>\n",
              "      <td>3</td>\n",
              "      <td>222</td>\n",
              "      <td>18.7</td>\n",
              "      <td>396.90</td>\n",
              "      <td>5.33</td>\n",
              "    </tr>\n",
              "    <tr>\n",
              "      <th>...</th>\n",
              "      <td>...</td>\n",
              "      <td>...</td>\n",
              "      <td>...</td>\n",
              "      <td>...</td>\n",
              "      <td>...</td>\n",
              "      <td>...</td>\n",
              "      <td>...</td>\n",
              "      <td>...</td>\n",
              "      <td>...</td>\n",
              "      <td>...</td>\n",
              "      <td>...</td>\n",
              "      <td>...</td>\n",
              "      <td>...</td>\n",
              "      <td>...</td>\n",
              "      <td>...</td>\n",
              "      <td>...</td>\n",
              "      <td>...</td>\n",
              "    </tr>\n",
              "    <tr>\n",
              "      <th>501</th>\n",
              "      <td>Winthrop</td>\n",
              "      <td>-70.9860</td>\n",
              "      <td>42.2312</td>\n",
              "      <td>22.4</td>\n",
              "      <td>0.06263</td>\n",
              "      <td>0.0</td>\n",
              "      <td>11.93</td>\n",
              "      <td>0</td>\n",
              "      <td>0.573</td>\n",
              "      <td>6.593</td>\n",
              "      <td>69.1</td>\n",
              "      <td>2.4786</td>\n",
              "      <td>1</td>\n",
              "      <td>273</td>\n",
              "      <td>21.0</td>\n",
              "      <td>391.99</td>\n",
              "      <td>9.67</td>\n",
              "    </tr>\n",
              "    <tr>\n",
              "      <th>502</th>\n",
              "      <td>Winthrop</td>\n",
              "      <td>-70.9910</td>\n",
              "      <td>42.2275</td>\n",
              "      <td>20.6</td>\n",
              "      <td>0.04527</td>\n",
              "      <td>0.0</td>\n",
              "      <td>11.93</td>\n",
              "      <td>0</td>\n",
              "      <td>0.573</td>\n",
              "      <td>6.120</td>\n",
              "      <td>76.7</td>\n",
              "      <td>2.2875</td>\n",
              "      <td>1</td>\n",
              "      <td>273</td>\n",
              "      <td>21.0</td>\n",
              "      <td>396.90</td>\n",
              "      <td>9.08</td>\n",
              "    </tr>\n",
              "    <tr>\n",
              "      <th>503</th>\n",
              "      <td>Winthrop</td>\n",
              "      <td>-70.9948</td>\n",
              "      <td>42.2260</td>\n",
              "      <td>23.9</td>\n",
              "      <td>0.06076</td>\n",
              "      <td>0.0</td>\n",
              "      <td>11.93</td>\n",
              "      <td>0</td>\n",
              "      <td>0.573</td>\n",
              "      <td>6.976</td>\n",
              "      <td>91.0</td>\n",
              "      <td>2.1675</td>\n",
              "      <td>1</td>\n",
              "      <td>273</td>\n",
              "      <td>21.0</td>\n",
              "      <td>396.90</td>\n",
              "      <td>5.64</td>\n",
              "    </tr>\n",
              "    <tr>\n",
              "      <th>504</th>\n",
              "      <td>Winthrop</td>\n",
              "      <td>-70.9875</td>\n",
              "      <td>42.2240</td>\n",
              "      <td>22.0</td>\n",
              "      <td>0.10959</td>\n",
              "      <td>0.0</td>\n",
              "      <td>11.93</td>\n",
              "      <td>0</td>\n",
              "      <td>0.573</td>\n",
              "      <td>6.794</td>\n",
              "      <td>89.3</td>\n",
              "      <td>2.3889</td>\n",
              "      <td>1</td>\n",
              "      <td>273</td>\n",
              "      <td>21.0</td>\n",
              "      <td>393.45</td>\n",
              "      <td>6.48</td>\n",
              "    </tr>\n",
              "    <tr>\n",
              "      <th>505</th>\n",
              "      <td>Winthrop</td>\n",
              "      <td>-70.9825</td>\n",
              "      <td>42.2210</td>\n",
              "      <td>19.0</td>\n",
              "      <td>0.04741</td>\n",
              "      <td>0.0</td>\n",
              "      <td>11.93</td>\n",
              "      <td>0</td>\n",
              "      <td>0.573</td>\n",
              "      <td>6.030</td>\n",
              "      <td>80.8</td>\n",
              "      <td>2.5050</td>\n",
              "      <td>1</td>\n",
              "      <td>273</td>\n",
              "      <td>21.0</td>\n",
              "      <td>396.90</td>\n",
              "      <td>7.88</td>\n",
              "    </tr>\n",
              "  </tbody>\n",
              "</table>\n",
              "<p>506 rows × 17 columns</p>\n",
              "</div>\n",
              "      <button class=\"colab-df-convert\" onclick=\"convertToInteractive('df-a7a3cda2-bb00-4a38-a90f-7461139f067c')\"\n",
              "              title=\"Convert this dataframe to an interactive table.\"\n",
              "              style=\"display:none;\">\n",
              "        \n",
              "  <svg xmlns=\"http://www.w3.org/2000/svg\" height=\"24px\"viewBox=\"0 0 24 24\"\n",
              "       width=\"24px\">\n",
              "    <path d=\"M0 0h24v24H0V0z\" fill=\"none\"/>\n",
              "    <path d=\"M18.56 5.44l.94 2.06.94-2.06 2.06-.94-2.06-.94-.94-2.06-.94 2.06-2.06.94zm-11 1L8.5 8.5l.94-2.06 2.06-.94-2.06-.94L8.5 2.5l-.94 2.06-2.06.94zm10 10l.94 2.06.94-2.06 2.06-.94-2.06-.94-.94-2.06-.94 2.06-2.06.94z\"/><path d=\"M17.41 7.96l-1.37-1.37c-.4-.4-.92-.59-1.43-.59-.52 0-1.04.2-1.43.59L10.3 9.45l-7.72 7.72c-.78.78-.78 2.05 0 2.83L4 21.41c.39.39.9.59 1.41.59.51 0 1.02-.2 1.41-.59l7.78-7.78 2.81-2.81c.8-.78.8-2.07 0-2.86zM5.41 20L4 18.59l7.72-7.72 1.47 1.35L5.41 20z\"/>\n",
              "  </svg>\n",
              "      </button>\n",
              "      \n",
              "  <style>\n",
              "    .colab-df-container {\n",
              "      display:flex;\n",
              "      flex-wrap:wrap;\n",
              "      gap: 12px;\n",
              "    }\n",
              "\n",
              "    .colab-df-convert {\n",
              "      background-color: #E8F0FE;\n",
              "      border: none;\n",
              "      border-radius: 50%;\n",
              "      cursor: pointer;\n",
              "      display: none;\n",
              "      fill: #1967D2;\n",
              "      height: 32px;\n",
              "      padding: 0 0 0 0;\n",
              "      width: 32px;\n",
              "    }\n",
              "\n",
              "    .colab-df-convert:hover {\n",
              "      background-color: #E2EBFA;\n",
              "      box-shadow: 0px 1px 2px rgba(60, 64, 67, 0.3), 0px 1px 3px 1px rgba(60, 64, 67, 0.15);\n",
              "      fill: #174EA6;\n",
              "    }\n",
              "\n",
              "    [theme=dark] .colab-df-convert {\n",
              "      background-color: #3B4455;\n",
              "      fill: #D2E3FC;\n",
              "    }\n",
              "\n",
              "    [theme=dark] .colab-df-convert:hover {\n",
              "      background-color: #434B5C;\n",
              "      box-shadow: 0px 1px 3px 1px rgba(0, 0, 0, 0.15);\n",
              "      filter: drop-shadow(0px 1px 2px rgba(0, 0, 0, 0.3));\n",
              "      fill: #FFFFFF;\n",
              "    }\n",
              "  </style>\n",
              "\n",
              "      <script>\n",
              "        const buttonEl =\n",
              "          document.querySelector('#df-a7a3cda2-bb00-4a38-a90f-7461139f067c button.colab-df-convert');\n",
              "        buttonEl.style.display =\n",
              "          google.colab.kernel.accessAllowed ? 'block' : 'none';\n",
              "\n",
              "        async function convertToInteractive(key) {\n",
              "          const element = document.querySelector('#df-a7a3cda2-bb00-4a38-a90f-7461139f067c');\n",
              "          const dataTable =\n",
              "            await google.colab.kernel.invokeFunction('convertToInteractive',\n",
              "                                                     [key], {});\n",
              "          if (!dataTable) return;\n",
              "\n",
              "          const docLinkHtml = 'Like what you see? Visit the ' +\n",
              "            '<a target=\"_blank\" href=https://colab.research.google.com/notebooks/data_table.ipynb>data table notebook</a>'\n",
              "            + ' to learn more about interactive tables.';\n",
              "          element.innerHTML = '';\n",
              "          dataTable['output_type'] = 'display_data';\n",
              "          await google.colab.output.renderOutput(dataTable, element);\n",
              "          const docLink = document.createElement('div');\n",
              "          docLink.innerHTML = docLinkHtml;\n",
              "          element.appendChild(docLink);\n",
              "        }\n",
              "      </script>\n",
              "    </div>\n",
              "  </div>\n",
              "  "
            ]
          },
          "metadata": {},
          "execution_count": 5
        }
      ]
    },
    {
      "cell_type": "code",
      "metadata": {
        "id": "aflGwlvbcDEP",
        "colab": {
          "base_uri": "https://localhost:8080/",
          "height": 224
        },
        "outputId": "65b1d497-2148-400f-9bb8-d91bcb84a0d6"
      },
      "source": [
        "bostonDF.rename(columns = {'CMEDV':'PRICE'}, inplace = True)\n",
        "print('Boston 데이타셋 크기 :',bostonDF.shape)\n",
        "bostonDF.head()"
      ],
      "execution_count": null,
      "outputs": [
        {
          "output_type": "stream",
          "name": "stdout",
          "text": [
            "Boston 데이타셋 크기 : (506, 17)\n"
          ]
        },
        {
          "output_type": "execute_result",
          "data": {
            "text/plain": [
              "         TOWN     LON      LAT  PRICE     CRIM    ZN  INDUS  CHAS    NOX  \\\n",
              "0      Nahant -70.955  42.2550   24.0  0.00632  18.0   2.31     0  0.538   \n",
              "1  Swampscott -70.950  42.2875   21.6  0.02731   0.0   7.07     0  0.469   \n",
              "2  Swampscott -70.936  42.2830   34.7  0.02729   0.0   7.07     0  0.469   \n",
              "3  Marblehead -70.928  42.2930   33.4  0.03237   0.0   2.18     0  0.458   \n",
              "4  Marblehead -70.922  42.2980   36.2  0.06905   0.0   2.18     0  0.458   \n",
              "\n",
              "      RM   AGE     DIS  RAD  TAX  PTRATIO       B  LSTAT  \n",
              "0  6.575  65.2  4.0900    1  296     15.3  396.90   4.98  \n",
              "1  6.421  78.9  4.9671    2  242     17.8  396.90   9.14  \n",
              "2  7.185  61.1  4.9671    2  242     17.8  392.83   4.03  \n",
              "3  6.998  45.8  6.0622    3  222     18.7  394.63   2.94  \n",
              "4  7.147  54.2  6.0622    3  222     18.7  396.90   5.33  "
            ],
            "text/html": [
              "\n",
              "  <div id=\"df-404acd71-7f6e-4592-b103-eb2a34ea61f8\">\n",
              "    <div class=\"colab-df-container\">\n",
              "      <div>\n",
              "<style scoped>\n",
              "    .dataframe tbody tr th:only-of-type {\n",
              "        vertical-align: middle;\n",
              "    }\n",
              "\n",
              "    .dataframe tbody tr th {\n",
              "        vertical-align: top;\n",
              "    }\n",
              "\n",
              "    .dataframe thead th {\n",
              "        text-align: right;\n",
              "    }\n",
              "</style>\n",
              "<table border=\"1\" class=\"dataframe\">\n",
              "  <thead>\n",
              "    <tr style=\"text-align: right;\">\n",
              "      <th></th>\n",
              "      <th>TOWN</th>\n",
              "      <th>LON</th>\n",
              "      <th>LAT</th>\n",
              "      <th>PRICE</th>\n",
              "      <th>CRIM</th>\n",
              "      <th>ZN</th>\n",
              "      <th>INDUS</th>\n",
              "      <th>CHAS</th>\n",
              "      <th>NOX</th>\n",
              "      <th>RM</th>\n",
              "      <th>AGE</th>\n",
              "      <th>DIS</th>\n",
              "      <th>RAD</th>\n",
              "      <th>TAX</th>\n",
              "      <th>PTRATIO</th>\n",
              "      <th>B</th>\n",
              "      <th>LSTAT</th>\n",
              "    </tr>\n",
              "  </thead>\n",
              "  <tbody>\n",
              "    <tr>\n",
              "      <th>0</th>\n",
              "      <td>Nahant</td>\n",
              "      <td>-70.955</td>\n",
              "      <td>42.2550</td>\n",
              "      <td>24.0</td>\n",
              "      <td>0.00632</td>\n",
              "      <td>18.0</td>\n",
              "      <td>2.31</td>\n",
              "      <td>0</td>\n",
              "      <td>0.538</td>\n",
              "      <td>6.575</td>\n",
              "      <td>65.2</td>\n",
              "      <td>4.0900</td>\n",
              "      <td>1</td>\n",
              "      <td>296</td>\n",
              "      <td>15.3</td>\n",
              "      <td>396.90</td>\n",
              "      <td>4.98</td>\n",
              "    </tr>\n",
              "    <tr>\n",
              "      <th>1</th>\n",
              "      <td>Swampscott</td>\n",
              "      <td>-70.950</td>\n",
              "      <td>42.2875</td>\n",
              "      <td>21.6</td>\n",
              "      <td>0.02731</td>\n",
              "      <td>0.0</td>\n",
              "      <td>7.07</td>\n",
              "      <td>0</td>\n",
              "      <td>0.469</td>\n",
              "      <td>6.421</td>\n",
              "      <td>78.9</td>\n",
              "      <td>4.9671</td>\n",
              "      <td>2</td>\n",
              "      <td>242</td>\n",
              "      <td>17.8</td>\n",
              "      <td>396.90</td>\n",
              "      <td>9.14</td>\n",
              "    </tr>\n",
              "    <tr>\n",
              "      <th>2</th>\n",
              "      <td>Swampscott</td>\n",
              "      <td>-70.936</td>\n",
              "      <td>42.2830</td>\n",
              "      <td>34.7</td>\n",
              "      <td>0.02729</td>\n",
              "      <td>0.0</td>\n",
              "      <td>7.07</td>\n",
              "      <td>0</td>\n",
              "      <td>0.469</td>\n",
              "      <td>7.185</td>\n",
              "      <td>61.1</td>\n",
              "      <td>4.9671</td>\n",
              "      <td>2</td>\n",
              "      <td>242</td>\n",
              "      <td>17.8</td>\n",
              "      <td>392.83</td>\n",
              "      <td>4.03</td>\n",
              "    </tr>\n",
              "    <tr>\n",
              "      <th>3</th>\n",
              "      <td>Marblehead</td>\n",
              "      <td>-70.928</td>\n",
              "      <td>42.2930</td>\n",
              "      <td>33.4</td>\n",
              "      <td>0.03237</td>\n",
              "      <td>0.0</td>\n",
              "      <td>2.18</td>\n",
              "      <td>0</td>\n",
              "      <td>0.458</td>\n",
              "      <td>6.998</td>\n",
              "      <td>45.8</td>\n",
              "      <td>6.0622</td>\n",
              "      <td>3</td>\n",
              "      <td>222</td>\n",
              "      <td>18.7</td>\n",
              "      <td>394.63</td>\n",
              "      <td>2.94</td>\n",
              "    </tr>\n",
              "    <tr>\n",
              "      <th>4</th>\n",
              "      <td>Marblehead</td>\n",
              "      <td>-70.922</td>\n",
              "      <td>42.2980</td>\n",
              "      <td>36.2</td>\n",
              "      <td>0.06905</td>\n",
              "      <td>0.0</td>\n",
              "      <td>2.18</td>\n",
              "      <td>0</td>\n",
              "      <td>0.458</td>\n",
              "      <td>7.147</td>\n",
              "      <td>54.2</td>\n",
              "      <td>6.0622</td>\n",
              "      <td>3</td>\n",
              "      <td>222</td>\n",
              "      <td>18.7</td>\n",
              "      <td>396.90</td>\n",
              "      <td>5.33</td>\n",
              "    </tr>\n",
              "  </tbody>\n",
              "</table>\n",
              "</div>\n",
              "      <button class=\"colab-df-convert\" onclick=\"convertToInteractive('df-404acd71-7f6e-4592-b103-eb2a34ea61f8')\"\n",
              "              title=\"Convert this dataframe to an interactive table.\"\n",
              "              style=\"display:none;\">\n",
              "        \n",
              "  <svg xmlns=\"http://www.w3.org/2000/svg\" height=\"24px\"viewBox=\"0 0 24 24\"\n",
              "       width=\"24px\">\n",
              "    <path d=\"M0 0h24v24H0V0z\" fill=\"none\"/>\n",
              "    <path d=\"M18.56 5.44l.94 2.06.94-2.06 2.06-.94-2.06-.94-.94-2.06-.94 2.06-2.06.94zm-11 1L8.5 8.5l.94-2.06 2.06-.94-2.06-.94L8.5 2.5l-.94 2.06-2.06.94zm10 10l.94 2.06.94-2.06 2.06-.94-2.06-.94-.94-2.06-.94 2.06-2.06.94z\"/><path d=\"M17.41 7.96l-1.37-1.37c-.4-.4-.92-.59-1.43-.59-.52 0-1.04.2-1.43.59L10.3 9.45l-7.72 7.72c-.78.78-.78 2.05 0 2.83L4 21.41c.39.39.9.59 1.41.59.51 0 1.02-.2 1.41-.59l7.78-7.78 2.81-2.81c.8-.78.8-2.07 0-2.86zM5.41 20L4 18.59l7.72-7.72 1.47 1.35L5.41 20z\"/>\n",
              "  </svg>\n",
              "      </button>\n",
              "      \n",
              "  <style>\n",
              "    .colab-df-container {\n",
              "      display:flex;\n",
              "      flex-wrap:wrap;\n",
              "      gap: 12px;\n",
              "    }\n",
              "\n",
              "    .colab-df-convert {\n",
              "      background-color: #E8F0FE;\n",
              "      border: none;\n",
              "      border-radius: 50%;\n",
              "      cursor: pointer;\n",
              "      display: none;\n",
              "      fill: #1967D2;\n",
              "      height: 32px;\n",
              "      padding: 0 0 0 0;\n",
              "      width: 32px;\n",
              "    }\n",
              "\n",
              "    .colab-df-convert:hover {\n",
              "      background-color: #E2EBFA;\n",
              "      box-shadow: 0px 1px 2px rgba(60, 64, 67, 0.3), 0px 1px 3px 1px rgba(60, 64, 67, 0.15);\n",
              "      fill: #174EA6;\n",
              "    }\n",
              "\n",
              "    [theme=dark] .colab-df-convert {\n",
              "      background-color: #3B4455;\n",
              "      fill: #D2E3FC;\n",
              "    }\n",
              "\n",
              "    [theme=dark] .colab-df-convert:hover {\n",
              "      background-color: #434B5C;\n",
              "      box-shadow: 0px 1px 3px 1px rgba(0, 0, 0, 0.15);\n",
              "      filter: drop-shadow(0px 1px 2px rgba(0, 0, 0, 0.3));\n",
              "      fill: #FFFFFF;\n",
              "    }\n",
              "  </style>\n",
              "\n",
              "      <script>\n",
              "        const buttonEl =\n",
              "          document.querySelector('#df-404acd71-7f6e-4592-b103-eb2a34ea61f8 button.colab-df-convert');\n",
              "        buttonEl.style.display =\n",
              "          google.colab.kernel.accessAllowed ? 'block' : 'none';\n",
              "\n",
              "        async function convertToInteractive(key) {\n",
              "          const element = document.querySelector('#df-404acd71-7f6e-4592-b103-eb2a34ea61f8');\n",
              "          const dataTable =\n",
              "            await google.colab.kernel.invokeFunction('convertToInteractive',\n",
              "                                                     [key], {});\n",
              "          if (!dataTable) return;\n",
              "\n",
              "          const docLinkHtml = 'Like what you see? Visit the ' +\n",
              "            '<a target=\"_blank\" href=https://colab.research.google.com/notebooks/data_table.ipynb>data table notebook</a>'\n",
              "            + ' to learn more about interactive tables.';\n",
              "          element.innerHTML = '';\n",
              "          dataTable['output_type'] = 'display_data';\n",
              "          await google.colab.output.renderOutput(dataTable, element);\n",
              "          const docLink = document.createElement('div');\n",
              "          docLink.innerHTML = docLinkHtml;\n",
              "          element.appendChild(docLink);\n",
              "        }\n",
              "      </script>\n",
              "    </div>\n",
              "  </div>\n",
              "  "
            ]
          },
          "metadata": {},
          "execution_count": 6
        }
      ]
    },
    {
      "cell_type": "markdown",
      "metadata": {
        "id": "rXGNAH4scDEP"
      },
      "source": [
        "* CRIM: 지역별 범죄 발생률  \n",
        "* ZN: 25,000평방피트를 초과하는 거주 지역의 비율\n",
        "* NDUS: 비상업 지역 넓이 비율\n",
        "* CHAS: 찰스강에 대한 더미 변수(강의 경계에 위치한 경우는 1, 아니면 0)\n",
        "* NOX: 일산화질소 농도\n",
        "* RM: 거주할 수 있는 방 개수\n",
        "* AGE: 1940년 이전에 건축된 소유 주택의 비율\n",
        "* DIS: 5개 주요 고용센터까지의 가중 거리\n",
        "* RAD: 고속도로 접근 용이도\n",
        "* TAX: 10,000달러당 재산세율\n",
        "* PTRATIO: 지역의 교사와 학생 수 비율\n",
        "* B: 지역의 흑인 거주 비율\n",
        "* LSTAT: 하위 계층의 비율\n",
        "* MEDV: 본인 소유의 주택 가격(중앙값)"
      ]
    },
    {
      "cell_type": "markdown",
      "metadata": {
        "id": "3EcxyDRhcDEP"
      },
      "source": [
        "- 각 컬럼별로 주택가격에 미치는 영향도를 조사"
      ]
    },
    {
      "cell_type": "code",
      "metadata": {
        "id": "ZFGQpqdocDEQ",
        "colab": {
          "base_uri": "https://localhost:8080/",
          "height": 569
        },
        "outputId": "8ebfc3f5-aadb-44d6-87b9-65c7e9a0d36c"
      },
      "source": [
        "# 2개의 행과 4개의 열을 가진 subplots를 이용. axs는 4x2개의 ax를 가짐.\n",
        "fig, axs = plt.subplots(figsize=(16,8) , ncols=4 , nrows=2)\n",
        "lm_features = ['RM','ZN','INDUS','NOX','AGE','PTRATIO','LSTAT','RAD']\n",
        "for i , feature in enumerate(lm_features):\n",
        "    row = int(i/4)\n",
        "    col = i%4\n",
        "    # 시본의 regplot을 이용해 산점도와 선형 회귀 직선을 함께 표현\n",
        "    sns.regplot(x=feature , y='PRICE',data=bostonDF , ax=axs[row][col])"
      ],
      "execution_count": null,
      "outputs": [
        {
          "output_type": "display_data",
          "data": {
            "text/plain": [
              "<Figure size 1600x800 with 8 Axes>"
            ],
            "image/png": "[encoded data removed]"
          },
          "metadata": {}
        }
      ]
    },
    {
      "cell_type": "markdown",
      "metadata": {
        "id": "ElUOj2hbcDEQ"
      },
      "source": [
        "- 학습과 테스트 데이터 세트로 분리하고 학습/예측/평가 수행"
      ]
    },
    {
      "cell_type": "code",
      "metadata": {
        "id": "cOCZPdP8cDER",
        "colab": {
          "base_uri": "https://localhost:8080/"
        },
        "outputId": "d713e571-e936-4d88-e75e-94d068b573ec"
      },
      "source": [
        "from sklearn.model_selection import train_test_split\n",
        "from sklearn.linear_model import LinearRegression\n",
        "from sklearn.metrics import mean_squared_error , r2_score\n",
        "\n",
        "y_target = bostonDF['PRICE']\n",
        "X_data = bostonDF.drop(['PRICE', 'TOWN', 'LON', 'LAT'],axis=1,inplace=False)\n",
        "\n",
        "X_train , X_test , y_train , y_test = train_test_split(X_data , y_target ,test_size=0.3, random_state=156)\n",
        "\n",
        "# Linear Regression OLS로 학습/예측/평가 수행.\n",
        "lr = LinearRegression()\n",
        "lr.fit(X_train ,y_train )\n",
        "y_preds = lr.predict(X_test)\n",
        "mse = mean_squared_error(y_test, y_preds)\n",
        "rmse = np.sqrt(mse)\n",
        "\n",
        "print('MSE : {0:.3f} , RMSE : {1:.3F}'.format(mse , rmse))\n",
        "print('Variance score : {0:.3f}'.format(r2_score(y_test, y_preds)))"
      ],
      "execution_count": null,
      "outputs": [
        {
          "output_type": "stream",
          "name": "stdout",
          "text": [
            "MSE : 16.557 , RMSE : 4.069\n",
            "Variance score : 0.766\n"
          ]
        }
      ]
    },
    {
      "cell_type": "code",
      "metadata": {
        "id": "jYWwxxjjcDER",
        "colab": {
          "base_uri": "https://localhost:8080/"
        },
        "outputId": "37dcd26e-4221-494c-8693-7d5016107fbd"
      },
      "source": [
        "print('절편 값:',lr.intercept_)\n",
        "print('회귀 계수값:', np.round(lr.coef_, 1))"
      ],
      "execution_count": null,
      "outputs": [
        {
          "output_type": "stream",
          "name": "stdout",
          "text": [
            "절편 값: 41.075491939048575\n",
            "회귀 계수값: [ -0.1   0.1   0.    3.1 -20.    3.4   0.   -1.8   0.4  -0.   -0.9   0.\n",
            "  -0.6]\n"
          ]
        }
      ]
    },
    {
      "cell_type": "code",
      "metadata": {
        "id": "xpm0xZx3cDER",
        "colab": {
          "base_uri": "https://localhost:8080/"
        },
        "outputId": "bf244f6b-74b4-4ab7-a224-992f4c4779ec"
      },
      "source": [
        "# 회귀 계수를 큰 값 순으로 정렬하기 위해 Series로 생성. index가 컬럼명에 유의\n",
        "coeff = pd.Series(data=np.round(lr.coef_, 1), index=X_data.columns )\n",
        "coeff.sort_values(ascending=False)"
      ],
      "execution_count": null,
      "outputs": [
        {
          "output_type": "execute_result",
          "data": {
            "text/plain": [
              "RM          3.4\n",
              "CHAS        3.1\n",
              "RAD         0.4\n",
              "ZN          0.1\n",
              "INDUS       0.0\n",
              "AGE         0.0\n",
              "TAX        -0.0\n",
              "B           0.0\n",
              "CRIM       -0.1\n",
              "LSTAT      -0.6\n",
              "PTRATIO    -0.9\n",
              "DIS        -1.8\n",
              "NOX       -20.0\n",
              "dtype: float64"
            ]
          },
          "metadata": {},
          "execution_count": 13
        }
      ]
    },
    {
      "cell_type": "code",
      "metadata": {
        "id": "4AvZPAc5cDES",
        "colab": {
          "base_uri": "https://localhost:8080/"
        },
        "outputId": "6eb76738-69fd-4bf2-e285-646c70e03ff2"
      },
      "source": [
        "from sklearn.model_selection import cross_val_score\n",
        "\n",
        "y_target = bostonDF['PRICE']\n",
        "X_data = bostonDF.drop(['PRICE', 'TOWN', 'LON', 'LAT'],axis=1,inplace=False)\n",
        "lr = LinearRegression()\n",
        "\n",
        "# cross_val_score( )로 5 Fold 셋으로 MSE 를 구한 뒤 이를 기반으로 다시  RMSE 구함.\n",
        "neg_mse_scores = cross_val_score(lr, X_data, y_target, scoring=\"neg_mean_squared_error\", cv = 5)\n",
        "rmse_scores  = np.sqrt(-1 * neg_mse_scores)\n",
        "avg_rmse = np.mean(rmse_scores)\n",
        "\n",
        "# cross_val_score(scoring=\"neg_mean_squared_error\")로 반환된 값은 모두 음수\n",
        "print(' 5 folds 의 개별 Negative MSE scores: ', np.round(neg_mse_scores, 2))\n",
        "print(' 5 folds 의 개별 RMSE scores : ', np.round(rmse_scores, 2))\n",
        "print(' 5 folds 의 평균 RMSE : {0:.3f} '.format(avg_rmse))\n"
      ],
      "execution_count": null,
      "outputs": [
        {
          "output_type": "stream",
          "name": "stdout",
          "text": [
            " 5 folds 의 개별 Negative MSE scores:  [-11.86 -25.48 -33.21 -80.37 -33.13]\n",
            " 5 folds 의 개별 RMSE scores :  [3.44 5.05 5.76 8.96 5.76]\n",
            " 5 folds 의 평균 RMSE : 5.795 \n"
          ]
        }
      ]
    },
    {
      "cell_type": "markdown",
      "source": [
        "## 1-4. 다항 회귀"
      ],
      "metadata": {
        "id": "ed5ycuomypzp"
      }
    },
    {
      "cell_type": "markdown",
      "metadata": {
        "id": "6aO20HrH9-1K"
      },
      "source": [
        "- 독립변수 k개, 데이터의 연관성은 비선형인 일반 회귀분석의 하나\n",
        "- n 차의 다항식은 다음의 형태로 나타낼 수 있음\n",
        "  - $f(x)=\\sum_{k=0}^n a_k x^k$\n",
        "  - 이 경우 파라미터는 $a_0, a_1, a_2, \\cdots, a_n$\n",
        "  - 이 식을 데이터에 적용시킴으로써 데이터의 특징을 파악해 미지의 값을 예측함\n",
        "- 최소제곱법\n",
        "  - 제곱합 J를 최소로 하는 함수 f(x)의 파라미터를 구하는 방법\n",
        "  - $J=\\sum_{j=1}^m (f(x_j)-t_j)^2$\n",
        "  - $t_j$는 각각의 데이터를 나타냄\n",
        "  - 함수의 출력과 각 데이터의 차를 제곱하여 총합을 계산함으로써 제곱합을 구함\n",
        "  - 머신러닝에서는 최소제곱법에 $1 \\over 2$를 곱해서 오차로 하는 오차제곱합이 자주 사용됨\n",
        "  - $E={1 \\over 2}\\sum_{j=1}^m (f(x_j)-t_j)^2$\n",
        "  -  $1 \\over 2$을 곱하는 이유는 미분할 때 다루기 쉽게 하기 위해서임\n",
        "  - 이 오차가 최소가 되도록 함수의 파라미터를 조정하는 것은 함수가 데이터의 경향을 나타내도록 학습하는 것을 의미함\n",
        "- 오차를 최소로 하는 방법으로는 최급강하법 사용"
      ]
    },
    {
      "cell_type": "markdown",
      "metadata": {
        "id": "DEQdNp4p-SMl"
      },
      "source": [
        "- sin함수에 노이즈를 더한 데이터의 경향을 다항 회귀에 의해서 파악하기"
      ]
    },
    {
      "cell_type": "code",
      "metadata": {
        "colab": {
          "base_uri": "https://localhost:8080/",
          "height": 430
        },
        "id": "UTFJf1o--MCc",
        "outputId": "ba968fdb-10c2-4b0e-b807-c8da598b07e4"
      },
      "source": [
        "import numpy as np\n",
        "import matplotlib.pyplot as plt\n",
        "\n",
        "X = np.linspace(-np.pi, np.pi)  # 입력\n",
        "T = np.sin(X)  # 데이터\n",
        "plt.plot(X, T)  # 노이즈의 추가 전\n",
        "\n",
        "T += 0.4*np.random.randn(len(X))  # 정규분포를 따른 노이즈를 추가\n",
        "plt.scatter(X, T)  # 노이즈 추가 후\n",
        "\n",
        "plt.show()\n",
        "\n",
        "X /= np.pi  # 수렴하기 쉽게 X의 범위를 -1부터 1 사이로 수렴한다"
      ],
      "execution_count": null,
      "outputs": [
        {
          "output_type": "display_data",
          "data": {
            "text/plain": [
              "<Figure size 640x480 with 1 Axes>"
            ],
            "image/png": "[encoded data removed]"
          },
          "metadata": {}
        }
      ]
    },
    {
      "cell_type": "markdown",
      "metadata": {
        "id": "jt7-PjGL-avV"
      },
      "source": [
        "- 최급강하법에 의한 다항식 회귀"
      ]
    },
    {
      "cell_type": "code",
      "metadata": {
        "colab": {
          "base_uri": "https://localhost:8080/",
          "height": 1000
        },
        "id": "JNMoVROL-eJp",
        "outputId": "b43abb33-76c7-4219-f7d1-02d9ee096582"
      },
      "source": [
        "import numpy as np\n",
        "import matplotlib.pyplot as plt\n",
        "\n",
        "X = np.linspace(-np.pi, np.pi)  # 입력\n",
        "T = np.sin(X)  # 데이터\n",
        "plt.plot(X, T)  # 노이즈의 추가 전\n",
        "\n",
        "T += 0.4*np.random.randn(len(X))  # 정규분포를 따른 노이즈를 추가\n",
        "plt.scatter(X, T)  # 노이즈 추가 후\n",
        "\n",
        "plt.show()\n",
        "\n",
        "X /= np.pi  # 수렴하기 쉽게 X의 범위를 -1부터 1 사이로 수렴한다\n",
        "\n",
        "eta = 0.01  # 학습계수\n",
        "\n",
        "\n",
        "# --- 다항식 ---\n",
        "def polynomial(x, params):\n",
        "    poly = 0\n",
        "    for i in range(len(params)):\n",
        "        poly += params[i]*x**i  #  (식1)\n",
        "    return poly\n",
        "\n",
        "# --- 각 파라미터의 기울기 ---\n",
        "def grad_params(X, T, params):\n",
        "    grad_ps = np.zeros(len(params))\n",
        "    for i in range(len(params)):\n",
        "        for j in range(len(X)):\n",
        "            grad_ps[i] += ( polynomial(X[j], params) - T[j] )*X[j]**i  # (식7)\n",
        "    return grad_ps\n",
        "\n",
        "# --- 학습 ---\n",
        "def fit(X, T, degree, epoch):  # degree: 다항식의 차수 epoch: 반복하는 횟수\n",
        "\n",
        "    # --- 파라미터의 초깃값을 설정 ---\n",
        "    params = np.random.randn(degree+1)  # 파라미터의 초깃값\n",
        "    for i in range(len(params)):\n",
        "        params[i] *= 2**i  # 고차의 항일수록 파라미터의 초깃값을 크게 한다\n",
        "\n",
        "    # --- 파라미터의 갱신 ---\n",
        "    for i in range(epoch):\n",
        "        params -= eta * grad_params(X, T, params)  # (식4)\n",
        "\n",
        "    return params\n",
        "\n",
        "# --- 결과 표시 ---\n",
        "degrees = [1, 3, 6]  # 다항식의 차수\n",
        "for degree in degrees:\n",
        "    print(\"--- \" + str(degree) + \"차다항식 ---\")  # str로 문자열로 변환\n",
        "    params = fit(X, T, degree, 1000)\n",
        "    Y = polynomial(X, params)  # 학습 후의 파라미터를 사용한 다항식\n",
        "    plt.scatter(X, T)\n",
        "    plt.plot(X, Y, linestyle=\"dashed\")\n",
        "    plt.show()"
      ],
      "execution_count": null,
      "outputs": [
        {
          "output_type": "display_data",
          "data": {
            "text/plain": [
              "<Figure size 640x480 with 1 Axes>"
            ],
            "image/png": "[encoded data removed]"
          },
          "metadata": {}
        },
        {
          "output_type": "stream",
          "name": "stdout",
          "text": [
            "--- 1차다항식 ---\n"
          ]
        },
        {
          "output_type": "display_data",
          "data": {
            "text/plain": [
              "<Figure size 640x480 with 1 Axes>"
            ],
            "image/png": "[encoded data removed]"
          },
          "metadata": {}
        },
        {
          "output_type": "stream",
          "name": "stdout",
          "text": [
            "--- 3차다항식 ---\n"
          ]
        },
        {
          "output_type": "display_data",
          "data": {
            "text/plain": [
              "<Figure size 640x480 with 1 Axes>"
            ],
            "image/png": "[encoded data removed]"
          },
          "metadata": {}
        },
        {
          "output_type": "stream",
          "name": "stdout",
          "text": [
            "--- 6차다항식 ---\n"
          ]
        },
        {
          "output_type": "display_data",
          "data": {
            "text/plain": [
              "<Figure size 640x480 with 1 Axes>"
            ],
            "image/png": "[encoded data removed]"
          },
          "metadata": {}
        }
      ]
    },
    {
      "cell_type": "markdown",
      "metadata": {
        "id": "KQ7_7GJxDzQO"
      },
      "source": [
        "    - 6차 다항식의 경우 너무 복잡한 이유로 모델이 데이터에 과잉 적합 상태를 이룸"
      ]
    },
    {
      "cell_type": "markdown",
      "source": [],
      "metadata": {
        "id": "5R5TCLWBywjT"
      }
    },
    {
      "cell_type": "markdown",
      "source": [
        "### 1-4-1. 다항 회귀(Polynomial Regression)의 이해"
      ],
      "metadata": {
        "id": "HEyiuN1Oy5NF"
      }
    },
    {
      "cell_type": "markdown",
      "metadata": {
        "id": "D39usRS-cDES"
      },
      "source": [
        "- PolynomialFeatures 클래스로 다항식 변환"
      ]
    },
    {
      "cell_type": "code",
      "metadata": {
        "id": "2EtjXQgPcDES",
        "outputId": "224becd9-a0a3-42a1-ba28-31f6d989b14c",
        "colab": {
          "base_uri": "https://localhost:8080/"
        }
      },
      "source": [
        "from sklearn.preprocessing import PolynomialFeatures\n",
        "import numpy as np\n",
        "\n",
        "# 다항식으로 변환한 단항식 생성, [[0,1],[2,3]]의 2X2 행렬 생성\n",
        "X = np.arange(4).reshape(2,2)\n",
        "print('일차 단항식 계수 feature:\\n',X )\n",
        "\n",
        "# degree = 2 인 2차 다항식으로 변환하기 위해 PolynomialFeatures를 이용하여 변환\n",
        "poly = PolynomialFeatures(degree=2)\n",
        "poly.fit(X)\n",
        "poly_ftr = poly.transform(X)\n",
        "print('변환된 2차 다항식 계수 feature:\\n', poly_ftr)\n"
      ],
      "execution_count": null,
      "outputs": [
        {
          "output_type": "stream",
          "name": "stdout",
          "text": [
            "일차 단항식 계수 feature:\n",
            " [[0 1]\n",
            " [2 3]]\n",
            "변환된 2차 다항식 계수 feature:\n",
            " [[1. 0. 1. 0. 0. 1.]\n",
            " [1. 2. 3. 4. 6. 9.]]\n"
          ]
        }
      ]
    },
    {
      "cell_type": "markdown",
      "metadata": {
        "id": "gBE7AMlXcDES"
      },
      "source": [
        "- 3차 다항식 결정값을 구하는 함수 polynomial_func(X) 생성. 즉 회귀식은 결정값 y = 1+ 2x_1 + 3x_1^2 + 4x_2^3"
      ]
    },
    {
      "cell_type": "code",
      "metadata": {
        "id": "endWbDc1cDET",
        "outputId": "935d3d99-6372-4caf-ae64-4e679655df5a",
        "colab": {
          "base_uri": "https://localhost:8080/"
        }
      },
      "source": [
        "def polynomial_func(X):\n",
        "    y = 1 + 2*X[:,0] + 3*X[:,0]**2 + 4*X[:,1]**3\n",
        "    print(X[:, 0])\n",
        "    print(X[:, 1])\n",
        "    return y\n",
        "\n",
        "X = np.arange(0,4).reshape(2,2)\n",
        "\n",
        "print('일차 단항식 계수 feature: \\n' ,X)\n",
        "y = polynomial_func(X)\n",
        "print('삼차 다항식 결정값: \\n', y)"
      ],
      "execution_count": null,
      "outputs": [
        {
          "output_type": "stream",
          "name": "stdout",
          "text": [
            "일차 단항식 계수 feature: \n",
            " [[0 1]\n",
            " [2 3]]\n",
            "[0 2]\n",
            "[1 3]\n",
            "삼차 다항식 결정값: \n",
            " [  5 125]\n"
          ]
        }
      ]
    },
    {
      "cell_type": "markdown",
      "metadata": {
        "id": "ImBGnC-gcDET"
      },
      "source": [
        "- 3차 다항식 계수의 피처값과 3차 다항식 결정값으로 학습"
      ]
    },
    {
      "cell_type": "code",
      "metadata": {
        "id": "KDjncxwlcDET",
        "outputId": "069ef3c1-cc69-42f3-8e66-c4729f0001f6",
        "colab": {
          "base_uri": "https://localhost:8080/"
        }
      },
      "source": [
        "# 3 차 다항식 변환\n",
        "poly_ftr = PolynomialFeatures(degree=3).fit_transform(X)\n",
        "print('3차 다항식 계수 feature: \\n',poly_ftr)\n",
        "\n",
        "# Linear Regression에 3차 다항식 계수 feature와 3차 다항식 결정값으로 학습 후 회귀 계수 확인\n",
        "model = LinearRegression()\n",
        "model.fit(poly_ftr,y)\n",
        "print('Polynomial 회귀 계수\\n' , np.round(model.coef_, 2))\n",
        "print('Polynomial 회귀 Shape :', model.coef_.shape)"
      ],
      "execution_count": null,
      "outputs": [
        {
          "output_type": "stream",
          "name": "stdout",
          "text": [
            "3차 다항식 계수 feature: \n",
            " [[ 1.  0.  1.  0.  0.  1.  0.  0.  0.  1.]\n",
            " [ 1.  2.  3.  4.  6.  9.  8. 12. 18. 27.]]\n",
            "Polynomial 회귀 계수\n",
            " [0.   0.18 0.18 0.36 0.54 0.72 0.72 1.08 1.62 2.34]\n",
            "Polynomial 회귀 Shape : (10,)\n"
          ]
        }
      ]
    },
    {
      "cell_type": "markdown",
      "metadata": {
        "id": "6utxXLBNcDET"
      },
      "source": [
        "- 사이킷런 파이프라인(Pipeline)을 이용하여 3차 다항회귀 학습\n",
        "  - 사이킷런의 Pipeline 객체는 Feature 엔지니어링 변환과 모델 학습/예측을 순차적으로 결합해줍니다."
      ]
    },
    {
      "cell_type": "code",
      "metadata": {
        "id": "78i6qUJqcDET",
        "outputId": "42072d17-800f-4aac-8e14-307dbf977f85",
        "colab": {
          "base_uri": "https://localhost:8080/"
        }
      },
      "source": [
        "from sklearn.preprocessing import PolynomialFeatures\n",
        "from sklearn.linear_model import LinearRegression\n",
        "from sklearn.pipeline import Pipeline\n",
        "import numpy as np\n",
        "\n",
        "def polynomial_func(X):\n",
        "    y = 1 + 2*X[:,0] + 3*X[:,0]**2 + 4*X[:,1]**3\n",
        "    return y\n",
        "\n",
        "# Pipeline 객체로 Streamline 하게 Polynomial Feature변환과 Linear Regression을 연결\n",
        "model = Pipeline([('poly', PolynomialFeatures(degree=3)),\n",
        "                  ('linear', LinearRegression())])\n",
        "X = np.arange(4).reshape(2,2)\n",
        "y = polynomial_func(X)\n",
        "\n",
        "model = model.fit(X, y)\n",
        "print('Polynomial 회귀 계수\\n', np.round(model.named_steps['linear'].coef_, 2))\n"
      ],
      "execution_count": null,
      "outputs": [
        {
          "output_type": "stream",
          "name": "stdout",
          "text": [
            "Polynomial 회귀 계수\n",
            " [0.   0.18 0.18 0.36 0.54 0.72 0.72 1.08 1.62 2.34]\n"
          ]
        }
      ]
    },
    {
      "cell_type": "markdown",
      "metadata": {
        "id": "8irlo7nvcDEU"
      },
      "source": [
        "### 1-4-2. [실습] 다항 회귀를 이용한 보스턴 주택가격 예측"
      ]
    },
    {
      "cell_type": "code",
      "metadata": {
        "id": "7qNNMXdacDEU",
        "outputId": "ded93989-9c99-4a35-f1fa-4792778ada33",
        "colab": {
          "base_uri": "https://localhost:8080/"
        }
      },
      "source": [
        "from sklearn.model_selection import train_test_split\n",
        "from sklearn.linear_model import LinearRegression\n",
        "from sklearn.metrics import mean_squared_error , r2_score\n",
        "from sklearn.preprocessing import PolynomialFeatures\n",
        "from sklearn.pipeline import Pipeline\n",
        "import numpy as np\n",
        "\n",
        "bostonDF = pd.read_csv(DATA_PATH+'BostonHousing.csv')\n",
        "\n",
        "# boston dataset의 target array는 주택 가격임. 이를 PRICE 컬럼으로 DataFrame에 추가함.\n",
        "bostonDF.rename(columns = {'CMEDV':'PRICE'}, inplace = True)\n",
        "print('Boston 데이타셋 크기 :',bostonDF.shape)\n",
        "\n",
        "y_target = bostonDF['PRICE']\n",
        "X_data = bostonDF.drop(['PRICE', 'TOWN', 'LON', 'LAT'],axis=1,inplace=False)\n",
        "\n",
        "\n",
        "X_train , X_test , y_train , y_test = train_test_split(X_data , y_target ,test_size=0.3, random_state=156)\n",
        "\n",
        "## Pipeline을 이용하여 PolynomialFeatures 변환과 LinearRegression 적용을 순차적으로 결합.\n",
        "p_model = Pipeline([('poly', PolynomialFeatures(degree=3, include_bias=False)),\n",
        "                  ('linear', LinearRegression())])\n",
        "\n",
        "p_model.fit(X_train, y_train)\n",
        "y_preds = p_model.predict(X_test)\n",
        "mse = mean_squared_error(y_test, y_preds)\n",
        "rmse = np.sqrt(mse)\n",
        "\n",
        "\n",
        "print('MSE : {0:.3f} , RMSE : {1:.3F}'.format(mse , rmse))\n",
        "print('Variance score : {0:.3f}'.format(r2_score(y_test, y_preds)))"
      ],
      "execution_count": null,
      "outputs": [
        {
          "output_type": "stream",
          "name": "stdout",
          "text": [
            "Boston 데이타셋 크기 : (506, 17)\n",
            "MSE : 112065.490 , RMSE : 334.762\n",
            "Variance score : -1584.864\n"
          ]
        }
      ]
    },
    {
      "cell_type": "code",
      "metadata": {
        "id": "HAB0JHO_cDEU",
        "outputId": "0de401c9-ad90-441d-9e4d-d9fbb4b5b366",
        "colab": {
          "base_uri": "https://localhost:8080/"
        }
      },
      "source": [
        "X_train_poly= PolynomialFeatures(degree=2, include_bias=False).fit_transform(X_train, y_train)\n",
        "X_train_poly.shape, X_train.shape"
      ],
      "execution_count": null,
      "outputs": [
        {
          "output_type": "execute_result",
          "data": {
            "text/plain": [
              "((354, 119), (354, 14))"
            ]
          },
          "metadata": {},
          "execution_count": 221
        }
      ]
    },
    {
      "cell_type": "markdown",
      "metadata": {
        "id": "5-dEEjsFcDES"
      },
      "source": [
        "### 1-4-3. 다항 회귀(Polynomial Regression)와 오버피팅/언더피팅 이해"
      ]
    },
    {
      "cell_type": "markdown",
      "metadata": {
        "id": "mAlzAgvjcDEV"
      },
      "source": [
        "- cosine 곡선에 약간의 Noise 변동값을 더하여 실제값 곡선을 만듦"
      ]
    },
    {
      "cell_type": "code",
      "metadata": {
        "id": "cQdj_yGGcDEV"
      },
      "source": [
        "import numpy as np\n",
        "import matplotlib.pyplot as plt\n",
        "from sklearn.pipeline import Pipeline\n",
        "from sklearn.preprocessing import PolynomialFeatures\n",
        "from sklearn.linear_model import LinearRegression\n",
        "from sklearn.model_selection import cross_val_score\n",
        "%matplotlib inline\n",
        "\n",
        "# random 값으로 구성된 X값에 대해 Cosine 변환값을 반환.\n",
        "def true_fun(X):\n",
        "    return np.cos(1.5 * np.pi * X)\n",
        "\n",
        "# X는 0 부터 1까지 30개의 random 값을 순서대로 sampling 한 데이타 입니다.\n",
        "np.random.seed(0)\n",
        "n_samples = 30\n",
        "X = np.sort(np.random.rand(n_samples))\n",
        "\n",
        "# y 값은 cosine 기반의 true_fun() 에서 약간의 Noise 변동값을 더한 값입니다.\n",
        "y = true_fun(X) + np.random.randn(n_samples) * 0.1\n"
      ],
      "execution_count": null,
      "outputs": []
    },
    {
      "cell_type": "code",
      "metadata": {
        "id": "fCbimzq5cDEV",
        "outputId": "bc6e5c1c-dd14-46b5-e8d7-cf5c09bedff7",
        "colab": {
          "base_uri": "https://localhost:8080/",
          "height": 448
        }
      },
      "source": [
        "plt.scatter(X, y)"
      ],
      "execution_count": null,
      "outputs": [
        {
          "output_type": "execute_result",
          "data": {
            "text/plain": [
              "<matplotlib.collections.PathCollection at 0x7f9f742b0340>"
            ]
          },
          "metadata": {},
          "execution_count": 21
        },
        {
          "output_type": "display_data",
          "data": {
            "text/plain": [
              "<Figure size 640x480 with 1 Axes>"
            ],
            "image/png": "[encoded data removed]"
          },
          "metadata": {}
        }
      ]
    },
    {
      "cell_type": "code",
      "metadata": {
        "id": "RNepHskScDEV",
        "outputId": "85ae4a16-9f6f-4a0f-e7f9-3c41f9501b2a",
        "colab": {
          "base_uri": "https://localhost:8080/",
          "height": 678
        }
      },
      "source": [
        "plt.figure(figsize=(14, 5))\n",
        "degrees = [1, 4, 15]\n",
        "\n",
        "# 다항 회귀의 차수(degree)를 1, 4, 15로 각각 변화시키면서 비교합니다.\n",
        "for i in range(len(degrees)):\n",
        "    ax = plt.subplot(1, len(degrees), i + 1)\n",
        "    plt.setp(ax, xticks=(), yticks=())\n",
        "\n",
        "    # 개별 degree별로 Polynomial 변환합니다.\n",
        "    polynomial_features = PolynomialFeatures(degree=degrees[i], include_bias=False)\n",
        "    linear_regression = LinearRegression()\n",
        "    pipeline = Pipeline([(\"polynomial_features\", polynomial_features),\n",
        "                         (\"linear_regression\", linear_regression)])\n",
        "    pipeline.fit(X.reshape(-1, 1), y)\n",
        "\n",
        "    # 교차 검증으로 다항 회귀를 평가합니다.\n",
        "    scores = cross_val_score(pipeline, X.reshape(-1,1), y,scoring=\"neg_mean_squared_error\", cv=10)\n",
        "    coefficients = pipeline.named_steps['linear_regression'].coef_\n",
        "    print('\\nDegree {0} 회귀 계수는 {1} 입니다.'.format(degrees[i], np.round(coefficients),2))\n",
        "    print('Degree {0} MSE 는 {1:.2f} 입니다.'.format(degrees[i] , -1*np.mean(scores)))\n",
        "\n",
        "    # 0 부터 1까지 테스트 데이터 세트를 100개로 나눠 예측을 수행합니다.\n",
        "    # 테스트 데이터 세트에 회귀 예측을 수행하고 예측 곡선과 실제 곡선을 그려서 비교합니다.\n",
        "    X_test = np.linspace(0, 1, 100)\n",
        "    # 예측값 곡선\n",
        "    plt.plot(X_test, pipeline.predict(X_test[:, np.newaxis]), label=\"Model\")\n",
        "    # 실제 값 곡선\n",
        "    plt.plot(X_test, true_fun(X_test), '--', label=\"True function\")\n",
        "    plt.scatter(X, y, edgecolor='b', s=20, label=\"Samples\")\n",
        "\n",
        "    plt.xlabel(\"x\"); plt.ylabel(\"y\"); plt.xlim((0, 1)); plt.ylim((-2, 2)); plt.legend(loc=\"best\")\n",
        "    plt.title(\"Degree {}\\nMSE = {:.2e}(+/- {:.2e})\".format(degrees[i], -scores.mean(), scores.std()))\n",
        "\n",
        "plt.show()\n",
        "\n"
      ],
      "execution_count": null,
      "outputs": [
        {
          "output_type": "stream",
          "name": "stdout",
          "text": [
            "\n",
            "Degree 1 회귀 계수는 [-2.] 입니다.\n",
            "Degree 1 MSE 는 0.41 입니다.\n",
            "\n",
            "Degree 4 회귀 계수는 [  0. -18.  24.  -7.] 입니다.\n",
            "Degree 4 MSE 는 0.04 입니다.\n",
            "\n",
            "Degree 15 회귀 계수는 [-2.98300000e+03  1.03899000e+05 -1.87416100e+06  2.03716220e+07\n",
            " -1.44873283e+08  7.09315363e+08 -2.47065792e+09  6.24561050e+09\n",
            " -1.15676510e+10  1.56894936e+10 -1.54006024e+10  1.06457264e+10\n",
            " -4.91377530e+09  1.35919645e+09 -1.70380786e+08] 입니다.\n",
            "Degree 15 MSE 는 181238256.56 입니다.\n"
          ]
        },
        {
          "output_type": "display_data",
          "data": {
            "text/plain": [
              "<Figure size 1400x500 with 3 Axes>"
            ],
            "image/png": "[encoded data removed]"
          },
          "metadata": {}
        }
      ]
    },
    {
      "cell_type": "markdown",
      "source": [
        "## 1-5. 정규화 선형회귀 모델: Ridge, Lasso"
      ],
      "metadata": {
        "id": "X_jglHqQzoeR"
      }
    },
    {
      "cell_type": "markdown",
      "metadata": {
        "id": "5rLJc754cDEW"
      },
      "source": [
        "### 1-5-1. Ridge Regression"
      ]
    },
    {
      "cell_type": "code",
      "metadata": {
        "id": "dniIEpCzcDEW",
        "outputId": "ec30237e-6ad0-49e4-ff00-515bd3fe25a9",
        "colab": {
          "base_uri": "https://localhost:8080/"
        }
      },
      "source": [
        "# 앞의 LinearRegression예제에서 분할한 feature 데이터 셋인 X_data과 Target 데이터 셋인 Y_target 데이터셋을 그대로 이용\n",
        "from sklearn.linear_model import Ridge\n",
        "from sklearn.model_selection import cross_val_score\n",
        "\n",
        "bostonDF = pd.read_csv(DATA_PATH+'BostonHousing.csv')\n",
        "\n",
        "# boston dataset의 target array는 주택 가격임. 이를 PRICE 컬럼으로 DataFrame에 추가함.\n",
        "bostonDF.rename(columns = {'CMEDV':'PRICE'}, inplace = True)\n",
        "\n",
        "y_target = bostonDF['PRICE']\n",
        "X_data = bostonDF.drop(['PRICE', 'TOWN', 'LON', 'LAT'],axis=1,inplace=False)\n",
        "\n",
        "\n",
        "ridge = Ridge(alpha = 10)\n",
        "neg_mse_scores = cross_val_score(ridge, X_data, y_target, scoring=\"neg_mean_squared_error\", cv = 5)\n",
        "rmse_scores  = np.sqrt(-1 * neg_mse_scores)\n",
        "avg_rmse = np.mean(rmse_scores)\n",
        "print(' 5 folds 의 개별 Negative MSE scores: ', np.round(neg_mse_scores, 3))\n",
        "print(' 5 folds 의 개별 RMSE scores : ', np.round(rmse_scores,3))\n",
        "print(' 5 folds 의 평균 RMSE : {0:.3f} '.format(avg_rmse))"
      ],
      "execution_count": null,
      "outputs": [
        {
          "output_type": "stream",
          "name": "stdout",
          "text": [
            " 5 folds 의 개별 Negative MSE scores:  [-10.787 -23.649 -28.457 -74.266 -28.133]\n",
            " 5 folds 의 개별 RMSE scores :  [3.284 4.863 5.335 8.618 5.304]\n",
            " 5 folds 의 평균 RMSE : 5.481 \n"
          ]
        }
      ]
    },
    {
      "cell_type": "markdown",
      "metadata": {
        "id": "Dxv4y7rYcDEW"
      },
      "source": [
        "- alpha값을 0 , 0.1 , 1 , 10 , 100 으로 변경하면서 RMSE 측정"
      ]
    },
    {
      "cell_type": "code",
      "metadata": {
        "id": "6Se-DeVscDEW",
        "outputId": "b4dcc774-e970-42b1-9d6e-86a01d40ed34",
        "colab": {
          "base_uri": "https://localhost:8080/"
        }
      },
      "source": [
        "\n",
        "# Ridge에 사용될 alpha 파라미터의 값들을 정의\n",
        "alphas = [0 , 0.1 , 1 , 10 , 100]\n",
        "\n",
        "# alphas list 값을 iteration하면서 alpha에 따른 평균 rmse 구함.\n",
        "for alpha in alphas :\n",
        "    ridge = Ridge(alpha = alpha)\n",
        "\n",
        "    #cross_val_score를 이용하여 5 fold의 평균 RMSE 계산\n",
        "    neg_mse_scores = cross_val_score(ridge, X_data, y_target, scoring=\"neg_mean_squared_error\", cv = 5)\n",
        "    avg_rmse = np.mean(np.sqrt(-1 * neg_mse_scores))\n",
        "    print('alpha {0} 일 때 5 folds 의 평균 RMSE : {1:.3f} '.format(alpha,avg_rmse))"
      ],
      "execution_count": null,
      "outputs": [
        {
          "output_type": "stream",
          "name": "stdout",
          "text": [
            "alpha 0 일 때 5 folds 의 평균 RMSE : 5.795 \n",
            "alpha 0.1 일 때 5 folds 의 평균 RMSE : 5.754 \n",
            "alpha 1 일 때 5 folds 의 평균 RMSE : 5.616 \n",
            "alpha 10 일 때 5 folds 의 평균 RMSE : 5.481 \n",
            "alpha 100 일 때 5 folds 의 평균 RMSE : 5.291 \n"
          ]
        }
      ]
    },
    {
      "cell_type": "markdown",
      "metadata": {
        "id": "1v5S0eGTcDEW"
      },
      "source": [
        "- 각 alpha에 따른 회귀 계수 값을 시각화. 각 alpha값 별로 plt.subplots로 맷플롯립 축 생성"
      ]
    },
    {
      "cell_type": "code",
      "metadata": {
        "id": "7lU8wwotcDEW",
        "outputId": "a02167a7-e4dd-4054-856c-490957c834f6",
        "colab": {
          "base_uri": "https://localhost:8080/",
          "height": 396
        }
      },
      "source": [
        "# 각 alpha에 따른 회귀 계수 값을 시각화하기 위해 5개의 열로 된 맷플롯립 축 생성\n",
        "fig , axs = plt.subplots(figsize=(18,6) , nrows=1 , ncols=5)\n",
        "# 각 alpha에 따른 회귀 계수 값을 데이터로 저장하기 위한 DataFrame 생성\n",
        "coeff_df = pd.DataFrame()\n",
        "\n",
        "# alphas 리스트 값을 차례로 입력해 회귀 계수 값 시각화 및 데이터 저장. pos는 axis의 위치 지정\n",
        "for pos , alpha in enumerate(alphas) :\n",
        "    ridge = Ridge(alpha = alpha)\n",
        "    ridge.fit(X_data , y_target)\n",
        "    # alpha에 따른 피처별 회귀 계수를 Series로 변환하고 이를 DataFrame의 컬럼으로 추가.\n",
        "    coeff = pd.Series(data=ridge.coef_ , index=X_data.columns )\n",
        "    colname='alpha:'+str(alpha)\n",
        "    coeff_df[colname] = coeff\n",
        "    # 막대 그래프로 각 alpha 값에서의 회귀 계수를 시각화. 회귀 계수값이 높은 순으로 표현\n",
        "    coeff = coeff.sort_values(ascending=False)\n",
        "    axs[pos].set_title(colname)\n",
        "    axs[pos].set_xlim(-3,6)\n",
        "    sns.barplot(x=coeff.values , y=coeff.index, ax=axs[pos])\n",
        "\n",
        "# for 문 바깥에서 맷플롯립의 show 호출 및 alpha에 따른 피처별 회귀 계수를 DataFrame으로 표시\n",
        "plt.show()\n",
        "\n"
      ],
      "execution_count": null,
      "outputs": [
        {
          "output_type": "display_data",
          "data": {
            "text/plain": [
              "<Figure size 1800x600 with 5 Axes>"
            ],
            "image/png": "[encoded data removed]"
          },
          "metadata": {}
        }
      ]
    },
    {
      "cell_type": "markdown",
      "metadata": {
        "id": "fM0iy41mcDEX"
      },
      "source": [
        "- alpha 값에 따른 컬럼별 회귀계수 출력"
      ]
    },
    {
      "cell_type": "code",
      "metadata": {
        "id": "qCSHZyTpcDEX",
        "outputId": "50cc0b3e-7437-4767-c613-987836dbe080",
        "colab": {
          "base_uri": "https://localhost:8080/",
          "height": 457
        }
      },
      "source": [
        "ridge_alphas = [0 , 0.1 , 1 , 10 , 100]\n",
        "sort_column = 'alpha:'+str(ridge_alphas[0])\n",
        "coeff_df.sort_values(by=sort_column, ascending=False)"
      ],
      "execution_count": null,
      "outputs": [
        {
          "output_type": "execute_result",
          "data": {
            "text/plain": [
              "           alpha:0  alpha:0.1    alpha:1  alpha:10  alpha:100\n",
              "RM        3.789395   3.797764   3.833597  3.683117   2.322979\n",
              "CHAS      2.691727   2.675004   2.557277  1.955760   0.639209\n",
              "RAD       0.303761   0.301230   0.287876  0.277361   0.313191\n",
              "ZN        0.047724   0.047874   0.048742  0.050852   0.055575\n",
              "INDUS     0.023252   0.018700  -0.006063 -0.040106  -0.049523\n",
              "B         0.009228   0.009285   0.009590  0.009954   0.009317\n",
              "AGE       0.000575  -0.000385  -0.005523 -0.010803   0.001155\n",
              "TAX      -0.012705  -0.012791  -0.013281 -0.014361  -0.016216\n",
              "CRIM     -0.106200  -0.105663  -0.102789 -0.099630  -0.100352\n",
              "LSTAT    -0.530662  -0.531867  -0.539228 -0.565151  -0.666003\n",
              "PTRATIO  -0.923912  -0.911942  -0.847366 -0.769551  -0.802623\n",
              "DIS      -1.501794  -1.485869  -1.398962 -1.274789  -1.175413\n",
              "NOX     -17.742623 -16.662098 -10.762337 -2.368164  -0.262333"
            ],
            "text/html": [
              "\n",
              "  <div id=\"df-5fcc54d5-dcc8-4802-a3a5-8059dabbb07f\">\n",
              "    <div class=\"colab-df-container\">\n",
              "      <div>\n",
              "<style scoped>\n",
              "    .dataframe tbody tr th:only-of-type {\n",
              "        vertical-align: middle;\n",
              "    }\n",
              "\n",
              "    .dataframe tbody tr th {\n",
              "        vertical-align: top;\n",
              "    }\n",
              "\n",
              "    .dataframe thead th {\n",
              "        text-align: right;\n",
              "    }\n",
              "</style>\n",
              "<table border=\"1\" class=\"dataframe\">\n",
              "  <thead>\n",
              "    <tr style=\"text-align: right;\">\n",
              "      <th></th>\n",
              "      <th>alpha:0</th>\n",
              "      <th>alpha:0.1</th>\n",
              "      <th>alpha:1</th>\n",
              "      <th>alpha:10</th>\n",
              "      <th>alpha:100</th>\n",
              "    </tr>\n",
              "  </thead>\n",
              "  <tbody>\n",
              "    <tr>\n",
              "      <th>RM</th>\n",
              "      <td>3.789395</td>\n",
              "      <td>3.797764</td>\n",
              "      <td>3.833597</td>\n",
              "      <td>3.683117</td>\n",
              "      <td>2.322979</td>\n",
              "    </tr>\n",
              "    <tr>\n",
              "      <th>CHAS</th>\n",
              "      <td>2.691727</td>\n",
              "      <td>2.675004</td>\n",
              "      <td>2.557277</td>\n",
              "      <td>1.955760</td>\n",
              "      <td>0.639209</td>\n",
              "    </tr>\n",
              "    <tr>\n",
              "      <th>RAD</th>\n",
              "      <td>0.303761</td>\n",
              "      <td>0.301230</td>\n",
              "      <td>0.287876</td>\n",
              "      <td>0.277361</td>\n",
              "      <td>0.313191</td>\n",
              "    </tr>\n",
              "    <tr>\n",
              "      <th>ZN</th>\n",
              "      <td>0.047724</td>\n",
              "      <td>0.047874</td>\n",
              "      <td>0.048742</td>\n",
              "      <td>0.050852</td>\n",
              "      <td>0.055575</td>\n",
              "    </tr>\n",
              "    <tr>\n",
              "      <th>INDUS</th>\n",
              "      <td>0.023252</td>\n",
              "      <td>0.018700</td>\n",
              "      <td>-0.006063</td>\n",
              "      <td>-0.040106</td>\n",
              "      <td>-0.049523</td>\n",
              "    </tr>\n",
              "    <tr>\n",
              "      <th>B</th>\n",
              "      <td>0.009228</td>\n",
              "      <td>0.009285</td>\n",
              "      <td>0.009590</td>\n",
              "      <td>0.009954</td>\n",
              "      <td>0.009317</td>\n",
              "    </tr>\n",
              "    <tr>\n",
              "      <th>AGE</th>\n",
              "      <td>0.000575</td>\n",
              "      <td>-0.000385</td>\n",
              "      <td>-0.005523</td>\n",
              "      <td>-0.010803</td>\n",
              "      <td>0.001155</td>\n",
              "    </tr>\n",
              "    <tr>\n",
              "      <th>TAX</th>\n",
              "      <td>-0.012705</td>\n",
              "      <td>-0.012791</td>\n",
              "      <td>-0.013281</td>\n",
              "      <td>-0.014361</td>\n",
              "      <td>-0.016216</td>\n",
              "    </tr>\n",
              "    <tr>\n",
              "      <th>CRIM</th>\n",
              "      <td>-0.106200</td>\n",
              "      <td>-0.105663</td>\n",
              "      <td>-0.102789</td>\n",
              "      <td>-0.099630</td>\n",
              "      <td>-0.100352</td>\n",
              "    </tr>\n",
              "    <tr>\n",
              "      <th>LSTAT</th>\n",
              "      <td>-0.530662</td>\n",
              "      <td>-0.531867</td>\n",
              "      <td>-0.539228</td>\n",
              "      <td>-0.565151</td>\n",
              "      <td>-0.666003</td>\n",
              "    </tr>\n",
              "    <tr>\n",
              "      <th>PTRATIO</th>\n",
              "      <td>-0.923912</td>\n",
              "      <td>-0.911942</td>\n",
              "      <td>-0.847366</td>\n",
              "      <td>-0.769551</td>\n",
              "      <td>-0.802623</td>\n",
              "    </tr>\n",
              "    <tr>\n",
              "      <th>DIS</th>\n",
              "      <td>-1.501794</td>\n",
              "      <td>-1.485869</td>\n",
              "      <td>-1.398962</td>\n",
              "      <td>-1.274789</td>\n",
              "      <td>-1.175413</td>\n",
              "    </tr>\n",
              "    <tr>\n",
              "      <th>NOX</th>\n",
              "      <td>-17.742623</td>\n",
              "      <td>-16.662098</td>\n",
              "      <td>-10.762337</td>\n",
              "      <td>-2.368164</td>\n",
              "      <td>-0.262333</td>\n",
              "    </tr>\n",
              "  </tbody>\n",
              "</table>\n",
              "</div>\n",
              "      <button class=\"colab-df-convert\" onclick=\"convertToInteractive('df-5fcc54d5-dcc8-4802-a3a5-8059dabbb07f')\"\n",
              "              title=\"Convert this dataframe to an interactive table.\"\n",
              "              style=\"display:none;\">\n",
              "        \n",
              "  <svg xmlns=\"http://www.w3.org/2000/svg\" height=\"24px\"viewBox=\"0 0 24 24\"\n",
              "       width=\"24px\">\n",
              "    <path d=\"M0 0h24v24H0V0z\" fill=\"none\"/>\n",
              "    <path d=\"M18.56 5.44l.94 2.06.94-2.06 2.06-.94-2.06-.94-.94-2.06-.94 2.06-2.06.94zm-11 1L8.5 8.5l.94-2.06 2.06-.94-2.06-.94L8.5 2.5l-.94 2.06-2.06.94zm10 10l.94 2.06.94-2.06 2.06-.94-2.06-.94-.94-2.06-.94 2.06-2.06.94z\"/><path d=\"M17.41 7.96l-1.37-1.37c-.4-.4-.92-.59-1.43-.59-.52 0-1.04.2-1.43.59L10.3 9.45l-7.72 7.72c-.78.78-.78 2.05 0 2.83L4 21.41c.39.39.9.59 1.41.59.51 0 1.02-.2 1.41-.59l7.78-7.78 2.81-2.81c.8-.78.8-2.07 0-2.86zM5.41 20L4 18.59l7.72-7.72 1.47 1.35L5.41 20z\"/>\n",
              "  </svg>\n",
              "      </button>\n",
              "      \n",
              "  <style>\n",
              "    .colab-df-container {\n",
              "      display:flex;\n",
              "      flex-wrap:wrap;\n",
              "      gap: 12px;\n",
              "    }\n",
              "\n",
              "    .colab-df-convert {\n",
              "      background-color: #E8F0FE;\n",
              "      border: none;\n",
              "      border-radius: 50%;\n",
              "      cursor: pointer;\n",
              "      display: none;\n",
              "      fill: #1967D2;\n",
              "      height: 32px;\n",
              "      padding: 0 0 0 0;\n",
              "      width: 32px;\n",
              "    }\n",
              "\n",
              "    .colab-df-convert:hover {\n",
              "      background-color: #E2EBFA;\n",
              "      box-shadow: 0px 1px 2px rgba(60, 64, 67, 0.3), 0px 1px 3px 1px rgba(60, 64, 67, 0.15);\n",
              "      fill: #174EA6;\n",
              "    }\n",
              "\n",
              "    [theme=dark] .colab-df-convert {\n",
              "      background-color: #3B4455;\n",
              "      fill: #D2E3FC;\n",
              "    }\n",
              "\n",
              "    [theme=dark] .colab-df-convert:hover {\n",
              "      background-color: #434B5C;\n",
              "      box-shadow: 0px 1px 3px 1px rgba(0, 0, 0, 0.15);\n",
              "      filter: drop-shadow(0px 1px 2px rgba(0, 0, 0, 0.3));\n",
              "      fill: #FFFFFF;\n",
              "    }\n",
              "  </style>\n",
              "\n",
              "      <script>\n",
              "        const buttonEl =\n",
              "          document.querySelector('#df-5fcc54d5-dcc8-4802-a3a5-8059dabbb07f button.colab-df-convert');\n",
              "        buttonEl.style.display =\n",
              "          google.colab.kernel.accessAllowed ? 'block' : 'none';\n",
              "\n",
              "        async function convertToInteractive(key) {\n",
              "          const element = document.querySelector('#df-5fcc54d5-dcc8-4802-a3a5-8059dabbb07f');\n",
              "          const dataTable =\n",
              "            await google.colab.kernel.invokeFunction('convertToInteractive',\n",
              "                                                     [key], {});\n",
              "          if (!dataTable) return;\n",
              "\n",
              "          const docLinkHtml = 'Like what you see? Visit the ' +\n",
              "            '<a target=\"_blank\" href=https://colab.research.google.com/notebooks/data_table.ipynb>data table notebook</a>'\n",
              "            + ' to learn more about interactive tables.';\n",
              "          element.innerHTML = '';\n",
              "          dataTable['output_type'] = 'display_data';\n",
              "          await google.colab.output.renderOutput(dataTable, element);\n",
              "          const docLink = document.createElement('div');\n",
              "          docLink.innerHTML = docLinkHtml;\n",
              "          element.appendChild(docLink);\n",
              "        }\n",
              "      </script>\n",
              "    </div>\n",
              "  </div>\n",
              "  "
            ]
          },
          "metadata": {},
          "execution_count": 29
        }
      ]
    },
    {
      "cell_type": "markdown",
      "metadata": {
        "id": "Ge0_VjxycDEX"
      },
      "source": [
        "### 1-5-2. Lasso Regression"
      ]
    },
    {
      "cell_type": "code",
      "metadata": {
        "id": "GB_yOXC4cDEX"
      },
      "source": [
        "from sklearn.linear_model import Lasso, ElasticNet\n",
        "\n",
        "# alpha값에 따른 회귀 모델의 폴드 평균 RMSE를 출력하고 회귀 계수값들을 DataFrame으로 반환\n",
        "def get_linear_reg_eval(model_name, params=None, X_data_n=None, y_target_n=None,\n",
        "                        verbose=True, return_coeff=True):\n",
        "    coeff_df = pd.DataFrame()\n",
        "    if verbose : print('####### ', model_name , '#######')\n",
        "    for param in params:\n",
        "        if model_name =='Ridge': model = Ridge(alpha=param)\n",
        "        elif model_name =='Lasso': model = Lasso(alpha=param)\n",
        "        elif model_name =='ElasticNet': model = ElasticNet(alpha=param, l1_ratio=0.7)\n",
        "        neg_mse_scores = cross_val_score(model, X_data_n,\n",
        "                                             y_target_n, scoring=\"neg_mean_squared_error\", cv = 5)\n",
        "        avg_rmse = np.mean(np.sqrt(-1 * neg_mse_scores))\n",
        "        print('alpha {0}일 때 5 폴드 세트의 평균 RMSE: {1:.3f} '.format(param, avg_rmse))\n",
        "        # cross_val_score는 evaluation metric만 반환하므로 모델을 다시 학습하여 회귀 계수 추출\n",
        "\n",
        "        model.fit(X_data_n , y_target_n)\n",
        "        if return_coeff:\n",
        "            # alpha에 따른 피처별 회귀 계수를 Series로 변환하고 이를 DataFrame의 컬럼으로 추가.\n",
        "            coeff = pd.Series(data=model.coef_ , index=X_data_n.columns )\n",
        "            colname='alpha:'+str(param)\n",
        "            coeff_df[colname] = coeff\n",
        "\n",
        "    return coeff_df\n",
        "# end of get_linear_regre_eval"
      ],
      "execution_count": null,
      "outputs": []
    },
    {
      "cell_type": "code",
      "metadata": {
        "id": "ksX4knWbcDEY",
        "outputId": "ba02a946-d523-4143-fc4a-2d9c7df20966",
        "colab": {
          "base_uri": "https://localhost:8080/"
        }
      },
      "source": [
        "# 라쏘에 사용될 alpha 파라미터의 값들을 정의하고 get_linear_reg_eval() 함수 호출\n",
        "lasso_alphas = [ 0.07, 0.1, 0.5, 1, 3]\n",
        "coeff_lasso_df =get_linear_reg_eval('Lasso', params=lasso_alphas, X_data_n=X_data, y_target_n=y_target)"
      ],
      "execution_count": null,
      "outputs": [
        {
          "output_type": "stream",
          "name": "stdout",
          "text": [
            "#######  Lasso #######\n",
            "alpha 0.07일 때 5 폴드 세트의 평균 RMSE: 5.577 \n",
            "alpha 0.1일 때 5 폴드 세트의 평균 RMSE: 5.580 \n",
            "alpha 0.5일 때 5 폴드 세트의 평균 RMSE: 5.636 \n",
            "alpha 1일 때 5 폴드 세트의 평균 RMSE: 5.734 \n",
            "alpha 3일 때 5 폴드 세트의 평균 RMSE: 6.153 \n"
          ]
        }
      ]
    },
    {
      "cell_type": "code",
      "metadata": {
        "id": "RUHFsddzcDEY",
        "outputId": "9d868319-8b71-4b37-e7af-a655bd40b16a",
        "colab": {
          "base_uri": "https://localhost:8080/"
        }
      },
      "source": [
        "print(lasso_alphas)"
      ],
      "execution_count": null,
      "outputs": [
        {
          "output_type": "stream",
          "name": "stdout",
          "text": [
            "[0.07, 0.1, 0.5, 1, 3]\n"
          ]
        }
      ]
    },
    {
      "cell_type": "code",
      "metadata": {
        "id": "Sc14EXpccDEY",
        "outputId": "4595c741-d9cd-4577-c1a8-b60d4cba81e9",
        "colab": {
          "base_uri": "https://localhost:8080/",
          "height": 457
        }
      },
      "source": [
        "# 반환된 coeff_lasso_df를 첫번째 컬럼순으로 내림차순 정렬하여 회귀계수 DataFrame출력\n",
        "sort_column = 'alpha:'+str(lasso_alphas[0])\n",
        "coeff_lasso_df.sort_values(by=sort_column, ascending=False)"
      ],
      "execution_count": null,
      "outputs": [
        {
          "output_type": "execute_result",
          "data": {
            "text/plain": [
              "         alpha:0.07  alpha:0.1  alpha:0.5   alpha:1   alpha:3\n",
              "RM         3.769001   3.682476   2.477585  0.926734  0.000000\n",
              "CHAS       1.439505   0.960349   0.000000  0.000000  0.000000\n",
              "RAD        0.268714   0.272488   0.275255  0.261296  0.059493\n",
              "ZN         0.050359   0.050512   0.050844  0.050388  0.037323\n",
              "B          0.010164   0.010165   0.009385  0.008157  0.006405\n",
              "NOX       -0.000000  -0.000000  -0.000000 -0.000000  0.000000\n",
              "AGE       -0.011801  -0.010132   0.003514  0.020871  0.043274\n",
              "TAX       -0.014659  -0.014939  -0.015813 -0.015500 -0.008784\n",
              "INDUS     -0.039323  -0.033822  -0.002419 -0.000000 -0.000000\n",
              "CRIM      -0.096396  -0.096097  -0.081499 -0.061753 -0.000000\n",
              "LSTAT     -0.566313  -0.574651  -0.662188 -0.766789 -0.811550\n",
              "PTRATIO   -0.736545  -0.742092  -0.730267 -0.694288 -0.239846\n",
              "DIS       -1.203163  -1.187119  -0.963216 -0.698294 -0.000000"
            ],
            "text/html": [
              "\n",
              "  <div id=\"df-0fba8f37-4f5e-417c-ba36-c169d4596515\">\n",
              "    <div class=\"colab-df-container\">\n",
              "      <div>\n",
              "<style scoped>\n",
              "    .dataframe tbody tr th:only-of-type {\n",
              "        vertical-align: middle;\n",
              "    }\n",
              "\n",
              "    .dataframe tbody tr th {\n",
              "        vertical-align: top;\n",
              "    }\n",
              "\n",
              "    .dataframe thead th {\n",
              "        text-align: right;\n",
              "    }\n",
              "</style>\n",
              "<table border=\"1\" class=\"dataframe\">\n",
              "  <thead>\n",
              "    <tr style=\"text-align: right;\">\n",
              "      <th></th>\n",
              "      <th>alpha:0.07</th>\n",
              "      <th>alpha:0.1</th>\n",
              "      <th>alpha:0.5</th>\n",
              "      <th>alpha:1</th>\n",
              "      <th>alpha:3</th>\n",
              "    </tr>\n",
              "  </thead>\n",
              "  <tbody>\n",
              "    <tr>\n",
              "      <th>RM</th>\n",
              "      <td>3.769001</td>\n",
              "      <td>3.682476</td>\n",
              "      <td>2.477585</td>\n",
              "      <td>0.926734</td>\n",
              "      <td>0.000000</td>\n",
              "    </tr>\n",
              "    <tr>\n",
              "      <th>CHAS</th>\n",
              "      <td>1.439505</td>\n",
              "      <td>0.960349</td>\n",
              "      <td>0.000000</td>\n",
              "      <td>0.000000</td>\n",
              "      <td>0.000000</td>\n",
              "    </tr>\n",
              "    <tr>\n",
              "      <th>RAD</th>\n",
              "      <td>0.268714</td>\n",
              "      <td>0.272488</td>\n",
              "      <td>0.275255</td>\n",
              "      <td>0.261296</td>\n",
              "      <td>0.059493</td>\n",
              "    </tr>\n",
              "    <tr>\n",
              "      <th>ZN</th>\n",
              "      <td>0.050359</td>\n",
              "      <td>0.050512</td>\n",
              "      <td>0.050844</td>\n",
              "      <td>0.050388</td>\n",
              "      <td>0.037323</td>\n",
              "    </tr>\n",
              "    <tr>\n",
              "      <th>B</th>\n",
              "      <td>0.010164</td>\n",
              "      <td>0.010165</td>\n",
              "      <td>0.009385</td>\n",
              "      <td>0.008157</td>\n",
              "      <td>0.006405</td>\n",
              "    </tr>\n",
              "    <tr>\n",
              "      <th>NOX</th>\n",
              "      <td>-0.000000</td>\n",
              "      <td>-0.000000</td>\n",
              "      <td>-0.000000</td>\n",
              "      <td>-0.000000</td>\n",
              "      <td>0.000000</td>\n",
              "    </tr>\n",
              "    <tr>\n",
              "      <th>AGE</th>\n",
              "      <td>-0.011801</td>\n",
              "      <td>-0.010132</td>\n",
              "      <td>0.003514</td>\n",
              "      <td>0.020871</td>\n",
              "      <td>0.043274</td>\n",
              "    </tr>\n",
              "    <tr>\n",
              "      <th>TAX</th>\n",
              "      <td>-0.014659</td>\n",
              "      <td>-0.014939</td>\n",
              "      <td>-0.015813</td>\n",
              "      <td>-0.015500</td>\n",
              "      <td>-0.008784</td>\n",
              "    </tr>\n",
              "    <tr>\n",
              "      <th>INDUS</th>\n",
              "      <td>-0.039323</td>\n",
              "      <td>-0.033822</td>\n",
              "      <td>-0.002419</td>\n",
              "      <td>-0.000000</td>\n",
              "      <td>-0.000000</td>\n",
              "    </tr>\n",
              "    <tr>\n",
              "      <th>CRIM</th>\n",
              "      <td>-0.096396</td>\n",
              "      <td>-0.096097</td>\n",
              "      <td>-0.081499</td>\n",
              "      <td>-0.061753</td>\n",
              "      <td>-0.000000</td>\n",
              "    </tr>\n",
              "    <tr>\n",
              "      <th>LSTAT</th>\n",
              "      <td>-0.566313</td>\n",
              "      <td>-0.574651</td>\n",
              "      <td>-0.662188</td>\n",
              "      <td>-0.766789</td>\n",
              "      <td>-0.811550</td>\n",
              "    </tr>\n",
              "    <tr>\n",
              "      <th>PTRATIO</th>\n",
              "      <td>-0.736545</td>\n",
              "      <td>-0.742092</td>\n",
              "      <td>-0.730267</td>\n",
              "      <td>-0.694288</td>\n",
              "      <td>-0.239846</td>\n",
              "    </tr>\n",
              "    <tr>\n",
              "      <th>DIS</th>\n",
              "      <td>-1.203163</td>\n",
              "      <td>-1.187119</td>\n",
              "      <td>-0.963216</td>\n",
              "      <td>-0.698294</td>\n",
              "      <td>-0.000000</td>\n",
              "    </tr>\n",
              "  </tbody>\n",
              "</table>\n",
              "</div>\n",
              "      <button class=\"colab-df-convert\" onclick=\"convertToInteractive('df-0fba8f37-4f5e-417c-ba36-c169d4596515')\"\n",
              "              title=\"Convert this dataframe to an interactive table.\"\n",
              "              style=\"display:none;\">\n",
              "        \n",
              "  <svg xmlns=\"http://www.w3.org/2000/svg\" height=\"24px\"viewBox=\"0 0 24 24\"\n",
              "       width=\"24px\">\n",
              "    <path d=\"M0 0h24v24H0V0z\" fill=\"none\"/>\n",
              "    <path d=\"M18.56 5.44l.94 2.06.94-2.06 2.06-.94-2.06-.94-.94-2.06-.94 2.06-2.06.94zm-11 1L8.5 8.5l.94-2.06 2.06-.94-2.06-.94L8.5 2.5l-.94 2.06-2.06.94zm10 10l.94 2.06.94-2.06 2.06-.94-2.06-.94-.94-2.06-.94 2.06-2.06.94z\"/><path d=\"M17.41 7.96l-1.37-1.37c-.4-.4-.92-.59-1.43-.59-.52 0-1.04.2-1.43.59L10.3 9.45l-7.72 7.72c-.78.78-.78 2.05 0 2.83L4 21.41c.39.39.9.59 1.41.59.51 0 1.02-.2 1.41-.59l7.78-7.78 2.81-2.81c.8-.78.8-2.07 0-2.86zM5.41 20L4 18.59l7.72-7.72 1.47 1.35L5.41 20z\"/>\n",
              "  </svg>\n",
              "      </button>\n",
              "      \n",
              "  <style>\n",
              "    .colab-df-container {\n",
              "      display:flex;\n",
              "      flex-wrap:wrap;\n",
              "      gap: 12px;\n",
              "    }\n",
              "\n",
              "    .colab-df-convert {\n",
              "      background-color: #E8F0FE;\n",
              "      border: none;\n",
              "      border-radius: 50%;\n",
              "      cursor: pointer;\n",
              "      display: none;\n",
              "      fill: #1967D2;\n",
              "      height: 32px;\n",
              "      padding: 0 0 0 0;\n",
              "      width: 32px;\n",
              "    }\n",
              "\n",
              "    .colab-df-convert:hover {\n",
              "      background-color: #E2EBFA;\n",
              "      box-shadow: 0px 1px 2px rgba(60, 64, 67, 0.3), 0px 1px 3px 1px rgba(60, 64, 67, 0.15);\n",
              "      fill: #174EA6;\n",
              "    }\n",
              "\n",
              "    [theme=dark] .colab-df-convert {\n",
              "      background-color: #3B4455;\n",
              "      fill: #D2E3FC;\n",
              "    }\n",
              "\n",
              "    [theme=dark] .colab-df-convert:hover {\n",
              "      background-color: #434B5C;\n",
              "      box-shadow: 0px 1px 3px 1px rgba(0, 0, 0, 0.15);\n",
              "      filter: drop-shadow(0px 1px 2px rgba(0, 0, 0, 0.3));\n",
              "      fill: #FFFFFF;\n",
              "    }\n",
              "  </style>\n",
              "\n",
              "      <script>\n",
              "        const buttonEl =\n",
              "          document.querySelector('#df-0fba8f37-4f5e-417c-ba36-c169d4596515 button.colab-df-convert');\n",
              "        buttonEl.style.display =\n",
              "          google.colab.kernel.accessAllowed ? 'block' : 'none';\n",
              "\n",
              "        async function convertToInteractive(key) {\n",
              "          const element = document.querySelector('#df-0fba8f37-4f5e-417c-ba36-c169d4596515');\n",
              "          const dataTable =\n",
              "            await google.colab.kernel.invokeFunction('convertToInteractive',\n",
              "                                                     [key], {});\n",
              "          if (!dataTable) return;\n",
              "\n",
              "          const docLinkHtml = 'Like what you see? Visit the ' +\n",
              "            '<a target=\"_blank\" href=https://colab.research.google.com/notebooks/data_table.ipynb>data table notebook</a>'\n",
              "            + ' to learn more about interactive tables.';\n",
              "          element.innerHTML = '';\n",
              "          dataTable['output_type'] = 'display_data';\n",
              "          await google.colab.output.renderOutput(dataTable, element);\n",
              "          const docLink = document.createElement('div');\n",
              "          docLink.innerHTML = docLinkHtml;\n",
              "          element.appendChild(docLink);\n",
              "        }\n",
              "      </script>\n",
              "    </div>\n",
              "  </div>\n",
              "  "
            ]
          },
          "metadata": {},
          "execution_count": 33
        }
      ]
    },
    {
      "cell_type": "markdown",
      "source": [
        "## 1-6. 기타 회귀 모델"
      ],
      "metadata": {
        "id": "HRIQvhSsz86T"
      }
    },
    {
      "cell_type": "markdown",
      "metadata": {
        "id": "58uYxjuecDEY"
      },
      "source": [
        "### 1-6-1. ElasticNet Regression"
      ]
    },
    {
      "cell_type": "code",
      "metadata": {
        "id": "yJM_qlg2cDEY",
        "outputId": "830a7c06-7212-45d6-aeef-b3cfd79e620d",
        "colab": {
          "base_uri": "https://localhost:8080/"
        }
      },
      "source": [
        "# 엘라스틱넷에 사용될 alpha 파라미터의 값들을 정의하고 get_linear_reg_eval() 함수 호출\n",
        "# l1_ratio는 0.7로 고정\n",
        "elastic_alphas = [ 0.07, 0.1, 0.5, 1, 3]\n",
        "coeff_elastic_df =get_linear_reg_eval('ElasticNet', params=elastic_alphas,\n",
        "                                      X_data_n=X_data, y_target_n=y_target)"
      ],
      "execution_count": null,
      "outputs": [
        {
          "output_type": "stream",
          "name": "stdout",
          "text": [
            "#######  ElasticNet #######\n",
            "alpha 0.07일 때 5 폴드 세트의 평균 RMSE: 5.505 \n",
            "alpha 0.1일 때 5 폴드 세트의 평균 RMSE: 5.489 \n",
            "alpha 0.5일 때 5 폴드 세트의 평균 RMSE: 5.431 \n",
            "alpha 1일 때 5 폴드 세트의 평균 RMSE: 5.557 \n",
            "alpha 3일 때 5 폴드 세트의 평균 RMSE: 6.036 \n"
          ]
        }
      ]
    },
    {
      "cell_type": "code",
      "metadata": {
        "id": "RzQQkLEPcDEY",
        "outputId": "1dae0b12-5fe4-465c-9593-43b54fa35fbb",
        "colab": {
          "base_uri": "https://localhost:8080/",
          "height": 457
        }
      },
      "source": [
        "# 반환된 coeff_elastic_df를 첫번째 컬럼순으로 내림차순 정렬하여 회귀계수 DataFrame출력\n",
        "sort_column = 'alpha:'+str(elastic_alphas[0])\n",
        "coeff_elastic_df.sort_values(by=sort_column, ascending=False)"
      ],
      "execution_count": null,
      "outputs": [
        {
          "output_type": "execute_result",
          "data": {
            "text/plain": [
              "         alpha:0.07  alpha:0.1  alpha:0.5   alpha:1   alpha:3\n",
              "RM         3.555097   3.395663   1.905491  0.928048  0.000000\n",
              "CHAS       1.334402   0.982970   0.000000  0.000000  0.000000\n",
              "RAD        0.276643   0.281228   0.298594  0.286232  0.143885\n",
              "ZN         0.051378   0.051876   0.054001  0.052999  0.038719\n",
              "B          0.010039   0.009984   0.009038  0.008240  0.006952\n",
              "AGE       -0.010211  -0.008367   0.007694  0.020390  0.043581\n",
              "TAX       -0.014890  -0.015181  -0.016409 -0.016470 -0.011634\n",
              "INDUS     -0.041994  -0.039810  -0.020025 -0.000000 -0.000000\n",
              "CRIM      -0.097662  -0.097408  -0.087235 -0.071816 -0.017255\n",
              "NOX       -0.171777  -0.000000  -0.000000 -0.000000 -0.000000\n",
              "LSTAT     -0.580600  -0.593436  -0.699207 -0.765152 -0.804099\n",
              "PTRATIO   -0.751118  -0.756479  -0.763943 -0.712829 -0.401507\n",
              "DIS       -1.215388  -1.199403  -0.998871 -0.748283 -0.047186"
            ],
            "text/html": [
              "\n",
              "  <div id=\"df-04e0b403-9cb6-45be-aa12-ad7e59ba4508\">\n",
              "    <div class=\"colab-df-container\">\n",
              "      <div>\n",
              "<style scoped>\n",
              "    .dataframe tbody tr th:only-of-type {\n",
              "        vertical-align: middle;\n",
              "    }\n",
              "\n",
              "    .dataframe tbody tr th {\n",
              "        vertical-align: top;\n",
              "    }\n",
              "\n",
              "    .dataframe thead th {\n",
              "        text-align: right;\n",
              "    }\n",
              "</style>\n",
              "<table border=\"1\" class=\"dataframe\">\n",
              "  <thead>\n",
              "    <tr style=\"text-align: right;\">\n",
              "      <th></th>\n",
              "      <th>alpha:0.07</th>\n",
              "      <th>alpha:0.1</th>\n",
              "      <th>alpha:0.5</th>\n",
              "      <th>alpha:1</th>\n",
              "      <th>alpha:3</th>\n",
              "    </tr>\n",
              "  </thead>\n",
              "  <tbody>\n",
              "    <tr>\n",
              "      <th>RM</th>\n",
              "      <td>3.555097</td>\n",
              "      <td>3.395663</td>\n",
              "      <td>1.905491</td>\n",
              "      <td>0.928048</td>\n",
              "      <td>0.000000</td>\n",
              "    </tr>\n",
              "    <tr>\n",
              "      <th>CHAS</th>\n",
              "      <td>1.334402</td>\n",
              "      <td>0.982970</td>\n",
              "      <td>0.000000</td>\n",
              "      <td>0.000000</td>\n",
              "      <td>0.000000</td>\n",
              "    </tr>\n",
              "    <tr>\n",
              "      <th>RAD</th>\n",
              "      <td>0.276643</td>\n",
              "      <td>0.281228</td>\n",
              "      <td>0.298594</td>\n",
              "      <td>0.286232</td>\n",
              "      <td>0.143885</td>\n",
              "    </tr>\n",
              "    <tr>\n",
              "      <th>ZN</th>\n",
              "      <td>0.051378</td>\n",
              "      <td>0.051876</td>\n",
              "      <td>0.054001</td>\n",
              "      <td>0.052999</td>\n",
              "      <td>0.038719</td>\n",
              "    </tr>\n",
              "    <tr>\n",
              "      <th>B</th>\n",
              "      <td>0.010039</td>\n",
              "      <td>0.009984</td>\n",
              "      <td>0.009038</td>\n",
              "      <td>0.008240</td>\n",
              "      <td>0.006952</td>\n",
              "    </tr>\n",
              "    <tr>\n",
              "      <th>AGE</th>\n",
              "      <td>-0.010211</td>\n",
              "      <td>-0.008367</td>\n",
              "      <td>0.007694</td>\n",
              "      <td>0.020390</td>\n",
              "      <td>0.043581</td>\n",
              "    </tr>\n",
              "    <tr>\n",
              "      <th>TAX</th>\n",
              "      <td>-0.014890</td>\n",
              "      <td>-0.015181</td>\n",
              "      <td>-0.016409</td>\n",
              "      <td>-0.016470</td>\n",
              "      <td>-0.011634</td>\n",
              "    </tr>\n",
              "    <tr>\n",
              "      <th>INDUS</th>\n",
              "      <td>-0.041994</td>\n",
              "      <td>-0.039810</td>\n",
              "      <td>-0.020025</td>\n",
              "      <td>-0.000000</td>\n",
              "      <td>-0.000000</td>\n",
              "    </tr>\n",
              "    <tr>\n",
              "      <th>CRIM</th>\n",
              "      <td>-0.097662</td>\n",
              "      <td>-0.097408</td>\n",
              "      <td>-0.087235</td>\n",
              "      <td>-0.071816</td>\n",
              "      <td>-0.017255</td>\n",
              "    </tr>\n",
              "    <tr>\n",
              "      <th>NOX</th>\n",
              "      <td>-0.171777</td>\n",
              "      <td>-0.000000</td>\n",
              "      <td>-0.000000</td>\n",
              "      <td>-0.000000</td>\n",
              "      <td>-0.000000</td>\n",
              "    </tr>\n",
              "    <tr>\n",
              "      <th>LSTAT</th>\n",
              "      <td>-0.580600</td>\n",
              "      <td>-0.593436</td>\n",
              "      <td>-0.699207</td>\n",
              "      <td>-0.765152</td>\n",
              "      <td>-0.804099</td>\n",
              "    </tr>\n",
              "    <tr>\n",
              "      <th>PTRATIO</th>\n",
              "      <td>-0.751118</td>\n",
              "      <td>-0.756479</td>\n",
              "      <td>-0.763943</td>\n",
              "      <td>-0.712829</td>\n",
              "      <td>-0.401507</td>\n",
              "    </tr>\n",
              "    <tr>\n",
              "      <th>DIS</th>\n",
              "      <td>-1.215388</td>\n",
              "      <td>-1.199403</td>\n",
              "      <td>-0.998871</td>\n",
              "      <td>-0.748283</td>\n",
              "      <td>-0.047186</td>\n",
              "    </tr>\n",
              "  </tbody>\n",
              "</table>\n",
              "</div>\n",
              "      <button class=\"colab-df-convert\" onclick=\"convertToInteractive('df-04e0b403-9cb6-45be-aa12-ad7e59ba4508')\"\n",
              "              title=\"Convert this dataframe to an interactive table.\"\n",
              "              style=\"display:none;\">\n",
              "        \n",
              "  <svg xmlns=\"http://www.w3.org/2000/svg\" height=\"24px\"viewBox=\"0 0 24 24\"\n",
              "       width=\"24px\">\n",
              "    <path d=\"M0 0h24v24H0V0z\" fill=\"none\"/>\n",
              "    <path d=\"M18.56 5.44l.94 2.06.94-2.06 2.06-.94-2.06-.94-.94-2.06-.94 2.06-2.06.94zm-11 1L8.5 8.5l.94-2.06 2.06-.94-2.06-.94L8.5 2.5l-.94 2.06-2.06.94zm10 10l.94 2.06.94-2.06 2.06-.94-2.06-.94-.94-2.06-.94 2.06-2.06.94z\"/><path d=\"M17.41 7.96l-1.37-1.37c-.4-.4-.92-.59-1.43-.59-.52 0-1.04.2-1.43.59L10.3 9.45l-7.72 7.72c-.78.78-.78 2.05 0 2.83L4 21.41c.39.39.9.59 1.41.59.51 0 1.02-.2 1.41-.59l7.78-7.78 2.81-2.81c.8-.78.8-2.07 0-2.86zM5.41 20L4 18.59l7.72-7.72 1.47 1.35L5.41 20z\"/>\n",
              "  </svg>\n",
              "      </button>\n",
              "      \n",
              "  <style>\n",
              "    .colab-df-container {\n",
              "      display:flex;\n",
              "      flex-wrap:wrap;\n",
              "      gap: 12px;\n",
              "    }\n",
              "\n",
              "    .colab-df-convert {\n",
              "      background-color: #E8F0FE;\n",
              "      border: none;\n",
              "      border-radius: 50%;\n",
              "      cursor: pointer;\n",
              "      display: none;\n",
              "      fill: #1967D2;\n",
              "      height: 32px;\n",
              "      padding: 0 0 0 0;\n",
              "      width: 32px;\n",
              "    }\n",
              "\n",
              "    .colab-df-convert:hover {\n",
              "      background-color: #E2EBFA;\n",
              "      box-shadow: 0px 1px 2px rgba(60, 64, 67, 0.3), 0px 1px 3px 1px rgba(60, 64, 67, 0.15);\n",
              "      fill: #174EA6;\n",
              "    }\n",
              "\n",
              "    [theme=dark] .colab-df-convert {\n",
              "      background-color: #3B4455;\n",
              "      fill: #D2E3FC;\n",
              "    }\n",
              "\n",
              "    [theme=dark] .colab-df-convert:hover {\n",
              "      background-color: #434B5C;\n",
              "      box-shadow: 0px 1px 3px 1px rgba(0, 0, 0, 0.15);\n",
              "      filter: drop-shadow(0px 1px 2px rgba(0, 0, 0, 0.3));\n",
              "      fill: #FFFFFF;\n",
              "    }\n",
              "  </style>\n",
              "\n",
              "      <script>\n",
              "        const buttonEl =\n",
              "          document.querySelector('#df-04e0b403-9cb6-45be-aa12-ad7e59ba4508 button.colab-df-convert');\n",
              "        buttonEl.style.display =\n",
              "          google.colab.kernel.accessAllowed ? 'block' : 'none';\n",
              "\n",
              "        async function convertToInteractive(key) {\n",
              "          const element = document.querySelector('#df-04e0b403-9cb6-45be-aa12-ad7e59ba4508');\n",
              "          const dataTable =\n",
              "            await google.colab.kernel.invokeFunction('convertToInteractive',\n",
              "                                                     [key], {});\n",
              "          if (!dataTable) return;\n",
              "\n",
              "          const docLinkHtml = 'Like what you see? Visit the ' +\n",
              "            '<a target=\"_blank\" href=https://colab.research.google.com/notebooks/data_table.ipynb>data table notebook</a>'\n",
              "            + ' to learn more about interactive tables.';\n",
              "          element.innerHTML = '';\n",
              "          dataTable['output_type'] = 'display_data';\n",
              "          await google.colab.output.renderOutput(dataTable, element);\n",
              "          const docLink = document.createElement('div');\n",
              "          docLink.innerHTML = docLinkHtml;\n",
              "          element.appendChild(docLink);\n",
              "        }\n",
              "      </script>\n",
              "    </div>\n",
              "  </div>\n",
              "  "
            ]
          },
          "metadata": {},
          "execution_count": 35
        }
      ]
    },
    {
      "cell_type": "markdown",
      "metadata": {
        "id": "EbaORT3jcDEZ"
      },
      "source": [
        "## 1-7. 선형 회귀 모델을 위한 데이터 변환"
      ]
    },
    {
      "cell_type": "code",
      "metadata": {
        "id": "uFd3ai1dcDEZ"
      },
      "source": [
        "from sklearn.preprocessing import StandardScaler, MinMaxScaler, PolynomialFeatures\n",
        "\n",
        "# method는 표준 정규 분포 변환(Standard), 최대값/최소값 정규화(MinMax), 로그변환(Log) 결정\n",
        "# p_degree는 다향식 특성을 추가할 때 적용. p_degree는 2이상 부여하지 않음.\n",
        "def get_scaled_data(method='None', p_degree=None, input_data=None):\n",
        "    if method == 'Standard':\n",
        "        scaled_data = StandardScaler().fit_transform(input_data)\n",
        "    elif method == 'MinMax':\n",
        "        scaled_data = MinMaxScaler().fit_transform(input_data)\n",
        "    elif method == 'Log':\n",
        "        scaled_data = np.log1p(input_data)\n",
        "    else:\n",
        "        scaled_data = input_data\n",
        "\n",
        "    if p_degree != None:\n",
        "        scaled_data = PolynomialFeatures(degree=p_degree,\n",
        "                                         include_bias=False).fit_transform(scaled_data)\n",
        "\n",
        "    return scaled_data"
      ],
      "execution_count": null,
      "outputs": []
    },
    {
      "cell_type": "code",
      "metadata": {
        "id": "rAaOnG2fcDEZ",
        "outputId": "66f1204c-8839-4153-edee-837d5c6a4f05",
        "colab": {
          "base_uri": "https://localhost:8080/"
        }
      },
      "source": [
        "# Ridge의 alpha값을 다르게 적용하고 다양한 데이터 변환방법에 따른 RMSE 추출.\n",
        "alphas = [0.1, 1, 10, 100]\n",
        "#변환 방법은 모두 6개, 원본 그대로, 표준정규분포, 표준정규분포+다항식 특성\n",
        "# 최대/최소 정규화, 최대/최소 정규화+다항식 특성, 로그변환\n",
        "# scale_methods=[(None, None), ('Standard', None), ('Standard', 2), ('MinMax', None), ('MinMax', 2)]\n",
        "scale_methods=[(None, None), ('Standard', None), ('Standard', 2), ('MinMax', None), ('MinMax', 2), ('Log', None)]\n",
        "for scale_method in scale_methods:\n",
        "    X_data_scaled = get_scaled_data(method=scale_method[0], p_degree=scale_method[1], input_data=X_data)\n",
        "    print(X_data_scaled.shape, X_data.shape)\n",
        "    print('\\n## 변환 유형:{0}, Polynomial Degree:{1}'.format(scale_method[0], scale_method[1]))\n",
        "    get_linear_reg_eval('Ridge', params=alphas, X_data_n=X_data_scaled, y_target_n=y_target, verbose=False, return_coeff=False)"
      ],
      "execution_count": null,
      "outputs": [
        {
          "output_type": "stream",
          "name": "stdout",
          "text": [
            "(506, 13) (506, 13)\n",
            "\n",
            "## 변환 유형:None, Polynomial Degree:None\n",
            "alpha 0.1일 때 5 폴드 세트의 평균 RMSE: 5.754 \n",
            "alpha 1일 때 5 폴드 세트의 평균 RMSE: 5.616 \n",
            "alpha 10일 때 5 폴드 세트의 평균 RMSE: 5.481 \n",
            "alpha 100일 때 5 폴드 세트의 평균 RMSE: 5.291 \n",
            "(506, 13) (506, 13)\n",
            "\n",
            "## 변환 유형:Standard, Polynomial Degree:None\n",
            "alpha 0.1일 때 5 폴드 세트의 평균 RMSE: 5.792 \n",
            "alpha 1일 때 5 폴드 세트의 평균 RMSE: 5.769 \n",
            "alpha 10일 때 5 폴드 세트의 평균 RMSE: 5.603 \n",
            "alpha 100일 때 5 폴드 세트의 평균 RMSE: 5.395 \n",
            "(506, 104) (506, 13)\n",
            "\n",
            "## 변환 유형:Standard, Polynomial Degree:2\n",
            "alpha 0.1일 때 5 폴드 세트의 평균 RMSE: 8.871 \n",
            "alpha 1일 때 5 폴드 세트의 평균 RMSE: 6.767 \n",
            "alpha 10일 때 5 폴드 세트의 평균 RMSE: 5.383 \n",
            "alpha 100일 때 5 폴드 세트의 평균 RMSE: 4.597 \n",
            "(506, 13) (506, 13)\n",
            "\n",
            "## 변환 유형:MinMax, Polynomial Degree:None\n",
            "alpha 0.1일 때 5 폴드 세트의 평균 RMSE: 5.730 \n",
            "alpha 1일 때 5 폴드 세트의 평균 RMSE: 5.431 \n",
            "alpha 10일 때 5 폴드 세트의 평균 RMSE: 5.731 \n",
            "alpha 100일 때 5 폴드 세트의 평균 RMSE: 7.617 \n",
            "(506, 104) (506, 13)\n",
            "\n",
            "## 변환 유형:MinMax, Polynomial Degree:2\n",
            "alpha 0.1일 때 5 폴드 세트의 평균 RMSE: 5.191 \n",
            "alpha 1일 때 5 폴드 세트의 평균 RMSE: 4.251 \n",
            "alpha 10일 때 5 폴드 세트의 평균 RMSE: 5.152 \n",
            "alpha 100일 때 5 폴드 세트의 평균 RMSE: 6.520 \n",
            "(506, 13) (506, 13)\n",
            "\n",
            "## 변환 유형:Log, Polynomial Degree:None\n",
            "alpha 0.1일 때 5 폴드 세트의 평균 RMSE: 4.706 \n",
            "alpha 1일 때 5 폴드 세트의 평균 RMSE: 4.612 \n",
            "alpha 10일 때 5 폴드 세트의 평균 RMSE: 4.772 \n",
            "alpha 100일 때 5 폴드 세트의 평균 RMSE: 6.206 \n"
          ]
        }
      ]
    },
    {
      "cell_type": "code",
      "source": [
        "X_data = bostonDF.drop(['PRICE', 'TOWN', 'LON'],axis=1,inplace=False)"
      ],
      "metadata": {
        "id": "0ATtBEamtSsW"
      },
      "execution_count": null,
      "outputs": []
    },
    {
      "cell_type": "code",
      "source": [
        "X_data"
      ],
      "metadata": {
        "colab": {
          "base_uri": "https://localhost:8080/",
          "height": 423
        },
        "id": "BHy9o1oGtxLV",
        "outputId": "23f614d2-d830-4b7b-97eb-88c5a888aaaa"
      },
      "execution_count": null,
      "outputs": [
        {
          "output_type": "execute_result",
          "data": {
            "text/plain": [
              "         LAT     CRIM    ZN  INDUS  CHAS    NOX     RM   AGE     DIS  RAD  \\\n",
              "0    42.2550  0.00632  18.0   2.31     0  0.538  6.575  65.2  4.0900    1   \n",
              "1    42.2875  0.02731   0.0   7.07     0  0.469  6.421  78.9  4.9671    2   \n",
              "2    42.2830  0.02729   0.0   7.07     0  0.469  7.185  61.1  4.9671    2   \n",
              "3    42.2930  0.03237   0.0   2.18     0  0.458  6.998  45.8  6.0622    3   \n",
              "4    42.2980  0.06905   0.0   2.18     0  0.458  7.147  54.2  6.0622    3   \n",
              "..       ...      ...   ...    ...   ...    ...    ...   ...     ...  ...   \n",
              "501  42.2312  0.06263   0.0  11.93     0  0.573  6.593  69.1  2.4786    1   \n",
              "502  42.2275  0.04527   0.0  11.93     0  0.573  6.120  76.7  2.2875    1   \n",
              "503  42.2260  0.06076   0.0  11.93     0  0.573  6.976  91.0  2.1675    1   \n",
              "504  42.2240  0.10959   0.0  11.93     0  0.573  6.794  89.3  2.3889    1   \n",
              "505  42.2210  0.04741   0.0  11.93     0  0.573  6.030  80.8  2.5050    1   \n",
              "\n",
              "     TAX  PTRATIO       B  LSTAT  \n",
              "0    296     15.3  396.90   4.98  \n",
              "1    242     17.8  396.90   9.14  \n",
              "2    242     17.8  392.83   4.03  \n",
              "3    222     18.7  394.63   2.94  \n",
              "4    222     18.7  396.90   5.33  \n",
              "..   ...      ...     ...    ...  \n",
              "501  273     21.0  391.99   9.67  \n",
              "502  273     21.0  396.90   9.08  \n",
              "503  273     21.0  396.90   5.64  \n",
              "504  273     21.0  393.45   6.48  \n",
              "505  273     21.0  396.90   7.88  \n",
              "\n",
              "[506 rows x 14 columns]"
            ],
            "text/html": [
              "\n",
              "  <div id=\"df-45622a06-476c-423e-9199-1e6f1c17a317\">\n",
              "    <div class=\"colab-df-container\">\n",
              "      <div>\n",
              "<style scoped>\n",
              "    .dataframe tbody tr th:only-of-type {\n",
              "        vertical-align: middle;\n",
              "    }\n",
              "\n",
              "    .dataframe tbody tr th {\n",
              "        vertical-align: top;\n",
              "    }\n",
              "\n",
              "    .dataframe thead th {\n",
              "        text-align: right;\n",
              "    }\n",
              "</style>\n",
              "<table border=\"1\" class=\"dataframe\">\n",
              "  <thead>\n",
              "    <tr style=\"text-align: right;\">\n",
              "      <th></th>\n",
              "      <th>LAT</th>\n",
              "      <th>CRIM</th>\n",
              "      <th>ZN</th>\n",
              "      <th>INDUS</th>\n",
              "      <th>CHAS</th>\n",
              "      <th>NOX</th>\n",
              "      <th>RM</th>\n",
              "      <th>AGE</th>\n",
              "      <th>DIS</th>\n",
              "      <th>RAD</th>\n",
              "      <th>TAX</th>\n",
              "      <th>PTRATIO</th>\n",
              "      <th>B</th>\n",
              "      <th>LSTAT</th>\n",
              "    </tr>\n",
              "  </thead>\n",
              "  <tbody>\n",
              "    <tr>\n",
              "      <th>0</th>\n",
              "      <td>42.2550</td>\n",
              "      <td>0.00632</td>\n",
              "      <td>18.0</td>\n",
              "      <td>2.31</td>\n",
              "      <td>0</td>\n",
              "      <td>0.538</td>\n",
              "      <td>6.575</td>\n",
              "      <td>65.2</td>\n",
              "      <td>4.0900</td>\n",
              "      <td>1</td>\n",
              "      <td>296</td>\n",
              "      <td>15.3</td>\n",
              "      <td>396.90</td>\n",
              "      <td>4.98</td>\n",
              "    </tr>\n",
              "    <tr>\n",
              "      <th>1</th>\n",
              "      <td>42.2875</td>\n",
              "      <td>0.02731</td>\n",
              "      <td>0.0</td>\n",
              "      <td>7.07</td>\n",
              "      <td>0</td>\n",
              "      <td>0.469</td>\n",
              "      <td>6.421</td>\n",
              "      <td>78.9</td>\n",
              "      <td>4.9671</td>\n",
              "      <td>2</td>\n",
              "      <td>242</td>\n",
              "      <td>17.8</td>\n",
              "      <td>396.90</td>\n",
              "      <td>9.14</td>\n",
              "    </tr>\n",
              "    <tr>\n",
              "      <th>2</th>\n",
              "      <td>42.2830</td>\n",
              "      <td>0.02729</td>\n",
              "      <td>0.0</td>\n",
              "      <td>7.07</td>\n",
              "      <td>0</td>\n",
              "      <td>0.469</td>\n",
              "      <td>7.185</td>\n",
              "      <td>61.1</td>\n",
              "      <td>4.9671</td>\n",
              "      <td>2</td>\n",
              "      <td>242</td>\n",
              "      <td>17.8</td>\n",
              "      <td>392.83</td>\n",
              "      <td>4.03</td>\n",
              "    </tr>\n",
              "    <tr>\n",
              "      <th>3</th>\n",
              "      <td>42.2930</td>\n",
              "      <td>0.03237</td>\n",
              "      <td>0.0</td>\n",
              "      <td>2.18</td>\n",
              "      <td>0</td>\n",
              "      <td>0.458</td>\n",
              "      <td>6.998</td>\n",
              "      <td>45.8</td>\n",
              "      <td>6.0622</td>\n",
              "      <td>3</td>\n",
              "      <td>222</td>\n",
              "      <td>18.7</td>\n",
              "      <td>394.63</td>\n",
              "      <td>2.94</td>\n",
              "    </tr>\n",
              "    <tr>\n",
              "      <th>4</th>\n",
              "      <td>42.2980</td>\n",
              "      <td>0.06905</td>\n",
              "      <td>0.0</td>\n",
              "      <td>2.18</td>\n",
              "      <td>0</td>\n",
              "      <td>0.458</td>\n",
              "      <td>7.147</td>\n",
              "      <td>54.2</td>\n",
              "      <td>6.0622</td>\n",
              "      <td>3</td>\n",
              "      <td>222</td>\n",
              "      <td>18.7</td>\n",
              "      <td>396.90</td>\n",
              "      <td>5.33</td>\n",
              "    </tr>\n",
              "    <tr>\n",
              "      <th>...</th>\n",
              "      <td>...</td>\n",
              "      <td>...</td>\n",
              "      <td>...</td>\n",
              "      <td>...</td>\n",
              "      <td>...</td>\n",
              "      <td>...</td>\n",
              "      <td>...</td>\n",
              "      <td>...</td>\n",
              "      <td>...</td>\n",
              "      <td>...</td>\n",
              "      <td>...</td>\n",
              "      <td>...</td>\n",
              "      <td>...</td>\n",
              "      <td>...</td>\n",
              "    </tr>\n",
              "    <tr>\n",
              "      <th>501</th>\n",
              "      <td>42.2312</td>\n",
              "      <td>0.06263</td>\n",
              "      <td>0.0</td>\n",
              "      <td>11.93</td>\n",
              "      <td>0</td>\n",
              "      <td>0.573</td>\n",
              "      <td>6.593</td>\n",
              "      <td>69.1</td>\n",
              "      <td>2.4786</td>\n",
              "      <td>1</td>\n",
              "      <td>273</td>\n",
              "      <td>21.0</td>\n",
              "      <td>391.99</td>\n",
              "      <td>9.67</td>\n",
              "    </tr>\n",
              "    <tr>\n",
              "      <th>502</th>\n",
              "      <td>42.2275</td>\n",
              "      <td>0.04527</td>\n",
              "      <td>0.0</td>\n",
              "      <td>11.93</td>\n",
              "      <td>0</td>\n",
              "      <td>0.573</td>\n",
              "      <td>6.120</td>\n",
              "      <td>76.7</td>\n",
              "      <td>2.2875</td>\n",
              "      <td>1</td>\n",
              "      <td>273</td>\n",
              "      <td>21.0</td>\n",
              "      <td>396.90</td>\n",
              "      <td>9.08</td>\n",
              "    </tr>\n",
              "    <tr>\n",
              "      <th>503</th>\n",
              "      <td>42.2260</td>\n",
              "      <td>0.06076</td>\n",
              "      <td>0.0</td>\n",
              "      <td>11.93</td>\n",
              "      <td>0</td>\n",
              "      <td>0.573</td>\n",
              "      <td>6.976</td>\n",
              "      <td>91.0</td>\n",
              "      <td>2.1675</td>\n",
              "      <td>1</td>\n",
              "      <td>273</td>\n",
              "      <td>21.0</td>\n",
              "      <td>396.90</td>\n",
              "      <td>5.64</td>\n",
              "    </tr>\n",
              "    <tr>\n",
              "      <th>504</th>\n",
              "      <td>42.2240</td>\n",
              "      <td>0.10959</td>\n",
              "      <td>0.0</td>\n",
              "      <td>11.93</td>\n",
              "      <td>0</td>\n",
              "      <td>0.573</td>\n",
              "      <td>6.794</td>\n",
              "      <td>89.3</td>\n",
              "      <td>2.3889</td>\n",
              "      <td>1</td>\n",
              "      <td>273</td>\n",
              "      <td>21.0</td>\n",
              "      <td>393.45</td>\n",
              "      <td>6.48</td>\n",
              "    </tr>\n",
              "    <tr>\n",
              "      <th>505</th>\n",
              "      <td>42.2210</td>\n",
              "      <td>0.04741</td>\n",
              "      <td>0.0</td>\n",
              "      <td>11.93</td>\n",
              "      <td>0</td>\n",
              "      <td>0.573</td>\n",
              "      <td>6.030</td>\n",
              "      <td>80.8</td>\n",
              "      <td>2.5050</td>\n",
              "      <td>1</td>\n",
              "      <td>273</td>\n",
              "      <td>21.0</td>\n",
              "      <td>396.90</td>\n",
              "      <td>7.88</td>\n",
              "    </tr>\n",
              "  </tbody>\n",
              "</table>\n",
              "<p>506 rows × 14 columns</p>\n",
              "</div>\n",
              "      <button class=\"colab-df-convert\" onclick=\"convertToInteractive('df-45622a06-476c-423e-9199-1e6f1c17a317')\"\n",
              "              title=\"Convert this dataframe to an interactive table.\"\n",
              "              style=\"display:none;\">\n",
              "        \n",
              "  <svg xmlns=\"http://www.w3.org/2000/svg\" height=\"24px\"viewBox=\"0 0 24 24\"\n",
              "       width=\"24px\">\n",
              "    <path d=\"M0 0h24v24H0V0z\" fill=\"none\"/>\n",
              "    <path d=\"M18.56 5.44l.94 2.06.94-2.06 2.06-.94-2.06-.94-.94-2.06-.94 2.06-2.06.94zm-11 1L8.5 8.5l.94-2.06 2.06-.94-2.06-.94L8.5 2.5l-.94 2.06-2.06.94zm10 10l.94 2.06.94-2.06 2.06-.94-2.06-.94-.94-2.06-.94 2.06-2.06.94z\"/><path d=\"M17.41 7.96l-1.37-1.37c-.4-.4-.92-.59-1.43-.59-.52 0-1.04.2-1.43.59L10.3 9.45l-7.72 7.72c-.78.78-.78 2.05 0 2.83L4 21.41c.39.39.9.59 1.41.59.51 0 1.02-.2 1.41-.59l7.78-7.78 2.81-2.81c.8-.78.8-2.07 0-2.86zM5.41 20L4 18.59l7.72-7.72 1.47 1.35L5.41 20z\"/>\n",
              "  </svg>\n",
              "      </button>\n",
              "      \n",
              "  <style>\n",
              "    .colab-df-container {\n",
              "      display:flex;\n",
              "      flex-wrap:wrap;\n",
              "      gap: 12px;\n",
              "    }\n",
              "\n",
              "    .colab-df-convert {\n",
              "      background-color: #E8F0FE;\n",
              "      border: none;\n",
              "      border-radius: 50%;\n",
              "      cursor: pointer;\n",
              "      display: none;\n",
              "      fill: #1967D2;\n",
              "      height: 32px;\n",
              "      padding: 0 0 0 0;\n",
              "      width: 32px;\n",
              "    }\n",
              "\n",
              "    .colab-df-convert:hover {\n",
              "      background-color: #E2EBFA;\n",
              "      box-shadow: 0px 1px 2px rgba(60, 64, 67, 0.3), 0px 1px 3px 1px rgba(60, 64, 67, 0.15);\n",
              "      fill: #174EA6;\n",
              "    }\n",
              "\n",
              "    [theme=dark] .colab-df-convert {\n",
              "      background-color: #3B4455;\n",
              "      fill: #D2E3FC;\n",
              "    }\n",
              "\n",
              "    [theme=dark] .colab-df-convert:hover {\n",
              "      background-color: #434B5C;\n",
              "      box-shadow: 0px 1px 3px 1px rgba(0, 0, 0, 0.15);\n",
              "      filter: drop-shadow(0px 1px 2px rgba(0, 0, 0, 0.3));\n",
              "      fill: #FFFFFF;\n",
              "    }\n",
              "  </style>\n",
              "\n",
              "      <script>\n",
              "        const buttonEl =\n",
              "          document.querySelector('#df-45622a06-476c-423e-9199-1e6f1c17a317 button.colab-df-convert');\n",
              "        buttonEl.style.display =\n",
              "          google.colab.kernel.accessAllowed ? 'block' : 'none';\n",
              "\n",
              "        async function convertToInteractive(key) {\n",
              "          const element = document.querySelector('#df-45622a06-476c-423e-9199-1e6f1c17a317');\n",
              "          const dataTable =\n",
              "            await google.colab.kernel.invokeFunction('convertToInteractive',\n",
              "                                                     [key], {});\n",
              "          if (!dataTable) return;\n",
              "\n",
              "          const docLinkHtml = 'Like what you see? Visit the ' +\n",
              "            '<a target=\"_blank\" href=https://colab.research.google.com/notebooks/data_table.ipynb>data table notebook</a>'\n",
              "            + ' to learn more about interactive tables.';\n",
              "          element.innerHTML = '';\n",
              "          dataTable['output_type'] = 'display_data';\n",
              "          await google.colab.output.renderOutput(dataTable, element);\n",
              "          const docLink = document.createElement('div');\n",
              "          docLink.innerHTML = docLinkHtml;\n",
              "          element.appendChild(docLink);\n",
              "        }\n",
              "      </script>\n",
              "    </div>\n",
              "  </div>\n",
              "  "
            ]
          },
          "metadata": {},
          "execution_count": 238
        }
      ]
    },
    {
      "cell_type": "code",
      "source": [
        "scaled_data = np.log1p(X_data)"
      ],
      "metadata": {
        "id": "Yq6VLjf0sBan"
      },
      "execution_count": null,
      "outputs": []
    },
    {
      "cell_type": "code",
      "source": [
        "bostonDF.describe()"
      ],
      "metadata": {
        "colab": {
          "base_uri": "https://localhost:8080/",
          "height": 300
        },
        "id": "89bT_4bHuDMe",
        "outputId": "b20ab305-dc67-4725-82ee-32ddb81ef174"
      },
      "execution_count": null,
      "outputs": [
        {
          "output_type": "execute_result",
          "data": {
            "text/plain": [
              "              LON         LAT       PRICE        CRIM          ZN       INDUS  \\\n",
              "count  506.000000  506.000000  506.000000  506.000000  506.000000  506.000000   \n",
              "mean   -71.056389   42.216440   22.528854    3.613524   11.363636   11.136779   \n",
              "std      0.075405    0.061777    9.182176    8.601545   23.322453    6.860353   \n",
              "min    -71.289500   42.030000    5.000000    0.006320    0.000000    0.460000   \n",
              "25%    -71.093225   42.180775   17.025000    0.082045    0.000000    5.190000   \n",
              "50%    -71.052900   42.218100   21.200000    0.256510    0.000000    9.690000   \n",
              "75%    -71.019625   42.252250   25.000000    3.677083   12.500000   18.100000   \n",
              "max    -70.810000   42.381000   50.000000   88.976200  100.000000   27.740000   \n",
              "\n",
              "             CHAS         NOX          RM         AGE         DIS         RAD  \\\n",
              "count  506.000000  506.000000  506.000000  506.000000  506.000000  506.000000   \n",
              "mean     0.069170    0.554695    6.284634   68.574901    3.795043    9.549407   \n",
              "std      0.253994    0.115878    0.702617   28.148861    2.105710    8.707259   \n",
              "min      0.000000    0.385000    3.561000    2.900000    1.129600    1.000000   \n",
              "25%      0.000000    0.449000    5.885500   45.025000    2.100175    4.000000   \n",
              "50%      0.000000    0.538000    6.208500   77.500000    3.207450    5.000000   \n",
              "75%      0.000000    0.624000    6.623500   94.075000    5.188425   24.000000   \n",
              "max      1.000000    0.871000    8.780000  100.000000   12.126500   24.000000   \n",
              "\n",
              "              TAX     PTRATIO           B       LSTAT  \n",
              "count  506.000000  506.000000  506.000000  506.000000  \n",
              "mean   408.237154   18.455534  356.674032   12.653063  \n",
              "std    168.537116    2.164946   91.294864    7.141062  \n",
              "min    187.000000   12.600000    0.320000    1.730000  \n",
              "25%    279.000000   17.400000  375.377500    6.950000  \n",
              "50%    330.000000   19.050000  391.440000   11.360000  \n",
              "75%    666.000000   20.200000  396.225000   16.955000  \n",
              "max    711.000000   22.000000  396.900000   37.970000  "
            ],
            "text/html": [
              "\n",
              "  <div id=\"df-df2a6b7a-074c-45b8-8fe3-d3042706f25e\">\n",
              "    <div class=\"colab-df-container\">\n",
              "      <div>\n",
              "<style scoped>\n",
              "    .dataframe tbody tr th:only-of-type {\n",
              "        vertical-align: middle;\n",
              "    }\n",
              "\n",
              "    .dataframe tbody tr th {\n",
              "        vertical-align: top;\n",
              "    }\n",
              "\n",
              "    .dataframe thead th {\n",
              "        text-align: right;\n",
              "    }\n",
              "</style>\n",
              "<table border=\"1\" class=\"dataframe\">\n",
              "  <thead>\n",
              "    <tr style=\"text-align: right;\">\n",
              "      <th></th>\n",
              "      <th>LON</th>\n",
              "      <th>LAT</th>\n",
              "      <th>PRICE</th>\n",
              "      <th>CRIM</th>\n",
              "      <th>ZN</th>\n",
              "      <th>INDUS</th>\n",
              "      <th>CHAS</th>\n",
              "      <th>NOX</th>\n",
              "      <th>RM</th>\n",
              "      <th>AGE</th>\n",
              "      <th>DIS</th>\n",
              "      <th>RAD</th>\n",
              "      <th>TAX</th>\n",
              "      <th>PTRATIO</th>\n",
              "      <th>B</th>\n",
              "      <th>LSTAT</th>\n",
              "    </tr>\n",
              "  </thead>\n",
              "  <tbody>\n",
              "    <tr>\n",
              "      <th>count</th>\n",
              "      <td>506.000000</td>\n",
              "      <td>506.000000</td>\n",
              "      <td>506.000000</td>\n",
              "      <td>506.000000</td>\n",
              "      <td>506.000000</td>\n",
              "      <td>506.000000</td>\n",
              "      <td>506.000000</td>\n",
              "      <td>506.000000</td>\n",
              "      <td>506.000000</td>\n",
              "      <td>506.000000</td>\n",
              "      <td>506.000000</td>\n",
              "      <td>506.000000</td>\n",
              "      <td>506.000000</td>\n",
              "      <td>506.000000</td>\n",
              "      <td>506.000000</td>\n",
              "      <td>506.000000</td>\n",
              "    </tr>\n",
              "    <tr>\n",
              "      <th>mean</th>\n",
              "      <td>-71.056389</td>\n",
              "      <td>42.216440</td>\n",
              "      <td>22.528854</td>\n",
              "      <td>3.613524</td>\n",
              "      <td>11.363636</td>\n",
              "      <td>11.136779</td>\n",
              "      <td>0.069170</td>\n",
              "      <td>0.554695</td>\n",
              "      <td>6.284634</td>\n",
              "      <td>68.574901</td>\n",
              "      <td>3.795043</td>\n",
              "      <td>9.549407</td>\n",
              "      <td>408.237154</td>\n",
              "      <td>18.455534</td>\n",
              "      <td>356.674032</td>\n",
              "      <td>12.653063</td>\n",
              "    </tr>\n",
              "    <tr>\n",
              "      <th>std</th>\n",
              "      <td>0.075405</td>\n",
              "      <td>0.061777</td>\n",
              "      <td>9.182176</td>\n",
              "      <td>8.601545</td>\n",
              "      <td>23.322453</td>\n",
              "      <td>6.860353</td>\n",
              "      <td>0.253994</td>\n",
              "      <td>0.115878</td>\n",
              "      <td>0.702617</td>\n",
              "      <td>28.148861</td>\n",
              "      <td>2.105710</td>\n",
              "      <td>8.707259</td>\n",
              "      <td>168.537116</td>\n",
              "      <td>2.164946</td>\n",
              "      <td>91.294864</td>\n",
              "      <td>7.141062</td>\n",
              "    </tr>\n",
              "    <tr>\n",
              "      <th>min</th>\n",
              "      <td>-71.289500</td>\n",
              "      <td>42.030000</td>\n",
              "      <td>5.000000</td>\n",
              "      <td>0.006320</td>\n",
              "      <td>0.000000</td>\n",
              "      <td>0.460000</td>\n",
              "      <td>0.000000</td>\n",
              "      <td>0.385000</td>\n",
              "      <td>3.561000</td>\n",
              "      <td>2.900000</td>\n",
              "      <td>1.129600</td>\n",
              "      <td>1.000000</td>\n",
              "      <td>187.000000</td>\n",
              "      <td>12.600000</td>\n",
              "      <td>0.320000</td>\n",
              "      <td>1.730000</td>\n",
              "    </tr>\n",
              "    <tr>\n",
              "      <th>25%</th>\n",
              "      <td>-71.093225</td>\n",
              "      <td>42.180775</td>\n",
              "      <td>17.025000</td>\n",
              "      <td>0.082045</td>\n",
              "      <td>0.000000</td>\n",
              "      <td>5.190000</td>\n",
              "      <td>0.000000</td>\n",
              "      <td>0.449000</td>\n",
              "      <td>5.885500</td>\n",
              "      <td>45.025000</td>\n",
              "      <td>2.100175</td>\n",
              "      <td>4.000000</td>\n",
              "      <td>279.000000</td>\n",
              "      <td>17.400000</td>\n",
              "      <td>375.377500</td>\n",
              "      <td>6.950000</td>\n",
              "    </tr>\n",
              "    <tr>\n",
              "      <th>50%</th>\n",
              "      <td>-71.052900</td>\n",
              "      <td>42.218100</td>\n",
              "      <td>21.200000</td>\n",
              "      <td>0.256510</td>\n",
              "      <td>0.000000</td>\n",
              "      <td>9.690000</td>\n",
              "      <td>0.000000</td>\n",
              "      <td>0.538000</td>\n",
              "      <td>6.208500</td>\n",
              "      <td>77.500000</td>\n",
              "      <td>3.207450</td>\n",
              "      <td>5.000000</td>\n",
              "      <td>330.000000</td>\n",
              "      <td>19.050000</td>\n",
              "      <td>391.440000</td>\n",
              "      <td>11.360000</td>\n",
              "    </tr>\n",
              "    <tr>\n",
              "      <th>75%</th>\n",
              "      <td>-71.019625</td>\n",
              "      <td>42.252250</td>\n",
              "      <td>25.000000</td>\n",
              "      <td>3.677083</td>\n",
              "      <td>12.500000</td>\n",
              "      <td>18.100000</td>\n",
              "      <td>0.000000</td>\n",
              "      <td>0.624000</td>\n",
              "      <td>6.623500</td>\n",
              "      <td>94.075000</td>\n",
              "      <td>5.188425</td>\n",
              "      <td>24.000000</td>\n",
              "      <td>666.000000</td>\n",
              "      <td>20.200000</td>\n",
              "      <td>396.225000</td>\n",
              "      <td>16.955000</td>\n",
              "    </tr>\n",
              "    <tr>\n",
              "      <th>max</th>\n",
              "      <td>-70.810000</td>\n",
              "      <td>42.381000</td>\n",
              "      <td>50.000000</td>\n",
              "      <td>88.976200</td>\n",
              "      <td>100.000000</td>\n",
              "      <td>27.740000</td>\n",
              "      <td>1.000000</td>\n",
              "      <td>0.871000</td>\n",
              "      <td>8.780000</td>\n",
              "      <td>100.000000</td>\n",
              "      <td>12.126500</td>\n",
              "      <td>24.000000</td>\n",
              "      <td>711.000000</td>\n",
              "      <td>22.000000</td>\n",
              "      <td>396.900000</td>\n",
              "      <td>37.970000</td>\n",
              "    </tr>\n",
              "  </tbody>\n",
              "</table>\n",
              "</div>\n",
              "      <button class=\"colab-df-convert\" onclick=\"convertToInteractive('df-df2a6b7a-074c-45b8-8fe3-d3042706f25e')\"\n",
              "              title=\"Convert this dataframe to an interactive table.\"\n",
              "              style=\"display:none;\">\n",
              "        \n",
              "  <svg xmlns=\"http://www.w3.org/2000/svg\" height=\"24px\"viewBox=\"0 0 24 24\"\n",
              "       width=\"24px\">\n",
              "    <path d=\"M0 0h24v24H0V0z\" fill=\"none\"/>\n",
              "    <path d=\"M18.56 5.44l.94 2.06.94-2.06 2.06-.94-2.06-.94-.94-2.06-.94 2.06-2.06.94zm-11 1L8.5 8.5l.94-2.06 2.06-.94-2.06-.94L8.5 2.5l-.94 2.06-2.06.94zm10 10l.94 2.06.94-2.06 2.06-.94-2.06-.94-.94-2.06-.94 2.06-2.06.94z\"/><path d=\"M17.41 7.96l-1.37-1.37c-.4-.4-.92-.59-1.43-.59-.52 0-1.04.2-1.43.59L10.3 9.45l-7.72 7.72c-.78.78-.78 2.05 0 2.83L4 21.41c.39.39.9.59 1.41.59.51 0 1.02-.2 1.41-.59l7.78-7.78 2.81-2.81c.8-.78.8-2.07 0-2.86zM5.41 20L4 18.59l7.72-7.72 1.47 1.35L5.41 20z\"/>\n",
              "  </svg>\n",
              "      </button>\n",
              "      \n",
              "  <style>\n",
              "    .colab-df-container {\n",
              "      display:flex;\n",
              "      flex-wrap:wrap;\n",
              "      gap: 12px;\n",
              "    }\n",
              "\n",
              "    .colab-df-convert {\n",
              "      background-color: #E8F0FE;\n",
              "      border: none;\n",
              "      border-radius: 50%;\n",
              "      cursor: pointer;\n",
              "      display: none;\n",
              "      fill: #1967D2;\n",
              "      height: 32px;\n",
              "      padding: 0 0 0 0;\n",
              "      width: 32px;\n",
              "    }\n",
              "\n",
              "    .colab-df-convert:hover {\n",
              "      background-color: #E2EBFA;\n",
              "      box-shadow: 0px 1px 2px rgba(60, 64, 67, 0.3), 0px 1px 3px 1px rgba(60, 64, 67, 0.15);\n",
              "      fill: #174EA6;\n",
              "    }\n",
              "\n",
              "    [theme=dark] .colab-df-convert {\n",
              "      background-color: #3B4455;\n",
              "      fill: #D2E3FC;\n",
              "    }\n",
              "\n",
              "    [theme=dark] .colab-df-convert:hover {\n",
              "      background-color: #434B5C;\n",
              "      box-shadow: 0px 1px 3px 1px rgba(0, 0, 0, 0.15);\n",
              "      filter: drop-shadow(0px 1px 2px rgba(0, 0, 0, 0.3));\n",
              "      fill: #FFFFFF;\n",
              "    }\n",
              "  </style>\n",
              "\n",
              "      <script>\n",
              "        const buttonEl =\n",
              "          document.querySelector('#df-df2a6b7a-074c-45b8-8fe3-d3042706f25e button.colab-df-convert');\n",
              "        buttonEl.style.display =\n",
              "          google.colab.kernel.accessAllowed ? 'block' : 'none';\n",
              "\n",
              "        async function convertToInteractive(key) {\n",
              "          const element = document.querySelector('#df-df2a6b7a-074c-45b8-8fe3-d3042706f25e');\n",
              "          const dataTable =\n",
              "            await google.colab.kernel.invokeFunction('convertToInteractive',\n",
              "                                                     [key], {});\n",
              "          if (!dataTable) return;\n",
              "\n",
              "          const docLinkHtml = 'Like what you see? Visit the ' +\n",
              "            '<a target=\"_blank\" href=https://colab.research.google.com/notebooks/data_table.ipynb>data table notebook</a>'\n",
              "            + ' to learn more about interactive tables.';\n",
              "          element.innerHTML = '';\n",
              "          dataTable['output_type'] = 'display_data';\n",
              "          await google.colab.output.renderOutput(dataTable, element);\n",
              "          const docLink = document.createElement('div');\n",
              "          docLink.innerHTML = docLinkHtml;\n",
              "          element.appendChild(docLink);\n",
              "        }\n",
              "      </script>\n",
              "    </div>\n",
              "  </div>\n",
              "  "
            ]
          },
          "metadata": {},
          "execution_count": 240
        }
      ]
    },
    {
      "cell_type": "markdown",
      "source": [
        "## 1-8. 비용 최소화 하기"
      ],
      "metadata": {
        "id": "ViRGjCW80O2m"
      }
    },
    {
      "cell_type": "markdown",
      "source": [
        "### 1-8-1. 경사하강법(Gradient Descent) 소개"
      ],
      "metadata": {
        "id": "S8pqT_Sy0vVK"
      }
    },
    {
      "cell_type": "markdown",
      "source": [
        "- 비용함수가 최소가 되는 W 파라미터를 구하려면?\n",
        "  - W 파라미터의 수가 적으면 고차원 방정식으로 비용함수가 최소가 되는 W 변수값을 도출 가능하지만... (머신러닝에서는 W 파라미터가 매우 많음)\n",
        "  - W 파라미터의 수가 많으면 고차원 방정식으로 해결하기 어려움\n",
        "  - 경사하강법 적용"
      ],
      "metadata": {
        "id": "yvWFx8at0YUC"
      }
    },
    {
      "cell_type": "markdown",
      "source": [
        "- 경사 하강법\n",
        "  - 고차원 방정식에 대한 문제를 해결해 주면서 비용함수 RSS를 최소화하는 방법을 직관적으로 제공하는 방법\n",
        "  - '데이터를 기반으로 할고리즘이 스스로 학습한다'는 머신러닝의 개념을 가능하게 만들어 준 핵심 기법의 하나\n",
        "  - '점진적으로' 반복적인 계산을 통해 W 파라미터 값을 업데이터하면서 오류 값이 최소가 되는 W 파라미터를 구하는 방식\n",
        "  - 반복적으로 비용함수의 반환값, 즉 예측값과 실제 값의 차이가 작아지는 방향성을 가지고 W 파라미터를 지속해서 보정해 나가는 모델\n",
        "  - **경사하강법의 핵심**은?\n",
        "    - 어떻게 하면 오류가 작아지는 방향으로 W 값을 보정할 수 있을까?\n",
        "    - 하늘을 향해 공을 던질 경우, 가속도가 점점 줄어들다가 0이 되고 다시 (-)로 바뀌는데 이런 가속도의값은 속도의 미분으로 구할 수 있음\n",
        "    - 비용함수가 2차함수 형태의 포물선일 경우, 최초 w에서부터 미분을 적용한 후, 미분 값이 계속 감소하는 방향으로 순차적으로 w를 업데이트 하고, 더 이상 미분된 1차함수의 기울기가 감소하지 않는 지점을 비용함수가 최소인 지점으로 간주하여 그 때의 w를 반환함"
      ],
      "metadata": {
        "id": "cDgB6Urb0YJ8"
      }
    },
    {
      "cell_type": "markdown",
      "source": [
        "- 알고리즘 확인\n",
        "  - 편의상 $RSS(w_0, w_1) = R(w)$로 지칭\n",
        "  - $R(w)$는 변수가 w 파라미터로 이루어진 함수\n",
        "  - $R(w) = {1 \\over N} \\sum_{i=1}^N (y_i - (w_0 + w_1 * x_i ))^2$\n",
        "  - $R(w)$를 미분해서 미분 함수의 최솟값을 구해야 하지만 $R(w)$는 두 개의 w 파라미터를 가지고 있으므로 $w_0, w_1$의 각 변수에 편미분을 적용해야 함\n",
        "  - $R(w)$를 최소화하는  $w_0, w_1$의 값은 각각의 $R(w)$를 $w_0, w_1$으로 순차적으로 편미분을 수행하여 얻을 수 있음\n",
        "<br><br>\n",
        "  - 편미분의 결과\n",
        "    - ${\\partial R(w) \\over \\partial w_1}={2 \\over N}\\sum_{i=1}^N -x_i (y_i - (w_0 + w_1 x_i ))=-{2 \\over N}\\sum_{i=1}^N x_i (실제값_i - 예측값_i)$\n",
        "    - ${\\partial R(w) \\over \\partial w_0}={2 \\over N}\\sum_{i=1}^N -(y_i - (w_0 + w_1 x_i ))=-{2 \\over N}\\sum_{i=1}^N (실제값_i - 예측값_i)$\n",
        "<br><br>\n",
        "  - 여기서 $w_0, w_1$ 의 편미분의 결과값인 ${2 \\over N}\\sum_{i=1}^N x_i (실제값_i - 예측값_i)$와 $-{2 \\over N}\\sum_{i=1}^N (실제값_i - 예측값_i)$를 반복적으로 보정하면서 $w_0, w_1$ 깂을 업데이트하면 $R(w)$가 최소가 되는 $w_0, w_1$의 값을 구할 수 있음\n",
        "  - 업데이트는 새로운 $w_1$을 이전 $w_1$에서 편미분한 결과값을 마이너스(-)하면서 적용함\n",
        "  - 즉 $new.w_1 = old.w_1 - (- {2 \\over N}\\sum_{i=1}^N x_i(실제값_i - 예측값_i))$\n",
        "  - 편미분 값의 너무 클 수 있기 때문에 보정 계수 $\\eta$를 곱해주는데 이를 '학습률'이라고 함"
      ],
      "metadata": {
        "id": "MSwp53rQ0X_v"
      }
    },
    {
      "cell_type": "markdown",
      "metadata": {
        "id": "KAlo-HRDcXh3"
      },
      "source": [
        "### 1-8-2. [실습] 비용 최소화 하기"
      ]
    },
    {
      "cell_type": "markdown",
      "metadata": {
        "id": "I5MHRgTjcukI"
      },
      "source": [
        "- 실제값을 $Y=4X + 6$을 기준으로 시뮬레이션 하는 데이터 생성"
      ]
    },
    {
      "cell_type": "code",
      "metadata": {
        "colab": {
          "base_uri": "https://localhost:8080/",
          "height": 449
        },
        "id": "RtB055lsKDkI",
        "outputId": "451611fb-45ef-4a8a-b4ad-831681436552"
      },
      "source": [
        "import numpy as np\n",
        "import matplotlib.pyplot as plt\n",
        "\n",
        "np.random.seed(0)\n",
        "# y = 4X + 6 식을 근사(w1=4, w0=6). random 값은 Noise를 위해 만듬\n",
        "X = 2 * np.random.rand(100,1)\n",
        "y = 6 +4 * X+ np.random.randn(100,1)\n",
        "\n",
        "# X, y 데이터 셋 scatter plot으로 시각화\n",
        "plt.scatter(X, y)"
      ],
      "execution_count": null,
      "outputs": [
        {
          "output_type": "execute_result",
          "data": {
            "text/plain": [
              "<matplotlib.collections.PathCollection at 0x7fcd2de71600>"
            ]
          },
          "metadata": {},
          "execution_count": 241
        },
        {
          "output_type": "display_data",
          "data": {
            "text/plain": [
              "<Figure size 640x480 with 1 Axes>"
            ],
            "image/png": "[encoded data removed]"
          },
          "metadata": {}
        }
      ]
    },
    {
      "cell_type": "code",
      "metadata": {
        "colab": {
          "base_uri": "https://localhost:8080/"
        },
        "id": "deUr3d2Vc-ho",
        "outputId": "514ab5a9-627c-4288-983b-594a65ad1ddb"
      },
      "source": [
        "X.shape, y.shape"
      ],
      "execution_count": null,
      "outputs": [
        {
          "output_type": "execute_result",
          "data": {
            "text/plain": [
              "((100, 1), (100, 1))"
            ]
          },
          "metadata": {},
          "execution_count": 242
        }
      ]
    },
    {
      "cell_type": "markdown",
      "metadata": {
        "id": "tOFcjpz8cDEM"
      },
      "source": [
        "- $w_0$과 $w_1$의 값을 최소화 할 수 있도록 업데이트 수행하는 함수 생성\n",
        "  - 예측 배열 y_pred는 np.dot(X, w1.T) + $w_0$ 임\n",
        "  - 100개의 데이터 X(1,2,...,100)이 있다면 예측값은 $w_0 + w_1X_1 + w_1X_2 +..+ w_1X_{100}$이며, 이는 입력 배열 X와 w1 배열의 내적임.\n",
        "  - 새로운 $w_1$과 $w_0$를 update함"
      ]
    },
    {
      "cell_type": "code",
      "metadata": {
        "id": "DjuDeiB7cDEM"
      },
      "source": [
        "# w1 과 w0 를 업데이트 할 w1_update, w0_update를 반환.\n",
        "def get_weight_updates(w1, w0, X, y, learning_rate=0.01):\n",
        "    N = len(y)\n",
        "    # 먼저 w1_update, w0_update를 각각 w1, w0의 shape와 동일한 크기를 가진 0 값으로 초기화\n",
        "    w1_update = np.zeros_like(w1)\n",
        "    w0_update = np.zeros_like(w0)\n",
        "    # 예측 배열 계산하고 예측과 실제 값의 차이 계산\n",
        "    y_pred = np.dot(X, w1.T) + w0\n",
        "    diff = y-y_pred\n",
        "\n",
        "    # w0_update를 dot 행렬 연산으로 구하기 위해 모두 1값을 가진 행렬 생성\n",
        "    w0_factors = np.ones((N,1))\n",
        "\n",
        "    # w1과 w0을 업데이트할 w1_update와 w0_update 계산\n",
        "    w1_update = -(2/N)*learning_rate*(np.dot(X.T, diff))\n",
        "    w0_update = -(2/N)*learning_rate*(np.dot(w0_factors.T, diff))\n",
        "\n",
        "    return w1_update, w0_update"
      ],
      "execution_count": null,
      "outputs": []
    },
    {
      "cell_type": "code",
      "metadata": {
        "id": "RnhR-45ycDEM",
        "colab": {
          "base_uri": "https://localhost:8080/"
        },
        "outputId": "ed18b7b0-71dd-4234-cb3c-a553befdbb9c"
      },
      "source": [
        "w0 = np.zeros((1,1))\n",
        "w1 = np.zeros((1,1))\n",
        "y_pred = np.dot(X, w1.T) + w0\n",
        "diff = y-y_pred\n",
        "print(diff.shape)\n",
        "w0_factors = np.ones((100,1))\n",
        "w1_update = -(2/100)*0.01*(np.dot(X.T, diff))\n",
        "w0_update = -(2/100)*0.01*(np.dot(w0_factors.T, diff))\n",
        "print(w1_update.shape, w0_update.shape)\n",
        "w1, w0"
      ],
      "execution_count": null,
      "outputs": [
        {
          "output_type": "stream",
          "name": "stdout",
          "text": [
            "(100, 1)\n",
            "(1, 1) (1, 1)\n"
          ]
        },
        {
          "output_type": "execute_result",
          "data": {
            "text/plain": [
              "(array([[0.]]), array([[0.]]))"
            ]
          },
          "metadata": {},
          "execution_count": 244
        }
      ]
    },
    {
      "cell_type": "markdown",
      "metadata": {
        "id": "qLC2OSIVcDEN"
      },
      "source": [
        "- 반복적으로 경사 하강법을 이용하여 get_weigth_updates()를 호출하여 w1과 w0를 업데이트 하는 함수 생성"
      ]
    },
    {
      "cell_type": "code",
      "metadata": {
        "id": "mYkSc24McDEN"
      },
      "source": [
        "# 입력 인자 iters로 주어진 횟수만큼 반복적으로 w1과 w0를 업데이트 적용함.\n",
        "def gradient_descent_steps(X, y, iters=10000):\n",
        "    # w0와 w1을 모두 0으로 초기화.\n",
        "    w0 = np.zeros((1,1))\n",
        "    w1 = np.zeros((1,1))\n",
        "\n",
        "    # 인자로 주어진 iters 만큼 반복적으로 get_weight_updates() 호출하여 w1, w0 업데이트 수행.\n",
        "    for ind in range(iters):\n",
        "        w1_update, w0_update = get_weight_updates(w1, w0, X, y, learning_rate=0.01)\n",
        "        w1 = w1 - w1_update\n",
        "        w0 = w0 - w0_update\n",
        "\n",
        "    return w1, w0"
      ],
      "execution_count": null,
      "outputs": []
    },
    {
      "cell_type": "markdown",
      "metadata": {
        "id": "73mIFV4ZcDEN"
      },
      "source": [
        "- 예측 오차 비용을 계산을 수행하는 함수 생성 및 경사 하강법 수행"
      ]
    },
    {
      "cell_type": "code",
      "metadata": {
        "id": "_yk71X_ocDEN",
        "colab": {
          "base_uri": "https://localhost:8080/"
        },
        "outputId": "a92216e4-9b32-4d85-a45b-71fd42e2bdc1"
      },
      "source": [
        "def get_cost(y, y_pred):\n",
        "    N = len(y)\n",
        "    cost = np.sum(np.square(y - y_pred))/N\n",
        "    return cost\n",
        "\n",
        "w1, w0 = gradient_descent_steps(X, y, iters=1000)\n",
        "print(\"w1:{0:.3f} w0:{1:.3f}\".format(w1[0,0], w0[0,0]))\n",
        "y_pred = w1[0,0] * X + w0\n",
        "print('Gradient Descent Total Cost:{0:.4f}'.format(get_cost(y, y_pred)))"
      ],
      "execution_count": null,
      "outputs": [
        {
          "output_type": "stream",
          "name": "stdout",
          "text": [
            "w1:4.022 w0:6.162\n",
            "Gradient Descent Total Cost:0.9935\n"
          ]
        }
      ]
    },
    {
      "cell_type": "code",
      "metadata": {
        "id": "hpPPOyQocDEO",
        "colab": {
          "base_uri": "https://localhost:8080/",
          "height": 449
        },
        "outputId": "54348689-1008-4e09-f4c2-8616eb94634d"
      },
      "source": [
        "plt.scatter(X, y)\n",
        "plt.plot(X,y_pred)"
      ],
      "execution_count": null,
      "outputs": [
        {
          "output_type": "execute_result",
          "data": {
            "text/plain": [
              "[<matplotlib.lines.Line2D at 0x7fcd2b725210>]"
            ]
          },
          "metadata": {},
          "execution_count": 247
        },
        {
          "output_type": "display_data",
          "data": {
            "text/plain": [
              "<Figure size 640x480 with 1 Axes>"
            ],
            "image/png": "[encoded data removed]"
          },
          "metadata": {}
        }
      ]
    },
    {
      "cell_type": "markdown",
      "metadata": {
        "id": "sahdeCNZcDEO"
      },
      "source": [
        "- 미니 배치 확률적 경사 하강법을 이용한 최적 비용함수 도출"
      ]
    },
    {
      "cell_type": "code",
      "metadata": {
        "id": "-kgWL9aPcDEO"
      },
      "source": [
        "def stochastic_gradient_descent_steps(X, y, batch_size=10, iters=1000):\n",
        "    w0 = np.zeros((1,1))\n",
        "    w1 = np.zeros((1,1))\n",
        "    prev_cost = 100000\n",
        "    iter_index =0\n",
        "\n",
        "    for ind in range(iters):\n",
        "        np.random.seed(ind)\n",
        "        # 전체 X, y 데이터에서 랜덤하게 batch_size만큼 데이터 추출하여 sample_X, sample_y로 저장\n",
        "        stochastic_random_index = np.random.permutation(X.shape[0])\n",
        "        sample_X = X[stochastic_random_index[0:batch_size]]\n",
        "        sample_y = y[stochastic_random_index[0:batch_size]]\n",
        "        # 랜덤하게 batch_size만큼 추출된 데이터 기반으로 w1_update, w0_update 계산 후 업데이트\n",
        "        w1_update, w0_update = get_weight_updates(w1, w0, sample_X, sample_y, learning_rate=0.01)\n",
        "        w1 = w1 - w1_update\n",
        "        w0 = w0 - w0_update\n",
        "\n",
        "    return w1, w0"
      ],
      "execution_count": null,
      "outputs": []
    },
    {
      "cell_type": "code",
      "metadata": {
        "id": "72aHSzH6cDEO",
        "colab": {
          "base_uri": "https://localhost:8080/"
        },
        "outputId": "284f3419-eb8c-433f-b5e8-31a373f2bad3"
      },
      "source": [
        "w1, w0 = stochastic_gradient_descent_steps(X, y, iters=1000)\n",
        "print(\"w1:\",round(w1[0,0],3),\"w0:\",round(w0[0,0],3))\n",
        "y_pred = w1[0,0] * X + w0\n",
        "print('Stochastic Gradient Descent Total Cost:{0:.4f}'.format(get_cost(y, y_pred)))\n",
        ""
      ],
      "execution_count": null,
      "outputs": [
        {
          "output_type": "stream",
          "name": "stdout",
          "text": [
            "w1: 4.028 w0: 6.156\n",
            "Stochastic Gradient Descent Total Cost:0.9937\n"
          ]
        }
      ]
    }
  ]
}