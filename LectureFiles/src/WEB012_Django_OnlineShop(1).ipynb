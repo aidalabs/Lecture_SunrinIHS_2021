{
  "nbformat": 4,
  "nbformat_minor": 0,
  "metadata": {
    "colab": {
      "provenance": []
    },
    "kernelspec": {
      "name": "python3",
      "display_name": "Python 3"
    },
    "language_info": {
      "name": "python"
    }
  },
  "cells": [
    {
      "cell_type": "markdown",
      "source": [
        "# **온라인 상점 구축 프로젝트**"
      ],
      "metadata": {
        "id": "hriOALLKQGqr"
      }
    },
    {
      "cell_type": "markdown",
      "source": [
        "## **1. 환경 구축하기**"
      ],
      "metadata": {
        "id": "yriSyuAVQOuH"
      }
    },
    {
      "cell_type": "markdown",
      "source": [
        "- 가상환경 설정"
      ],
      "metadata": {
        "id": "cBeBor9MTZz4"
      }
    },
    {
      "cell_type": "code",
      "source": [
        "python -m venv myshop\n",
        "cd pystagram\n",
        "source ./bin/activate\n",
        "# Windows의 경우 .\\Scripts\\activate"
      ],
      "metadata": {
        "id": "SqauXRr_TFm8"
      },
      "execution_count": null,
      "outputs": []
    },
    {
      "cell_type": "markdown",
      "source": [
        "- 필수 라이브러리 설치"
      ],
      "metadata": {
        "id": "i1ihBM2e8066"
      }
    },
    {
      "cell_type": "code",
      "source": [
        "pip install -r requirements.txt"
      ],
      "metadata": {
        "id": "vg7CXPO3TfyA"
      },
      "execution_count": null,
      "outputs": []
    },
    {
      "cell_type": "markdown",
      "source": [
        "## **2. 온라인 상점 기반 구축**"
      ],
      "metadata": {
        "id": "Ok0Nid4h86eD"
      }
    },
    {
      "cell_type": "markdown",
      "source": [
        "- 주요 기능\n",
        "    - 제품 카탈로그 만들기 → shop\n",
        "    - 광고 세션을 사용한 쇼핑 카트 구축 → cart\n",
        "    - 고객 주문관리 → order"
      ],
      "metadata": {
        "id": "MsxUmCHrQoJP"
      }
    },
    {
      "cell_type": "markdown",
      "source": [
        "### 2.1 제품 카탈로그 만들기"
      ],
      "metadata": {
        "id": "XeAa5eAH7mkf"
      }
    },
    {
      "cell_type": "markdown",
      "source": [
        "- 온라인 상점(쇼핑몰)은 실제 상품이 진열되는 것이 아니라 제품 카탈로그를 기반으로 구성됨\n",
        "- 즉 제품 카탈로그를 만드는 작업이 온라인 상점의 기본 틀을 만드는 작업과 동일하다고 할 수 있음"
      ],
      "metadata": {
        "id": "g7e6OWcC8Fex"
      }
    },
    {
      "cell_type": "markdown",
      "source": [
        "#### 2.1.1 기초 작업"
      ],
      "metadata": {
        "id": "kXqV0nRJAAVg"
      }
    },
    {
      "cell_type": "markdown",
      "source": [
        "- 프로젝트 생성"
      ],
      "metadata": {
        "id": "C3H4br619Bb8"
      }
    },
    {
      "cell_type": "code",
      "source": [
        "django-admin startproject myshop ."
      ],
      "metadata": {
        "id": "4Dxkr-QlTkXs"
      },
      "execution_count": null,
      "outputs": []
    },
    {
      "cell_type": "markdown",
      "source": [
        "- 앱 생성"
      ],
      "metadata": {
        "id": "l2rYzvS4_Som"
      }
    },
    {
      "cell_type": "code",
      "source": [
        "django-admin startapp shop"
      ],
      "metadata": {
        "id": "QUy7Vrs8TpgW"
      },
      "execution_count": null,
      "outputs": []
    },
    {
      "cell_type": "markdown",
      "source": [
        "- 앱 등록(config/settings.py)"
      ],
      "metadata": {
        "id": "KX9Y25x5TyiI"
      }
    },
    {
      "cell_type": "code",
      "source": [
        "INSTALLED_APPS = [\n",
        "    'django.contrib.admin',\n",
        "    'django.contrib.auth',\n",
        "    'django.contrib.contenttypes',\n",
        "    'django.contrib.sessions',\n",
        "    'django.contrib.messages',\n",
        "    'django.contrib.staticfiles',\n",
        "    'shop.apps.ShopConfig',\n",
        "]"
      ],
      "metadata": {
        "id": "KivDNjyOR8m6"
      },
      "execution_count": null,
      "outputs": []
    },
    {
      "cell_type": "markdown",
      "source": [
        "#### 2.1.2 제품 카탈로그 모델 생성"
      ],
      "metadata": {
        "id": "ZAIq0zjGAD-u"
      }
    },
    {
      "cell_type": "markdown",
      "source": [
        "- 다양한 카테고리의 제품으로 구성됨\n",
        "- 각 제품에는 이름, 설명(선택사항), 이미지(선택사항), 가격, 사용 가능성 등이 포함됨\n"
      ],
      "metadata": {
        "id": "8UsC-0HJALY_"
      }
    },
    {
      "cell_type": "markdown",
      "source": [
        "- shop/models.py"
      ],
      "metadata": {
        "id": "2lWUnmvHBWJQ"
      }
    },
    {
      "cell_type": "code",
      "source": [
        "from django.db import models\n",
        "from django.urls import reverse\n",
        "\n",
        "class Category(models.Model):\n",
        "    name = models.CharField(max_length=200)\n",
        "    slug = models.SlugField(max_length=200, unique=True)\n",
        "\n",
        "    class Meta:\n",
        "        ordering = ['name']\n",
        "        indexes = [\n",
        "            models.Index(fields=['name']),\n",
        "        ]\n",
        "        verbose_name = 'category'\n",
        "        verbose_name_plural = 'categories'\n",
        "\n",
        "    def __str__(self):\n",
        "        return self.name\n",
        "\n",
        "    def get_absolute_url(self):\n",
        "        return reverse('shop:product_list_by_category', args=[self.slug])\n",
        "\n",
        "\n",
        "class Product(models.Model):\n",
        "    category = models.ForeignKey(Category, related_name='products', on_delete=models.CASCADE)\n",
        "    name = models.CharField(max_length=200)\n",
        "    slug = models.SlugField(max_length=200)\n",
        "    image = models.ImageField(upload_to='products/%Y/%m/%d', blank=True)\n",
        "    description = models.TextField(blank=True)\n",
        "    price = models.DecimalField(max_digits=10, decimal_places=2)\n",
        "    available = models.BooleanField(default=True)\n",
        "    created = models.DateTimeField(auto_now_add=True)\n",
        "    updated = models.DateTimeField(auto_now=True)\n",
        "\n",
        "    class Meta:\n",
        "        ordering = ['name']\n",
        "        indexes = [\n",
        "            models.Index(fields=['id', 'slug']),\n",
        "            models.Index(fields=['name']),\n",
        "            models.Index(fields=['-created']),\n",
        "        ]\n",
        "\n",
        "    def __str__(self):\n",
        "        return self.name\n",
        "\n",
        "    def get_absolute_url(self):\n",
        "        return reverse('shop:product_detail', args=[self.id, self.slug])"
      ],
      "metadata": {
        "id": "fAi-6dXxBa4t"
      },
      "execution_count": null,
      "outputs": []
    },
    {
      "cell_type": "markdown",
      "source": [
        "- Terminal"
      ],
      "metadata": {
        "id": "TAA1mF8tHcYC"
      }
    },
    {
      "cell_type": "code",
      "source": [
        "python manage.py makemigrations\n",
        "python manage.py migrate"
      ],
      "metadata": {
        "id": "EEcmbOnfHeNb"
      },
      "execution_count": null,
      "outputs": []
    },
    {
      "cell_type": "markdown",
      "source": [
        "#### 2.1.3 관리사이트(Admin)에 카탈로그 모델 등록하기"
      ],
      "metadata": {
        "id": "aO437h0oGeEO"
      }
    },
    {
      "cell_type": "code",
      "source": [
        "from django.contrib import admin\n",
        "from .models import Category, Product\n",
        "\n",
        "\n",
        "@admin.register(Category)\n",
        "class CategoryAdmin(admin.ModelAdmin):\n",
        "    list_display = ['name', 'slug']\n",
        "    prepopulated_fields = {'slug': ('name',)}\n",
        "\n",
        "\n",
        "@admin.register(Product)\n",
        "class ProductAdmin(admin.ModelAdmin):\n",
        "    list_display = ['name', 'slug', 'price', 'available', 'created', 'updated']\n",
        "    list_filter = ['available', 'created', 'updated']\n",
        "    list_editable = ['price', 'available']\n",
        "    prepopulated_fields = {'slug': ('name',)}"
      ],
      "metadata": {
        "id": "4YaowWhrHDI4"
      },
      "execution_count": null,
      "outputs": []
    },
    {
      "cell_type": "markdown",
      "source": [
        "- Terminal"
      ],
      "metadata": {
        "id": "Lew38hCxHKez"
      }
    },
    {
      "cell_type": "code",
      "source": [
        "python manage.py createsuperuser\n",
        "python manage.py runserver"
      ],
      "metadata": {
        "id": "cRz61qE2HPCS"
      },
      "execution_count": null,
      "outputs": []
    },
    {
      "cell_type": "markdown",
      "source": [
        "#### 2.1.4 카탈로그 뷰 만들기"
      ],
      "metadata": {
        "id": "ByDrGdLdHoYx"
      }
    },
    {
      "cell_type": "markdown",
      "source": [
        "- shop/views.py"
      ],
      "metadata": {
        "id": "BvHlP-8RJMJv"
      }
    },
    {
      "cell_type": "code",
      "source": [
        "from django.shortcuts import render, get_object_or_404\n",
        "from .models import Category, Product\n",
        "\n",
        "\n",
        "def product_list(request, category_slug=None):\n",
        "    category = None\n",
        "    categories = Category.objects.all()\n",
        "    products = Product.objects.filter(available=True)\n",
        "    if category_slug:\n",
        "        category = get_object_or_404(Category, slug=category_slug)\n",
        "        products = products.filter(category=category)\n",
        "\n",
        "    return render(request, 'shop/product/list.html',\n",
        "                  {'category': category, 'categories': categories, 'products': products})\n",
        "\n",
        "\n",
        "def product_detail(request, id, slug):\n",
        "    product = get_object_or_404(Product, id=id, slug=slug, available=True)\n",
        "\n",
        "    return render(request, 'shop/product/detail.html',\n",
        "                  {'product': product})"
      ],
      "metadata": {
        "id": "vlF6lh2nIuDp"
      },
      "execution_count": null,
      "outputs": []
    },
    {
      "cell_type": "markdown",
      "source": [
        "- shop/urls.py"
      ],
      "metadata": {
        "id": "eW3Hz5ivJzbm"
      }
    },
    {
      "cell_type": "code",
      "source": [
        "from django.urls import path\n",
        "from . import views\n",
        "\n",
        "app_name = 'shop'\n",
        "\n",
        "urlpatterns = [\n",
        "    path('', views.product_list, name='product_list'),\n",
        "    path('<slug:category_slug>/', views.product_list, name='product_list_by_category'),\n",
        "    path('<int:id>/<slug:slug>/', views.product_detail, name='product_detail'),\n",
        "]"
      ],
      "metadata": {
        "id": "vACzKtFMJ2Bn"
      },
      "execution_count": null,
      "outputs": []
    },
    {
      "cell_type": "markdown",
      "source": [
        "- myshop/urls.py"
      ],
      "metadata": {
        "id": "yXKoM5m5KKDd"
      }
    },
    {
      "cell_type": "code",
      "source": [
        "from django.contrib import admin\n",
        "from django.urls import path, include\n",
        "\n",
        "\n",
        "urlpatterns = [\n",
        "    path('admin/', admin.site.urls),\n",
        "    path('', include('shop.urls', namespace='shop')),\n",
        "]"
      ],
      "metadata": {
        "id": "8VC2OOM4KNsP"
      },
      "execution_count": null,
      "outputs": []
    },
    {
      "cell_type": "markdown",
      "source": [
        "#### 2.1.5 카탈로그 템플릿 생성하기"
      ],
      "metadata": {
        "id": "0rGd-Dc1NIQW"
      }
    },
    {
      "cell_type": "markdown",
      "source": [
        "- shop/templates/shop/base.html\n",
        "    - 제품 목록 및 상세 페이지용 베이스 템플릿"
      ],
      "metadata": {
        "id": "DgbNmRGAPrzL"
      }
    },
    {
      "cell_type": "code",
      "source": [
        "{% load static %}\n",
        "<!DOCTYPE html>\n",
        "<html>\n",
        "<head>\n",
        "    <meta charset=\"utf-8\" />\n",
        "    <title>{% block title %}My shop{% endblock %}</title>\n",
        "    <link href=\"{% static \"css/base.css\" %}\" rel=\"stylesheet\">\n",
        "</head>\n",
        "<body>\n",
        "    <div id=\"header\">\n",
        "        <a href=\"/\" class=\"logo\">My shop</a>\n",
        "    </div>\n",
        "    <div id=\"subheader\">\n",
        "        <div class=\"cart\">\n",
        "            {% with total_items=cart|length %}\n",
        "                {% if total_items > 0 %}\n",
        "                    Your cart:\n",
        "                    <a href=\"{% url \"cart:cart_detail\" %}\">\n",
        "                        {{ total_items }} item{{ total_items|pluralize }},\n",
        "                        ${{ cart.get_total_price }}\n",
        "                    </a>\n",
        "                {% elif not order %}\n",
        "                    Your cart is empty.\n",
        "                {% endif %}\n",
        "            {% endwith %}\n",
        "        </div>\n",
        "    </div>\n",
        "    <div id=\"content\">\n",
        "        {% block content %}\n",
        "        {% endblock %}\n",
        "    </div>\n",
        "</body>\n",
        "</html>"
      ],
      "metadata": {
        "id": "uuHjNp02P0tB"
      },
      "execution_count": null,
      "outputs": []
    },
    {
      "cell_type": "markdown",
      "source": [
        "- shop/product/list.html\n",
        "    - 제품 목록 템플릿"
      ],
      "metadata": {
        "id": "tt_A1iQfRlrW"
      }
    },
    {
      "cell_type": "code",
      "source": [
        "{% extends \"shop/base.html\" %}\n",
        "{% load static %}\n",
        "\n",
        "{% block title %}\n",
        "  {% if category %}{{ category.name }}{% else %}Products{% endif %}\n",
        "{% endblock %}\n",
        "\n",
        "{% block content %}\n",
        "  <div id=\"sidebar\">\n",
        "    <h3>Categories</h3>\n",
        "    <ul>\n",
        "      <li {% if not category %}class=\"selected\"{% endif %}>\n",
        "        <a href=\"{% url \"shop:product_list\" %}\">All</a>\n",
        "      </li>\n",
        "      {% for c in categories %}\n",
        "        <li {% if category.slug == c.slug %}class=\"selected\"{% endif %}>\n",
        "          <a href=\"{{ c.get_absolute_url }}\">{{ c.name }}</a>\n",
        "        </li>\n",
        "      {% endfor %}\n",
        "    </ul>\n",
        "  </div>\n",
        "  <div id=\"main\" class=\"product-list\">\n",
        "    <h1>{% if category %}{{ category.name }}{% else %}Products{% endif %}</h1>\n",
        "    {% for product in products %}\n",
        "      <div class=\"item\">\n",
        "        <a href=\"{{ product.get_absolute_url }}\">\n",
        "          <img src=\"{% if product.image %}{{ product.image.url }}{% else %}{% static \"img/no_image.png\" %}{% endif %}\">\n",
        "        </a>\n",
        "        <a href=\"{{ product.get_absolute_url }}\">{{ product.name }}</a>\n",
        "        <br>\n",
        "        ${{ product.price }}\n",
        "      </div>\n",
        "    {% endfor %}\n",
        "  </div>\n",
        "{% endblock %}"
      ],
      "metadata": {
        "id": "QWZ5OskfRu80"
      },
      "execution_count": null,
      "outputs": []
    },
    {
      "cell_type": "markdown",
      "source": [
        "- myshop/settings.py"
      ],
      "metadata": {
        "id": "XjRpiC7v-rLR"
      }
    },
    {
      "cell_type": "code",
      "source": [
        "MEDIA_URL = 'media/'\n",
        "MEDIA_ROOT = BASE_DIR / 'media'"
      ],
      "metadata": {
        "id": "FiwagVYT-xvs"
      },
      "execution_count": null,
      "outputs": []
    },
    {
      "cell_type": "markdown",
      "source": [
        "- myshop/urls.py"
      ],
      "metadata": {
        "id": "_Q4LaH_B-6lD"
      }
    },
    {
      "cell_type": "code",
      "source": [
        "from django.contrib import admin\n",
        "from django.urls import path, include\n",
        "from django.conf import settings\n",
        "from django.conf.urls.static import static\n",
        "\n",
        "\n",
        "urlpatterns = [\n",
        "    path('admin/', admin.site.urls),\n",
        "    path('', include('shop.urls', namespace='shop')),\n",
        "]\n",
        "\n",
        "if settings.DEBUG:\n",
        "    urlpatterns += static(settings.MEDIA_URL, document_root=settings.MEDIA_ROOT)"
      ],
      "metadata": {
        "id": "faQEbYg---Wi"
      },
      "execution_count": null,
      "outputs": []
    },
    {
      "cell_type": "markdown",
      "source": [
        "- shop/product/detail.html"
      ],
      "metadata": {
        "id": "ueWDSxep_a81"
      }
    },
    {
      "cell_type": "code",
      "source": [
        "{% extends \"shop/base.html\" %}\n",
        "{% load static %}\n",
        "\n",
        "{% block title %}\n",
        "  {{ product.name }}\n",
        "{% endblock %}\n",
        "{% block content %}\n",
        "  <div class=\"product-detail\">\n",
        "    <img src=\"{% if product.image %}{{ product.image.url }}{% else %}\n",
        "    {% static \"img/no_image.png\" %}{% endif %}\">\n",
        "    <h1>{{ product.name }}</h1>\n",
        "    <h2>\n",
        "      <a href=\"{{ product.category.get_absolute_url }}\">\n",
        "        {{ product.category }}\n",
        "      </a>\n",
        "    </h2>\n",
        "    <p class=\"price\">${{ product.price }}</p>\n",
        "    {{ product.description|linebreaks }}\n",
        "  </div>\n",
        "{% endblock %}"
      ],
      "metadata": {
        "id": "y-kBxZaG_kys"
      },
      "execution_count": null,
      "outputs": []
    },
    {
      "cell_type": "markdown",
      "source": [
        "### 2.2. 쇼핑 카트 만들기"
      ],
      "metadata": {
        "id": "VJNoQSPfQUg7"
      }
    },
    {
      "cell_type": "markdown",
      "source": [
        "- 제품 카탈로그를 기반으로 사용자가 구매하려는 제품을 선택할 수 있도록 쇼핑 카트(장바구니) 만들기\n",
        "- 장바구니를 사용하면 사용자가 사이트를 탐색하는 동안 최종 주문이 이루어질 때까지 제품을 선택하고 주문한 금액을 설정한 정보를 임시로 저장할 수 있음\n",
        "- 사용자가 방문하는 동안, 카트 항목이 유지되도록 카트는 세션에서 유지되어야 함"
      ],
      "metadata": {
        "id": "ykpKwlzWCsev"
      }
    },
    {
      "cell_type": "markdown",
      "source": [
        "#### 2.2.1 세션"
      ],
      "metadata": {
        "id": "0B_ozIM2AK18"
      }
    },
    {
      "cell_type": "markdown",
      "source": [
        "- 세션(Session)\n",
        "    - 일정 시간 동안 같은 사용자(브라우저)로부터 들어오는 일련의 요구를 하나의 상태로 보고, 그 상태를 유지시키는 기술\n",
        "    - 일정 시간: 방문자가 웹 브라우저를 통해 웹 서버에 접속한 시점부터 웹 브라우저를 종료하여 연결을 끝내는 시점까지를 가리킴\n",
        "    - 즉, 방문자가 웹 서버에 접속해 있는 상태를 하나의 단위로 보고 그것을 세션이라고 함\n",
        "    <br><br>\n",
        "- 세션의 특징\n",
        "    - 웹 서버에 웹 컨테이너의 상태를 유지하기 위한 정보를 저장\n",
        "    - 웹 서버에 저장되는 쿠키(=세션 쿠키)\n",
        "    - 브라우저를 닫거나, 서버에서 세션을 삭제했을 때만 삭제가 되므로, 쿠키보다 비교적 보안성이 좋음\n",
        "    - 저장 데이터에 제한이 없음(서버 용량이 허용하는 한에서)\n",
        "    - 각 클라이언트에 고유 Session ID를 부여하고 Session ID로 클라이언트를 구분해 각 요구에 맞는 서비스를 제공\n",
        "    <br><br>\n",
        "    - 세션과 쿠키\n",
        "        - 서로 유사한 역할은 수행하는 기술\n",
        "        - 세션은 서버의 자원을 사용하며 쿠키는 클라이언트의 자원을 사용함\n",
        "    <br><br>\n",
        "- 세션의 동작 순서\n",
        "    - 클라이언트가 페이지에 요청\n",
        "    - 서버는 접근한 클라이언트의 Request-Header 필드인 Cookie를 확인하여, 클라이언트가 해당 session-id를 보냈는지 확인\n",
        "    - session-id가 존재하지 않는다면 서버는 session-id를 생성해 클라이언트에게 전달\n",
        "    - 클라이언트는 서버로부터 받은 session-id를 쿠키에 저장\n",
        "    - 클라이언트는 서버에 요청시 이 쿠키의 session-id 값을 같이 서버에 전달\n",
        "    - 서버는 전달받은 session-id로 session에 있는 클라이언트 정보를 가지고 요청을 처리 후 응답\n",
        "    <br><br>\n",
        "- 사용 예시\n",
        "    - 화면을 이동해도 로그인이 풀리지 않고 로그아웃하기 전까지 유지"
      ],
      "metadata": {
        "id": "QsQgiJ4qDRrD"
      }
    },
    {
      "cell_type": "markdown",
      "source": [
        "#### 2.2.2 장고 세션 프레임워크"
      ],
      "metadata": {
        "id": "ceKN-_epEuOT"
      }
    },
    {
      "cell_type": "markdown",
      "source": [
        "- 장고 세션 프레임워크\n",
        "    - 익명 세션과 사용자 세션 지원\n",
        "    - 세션 프레임워크를 통해 각 방문자의 데이터를 저장할 수 있음\n",
        "\n",
        "- 장고 세션 미들웨어\n",
        "    - 쿠키의 송수신을 관리함\n",
        "\n",
        "- 기본 세션엔진\n",
        "    - 세션 데이터를 데이터베이스에 저장\n",
        "    - 요구에 따라 다른 세션 엔진을 선택할 수 있음\n",
        "<br><br>\n",
        "- 장고 세션의 사용\n",
        "    - 프로젝트의 settings.py에서 MIDDLEWARE 설정에 'django.contrib.sessions.middleware.SessionMiddleware' 포함여부 확인\n",
        "    - request.session을 사용하여 현재 세션에 접근 가능\n",
        "    - 세션 데이터를 저장하고 검색할 때에는 파이썬의 딕셔너리처럼 취급함\n",
        "    - 세션 딕셔너리는 기본적으로 JSON으로 직렬화할 수 있는 모든 파이썬 객체를 허용함\n",
        "    ```\n",
        "    # 세션 변수 설정\n",
        "    request.session['foo'] = 'bar'\n",
        "\n",
        "    # 세션 키 조회\n",
        "    request.session.get['foo']\n",
        "\n",
        "    # 세션에 저장한 키 삭제\n",
        "    del request.session['foo']\n",
        "    ```"
      ],
      "metadata": {
        "id": "YcW0JVcZA9rD"
      }
    },
    {
      "cell_type": "markdown",
      "source": [
        "#### 2.2.3 세션 설정\n"
      ],
      "metadata": {
        "id": "X1zutcAMF0KD"
      }
    },
    {
      "cell_type": "markdown",
      "source": [
        "- 세션 설정\n",
        "    - 세션 구성에 사용되는 설정\n",
        "    - 가장 중요한 것은 SESSION_ENGINE: 세션이 저장되는 위치를 설정할 수 있음\n",
        "    - 장고의 기본 세션 모델: django.contrib.sessions\n",
        "    - 장고 세션의 옵션\n",
        "        - 데이터베이스 세션: 기본 세션 엔진. 세션 데이터가 데이터베이스에 저장됨\n",
        "        - 파일 기반 세션\n",
        "        - 캐시기반 세션\n",
        "        - 캐시 데이터베이스 세션\n",
        "        - 쿠키 기반 세션\n",
        "\n",
        "- 세션 커스터마이징을 위한 설정들\n",
        "    - SESSION_COOKIE_AGE\n",
        "        - 세션 쿠키의 유효기간(초). 기본 값은 1209600(2주일)\n",
        "    - SESSION_COOKIE_DOMAIN\n",
        "        - 세션 쿠키에 사용되는 도메인\n",
        "            - 크로스 도메인 쿠키 사용: mydomain.com으로 설정\n",
        "            - 표준 도메인 쿠키 사용: None으로 설정\n",
        "    - SESSION_COOKIE_HTTPONLY\n",
        "        - 세션 쿠키에 HttpOnly 플래그 사용 여부 지정\n",
        "        - True로 설정하면 클라이언트의 자바스크립트에서 세션 쿠키에 접근할 수 없음\n",
        "        - 기본 값은 True: 사용자 세션 탈취(Hijacking)에 대한 보안 강화 목적\n",
        "    - SESSION_COOKIE_SECURE\n",
        "        - HTTPS 연결인 경우에만 쿠키를 전송할 수 있음\n",
        "        - 기본 값은 False\n",
        "    - SESSION_EXPIRE_AT_BROWSER_CLOSE\n",
        "        - 브라우저를 닫을 때 세션을 만료해야 함\n",
        "        - 기본 값은 False\n",
        "    - SESSION_SAVE_EVERY_REQUEST\n",
        "        - True인 경우, 요청할 때마다 세션을 데이터베이스에 저장\n",
        "        - 세션이 저장될 때마다 세션 만료 시점도 갱신됨\n",
        "        - 기본 값은 False\n"
      ],
      "metadata": {
        "id": "oLmMVZukGA5i"
      }
    },
    {
      "cell_type": "markdown",
      "source": [
        "#### 2.2.4 세션 만료"
      ],
      "metadata": {
        "id": "a2no8cxyM7dX"
      }
    },
    {
      "cell_type": "markdown",
      "source": [
        "- SESSION_EXPIRE_AT_BROWSER_CLOSE\n",
        "    - 설정의 사용으로 브라우저 기간 세션 또는 영구 세션의 사용을 설정할 수 있음\n",
        "    - SESSION_COOKIE_AGE\n",
        "    - 기본 값은 False\n",
        "        - False: 세션 지속 시간을 SESSION_COOKIE_AGE에 설정된 값으로 강제 설정\n",
        "        - True: 사용자가 브라우저를 닫을 때 세션이 만료되며 SESSION_COOKIE_AGE 설정은 무시됨\n",
        "- request.session.set_expiry() 메서드를 사용하여 현재 세션의 기간을 덮어쓸 수 있음\n"
      ],
      "metadata": {
        "id": "HTF_Y2GaM-5a"
      }
    },
    {
      "cell_type": "markdown",
      "source": [
        "#### 2.2.5 세션에 쇼핑 카트 저장하기"
      ],
      "metadata": {
        "id": "hp8g0dgmSWDV"
      }
    },
    {
      "cell_type": "markdown",
      "source": [
        "- 세션에 카트 아이템들을 저장하려면 JSON으로 직렬화할 수 있는 간단한 구조를 만들어야 함\n",
        "    1. 카트에는 카트에 포함된 각 품목에 대한 다음의 데이터가 포함되어야 함\n",
        "        - Product 인스턴스의 ID\n",
        "        - 선택한 제품의 수량\n",
        "        - 제품의 단가\n",
        "    2. 쇼핑 카트 생성\n",
        "    3. 쇼핑 카트와 세션의 연결 기능 구축\n",
        "        - 카트가 필요한 경우 사용자의 세션키가 설정되어 있는지 체크\n",
        "            - 설정된 키가 없을 경우 새로운 카트를 생성하고 카트 세션 키에 저장\n",
        "        - 이후 요청 시 동일한 확인을 수행해서 카트 세션 키에서 카트 아이템들을 가져옴\n",
        "        - 세션에서 카트 아이템들을 조회\n",
        "        - 관련 Product 객체들을 데이터베이스에서 조회"
      ],
      "metadata": {
        "id": "KRmyYyFtSbM-"
      }
    },
    {
      "cell_type": "markdown",
      "source": [
        "- myshop/settings.py"
      ],
      "metadata": {
        "id": "yXnoGjSyT7Ij"
      }
    },
    {
      "cell_type": "code",
      "source": [
        "CART_SESSION_ID = 'cart'"
      ],
      "metadata": {
        "id": "fPhFHINjQYFt"
      },
      "execution_count": null,
      "outputs": []
    },
    {
      "cell_type": "markdown",
      "source": [
        "- Terminal\n",
        "    - cart 앱 생성"
      ],
      "metadata": {
        "id": "7xtSrljGT7sr"
      }
    },
    {
      "cell_type": "code",
      "source": [
        "python manage.py startapp cart"
      ],
      "metadata": {
        "id": "33K7b8qRT8CP"
      },
      "execution_count": null,
      "outputs": []
    },
    {
      "cell_type": "markdown",
      "source": [
        "- myshop/settings.py"
      ],
      "metadata": {
        "id": "1hCaFZMgUS51"
      }
    },
    {
      "cell_type": "code",
      "source": [
        "INSTALLED_APPS = [\n",
        "    ...\n",
        "    'shop.apps.ShopConfig',\n",
        "    'cart.apps.CartConfig',\n",
        "]"
      ],
      "metadata": {
        "id": "8gQ5ihMmUS6C"
      },
      "execution_count": null,
      "outputs": []
    },
    {
      "cell_type": "markdown",
      "source": [
        "- cart/cart.py\n",
        "    - 카트 초기화를 위한 __ init__() 정의\n",
        "    - 카트에 아이템을 추가하기 위한 add(), save() 정의\n",
        "        - add()의 매개변수\n",
        "            - product: 카트에 추가하거나 업데이트할 제품의 인스턴스\n",
        "            - quantity: 제품의 수량. 기본 값은 1\n",
        "            - override_quantity: 지정된 수량으로 수량을 재정의해야 하는지(True) 또는 기존 수량에 새로운 수량을 추가해야 하는지(False)를 나타내는 Boolean 값\n",
        "    - 카트의 아이템을 제거하기 위한 remove() 정의"
      ],
      "metadata": {
        "id": "YSBNAkcwVXdn"
      }
    },
    {
      "cell_type": "code",
      "source": [
        "from decimal import Decimal\n",
        "from django.conf import settings\n",
        "from shop.models import Product\n",
        "\n",
        "class Cart:\n",
        "    def __init__(self, request):\n",
        "        self.session = request.session\n",
        "        cart = self.session.get(settings.CART_SESSION_ID)\n",
        "        if not cart:\n",
        "            cart = self.session[settings.CART_SESSION_ID] = {}\n",
        "        self.cart = cart\n",
        "\n",
        "    def add(self, product, quantity=1, override_quantity=False):\n",
        "        product_id = str(product.id)\n",
        "        if product_id not in self.cart:\n",
        "            self.cart[product_id] = {'quantity': 0, 'price': str(product.price)}\n",
        "        if override_quantity:\n",
        "            self.cart[product_id]['quantity'] = quantity\n",
        "        else:\n",
        "            self.cart[product_id]['quantity'] += quantity\n",
        "        self.save()\n",
        "\n",
        "    def save(self):\n",
        "        self.session.modified = True\n",
        "\n",
        "    def remove(self, product):\n",
        "        product_id = str(product.id)\n",
        "        if product_id in self.cart:\n",
        "            del self.cart[product_id]\n",
        "            self.save()"
      ],
      "metadata": {
        "id": "ZuC_5KlNVbl4"
      },
      "execution_count": null,
      "outputs": []
    },
    {
      "cell_type": "markdown",
      "source": [
        "- cart/cart.py\n",
        "    - 카트에 포함된 아이템들을 반복해서 관련 Product 인스턴스에 접근해야 함. 이를 위해서 __ iter__()정의\n",
        "    - 카트에 포함된 아이템들의 총 수를 반환하기 위하여 __ len__() 정의"
      ],
      "metadata": {
        "id": "JLi_7q38WrqD"
      }
    },
    {
      "cell_type": "code",
      "source": [
        "    def __iter__(self):\n",
        "        product_ids = self.cart.keys()\n",
        "        # get the product objects and add them to the cart\n",
        "        products = Product.objects.filter(id__in=product_ids)\n",
        "        cart = self.cart.copy()\n",
        "        for product in products:\n",
        "            cart[str(product.id)]['product'] = product\n",
        "        for item in cart.values():\n",
        "            item['price'] = Decimal(item['price'])\n",
        "            item['total_price'] = item['price'] * item['quantity']\n",
        "            yield item\n",
        "\n",
        "    def __len__(self):\n",
        "        return sum(item['quantity'] for item in self.cart.values())"
      ],
      "metadata": {
        "id": "LknRNxzzXwRi"
      },
      "execution_count": null,
      "outputs": []
    },
    {
      "cell_type": "markdown",
      "source": [
        "- cart/cart.py\n",
        "    - 모든 카트 아이템들의 수량의 합을 반환하기 위하여 get_total_price() 정의\n",
        "    - 카트 세션을 지우기 위한 clear() 정의"
      ],
      "metadata": {
        "id": "MZLzkSjSat48"
      }
    },
    {
      "cell_type": "code",
      "source": [
        "    def get_total_price(self):\n",
        "        return sum(Decimal(item['price']) * item['quantity'] for item in self.cart.values())\n",
        "\n",
        "    def clear(self):\n",
        "        # remove cart from session\n",
        "        del self.session[settings.CART_SESSION_ID]\n",
        "        self.save()"
      ],
      "metadata": {
        "id": "LGcsPYpabCq3"
      },
      "execution_count": null,
      "outputs": []
    },
    {
      "cell_type": "markdown",
      "source": [
        "#### 2.2.6 카트 관련 뷰 만들기"
      ],
      "metadata": {
        "id": "O6veqlgrbJMO"
      }
    },
    {
      "cell_type": "markdown",
      "source": [
        "- cart/forms.py\n",
        "    - 카트에 아이템 추가하기"
      ],
      "metadata": {
        "id": "pYFuAWvjbPRn"
      }
    },
    {
      "cell_type": "code",
      "source": [
        "from django import forms\n",
        "\n",
        "\n",
        "PRODUCT_QUANTITY_CHOICES = [(i, str(i)) for i in range(1, 21)]\n",
        "\n",
        "\n",
        "class CartAddProductForm(forms.Form):\n",
        "    quantity = forms.TypedChoiceField(\n",
        "                                choices=PRODUCT_QUANTITY_CHOICES,\n",
        "                                coerce=int)\n",
        "    override = forms.BooleanField(required=False,\n",
        "                                  initial=False,\n",
        "                                  widget=forms.HiddenInput)"
      ],
      "metadata": {
        "id": "C7swKnUKbX6I"
      },
      "execution_count": null,
      "outputs": []
    },
    {
      "cell_type": "markdown",
      "source": [
        "- cart/views.py"
      ],
      "metadata": {
        "id": "7iFZH2sIbPOr"
      }
    },
    {
      "cell_type": "code",
      "source": [
        "from django.shortcuts import render, redirect, get_object_or_404\n",
        "from django.views.decorators.http import require_POST\n",
        "from shop.models import Product\n",
        "from .cart import Cart\n",
        "from .forms import CartAddProductForm\n",
        "\n",
        "\n",
        "@require_POST\n",
        "def cart_add(request, product_id):\n",
        "    cart = Cart(request)\n",
        "    product = get_object_or_404(Product, id=product_id)\n",
        "    form = CartAddProductForm(request.POST)\n",
        "    if form.is_valid():\n",
        "        cd = form.cleaned_data\n",
        "        cart.add(product=product,\n",
        "                 quantity=cd['quantity'],\n",
        "                 override_quantity=cd['override'])\n",
        "    return redirect('cart:cart_detail')\n",
        "\n",
        "\n",
        "@require_POST\n",
        "def cart_remove(request, product_id):\n",
        "    cart = Cart(request)\n",
        "    product = get_object_or_404(Product, id=product_id)\n",
        "    cart.remove(product)\n",
        "    return redirect('cart:cart_detail')\n",
        "\n",
        "\n",
        "def cart_detail(request):\n",
        "    cart = Cart(request)\n",
        "    for item in cart:\n",
        "        item['update_quantity_form'] = CartAddProductForm(initial={\n",
        "                            'quantity': item['quantity'],\n",
        "                            'override': True})\n",
        "    return render(request, 'cart/detail.html', {'cart': cart})"
      ],
      "metadata": {
        "id": "6-95cl4Kbgof"
      },
      "execution_count": null,
      "outputs": []
    },
    {
      "cell_type": "markdown",
      "source": [
        "- cart/urls.py"
      ],
      "metadata": {
        "id": "_9iRDf1Nbm4T"
      }
    },
    {
      "cell_type": "code",
      "source": [
        "from django.urls import path\n",
        "from . import views\n",
        "\n",
        "app_name = 'cart'\n",
        "\n",
        "urlpatterns = [\n",
        "    path('', views.cart_detail, name='cart_detail'),\n",
        "    path('add/<int:product_id>/', views.cart_add, name='cart_add'),\n",
        "    path('remove/<int:product_id>/', views.cart_remove, name='cart_remove'),\n",
        "]"
      ],
      "metadata": {
        "id": "-IpvZ8sQbqyL"
      },
      "execution_count": null,
      "outputs": []
    },
    {
      "cell_type": "markdown",
      "source": [
        "- cart/templates/cart/detail.html\n",
        "    - 카트를 표시하기 위한 템플릿 작성"
      ],
      "metadata": {
        "id": "auuWp2TDb22M"
      }
    },
    {
      "cell_type": "code",
      "source": [
        "{% extends \"shop/base.html\" %}\n",
        "{% load static %}\n",
        "\n",
        "{% block title %}\n",
        "  Your shopping cart\n",
        "{% endblock %}\n",
        "\n",
        "{% block content %}\n",
        "  <h1>Your shopping cart</h1>\n",
        "  <table class=\"cart\">\n",
        "    <thead>\n",
        "      <tr>\n",
        "        <th>Image</th>\n",
        "        <th>Product</th>\n",
        "        <th>Quantity</th>\n",
        "        <th>Remove</th>\n",
        "        <th>Unit price</th>\n",
        "        <th>Price</th>\n",
        "      </tr>\n",
        "    </thead>\n",
        "    <tbody>\n",
        "      {% for item in cart %}\n",
        "        {% with product=item.product %}\n",
        "          <tr>\n",
        "            <td>\n",
        "              <a href=\"{{ product.get_absolute_url }}\">\n",
        "                <img src=\"{% if product.image %}{{ product.image.url }}\n",
        "                {% else %}{% static \"img/no_image.png\" %}{% endif %}\">\n",
        "              </a>\n",
        "            </td>\n",
        "            <td>{{ product.name }}</td>\n",
        "            <td>{{ item.quantity}}</td>\n",
        "            <td>\n",
        "              <form action=\"{% url \"cart:cart_remove\" product.id %}\" method=\"post\">\n",
        "                <input type=\"submit\" value=\"Remove\">\n",
        "                {% csrf_token %}\n",
        "              </form>\n",
        "            </td>\n",
        "            <td class=\"num\">${{ item.price }}</td>\n",
        "            <td class=\"num\">${{ item.total_price }}</td>\n",
        "          </tr>\n",
        "        {% endwith %}\n",
        "      {% endfor %}\n",
        "      <tr class=\"total\">\n",
        "        <td>Total</td>\n",
        "        <td colspan=\"4\"></td>\n",
        "        <td class=\"num\">${{ cart.get_total_price }}</td>\n",
        "      </tr>\n",
        "    </tbody>\n",
        "  </table>\n",
        "  <p class=\"text-right\">\n",
        "    <a href=\"{% url \"shop:product_list\" %}\" class=\"button\n",
        "    light\">Continue shopping</a>\n",
        "    <a href=\"{% url \"orders:order_create\" %}\" class=\"button\">Checkout</a>\n",
        "  </p>\n",
        "{% endblock %}"
      ],
      "metadata": {
        "id": "eXCapu6WcAj3"
      },
      "execution_count": null,
      "outputs": []
    },
    {
      "cell_type": "markdown",
      "source": [
        "- shop/views.py\n",
        "    - 카트에 제품 추가하기"
      ],
      "metadata": {
        "id": "q2nFl5GicEn3"
      }
    },
    {
      "cell_type": "code",
      "source": [
        "from cart.forms import CartAddProductForm\n",
        "\n",
        "...\n",
        "def product_detail(request, id, slug):\n",
        "    product = get_object_or_404(Product, id=id, slug=slug, available=True)\n",
        "    cart_product_form = CartAddProductForm()\n",
        "    return render(request,\n",
        "                  'shop/product/detail.html',\n",
        "                  {'product': product,\n",
        "                   'cart_product_form': cart_product_form})"
      ],
      "metadata": {
        "id": "4Noo6TRdcVSc"
      },
      "execution_count": null,
      "outputs": []
    },
    {
      "cell_type": "markdown",
      "source": [
        "- shop/templates/shop/product/detail.html"
      ],
      "metadata": {
        "id": "kI7hDWn1cfVE"
      }
    },
    {
      "cell_type": "code",
      "source": [
        "...\n",
        "    <p class=\"price\">${{ product.price }}</p>\n",
        "    <form action=\"{% url \"cart:cart_add\" product.id %}\" method=\"post\">\n",
        "      {{ cart_product_form }}\n",
        "      {% csrf_token %}\n",
        "      <input type=\"submit\" value=\"Add to cart\">\n",
        "    </form>\n",
        "    {{ product.description|linebreaks }}\n",
        "..."
      ],
      "metadata": {
        "id": "TJxm60_lcnGb"
      },
      "execution_count": null,
      "outputs": []
    },
    {
      "cell_type": "markdown",
      "source": [
        "- cart/views.py\n",
        "    - 카트에 제품 수량 업데이트하기"
      ],
      "metadata": {
        "id": "JHeDGlrdc2FA"
      }
    },
    {
      "cell_type": "code",
      "source": [
        "...\n",
        "def cart_detail(request):\n",
        "    cart = Cart(request)\n",
        "    for item in cart:\n",
        "        item['update_quantity_form'] = CartAddProductForm(initial={\n",
        "                            'quantity': item['quantity'],\n",
        "                            'override': True})\n",
        "    return render(request, 'cart/detail.html', {'cart': cart})"
      ],
      "metadata": {
        "id": "UBRsQuXJc8hQ"
      },
      "execution_count": null,
      "outputs": []
    },
    {
      "cell_type": "markdown",
      "source": [
        "- cart/templates/cart/detail.html"
      ],
      "metadata": {
        "id": "ptwpwB0gdFv4"
      }
    },
    {
      "cell_type": "code",
      "source": [
        "# <td>{{ item.quantity}}</td>를 찾아서 수정\n",
        "...\n",
        "<td>\n",
        "    <form action=\"{% url \"cart:cart_add\" product.id %}\" method=\"post\">\n",
        "    {{ item.update_quantity_form.quantity }}\n",
        "    {{ item.update_quantity_form.override }}\n",
        "    <input type=\"submit\" value=\"Update\">\n",
        "    {% csrf_token %}\n",
        "    </form>\n",
        "</td>\n",
        "..."
      ],
      "metadata": {
        "id": "pSifVezMdUKZ"
      },
      "execution_count": null,
      "outputs": []
    },
    {
      "cell_type": "code",
      "source": [
        "from django.shortcuts import render, redirect, get_object_or_404\n",
        "from django.views.decorators.http import require_POST\n",
        "from shop.models import Product\n",
        "from .cart import Cart\n",
        "from .forms import CartAddProductForm\n",
        "\n",
        "\n",
        "@require_POST\n",
        "def cart_add(request, product_id):\n",
        "    cart = Cart(request)\n",
        "    product = get_object_or_404(Product, id=product_id)\n",
        "    form = CartAddProductForm(request.POST)\n",
        "    if form.is_valid():\n",
        "        cd = form.cleaned_data\n",
        "        cart.add(product=product,\n",
        "                 quantity=cd['quantity'],\n",
        "                 override_quantity=cd['override'])\n",
        "    return redirect('cart:cart_detail')\n",
        "\n",
        "\n",
        "@require_POST\n",
        "def cart_remove(request, product_id):\n",
        "    cart = Cart(request)\n",
        "    product = get_object_or_404(Product, id=product_id)\n",
        "    cart.remove(product)\n",
        "    return redirect('cart:cart_detail')\n",
        "\n",
        "\n",
        "def cart_detail(request):\n",
        "    cart = Cart(request)\n",
        "    for item in cart:\n",
        "        item['update_quantity_form'] = CartAddProductForm(initial={\n",
        "                            'quantity': item['quantity'],\n",
        "                            'override': True})\n",
        "    return render(request, 'cart/detail.html', {'cart': cart})"
      ],
      "metadata": {
        "id": "36zX-VNOcJ5y"
      },
      "execution_count": null,
      "outputs": []
    },
    {
      "cell_type": "markdown",
      "source": [
        "#### 2.2.7 현재 카트에 대한 콘텍스트 프로세스 생성하기"
      ],
      "metadata": {
        "id": "l9FUvW5KdxFc"
      }
    },
    {
      "cell_type": "markdown",
      "source": [
        "### 2.3 고객 주문 등록하기"
      ],
      "metadata": {
        "id": "d1vi9p0EQYjx"
      }
    },
    {
      "cell_type": "code",
      "source": [],
      "metadata": {
        "id": "hhXIGtDHQcBf"
      },
      "execution_count": null,
      "outputs": []
    },
    {
      "cell_type": "markdown",
      "source": [
        "## **3. 비동기 작업**"
      ],
      "metadata": {
        "id": "kL2s2hlaQcd-"
      }
    },
    {
      "cell_type": "code",
      "source": [],
      "metadata": {
        "id": "0tpxJ6aYQfOC"
      },
      "execution_count": null,
      "outputs": []
    }
  ]
}